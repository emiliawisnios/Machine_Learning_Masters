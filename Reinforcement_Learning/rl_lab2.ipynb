{
  "nbformat": 4,
  "nbformat_minor": 0,
  "metadata": {
    "colab": {
      "name": "Kopia notatnika Lab 02: Linear-Quadratic Regulator (with gaps)",
      "provenance": [],
      "collapsed_sections": []
    },
    "kernelspec": {
      "name": "python3",
      "display_name": "Python 3"
    },
    "language_info": {
      "name": "python"
    }
  },
  "cells": [
    {
      "cell_type": "markdown",
      "metadata": {
        "id": "vL6zGhmSvfWY"
      },
      "source": [
        "# Lab 02: Linear-Quadratic Regulator\n",
        "\n",
        "This lab looks into solving a Linear-Quadratic Regulator (LQR) problem\n",
        "- Given the dynamics (model) $x_{t+1} = Ax_t + Bu_t$ of the state $x_t$ at each time $t$, the initial state $x^\\text{init}$, and the time-horizon $T$, choose inputs $u_1, ..., u_{T-1}$, so that you minimize energy while driving state to the origin. Roughly speeking:\n",
        "    - A state $x$ shall be small i.e. we get good regulation or control.\n",
        "    - An input $u$ shall be small i.e. using small input effort or actuator force.\n",
        "- In mathematic notation:\n",
        "\n",
        "  $$\\begin{aligned}\n",
        "  \\text{minimize}&\\;\\;\\; \\sum^{T}_{t=2} x_t^\\top Q x_t + \\sum^{T-1}_{t=1} u_t^\\top R u_t \\\\\n",
        "  \\text{subject to}&\\;\\;\\; x_1 = x^\\text{init}, \\;\\; x_{t+1} = Ax_t + Bu_t, \\;\\; t = 1, ..., T-1\n",
        "  \\end{aligned}$$\n",
        "\n",
        "\n",
        "- The objective is minimized for $x = 0$, some desired (equilibrium/target) state, and no input $u = 0$.\n",
        "- Assumptions: $Q$ and $R$ are symmetric and positively-defined, $Q \\succ 0, R \\succ 0$.\n",
        "\n",
        "We will look at it from three different perspectives:\n",
        "1. LQR can be formulated and solved as the linearly constrained least-squares problem.\n",
        "2. Dynamic programming gives an efficient, recursive method to solve the LQR problem.\n",
        "3. The generic optimal control problem can be solved by iteratively approximating it as the LQR problem (iterative LQR or iLQR) <- **Challange!**\n",
        "\n",
        "The point is to give you a taste of differentiable classical control methods."
      ]
    },
    {
      "cell_type": "markdown",
      "metadata": {
        "id": "lxnx5Am14Pf_"
      },
      "source": [
        "## A vehicle moving in a plane\n",
        "\n",
        "Our toy problem will be a vehicle moving in a plane\n",
        "- Discretize the system at times $\\tau = 0, h, 2h, ...$\n",
        "- The state is 4D-vector $x_t = (p_t, v_t)$, where 2D-vectors $p_t$ and $v_t$ are the position and the velocity at time $ht$.\n",
        "- The input is 2D-vector $u_t$ representing the applied force on the vehicle at time $ht$.\n",
        "- The friction force is $- \\eta v_t$ and the vehicle mass is $m$.\n",
        "\n",
        "From classical mechanics, for small $h$, we have\n",
        "\n",
        "$$\\begin{align}\n",
        "F_R = - \\eta v_t + u_t \\approx m\\frac{v_{t+1} - v_t}{h}, &&\n",
        "v_t \\approx \\frac{p_{t+1} - p_t}{h}\n",
        "\\end{align}$$\n",
        "\n",
        "which we transform to get the approximate state update\n",
        "\n",
        "$$\\begin{align}\n",
        "v_{t+1} = (1 - h\\frac{\\eta}{m})v_t + \\frac{h}{m}u_t, &&\n",
        "p_{t+1} = p_t + hv_t\n",
        "\\end{align}$$\n",
        "\n",
        "Dynamics are $x_{t+1} = Ax_t + Bu_t$, where\n",
        "\n",
        "$$\\begin{align}\n",
        "A = \\begin{bmatrix}\n",
        "1 & 0 & h & 0 \\\\\n",
        "0 & 1 & 0 & h \\\\\n",
        "0 & 0 & 1 - h\\frac{\\eta}{m} & 0 \\\\\n",
        "0 & 0 & 0 & 1 - h\\frac{\\eta}{m}\n",
        "\\end{bmatrix}, &&\n",
        "B = \\begin{bmatrix}\n",
        "0 & 0 \\\\\n",
        "0 & 0 \\\\\n",
        "\\frac{h}{m} & 0 \\\\\n",
        "0 & \\frac{h}{m}\n",
        "\\end{bmatrix}\n",
        "\\end{align}$$"
      ]
    },
    {
      "cell_type": "markdown",
      "metadata": {
        "id": "bCyVqb5E_UR8"
      },
      "source": [
        "## 1. LQR as a linearly constrained least-squares problem\n",
        "\n",
        "We define the quadratic objective with the linear constrains and ask CVXPY, the convex optimization package for Python, to solve it for us."
      ]
    },
    {
      "cell_type": "code",
      "metadata": {
        "id": "vqo9-yL9Th0P",
        "colab": {
          "base_uri": "https://localhost:8080/"
        },
        "outputId": "a5ce5755-166a-4af0-e72f-0217f3425745"
      },
      "source": [
        "!pip install cvxpy"
      ],
      "execution_count": 1,
      "outputs": [
        {
          "output_type": "stream",
          "name": "stdout",
          "text": [
            "Requirement already satisfied: cvxpy in /usr/local/lib/python3.7/dist-packages (1.0.31)\n",
            "Requirement already satisfied: osqp>=0.4.1 in /usr/local/lib/python3.7/dist-packages (from cvxpy) (0.6.2.post0)\n",
            "Requirement already satisfied: scs>=1.1.3 in /usr/local/lib/python3.7/dist-packages (from cvxpy) (3.2.0)\n",
            "Requirement already satisfied: numpy>=1.15 in /usr/local/lib/python3.7/dist-packages (from cvxpy) (1.21.5)\n",
            "Requirement already satisfied: ecos>=2 in /usr/local/lib/python3.7/dist-packages (from cvxpy) (2.0.10)\n",
            "Requirement already satisfied: scipy>=1.1.0 in /usr/local/lib/python3.7/dist-packages (from cvxpy) (1.4.1)\n",
            "Requirement already satisfied: multiprocess in /usr/local/lib/python3.7/dist-packages (from cvxpy) (0.70.12.2)\n",
            "Requirement already satisfied: qdldl in /usr/local/lib/python3.7/dist-packages (from osqp>=0.4.1->cvxpy) (0.1.5.post0)\n",
            "Requirement already satisfied: dill>=0.3.4 in /usr/local/lib/python3.7/dist-packages (from multiprocess->cvxpy) (0.3.4)\n"
          ]
        }
      ]
    },
    {
      "cell_type": "code",
      "metadata": {
        "id": "Ee4rc5JuTiVJ"
      },
      "source": [
        "import cvxpy as cp\n",
        "import matplotlib.pyplot as plt\n",
        "import numpy as np"
      ],
      "execution_count": 2,
      "outputs": []
    },
    {
      "cell_type": "code",
      "metadata": {
        "id": "NuiQXeyYVK3E"
      },
      "source": [
        "# Define the problem\n",
        "\n",
        "T = 100\n",
        "h = 0.1\n",
        "eta = 0.1\n",
        "mass = 1.0\n",
        "\n",
        "A = np.array([[1, 0,       h,      0      ],\n",
        "              [0, 1,       0,      h      ],\n",
        "\t          [0, 0, 1-h*eta/mass, 0      ],\n",
        "\t          [0, 0,       0, 1-h*eta/mass]])\n",
        "B = np.array([[   0,      0  ],\n",
        "              [   0,      0  ],\n",
        "\t          [h/mass,    0  ],\n",
        "\t          [   0,   h/mass]])\n",
        "n, m = B.shape\n",
        "\n",
        "x_init = np.array([10, 10, 10, -5]) # init. position (x=10, y=10), init. velocity (x=10, y=-5)\n",
        "\n",
        "x = cp.Variable((T, n))\n",
        "u = cp.Variable((T-1, m))\n",
        "\n",
        "# Set the constrains\n",
        "\n",
        "constraints = []\n",
        "for t in range(0, T-1):\n",
        "    constraints += [x[t+1, ...] == A @ x[t, ...] + B @ u[t, ...]]\n",
        "constraints += [x[0, ...] == x_init]"
      ],
      "execution_count": 3,
      "outputs": []
    },
    {
      "cell_type": "code",
      "metadata": {
        "id": "53qQoTAHVPDw"
      },
      "source": [
        "# Set the objective\n",
        "\n",
        "Q = np.eye(n)\n",
        "R = np.eye(m)\n",
        "\n",
        "objective = cp.Minimize(cp.sum(\n",
        "    [cp.quad_form(x[t+1, :], Q) + cp.quad_form(u[t, :], R)\n",
        "        for t in range(0, T-1)]\n",
        "))\n",
        "\n",
        "# Solve the problem\n",
        "\n",
        "prob = cp.Problem(objective, constraints)\n",
        "result = prob.solve()"
      ],
      "execution_count": 4,
      "outputs": []
    },
    {
      "cell_type": "code",
      "metadata": {
        "id": "fm9o3ns6BTgd",
        "colab": {
          "base_uri": "https://localhost:8080/",
          "height": 323
        },
        "outputId": "cdb1742f-2aa8-4296-fb65-3f41dde31ed6"
      },
      "source": [
        "# Plot the result\n",
        "\n",
        "nrows, ncols = 1, 3\n",
        "dx, dy = 16, 9\n",
        "scale = 1.5\n",
        "figsize = plt.figaspect(float(dy * nrows) / float(dx * ncols)) * scale\n",
        "plt.figure(figsize=figsize)\n",
        "\n",
        "plt.subplot(nrows, ncols, 1)\n",
        "\n",
        "px, py = x.value[..., 0], x.value[..., 1]\n",
        "plt.plot(px, py)\n",
        "plt.title('Trajectory on the plane')\n",
        "plt.xlabel('x')\n",
        "plt.ylabel('y')\n",
        "plt.grid()\n",
        "\n",
        "plt.subplot(nrows, ncols, 2)\n",
        "\n",
        "plt.plot(np.arange(1, T), u.value[..., 0], label='Fx')\n",
        "plt.plot(np.arange(1, T), u.value[..., 1], label='Fy')\n",
        "plt.title('Input over time')\n",
        "plt.xlabel('t')\n",
        "plt.ylabel('u')\n",
        "plt.legend()\n",
        "plt.grid()\n",
        "\n",
        "plt.subplot(nrows, ncols, 3)\n",
        "\n",
        "plt.plot(np.arange(1, T+1), x.value[..., 0], label='px')\n",
        "plt.plot(np.arange(1, T+1), x.value[..., 1], label='py')\n",
        "plt.plot(np.arange(1, T+1), x.value[..., 2], label='vx')\n",
        "plt.plot(np.arange(1, T+1), x.value[..., 3], label='vy')\n",
        "plt.title('State over time')\n",
        "plt.xlabel('t')\n",
        "plt.ylabel('x')\n",
        "plt.legend()\n",
        "plt.grid()\n",
        "\n",
        "plt.show()"
      ],
      "execution_count": 5,
      "outputs": [
        {
          "output_type": "display_data",
          "data": {
            "text/plain": [
              "<Figure size 1728x324 with 3 Axes>"
            ],
            "image/png": "[encoded data removed]"
          },
          "metadata": {
            "needs_background": "light"
          }
        }
      ]
    },
    {
      "cell_type": "markdown",
      "metadata": {
        "id": "NfJf2sFWGyV_"
      },
      "source": [
        "### Exercise\n",
        "\n",
        "Guess the answers and check them experimentally\n",
        "\n",
        "1. Whan happens when you penalize speeding?\n",
        "    <sub><sup><sub><sup><sub>\n",
        "    Hint: Play with the velocity penalty $Q_v$.\n",
        "    </sup></sub></sup></sub></sup>\n",
        "\n",
        "    > Answer: It drives slower, doesn't reach (0,0)  \n",
        "\n",
        "1. What happens when you lift the speed penalty?\n",
        "\n",
        "    > Answer: It drives too far, has to come back to the point\n",
        "\n",
        "1. How can you accomplish the same effects by modifying the position penalty?\n",
        "\n",
        "    > Answer: \n",
        "\n",
        "1. What happens when you heavier penelize the energy use?\n",
        "    <sub><sup><sub><sup><sub>\n",
        "    Hint: Play with the input penalty $R$.\n",
        "    </sup></sub></sup></sub></sup>\n",
        "\n",
        "    > Answer: The velocity is modified slower\n",
        "\n",
        "1. What happens when you lift the energy use penalty?\n",
        "\n",
        "    > Answer: I breaks fast, turns and goes straight to the target\n",
        "\n",
        "1. What is the time complexity of this method?\n",
        "\n",
        "    > Answer: $O(T^3nm^2)$\n",
        "\n",
        "$.$"
      ]
    },
    {
      "cell_type": "markdown",
      "metadata": {
        "id": "PZLJ7LNLYgIL"
      },
      "source": [
        "## 2. Dynamic programming solution to the LQR problem\n",
        "\n",
        "Recap LQR problem\n",
        "\n",
        "$$\\begin{aligned}\n",
        "\\text{minimize}&\\;\\;\\; \\sum^{T}_{t=2} x_t^\\top Q x_t + \\sum^{T-1}_{t=1} u_t^\\top R u_t \\\\\n",
        "\\text{subject to}&\\;\\;\\; x_1 = x^\\text{init}, \\;\\; x_{t+1} = Ax_t + Bu_t, \\;\\; t = 1, ..., T-1\n",
        "\\end{aligned}$$\n",
        "\n",
        "LQR Value Iteration\n",
        "\n",
        "1. Set $P_0 = 0$\n",
        "1. For $i = 1, ..., T$\n",
        "\n",
        "  $$\\begin{aligned}\n",
        "  K_i &= -(R + B^\\top P_{i-1} B)^{-1} B^\\top P_{i-1} A \\\\\n",
        "  P_i &= Q + K_i^\\top R K_i + (A + BK_i)^\\top P_{i-1}(A + BK_i)\n",
        "  \\end{aligned}$$\n",
        "\n",
        "1. The optimal input (for the time-horizon T) is given by\n",
        "\n",
        "  $$\\begin{aligned}\n",
        "  & u_t = K_Tx_t \\\\\n",
        "  \\text{for}\\;\\; & x_1 = x^\\text{init}, \\;\\; x_{t+1} = Ax_t + Bu_t, \\;\\; t = 1, ..., T-1\n",
        "  \\end{aligned}$$\n",
        "\n",
        "1. The cost-to-go (value) function is given by\n",
        "\n",
        "  $$J_T(x) = x^\\top P_T x$$"
      ]
    },
    {
      "cell_type": "code",
      "metadata": {
        "id": "I7qDDQ6bh_35"
      },
      "source": [
        "# (Re)define the vehicle problem\n",
        "\n",
        "T = 100\n",
        "h = 0.1\n",
        "eta = 0.1\n",
        "mass = 1.0\n",
        "\n",
        "A = np.array([[1, 0,       h,      0      ],\n",
        "              [0, 1,       0,      h      ],\n",
        "\t          [0, 0, 1-h*eta/mass, 0      ],\n",
        "\t          [0, 0,       0, 1-h*eta/mass]])\n",
        "B = np.array([[   0,      0  ],\n",
        "              [   0,      0  ],\n",
        "\t          [h/mass,    0  ],\n",
        "\t          [   0,   h/mass]])\n",
        "n, m = B.shape\n",
        "\n",
        "Q = np.eye(n)\n",
        "R = np.eye(m)\n",
        "\n",
        "x_init = np.array([10, 10, 10, -5]) # init. position (x=10, y=10), init. velocity (x=10, y=-5)"
      ],
      "execution_count": 42,
      "outputs": []
    },
    {
      "cell_type": "code",
      "metadata": {
        "id": "QBRTdMm7zMaV"
      },
      "source": [
        "from numpy.linalg import inv\n",
        "\n",
        "# Solve the problem\n",
        "\n",
        "x = np.zeros((T, n))\n",
        "u = np.zeros((T-1, m))\n",
        "\n",
        "# Exercise: Implement the LQR Value Iteration algoritm\n",
        "\n",
        "# Matrix (M) and vector (v) operations to use\n",
        "#   - `inv(M)` matrix inversion.\n",
        "#   - `M.T` or `v.T` vectors and matrix transposition.\n",
        "#   - `M @ K` or `M @ v` mat-mat and mat-vec multiplication.\n",
        "\n",
        "# Answer:\n",
        "P = [np.zeros((n, n))]\n",
        "K = []\n",
        "\n",
        "for i in range(1, T):\n",
        "  K_i = - inv(R + B.T @ P[i-1] @ B) @ B.T @ P[i-1] @ A\n",
        "  P_i = Q + K_i.T @ R @ K_i + (A + B @ K_i).T @ P[i-1] @ (A + B @ K_i)\n",
        "  P.append(P_i)\n",
        "  K.append(K_i)"
      ],
      "execution_count": 43,
      "outputs": []
    },
    {
      "cell_type": "code",
      "source": [
        "x[0, :] = x_init\n",
        "\n",
        "for i in range(T - 1):\n",
        "  u[i, :] = K[-1] @ x[i, :]\n",
        "  x[i + 1, :] = A @ x[i, :] + B @ u[i, :]"
      ],
      "metadata": {
        "id": "CTKwn6xuCQPu"
      },
      "execution_count": 44,
      "outputs": []
    },
    {
      "cell_type": "code",
      "metadata": {
        "id": "cIhD-StW7pfA",
        "colab": {
          "base_uri": "https://localhost:8080/",
          "height": 323
        },
        "outputId": "fe95edb9-3474-4986-e907-3f25ca87fea2"
      },
      "source": [
        "# Plot the result\n",
        "\n",
        "nrows, ncols = 1, 3\n",
        "dx, dy = 16, 9\n",
        "scale = 1.5\n",
        "figsize = plt.figaspect(float(dy * nrows) / float(dx * ncols)) * scale\n",
        "plt.figure(figsize=figsize)\n",
        "\n",
        "plt.subplot(nrows, ncols, 1)\n",
        "\n",
        "px, py = x[..., 0], x[..., 1]\n",
        "plt.plot(px, py)\n",
        "plt.title('Trajectory on the plane')\n",
        "plt.xlabel('x')\n",
        "plt.ylabel('y')\n",
        "plt.grid()\n",
        "\n",
        "plt.subplot(nrows, ncols, 2)\n",
        "\n",
        "plt.plot(np.arange(1, T), u[..., 0], label='Fx')\n",
        "plt.plot(np.arange(1, T), u[..., 1], label='Fy')\n",
        "plt.title('Input over time')\n",
        "plt.xlabel('t')\n",
        "plt.ylabel('u')\n",
        "plt.legend()\n",
        "plt.grid()\n",
        "\n",
        "plt.subplot(nrows, ncols, 3)\n",
        "\n",
        "plt.plot(np.arange(1, T+1), x[..., 0], label='px')\n",
        "plt.plot(np.arange(1, T+1), x[..., 1], label='py')\n",
        "plt.plot(np.arange(1, T+1), x[..., 2], label='vx')\n",
        "plt.plot(np.arange(1, T+1), x[..., 3], label='vy')\n",
        "plt.title('State over time')\n",
        "plt.xlabel('t')\n",
        "plt.ylabel('x')\n",
        "plt.legend()\n",
        "plt.grid()\n",
        "\n",
        "plt.show()"
      ],
      "execution_count": 45,
      "outputs": [
        {
          "output_type": "display_data",
          "data": {
            "text/plain": [
              "<Figure size 1728x324 with 3 Axes>"
            ],
            "image/png": "[encoded data removed]"
          },
          "metadata": {
            "needs_background": "light"
          }
        }
      ]
    },
    {
      "cell_type": "markdown",
      "metadata": {
        "id": "cMy568fk8Rhl"
      },
      "source": [
        "### Exercise\n",
        "\n",
        "Answer the questions\n",
        "\n",
        "1. How to modify the algorithm to the infinite time-horizon case?\n",
        "\n",
        "    > Answer: Run the loop until converges\n",
        "\n",
        "1. What is the time complexity of this method?\n",
        "\n",
        "    > Answer: $O(Tn^3)$\n",
        "\n",
        "1. How you apply LQR to non-linear problems?\n",
        "\n",
        "    > Answer: Approximate by Taylor expansion\n",
        "\n",
        "$.$"
      ]
    },
    {
      "cell_type": "markdown",
      "source": [
        "## 3. The generic optimal control problem\n",
        "\n",
        "Iterative Linear Quadratic Regulator (iLQR) iteratively linearize the non-linear problem and solves it with e.g. LQR Value Iteration.\n",
        "\n",
        "1. Initialize input $u^{(0)}_1, ..., u^{(0)}_T$ and $i = 0$\n",
        "1. Execute the current input and record the resulting state-input trajectory $x^{(i)}_1, u^{(i)}_1, ..., x^{(i)}_T, u^{(i)}_T$\n",
        "1. Linearize (first-order Taylor expansion) the dynamics, $x_{t+1} = f(x_t, u_t)$, around $(x^{(i)}_t, u^{(i)}_t)$\n",
        "\n",
        "  $$x_{t+1} = f(x^{(i)}_t, u^{(i)}_t) + \\frac{\\partial f}{\\partial x}(x^{(i)}_t, u^{(i)}_t)(x_t - x^{(i)}_t) + \\frac{\\partial f}{\\partial u}(x^{(i)}_t, u^{(i)}_t)(u_t - u^{(i)}_t)$$\n",
        "\n",
        "  Substracting $x^{(i)}_{t+1}$ on both sides\n",
        "\n",
        "  $$x_{t+1} - x^{(i)}_{t+1} = f(x^{(i)}_t, u^{(i)}_t) - x^{(i)}_{t+1} + \\frac{\\partial f}{\\partial x}(x^{(i)}_t, u^{(i)}_t)(x_t - x^{(i)}_t) + \\frac{\\partial f}{\\partial u}(x^{(i)}_t, u^{(i)}_t)(u_t - u^{(i)}_t)$$\n",
        "\n",
        "  Yields the standard Linear Time-Varying (LTV) format, $z_{t+1} = A_tz_t + B_tv_t$, where\n",
        "\n",
        "  $$\\begin{aligned}\n",
        "  z_t &= \\begin{bmatrix}\n",
        "  x_t - x^{(i)}_t & 1\n",
        "  \\end{bmatrix}^\\top \\\\\n",
        "  v_t &= (u_t - u^{(i)}_t) \\\\\n",
        "  A_t &= \\begin{bmatrix}\n",
        "  \\frac{\\partial f}{\\partial x}(x^{(i)}_t, u^{(i)}_t) & f(x^{(i)}_t, u^{(i)}_t) - x^{(i)}_{t+1} \\\\\n",
        "  0 & 1\n",
        "  \\end{bmatrix} \\\\\n",
        "  B_t &= \\begin{bmatrix}\n",
        "  \\frac{\\partial f}{\\partial u}(x^{(i)}_t, u^{(i)}_t) \\\\\n",
        "  0\n",
        "  \\end{bmatrix}\n",
        "  \\end{aligned}$$\n",
        "\n",
        "1. Similarly, approximate (second-order Taylor expansion) the cost $g(x_t, u_t)$ to give the quadratic form $g(z_t, v_t) = z^\\top_t Q_t z_t + v_t^\\top R_t v_t$\n",
        "  \n",
        "  $$\\begin{aligned}\n",
        "  Q_t &= \\begin{bmatrix}\n",
        "  \\frac{1}{2} \\frac{\\partial^2 g}{\\partial x^2}(x^{(i)}_t, u^{(i)}_t) & 0 \\\\\n",
        "  \\frac{\\partial g}{\\partial x}(x^{(i)}_t, u^{(i)}_t) + [u_t - u^{(i)}_t]\\frac{\\partial^2 g}{\\partial u \\partial x}(x^{(i)}_t, u^{(i)}_t) & g(x^{(i)}_t, u^{(i)}_t) + \\frac{\\partial g}{\\partial u}(x^{(i)}_t, u^{(i)}_t)[u_t - u^{(i)}_t]\n",
        "  \\end{bmatrix} \\\\\n",
        "  R_t &= \\left( \\frac{1}{2} \\frac{\\partial^2 g}{\\partial u^2}(x^{(i)}_t, u^{(i)}_t) \\right)\n",
        "  \\end{aligned}$$\n",
        "\n",
        "1. Solve the resulting LQR LTV problem for the optimal (at iteration $i+1$) input $u^{(i+1)}_1, ..., u^{(i+1)}_T$\n",
        "1. Increment $i = i + 1$ and go to step 2.\n",
        "\n",
        "### Challenge\n",
        "\n",
        "The first student to implement it to solve the [CartPole Swing-Up](https://coneural.org/florian/papers/05_cart_pole.pdf) problem (code below) gets half the final grade up!\n",
        "\n",
        "![CartPole Swing-Up](https://github.com/Shunichi09/PythonLinearNonlinearControl/raw/master/assets/cartpole.gif)"
      ],
      "metadata": {
        "id": "BQ9Jq2uOhPO7"
      }
    },
    {
      "cell_type": "code",
      "source": [
        "!pip install scikit-video"
      ],
      "metadata": {
        "id": "55mNZapehHf7"
      },
      "execution_count": null,
      "outputs": []
    },
    {
      "cell_type": "code",
      "source": [
        "import math\n",
        "\n",
        "import cv2\n",
        "import numpy as np\n",
        "import skvideo.io\n",
        "import tensorflow as tf\n",
        "\n",
        "from base64 import b64encode\n",
        "from IPython.display import HTML\n",
        "\n",
        "def show_video(file_name):\n",
        "    mp4 = open(file_name,'rb').read()\n",
        "    data_url = \"data:video/mp4;base64,\" + b64encode(mp4).decode()\n",
        "    return HTML(\"\"\"\n",
        "    <video width=480 controls>\n",
        "        <source src=\"%s\" type=\"video/mp4\">\n",
        "    </video>\n",
        "    \"\"\" % data_url)"
      ],
      "metadata": {
        "id": "8Vf3_bkFhbvH"
      },
      "execution_count": null,
      "outputs": []
    },
    {
      "cell_type": "code",
      "source": [
        "# Define the problem\n",
        "\n",
        "class CartPole:\n",
        "    def __init__(self, dt,\n",
        "                 mc=1.0,\n",
        "                 mp=0.1,\n",
        "                 l=1.0,\n",
        "                 g=9.80665):\n",
        "        \"\"\"CartPole problem.\n",
        "\n",
        "        Args:\n",
        "            dt: Time step [s].\n",
        "            mc: Cart mass [kg].\n",
        "            mp: Pendulum mass [kg].\n",
        "            l: Pendulum length [m].\n",
        "            g: Gravity acceleration [m/s^2].\n",
        "\n",
        "        Note:\n",
        "            state x: [px, px', theta, theta'].\n",
        "            input u: [Fx], it's bound to (-1, 1) in `step`.\n",
        "            theta: 0 is pointing up and increasing clockwise.\n",
        "        \"\"\"\n",
        "\n",
        "        self.dt = dt\n",
        "        self.mc = mc\n",
        "        self.mp = mp\n",
        "        self.l = l\n",
        "        self.g = g\n",
        "\n",
        "        self.action_dim = 1\n",
        "        self.state_dim = 4\n",
        "        self.pi = tf.constant(math.pi)\n",
        "\n",
        "    def step(self, x, u):\n",
        "        \"\"\"Calculates the next state.\"\"\"\n",
        "        x_ = x[..., 0]\n",
        "        x_dot = x[..., 1]\n",
        "        theta = x[..., 2]\n",
        "        sin_theta = tf.sin(theta)\n",
        "        cos_theta = tf.cos(theta)\n",
        "        theta_dot = x[..., 3]\n",
        "        F = tf.tanh(u[..., 0])\n",
        "\n",
        "        # Define frictionless dynamics as per (Razvan V. Florian, 2007)\n",
        "        # Paper: https://coneural.org/florian/papers/05_cart_pole.pdf\n",
        "\n",
        "        # Eq. 23\n",
        "        temp = (F + self.mp * self.l * theta_dot**2 * sin_theta) / (self.mc + self.mp)\n",
        "        numerator = self.g * sin_theta - cos_theta * temp\n",
        "        denominator = self.l * (4.0 / 3.0 - self.mp * cos_theta**2 / (self.mc + self.mp))\n",
        "        theta_dot_dot = numerator / denominator\n",
        "\n",
        "        # Eq. 24\n",
        "        x_dot_dot = temp - self.mp * self.l * theta_dot_dot * cos_theta / (self.mc + self.mp)\n",
        "\n",
        "        return tf.transpose(tf.stack([\n",
        "            x_ + x_dot * self.dt,\n",
        "            x_dot + x_dot_dot * self.dt,\n",
        "            theta + theta_dot * self.dt,\n",
        "            theta_dot + theta_dot_dot * self.dt,\n",
        "        ]))\n",
        "\n",
        "    def cost(self, x, u):\n",
        "        \"\"\"Calculates the state-input cost.\"\"\"\n",
        "        x_ = x[..., 0]\n",
        "        x_dot = x[..., 1]\n",
        "        # Shift by pi so zero angle, and hence the cost, is the up position\n",
        "        cos_theta = tf.cos(x[..., 2] + self.pi)\n",
        "        theta_dot = x[..., 3]\n",
        "\n",
        "        # Note: There is no penalty for the input\n",
        "        #       However, it's bounded to (-1, 1) in `step`\n",
        "        g = 6 * x_**2 + 12 * (1 + cos_theta)**2 + 0.1 * x_dot**2 + 0.1 * theta_dot**2\n",
        "        return g * self.dt\n",
        "\n",
        "    def render(self, x_history, file_name='cartpole.mp4'):\n",
        "        \"\"\"Renders the whole trajectory to the mp4 file.\"\"\"\n",
        "        frames = []\n",
        "        for x in x_history:\n",
        "            frames.append(self._render_state(x))\n",
        "        skvideo.io.vwrite(file_name, np.stack(frames))\n",
        "\n",
        "    def _render_state(self, x):\n",
        "        \"\"\"Renders one frame.\"\"\"\n",
        "        screen_width = 640\n",
        "        screen_height = 480\n",
        "        world_width = 2 * 2.4\n",
        "        scale = screen_width / world_width\n",
        "        cart_y = screen_height - 100\n",
        "        pole_width = 10\n",
        "        pole_len = scale * self.l\n",
        "        cart_width = 50\n",
        "        cart_height = 30\n",
        "\n",
        "\n",
        "        # Get the cart position and the pole angle\n",
        "        position, _, angle, _ = x\n",
        "        cart_x = int(position * scale + screen_width / 2.0)\n",
        "\n",
        "        # Prepare a blank image of screen size\n",
        "        img = np.ones((screen_height, screen_width, 3)) * 255.\n",
        "\n",
        "        # Draw a rail\n",
        "        img = cv2.line(\n",
        "            img,\n",
        "            pt1=(0, cart_y),\n",
        "            pt2=(screen_width, cart_y),\n",
        "            color=(0, 0, 0)\n",
        "        )\n",
        "\n",
        "        # Draw a cart\n",
        "        img = cv2.rectangle(\n",
        "            img,\n",
        "            pt1=(cart_x - cart_width // 2,\n",
        "                    cart_y - cart_height // 2),\n",
        "            pt2=(cart_x + cart_width // 2,\n",
        "                    cart_y + cart_height // 2),\n",
        "            color=(0, 0, 0),\n",
        "            thickness=cv2.FILLED\n",
        "        )\n",
        "\n",
        "        # Draw a pole\n",
        "        img = cv2.line(\n",
        "            img,\n",
        "            pt1=(cart_x, cart_y),\n",
        "            pt2=(int(cart_x + pole_len * np.sin(angle)),\n",
        "                    int(cart_y - pole_len * np.cos(angle))),\n",
        "            color=(204, 153, 102),\n",
        "            thickness=pole_width\n",
        "        )\n",
        "\n",
        "        # Draw an axle\n",
        "        img = cv2.circle(\n",
        "            img,\n",
        "            center=(cart_x, cart_y),\n",
        "            radius=pole_width // 2,\n",
        "            color=(127, 127, 204),\n",
        "            thickness=cv2.FILLED\n",
        "        )\n",
        "\n",
        "        return img.astype(np.uint8)"
      ],
      "metadata": {
        "id": "pTeRUulxhd0L"
      },
      "execution_count": null,
      "outputs": []
    },
    {
      "cell_type": "code",
      "source": [
        "cartpole = CartPole(dt=0.05)\n",
        "x0 = tf.constant([0, 0, math.pi / 4, 0], dtype=tf.float32)\n",
        "u = tf.zeros((T, cartpole.action_dim))\n",
        "\n",
        "trajectory = [x0]\n",
        "for i in range(T-1):\n",
        "    trajectory.append(cartpole.step(trajectory[-1], u[i]))\n",
        "x = tf.stack(trajectory)\n",
        "\n",
        "print(\"Total cost: \", tf.reduce_sum(cartpole.cost(x, u)))"
      ],
      "metadata": {
        "id": "lJHb95u8hfvo"
      },
      "execution_count": null,
      "outputs": []
    },
    {
      "cell_type": "code",
      "source": [
        "file_name=\"./video.mp4\"\n",
        "cartpole.render(x.numpy(), file_name)\n",
        "show_video(file_name)"
      ],
      "metadata": {
        "id": "rF3rgjPzhhZI"
      },
      "execution_count": null,
      "outputs": []
    }
  ]
}