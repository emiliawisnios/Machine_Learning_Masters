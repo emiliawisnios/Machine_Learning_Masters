{
  "nbformat": 4,
  "nbformat_minor": 0,
  "metadata": {
    "colab": {
      "name": "Kopia notatnika GSN 2021/22 - RNN lab scenario.ipynb",
      "provenance": []
    },
    "kernelspec": {
      "name": "python3",
      "display_name": "Python 3"
    },
    "language_info": {
      "name": "python"
    }
  },
  "cells": [
    {
      "cell_type": "markdown",
      "metadata": {
        "id": "zAh8AAYKyGaZ"
      },
      "source": [
        "# TL;DR\n",
        "\n",
        "1. In this lab scenario you will have a chance to compare performance of the classic RNN and LSTM on a toy example. \n",
        "2. This toy example will show that maintaining memory over even 20 steps is non-trivial. \n",
        "3. Finally, you will see how curriculum learning may allow to train a model on larger sequences.\n",
        "\n",
        "# Problem definition\n",
        "\n",
        "Here we consider a toy example, where the goal is to discriminate between two types of binary sequences:\n",
        "* [Type 0] a sequence with exactly one zero (remaining entries are equal to one).\n",
        "* [Type 1] a sequence full of ones,\n",
        "\n",
        "We are especially interested in the performance of the trained models on discriminating between a sequence full of ones versus a sequence with leading zero followed by ones. Note that in this case the goal of the model is to output the first element of the sequence, as the label (sequence type) is fully determined by the first element of the sequence."
      ]
    },
    {
      "cell_type": "markdown",
      "metadata": {
        "id": "w89kJcvtzNRm"
      },
      "source": [
        "#Implementation"
      ]
    },
    {
      "cell_type": "markdown",
      "metadata": {
        "id": "1WyKOni1OEiS"
      },
      "source": [
        "## Importing torch\n",
        "\n",
        "Install `torch` and `torchvision`"
      ]
    },
    {
      "cell_type": "code",
      "metadata": {
        "colab": {
          "base_uri": "https://localhost:8080/"
        },
        "id": "lFlmFfiPN1hI",
        "outputId": "6776138d-10a7-4c46-9e3b-b98384bffd38"
      },
      "source": [
        "!pip3 install torch torchvision"
      ],
      "execution_count": 1,
      "outputs": [
        {
          "output_type": "stream",
          "name": "stdout",
          "text": [
            "Requirement already satisfied: torch in /usr/local/lib/python3.7/dist-packages (1.10.0+cu111)\n",
            "Requirement already satisfied: torchvision in /usr/local/lib/python3.7/dist-packages (0.11.1+cu111)\n",
            "Requirement already satisfied: typing-extensions in /usr/local/lib/python3.7/dist-packages (from torch) (3.10.0.2)\n",
            "Requirement already satisfied: numpy in /usr/local/lib/python3.7/dist-packages (from torchvision) (1.19.5)\n",
            "Requirement already satisfied: pillow!=8.3.0,>=5.3.0 in /usr/local/lib/python3.7/dist-packages (from torchvision) (7.1.2)\n"
          ]
        }
      ]
    },
    {
      "cell_type": "code",
      "metadata": {
        "colab": {
          "base_uri": "https://localhost:8080/"
        },
        "id": "kRYUIgJLOa6X",
        "outputId": "98e26519-a17b-4fe9-b60a-0c2878155f5f"
      },
      "source": [
        "import torch\n",
        "import torch.nn as nn\n",
        "import torch.optim as optim\n",
        "import torch.nn.functional as F\n",
        "\n",
        "torch.manual_seed(1)"
      ],
      "execution_count": 2,
      "outputs": [
        {
          "output_type": "execute_result",
          "data": {
            "text/plain": [
              "<torch._C.Generator at 0x7fee01e1e610>"
            ]
          },
          "metadata": {},
          "execution_count": 2
        }
      ]
    },
    {
      "cell_type": "markdown",
      "metadata": {
        "id": "eMfnsxS4zdp9"
      },
      "source": [
        "## Understand dimensionality\n",
        "\n",
        "Check the input and output specification [LSTM](https://pytorch.org/docs/stable/generated/torch.nn.LSTM.html) and [RNN](https://pytorch.org/docs/stable/generated/torch.nn.RNN.html). The following snippet shows how we can process\n",
        "a sequence by LSTM and output a vector of size `hidden_dim` after reading\n",
        "each token of the sequence. "
      ]
    },
    {
      "cell_type": "code",
      "metadata": {
        "colab": {
          "base_uri": "https://localhost:8080/"
        },
        "id": "s_MMm1AaObmg",
        "outputId": "8394ed71-ed04-41c5-a753-f152cb9362a6"
      },
      "source": [
        "hidden_dim = 5\n",
        "lstm = nn.LSTM(1, hidden_dim)  # Input sequence contains elements - vectors of size 1\n",
        "\n",
        "# create a random sequence\n",
        "sequence = [torch.randn(1) for _ in range(10)]\n",
        "\n",
        "# initialize the hidden state (including cell state)\n",
        "hidden = (torch.zeros(1, 1, 5),\n",
        "          torch.zeros(1, 1, 5))\n",
        "\n",
        "for i, elem in enumerate(sequence):\n",
        "  # we are processing only a single element of the sequence, and there\n",
        "  # is only one sample (sequence) in the batch, the third one\n",
        "  # corresponds to the fact that our sequence contains elemenents,\n",
        "  # which can be treated as vectors of size 1\n",
        "  out, hidden = lstm(elem.view(1, 1, 1), hidden)\n",
        "  print(f'i={i} out={out.detach()}')\n",
        "print(f'Final hidden state={hidden[0].detach()} cell state={hidden[1].detach()}')"
      ],
      "execution_count": 28,
      "outputs": [
        {
          "output_type": "stream",
          "name": "stdout",
          "text": [
            "i=0 out=tensor([[[ 0.0643, -0.0487,  0.1485, -0.0262,  0.1324]]])\n",
            "i=1 out=tensor([[[-0.0315, -0.0625,  0.2592,  0.0080,  0.1264]]])\n",
            "i=2 out=tensor([[[ 0.0315, -0.0643,  0.3079, -0.0314,  0.1696]]])\n",
            "i=3 out=tensor([[[ 0.1544, -0.0443,  0.3007, -0.1117,  0.2052]]])\n",
            "i=4 out=tensor([[[ 0.0084, -0.0472,  0.3254, -0.0395,  0.1552]]])\n",
            "i=5 out=tensor([[[ 0.0901, -0.0520,  0.3421, -0.0814,  0.1843]]])\n",
            "i=6 out=tensor([[[ 0.1868, -0.0343,  0.3160, -0.1368,  0.2074]]])\n",
            "i=7 out=tensor([[[ 0.1509, -0.0336,  0.3085, -0.1008,  0.1976]]])\n",
            "i=8 out=tensor([[[ 0.2490, -0.0251,  0.2757, -0.1662,  0.2150]]])\n",
            "i=9 out=tensor([[[ 0.0179, -0.0416,  0.3123, -0.0531,  0.1389]]])\n",
            "Final hidden state=tensor([[[ 0.0179, -0.0416,  0.3123, -0.0531,  0.1389]]]) cell state=tensor([[[ 0.0352, -0.1567,  0.8403, -0.1186,  0.3227]]])\n"
          ]
        }
      ]
    },
    {
      "cell_type": "markdown",
      "metadata": {
        "id": "Ph3iyjw_8F30"
      },
      "source": [
        "## To implement\n",
        "\n",
        "Process the whole sequence all at once by calling `lstm` only once and check that the output is exactly the same as above (remember to initialize the hidden state the same way)."
      ]
    },
    {
      "cell_type": "code",
      "metadata": {
        "id": "tFtxYqla8bJM"
      },
      "source": [
        "# #########################################################\n",
        "#                    To implement\n",
        "# #########################################################\n",
        "hidden = (torch.zeros(1, 1, 5),\n",
        "          torch.zeros(1, 1, 5))\n",
        "\n",
        "seq = torch.stack(sequence)\n",
        "seq = seq.reshape(10, 1, 1)\n",
        "out, hidden = lstm(seq, hidden)"
      ],
      "execution_count": 32,
      "outputs": []
    },
    {
      "cell_type": "code",
      "source": [
        "hidden"
      ],
      "metadata": {
        "colab": {
          "base_uri": "https://localhost:8080/"
        },
        "id": "U5WRpHkWAIx2",
        "outputId": "b108b938-b961-4829-b009-a755fe03ce86"
      },
      "execution_count": 33,
      "outputs": [
        {
          "output_type": "execute_result",
          "data": {
            "text/plain": [
              "(tensor([[[ 0.0179, -0.0416,  0.3123, -0.0531,  0.1389]]],\n",
              "        grad_fn=<StackBackward0>),\n",
              " tensor([[[ 0.0352, -0.1567,  0.8403, -0.1186,  0.3227]]],\n",
              "        grad_fn=<StackBackward0>))"
            ]
          },
          "metadata": {},
          "execution_count": 33
        }
      ]
    },
    {
      "cell_type": "markdown",
      "metadata": {
        "id": "9VAUJUhx9EAC"
      },
      "source": [
        "## Training a model\n",
        "\n",
        "Below we define a very simple model, which is a single layer of LSTM, where the output in each time step is processed by relu followed by a single fully connected layer, the output of which is a single number. We are going\n",
        "to use the number generated after reading the last element of the sequence,\n",
        "which will serve as the logit for our classification problem."
      ]
    },
    {
      "cell_type": "code",
      "metadata": {
        "id": "qncNRKMNOh9h"
      },
      "source": [
        "class Model(nn.Module):\n",
        "\n",
        "    def __init__(self, hidden_dim):\n",
        "        super(Model, self).__init__()\n",
        "        self.hidden_dim = hidden_dim\n",
        "        self.lstm = nn.LSTM(1, self.hidden_dim)\n",
        "        self.hidden2label = nn.Linear(hidden_dim, 1)\n",
        "\n",
        "    def forward(self, x):\n",
        "        out, _ = self.lstm(x)\n",
        "        sequence_len = x.shape[0]\n",
        "        logits = self.hidden2label(F.relu(out[-1].view(-1)))\n",
        "        return logits"
      ],
      "execution_count": 34,
      "outputs": []
    },
    {
      "cell_type": "markdown",
      "metadata": {
        "id": "IF4r0AUu9g6a"
      },
      "source": [
        "Below is a training loop, where we only train on the two hardest examples."
      ]
    },
    {
      "cell_type": "code",
      "metadata": {
        "id": "gTaCFMBBOkOp"
      },
      "source": [
        "SEQUENCE_LEN = 10\n",
        "\n",
        "# Pairs of (sequence, label)\n",
        "HARD_EXAMPLES = [([0.]+(SEQUENCE_LEN-1)*[1.], 0),\n",
        "                 (SEQUENCE_LEN*[1.], 1)]\n",
        "\n",
        "\n",
        "def eval_on_hard_examples(model):\n",
        "    with torch.no_grad():\n",
        "        logits = []\n",
        "        for sequence in HARD_EXAMPLES:\n",
        "            input = torch.tensor(sequence[0]).view(-1, 1, 1)\n",
        "            logit = model(input)\n",
        "            logits.append(logit.detach())\n",
        "        print(f'Logits for hard examples={logits}')\n",
        "\n",
        "\n",
        "def train_model(hidden_dim, lr, num_steps=10000):\n",
        "    model = Model(hidden_dim=hidden_dim)\n",
        "    loss_function = nn.BCEWithLogitsLoss()\n",
        "    optimizer = optim.SGD(model.parameters(), lr=lr, momentum=0.99)\n",
        "\n",
        "    for step in range(num_steps):  \n",
        "        if step % 100 == 0:\n",
        "            eval_on_hard_examples(model)\n",
        "\n",
        "        for sequence, label in HARD_EXAMPLES:\n",
        "            model.zero_grad()\n",
        "            logit = model(torch.tensor(sequence).view(-1, 1, 1))  \n",
        "            \n",
        "            loss = loss_function(logit.view(-1), torch.tensor([label], dtype=torch.float32))\n",
        "            loss.backward()\n",
        "\n",
        "            optimizer.step()   "
      ],
      "execution_count": 35,
      "outputs": []
    },
    {
      "cell_type": "code",
      "metadata": {
        "colab": {
          "base_uri": "https://localhost:8080/"
        },
        "id": "wVHU71P5EWsm",
        "outputId": "33cbcf6a-bb99-4e84-db51-22aa1f80723a"
      },
      "source": [
        "train_model(hidden_dim=20, lr=0.01, num_steps=10000)"
      ],
      "execution_count": 36,
      "outputs": [
        {
          "output_type": "stream",
          "name": "stdout",
          "text": [
            "Logits for hard examples=[tensor([-0.1427]), tensor([-0.1430])]\n",
            "Logits for hard examples=[tensor([0.0459]), tensor([0.0459])]\n",
            "Logits for hard examples=[tensor([-0.0013]), tensor([-0.0012])]\n",
            "Logits for hard examples=[tensor([-0.0029]), tensor([-0.0028])]\n",
            "Logits for hard examples=[tensor([0.0038]), tensor([0.0039])]\n",
            "Logits for hard examples=[tensor([0.0005]), tensor([0.0007])]\n",
            "Logits for hard examples=[tensor([0.0015]), tensor([0.0018])]\n",
            "Logits for hard examples=[tensor([0.0005]), tensor([0.0012])]\n",
            "Logits for hard examples=[tensor([0.0021]), tensor([0.0043])]\n",
            "Logits for hard examples=[tensor([0.3903]), tensor([0.5400])]\n",
            "Logits for hard examples=[tensor([-0.2760]), tensor([-0.2749])]\n",
            "Logits for hard examples=[tensor([0.1003]), tensor([0.1016])]\n",
            "Logits for hard examples=[tensor([0.0585]), tensor([0.0597])]\n",
            "Logits for hard examples=[tensor([0.0128]), tensor([0.0136])]\n",
            "Logits for hard examples=[tensor([-0.0128]), tensor([-0.0115])]\n",
            "Logits for hard examples=[tensor([0.0126]), tensor([0.0153])]\n",
            "Logits for hard examples=[tensor([-0.0166]), tensor([0.0020])]\n",
            "Logits for hard examples=[tensor([-1.4372]), tensor([1.3414])]\n",
            "Logits for hard examples=[tensor([-5.7377]), tensor([6.1415])]\n",
            "Logits for hard examples=[tensor([-6.9651]), tensor([6.8236])]\n",
            "Logits for hard examples=[tensor([-7.1978]), tensor([7.0412])]\n",
            "Logits for hard examples=[tensor([-7.2726]), tensor([7.1830])]\n",
            "Logits for hard examples=[tensor([-7.3394]), tensor([7.2877])]\n",
            "Logits for hard examples=[tensor([-7.4108]), tensor([7.3725])]\n",
            "Logits for hard examples=[tensor([-7.4827]), tensor([7.4469])]\n",
            "Logits for hard examples=[tensor([-7.5525]), tensor([7.5151])]\n",
            "Logits for hard examples=[tensor([-7.6211]), tensor([7.5767])]\n",
            "Logits for hard examples=[tensor([-7.6858]), tensor([7.6357])]\n",
            "Logits for hard examples=[tensor([-7.7472]), tensor([7.6923])]\n",
            "Logits for hard examples=[tensor([-7.8059]), tensor([7.7466])]\n",
            "Logits for hard examples=[tensor([-7.8622]), tensor([7.7987])]\n",
            "Logits for hard examples=[tensor([-7.9163]), tensor([7.8487])]\n",
            "Logits for hard examples=[tensor([-7.9685]), tensor([7.8970])]\n",
            "Logits for hard examples=[tensor([-8.0190]), tensor([7.9435])]\n",
            "Logits for hard examples=[tensor([-8.0679]), tensor([7.9885])]\n",
            "Logits for hard examples=[tensor([-8.1153]), tensor([8.0320])]\n",
            "Logits for hard examples=[tensor([-8.1615]), tensor([8.0741])]\n",
            "Logits for hard examples=[tensor([-8.2063]), tensor([8.1150])]\n",
            "Logits for hard examples=[tensor([-8.2500]), tensor([8.1547])]\n",
            "Logits for hard examples=[tensor([-8.2925]), tensor([8.1935])]\n",
            "Logits for hard examples=[tensor([-8.3340]), tensor([8.2312])]\n",
            "Logits for hard examples=[tensor([-8.3745]), tensor([8.2680])]\n",
            "Logits for hard examples=[tensor([-8.4141]), tensor([8.3038])]\n",
            "Logits for hard examples=[tensor([-8.4528]), tensor([8.3389])]\n",
            "Logits for hard examples=[tensor([-8.4908]), tensor([8.3731])]\n",
            "Logits for hard examples=[tensor([-8.5279]), tensor([8.4066])]\n",
            "Logits for hard examples=[tensor([-8.5643]), tensor([8.4394])]\n",
            "Logits for hard examples=[tensor([-8.6000]), tensor([8.4715])]\n",
            "Logits for hard examples=[tensor([-8.6350]), tensor([8.5030])]\n",
            "Logits for hard examples=[tensor([-8.6694]), tensor([8.5338])]\n",
            "Logits for hard examples=[tensor([-8.7031]), tensor([8.5641])]\n",
            "Logits for hard examples=[tensor([-8.7362]), tensor([8.5938])]\n",
            "Logits for hard examples=[tensor([-8.7688]), tensor([8.6231])]\n",
            "Logits for hard examples=[tensor([-8.8007]), tensor([8.6518])]\n",
            "Logits for hard examples=[tensor([-8.8322]), tensor([8.6801])]\n",
            "Logits for hard examples=[tensor([-8.8631]), tensor([8.7079])]\n",
            "Logits for hard examples=[tensor([-8.8924]), tensor([8.7355])]\n",
            "Logits for hard examples=[tensor([-8.9193]), tensor([8.7640])]\n",
            "Logits for hard examples=[tensor([-8.9462]), tensor([8.7915])]\n",
            "Logits for hard examples=[tensor([-8.9727]), tensor([8.8183])]\n",
            "Logits for hard examples=[tensor([-8.9989]), tensor([8.8446])]\n",
            "Logits for hard examples=[tensor([-9.0248]), tensor([8.8704])]\n",
            "Logits for hard examples=[tensor([-9.0503]), tensor([8.8956])]\n",
            "Logits for hard examples=[tensor([-9.0755]), tensor([8.9204])]\n",
            "Logits for hard examples=[tensor([-9.1003]), tensor([8.9447])]\n",
            "Logits for hard examples=[tensor([-9.1248]), tensor([8.9686])]\n",
            "Logits for hard examples=[tensor([-9.1488]), tensor([8.9922])]\n",
            "Logits for hard examples=[tensor([-9.1725]), tensor([9.0153])]\n",
            "Logits for hard examples=[tensor([-9.1958]), tensor([9.0381])]\n",
            "Logits for hard examples=[tensor([-9.2188]), tensor([9.0605])]\n",
            "Logits for hard examples=[tensor([-9.2414]), tensor([9.0827])]\n",
            "Logits for hard examples=[tensor([-9.2636]), tensor([9.1045])]\n",
            "Logits for hard examples=[tensor([-9.2856]), tensor([9.1259])]\n",
            "Logits for hard examples=[tensor([-9.3071]), tensor([9.1471])]\n",
            "Logits for hard examples=[tensor([-9.3284]), tensor([9.1680])]\n",
            "Logits for hard examples=[tensor([-9.3494]), tensor([9.1886])]\n",
            "Logits for hard examples=[tensor([-9.3700]), tensor([9.2089])]\n",
            "Logits for hard examples=[tensor([-9.3903]), tensor([9.2290])]\n",
            "Logits for hard examples=[tensor([-9.4104]), tensor([9.2487])]\n",
            "Logits for hard examples=[tensor([-9.4301]), tensor([9.2683])]\n",
            "Logits for hard examples=[tensor([-9.4496]), tensor([9.2876])]\n",
            "Logits for hard examples=[tensor([-9.4688]), tensor([9.3066])]\n",
            "Logits for hard examples=[tensor([-9.4877]), tensor([9.3254])]\n",
            "Logits for hard examples=[tensor([-9.5064]), tensor([9.3439])]\n",
            "Logits for hard examples=[tensor([-9.5248]), tensor([9.3623])]\n",
            "Logits for hard examples=[tensor([-9.5430]), tensor([9.3804])]\n",
            "Logits for hard examples=[tensor([-9.5609]), tensor([9.3983])]\n",
            "Logits for hard examples=[tensor([-9.5786]), tensor([9.4160])]\n",
            "Logits for hard examples=[tensor([-9.5960]), tensor([9.4334])]\n",
            "Logits for hard examples=[tensor([-9.6133]), tensor([9.4507])]\n",
            "Logits for hard examples=[tensor([-9.6303]), tensor([9.4678])]\n",
            "Logits for hard examples=[tensor([-9.6471]), tensor([9.4846])]\n",
            "Logits for hard examples=[tensor([-9.6636]), tensor([9.5013])]\n",
            "Logits for hard examples=[tensor([-9.6800]), tensor([9.5178])]\n",
            "Logits for hard examples=[tensor([-9.6962]), tensor([9.5341])]\n",
            "Logits for hard examples=[tensor([-9.7121]), tensor([9.5502])]\n",
            "Logits for hard examples=[tensor([-9.7279]), tensor([9.5661])]\n",
            "Logits for hard examples=[tensor([-9.7435]), tensor([9.5819])]\n",
            "Logits for hard examples=[tensor([-9.7589]), tensor([9.5974])]\n",
            "Logits for hard examples=[tensor([-9.7742]), tensor([9.6129])]\n"
          ]
        }
      ]
    },
    {
      "cell_type": "markdown",
      "metadata": {
        "id": "2Lt7dRkJDfqd"
      },
      "source": [
        "## To implement\n",
        "\n",
        "1. Check for what values of `SEQUENCE_LEN` the model is able to discriminate betweeh the two hard examples (after training).\n",
        "\n",
        "\n"
      ]
    },
    {
      "cell_type": "code",
      "source": [
        "SEQUENCE_LEN = 100\n",
        "\n",
        "# Pairs of (sequence, label)\n",
        "HARD_EXAMPLES = [([0.]+(SEQUENCE_LEN-1)*[1.], 0),\n",
        "                 (SEQUENCE_LEN*[1.], 1)]\n",
        "\n",
        "\n",
        "def eval_on_hard_examples(model):\n",
        "    with torch.no_grad():\n",
        "        logits = []\n",
        "        for sequence in HARD_EXAMPLES:\n",
        "            input = torch.tensor(sequence[0]).view(-1, 1, 1)\n",
        "            logit = model(input)\n",
        "            logits.append(logit.detach())\n",
        "        print(f'Logits for hard examples={logits}')\n",
        "\n",
        "\n",
        "def train_model(hidden_dim, lr, num_steps=10000):\n",
        "    model = Model(hidden_dim=hidden_dim)\n",
        "    loss_function = nn.BCEWithLogitsLoss()\n",
        "    optimizer = optim.SGD(model.parameters(), lr=lr, momentum=0.99)\n",
        "\n",
        "    for step in range(num_steps):  \n",
        "        if step % 100 == 0:\n",
        "            eval_on_hard_examples(model)\n",
        "\n",
        "        for sequence, label in HARD_EXAMPLES:\n",
        "            model.zero_grad()\n",
        "            logit = model(torch.tensor(sequence).view(-1, 1, 1))  \n",
        "            \n",
        "            loss = loss_function(logit.view(-1), torch.tensor([label], dtype=torch.float32))\n",
        "            loss.backward()\n",
        "\n",
        "            optimizer.step()   "
      ],
      "metadata": {
        "id": "wC1P6Y8NB1rb"
      },
      "execution_count": 37,
      "outputs": []
    },
    {
      "cell_type": "code",
      "source": [
        "train_model(hidden_dim=20, lr=0.01, num_steps=10000)"
      ],
      "metadata": {
        "colab": {
          "base_uri": "https://localhost:8080/"
        },
        "id": "TQwZ8HjmB_Lc",
        "outputId": "e3e62a47-0498-4032-f149-e97c2ad5a02a"
      },
      "execution_count": 38,
      "outputs": [
        {
          "output_type": "stream",
          "name": "stdout",
          "text": [
            "Logits for hard examples=[tensor([-0.1585]), tensor([-0.1585])]\n",
            "Logits for hard examples=[tensor([0.0024]), tensor([0.0024])]\n",
            "Logits for hard examples=[tensor([0.0241]), tensor([0.0241])]\n",
            "Logits for hard examples=[tensor([-0.0002]), tensor([-0.0002])]\n",
            "Logits for hard examples=[tensor([-0.0011]), tensor([-0.0011])]\n",
            "Logits for hard examples=[tensor([0.0023]), tensor([0.0023])]\n",
            "Logits for hard examples=[tensor([0.0014]), tensor([0.0014])]\n",
            "Logits for hard examples=[tensor([0.0013]), tensor([0.0013])]\n",
            "Logits for hard examples=[tensor([0.0014]), tensor([0.0014])]\n",
            "Logits for hard examples=[tensor([0.0013]), tensor([0.0013])]\n",
            "Logits for hard examples=[tensor([0.0013]), tensor([0.0013])]\n",
            "Logits for hard examples=[tensor([0.0013]), tensor([0.0013])]\n",
            "Logits for hard examples=[tensor([0.0013]), tensor([0.0013])]\n",
            "Logits for hard examples=[tensor([0.0013]), tensor([0.0013])]\n",
            "Logits for hard examples=[tensor([0.0013]), tensor([0.0013])]\n",
            "Logits for hard examples=[tensor([0.0013]), tensor([0.0013])]\n",
            "Logits for hard examples=[tensor([0.0013]), tensor([0.0013])]\n",
            "Logits for hard examples=[tensor([0.0013]), tensor([0.0013])]\n",
            "Logits for hard examples=[tensor([0.0013]), tensor([0.0013])]\n",
            "Logits for hard examples=[tensor([0.0013]), tensor([0.0013])]\n",
            "Logits for hard examples=[tensor([0.0013]), tensor([0.0013])]\n",
            "Logits for hard examples=[tensor([0.0013]), tensor([0.0013])]\n",
            "Logits for hard examples=[tensor([0.0013]), tensor([0.0013])]\n",
            "Logits for hard examples=[tensor([0.0013]), tensor([0.0013])]\n",
            "Logits for hard examples=[tensor([0.0013]), tensor([0.0013])]\n",
            "Logits for hard examples=[tensor([0.0013]), tensor([0.0013])]\n",
            "Logits for hard examples=[tensor([0.0013]), tensor([0.0013])]\n",
            "Logits for hard examples=[tensor([0.0013]), tensor([0.0013])]\n",
            "Logits for hard examples=[tensor([0.0013]), tensor([0.0013])]\n",
            "Logits for hard examples=[tensor([0.0013]), tensor([0.0013])]\n",
            "Logits for hard examples=[tensor([0.0013]), tensor([0.0013])]\n",
            "Logits for hard examples=[tensor([0.0013]), tensor([0.0013])]\n",
            "Logits for hard examples=[tensor([0.0013]), tensor([0.0013])]\n",
            "Logits for hard examples=[tensor([0.0013]), tensor([0.0013])]\n",
            "Logits for hard examples=[tensor([0.0013]), tensor([0.0013])]\n",
            "Logits for hard examples=[tensor([0.0013]), tensor([0.0013])]\n",
            "Logits for hard examples=[tensor([0.0013]), tensor([0.0013])]\n",
            "Logits for hard examples=[tensor([0.0013]), tensor([0.0013])]\n",
            "Logits for hard examples=[tensor([0.0013]), tensor([0.0013])]\n",
            "Logits for hard examples=[tensor([0.0013]), tensor([0.0013])]\n",
            "Logits for hard examples=[tensor([0.0013]), tensor([0.0013])]\n",
            "Logits for hard examples=[tensor([0.0013]), tensor([0.0013])]\n",
            "Logits for hard examples=[tensor([0.0013]), tensor([0.0013])]\n",
            "Logits for hard examples=[tensor([0.0013]), tensor([0.0013])]\n",
            "Logits for hard examples=[tensor([0.0013]), tensor([0.0013])]\n",
            "Logits for hard examples=[tensor([0.0013]), tensor([0.0013])]\n",
            "Logits for hard examples=[tensor([0.0013]), tensor([0.0013])]\n",
            "Logits for hard examples=[tensor([0.0013]), tensor([0.0013])]\n",
            "Logits for hard examples=[tensor([0.0013]), tensor([0.0013])]\n",
            "Logits for hard examples=[tensor([0.0013]), tensor([0.0013])]\n",
            "Logits for hard examples=[tensor([0.0013]), tensor([0.0013])]\n",
            "Logits for hard examples=[tensor([0.0013]), tensor([0.0013])]\n",
            "Logits for hard examples=[tensor([0.0013]), tensor([0.0013])]\n",
            "Logits for hard examples=[tensor([0.0013]), tensor([0.0013])]\n",
            "Logits for hard examples=[tensor([0.0013]), tensor([0.0013])]\n",
            "Logits for hard examples=[tensor([0.0013]), tensor([0.0013])]\n",
            "Logits for hard examples=[tensor([0.0013]), tensor([0.0013])]\n",
            "Logits for hard examples=[tensor([0.0013]), tensor([0.0013])]\n",
            "Logits for hard examples=[tensor([0.0013]), tensor([0.0013])]\n",
            "Logits for hard examples=[tensor([0.0013]), tensor([0.0013])]\n",
            "Logits for hard examples=[tensor([0.0013]), tensor([0.0013])]\n",
            "Logits for hard examples=[tensor([0.0013]), tensor([0.0013])]\n",
            "Logits for hard examples=[tensor([0.0013]), tensor([0.0013])]\n",
            "Logits for hard examples=[tensor([0.0013]), tensor([0.0013])]\n",
            "Logits for hard examples=[tensor([0.0013]), tensor([0.0013])]\n",
            "Logits for hard examples=[tensor([0.0013]), tensor([0.0013])]\n",
            "Logits for hard examples=[tensor([0.0013]), tensor([0.0013])]\n",
            "Logits for hard examples=[tensor([0.0013]), tensor([0.0013])]\n",
            "Logits for hard examples=[tensor([0.0013]), tensor([0.0013])]\n",
            "Logits for hard examples=[tensor([0.0013]), tensor([0.0013])]\n",
            "Logits for hard examples=[tensor([0.0013]), tensor([0.0013])]\n",
            "Logits for hard examples=[tensor([0.0013]), tensor([0.0013])]\n",
            "Logits for hard examples=[tensor([0.0013]), tensor([0.0013])]\n",
            "Logits for hard examples=[tensor([0.0013]), tensor([0.0013])]\n",
            "Logits for hard examples=[tensor([0.0013]), tensor([0.0013])]\n",
            "Logits for hard examples=[tensor([0.0013]), tensor([0.0013])]\n",
            "Logits for hard examples=[tensor([0.0013]), tensor([0.0013])]\n",
            "Logits for hard examples=[tensor([0.0013]), tensor([0.0013])]\n",
            "Logits for hard examples=[tensor([0.0013]), tensor([0.0013])]\n",
            "Logits for hard examples=[tensor([0.0013]), tensor([0.0013])]\n",
            "Logits for hard examples=[tensor([0.0013]), tensor([0.0013])]\n",
            "Logits for hard examples=[tensor([0.0013]), tensor([0.0013])]\n",
            "Logits for hard examples=[tensor([0.0013]), tensor([0.0013])]\n",
            "Logits for hard examples=[tensor([0.0013]), tensor([0.0013])]\n",
            "Logits for hard examples=[tensor([0.0013]), tensor([0.0013])]\n",
            "Logits for hard examples=[tensor([0.0013]), tensor([0.0013])]\n",
            "Logits for hard examples=[tensor([0.0013]), tensor([0.0013])]\n",
            "Logits for hard examples=[tensor([0.0013]), tensor([0.0013])]\n",
            "Logits for hard examples=[tensor([0.0013]), tensor([0.0013])]\n",
            "Logits for hard examples=[tensor([0.0013]), tensor([0.0013])]\n",
            "Logits for hard examples=[tensor([0.0013]), tensor([0.0013])]\n",
            "Logits for hard examples=[tensor([0.0013]), tensor([0.0013])]\n",
            "Logits for hard examples=[tensor([0.0013]), tensor([0.0013])]\n",
            "Logits for hard examples=[tensor([0.0013]), tensor([0.0013])]\n",
            "Logits for hard examples=[tensor([0.0013]), tensor([0.0013])]\n",
            "Logits for hard examples=[tensor([0.0013]), tensor([0.0013])]\n",
            "Logits for hard examples=[tensor([0.0013]), tensor([0.0013])]\n",
            "Logits for hard examples=[tensor([0.0013]), tensor([0.0013])]\n",
            "Logits for hard examples=[tensor([0.0013]), tensor([0.0013])]\n",
            "Logits for hard examples=[tensor([0.0013]), tensor([0.0013])]\n"
          ]
        }
      ]
    },
    {
      "cell_type": "markdown",
      "source": [
        "2. Instead of training on `HARD_EXAMPLES` only, modify the training loop to train on sequences where zero may be in any position of the sequence (so any valid sequence of `Type 0`, not just the hardest one). After modifying the training loop check for what values of `SEQUENCE_LEN` you can train the model successfully."
      ],
      "metadata": {
        "id": "huxd1m_FEtbi"
      }
    },
    {
      "cell_type": "code",
      "source": [
        "SEQUENCE_LEN = 10\n",
        "\n",
        "\n",
        "# Pairs of (sequence, label)\n",
        "EXAMPLES = [((SEQUENCE_LEN-1)*[1.]+[0.], 0),\n",
        "                 (SEQUENCE_LEN*[1.], 1)]\n",
        "\n",
        "\n",
        "def eval_on_hard_examples(model):\n",
        "    with torch.no_grad():\n",
        "        logits = []\n",
        "        for sequence in EXAMPLES:\n",
        "            input = torch.tensor(sequence[0]).view(-1, 1, 1)\n",
        "            logit = model(input)\n",
        "            logits.append(logit.detach())\n",
        "        print(f'Logits for hard examples={logits}')\n",
        "\n",
        "\n",
        "def train_model(hidden_dim, lr, num_steps=10000):\n",
        "    model = Model(hidden_dim=hidden_dim)\n",
        "    loss_function = nn.BCEWithLogitsLoss()\n",
        "    optimizer = optim.SGD(model.parameters(), lr=lr, momentum=0.99)\n",
        "\n",
        "    for step in range(num_steps):  \n",
        "        if step % 100 == 0:\n",
        "            eval_on_hard_examples(model)\n",
        "\n",
        "        for sequence, label in EXAMPLES:\n",
        "            model.zero_grad()\n",
        "            logit = model(torch.tensor(sequence).view(-1, 1, 1))  \n",
        "            \n",
        "            loss = loss_function(logit.view(-1), torch.tensor([label], dtype=torch.float32))\n",
        "            loss.backward()\n",
        "\n",
        "            optimizer.step()   "
      ],
      "metadata": {
        "id": "AtMag5jFEufo"
      },
      "execution_count": 43,
      "outputs": []
    },
    {
      "cell_type": "code",
      "source": [
        "train_model(hidden_dim=20, lr=0.01, num_steps=10000)"
      ],
      "metadata": {
        "colab": {
          "base_uri": "https://localhost:8080/"
        },
        "id": "__b2RxXyFw4V",
        "outputId": "29812914-1a7b-4c76-a764-d3619b05376d"
      },
      "execution_count": 44,
      "outputs": [
        {
          "output_type": "stream",
          "name": "stdout",
          "text": [
            "Logits for hard examples=[tensor([0.1264]), tensor([0.1092])]\n",
            "Logits for hard examples=[tensor([-4.1522]), tensor([4.2849])]\n",
            "Logits for hard examples=[tensor([-9.3930]), tensor([8.9250])]\n",
            "Logits for hard examples=[tensor([-10.1448]), tensor([9.5306])]\n",
            "Logits for hard examples=[tensor([-10.3701]), tensor([9.6762])]\n",
            "Logits for hard examples=[tensor([-10.4821]), tensor([9.7562])]\n",
            "Logits for hard examples=[tensor([-10.5620]), tensor([9.8250])]\n",
            "Logits for hard examples=[tensor([-10.6233]), tensor([9.8919])]\n",
            "Logits for hard examples=[tensor([-10.6672]), tensor([9.9561])]\n",
            "Logits for hard examples=[tensor([-10.7036]), tensor([10.0230])]\n",
            "Logits for hard examples=[tensor([-10.7339]), tensor([10.0935])]\n",
            "Logits for hard examples=[tensor([-10.7594]), tensor([10.1686])]\n",
            "Logits for hard examples=[tensor([-10.7804]), tensor([10.2497])]\n",
            "Logits for hard examples=[tensor([-10.7967]), tensor([10.3378])]\n",
            "Logits for hard examples=[tensor([-10.8090]), tensor([10.4341])]\n",
            "Logits for hard examples=[tensor([-10.8164]), tensor([10.5382])]\n",
            "Logits for hard examples=[tensor([-10.8159]), tensor([10.6429])]\n",
            "Logits for hard examples=[tensor([-10.8062]), tensor([10.7473])]\n",
            "Logits for hard examples=[tensor([-10.7971]), tensor([10.8510])]\n",
            "Logits for hard examples=[tensor([-10.7876]), tensor([10.9525])]\n",
            "Logits for hard examples=[tensor([-10.7788]), tensor([11.0481])]\n",
            "Logits for hard examples=[tensor([-10.7719]), tensor([11.1356])]\n",
            "Logits for hard examples=[tensor([-10.7672]), tensor([11.2140])]\n",
            "Logits for hard examples=[tensor([-10.7646]), tensor([11.2837])]\n",
            "Logits for hard examples=[tensor([-10.7642]), tensor([11.3442])]\n",
            "Logits for hard examples=[tensor([-10.7661]), tensor([11.3964])]\n",
            "Logits for hard examples=[tensor([-10.7698]), tensor([11.4418])]\n",
            "Logits for hard examples=[tensor([-10.7749]), tensor([11.4813])]\n",
            "Logits for hard examples=[tensor([-10.7815]), tensor([11.5150])]\n",
            "Logits for hard examples=[tensor([-10.7891]), tensor([11.5449])]\n",
            "Logits for hard examples=[tensor([-10.7977]), tensor([11.5708])]\n",
            "Logits for hard examples=[tensor([-10.8067]), tensor([11.5942])]\n",
            "Logits for hard examples=[tensor([-10.8165]), tensor([11.6144])]\n",
            "Logits for hard examples=[tensor([-10.8267]), tensor([11.6329])]\n",
            "Logits for hard examples=[tensor([-10.8371]), tensor([11.6494])]\n",
            "Logits for hard examples=[tensor([-10.8478]), tensor([11.6646])]\n",
            "Logits for hard examples=[tensor([-10.8586]), tensor([11.6786])]\n",
            "Logits for hard examples=[tensor([-10.8694]), tensor([11.6917])]\n",
            "Logits for hard examples=[tensor([-10.8800]), tensor([11.7005])]\n",
            "Logits for hard examples=[tensor([-10.8838]), tensor([11.7143])]\n",
            "Logits for hard examples=[tensor([-10.8888]), tensor([11.7246])]\n",
            "Logits for hard examples=[tensor([-10.8941]), tensor([11.7335])]\n",
            "Logits for hard examples=[tensor([-10.8996]), tensor([11.7419])]\n",
            "Logits for hard examples=[tensor([-10.9051]), tensor([11.7497])]\n",
            "Logits for hard examples=[tensor([-10.9109]), tensor([11.7572])]\n",
            "Logits for hard examples=[tensor([-10.9167]), tensor([11.7639])]\n",
            "Logits for hard examples=[tensor([-10.9227]), tensor([11.7707])]\n",
            "Logits for hard examples=[tensor([-10.9287]), tensor([11.7771])]\n",
            "Logits for hard examples=[tensor([-10.9347]), tensor([11.7833])]\n",
            "Logits for hard examples=[tensor([-10.9408]), tensor([11.7893])]\n",
            "Logits for hard examples=[tensor([-10.9469]), tensor([11.7951])]\n",
            "Logits for hard examples=[tensor([-10.9537]), tensor([11.7991])]\n",
            "Logits for hard examples=[tensor([-10.9619]), tensor([11.7993])]\n",
            "Logits for hard examples=[tensor([-10.9701]), tensor([11.7994])]\n",
            "Logits for hard examples=[tensor([-10.9783]), tensor([11.7993])]\n",
            "Logits for hard examples=[tensor([-10.9864]), tensor([11.7992])]\n",
            "Logits for hard examples=[tensor([-10.9943]), tensor([11.7992])]\n",
            "Logits for hard examples=[tensor([-11.0023]), tensor([11.7993])]\n",
            "Logits for hard examples=[tensor([-11.0101]), tensor([11.7994])]\n",
            "Logits for hard examples=[tensor([-11.0178]), tensor([11.7997])]\n",
            "Logits for hard examples=[tensor([-11.0255]), tensor([11.7999])]\n",
            "Logits for hard examples=[tensor([-11.0333]), tensor([11.7999])]\n",
            "Logits for hard examples=[tensor([-11.0408]), tensor([11.8003])]\n",
            "Logits for hard examples=[tensor([-11.0483]), tensor([11.8003])]\n",
            "Logits for hard examples=[tensor([-11.0557]), tensor([11.8006])]\n",
            "Logits for hard examples=[tensor([-11.0629]), tensor([11.8012])]\n",
            "Logits for hard examples=[tensor([-11.0702]), tensor([11.8015])]\n",
            "Logits for hard examples=[tensor([-11.0774]), tensor([11.8020])]\n",
            "Logits for hard examples=[tensor([-11.0845]), tensor([11.8024])]\n",
            "Logits for hard examples=[tensor([-11.0916]), tensor([11.8028])]\n",
            "Logits for hard examples=[tensor([-11.0986]), tensor([11.8033])]\n",
            "Logits for hard examples=[tensor([-11.1055]), tensor([11.8037])]\n",
            "Logits for hard examples=[tensor([-11.1124]), tensor([11.8042])]\n",
            "Logits for hard examples=[tensor([-11.1193]), tensor([11.8047])]\n",
            "Logits for hard examples=[tensor([-11.1260]), tensor([11.8054])]\n",
            "Logits for hard examples=[tensor([-11.1328]), tensor([11.8057])]\n",
            "Logits for hard examples=[tensor([-11.1393]), tensor([11.8067])]\n",
            "Logits for hard examples=[tensor([-11.1459]), tensor([11.8073])]\n",
            "Logits for hard examples=[tensor([-11.1525]), tensor([11.8078])]\n",
            "Logits for hard examples=[tensor([-11.1589]), tensor([11.8085])]\n",
            "Logits for hard examples=[tensor([-11.1654]), tensor([11.8089])]\n",
            "Logits for hard examples=[tensor([-11.1717]), tensor([11.8097])]\n",
            "Logits for hard examples=[tensor([-11.1781]), tensor([11.8102])]\n",
            "Logits for hard examples=[tensor([-11.1843]), tensor([11.8108])]\n",
            "Logits for hard examples=[tensor([-11.1907]), tensor([11.8111])]\n",
            "Logits for hard examples=[tensor([-11.1968]), tensor([11.8119])]\n",
            "Logits for hard examples=[tensor([-11.2030]), tensor([11.8125])]\n",
            "Logits for hard examples=[tensor([-11.2090]), tensor([11.8131])]\n",
            "Logits for hard examples=[tensor([-11.2151]), tensor([11.8136])]\n",
            "Logits for hard examples=[tensor([-11.2211]), tensor([11.8142])]\n",
            "Logits for hard examples=[tensor([-11.2269]), tensor([11.8149])]\n",
            "Logits for hard examples=[tensor([-11.2327]), tensor([11.8157])]\n",
            "Logits for hard examples=[tensor([-11.2386]), tensor([11.8164])]\n",
            "Logits for hard examples=[tensor([-11.2444]), tensor([11.8172])]\n",
            "Logits for hard examples=[tensor([-11.2501]), tensor([11.8180])]\n",
            "Logits for hard examples=[tensor([-11.2558]), tensor([11.8188])]\n",
            "Logits for hard examples=[tensor([-11.2615]), tensor([11.8195])]\n",
            "Logits for hard examples=[tensor([-11.2671]), tensor([11.8204])]\n",
            "Logits for hard examples=[tensor([-11.2727]), tensor([11.8211])]\n",
            "Logits for hard examples=[tensor([-11.2782]), tensor([11.8219])]\n"
          ]
        }
      ]
    },
    {
      "cell_type": "code",
      "source": [
        "SEQUENCE_LEN = 100\n",
        "\n",
        "\n",
        "# Pairs of (sequence, label)\n",
        "EXAMPLES = [((SEQUENCE_LEN-1)*[1.]+[0.], 0),\n",
        "                 (SEQUENCE_LEN*[1.], 1)]\n",
        "\n",
        "\n",
        "def eval_on_hard_examples(model):\n",
        "    with torch.no_grad():\n",
        "        logits = []\n",
        "        for sequence in EXAMPLES:\n",
        "            input = torch.tensor(sequence[0]).view(-1, 1, 1)\n",
        "            logit = model(input)\n",
        "            logits.append(logit.detach())\n",
        "        print(f'Logits for hard examples={logits}')\n",
        "\n",
        "\n",
        "def train_model(hidden_dim, lr, num_steps=10000):\n",
        "    model = Model(hidden_dim=hidden_dim)\n",
        "    loss_function = nn.BCEWithLogitsLoss()\n",
        "    optimizer = optim.SGD(model.parameters(), lr=lr, momentum=0.99)\n",
        "\n",
        "    for step in range(num_steps):  \n",
        "        if step % 100 == 0:\n",
        "            eval_on_hard_examples(model)\n",
        "\n",
        "        for sequence, label in EXAMPLES:\n",
        "            model.zero_grad()\n",
        "            logit = model(torch.tensor(sequence).view(-1, 1, 1))  \n",
        "            \n",
        "            loss = loss_function(logit.view(-1), torch.tensor([label], dtype=torch.float32))\n",
        "            loss.backward()\n",
        "\n",
        "            optimizer.step()   "
      ],
      "metadata": {
        "id": "1PQ61WIHGSGR"
      },
      "execution_count": 45,
      "outputs": []
    },
    {
      "cell_type": "code",
      "source": [
        "train_model(hidden_dim=20, lr=0.01, num_steps=10000)"
      ],
      "metadata": {
        "colab": {
          "base_uri": "https://localhost:8080/"
        },
        "id": "nvDeHj4mGYf5",
        "outputId": "4db4b5e9-5aaf-46cd-92dc-630c8fae5eae"
      },
      "execution_count": 46,
      "outputs": [
        {
          "output_type": "stream",
          "name": "stdout",
          "text": [
            "Logits for hard examples=[tensor([-0.0153]), tensor([-0.0160])]\n",
            "Logits for hard examples=[tensor([-3.5542]), tensor([4.5477])]\n",
            "Logits for hard examples=[tensor([-9.2871]), tensor([9.3131])]\n",
            "Logits for hard examples=[tensor([-9.9792]), tensor([10.1100])]\n",
            "Logits for hard examples=[tensor([-10.0684]), tensor([10.2785])]\n",
            "Logits for hard examples=[tensor([-10.0797]), tensor([10.3536])]\n",
            "Logits for hard examples=[tensor([-10.0814]), tensor([10.4098])]\n",
            "Logits for hard examples=[tensor([-10.0825]), tensor([10.4574])]\n",
            "Logits for hard examples=[tensor([-10.0842]), tensor([10.4996])]\n",
            "Logits for hard examples=[tensor([-10.0864]), tensor([10.5384])]\n",
            "Logits for hard examples=[tensor([-10.0892]), tensor([10.5753])]\n",
            "Logits for hard examples=[tensor([-10.0924]), tensor([10.6105])]\n",
            "Logits for hard examples=[tensor([-10.0961]), tensor([10.6425])]\n",
            "Logits for hard examples=[tensor([-10.1001]), tensor([10.6725])]\n",
            "Logits for hard examples=[tensor([-10.1044]), tensor([10.7018])]\n",
            "Logits for hard examples=[tensor([-10.1089]), tensor([10.7302])]\n",
            "Logits for hard examples=[tensor([-10.1136]), tensor([10.7580])]\n",
            "Logits for hard examples=[tensor([-10.1184]), tensor([10.7843])]\n",
            "Logits for hard examples=[tensor([-10.1233]), tensor([10.8100])]\n",
            "Logits for hard examples=[tensor([-10.1282]), tensor([10.8353])]\n",
            "Logits for hard examples=[tensor([-10.1332]), tensor([10.8602])]\n",
            "Logits for hard examples=[tensor([-10.1383]), tensor([10.8827])]\n",
            "Logits for hard examples=[tensor([-10.1434]), tensor([10.9048])]\n",
            "Logits for hard examples=[tensor([-10.1485]), tensor([10.9274])]\n",
            "Logits for hard examples=[tensor([-10.1536]), tensor([10.9498])]\n",
            "Logits for hard examples=[tensor([-10.1587]), tensor([10.9722])]\n",
            "Logits for hard examples=[tensor([-10.1639]), tensor([10.9948])]\n",
            "Logits for hard examples=[tensor([-10.1690]), tensor([11.0176])]\n",
            "Logits for hard examples=[tensor([-10.1742]), tensor([11.0404])]\n",
            "Logits for hard examples=[tensor([-10.1794]), tensor([11.0631])]\n",
            "Logits for hard examples=[tensor([-10.1847]), tensor([11.0859])]\n",
            "Logits for hard examples=[tensor([-10.1899]), tensor([11.1088])]\n",
            "Logits for hard examples=[tensor([-10.1953]), tensor([11.1315])]\n",
            "Logits for hard examples=[tensor([-10.2007]), tensor([11.1543])]\n",
            "Logits for hard examples=[tensor([-10.2061]), tensor([11.1770])]\n",
            "Logits for hard examples=[tensor([-10.2116]), tensor([11.1994])]\n",
            "Logits for hard examples=[tensor([-10.2172]), tensor([11.2218])]\n",
            "Logits for hard examples=[tensor([-10.2229]), tensor([11.2438])]\n",
            "Logits for hard examples=[tensor([-10.2287]), tensor([11.2654])]\n",
            "Logits for hard examples=[tensor([-10.2346]), tensor([11.2870])]\n",
            "Logits for hard examples=[tensor([-10.2405]), tensor([11.3082])]\n",
            "Logits for hard examples=[tensor([-10.2466]), tensor([11.3292])]\n",
            "Logits for hard examples=[tensor([-10.2528]), tensor([11.3496])]\n",
            "Logits for hard examples=[tensor([-10.2590]), tensor([11.3696])]\n",
            "Logits for hard examples=[tensor([-10.2653]), tensor([11.3892])]\n",
            "Logits for hard examples=[tensor([-10.2718]), tensor([11.4084])]\n",
            "Logits for hard examples=[tensor([-10.2783]), tensor([11.4270])]\n",
            "Logits for hard examples=[tensor([-10.2849]), tensor([11.4452])]\n",
            "Logits for hard examples=[tensor([-10.2917]), tensor([11.4631])]\n",
            "Logits for hard examples=[tensor([-10.2985]), tensor([11.4805])]\n",
            "Logits for hard examples=[tensor([-10.3054]), tensor([11.4974])]\n",
            "Logits for hard examples=[tensor([-10.3123]), tensor([11.5139])]\n",
            "Logits for hard examples=[tensor([-10.3193]), tensor([11.5300])]\n",
            "Logits for hard examples=[tensor([-10.3264]), tensor([11.5456])]\n",
            "Logits for hard examples=[tensor([-10.3332]), tensor([11.5610])]\n",
            "Logits for hard examples=[tensor([-10.3401]), tensor([11.5763])]\n",
            "Logits for hard examples=[tensor([-10.3471]), tensor([11.5909])]\n",
            "Logits for hard examples=[tensor([-10.3542]), tensor([11.6052])]\n",
            "Logits for hard examples=[tensor([-10.3612]), tensor([11.6193])]\n",
            "Logits for hard examples=[tensor([-10.3683]), tensor([11.6329])]\n",
            "Logits for hard examples=[tensor([-10.3754]), tensor([11.6463])]\n",
            "Logits for hard examples=[tensor([-10.3826]), tensor([11.6589])]\n",
            "Logits for hard examples=[tensor([-10.3897]), tensor([11.6718])]\n",
            "Logits for hard examples=[tensor([-10.3969]), tensor([11.6842])]\n",
            "Logits for hard examples=[tensor([-10.4041]), tensor([11.6962])]\n",
            "Logits for hard examples=[tensor([-10.4113]), tensor([11.7081])]\n",
            "Logits for hard examples=[tensor([-10.4185]), tensor([11.7196])]\n",
            "Logits for hard examples=[tensor([-10.4257]), tensor([11.7308])]\n",
            "Logits for hard examples=[tensor([-10.4329]), tensor([11.7420])]\n",
            "Logits for hard examples=[tensor([-10.4400]), tensor([11.7529])]\n",
            "Logits for hard examples=[tensor([-10.4471]), tensor([11.7636])]\n",
            "Logits for hard examples=[tensor([-10.4543]), tensor([11.7741])]\n",
            "Logits for hard examples=[tensor([-10.4614]), tensor([11.7844])]\n",
            "Logits for hard examples=[tensor([-10.4685]), tensor([11.7946])]\n",
            "Logits for hard examples=[tensor([-10.4757]), tensor([11.8044])]\n",
            "Logits for hard examples=[tensor([-10.4828]), tensor([11.8143])]\n",
            "Logits for hard examples=[tensor([-10.4898]), tensor([11.8239])]\n",
            "Logits for hard examples=[tensor([-10.4968]), tensor([11.8334])]\n",
            "Logits for hard examples=[tensor([-10.5037]), tensor([11.8429])]\n",
            "Logits for hard examples=[tensor([-10.5108]), tensor([11.8517])]\n",
            "Logits for hard examples=[tensor([-10.5176]), tensor([11.8610])]\n",
            "Logits for hard examples=[tensor([-10.5246]), tensor([11.8697])]\n",
            "Logits for hard examples=[tensor([-10.5315]), tensor([11.8787])]\n",
            "Logits for hard examples=[tensor([-10.5383]), tensor([11.8872])]\n",
            "Logits for hard examples=[tensor([-10.5451]), tensor([11.8960])]\n",
            "Logits for hard examples=[tensor([-10.5519]), tensor([11.9043])]\n",
            "Logits for hard examples=[tensor([-10.5586]), tensor([11.9129])]\n",
            "Logits for hard examples=[tensor([-10.5654]), tensor([11.9207])]\n",
            "Logits for hard examples=[tensor([-10.5720]), tensor([11.9292])]\n",
            "Logits for hard examples=[tensor([-10.5788]), tensor([11.9370])]\n",
            "Logits for hard examples=[tensor([-10.5854]), tensor([11.9453])]\n",
            "Logits for hard examples=[tensor([-10.5920]), tensor([11.9530])]\n",
            "Logits for hard examples=[tensor([-10.5985]), tensor([11.9610])]\n",
            "Logits for hard examples=[tensor([-10.6051]), tensor([11.9687])]\n",
            "Logits for hard examples=[tensor([-10.6116]), tensor([11.9760])]\n",
            "Logits for hard examples=[tensor([-10.6179]), tensor([11.9839])]\n",
            "Logits for hard examples=[tensor([-10.6245]), tensor([11.9907])]\n",
            "Logits for hard examples=[tensor([-10.6308]), tensor([11.9980])]\n",
            "Logits for hard examples=[tensor([-10.6372]), tensor([12.0052])]\n",
            "Logits for hard examples=[tensor([-10.6437]), tensor([12.0118])]\n"
          ]
        }
      ]
    },
    {
      "cell_type": "markdown",
      "source": [
        "3. Replace LSTM by a classic RNN and check for what values of `SEQUENCE_LEN` you can train the model successfully.\n"
      ],
      "metadata": {
        "id": "znPz7j3PGkmg"
      }
    },
    {
      "cell_type": "code",
      "source": [
        "class ModelRNN(nn.Module):\n",
        "\n",
        "    def __init__(self, hidden_dim):\n",
        "        super(ModelRNN, self).__init__()\n",
        "        self.hidden_dim = hidden_dim\n",
        "        self.rnn = nn.RNN(1, self.hidden_dim)\n",
        "        self.hidden2label = nn.Linear(hidden_dim, 1)\n",
        "\n",
        "    def forward(self, x):\n",
        "        out, _ = self.rnn(x)\n",
        "        sequence_len = x.shape[0]\n",
        "        logits = self.hidden2label(F.relu(out[-1].view(-1)))\n",
        "        return logits"
      ],
      "metadata": {
        "id": "tzzQ9W8KKFDo"
      },
      "execution_count": 50,
      "outputs": []
    },
    {
      "cell_type": "code",
      "source": [
        "SEQUENCE_LEN = 10\n",
        "\n",
        "# Pairs of (sequence, label)\n",
        "HARD_EXAMPLES = [([0.]+(SEQUENCE_LEN-1)*[1.], 0),\n",
        "                 (SEQUENCE_LEN*[1.], 1)]\n",
        "\n",
        "\n",
        "def eval_on_hard_examples(model):\n",
        "    with torch.no_grad():\n",
        "        logits = []\n",
        "        for sequence in HARD_EXAMPLES:\n",
        "            input = torch.tensor(sequence[0]).view(-1, 1, 1)\n",
        "            logit = model(input)\n",
        "            logits.append(logit.detach())\n",
        "        print(f'Logits for hard examples={logits}')\n",
        "\n",
        "\n",
        "def train_model(hidden_dim, lr, num_steps=10000):\n",
        "    model = ModelRNN(hidden_dim=hidden_dim)\n",
        "    loss_function = nn.BCEWithLogitsLoss()\n",
        "    optimizer = optim.SGD(model.parameters(), lr=lr, momentum=0.99)\n",
        "\n",
        "    for step in range(num_steps):  \n",
        "        if step % 100 == 0:\n",
        "            eval_on_hard_examples(model)\n",
        "\n",
        "        for sequence, label in HARD_EXAMPLES:\n",
        "            model.zero_grad()\n",
        "            logit = model(torch.tensor(sequence).view(-1, 1, 1))  \n",
        "            \n",
        "            loss = loss_function(logit.view(-1), torch.tensor([label], dtype=torch.float32))\n",
        "            loss.backward()\n",
        "\n",
        "            optimizer.step()   "
      ],
      "metadata": {
        "id": "TY895HjrJh2U"
      },
      "execution_count": 51,
      "outputs": []
    },
    {
      "cell_type": "code",
      "source": [
        "train_model(hidden_dim=20, lr=0.01, num_steps=10000)"
      ],
      "metadata": {
        "colab": {
          "base_uri": "https://localhost:8080/"
        },
        "id": "mQsdbi_NKdF2",
        "outputId": "8eef8771-fe71-48d2-f809-b6d9478f3eb3"
      },
      "execution_count": 52,
      "outputs": [
        {
          "output_type": "stream",
          "name": "stdout",
          "text": [
            "Logits for hard examples=[tensor([-0.0428]), tensor([-0.0432])]\n",
            "Logits for hard examples=[tensor([-6.7880]), tensor([10.1588])]\n",
            "Logits for hard examples=[tensor([-13.7029]), tensor([19.4810])]\n",
            "Logits for hard examples=[tensor([-14.6298]), tensor([20.7230])]\n",
            "Logits for hard examples=[tensor([-14.7542]), tensor([20.8893])]\n",
            "Logits for hard examples=[tensor([-14.7711]), tensor([20.9116])]\n",
            "Logits for hard examples=[tensor([-14.7735]), tensor([20.9145])]\n",
            "Logits for hard examples=[tensor([-14.7740]), tensor([20.9149])]\n",
            "Logits for hard examples=[tensor([-14.7743]), tensor([20.9149])]\n",
            "Logits for hard examples=[tensor([-14.7745]), tensor([20.9148])]\n",
            "Logits for hard examples=[tensor([-14.7747]), tensor([20.9148])]\n",
            "Logits for hard examples=[tensor([-14.7750]), tensor([20.9147])]\n",
            "Logits for hard examples=[tensor([-14.7752]), tensor([20.9147])]\n",
            "Logits for hard examples=[tensor([-14.7754]), tensor([20.9147])]\n",
            "Logits for hard examples=[tensor([-14.7756]), tensor([20.9146])]\n",
            "Logits for hard examples=[tensor([-14.7758]), tensor([20.9146])]\n",
            "Logits for hard examples=[tensor([-14.7760]), tensor([20.9146])]\n",
            "Logits for hard examples=[tensor([-14.7763]), tensor([20.9145])]\n",
            "Logits for hard examples=[tensor([-14.7765]), tensor([20.9145])]\n",
            "Logits for hard examples=[tensor([-14.7767]), tensor([20.9144])]\n",
            "Logits for hard examples=[tensor([-14.7769]), tensor([20.9144])]\n",
            "Logits for hard examples=[tensor([-14.7771]), tensor([20.9144])]\n",
            "Logits for hard examples=[tensor([-14.7773]), tensor([20.9143])]\n",
            "Logits for hard examples=[tensor([-14.7776]), tensor([20.9143])]\n",
            "Logits for hard examples=[tensor([-14.7778]), tensor([20.9143])]\n",
            "Logits for hard examples=[tensor([-14.7780]), tensor([20.9142])]\n",
            "Logits for hard examples=[tensor([-14.7782]), tensor([20.9142])]\n",
            "Logits for hard examples=[tensor([-14.7784]), tensor([20.9141])]\n",
            "Logits for hard examples=[tensor([-14.7787]), tensor([20.9141])]\n",
            "Logits for hard examples=[tensor([-14.7789]), tensor([20.9141])]\n",
            "Logits for hard examples=[tensor([-14.7791]), tensor([20.9140])]\n",
            "Logits for hard examples=[tensor([-14.7793]), tensor([20.9140])]\n",
            "Logits for hard examples=[tensor([-14.7795]), tensor([20.9140])]\n",
            "Logits for hard examples=[tensor([-14.7797]), tensor([20.9139])]\n",
            "Logits for hard examples=[tensor([-14.7800]), tensor([20.9139])]\n",
            "Logits for hard examples=[tensor([-14.7802]), tensor([20.9138])]\n",
            "Logits for hard examples=[tensor([-14.7804]), tensor([20.9138])]\n",
            "Logits for hard examples=[tensor([-14.7806]), tensor([20.9138])]\n",
            "Logits for hard examples=[tensor([-14.7808]), tensor([20.9137])]\n",
            "Logits for hard examples=[tensor([-14.7810]), tensor([20.9137])]\n",
            "Logits for hard examples=[tensor([-14.7813]), tensor([20.9137])]\n",
            "Logits for hard examples=[tensor([-14.7815]), tensor([20.9136])]\n",
            "Logits for hard examples=[tensor([-14.7817]), tensor([20.9136])]\n",
            "Logits for hard examples=[tensor([-14.7819]), tensor([20.9136])]\n",
            "Logits for hard examples=[tensor([-14.7821]), tensor([20.9135])]\n",
            "Logits for hard examples=[tensor([-14.7824]), tensor([20.9135])]\n",
            "Logits for hard examples=[tensor([-14.7826]), tensor([20.9134])]\n",
            "Logits for hard examples=[tensor([-14.7828]), tensor([20.9134])]\n",
            "Logits for hard examples=[tensor([-14.7830]), tensor([20.9134])]\n",
            "Logits for hard examples=[tensor([-14.7832]), tensor([20.9133])]\n",
            "Logits for hard examples=[tensor([-14.7834]), tensor([20.9133])]\n",
            "Logits for hard examples=[tensor([-14.7837]), tensor([20.9133])]\n",
            "Logits for hard examples=[tensor([-14.7839]), tensor([20.9132])]\n",
            "Logits for hard examples=[tensor([-14.7841]), tensor([20.9132])]\n",
            "Logits for hard examples=[tensor([-14.7843]), tensor([20.9131])]\n",
            "Logits for hard examples=[tensor([-14.7845]), tensor([20.9131])]\n",
            "Logits for hard examples=[tensor([-14.7847]), tensor([20.9131])]\n",
            "Logits for hard examples=[tensor([-14.7850]), tensor([20.9130])]\n",
            "Logits for hard examples=[tensor([-14.7852]), tensor([20.9130])]\n",
            "Logits for hard examples=[tensor([-14.7854]), tensor([20.9130])]\n",
            "Logits for hard examples=[tensor([-14.7856]), tensor([20.9129])]\n",
            "Logits for hard examples=[tensor([-14.7858]), tensor([20.9129])]\n",
            "Logits for hard examples=[tensor([-14.7861]), tensor([20.9128])]\n",
            "Logits for hard examples=[tensor([-14.7863]), tensor([20.9128])]\n",
            "Logits for hard examples=[tensor([-14.7865]), tensor([20.9128])]\n",
            "Logits for hard examples=[tensor([-14.7867]), tensor([20.9127])]\n",
            "Logits for hard examples=[tensor([-14.7869]), tensor([20.9127])]\n",
            "Logits for hard examples=[tensor([-14.7871]), tensor([20.9127])]\n",
            "Logits for hard examples=[tensor([-14.7874]), tensor([20.9126])]\n",
            "Logits for hard examples=[tensor([-14.7876]), tensor([20.9126])]\n",
            "Logits for hard examples=[tensor([-14.7878]), tensor([20.9125])]\n",
            "Logits for hard examples=[tensor([-14.7880]), tensor([20.9125])]\n",
            "Logits for hard examples=[tensor([-14.7882]), tensor([20.9125])]\n",
            "Logits for hard examples=[tensor([-14.7884]), tensor([20.9124])]\n",
            "Logits for hard examples=[tensor([-14.7887]), tensor([20.9124])]\n",
            "Logits for hard examples=[tensor([-14.7889]), tensor([20.9124])]\n",
            "Logits for hard examples=[tensor([-14.7891]), tensor([20.9123])]\n",
            "Logits for hard examples=[tensor([-14.7893]), tensor([20.9123])]\n",
            "Logits for hard examples=[tensor([-14.7895]), tensor([20.9122])]\n",
            "Logits for hard examples=[tensor([-14.7898]), tensor([20.9122])]\n",
            "Logits for hard examples=[tensor([-14.7900]), tensor([20.9122])]\n",
            "Logits for hard examples=[tensor([-14.7902]), tensor([20.9121])]\n",
            "Logits for hard examples=[tensor([-14.7904]), tensor([20.9121])]\n",
            "Logits for hard examples=[tensor([-14.7906]), tensor([20.9121])]\n",
            "Logits for hard examples=[tensor([-14.7908]), tensor([20.9120])]\n",
            "Logits for hard examples=[tensor([-14.7911]), tensor([20.9120])]\n",
            "Logits for hard examples=[tensor([-14.7913]), tensor([20.9119])]\n",
            "Logits for hard examples=[tensor([-14.7915]), tensor([20.9119])]\n",
            "Logits for hard examples=[tensor([-14.7917]), tensor([20.9119])]\n",
            "Logits for hard examples=[tensor([-14.7919]), tensor([20.9118])]\n",
            "Logits for hard examples=[tensor([-14.7921]), tensor([20.9118])]\n",
            "Logits for hard examples=[tensor([-14.7924]), tensor([20.9118])]\n",
            "Logits for hard examples=[tensor([-14.7926]), tensor([20.9117])]\n",
            "Logits for hard examples=[tensor([-14.7928]), tensor([20.9117])]\n",
            "Logits for hard examples=[tensor([-14.7930]), tensor([20.9117])]\n",
            "Logits for hard examples=[tensor([-14.7932]), tensor([20.9116])]\n",
            "Logits for hard examples=[tensor([-14.7935]), tensor([20.9116])]\n",
            "Logits for hard examples=[tensor([-14.7937]), tensor([20.9115])]\n",
            "Logits for hard examples=[tensor([-14.7939]), tensor([20.9115])]\n",
            "Logits for hard examples=[tensor([-14.7941]), tensor([20.9115])]\n"
          ]
        }
      ]
    },
    {
      "cell_type": "code",
      "source": [
        "SEQUENCE_LEN = 100\n",
        "\n",
        "# Pairs of (sequence, label)\n",
        "HARD_EXAMPLES = [([0.]+(SEQUENCE_LEN-1)*[1.], 0),\n",
        "                 (SEQUENCE_LEN*[1.], 1)]\n",
        "\n",
        "\n",
        "def eval_on_hard_examples(model):\n",
        "    with torch.no_grad():\n",
        "        logits = []\n",
        "        for sequence in HARD_EXAMPLES:\n",
        "            input = torch.tensor(sequence[0]).view(-1, 1, 1)\n",
        "            logit = model(input)\n",
        "            logits.append(logit.detach())\n",
        "        print(f'Logits for hard examples={logits}')\n",
        "\n",
        "\n",
        "def train_model(hidden_dim, lr, num_steps=10000):\n",
        "    model = ModelRNN(hidden_dim=hidden_dim)\n",
        "    loss_function = nn.BCEWithLogitsLoss()\n",
        "    optimizer = optim.SGD(model.parameters(), lr=lr, momentum=0.99)\n",
        "\n",
        "    for step in range(num_steps):  \n",
        "        if step % 100 == 0:\n",
        "            eval_on_hard_examples(model)\n",
        "\n",
        "        for sequence, label in HARD_EXAMPLES:\n",
        "            model.zero_grad()\n",
        "            logit = model(torch.tensor(sequence).view(-1, 1, 1))  \n",
        "            \n",
        "            loss = loss_function(logit.view(-1), torch.tensor([label], dtype=torch.float32))\n",
        "            loss.backward()\n",
        "\n",
        "            optimizer.step()   "
      ],
      "metadata": {
        "id": "oZUOi6J1KsAP"
      },
      "execution_count": 53,
      "outputs": []
    },
    {
      "cell_type": "code",
      "source": [
        "train_model(hidden_dim=20, lr=0.01, num_steps=10000)"
      ],
      "metadata": {
        "colab": {
          "base_uri": "https://localhost:8080/"
        },
        "id": "M8xC5lH4KvmO",
        "outputId": "9f6104df-3ae0-46d4-9f04-7dbc908b76c0"
      },
      "execution_count": 54,
      "outputs": [
        {
          "output_type": "stream",
          "name": "stdout",
          "text": [
            "Logits for hard examples=[tensor([0.2561]), tensor([0.2561])]\n",
            "Logits for hard examples=[tensor([-0.0146]), tensor([-0.0146])]\n",
            "Logits for hard examples=[tensor([-0.0136]), tensor([-0.0136])]\n",
            "Logits for hard examples=[tensor([-0.0045]), tensor([-0.0045])]\n",
            "Logits for hard examples=[tensor([0.0020]), tensor([0.0020])]\n",
            "Logits for hard examples=[tensor([0.0017]), tensor([0.0017])]\n",
            "Logits for hard examples=[tensor([0.0010]), tensor([0.0010])]\n",
            "Logits for hard examples=[tensor([0.0014]), tensor([0.0014])]\n",
            "Logits for hard examples=[tensor([0.0012]), tensor([0.0012])]\n",
            "Logits for hard examples=[tensor([0.0013]), tensor([0.0013])]\n",
            "Logits for hard examples=[tensor([0.0013]), tensor([0.0013])]\n",
            "Logits for hard examples=[tensor([0.0013]), tensor([0.0013])]\n",
            "Logits for hard examples=[tensor([0.0013]), tensor([0.0013])]\n",
            "Logits for hard examples=[tensor([0.0013]), tensor([0.0013])]\n",
            "Logits for hard examples=[tensor([0.0013]), tensor([0.0013])]\n",
            "Logits for hard examples=[tensor([0.0013]), tensor([0.0013])]\n",
            "Logits for hard examples=[tensor([0.0013]), tensor([0.0013])]\n",
            "Logits for hard examples=[tensor([0.0013]), tensor([0.0013])]\n",
            "Logits for hard examples=[tensor([0.0013]), tensor([0.0013])]\n",
            "Logits for hard examples=[tensor([0.0013]), tensor([0.0013])]\n",
            "Logits for hard examples=[tensor([0.0013]), tensor([0.0013])]\n",
            "Logits for hard examples=[tensor([0.0013]), tensor([0.0013])]\n",
            "Logits for hard examples=[tensor([0.0013]), tensor([0.0013])]\n",
            "Logits for hard examples=[tensor([0.0013]), tensor([0.0013])]\n",
            "Logits for hard examples=[tensor([0.0013]), tensor([0.0013])]\n",
            "Logits for hard examples=[tensor([0.0013]), tensor([0.0013])]\n",
            "Logits for hard examples=[tensor([0.0013]), tensor([0.0013])]\n",
            "Logits for hard examples=[tensor([0.0013]), tensor([0.0013])]\n",
            "Logits for hard examples=[tensor([0.0013]), tensor([0.0013])]\n",
            "Logits for hard examples=[tensor([0.0013]), tensor([0.0013])]\n",
            "Logits for hard examples=[tensor([0.0013]), tensor([0.0013])]\n",
            "Logits for hard examples=[tensor([0.0013]), tensor([0.0013])]\n",
            "Logits for hard examples=[tensor([0.0013]), tensor([0.0013])]\n",
            "Logits for hard examples=[tensor([0.0013]), tensor([0.0013])]\n",
            "Logits for hard examples=[tensor([0.0013]), tensor([0.0013])]\n",
            "Logits for hard examples=[tensor([0.0013]), tensor([0.0013])]\n",
            "Logits for hard examples=[tensor([0.0013]), tensor([0.0013])]\n",
            "Logits for hard examples=[tensor([0.0013]), tensor([0.0013])]\n",
            "Logits for hard examples=[tensor([0.0013]), tensor([0.0013])]\n",
            "Logits for hard examples=[tensor([0.0013]), tensor([0.0013])]\n",
            "Logits for hard examples=[tensor([0.0013]), tensor([0.0013])]\n",
            "Logits for hard examples=[tensor([0.0013]), tensor([0.0013])]\n",
            "Logits for hard examples=[tensor([0.0013]), tensor([0.0013])]\n",
            "Logits for hard examples=[tensor([0.0013]), tensor([0.0013])]\n",
            "Logits for hard examples=[tensor([0.0013]), tensor([0.0013])]\n",
            "Logits for hard examples=[tensor([0.0013]), tensor([0.0013])]\n",
            "Logits for hard examples=[tensor([0.0013]), tensor([0.0013])]\n",
            "Logits for hard examples=[tensor([0.0013]), tensor([0.0013])]\n",
            "Logits for hard examples=[tensor([0.0013]), tensor([0.0013])]\n",
            "Logits for hard examples=[tensor([0.0013]), tensor([0.0013])]\n",
            "Logits for hard examples=[tensor([0.0013]), tensor([0.0013])]\n",
            "Logits for hard examples=[tensor([0.0013]), tensor([0.0013])]\n",
            "Logits for hard examples=[tensor([0.0013]), tensor([0.0013])]\n",
            "Logits for hard examples=[tensor([0.0013]), tensor([0.0013])]\n",
            "Logits for hard examples=[tensor([0.0013]), tensor([0.0013])]\n",
            "Logits for hard examples=[tensor([0.0013]), tensor([0.0013])]\n",
            "Logits for hard examples=[tensor([0.0013]), tensor([0.0013])]\n",
            "Logits for hard examples=[tensor([0.0013]), tensor([0.0013])]\n",
            "Logits for hard examples=[tensor([0.0013]), tensor([0.0013])]\n",
            "Logits for hard examples=[tensor([0.0013]), tensor([0.0013])]\n",
            "Logits for hard examples=[tensor([0.0013]), tensor([0.0013])]\n",
            "Logits for hard examples=[tensor([0.0013]), tensor([0.0013])]\n",
            "Logits for hard examples=[tensor([0.0013]), tensor([0.0013])]\n",
            "Logits for hard examples=[tensor([0.0013]), tensor([0.0013])]\n",
            "Logits for hard examples=[tensor([0.0013]), tensor([0.0013])]\n",
            "Logits for hard examples=[tensor([0.0013]), tensor([0.0013])]\n",
            "Logits for hard examples=[tensor([0.0013]), tensor([0.0013])]\n",
            "Logits for hard examples=[tensor([0.0013]), tensor([0.0013])]\n",
            "Logits for hard examples=[tensor([0.0013]), tensor([0.0013])]\n",
            "Logits for hard examples=[tensor([0.0013]), tensor([0.0013])]\n",
            "Logits for hard examples=[tensor([0.0013]), tensor([0.0013])]\n",
            "Logits for hard examples=[tensor([0.0013]), tensor([0.0013])]\n",
            "Logits for hard examples=[tensor([0.0013]), tensor([0.0013])]\n",
            "Logits for hard examples=[tensor([0.0013]), tensor([0.0013])]\n",
            "Logits for hard examples=[tensor([0.0013]), tensor([0.0013])]\n",
            "Logits for hard examples=[tensor([0.0013]), tensor([0.0013])]\n",
            "Logits for hard examples=[tensor([0.0013]), tensor([0.0013])]\n",
            "Logits for hard examples=[tensor([0.0013]), tensor([0.0013])]\n",
            "Logits for hard examples=[tensor([0.0013]), tensor([0.0013])]\n",
            "Logits for hard examples=[tensor([0.0013]), tensor([0.0013])]\n",
            "Logits for hard examples=[tensor([0.0013]), tensor([0.0013])]\n",
            "Logits for hard examples=[tensor([0.0013]), tensor([0.0013])]\n",
            "Logits for hard examples=[tensor([0.0013]), tensor([0.0013])]\n",
            "Logits for hard examples=[tensor([0.0013]), tensor([0.0013])]\n",
            "Logits for hard examples=[tensor([0.0013]), tensor([0.0013])]\n",
            "Logits for hard examples=[tensor([0.0013]), tensor([0.0013])]\n",
            "Logits for hard examples=[tensor([0.0013]), tensor([0.0013])]\n",
            "Logits for hard examples=[tensor([0.0013]), tensor([0.0013])]\n",
            "Logits for hard examples=[tensor([0.0013]), tensor([0.0013])]\n",
            "Logits for hard examples=[tensor([0.0013]), tensor([0.0013])]\n",
            "Logits for hard examples=[tensor([0.0013]), tensor([0.0013])]\n",
            "Logits for hard examples=[tensor([0.0013]), tensor([0.0013])]\n",
            "Logits for hard examples=[tensor([0.0013]), tensor([0.0013])]\n",
            "Logits for hard examples=[tensor([0.0013]), tensor([0.0013])]\n",
            "Logits for hard examples=[tensor([0.0013]), tensor([0.0013])]\n",
            "Logits for hard examples=[tensor([0.0013]), tensor([0.0013])]\n",
            "Logits for hard examples=[tensor([0.0013]), tensor([0.0013])]\n",
            "Logits for hard examples=[tensor([0.0013]), tensor([0.0013])]\n",
            "Logits for hard examples=[tensor([0.0013]), tensor([0.0013])]\n",
            "Logits for hard examples=[tensor([0.0013]), tensor([0.0013])]\n"
          ]
        }
      ]
    },
    {
      "cell_type": "markdown",
      "source": [
        "4. Write a proper curricullum learning loop, where in a loop you consider longer and longer sequences, where expansion of the sequence length happens only after the model is trained successfully on the current length.\n",
        "\n",
        "Note that for steps 2-4 you may need to change the value of `num_steps`."
      ],
      "metadata": {
        "id": "CDG1aonqGluR"
      }
    }
  ]
}