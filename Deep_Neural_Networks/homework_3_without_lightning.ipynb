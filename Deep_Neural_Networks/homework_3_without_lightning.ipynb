{
 "nbformat": 4,
 "nbformat_minor": 0,
 "metadata": {
  "colab": {
   "name": "Kopia_notatnika_GSN_2021_22_Homework_RNN_student_version_1 (1).ipynb",
   "provenance": [],
   "collapsed_sections": []
  },
  "kernelspec": {
   "name": "python3",
   "display_name": "Python 3"
  },
  "language_info": {
   "name": "python"
  },
  "accelerator": "GPU"
 },
 "cells": [
  {
   "cell_type": "markdown",
   "source": [
    "# Task definition\n",
    "Implement LSTM Sentiment Tagger for imdb reviews dataset.\n",
    "\n",
    "1. (5pt) Fill missing code below\n",
    "    * 1pt implement vectorization\n",
    "    * 2pt implement \\_\\_init\\_\\_ and forward methods of models\n",
    "    * 2pt implement collate function\n",
    "2. (4pt) Implement training loop, choose proper loss function, use clear ml for max points.\n",
    "    * 2pts is a baseline for well written, working code\n",
    "    * 2pts if clear ml used properly\n",
    "3. (3pt) Train the models (find proper hyperparams). Make sure you are not overfitting or underfitting. Visualize training of your best model (plot training, and test loss/accuracy in time). Your model should reach at least 87% accuracy. For max points it should exceed 89%. \n",
    "    * 1pt for accuracy above 89%\n",
    "    * 1pt for accuracy above 87%\n",
    "    * 1pt for visualizations\n",
    "\n",
    "Remarks:\n",
    "* Use embeddings of size 50\n",
    "* Use 0.5 threshold when computing accuracy.\n",
    "* Use supplied dataset for training and evaluation.\n",
    "* You do not have to use validation set.\n",
    "* You should monitor overfitting during training.\n",
    "* For max points use clear ml to store and manage logs from your experiments. \n",
    "* We encourage to use pytorch lightning library (Addtional point for using it - however the sum must not exceed 12)\n",
    "\n",
    "[Clear ML documentation](https://clear.ml/docs/latest/docs/)\n",
    "\n",
    "[Clear ML notebook exercise from bootcamp](https://colab.research.google.com/drive/1wtLb4gg8beLS7smcyJlOZppn6_rQvSxL?usp=sharing)"
   ],
   "metadata": {
    "id": "YhhKpOc0fl9Q"
   }
  },
  {
   "cell_type": "code",
   "source": [
    "!pip install clearml\n",
    "\n",
    "import os\n",
    "from collections import defaultdict\n",
    "\n",
    "import numpy as np\n",
    "import pandas as pd\n",
    "from tqdm.auto import tqdm\n",
    "import torchtext\n",
    "from clearml import Task\n",
    "\n",
    "import torch\n",
    "from torch import nn\n",
    "from torch import optim\n",
    "import torch.nn.functional as F\n",
    "\n",
    "from torch.utils.data import Dataset, DataLoader"
   ],
   "metadata": {
    "id": "IE-XdhV_b2nS",
    "colab": {
     "base_uri": "https://localhost:8080/"
    },
    "outputId": "bbb3d5a6-8b55-4bc0-a48a-299294aea568"
   },
   "execution_count": 1,
   "outputs": [
    {
     "output_type": "stream",
     "name": "stdout",
     "text": [
      "Collecting clearml\n",
      "  Downloading clearml-1.1.5-py2.py3-none-any.whl (1.1 MB)\n",
      "\u001B[K     |████████████████████████████████| 1.1 MB 5.0 MB/s \n",
      "\u001B[?25hRequirement already satisfied: attrs>=18.0 in /usr/local/lib/python3.7/dist-packages (from clearml) (21.4.0)\n",
      "Requirement already satisfied: psutil>=3.4.2 in /usr/local/lib/python3.7/dist-packages (from clearml) (5.4.8)\n",
      "Requirement already satisfied: jsonschema>=2.6.0 in /usr/local/lib/python3.7/dist-packages (from clearml) (4.3.3)\n",
      "Requirement already satisfied: numpy>=1.10 in /usr/local/lib/python3.7/dist-packages (from clearml) (1.19.5)\n",
      "Collecting furl>=2.0.0\n",
      "  Downloading furl-2.1.3-py2.py3-none-any.whl (20 kB)\n",
      "Requirement already satisfied: pyparsing>=2.0.3 in /usr/local/lib/python3.7/dist-packages (from clearml) (3.0.6)\n",
      "Collecting pyjwt<=2.1.0,>=1.6.4\n",
      "  Downloading PyJWT-2.1.0-py3-none-any.whl (16 kB)\n",
      "Requirement already satisfied: PyYAML>=3.12 in /usr/local/lib/python3.7/dist-packages (from clearml) (3.13)\n",
      "Requirement already satisfied: Pillow>=4.1.1 in /usr/local/lib/python3.7/dist-packages (from clearml) (7.1.2)\n",
      "Requirement already satisfied: requests>=2.20.0 in /usr/local/lib/python3.7/dist-packages (from clearml) (2.23.0)\n",
      "Collecting pathlib2>=2.3.0\n",
      "  Downloading pathlib2-2.3.6-py2.py3-none-any.whl (17 kB)\n",
      "Requirement already satisfied: six>=1.11.0 in /usr/local/lib/python3.7/dist-packages (from clearml) (1.15.0)\n",
      "Requirement already satisfied: future>=0.16.0 in /usr/local/lib/python3.7/dist-packages (from clearml) (0.16.0)\n",
      "Requirement already satisfied: urllib3>=1.21.1 in /usr/local/lib/python3.7/dist-packages (from clearml) (1.24.3)\n",
      "Requirement already satisfied: python-dateutil>=2.6.1 in /usr/local/lib/python3.7/dist-packages (from clearml) (2.8.2)\n",
      "Collecting orderedmultidict>=1.0.1\n",
      "  Downloading orderedmultidict-1.0.1-py2.py3-none-any.whl (11 kB)\n",
      "Requirement already satisfied: pyrsistent!=0.17.0,!=0.17.1,!=0.17.2,>=0.14.0 in /usr/local/lib/python3.7/dist-packages (from jsonschema>=2.6.0->clearml) (0.18.0)\n",
      "Requirement already satisfied: typing-extensions in /usr/local/lib/python3.7/dist-packages (from jsonschema>=2.6.0->clearml) (3.10.0.2)\n",
      "Requirement already satisfied: importlib-metadata in /usr/local/lib/python3.7/dist-packages (from jsonschema>=2.6.0->clearml) (4.10.0)\n",
      "Requirement already satisfied: importlib-resources>=1.4.0 in /usr/local/lib/python3.7/dist-packages (from jsonschema>=2.6.0->clearml) (5.4.0)\n",
      "Requirement already satisfied: zipp>=3.1.0 in /usr/local/lib/python3.7/dist-packages (from importlib-resources>=1.4.0->jsonschema>=2.6.0->clearml) (3.7.0)\n",
      "Requirement already satisfied: idna<3,>=2.5 in /usr/local/lib/python3.7/dist-packages (from requests>=2.20.0->clearml) (2.10)\n",
      "Requirement already satisfied: certifi>=2017.4.17 in /usr/local/lib/python3.7/dist-packages (from requests>=2.20.0->clearml) (2021.10.8)\n",
      "Requirement already satisfied: chardet<4,>=3.0.2 in /usr/local/lib/python3.7/dist-packages (from requests>=2.20.0->clearml) (3.0.4)\n",
      "Installing collected packages: orderedmultidict, pyjwt, pathlib2, furl, clearml\n",
      "Successfully installed clearml-1.1.5 furl-2.1.3 orderedmultidict-1.0.1 pathlib2-2.3.6 pyjwt-2.1.0\n"
     ]
    }
   ]
  },
  {
   "cell_type": "code",
   "source": [
    "\n",
    "web_server = 'https://app.community.clear.ml'\n",
    "api_server = 'https://api.community.clear.ml'\n",
    "files_server = 'https://files.community.clear.ml'\n",
    "access_key = ' '#@param {type:\"string\"}\n",
    "secret_key = ''#@param {type:\"string\"}\n",
    "\n",
    "Task.set_credentials(web_host=web_server,\n",
    "                     api_host=api_server,\n",
    "                     files_host=files_server,\n",
    "                     key=access_key,\n",
    "                     secret=secret_key)"
   ],
   "metadata": {
    "id": "ilxUhICVWQqZ"
   },
   "execution_count": 2,
   "outputs": []
  },
  {
   "cell_type": "code",
   "source": [
    "!pip install gdown\n",
    "!gdown https://drive.google.com/uc?id=1hK-3iiRPlbePb99Fe-34LJNZ5yB-nduq\n",
    "!tar -xvzf imdb_dataset.gz\n",
    "data = pd.read_csv(\"imdb_dataset.csv\")"
   ],
   "metadata": {
    "id": "iULzpw-rzKrA",
    "colab": {
     "base_uri": "https://localhost:8080/"
    },
    "outputId": "af6d0050-482b-4890-f09f-26308c3a1590"
   },
   "execution_count": 3,
   "outputs": [
    {
     "output_type": "stream",
     "name": "stdout",
     "text": [
      "Requirement already satisfied: gdown in /usr/local/lib/python3.7/dist-packages (3.6.4)\n",
      "Requirement already satisfied: tqdm in /usr/local/lib/python3.7/dist-packages (from gdown) (4.62.3)\n",
      "Requirement already satisfied: requests in /usr/local/lib/python3.7/dist-packages (from gdown) (2.23.0)\n",
      "Requirement already satisfied: six in /usr/local/lib/python3.7/dist-packages (from gdown) (1.15.0)\n",
      "Requirement already satisfied: idna<3,>=2.5 in /usr/local/lib/python3.7/dist-packages (from requests->gdown) (2.10)\n",
      "Requirement already satisfied: chardet<4,>=3.0.2 in /usr/local/lib/python3.7/dist-packages (from requests->gdown) (3.0.4)\n",
      "Requirement already satisfied: certifi>=2017.4.17 in /usr/local/lib/python3.7/dist-packages (from requests->gdown) (2021.10.8)\n",
      "Requirement already satisfied: urllib3!=1.25.0,!=1.25.1,<1.26,>=1.21.1 in /usr/local/lib/python3.7/dist-packages (from requests->gdown) (1.24.3)\n",
      "Downloading...\n",
      "From: https://drive.google.com/uc?id=1hK-3iiRPlbePb99Fe-34LJNZ5yB-nduq\n",
      "To: /content/imdb_dataset.gz\n",
      "100% 77.0M/77.0M [00:01<00:00, 68.9MB/s]\n",
      "imdb_dataset.csv\n"
     ]
    }
   ]
  },
  {
   "cell_type": "code",
   "source": [
    "data['sentiment'].hist()"
   ],
   "metadata": {
    "colab": {
     "base_uri": "https://localhost:8080/",
     "height": 283
    },
    "id": "rqbKifme8lNC",
    "outputId": "2a7ec05c-0e10-481c-a9be-b214094c5142"
   },
   "execution_count": 4,
   "outputs": [
    {
     "output_type": "execute_result",
     "data": {
      "text/plain": [
       "<matplotlib.axes._subplots.AxesSubplot at 0x7ff7a76415d0>"
      ]
     },
     "metadata": {},
     "execution_count": 4
    },
    {
     "output_type": "display_data",
     "data": {
      "image/png": "[encoded data removed]",
      "text/plain": [
       "<Figure size 432x288 with 1 Axes>"
      ]
     },
     "metadata": {
      "needs_background": "light"
     }
    }
   ]
  },
  {
   "cell_type": "code",
   "source": [
    "data"
   ],
   "metadata": {
    "colab": {
     "base_uri": "https://localhost:8080/",
     "height": 418
    },
    "id": "sTHd3JMpEneY",
    "outputId": "8ff6ec87-6ce5-4b81-f0a5-b004148af250"
   },
   "execution_count": 5,
   "outputs": [
    {
     "output_type": "execute_result",
     "data": {
      "text/html": [
       "\n",
       "  <div id=\"df-0bab2165-09a7-4e99-b7b1-fe5ef21e8b08\">\n",
       "    <div class=\"colab-df-container\">\n",
       "      <div>\n",
       "<style scoped>\n",
       "    .dataframe tbody tr th:only-of-type {\n",
       "        vertical-align: middle;\n",
       "    }\n",
       "\n",
       "    .dataframe tbody tr th {\n",
       "        vertical-align: top;\n",
       "    }\n",
       "\n",
       "    .dataframe thead th {\n",
       "        text-align: right;\n",
       "    }\n",
       "</style>\n",
       "<table border=\"1\" class=\"dataframe\">\n",
       "  <thead>\n",
       "    <tr style=\"text-align: right;\">\n",
       "      <th></th>\n",
       "      <th>Unnamed: 0</th>\n",
       "      <th>text</th>\n",
       "      <th>split</th>\n",
       "      <th>id</th>\n",
       "      <th>stars</th>\n",
       "      <th>sentiment</th>\n",
       "      <th>tokenized</th>\n",
       "    </tr>\n",
       "  </thead>\n",
       "  <tbody>\n",
       "    <tr>\n",
       "      <th>0</th>\n",
       "      <td>0</td>\n",
       "      <td>Gary Cooper, (Michael Brandon) played the role...</td>\n",
       "      <td>test</td>\n",
       "      <td>6182</td>\n",
       "      <td>8</td>\n",
       "      <td>1.0</td>\n",
       "      <td>gary cooper , ( michael brandon ) played the r...</td>\n",
       "    </tr>\n",
       "    <tr>\n",
       "      <th>1</th>\n",
       "      <td>1</td>\n",
       "      <td>This film is a tapestry, a series of portraits...</td>\n",
       "      <td>test</td>\n",
       "      <td>7654</td>\n",
       "      <td>10</td>\n",
       "      <td>1.0</td>\n",
       "      <td>this film is a tapestry , a series of portrait...</td>\n",
       "    </tr>\n",
       "    <tr>\n",
       "      <th>2</th>\n",
       "      <td>2</td>\n",
       "      <td>i see there are great reviews of this film alr...</td>\n",
       "      <td>test</td>\n",
       "      <td>10435</td>\n",
       "      <td>7</td>\n",
       "      <td>1.0</td>\n",
       "      <td>i see there are great reviews of this film alr...</td>\n",
       "    </tr>\n",
       "    <tr>\n",
       "      <th>3</th>\n",
       "      <td>3</td>\n",
       "      <td>This film says everything there is to say abou...</td>\n",
       "      <td>test</td>\n",
       "      <td>10476</td>\n",
       "      <td>10</td>\n",
       "      <td>1.0</td>\n",
       "      <td>this film says everything there is to say abou...</td>\n",
       "    </tr>\n",
       "    <tr>\n",
       "      <th>4</th>\n",
       "      <td>4</td>\n",
       "      <td>Apparently this Australian film based on Nevil...</td>\n",
       "      <td>test</td>\n",
       "      <td>9769</td>\n",
       "      <td>9</td>\n",
       "      <td>1.0</td>\n",
       "      <td>apparently this australian film based on nevil...</td>\n",
       "    </tr>\n",
       "    <tr>\n",
       "      <th>...</th>\n",
       "      <td>...</td>\n",
       "      <td>...</td>\n",
       "      <td>...</td>\n",
       "      <td>...</td>\n",
       "      <td>...</td>\n",
       "      <td>...</td>\n",
       "      <td>...</td>\n",
       "    </tr>\n",
       "    <tr>\n",
       "      <th>99995</th>\n",
       "      <td>99995</td>\n",
       "      <td>Wow! I am still in absolute shock from this fi...</td>\n",
       "      <td>unsup</td>\n",
       "      <td>13698</td>\n",
       "      <td>0</td>\n",
       "      <td>NaN</td>\n",
       "      <td>wow ! i am still in absolute shock from this f...</td>\n",
       "    </tr>\n",
       "    <tr>\n",
       "      <th>99996</th>\n",
       "      <td>99996</td>\n",
       "      <td>As someone who always likes to solve the New Y...</td>\n",
       "      <td>unsup</td>\n",
       "      <td>6887</td>\n",
       "      <td>0</td>\n",
       "      <td>NaN</td>\n",
       "      <td>as someone who always likes to solve the new y...</td>\n",
       "    </tr>\n",
       "    <tr>\n",
       "      <th>99997</th>\n",
       "      <td>99997</td>\n",
       "      <td>What can i say positive about this movie? Abso...</td>\n",
       "      <td>unsup</td>\n",
       "      <td>13748</td>\n",
       "      <td>0</td>\n",
       "      <td>NaN</td>\n",
       "      <td>what can i say positive about this movie ? abs...</td>\n",
       "    </tr>\n",
       "    <tr>\n",
       "      <th>99998</th>\n",
       "      <td>99998</td>\n",
       "      <td>I am really amazed how bad acting can really b...</td>\n",
       "      <td>unsup</td>\n",
       "      <td>48085</td>\n",
       "      <td>0</td>\n",
       "      <td>NaN</td>\n",
       "      <td>i am really amazed how bad acting can really b...</td>\n",
       "    </tr>\n",
       "    <tr>\n",
       "      <th>99999</th>\n",
       "      <td>99999</td>\n",
       "      <td>Wonderfully daft piece of movie-making that ac...</td>\n",
       "      <td>unsup</td>\n",
       "      <td>44465</td>\n",
       "      <td>0</td>\n",
       "      <td>NaN</td>\n",
       "      <td>wonderfully daft piece of movie - making that ...</td>\n",
       "    </tr>\n",
       "  </tbody>\n",
       "</table>\n",
       "<p>100000 rows × 7 columns</p>\n",
       "</div>\n",
       "      <button class=\"colab-df-convert\" onclick=\"convertToInteractive('df-0bab2165-09a7-4e99-b7b1-fe5ef21e8b08')\"\n",
       "              title=\"Convert this dataframe to an interactive table.\"\n",
       "              style=\"display:none;\">\n",
       "        \n",
       "  <svg xmlns=\"http://www.w3.org/2000/svg\" height=\"24px\"viewBox=\"0 0 24 24\"\n",
       "       width=\"24px\">\n",
       "    <path d=\"M0 0h24v24H0V0z\" fill=\"none\"/>\n",
       "    <path d=\"M18.56 5.44l.94 2.06.94-2.06 2.06-.94-2.06-.94-.94-2.06-.94 2.06-2.06.94zm-11 1L8.5 8.5l.94-2.06 2.06-.94-2.06-.94L8.5 2.5l-.94 2.06-2.06.94zm10 10l.94 2.06.94-2.06 2.06-.94-2.06-.94-.94-2.06-.94 2.06-2.06.94z\"/><path d=\"M17.41 7.96l-1.37-1.37c-.4-.4-.92-.59-1.43-.59-.52 0-1.04.2-1.43.59L10.3 9.45l-7.72 7.72c-.78.78-.78 2.05 0 2.83L4 21.41c.39.39.9.59 1.41.59.51 0 1.02-.2 1.41-.59l7.78-7.78 2.81-2.81c.8-.78.8-2.07 0-2.86zM5.41 20L4 18.59l7.72-7.72 1.47 1.35L5.41 20z\"/>\n",
       "  </svg>\n",
       "      </button>\n",
       "      \n",
       "  <style>\n",
       "    .colab-df-container {\n",
       "      display:flex;\n",
       "      flex-wrap:wrap;\n",
       "      gap: 12px;\n",
       "    }\n",
       "\n",
       "    .colab-df-convert {\n",
       "      background-color: #E8F0FE;\n",
       "      border: none;\n",
       "      border-radius: 50%;\n",
       "      cursor: pointer;\n",
       "      display: none;\n",
       "      fill: #1967D2;\n",
       "      height: 32px;\n",
       "      padding: 0 0 0 0;\n",
       "      width: 32px;\n",
       "    }\n",
       "\n",
       "    .colab-df-convert:hover {\n",
       "      background-color: #E2EBFA;\n",
       "      box-shadow: 0px 1px 2px rgba(60, 64, 67, 0.3), 0px 1px 3px 1px rgba(60, 64, 67, 0.15);\n",
       "      fill: #174EA6;\n",
       "    }\n",
       "\n",
       "    [theme=dark] .colab-df-convert {\n",
       "      background-color: #3B4455;\n",
       "      fill: #D2E3FC;\n",
       "    }\n",
       "\n",
       "    [theme=dark] .colab-df-convert:hover {\n",
       "      background-color: #434B5C;\n",
       "      box-shadow: 0px 1px 3px 1px rgba(0, 0, 0, 0.15);\n",
       "      filter: drop-shadow(0px 1px 2px rgba(0, 0, 0, 0.3));\n",
       "      fill: #FFFFFF;\n",
       "    }\n",
       "  </style>\n",
       "\n",
       "      <script>\n",
       "        const buttonEl =\n",
       "          document.querySelector('#df-0bab2165-09a7-4e99-b7b1-fe5ef21e8b08 button.colab-df-convert');\n",
       "        buttonEl.style.display =\n",
       "          google.colab.kernel.accessAllowed ? 'block' : 'none';\n",
       "\n",
       "        async function convertToInteractive(key) {\n",
       "          const element = document.querySelector('#df-0bab2165-09a7-4e99-b7b1-fe5ef21e8b08');\n",
       "          const dataTable =\n",
       "            await google.colab.kernel.invokeFunction('convertToInteractive',\n",
       "                                                     [key], {});\n",
       "          if (!dataTable) return;\n",
       "\n",
       "          const docLinkHtml = 'Like what you see? Visit the ' +\n",
       "            '<a target=\"_blank\" href=https://colab.research.google.com/notebooks/data_table.ipynb>data table notebook</a>'\n",
       "            + ' to learn more about interactive tables.';\n",
       "          element.innerHTML = '';\n",
       "          dataTable['output_type'] = 'display_data';\n",
       "          await google.colab.output.renderOutput(dataTable, element);\n",
       "          const docLink = document.createElement('div');\n",
       "          docLink.innerHTML = docLinkHtml;\n",
       "          element.appendChild(docLink);\n",
       "        }\n",
       "      </script>\n",
       "    </div>\n",
       "  </div>\n",
       "  "
      ],
      "text/plain": [
       "       Unnamed: 0  ...                                          tokenized\n",
       "0               0  ...  gary cooper , ( michael brandon ) played the r...\n",
       "1               1  ...  this film is a tapestry , a series of portrait...\n",
       "2               2  ...  i see there are great reviews of this film alr...\n",
       "3               3  ...  this film says everything there is to say abou...\n",
       "4               4  ...  apparently this australian film based on nevil...\n",
       "...           ...  ...                                                ...\n",
       "99995       99995  ...  wow ! i am still in absolute shock from this f...\n",
       "99996       99996  ...  as someone who always likes to solve the new y...\n",
       "99997       99997  ...  what can i say positive about this movie ? abs...\n",
       "99998       99998  ...  i am really amazed how bad acting can really b...\n",
       "99999       99999  ...  wonderfully daft piece of movie - making that ...\n",
       "\n",
       "[100000 rows x 7 columns]"
      ]
     },
     "metadata": {},
     "execution_count": 5
    }
   ]
  },
  {
   "cell_type": "code",
   "source": [
    "PADDING_VALUE = 0\n",
    "\n",
    "class NaiveVectorizer:\n",
    "    def __init__(self, tokenized_data, **kwargs):\n",
    "        \"\"\"Converts data from string to vector of ints that represent words. \n",
    "        Prepare lookup dict (self.wv) that maps token to int. Reserve index 0 for padding.\n",
    "        \"\"\"\n",
    "        tokenized_data = [seq.split() for seq in tokenized_data]\n",
    "        ### Your code goes here ###\n",
    "        self.wv = dict()\n",
    "        iter = PADDING_VALUE + 1\n",
    "        for sequence in tokenized_data:\n",
    "          for word in sequence:\n",
    "            if word not in self.wv:\n",
    "              self.wv[word] = iter\n",
    "              iter += 1\n",
    "        ##################################\n",
    "\n",
    "    def vectorize(self, tokenized_seq):\n",
    "        \"\"\"Converts sequence of tokens into sequence of indices.\n",
    "        If the token does not appear in the vocabulary(self.wv) it is ommited\n",
    "        Returns torch tensor of shape (seq_len,) and type long.\"\"\"\n",
    "        ### Your code goes here ###\n",
    "        tokens = []\n",
    "        for word in tokenized_seq:\n",
    "          if word in self.wv:\n",
    "            tokens.append(self.wv[word])\n",
    "            \n",
    "        return torch.LongTensor(tokens)\n",
    "        ##################################\n",
    "\n"
   ],
   "metadata": {
    "id": "sisjcg2gtIdR"
   },
   "execution_count": 6,
   "outputs": []
  },
  {
   "cell_type": "code",
   "source": [
    "class ImdbDataset(Dataset):\n",
    "    SPLIT_TYPES = [\"train\", \"test\", \"unsup\"]\n",
    "\n",
    "    def __init__(self, data, preprocess_fn, split=\"train\"):\n",
    "        super(ImdbDataset, self).__init__()\n",
    "        if split not in self.SPLIT_TYPES:\n",
    "            raise AttributeError(f\"No such split type: {split}\")\n",
    "\n",
    "        self.split = split\n",
    "        self.label = [i for i, c in enumerate(data.columns) if c == \"sentiment\"][0]\n",
    "        self.data_col = [i for i, c in enumerate(data.columns) if c == \"tokenized\"][0]\n",
    "        self.data = data[data[\"split\"] == self.split]\n",
    "        self.preprocess_fn = preprocess_fn\n",
    "\n",
    "    def __len__(self):\n",
    "        return len(self.data)\n",
    "\n",
    "    def __getitem__(self, idx):\n",
    "        seq = self.preprocess_fn(self.data.iloc[idx, self.data_col].split())\n",
    "        label = self.data.iloc[idx, self.label]\n",
    "        return (seq, label)\n"
   ],
   "metadata": {
    "id": "He9hfJJ4QUab"
   },
   "execution_count": 7,
   "outputs": []
  },
  {
   "cell_type": "code",
   "source": [
    "from torch.nn.utils.rnn import pad_sequence\n",
    "naive_vectorizer = NaiveVectorizer(data.loc[data[\"split\"] == \"train\", \"tokenized\"])\n",
    "\n",
    "def get_datasets():\n",
    "    train_dataset = ImdbDataset(data, naive_vectorizer.vectorize)\n",
    "    test_dataset = ImdbDataset(data, naive_vectorizer.vectorize, split=\"test\")\n",
    "        \n",
    "    return train_dataset, test_dataset\n",
    "\n",
    "def custom_collate_fn(pairs):\n",
    "    \"\"\"This function is supposed to be used by dataloader to prepare batches\n",
    "    Input: list of tuples (sequence, label)\n",
    "    Output: sequences_padded_to_the_same_lenths, original_lenghts_of_sequences, lables.\n",
    "    torch.nn.utils.rnn.pad_sequence might be usefull here\n",
    "    \"\"\"\n",
    "    ### Your code goes here ###\n",
    "    seqcs, lengths, labels = [], [], []\n",
    "    for pair in pairs:\n",
    "      labels.append(pair[1])\n",
    "      lengths.append(len(pair[0]))\n",
    "      seqcs.append(pair[0])\n",
    "\n",
    "    seqcs = pad_sequence(seqcs, padding_value=PADDING_VALUE)\n",
    "    lengths = torch.LongTensor(lengths)\n",
    "    labels = torch.Tensor(labels)\n",
    "    #################################\n",
    "    return seqcs, lengths, labels"
   ],
   "metadata": {
    "id": "2PXf2XSqHVmT"
   },
   "execution_count": 8,
   "outputs": []
  },
  {
   "cell_type": "code",
   "source": [
    "\"\"\"Implement LSTMSentimentTagger. \n",
    "The model should use a LSTM module.\n",
    "Use torch.nn.utils.rnn.pack_padded_sequence to optimize processing of sequences.\n",
    "When computing vocab_size of embedding layer remeber that padding_symbol counts to the vocab.\n",
    "Use sigmoid activation function.\n",
    "\"\"\"\n",
    "from torch.autograd import Variable\n",
    "from torch.nn.utils.rnn import pack_padded_sequence, pad_packed_sequence\n",
    "\n",
    "class LSTMSentimentTagger(nn.Module):\n",
    "    def __init__(self, embedding_dim, hidden_dim, vocab_size, classes, batch_size, dropout_prob, num_layers):\n",
    "        super(LSTMSentimentTagger, self).__init__()\n",
    "\n",
    "        ### Your code goes here ###\n",
    "        self.hidden_dim = hidden_dim\n",
    "        self.batch_size = batch_size\n",
    "\n",
    "        self.embedding = nn.Embedding(vocab_size, embedding_dim)\n",
    "        self.lstm = nn.LSTM(input_size=embedding_dim, hidden_size=hidden_dim, num_layers =num_layers, dropout=dropout_prob)\n",
    "        self.linear = nn.Linear(hidden_dim, classes)\n",
    "        self.drop = nn.Dropout(dropout_prob)\n",
    "        #################################\n",
    "\n",
    "    def forward(self, sentence, lengths):\n",
    "        ### Your code goes here ###\n",
    "        batch_size = sentence.shape[1]\n",
    "        embeddings = self.embedding(sentence)\n",
    "        embeddings = self.drop(embeddings)\n",
    "        packed_embeddings = pack_padded_sequence(embeddings, lengths.cpu(), enforce_sorted=False)\n",
    "        lstm_out, _ = self.lstm(packed_embeddings)\n",
    "        output, hidden = pad_packed_sequence(lstm_out)\n",
    "        out = output[lengths - 1, range(batch_size) , :]\n",
    "        x = self.linear(out)\n",
    "        x = x.squeeze()\n",
    "        scores = torch.sigmoid(x)\n",
    "        #################################\n",
    "        return scores"
   ],
   "metadata": {
    "id": "KJjHVS8riqWZ"
   },
   "execution_count": 9,
   "outputs": []
  },
  {
   "cell_type": "markdown",
   "source": [
    "# Trainig loop and visualizations\n"
   ],
   "metadata": {
    "id": "aOvWoFyNwPBS"
   }
  },
  {
   "cell_type": "code",
   "source": [
    "import time\n",
    "from tqdm import tqdm"
   ],
   "metadata": {
    "id": "xofZl5PFo1rv"
   },
   "execution_count": 10,
   "outputs": []
  },
  {
   "cell_type": "code",
   "source": [
    "task = Task.create(project_name='GSN_homework_3', task_name='manual_log_experiment')\n",
    "task.mark_started()\n",
    "logger = task.get_logger()"
   ],
   "metadata": {
    "id": "7l9Xo5WjnJue"
   },
   "execution_count": 11,
   "outputs": []
  },
  {
   "cell_type": "code",
   "source": [
    "config = {\n",
    "    'n_epochs': 20,\n",
    "    'lr': 1e-3,\n",
    "    'batch_size': 128, \n",
    "    'optimizer': 'Adam',\n",
    "    'hidden_dim': 128, \n",
    "    'embedding_dim': 50,\n",
    "    'dropout': 0.5, \n",
    "    'num_layers': 2\n",
    "}\n",
    "task.connect(config)"
   ],
   "metadata": {
    "id": "XWQGhgH9n8gf",
    "colab": {
     "base_uri": "https://localhost:8080/"
    },
    "outputId": "5c52559c-45fd-4819-8646-bb7e61d90db2"
   },
   "execution_count": 12,
   "outputs": [
    {
     "output_type": "execute_result",
     "data": {
      "text/plain": [
       "{'batch_size': 128,\n",
       " 'dropout': 0.5,\n",
       " 'embedding_dim': 50,\n",
       " 'hidden_dim': 128,\n",
       " 'lr': 0.001,\n",
       " 'n_epochs': 20,\n",
       " 'num_layers': 2,\n",
       " 'optimizer': 'Adam'}"
      ]
     },
     "metadata": {},
     "execution_count": 12
    }
   ]
  },
  {
   "cell_type": "code",
   "source": [
    "def train(model, training_data, test_data, optimizer, device, loss_fn):\n",
    "\n",
    "    for epoch in range(config['n_epochs']):\n",
    "\n",
    "        print('[ Epoch', epoch, ']')\n",
    "        \n",
    "        start = time.time()\n",
    "        train_loss, train_acc = train_epoch(model, training_data, optimizer, device, loss_fn)\n",
    "        print('  - (Training)   loss: {loss: 8.5f}, accuracy: {acc:3.3f} %, time: {time:3.3f} min'.format(\n",
    "            loss = train_loss, acc=100*train_acc,\n",
    "            time=(time.time()-start)/60))\n",
    "        \n",
    "        start = time.time()\n",
    "        test_loss, test_acc = eval_epoch(model, test_data, device, loss_fn)\n",
    "        print('  - (Test)       loss: {loss: 8.5f}, accuracy: {acc:3.3f} %, time: {time:3.3f} min'.format(\n",
    "            loss = test_loss, acc=100*test_acc,\n",
    "            time=(time.time()-start)/60))\n",
    "\n",
    "        logger.report_scalar(title='Loss', series='Train', iteration=epoch, value=train_loss)\n",
    "        logger.report_scalar(title='Accuracy', series='Train', iteration=epoch, value=train_acc)\n",
    "        logger.report_scalar(title='Loss', series='Test', iteration=epoch, value=test_loss)\n",
    "        logger.report_scalar(title='Accuracy', series='Test', iteration=epoch, value=test_acc)\n",
    "\n",
    "\n",
    "def train_epoch(model, training_data, optimizer, device, loss_fn):\n",
    "    \n",
    "        model.train()\n",
    "\n",
    "        total_loss = 0\n",
    "        n_examples_total, n_examples_correct = 0, 0\n",
    "\n",
    "        for batch in tqdm(training_data, mininterval=2,desc='  - (Training)   ', leave=False):\n",
    "\n",
    "            seqcs, lengths, labels = batch[0].to(device), batch[1], batch[2].to(device)\n",
    "            # forward\n",
    "            optimizer.zero_grad()\n",
    "            pred = model(seqcs, lengths)\n",
    "\n",
    "            # backward\n",
    "            loss, n_correct = eval_performance(pred, labels, loss_fn)\n",
    "            loss.backward()\n",
    "\n",
    "            # update parameters\n",
    "            optimizer.step()\n",
    "\n",
    "            total_loss += loss.item()\n",
    "\n",
    "            n_examples_total += batch[2].size()[0]\n",
    "            n_examples_correct += n_correct\n",
    "            # print(f'Loss: {loss.item()}, acc: {n_correct/batch[2].size()[0]}')\n",
    "\n",
    "        accuracy = n_examples_correct/n_examples_total\n",
    "\n",
    "        return total_loss, accuracy\n",
    "\n",
    "\n",
    "def eval_epoch(model, test_data, device, loss_fn):\n",
    "\n",
    "    model.eval()\n",
    "\n",
    "    total_loss = 0\n",
    "    n_examples_total, n_examples_correct = 0, 0\n",
    "\n",
    "    with torch.no_grad():\n",
    "        for batch in tqdm(test_data, mininterval=2, desc='  - (Test) ', leave=False):\n",
    "\n",
    "            seqcs, lengths, labels = batch[0].to(device), batch[1], batch[2].to(device)\n",
    "\n",
    "            # forward\n",
    "            pred = model(seqcs, lengths)\n",
    "            loss, n_correct = eval_performance(pred, labels, loss_fn)\n",
    "\n",
    "            total_loss += loss.item()\n",
    "\n",
    "            n_examples_total += batch[2].size()[0]\n",
    "            n_examples_correct += n_correct\n",
    "\n",
    "    accuracy = n_examples_correct/n_examples_total\n",
    "\n",
    "    return total_loss, accuracy\n",
    "\n",
    "\n",
    "def eval_performance(prediction, ground_truth, loss_fn):\n",
    "    \n",
    "    loss = loss_fn(prediction, ground_truth)\n",
    "\n",
    "    n_correct = (torch.round(prediction) == ground_truth.to(torch.int32)).sum().item()\n",
    "\n",
    "    return loss, n_correct"
   ],
   "metadata": {
    "id": "bgjiOXsrzmly"
   },
   "execution_count": 13,
   "outputs": []
  },
  {
   "cell_type": "code",
   "source": [
    "training_data, test_data = get_datasets()\n",
    "train_dataloader = DataLoader(training_data, batch_size=config['batch_size'], shuffle=True, collate_fn=custom_collate_fn)\n",
    "test_dataloader = DataLoader(test_data, batch_size=config['batch_size'], shuffle=True, collate_fn=custom_collate_fn)"
   ],
   "metadata": {
    "id": "f9DsX6O0J5Bn"
   },
   "execution_count": 14,
   "outputs": []
  },
  {
   "cell_type": "code",
   "source": [
    "DEVICE = torch.device('cuda' if torch.cuda.is_available() else 'cpu')\n",
    "model = LSTMSentimentTagger(embedding_dim=config['embedding_dim'], hidden_dim=config['hidden_dim'], vocab_size=len(naive_vectorizer.wv)+1, classes=1, batch_size=config['batch_size'], dropout_prob=config['dropout'], num_layers=config['num_layers']).to(DEVICE)\n",
    "optimizer = optim.Adam(model.parameters(), lr=config['lr'])\n",
    "loss = nn.BCELoss()\n",
    "train(model=model, training_data=train_dataloader, test_data=test_dataloader, optimizer=optimizer, device=DEVICE, loss_fn=loss)"
   ],
   "metadata": {
    "colab": {
     "base_uri": "https://localhost:8080/"
    },
    "id": "51KrUC0FFd6P",
    "outputId": "11700981-1c51-4350-a12d-4874a84e46a8"
   },
   "execution_count": 15,
   "outputs": [
    {
     "output_type": "stream",
     "name": "stdout",
     "text": [
      "[ Epoch 0 ]\n"
     ]
    },
    {
     "output_type": "stream",
     "name": "stderr",
     "text": [
      ""
     ]
    },
    {
     "output_type": "stream",
     "name": "stdout",
     "text": [
      "  - (Training)   loss:  132.04050, accuracy: 57.320 %, time: 0.812 min\n"
     ]
    },
    {
     "output_type": "stream",
     "name": "stderr",
     "text": [
      ""
     ]
    },
    {
     "output_type": "stream",
     "name": "stdout",
     "text": [
      "  - (Test)       loss:  123.83015, accuracy: 64.168 %, time: 0.208 min\n",
      "[ Epoch 1 ]\n"
     ]
    },
    {
     "output_type": "stream",
     "name": "stderr",
     "text": [
      ""
     ]
    },
    {
     "output_type": "stream",
     "name": "stdout",
     "text": [
      "  - (Training)   loss:  126.72890, accuracy: 62.448 %, time: 0.813 min\n"
     ]
    },
    {
     "output_type": "stream",
     "name": "stderr",
     "text": [
      ""
     ]
    },
    {
     "output_type": "stream",
     "name": "stdout",
     "text": [
      "  - (Test)       loss:  124.14895, accuracy: 63.380 %, time: 0.210 min\n",
      "[ Epoch 2 ]\n"
     ]
    },
    {
     "output_type": "stream",
     "name": "stderr",
     "text": [
      ""
     ]
    },
    {
     "output_type": "stream",
     "name": "stdout",
     "text": [
      "  - (Training)   loss:  116.24437, accuracy: 68.436 %, time: 0.810 min\n"
     ]
    },
    {
     "output_type": "stream",
     "name": "stderr",
     "text": [
      ""
     ]
    },
    {
     "output_type": "stream",
     "name": "stdout",
     "text": [
      "  - (Test)       loss:  125.07560, accuracy: 70.184 %, time: 0.206 min\n",
      "[ Epoch 3 ]\n"
     ]
    },
    {
     "output_type": "stream",
     "name": "stderr",
     "text": [
      ""
     ]
    },
    {
     "output_type": "stream",
     "name": "stdout",
     "text": [
      "  - (Training)   loss:  108.84847, accuracy: 72.764 %, time: 0.810 min\n"
     ]
    },
    {
     "output_type": "stream",
     "name": "stderr",
     "text": [
      ""
     ]
    },
    {
     "output_type": "stream",
     "name": "stdout",
     "text": [
      "  - (Test)       loss:  92.28257, accuracy: 78.616 %, time: 0.207 min\n",
      "[ Epoch 4 ]\n"
     ]
    },
    {
     "output_type": "stream",
     "name": "stderr",
     "text": [
      ""
     ]
    },
    {
     "output_type": "stream",
     "name": "stdout",
     "text": [
      "  - (Training)   loss:  95.14292, accuracy: 77.296 %, time: 0.811 min\n"
     ]
    },
    {
     "output_type": "stream",
     "name": "stderr",
     "text": [
      ""
     ]
    },
    {
     "output_type": "stream",
     "name": "stdout",
     "text": [
      "  - (Test)       loss:  91.77799, accuracy: 78.608 %, time: 0.206 min\n",
      "[ Epoch 5 ]\n"
     ]
    },
    {
     "output_type": "stream",
     "name": "stderr",
     "text": [
      ""
     ]
    },
    {
     "output_type": "stream",
     "name": "stdout",
     "text": [
      "  - (Training)   loss:  86.11474, accuracy: 79.764 %, time: 0.815 min\n"
     ]
    },
    {
     "output_type": "stream",
     "name": "stderr",
     "text": [
      ""
     ]
    },
    {
     "output_type": "stream",
     "name": "stdout",
     "text": [
      "  - (Test)       loss:  84.06446, accuracy: 81.012 %, time: 0.203 min\n",
      "[ Epoch 6 ]\n"
     ]
    },
    {
     "output_type": "stream",
     "name": "stderr",
     "text": [
      ""
     ]
    },
    {
     "output_type": "stream",
     "name": "stdout",
     "text": [
      "  - (Training)   loss:  79.17331, accuracy: 82.176 %, time: 0.812 min\n"
     ]
    },
    {
     "output_type": "stream",
     "name": "stderr",
     "text": [
      ""
     ]
    },
    {
     "output_type": "stream",
     "name": "stdout",
     "text": [
      "  - (Test)       loss:  106.91982, accuracy: 77.448 %, time: 0.208 min\n",
      "[ Epoch 7 ]\n"
     ]
    },
    {
     "output_type": "stream",
     "name": "stderr",
     "text": [
      ""
     ]
    },
    {
     "output_type": "stream",
     "name": "stdout",
     "text": [
      "  - (Training)   loss:  72.14118, accuracy: 84.224 %, time: 0.809 min\n"
     ]
    },
    {
     "output_type": "stream",
     "name": "stderr",
     "text": [
      ""
     ]
    },
    {
     "output_type": "stream",
     "name": "stdout",
     "text": [
      "  - (Test)       loss:  76.90017, accuracy: 83.956 %, time: 0.207 min\n",
      "[ Epoch 8 ]\n"
     ]
    },
    {
     "output_type": "stream",
     "name": "stderr",
     "text": [
      ""
     ]
    },
    {
     "output_type": "stream",
     "name": "stdout",
     "text": [
      "  - (Training)   loss:  66.97516, accuracy: 85.356 %, time: 0.809 min\n"
     ]
    },
    {
     "output_type": "stream",
     "name": "stderr",
     "text": [
      ""
     ]
    },
    {
     "output_type": "stream",
     "name": "stdout",
     "text": [
      "  - (Test)       loss:  75.64371, accuracy: 84.924 %, time: 0.207 min\n",
      "[ Epoch 9 ]\n"
     ]
    },
    {
     "output_type": "stream",
     "name": "stderr",
     "text": [
      ""
     ]
    },
    {
     "output_type": "stream",
     "name": "stdout",
     "text": [
      "  - (Training)   loss:  62.86898, accuracy: 86.600 %, time: 0.817 min\n"
     ]
    },
    {
     "output_type": "stream",
     "name": "stderr",
     "text": [
      ""
     ]
    },
    {
     "output_type": "stream",
     "name": "stdout",
     "text": [
      "  - (Test)       loss:  65.09959, accuracy: 86.228 %, time: 0.211 min\n",
      "[ Epoch 10 ]\n"
     ]
    },
    {
     "output_type": "stream",
     "name": "stderr",
     "text": [
      ""
     ]
    },
    {
     "output_type": "stream",
     "name": "stdout",
     "text": [
      "  - (Training)   loss:  58.96117, accuracy: 87.484 %, time: 0.813 min\n"
     ]
    },
    {
     "output_type": "stream",
     "name": "stderr",
     "text": [
      ""
     ]
    },
    {
     "output_type": "stream",
     "name": "stdout",
     "text": [
      "  - (Test)       loss:  60.61704, accuracy: 87.376 %, time: 0.208 min\n",
      "[ Epoch 11 ]\n"
     ]
    },
    {
     "output_type": "stream",
     "name": "stderr",
     "text": [
      ""
     ]
    },
    {
     "output_type": "stream",
     "name": "stdout",
     "text": [
      "  - (Training)   loss:  55.72261, accuracy: 88.516 %, time: 0.810 min\n"
     ]
    },
    {
     "output_type": "stream",
     "name": "stderr",
     "text": [
      ""
     ]
    },
    {
     "output_type": "stream",
     "name": "stdout",
     "text": [
      "  - (Test)       loss:  66.14250, accuracy: 87.268 %, time: 0.207 min\n",
      "[ Epoch 12 ]\n"
     ]
    },
    {
     "output_type": "stream",
     "name": "stderr",
     "text": [
      ""
     ]
    },
    {
     "output_type": "stream",
     "name": "stdout",
     "text": [
      "  - (Training)   loss:  51.79608, accuracy: 89.248 %, time: 0.813 min\n"
     ]
    },
    {
     "output_type": "stream",
     "name": "stderr",
     "text": [
      ""
     ]
    },
    {
     "output_type": "stream",
     "name": "stdout",
     "text": [
      "  - (Test)       loss:  61.13753, accuracy: 87.276 %, time: 0.208 min\n",
      "[ Epoch 13 ]\n"
     ]
    },
    {
     "output_type": "stream",
     "name": "stderr",
     "text": [
      ""
     ]
    },
    {
     "output_type": "stream",
     "name": "stdout",
     "text": [
      "  - (Training)   loss:  48.00488, accuracy: 90.056 %, time: 0.810 min\n"
     ]
    },
    {
     "output_type": "stream",
     "name": "stderr",
     "text": [
      ""
     ]
    },
    {
     "output_type": "stream",
     "name": "stdout",
     "text": [
      "  - (Test)       loss:  58.79814, accuracy: 88.380 %, time: 0.209 min\n",
      "[ Epoch 14 ]\n"
     ]
    },
    {
     "output_type": "stream",
     "name": "stderr",
     "text": [
      ""
     ]
    },
    {
     "output_type": "stream",
     "name": "stdout",
     "text": [
      "  - (Training)   loss:  45.13828, accuracy: 90.692 %, time: 0.813 min\n"
     ]
    },
    {
     "output_type": "stream",
     "name": "stderr",
     "text": [
      ""
     ]
    },
    {
     "output_type": "stream",
     "name": "stdout",
     "text": [
      "  - (Test)       loss:  53.93180, accuracy: 89.224 %, time: 0.210 min\n",
      "[ Epoch 15 ]\n"
     ]
    },
    {
     "output_type": "stream",
     "name": "stderr",
     "text": [
      ""
     ]
    },
    {
     "output_type": "stream",
     "name": "stdout",
     "text": [
      "  - (Training)   loss:  42.75877, accuracy: 91.260 %, time: 0.815 min\n"
     ]
    },
    {
     "output_type": "stream",
     "name": "stderr",
     "text": [
      ""
     ]
    },
    {
     "output_type": "stream",
     "name": "stdout",
     "text": [
      "  - (Test)       loss:  57.46828, accuracy: 88.860 %, time: 0.208 min\n",
      "[ Epoch 16 ]\n"
     ]
    },
    {
     "output_type": "stream",
     "name": "stderr",
     "text": [
      ""
     ]
    },
    {
     "output_type": "stream",
     "name": "stdout",
     "text": [
      "  - (Training)   loss:  41.34286, accuracy: 91.456 %, time: 0.811 min\n"
     ]
    },
    {
     "output_type": "stream",
     "name": "stderr",
     "text": [
      ""
     ]
    },
    {
     "output_type": "stream",
     "name": "stdout",
     "text": [
      "  - (Test)       loss:  52.27160, accuracy: 89.616 %, time: 0.213 min\n",
      "[ Epoch 17 ]\n"
     ]
    },
    {
     "output_type": "stream",
     "name": "stderr",
     "text": [
      ""
     ]
    },
    {
     "output_type": "stream",
     "name": "stdout",
     "text": [
      "  - (Training)   loss:  38.82386, accuracy: 92.260 %, time: 0.810 min\n"
     ]
    },
    {
     "output_type": "stream",
     "name": "stderr",
     "text": [
      ""
     ]
    },
    {
     "output_type": "stream",
     "name": "stdout",
     "text": [
      "  - (Test)       loss:  59.31101, accuracy: 88.800 %, time: 0.211 min\n",
      "[ Epoch 18 ]\n"
     ]
    },
    {
     "output_type": "stream",
     "name": "stderr",
     "text": [
      ""
     ]
    },
    {
     "output_type": "stream",
     "name": "stdout",
     "text": [
      "  - (Training)   loss:  38.35729, accuracy: 92.348 %, time: 0.803 min\n"
     ]
    },
    {
     "output_type": "stream",
     "name": "stderr",
     "text": [
      ""
     ]
    },
    {
     "output_type": "stream",
     "name": "stdout",
     "text": [
      "  - (Test)       loss:  53.64658, accuracy: 89.836 %, time: 0.208 min\n",
      "[ Epoch 19 ]\n"
     ]
    },
    {
     "output_type": "stream",
     "name": "stderr",
     "text": [
      ""
     ]
    },
    {
     "output_type": "stream",
     "name": "stdout",
     "text": [
      "  - (Training)   loss:  35.77416, accuracy: 92.936 %, time: 0.809 min\n"
     ]
    },
    {
     "output_type": "stream",
     "name": "stderr",
     "text": [
      "                                                              "
     ]
    },
    {
     "output_type": "stream",
     "name": "stdout",
     "text": [
      "  - (Test)       loss:  52.14975, accuracy: 89.976 %, time: 0.206 min\n"
     ]
    },
    {
     "output_type": "stream",
     "name": "stderr",
     "text": [
      "\r"
     ]
    }
   ]
  },
  {
   "cell_type": "code",
   "source": [
    "# task.upload_artifact(name='weights', artifact_object=weights)\n",
    "task.mark_completed()\n",
    "task.close()"
   ],
   "metadata": {
    "id": "3u9Mxp4_oNuk",
    "colab": {
     "base_uri": "https://localhost:8080/"
    },
    "outputId": "9ede01af-6dca-4353-94f9-98e9eff9550f"
   },
   "execution_count": 16,
   "outputs": [
    {
     "output_type": "stream",
     "name": "stdout",
     "text": [
      "2022-01-13 23:31:32,723 - clearml.Task - INFO - Waiting to finish uploads\n",
      "2022-01-13 23:31:36,577 - clearml.Task - INFO - Finished uploading\n"
     ]
    }
   ]
  },
  {
   "cell_type": "code",
   "source": [
    "task_list = Task.get_tasks(\n",
    "    project_name='GSN_homework_3',\n",
    "    tags= ['best_no_lightning']\n",
    ")"
   ],
   "metadata": {
    "id": "gzQxnJpEdN_M"
   },
   "execution_count": 3,
   "outputs": []
  },
  {
   "cell_type": "code",
   "source": [
    "data = dict()\n",
    "for task in task_list:\n",
    "    metrics = task.get_reported_scalars()\n",
    "    data['train_acc'] = metrics['Accuracy']['Train']['y']\n",
    "    data['valid_acc'] = metrics['Accuracy']['Test']['y']\n",
    "    data['train_loss'] = metrics['Loss']['Train']['y']\n",
    "    data['valid_loss'] = metrics['Loss']['Test']['y']"
   ],
   "metadata": {
    "id": "dp6cQNTKsiv0"
   },
   "execution_count": 6,
   "outputs": []
  },
  {
   "cell_type": "code",
   "source": [
    "import plotly.express as px\n",
    "import plotly.graph_objects as go"
   ],
   "metadata": {
    "id": "_u53UYE2sxWm"
   },
   "execution_count": 8,
   "outputs": []
  },
  {
   "cell_type": "code",
   "source": [
    "df = pd.DataFrame(data)"
   ],
   "metadata": {
    "id": "ZtlNTXnAs1rw"
   },
   "execution_count": 9,
   "outputs": []
  },
  {
   "cell_type": "code",
   "source": [
    "fig = go.Figure()\n",
    "\n",
    "fig.add_trace(go.Scatter(\n",
    "    x=df.index,\n",
    "    y=df['train_acc'],\n",
    "    hovertext=df['train_acc'],\n",
    "    hoverinfo=\"text\",\n",
    "    name='train',\n",
    "    marker=dict(\n",
    "        color=\"blue\"\n",
    "    ),\n",
    "    showlegend=True\n",
    "))\n",
    "\n",
    "\n",
    "fig.add_trace(go.Scatter(\n",
    "    x=df.index,\n",
    "    y=df['valid_acc'],\n",
    "    hovertext=df['valid_acc'],\n",
    "    name='validation',\n",
    "    hoverinfo=\"text\",\n",
    "    marker=dict(\n",
    "        color=\"green\"\n",
    "    ),\n",
    "    showlegend=True\n",
    "))\n",
    "fig.update_layout(hovermode='x', title = 'Accuracy plot for the best model')\n",
    "\n",
    "fig.show()"
   ],
   "metadata": {
    "colab": {
     "base_uri": "https://localhost:8080/",
     "height": 542
    },
    "id": "Hf9pI6O5s3uo",
    "outputId": "2f987f44-30fd-4725-93d0-9af1c5505064"
   },
   "execution_count": 10,
   "outputs": [
    {
     "output_type": "display_data",
     "data": {
      "text/html": [
       "<html>\n",
       "<head><meta charset=\"utf-8\" /></head>\n",
       "<body>\n",
       "    <div>\n",
       "            <script src=\"https://cdnjs.cloudflare.com/ajax/libs/mathjax/2.7.5/MathJax.js?config=TeX-AMS-MML_SVG\"></script><script type=\"text/javascript\">if (window.MathJax) {MathJax.Hub.Config({SVG: {font: \"STIX-Web\"}});}</script>\n",
       "                <script type=\"text/javascript\">window.PlotlyConfig = {MathJaxConfig: 'local'};</script>\n",
       "        <script src=\"https://cdn.plot.ly/plotly-latest.min.js\"></script>    \n",
       "            <div id=\"3ce66ee5-0145-4018-9a11-cb076d134ea4\" class=\"plotly-graph-div\" style=\"height:525px; width:100%;\"></div>\n",
       "            <script type=\"text/javascript\">\n",
       "                \n",
       "                    window.PLOTLYENV=window.PLOTLYENV || {};\n",
       "                    \n",
       "                if (document.getElementById(\"3ce66ee5-0145-4018-9a11-cb076d134ea4\")) {\n",
       "                    Plotly.newPlot(\n",
       "                        '3ce66ee5-0145-4018-9a11-cb076d134ea4',\n",
       "                        [{\"hoverinfo\": \"text\", \"hovertext\": [0.573199987411499, 0.6244800090789795, 0.6843600273132324, 0.7276399731636047, 0.7729600071907043, 0.7976400256156921, 0.8217599987983704, 0.8422399759292603, 0.8535599708557129, 0.8659999966621399, 0.8748400211334229, 0.8851600289344788, 0.8924800157546997, 0.9005600214004517, 0.9069200158119202, 0.9125999808311462, 0.9145600199699402, 0.9225999712944031, 0.9234799742698669, 0.9293599724769592], \"marker\": {\"color\": \"blue\"}, \"name\": \"train\", \"showlegend\": true, \"type\": \"scatter\", \"x\": [0, 1, 2, 3, 4, 5, 6, 7, 8, 9, 10, 11, 12, 13, 14, 15, 16, 17, 18, 19], \"y\": [0.573199987411499, 0.6244800090789795, 0.6843600273132324, 0.7276399731636047, 0.7729600071907043, 0.7976400256156921, 0.8217599987983704, 0.8422399759292603, 0.8535599708557129, 0.8659999966621399, 0.8748400211334229, 0.8851600289344788, 0.8924800157546997, 0.9005600214004517, 0.9069200158119202, 0.9125999808311462, 0.9145600199699402, 0.9225999712944031, 0.9234799742698669, 0.9293599724769592]}, {\"hoverinfo\": \"text\", \"hovertext\": [0.6416800022125244, 0.6338000297546387, 0.7018399834632874, 0.7861599922180176, 0.786080002784729, 0.8101199865341187, 0.7744799852371216, 0.8395599722862244, 0.8492400050163269, 0.862280011177063, 0.8737599849700928, 0.8726800084114075, 0.872759997844696, 0.8838000297546387, 0.8922399878501892, 0.8885999917984009, 0.8961600065231323, 0.8880000114440918, 0.898360013961792, 0.8997600078582764], \"marker\": {\"color\": \"green\"}, \"name\": \"validation\", \"showlegend\": true, \"type\": \"scatter\", \"x\": [0, 1, 2, 3, 4, 5, 6, 7, 8, 9, 10, 11, 12, 13, 14, 15, 16, 17, 18, 19], \"y\": [0.6416800022125244, 0.6338000297546387, 0.7018399834632874, 0.7861599922180176, 0.786080002784729, 0.8101199865341187, 0.7744799852371216, 0.8395599722862244, 0.8492400050163269, 0.862280011177063, 0.8737599849700928, 0.8726800084114075, 0.872759997844696, 0.8838000297546387, 0.8922399878501892, 0.8885999917984009, 0.8961600065231323, 0.8880000114440918, 0.898360013961792, 0.8997600078582764]}],\n",
       "                        {\"hovermode\": \"x\", \"template\": {\"data\": {\"bar\": [{\"error_x\": {\"color\": \"#2a3f5f\"}, \"error_y\": {\"color\": \"#2a3f5f\"}, \"marker\": {\"line\": {\"color\": \"#E5ECF6\", \"width\": 0.5}}, \"type\": \"bar\"}], \"barpolar\": [{\"marker\": {\"line\": {\"color\": \"#E5ECF6\", \"width\": 0.5}}, \"type\": \"barpolar\"}], \"carpet\": [{\"aaxis\": {\"endlinecolor\": \"#2a3f5f\", \"gridcolor\": \"white\", \"linecolor\": \"white\", \"minorgridcolor\": \"white\", \"startlinecolor\": \"#2a3f5f\"}, \"baxis\": {\"endlinecolor\": \"#2a3f5f\", \"gridcolor\": \"white\", \"linecolor\": \"white\", \"minorgridcolor\": \"white\", \"startlinecolor\": \"#2a3f5f\"}, \"type\": \"carpet\"}], \"choropleth\": [{\"colorbar\": {\"outlinewidth\": 0, \"ticks\": \"\"}, \"type\": \"choropleth\"}], \"contour\": [{\"colorbar\": {\"outlinewidth\": 0, \"ticks\": \"\"}, \"colorscale\": [[0.0, \"#0d0887\"], [0.1111111111111111, \"#46039f\"], [0.2222222222222222, \"#7201a8\"], [0.3333333333333333, \"#9c179e\"], [0.4444444444444444, \"#bd3786\"], [0.5555555555555556, \"#d8576b\"], [0.6666666666666666, \"#ed7953\"], [0.7777777777777778, \"#fb9f3a\"], [0.8888888888888888, \"#fdca26\"], [1.0, \"#f0f921\"]], \"type\": \"contour\"}], \"contourcarpet\": [{\"colorbar\": {\"outlinewidth\": 0, \"ticks\": \"\"}, \"type\": \"contourcarpet\"}], \"heatmap\": [{\"colorbar\": {\"outlinewidth\": 0, \"ticks\": \"\"}, \"colorscale\": [[0.0, \"#0d0887\"], [0.1111111111111111, \"#46039f\"], [0.2222222222222222, \"#7201a8\"], [0.3333333333333333, \"#9c179e\"], [0.4444444444444444, \"#bd3786\"], [0.5555555555555556, \"#d8576b\"], [0.6666666666666666, \"#ed7953\"], [0.7777777777777778, \"#fb9f3a\"], [0.8888888888888888, \"#fdca26\"], [1.0, \"#f0f921\"]], \"type\": \"heatmap\"}], \"heatmapgl\": [{\"colorbar\": {\"outlinewidth\": 0, \"ticks\": \"\"}, \"colorscale\": [[0.0, \"#0d0887\"], [0.1111111111111111, \"#46039f\"], [0.2222222222222222, \"#7201a8\"], [0.3333333333333333, \"#9c179e\"], [0.4444444444444444, \"#bd3786\"], [0.5555555555555556, \"#d8576b\"], [0.6666666666666666, \"#ed7953\"], [0.7777777777777778, \"#fb9f3a\"], [0.8888888888888888, \"#fdca26\"], [1.0, \"#f0f921\"]], \"type\": \"heatmapgl\"}], \"histogram\": [{\"marker\": {\"colorbar\": {\"outlinewidth\": 0, \"ticks\": \"\"}}, \"type\": \"histogram\"}], \"histogram2d\": [{\"colorbar\": {\"outlinewidth\": 0, \"ticks\": \"\"}, \"colorscale\": [[0.0, \"#0d0887\"], [0.1111111111111111, \"#46039f\"], [0.2222222222222222, \"#7201a8\"], [0.3333333333333333, \"#9c179e\"], [0.4444444444444444, \"#bd3786\"], [0.5555555555555556, \"#d8576b\"], [0.6666666666666666, \"#ed7953\"], [0.7777777777777778, \"#fb9f3a\"], [0.8888888888888888, \"#fdca26\"], [1.0, \"#f0f921\"]], \"type\": \"histogram2d\"}], \"histogram2dcontour\": [{\"colorbar\": {\"outlinewidth\": 0, \"ticks\": \"\"}, \"colorscale\": [[0.0, \"#0d0887\"], [0.1111111111111111, \"#46039f\"], [0.2222222222222222, \"#7201a8\"], [0.3333333333333333, \"#9c179e\"], [0.4444444444444444, \"#bd3786\"], [0.5555555555555556, \"#d8576b\"], [0.6666666666666666, \"#ed7953\"], [0.7777777777777778, \"#fb9f3a\"], [0.8888888888888888, \"#fdca26\"], [1.0, \"#f0f921\"]], \"type\": \"histogram2dcontour\"}], \"mesh3d\": [{\"colorbar\": {\"outlinewidth\": 0, \"ticks\": \"\"}, \"type\": \"mesh3d\"}], \"parcoords\": [{\"line\": {\"colorbar\": {\"outlinewidth\": 0, \"ticks\": \"\"}}, \"type\": \"parcoords\"}], \"pie\": [{\"automargin\": true, \"type\": \"pie\"}], \"scatter\": [{\"marker\": {\"colorbar\": {\"outlinewidth\": 0, \"ticks\": \"\"}}, \"type\": \"scatter\"}], \"scatter3d\": [{\"line\": {\"colorbar\": {\"outlinewidth\": 0, \"ticks\": \"\"}}, \"marker\": {\"colorbar\": {\"outlinewidth\": 0, \"ticks\": \"\"}}, \"type\": \"scatter3d\"}], \"scattercarpet\": [{\"marker\": {\"colorbar\": {\"outlinewidth\": 0, \"ticks\": \"\"}}, \"type\": \"scattercarpet\"}], \"scattergeo\": [{\"marker\": {\"colorbar\": {\"outlinewidth\": 0, \"ticks\": \"\"}}, \"type\": \"scattergeo\"}], \"scattergl\": [{\"marker\": {\"colorbar\": {\"outlinewidth\": 0, \"ticks\": \"\"}}, \"type\": \"scattergl\"}], \"scattermapbox\": [{\"marker\": {\"colorbar\": {\"outlinewidth\": 0, \"ticks\": \"\"}}, \"type\": \"scattermapbox\"}], \"scatterpolar\": [{\"marker\": {\"colorbar\": {\"outlinewidth\": 0, \"ticks\": \"\"}}, \"type\": \"scatterpolar\"}], \"scatterpolargl\": [{\"marker\": {\"colorbar\": {\"outlinewidth\": 0, \"ticks\": \"\"}}, \"type\": \"scatterpolargl\"}], \"scatterternary\": [{\"marker\": {\"colorbar\": {\"outlinewidth\": 0, \"ticks\": \"\"}}, \"type\": \"scatterternary\"}], \"surface\": [{\"colorbar\": {\"outlinewidth\": 0, \"ticks\": \"\"}, \"colorscale\": [[0.0, \"#0d0887\"], [0.1111111111111111, \"#46039f\"], [0.2222222222222222, \"#7201a8\"], [0.3333333333333333, \"#9c179e\"], [0.4444444444444444, \"#bd3786\"], [0.5555555555555556, \"#d8576b\"], [0.6666666666666666, \"#ed7953\"], [0.7777777777777778, \"#fb9f3a\"], [0.8888888888888888, \"#fdca26\"], [1.0, \"#f0f921\"]], \"type\": \"surface\"}], \"table\": [{\"cells\": {\"fill\": {\"color\": \"#EBF0F8\"}, \"line\": {\"color\": \"white\"}}, \"header\": {\"fill\": {\"color\": \"#C8D4E3\"}, \"line\": {\"color\": \"white\"}}, \"type\": \"table\"}]}, \"layout\": {\"annotationdefaults\": {\"arrowcolor\": \"#2a3f5f\", \"arrowhead\": 0, \"arrowwidth\": 1}, \"coloraxis\": {\"colorbar\": {\"outlinewidth\": 0, \"ticks\": \"\"}}, \"colorscale\": {\"diverging\": [[0, \"#8e0152\"], [0.1, \"#c51b7d\"], [0.2, \"#de77ae\"], [0.3, \"#f1b6da\"], [0.4, \"#fde0ef\"], [0.5, \"#f7f7f7\"], [0.6, \"#e6f5d0\"], [0.7, \"#b8e186\"], [0.8, \"#7fbc41\"], [0.9, \"#4d9221\"], [1, \"#276419\"]], \"sequential\": [[0.0, \"#0d0887\"], [0.1111111111111111, \"#46039f\"], [0.2222222222222222, \"#7201a8\"], [0.3333333333333333, \"#9c179e\"], [0.4444444444444444, \"#bd3786\"], [0.5555555555555556, \"#d8576b\"], [0.6666666666666666, \"#ed7953\"], [0.7777777777777778, \"#fb9f3a\"], [0.8888888888888888, \"#fdca26\"], [1.0, \"#f0f921\"]], \"sequentialminus\": [[0.0, \"#0d0887\"], [0.1111111111111111, \"#46039f\"], [0.2222222222222222, \"#7201a8\"], [0.3333333333333333, \"#9c179e\"], [0.4444444444444444, \"#bd3786\"], [0.5555555555555556, \"#d8576b\"], [0.6666666666666666, \"#ed7953\"], [0.7777777777777778, \"#fb9f3a\"], [0.8888888888888888, \"#fdca26\"], [1.0, \"#f0f921\"]]}, \"colorway\": [\"#636efa\", \"#EF553B\", \"#00cc96\", \"#ab63fa\", \"#FFA15A\", \"#19d3f3\", \"#FF6692\", \"#B6E880\", \"#FF97FF\", \"#FECB52\"], \"font\": {\"color\": \"#2a3f5f\"}, \"geo\": {\"bgcolor\": \"white\", \"lakecolor\": \"white\", \"landcolor\": \"#E5ECF6\", \"showlakes\": true, \"showland\": true, \"subunitcolor\": \"white\"}, \"hoverlabel\": {\"align\": \"left\"}, \"hovermode\": \"closest\", \"mapbox\": {\"style\": \"light\"}, \"paper_bgcolor\": \"white\", \"plot_bgcolor\": \"#E5ECF6\", \"polar\": {\"angularaxis\": {\"gridcolor\": \"white\", \"linecolor\": \"white\", \"ticks\": \"\"}, \"bgcolor\": \"#E5ECF6\", \"radialaxis\": {\"gridcolor\": \"white\", \"linecolor\": \"white\", \"ticks\": \"\"}}, \"scene\": {\"xaxis\": {\"backgroundcolor\": \"#E5ECF6\", \"gridcolor\": \"white\", \"gridwidth\": 2, \"linecolor\": \"white\", \"showbackground\": true, \"ticks\": \"\", \"zerolinecolor\": \"white\"}, \"yaxis\": {\"backgroundcolor\": \"#E5ECF6\", \"gridcolor\": \"white\", \"gridwidth\": 2, \"linecolor\": \"white\", \"showbackground\": true, \"ticks\": \"\", \"zerolinecolor\": \"white\"}, \"zaxis\": {\"backgroundcolor\": \"#E5ECF6\", \"gridcolor\": \"white\", \"gridwidth\": 2, \"linecolor\": \"white\", \"showbackground\": true, \"ticks\": \"\", \"zerolinecolor\": \"white\"}}, \"shapedefaults\": {\"line\": {\"color\": \"#2a3f5f\"}}, \"ternary\": {\"aaxis\": {\"gridcolor\": \"white\", \"linecolor\": \"white\", \"ticks\": \"\"}, \"baxis\": {\"gridcolor\": \"white\", \"linecolor\": \"white\", \"ticks\": \"\"}, \"bgcolor\": \"#E5ECF6\", \"caxis\": {\"gridcolor\": \"white\", \"linecolor\": \"white\", \"ticks\": \"\"}}, \"title\": {\"x\": 0.05}, \"xaxis\": {\"automargin\": true, \"gridcolor\": \"white\", \"linecolor\": \"white\", \"ticks\": \"\", \"title\": {\"standoff\": 15}, \"zerolinecolor\": \"white\", \"zerolinewidth\": 2}, \"yaxis\": {\"automargin\": true, \"gridcolor\": \"white\", \"linecolor\": \"white\", \"ticks\": \"\", \"title\": {\"standoff\": 15}, \"zerolinecolor\": \"white\", \"zerolinewidth\": 2}}}, \"title\": {\"text\": \"Accuracy plot for the best model\"}},\n",
       "                        {\"responsive\": true}\n",
       "                    ).then(function(){\n",
       "                            \n",
       "var gd = document.getElementById('3ce66ee5-0145-4018-9a11-cb076d134ea4');\n",
       "var x = new MutationObserver(function (mutations, observer) {{\n",
       "        var display = window.getComputedStyle(gd).display;\n",
       "        if (!display || display === 'none') {{\n",
       "            console.log([gd, 'removed!']);\n",
       "            Plotly.purge(gd);\n",
       "            observer.disconnect();\n",
       "        }}\n",
       "}});\n",
       "\n",
       "// Listen for the removal of the full notebook cells\n",
       "var notebookContainer = gd.closest('#notebook-container');\n",
       "if (notebookContainer) {{\n",
       "    x.observe(notebookContainer, {childList: true});\n",
       "}}\n",
       "\n",
       "// Listen for the clearing of the current output cell\n",
       "var outputEl = gd.closest('.output');\n",
       "if (outputEl) {{\n",
       "    x.observe(outputEl, {childList: true});\n",
       "}}\n",
       "\n",
       "                        })\n",
       "                };\n",
       "                \n",
       "            </script>\n",
       "        </div>\n",
       "</body>\n",
       "</html>"
      ]
     },
     "metadata": {}
    }
   ]
  },
  {
   "cell_type": "code",
   "source": [
    "fig2 = go.Figure()\n",
    "\n",
    "fig2.add_trace(go.Scatter(\n",
    "    x=df.index,\n",
    "    y=df['train_loss'],\n",
    "    hovertext=df['train_loss'],\n",
    "    hoverinfo=\"text\",\n",
    "    name='train',\n",
    "    marker=dict(\n",
    "        color=\"blue\"\n",
    "    ),\n",
    "    showlegend=True\n",
    "))\n",
    "\n",
    "\n",
    "fig2.add_trace(go.Scatter(\n",
    "    x=df.index,\n",
    "    y=df['valid_loss'],\n",
    "    hovertext=df['valid_loss'],\n",
    "    name='validation',\n",
    "    hoverinfo=\"text\",\n",
    "    marker=dict(\n",
    "        color=\"green\"\n",
    "    ),\n",
    "    showlegend=True\n",
    "))\n",
    "fig2.update_layout(hovermode='x', title = 'Loss plot for the best model')\n",
    "\n",
    "fig2.show()"
   ],
   "metadata": {
    "colab": {
     "base_uri": "https://localhost:8080/",
     "height": 542
    },
    "id": "yslF8aC4s7FG",
    "outputId": "b80267dc-5650-4628-fe8d-45d8283b1992"
   },
   "execution_count": 11,
   "outputs": [
    {
     "output_type": "display_data",
     "data": {
      "text/html": [
       "<html>\n",
       "<head><meta charset=\"utf-8\" /></head>\n",
       "<body>\n",
       "    <div>\n",
       "            <script src=\"https://cdnjs.cloudflare.com/ajax/libs/mathjax/2.7.5/MathJax.js?config=TeX-AMS-MML_SVG\"></script><script type=\"text/javascript\">if (window.MathJax) {MathJax.Hub.Config({SVG: {font: \"STIX-Web\"}});}</script>\n",
       "                <script type=\"text/javascript\">window.PlotlyConfig = {MathJaxConfig: 'local'};</script>\n",
       "        <script src=\"https://cdn.plot.ly/plotly-latest.min.js\"></script>    \n",
       "            <div id=\"3d18d8fc-2e2a-4d97-a0c1-e0784501ccd0\" class=\"plotly-graph-div\" style=\"height:525px; width:100%;\"></div>\n",
       "            <script type=\"text/javascript\">\n",
       "                \n",
       "                    window.PLOTLYENV=window.PLOTLYENV || {};\n",
       "                    \n",
       "                if (document.getElementById(\"3d18d8fc-2e2a-4d97-a0c1-e0784501ccd0\")) {\n",
       "                    Plotly.newPlot(\n",
       "                        '3d18d8fc-2e2a-4d97-a0c1-e0784501ccd0',\n",
       "                        [{\"hoverinfo\": \"text\", \"hovertext\": [132.04049682617188, 126.72889709472656, 116.24436950683594, 108.84847259521484, 95.1429214477539, 86.11474609375, 79.17330932617188, 72.14118194580078, 66.97515869140625, 62.86897659301758, 58.96117401123047, 55.72260665893555, 51.79608154296875, 48.00487518310547, 45.138275146484375, 42.758766174316406, 41.34286117553711, 38.8238639831543, 38.35729217529297, 35.77416229248047], \"marker\": {\"color\": \"blue\"}, \"name\": \"train\", \"showlegend\": true, \"type\": \"scatter\", \"x\": [0, 1, 2, 3, 4, 5, 6, 7, 8, 9, 10, 11, 12, 13, 14, 15, 16, 17, 18, 19], \"y\": [132.04049682617188, 126.72889709472656, 116.24436950683594, 108.84847259521484, 95.1429214477539, 86.11474609375, 79.17330932617188, 72.14118194580078, 66.97515869140625, 62.86897659301758, 58.96117401123047, 55.72260665893555, 51.79608154296875, 48.00487518310547, 45.138275146484375, 42.758766174316406, 41.34286117553711, 38.8238639831543, 38.35729217529297, 35.77416229248047]}, {\"hoverinfo\": \"text\", \"hovertext\": [123.83015441894531, 124.14895629882812, 125.07559967041016, 92.28257751464844, 91.77799224853516, 84.064453125, 106.91981506347656, 76.9001693725586, 75.64370727539062, 65.0995864868164, 60.617042541503906, 66.14250183105469, 61.13753128051758, 58.79814529418945, 53.931800842285156, 57.46828079223633, 52.2715950012207, 59.311012268066406, 53.64657974243164, 52.149749755859375], \"marker\": {\"color\": \"green\"}, \"name\": \"validation\", \"showlegend\": true, \"type\": \"scatter\", \"x\": [0, 1, 2, 3, 4, 5, 6, 7, 8, 9, 10, 11, 12, 13, 14, 15, 16, 17, 18, 19], \"y\": [123.83015441894531, 124.14895629882812, 125.07559967041016, 92.28257751464844, 91.77799224853516, 84.064453125, 106.91981506347656, 76.9001693725586, 75.64370727539062, 65.0995864868164, 60.617042541503906, 66.14250183105469, 61.13753128051758, 58.79814529418945, 53.931800842285156, 57.46828079223633, 52.2715950012207, 59.311012268066406, 53.64657974243164, 52.149749755859375]}],\n",
       "                        {\"hovermode\": \"x\", \"template\": {\"data\": {\"bar\": [{\"error_x\": {\"color\": \"#2a3f5f\"}, \"error_y\": {\"color\": \"#2a3f5f\"}, \"marker\": {\"line\": {\"color\": \"#E5ECF6\", \"width\": 0.5}}, \"type\": \"bar\"}], \"barpolar\": [{\"marker\": {\"line\": {\"color\": \"#E5ECF6\", \"width\": 0.5}}, \"type\": \"barpolar\"}], \"carpet\": [{\"aaxis\": {\"endlinecolor\": \"#2a3f5f\", \"gridcolor\": \"white\", \"linecolor\": \"white\", \"minorgridcolor\": \"white\", \"startlinecolor\": \"#2a3f5f\"}, \"baxis\": {\"endlinecolor\": \"#2a3f5f\", \"gridcolor\": \"white\", \"linecolor\": \"white\", \"minorgridcolor\": \"white\", \"startlinecolor\": \"#2a3f5f\"}, \"type\": \"carpet\"}], \"choropleth\": [{\"colorbar\": {\"outlinewidth\": 0, \"ticks\": \"\"}, \"type\": \"choropleth\"}], \"contour\": [{\"colorbar\": {\"outlinewidth\": 0, \"ticks\": \"\"}, \"colorscale\": [[0.0, \"#0d0887\"], [0.1111111111111111, \"#46039f\"], [0.2222222222222222, \"#7201a8\"], [0.3333333333333333, \"#9c179e\"], [0.4444444444444444, \"#bd3786\"], [0.5555555555555556, \"#d8576b\"], [0.6666666666666666, \"#ed7953\"], [0.7777777777777778, \"#fb9f3a\"], [0.8888888888888888, \"#fdca26\"], [1.0, \"#f0f921\"]], \"type\": \"contour\"}], \"contourcarpet\": [{\"colorbar\": {\"outlinewidth\": 0, \"ticks\": \"\"}, \"type\": \"contourcarpet\"}], \"heatmap\": [{\"colorbar\": {\"outlinewidth\": 0, \"ticks\": \"\"}, \"colorscale\": [[0.0, \"#0d0887\"], [0.1111111111111111, \"#46039f\"], [0.2222222222222222, \"#7201a8\"], [0.3333333333333333, \"#9c179e\"], [0.4444444444444444, \"#bd3786\"], [0.5555555555555556, \"#d8576b\"], [0.6666666666666666, \"#ed7953\"], [0.7777777777777778, \"#fb9f3a\"], [0.8888888888888888, \"#fdca26\"], [1.0, \"#f0f921\"]], \"type\": \"heatmap\"}], \"heatmapgl\": [{\"colorbar\": {\"outlinewidth\": 0, \"ticks\": \"\"}, \"colorscale\": [[0.0, \"#0d0887\"], [0.1111111111111111, \"#46039f\"], [0.2222222222222222, \"#7201a8\"], [0.3333333333333333, \"#9c179e\"], [0.4444444444444444, \"#bd3786\"], [0.5555555555555556, \"#d8576b\"], [0.6666666666666666, \"#ed7953\"], [0.7777777777777778, \"#fb9f3a\"], [0.8888888888888888, \"#fdca26\"], [1.0, \"#f0f921\"]], \"type\": \"heatmapgl\"}], \"histogram\": [{\"marker\": {\"colorbar\": {\"outlinewidth\": 0, \"ticks\": \"\"}}, \"type\": \"histogram\"}], \"histogram2d\": [{\"colorbar\": {\"outlinewidth\": 0, \"ticks\": \"\"}, \"colorscale\": [[0.0, \"#0d0887\"], [0.1111111111111111, \"#46039f\"], [0.2222222222222222, \"#7201a8\"], [0.3333333333333333, \"#9c179e\"], [0.4444444444444444, \"#bd3786\"], [0.5555555555555556, \"#d8576b\"], [0.6666666666666666, \"#ed7953\"], [0.7777777777777778, \"#fb9f3a\"], [0.8888888888888888, \"#fdca26\"], [1.0, \"#f0f921\"]], \"type\": \"histogram2d\"}], \"histogram2dcontour\": [{\"colorbar\": {\"outlinewidth\": 0, \"ticks\": \"\"}, \"colorscale\": [[0.0, \"#0d0887\"], [0.1111111111111111, \"#46039f\"], [0.2222222222222222, \"#7201a8\"], [0.3333333333333333, \"#9c179e\"], [0.4444444444444444, \"#bd3786\"], [0.5555555555555556, \"#d8576b\"], [0.6666666666666666, \"#ed7953\"], [0.7777777777777778, \"#fb9f3a\"], [0.8888888888888888, \"#fdca26\"], [1.0, \"#f0f921\"]], \"type\": \"histogram2dcontour\"}], \"mesh3d\": [{\"colorbar\": {\"outlinewidth\": 0, \"ticks\": \"\"}, \"type\": \"mesh3d\"}], \"parcoords\": [{\"line\": {\"colorbar\": {\"outlinewidth\": 0, \"ticks\": \"\"}}, \"type\": \"parcoords\"}], \"pie\": [{\"automargin\": true, \"type\": \"pie\"}], \"scatter\": [{\"marker\": {\"colorbar\": {\"outlinewidth\": 0, \"ticks\": \"\"}}, \"type\": \"scatter\"}], \"scatter3d\": [{\"line\": {\"colorbar\": {\"outlinewidth\": 0, \"ticks\": \"\"}}, \"marker\": {\"colorbar\": {\"outlinewidth\": 0, \"ticks\": \"\"}}, \"type\": \"scatter3d\"}], \"scattercarpet\": [{\"marker\": {\"colorbar\": {\"outlinewidth\": 0, \"ticks\": \"\"}}, \"type\": \"scattercarpet\"}], \"scattergeo\": [{\"marker\": {\"colorbar\": {\"outlinewidth\": 0, \"ticks\": \"\"}}, \"type\": \"scattergeo\"}], \"scattergl\": [{\"marker\": {\"colorbar\": {\"outlinewidth\": 0, \"ticks\": \"\"}}, \"type\": \"scattergl\"}], \"scattermapbox\": [{\"marker\": {\"colorbar\": {\"outlinewidth\": 0, \"ticks\": \"\"}}, \"type\": \"scattermapbox\"}], \"scatterpolar\": [{\"marker\": {\"colorbar\": {\"outlinewidth\": 0, \"ticks\": \"\"}}, \"type\": \"scatterpolar\"}], \"scatterpolargl\": [{\"marker\": {\"colorbar\": {\"outlinewidth\": 0, \"ticks\": \"\"}}, \"type\": \"scatterpolargl\"}], \"scatterternary\": [{\"marker\": {\"colorbar\": {\"outlinewidth\": 0, \"ticks\": \"\"}}, \"type\": \"scatterternary\"}], \"surface\": [{\"colorbar\": {\"outlinewidth\": 0, \"ticks\": \"\"}, \"colorscale\": [[0.0, \"#0d0887\"], [0.1111111111111111, \"#46039f\"], [0.2222222222222222, \"#7201a8\"], [0.3333333333333333, \"#9c179e\"], [0.4444444444444444, \"#bd3786\"], [0.5555555555555556, \"#d8576b\"], [0.6666666666666666, \"#ed7953\"], [0.7777777777777778, \"#fb9f3a\"], [0.8888888888888888, \"#fdca26\"], [1.0, \"#f0f921\"]], \"type\": \"surface\"}], \"table\": [{\"cells\": {\"fill\": {\"color\": \"#EBF0F8\"}, \"line\": {\"color\": \"white\"}}, \"header\": {\"fill\": {\"color\": \"#C8D4E3\"}, \"line\": {\"color\": \"white\"}}, \"type\": \"table\"}]}, \"layout\": {\"annotationdefaults\": {\"arrowcolor\": \"#2a3f5f\", \"arrowhead\": 0, \"arrowwidth\": 1}, \"coloraxis\": {\"colorbar\": {\"outlinewidth\": 0, \"ticks\": \"\"}}, \"colorscale\": {\"diverging\": [[0, \"#8e0152\"], [0.1, \"#c51b7d\"], [0.2, \"#de77ae\"], [0.3, \"#f1b6da\"], [0.4, \"#fde0ef\"], [0.5, \"#f7f7f7\"], [0.6, \"#e6f5d0\"], [0.7, \"#b8e186\"], [0.8, \"#7fbc41\"], [0.9, \"#4d9221\"], [1, \"#276419\"]], \"sequential\": [[0.0, \"#0d0887\"], [0.1111111111111111, \"#46039f\"], [0.2222222222222222, \"#7201a8\"], [0.3333333333333333, \"#9c179e\"], [0.4444444444444444, \"#bd3786\"], [0.5555555555555556, \"#d8576b\"], [0.6666666666666666, \"#ed7953\"], [0.7777777777777778, \"#fb9f3a\"], [0.8888888888888888, \"#fdca26\"], [1.0, \"#f0f921\"]], \"sequentialminus\": [[0.0, \"#0d0887\"], [0.1111111111111111, \"#46039f\"], [0.2222222222222222, \"#7201a8\"], [0.3333333333333333, \"#9c179e\"], [0.4444444444444444, \"#bd3786\"], [0.5555555555555556, \"#d8576b\"], [0.6666666666666666, \"#ed7953\"], [0.7777777777777778, \"#fb9f3a\"], [0.8888888888888888, \"#fdca26\"], [1.0, \"#f0f921\"]]}, \"colorway\": [\"#636efa\", \"#EF553B\", \"#00cc96\", \"#ab63fa\", \"#FFA15A\", \"#19d3f3\", \"#FF6692\", \"#B6E880\", \"#FF97FF\", \"#FECB52\"], \"font\": {\"color\": \"#2a3f5f\"}, \"geo\": {\"bgcolor\": \"white\", \"lakecolor\": \"white\", \"landcolor\": \"#E5ECF6\", \"showlakes\": true, \"showland\": true, \"subunitcolor\": \"white\"}, \"hoverlabel\": {\"align\": \"left\"}, \"hovermode\": \"closest\", \"mapbox\": {\"style\": \"light\"}, \"paper_bgcolor\": \"white\", \"plot_bgcolor\": \"#E5ECF6\", \"polar\": {\"angularaxis\": {\"gridcolor\": \"white\", \"linecolor\": \"white\", \"ticks\": \"\"}, \"bgcolor\": \"#E5ECF6\", \"radialaxis\": {\"gridcolor\": \"white\", \"linecolor\": \"white\", \"ticks\": \"\"}}, \"scene\": {\"xaxis\": {\"backgroundcolor\": \"#E5ECF6\", \"gridcolor\": \"white\", \"gridwidth\": 2, \"linecolor\": \"white\", \"showbackground\": true, \"ticks\": \"\", \"zerolinecolor\": \"white\"}, \"yaxis\": {\"backgroundcolor\": \"#E5ECF6\", \"gridcolor\": \"white\", \"gridwidth\": 2, \"linecolor\": \"white\", \"showbackground\": true, \"ticks\": \"\", \"zerolinecolor\": \"white\"}, \"zaxis\": {\"backgroundcolor\": \"#E5ECF6\", \"gridcolor\": \"white\", \"gridwidth\": 2, \"linecolor\": \"white\", \"showbackground\": true, \"ticks\": \"\", \"zerolinecolor\": \"white\"}}, \"shapedefaults\": {\"line\": {\"color\": \"#2a3f5f\"}}, \"ternary\": {\"aaxis\": {\"gridcolor\": \"white\", \"linecolor\": \"white\", \"ticks\": \"\"}, \"baxis\": {\"gridcolor\": \"white\", \"linecolor\": \"white\", \"ticks\": \"\"}, \"bgcolor\": \"#E5ECF6\", \"caxis\": {\"gridcolor\": \"white\", \"linecolor\": \"white\", \"ticks\": \"\"}}, \"title\": {\"x\": 0.05}, \"xaxis\": {\"automargin\": true, \"gridcolor\": \"white\", \"linecolor\": \"white\", \"ticks\": \"\", \"title\": {\"standoff\": 15}, \"zerolinecolor\": \"white\", \"zerolinewidth\": 2}, \"yaxis\": {\"automargin\": true, \"gridcolor\": \"white\", \"linecolor\": \"white\", \"ticks\": \"\", \"title\": {\"standoff\": 15}, \"zerolinecolor\": \"white\", \"zerolinewidth\": 2}}}, \"title\": {\"text\": \"Loss plot for the best model\"}},\n",
       "                        {\"responsive\": true}\n",
       "                    ).then(function(){\n",
       "                            \n",
       "var gd = document.getElementById('3d18d8fc-2e2a-4d97-a0c1-e0784501ccd0');\n",
       "var x = new MutationObserver(function (mutations, observer) {{\n",
       "        var display = window.getComputedStyle(gd).display;\n",
       "        if (!display || display === 'none') {{\n",
       "            console.log([gd, 'removed!']);\n",
       "            Plotly.purge(gd);\n",
       "            observer.disconnect();\n",
       "        }}\n",
       "}});\n",
       "\n",
       "// Listen for the removal of the full notebook cells\n",
       "var notebookContainer = gd.closest('#notebook-container');\n",
       "if (notebookContainer) {{\n",
       "    x.observe(notebookContainer, {childList: true});\n",
       "}}\n",
       "\n",
       "// Listen for the clearing of the current output cell\n",
       "var outputEl = gd.closest('.output');\n",
       "if (outputEl) {{\n",
       "    x.observe(outputEl, {childList: true});\n",
       "}}\n",
       "\n",
       "                        })\n",
       "                };\n",
       "                \n",
       "            </script>\n",
       "        </div>\n",
       "</body>\n",
       "</html>"
      ]
     },
     "metadata": {}
    }
   ]
  }
 ]
}