{
  "nbformat": 4,
  "nbformat_minor": 0,
  "metadata": {
    "colab": {
      "name": "Lab_2_backpropagation",
      "provenance": [],
      "collapsed_sections": []
    },
    "kernelspec": {
      "display_name": "Python 3",
      "language": "python",
      "name": "python3"
    },
    "language_info": {
      "codemirror_mode": {
        "name": "ipython",
        "version": 3
      },
      "file_extension": ".py",
      "mimetype": "text/x-python",
      "name": "python",
      "nbconvert_exporter": "python",
      "pygments_lexer": "ipython3",
      "version": "3.6.7"
    }
  },
  "cells": [
    {
      "cell_type": "code",
      "metadata": {
        "id": "6y4l5BmxTNNU"
      },
      "source": [
        "import random\n",
        "import numpy as np\n",
        "from torchvision import datasets, transforms"
      ],
      "execution_count": 1,
      "outputs": []
    },
    {
      "cell_type": "code",
      "metadata": {
        "colab": {
          "base_uri": "https://localhost:8080/"
        },
        "id": "iHhqeGLsHcYl",
        "outputId": "af074283-f65d-4f5c-e441-ee5a44ef5016"
      },
      "source": [
        "!wget -O mnist.npz https://s3.amazonaws.com/img-datasets/mnist.npz"
      ],
      "execution_count": 2,
      "outputs": [
        {
          "output_type": "stream",
          "name": "stdout",
          "text": [
            "--2021-11-02 20:20:06--  https://s3.amazonaws.com/img-datasets/mnist.npz\n",
            "Resolving s3.amazonaws.com (s3.amazonaws.com)... 52.217.37.174\n",
            "Connecting to s3.amazonaws.com (s3.amazonaws.com)|52.217.37.174|:443... connected.\n",
            "HTTP request sent, awaiting response... 200 OK\n",
            "Length: 11490434 (11M) [application/octet-stream]\n",
            "Saving to: ‘mnist.npz’\n",
            "\n",
            "mnist.npz           100%[===================>]  10.96M  10.7MB/s    in 1.0s    \n",
            "\n",
            "2021-11-02 20:20:08 (10.7 MB/s) - ‘mnist.npz’ saved [11490434/11490434]\n",
            "\n"
          ]
        }
      ]
    },
    {
      "cell_type": "code",
      "metadata": {
        "id": "uutaqUkuVAuF"
      },
      "source": [
        "# Let's read the mnist dataset\n",
        "\n",
        "def load_mnist(path='mnist.npz'):\n",
        "    with np.load(path) as f:\n",
        "        x_train, _y_train = f['x_train'], f['y_train']\n",
        "        x_test, _y_test = f['x_test'], f['y_test']\n",
        "        \n",
        "    x_train = x_train.reshape(-1, 28 * 28) / 255.\n",
        "    x_test = x_test.reshape(-1, 28 * 28) / 255.\n",
        "    \n",
        "    y_train = np.zeros((_y_train.shape[0], 10))\n",
        "    y_train[np.arange(_y_train.shape[0]), _y_train] = 1\n",
        "    \n",
        "    y_test = np.zeros((_y_test.shape[0], 10))\n",
        "    y_test[np.arange(_y_test.shape[0]), _y_test] = 1\n",
        "\n",
        "    return (x_train, y_train), (x_test, y_test)\n",
        "\n",
        "(x_train, y_train), (x_test, y_test) = load_mnist()"
      ],
      "execution_count": 3,
      "outputs": []
    },
    {
      "cell_type": "markdown",
      "metadata": {
        "id": "T5PPE1ldTNNx"
      },
      "source": [
        "## Exercise 1\n",
        "\n",
        "In this exercise your task is to fill in the gaps in this code by implementing the backpropagation algorithm\n",
        "Once this is done, you can run the network on the MNIST example and see how it performs. Feel free to play with the parameters. Your model should achieve 90%+ accuracy after a few epochs.\n",
        "\n",
        "## Exercise 2 (Optional)\n",
        "\n",
        "Implement a \"fully vectorized\" version, i.e. one using matrix operations instead of going over examples one by one within a minibatch.\n",
        "\n",
        "\n"
      ]
    },
    {
      "cell_type": "code",
      "metadata": {
        "id": "OsCgwvfHTNN0",
        "colab": {
          "base_uri": "https://localhost:8080/"
        },
        "outputId": "8bddcf4a-e41e-4028-97cb-273a446a785e"
      },
      "source": [
        "def sigmoid(z):\n",
        "    return 1.0/(1.0+np.exp(-z))\n",
        "\n",
        "def sigmoid_prime(z):\n",
        "    # Derivative of the sigmoid\n",
        "    return sigmoid(z)*(1-sigmoid(z))\n",
        "\n",
        "class Network(object):\n",
        "    def __init__(self, sizes):\n",
        "        # initialize biases and weights with random normal distr.\n",
        "        # weights are indexed by target node first\n",
        "        self.num_layers = len(sizes)\n",
        "        self.sizes = sizes\n",
        "        self.biases = [np.random.randn(y, 1) for y in sizes[1:]]\n",
        "        self.weights = [np.random.randn(y, x) \n",
        "                        for x, y in zip(sizes[:-1], sizes[1:])]\n",
        "    def feedforward(self, a):\n",
        "        # Run the network on a single case\n",
        "        for b, w in zip(self.biases, self.weights):\n",
        "            a = sigmoid(np.dot(w, a)+b)\n",
        "        return a\n",
        "    \n",
        "    def update_mini_batch(self, x_mini_batch, y_mini_batch, eta):\n",
        "        # Update networks weights and biases by applying a single step\n",
        "        # of gradient descent using backpropagation to compute the gradient.\n",
        "        # The gradient is computed for a mini_batch.\n",
        "        # eta is the learning rate\n",
        "        nabla_b = [np.zeros(b.shape) for b in self.biases]\n",
        "        nabla_w = [np.zeros(w.shape) for w in self.weights]\n",
        "        for x, y in zip(x_mini_batch, y_mini_batch):\n",
        "            delta_nabla_b, delta_nabla_w = self.backprop(x.reshape(784,1), y.reshape(10,1))\n",
        "            nabla_b = [nb+dnb for nb, dnb in zip(nabla_b, delta_nabla_b)]\n",
        "            nabla_w = [nw+dnw for nw, dnw in zip(nabla_w, delta_nabla_w)]\n",
        "        self.weights = [w-(eta/len(x_mini_batch))*nw \n",
        "                        for w, nw in zip(self.weights, nabla_w)]\n",
        "        self.biases = [b-(eta/len(x_mini_batch))*nb \n",
        "                       for b, nb in zip(self.biases, nabla_b)]\n",
        "        \n",
        "    def backprop(self, x, y):\n",
        "        # For a single input (x,y) return a tuple of lists.\n",
        "        # First contains gradients over biases, second over weights.\n",
        "        \n",
        "        # First initialize the list of gradient arrays\n",
        "        delta_nabla_b = [np.zeros_like(p) for p in self.biases]\n",
        "        delta_nabla_w = [np.zeros_like(p) for p in self.weights]\n",
        "        \n",
        "        # Then go forward remembering all values before and after activations\n",
        "        # in two other array lists\n",
        "        # TODO\n",
        "\n",
        "        before_activation = []\n",
        "        after_activation = [x]\n",
        "        for b, w in zip(self.biases, self.weights):\n",
        "            before_activation.append(np.dot(w, after_activation[-1]) + b)\n",
        "            after_activation.append(sigmoid(before_activation[-1]))  \n",
        "        \n",
        "        # Now go backward from the final cost applying backpropagation\n",
        "        # TODO\n",
        "\n",
        "        dL_daa = self.cost_derivative(after_activation[-1], y)\n",
        "        for l in range(self.num_layers-2, -1, -1):\n",
        "            delta_nabla_w[l] = (sigmoid_prime(before_activation[l]) * dL_daa) @ after_activation[l].T\n",
        "            delta_nabla_b[l] = np.expand_dims(np.sum(sigmoid_prime(before_activation[l]) * dL_daa,  axis = 1), axis = 1)\n",
        "            dL_daa = np.dot((self.weights[l]).T, sigmoid_prime(before_activation[l]) * dL_daa)\n",
        "\n",
        "        return delta_nabla_b, delta_nabla_w\n",
        "\n",
        "    def evaluate(self, x_test_data, y_test_data):\n",
        "        # Count the number of correct answers for test_data\n",
        "        test_results = [(np.argmax(self.feedforward(x_test_data[i].reshape(784,1))), np.argmax(y_test_data[i]))\n",
        "                        for i in range(len(x_test_data))]\n",
        "        # return accuracy\n",
        "        return np.mean([int(x == y) for (x, y) in test_results])\n",
        "    \n",
        "    def cost_derivative(self, output_activations, y):\n",
        "        return (output_activations-y) \n",
        "    \n",
        "    def SGD(self, training_data, epochs, mini_batch_size, eta, test_data=None):\n",
        "        x_train, y_train = training_data\n",
        "        if test_data:\n",
        "            x_test, y_test = test_data\n",
        "        for j in range(epochs):\n",
        "            for i in range(x_train.shape[0] // mini_batch_size):\n",
        "                x_mini_batch = x_train[i*mini_batch_size:(i*mini_batch_size + mini_batch_size)] \n",
        "                y_mini_batch = y_train[i*mini_batch_size:(i*mini_batch_size + mini_batch_size)] \n",
        "                self.update_mini_batch(x_mini_batch, y_mini_batch, eta)\n",
        "            if test_data:\n",
        "                print(\"Epoch: {0}, Accuracy: {1}\".format(j, self.evaluate(x_test, y_test)))\n",
        "            else:\n",
        "                print(\"Epoch: {0}\".format(j))\n",
        "\n",
        "\n",
        "network = Network([784,30,10])\n",
        "network.SGD((x_train, y_train), epochs=50, mini_batch_size=100, eta=3., test_data=(x_test, y_test))\n",
        "\n"
      ],
      "execution_count": 4,
      "outputs": [
        {
          "output_type": "stream",
          "name": "stdout",
          "text": [
            "Epoch: 0, Accuracy: 0.7792\n",
            "Epoch: 1, Accuracy: 0.8503\n",
            "Epoch: 2, Accuracy: 0.8752\n",
            "Epoch: 3, Accuracy: 0.8897\n",
            "Epoch: 4, Accuracy: 0.8983\n",
            "Epoch: 5, Accuracy: 0.9056\n",
            "Epoch: 6, Accuracy: 0.9104\n",
            "Epoch: 7, Accuracy: 0.9144\n",
            "Epoch: 8, Accuracy: 0.9165\n",
            "Epoch: 9, Accuracy: 0.9183\n",
            "Epoch: 10, Accuracy: 0.9205\n",
            "Epoch: 11, Accuracy: 0.9216\n",
            "Epoch: 12, Accuracy: 0.9226\n",
            "Epoch: 13, Accuracy: 0.9225\n",
            "Epoch: 14, Accuracy: 0.9241\n",
            "Epoch: 15, Accuracy: 0.9251\n",
            "Epoch: 16, Accuracy: 0.9258\n",
            "Epoch: 17, Accuracy: 0.9274\n",
            "Epoch: 18, Accuracy: 0.9283\n",
            "Epoch: 19, Accuracy: 0.9299\n",
            "Epoch: 20, Accuracy: 0.9313\n",
            "Epoch: 21, Accuracy: 0.9321\n",
            "Epoch: 22, Accuracy: 0.9329\n",
            "Epoch: 23, Accuracy: 0.9339\n",
            "Epoch: 24, Accuracy: 0.9349\n",
            "Epoch: 25, Accuracy: 0.935\n",
            "Epoch: 26, Accuracy: 0.9354\n",
            "Epoch: 27, Accuracy: 0.9359\n",
            "Epoch: 28, Accuracy: 0.9361\n",
            "Epoch: 29, Accuracy: 0.9364\n",
            "Epoch: 30, Accuracy: 0.9367\n",
            "Epoch: 31, Accuracy: 0.9372\n",
            "Epoch: 32, Accuracy: 0.9376\n",
            "Epoch: 33, Accuracy: 0.9376\n",
            "Epoch: 34, Accuracy: 0.9376\n",
            "Epoch: 35, Accuracy: 0.9385\n",
            "Epoch: 36, Accuracy: 0.9395\n",
            "Epoch: 37, Accuracy: 0.9402\n",
            "Epoch: 38, Accuracy: 0.94\n",
            "Epoch: 39, Accuracy: 0.9404\n",
            "Epoch: 40, Accuracy: 0.9405\n",
            "Epoch: 41, Accuracy: 0.9409\n",
            "Epoch: 42, Accuracy: 0.9412\n",
            "Epoch: 43, Accuracy: 0.9413\n",
            "Epoch: 44, Accuracy: 0.9411\n",
            "Epoch: 45, Accuracy: 0.9412\n",
            "Epoch: 46, Accuracy: 0.9412\n",
            "Epoch: 47, Accuracy: 0.9414\n",
            "Epoch: 48, Accuracy: 0.9413\n",
            "Epoch: 49, Accuracy: 0.9417\n"
          ]
        }
      ]
    }
  ]
}