{
  "nbformat": 4,
  "nbformat_minor": 0,
  "metadata": {
    "colab": {
      "name": "Kopia_notatnika_GSN_2021_22_Assignment_2_RetinaMNIST_with_rotations (1).ipynb",
      "provenance": [],
      "collapsed_sections": []
    },
    "kernelspec": {
      "display_name": "Python 3",
      "name": "python3"
    },
    "language_info": {
      "name": "python"
    },
    "accelerator": "GPU"
  },
  "cells": [
    {
      "cell_type": "markdown",
      "metadata": {
        "id": "6VBJpAMzglRo"
      },
      "source": [
        "# RetinaMNIST with rotations\n",
        "\n",
        "In this exercise your goal will be to solve an object detection training and prediction task using the anchor-based approach.\n",
        "**As a part of your solution you should provide a report summarizing your findings and results of the conducted experiments.**\n",
        "\n",
        "##TLDR; overview\n",
        "\n",
        "In this task one should:\n",
        "- determine the size of the feasible anchors for the object detection task posed in this Assignment,\n",
        "- build an object detection model using the variant of `RetinaNet`,\n",
        "- prepare a matching suite which will match predicted anchors with ground truth bounding boxes,\n",
        "- train an object detection model using a variant of `RetinaLoss`.\n",
        "\n",
        "Hints and comments:\n",
        "\n",
        "- Model architecture and loss are heavily inspired by [RetinaNet](https://arxiv.org/pdf/1708.02002.pdf) paper,\n",
        "- you can freely subclass and extend the interface of classes in this exercise,\n",
        "- be sure that you understand the concept of an anchor for object detection, covered during the lecture about Object Detection. There are many great tutorials and articles about it (e.g. [this](https://towardsdatascience.com/anchor-boxes-the-key-to-quality-object-detection-ddf9d612d4f9) one, note however that we are not implementing ignoring boxes for simplicity).\n",
        "\n",
        "### Data description\n",
        "\n",
        "In this task we will paste bounding boxes with digits **from 1 to 5** randomly selected from `MNIST` dataset on a canvas of size `(128, 128)` and **randomly flipped by 90 degrees**. We assume that:\n",
        "\n",
        "- the two boxes from a canvas should have no more than `0.1` of `iou` overlap,\n",
        "- the digits are fully contained in canvas,\n",
        "- boxes are modeled using `MnistBox` class,\n",
        "- canvas is modeled using `MnistCanvas` class.\n",
        "\n",
        "Let us have a look at definition of these classes:"
      ]
    },
    {
      "cell_type": "code",
      "metadata": {
        "id": "L1rAdIiRq2G8"
      },
      "source": [
        "from typing import List\n",
        "from typing import Optional\n",
        "from typing import Tuple\n",
        "\n",
        "import matplotlib.pyplot as plt\n",
        "import matplotlib.patches as patches\n",
        "import numpy as np\n",
        "import torch\n",
        "\n",
        "\n",
        "DEVICE = torch.device('cuda' if torch.cuda.is_available() else 'cpu')\n",
        "\n",
        "class MnistBox:\n",
        "\n",
        "    def __init__(\n",
        "        self,\n",
        "        x_min: int,\n",
        "        y_min: int,\n",
        "        x_max: int,\n",
        "        y_max: int,\n",
        "        class_nb: Optional[int] = None,\n",
        "        rotated: Optional[bool] = None,\n",
        "    ):\n",
        "        self.x_min = x_min\n",
        "        self.x_max = x_max\n",
        "        self.y_min = y_min\n",
        "        self.y_max = y_max\n",
        "        self.class_nb = class_nb\n",
        "        self.rotated = rotated\n",
        "    \n",
        "    @property\n",
        "    def x_diff(self):\n",
        "        return self.x_max - self.x_min\n",
        "    \n",
        "    @property\n",
        "    def y_diff(self):\n",
        "        return self.y_max - self.y_min\n",
        "\n",
        "    def __repr__(self):\n",
        "        return f'Mnist Box: x_min = {self.x_min},' +\\\n",
        "               f' x_max = {self.x_max}, y_min = {self.y_min},' +\\\n",
        "               f' y_max = {self.y_max}. Class = {self.class_nb}.' +\\\n",
        "               f' Rotated = {self.rotated}.'\n",
        "\n",
        "    def plot_on_ax(self, ax, color: Optional[str] = 'r'):\n",
        "        ax.add_patch(\n",
        "            patches.Rectangle(\n",
        "                (self.y_min, self.x_min),\n",
        "                 self.y_diff,\n",
        "                 self.x_diff,\n",
        "                 linewidth=1,\n",
        "                 edgecolor=color,\n",
        "                 facecolor='none',\n",
        "            )\n",
        "        )\n",
        "        ax.text(\n",
        "            self.y_min,\n",
        "            self.x_min,\n",
        "            f'{self.class_nb}' if not self.rotated else f'{self.class_nb}*',\n",
        "            bbox={\"facecolor\": color, \"alpha\": 0.4},\n",
        "            clip_box=ax.clipbox,\n",
        "            clip_on=True,\n",
        "        )\n",
        "\n",
        "    @property\n",
        "    def area(self):\n",
        "        return max((self.x_max - self.x_min), 0) * max((self.y_max - self.y_min), 0)\n",
        "\n",
        "    def iou_with(self, other_box: \"MnistBox\"):\n",
        "        aux_box = MnistBox(\n",
        "            x_min=max(self.x_min, other_box.x_min),\n",
        "            x_max=min(self.x_max, other_box.x_max),\n",
        "            y_min=max(self.y_min, other_box.y_min),\n",
        "            y_max=min(self.y_max, other_box.y_max),\n",
        "        ) \n",
        "        return aux_box.area / (self.area + other_box.area - aux_box.area)\n",
        "\n",
        "\n",
        "class MnistCanvas:\n",
        "\n",
        "    def __init__(\n",
        "        self,\n",
        "        image: np.ndarray,\n",
        "        boxes: List[MnistBox],\n",
        "    ):\n",
        "        self.image = image\n",
        "        self.boxes = boxes\n",
        "\n",
        "    def add_digit(\n",
        "        self,\n",
        "        digit: np.ndarray,\n",
        "        class_nb: int,\n",
        "        x_min: int,\n",
        "        y_min: int,\n",
        "        rotated=None,\n",
        "        iou_threshold=0.1,\n",
        "    ) -> bool:\n",
        "        \"\"\"\n",
        "        Add a digit to an image if it does not overlap with existing boxes\n",
        "        above iou_threshold.\n",
        "        \"\"\"\n",
        "        image_x, image_y = digit.shape\n",
        "        if x_min >= self.image.shape[0] and y_min >= self.image.shape[1]:\n",
        "            raise ValueError('Wrong initial corner box')\n",
        "        new_box_x_min = x_min\n",
        "        new_box_y_min = y_min\n",
        "        new_box_x_max = min(x_min + image_x, self.image.shape[0])\n",
        "        new_box_y_max = min(y_min + image_y, self.image.shape[1])\n",
        "        new_box = MnistBox(\n",
        "            x_min=new_box_x_min,\n",
        "            x_max=new_box_x_max,\n",
        "            y_min=new_box_y_min,\n",
        "            y_max=new_box_y_max,\n",
        "            class_nb=class_nb,\n",
        "            rotated=rotated,\n",
        "        )\n",
        "        old_background = self.image[\n",
        "            new_box_x_min:new_box_x_max,\n",
        "            new_box_y_min:new_box_y_max\n",
        "        ]\n",
        "        for box in self.boxes:\n",
        "            if new_box.iou_with(box) > iou_threshold:\n",
        "                return False\n",
        "        self.image[\n",
        "            new_box_x_min:new_box_x_max,\n",
        "            new_box_y_min:new_box_y_max\n",
        "        ] = np.maximum(old_background, digit)\n",
        "        self.boxes.append(\n",
        "            new_box\n",
        "        ) \n",
        "        return True\n",
        "        \n",
        "    def get_torch_tensor(self) -> torch.Tensor:\n",
        "        np_image = self.image.astype('float32')\n",
        "        np_image = np_image.reshape(\n",
        "            (1, 1, self.image.shape[0], self.image.shape[1])\n",
        "        )\n",
        "        return torch.from_numpy(np_image).to(DEVICE)\n",
        "\n",
        "    @classmethod\n",
        "    def get_empty_of_size(cls, size: Tuple[int, int]):\n",
        "        return cls(\n",
        "            image=np.zeros(size),\n",
        "            boxes=[],\n",
        "        )\n",
        "\n",
        "    def plot(self, boxes: Optional[List[MnistBox]] = None):\n",
        "        fig, ax = plt.subplots()\n",
        "        ax.imshow(self.image)\n",
        "        boxes = boxes or self.boxes\n",
        "        for box in boxes:\n",
        "            box.plot_on_ax(ax)\n",
        "        plt.show()"
      ],
      "execution_count": 1,
      "outputs": []
    },
    {
      "cell_type": "markdown",
      "metadata": {
        "id": "NWMxgsgFtlze"
      },
      "source": [
        "Each canvas has 3-6 boxes with randomly selected digits. The digits for training data are from first 10K examples from `MNIST` train data. The digits for test data are selected from first 1K examples from `MNIST` test data. The Dataset is generated using the following functions:"
      ]
    },
    {
      "cell_type": "code",
      "metadata": {
        "id": "HezSZXw4z-cx",
        "colab": {
          "base_uri": "https://localhost:8080/"
        },
        "outputId": "62a93d92-f54d-4f7c-f5ce-d0a2aa071c03"
      },
      "source": [
        "from keras.datasets import mnist\n",
        "import numpy as np\n",
        "\n",
        "\n",
        "mnist_data = mnist.load_data()\n",
        "(mnist_x_train, mnist_y_train), (mnist_x_test, mnist_y_test) = mnist_data\n",
        "\n",
        "\n",
        "def crop_insignificant_values(digit:np.ndarray, threshold=0.1):\n",
        "    bool_digit = digit > threshold\n",
        "    x_range = bool_digit.max(axis=0)\n",
        "    y_range = bool_digit.max(axis=1)\n",
        "    start_x = (x_range.cumsum() == 0).sum()\n",
        "    end_x = (x_range[::-1].cumsum() == 0).sum()\n",
        "    start_y = (y_range.cumsum() == 0).sum()\n",
        "    end_y = (y_range[::-1].cumsum() == 0).sum()\n",
        "    return digit[start_y:-end_y - 1, start_x:-end_x - 1]\n",
        "\n",
        "\n",
        "TRAIN_DIGITS = [\n",
        "    crop_insignificant_values(digit) / 255.0\n",
        "    for digit_index, digit in enumerate(mnist_x_train[:10000])\n",
        "]\n",
        "TRAIN_CLASSES = mnist_y_train[:10000]\n",
        "\n",
        "TEST_DIGITS = [\n",
        "    crop_insignificant_values(digit) / 255.0\n",
        "    for digit_index, digit in enumerate(mnist_x_test[:1000])\n",
        "]\n",
        "TEST_CLASSES = mnist_y_test[:1000]\n",
        "\n",
        "\n",
        "def get_random_canvas(\n",
        "    digits: Optional[List[np.ndarray]] = None,\n",
        "    classes: Optional[List[int]] = None,\n",
        "    nb_of_digits: Optional[int] = None,\n",
        "    ):\n",
        "    digits = digits if digits is not None else TRAIN_DIGITS\n",
        "    classes = classes if classes is not None else TRAIN_CLASSES\n",
        "    nb_of_digits = nb_of_digits if nb_of_digits is not None else np.random.randint(low=3, high=6 + 1)\n",
        "    new_canvas = MnistCanvas.get_empty_of_size(size=(128, 128))\n",
        "    attempts_done = 0\n",
        "    while attempts_done < nb_of_digits:\n",
        "        current_digit_index = np.random.randint(len(digits))\n",
        "        current_digit_class = classes[current_digit_index]\n",
        "        if current_digit_class not in [1, 2, 3, 4, 5]:\n",
        "            continue\n",
        "        rotate = np.random.random() > 0.5\n",
        "        current_digit = digits[current_digit_index]\n",
        "        if rotate:\n",
        "            current_digit = np.rot90(current_digit)\n",
        "        random_x_min = np.random.randint(0, 128 - current_digit.shape[0] - 3)\n",
        "        random_y_min = np.random.randint(0, 128 - current_digit.shape[1] - 3)\n",
        "        if new_canvas.add_digit(\n",
        "            digit=current_digit,\n",
        "            x_min=random_x_min,\n",
        "            y_min=random_y_min,\n",
        "            class_nb=current_digit_class,\n",
        "            rotated=rotate,\n",
        "        ):\n",
        "            attempts_done += 1\n",
        "    return new_canvas"
      ],
      "execution_count": 2,
      "outputs": [
        {
          "output_type": "stream",
          "name": "stdout",
          "text": [
            "Downloading data from https://storage.googleapis.com/tensorflow/tf-keras-datasets/mnist.npz\n",
            "11493376/11490434 [==============================] - 0s 0us/step\n",
            "11501568/11490434 [==============================] - 0s 0us/step\n"
          ]
        }
      ]
    },
    {
      "cell_type": "markdown",
      "metadata": {
        "id": "5i2OjUEC7eaC"
      },
      "source": [
        "Let us have a look at example canvas (rotated digits have additional *added to description)."
      ]
    },
    {
      "cell_type": "code",
      "metadata": {
        "colab": {
          "base_uri": "https://localhost:8080/",
          "height": 268
        },
        "id": "OsLpINOtvhd8",
        "outputId": "864c7124-3b92-4f85-97bc-32fdeba98dcf"
      },
      "source": [
        "mnist_canvas = get_random_canvas()\n",
        "mnist_canvas.plot()"
      ],
      "execution_count": 3,
      "outputs": [
        {
          "output_type": "display_data",
          "data": {
            "image/png": "[encoded data removed]",
            "text/plain": [
              "<Figure size 432x288 with 1 Axes>"
            ]
          },
          "metadata": {
            "needs_background": "light"
          }
        }
      ]
    },
    {
      "cell_type": "markdown",
      "metadata": {
        "id": "4QkpHGiOCnng"
      },
      "source": [
        "Now - let us generate test canvas:"
      ]
    },
    {
      "cell_type": "code",
      "metadata": {
        "colab": {
          "base_uri": "https://localhost:8080/",
          "height": 268
        },
        "id": "PV410KSYC-eT",
        "outputId": "aa20a16f-46fe-43ee-fb7c-ea357152c60c"
      },
      "source": [
        "TEST_CANVAS_SIZE = 256\n",
        "TEST_SEED = 42 # DO NOT CHANGE THIS LINE.\n",
        "\n",
        "np.random.seed(TEST_SEED)\n",
        "\n",
        "TEST_CANVAS = [\n",
        "    get_random_canvas(\n",
        "        digits=TEST_DIGITS,\n",
        "        classes=TEST_CLASSES,\n",
        "    )\n",
        "    for _ in range(TEST_CANVAS_SIZE)\n",
        "]\n",
        "\n",
        "TEST_CANVAS[0].plot()"
      ],
      "execution_count": 4,
      "outputs": [
        {
          "output_type": "display_data",
          "data": {
            "image/png": "[encoded data removed]",
            "text/plain": [
              "<Figure size 432x288 with 1 Axes>"
            ]
          },
          "metadata": {
            "needs_background": "light"
          }
        }
      ]
    },
    {
      "cell_type": "markdown",
      "metadata": {
        "id": "OgU2bKyJ3pVh"
      },
      "source": [
        "For training one can either:\n",
        "- generate `TRAIN_CANVAS` similarly to `TEST_CANVAS` creation,\n",
        "- use the fact that `get_random_canvas()` generates a random train canvas and generate training data on-the-fly."
      ]
    },
    {
      "cell_type": "markdown",
      "metadata": {
        "id": "Ri3Jh7GzjZ4W"
      },
      "source": [
        "### Anchor size analysis (2pts)\n",
        "\n",
        "For this task:\n",
        "1. Sample at least 1000 random canvas.\n",
        "2. Analyze the sizes (heights and widths) of the `MnistBox`es from this canvas.\n",
        "3. Select the anchor sizes which will match the problem the best.\n",
        "\n",
        "Selected anchor sizes should be stored in a sensible manner in `ANCHOR_SIZES` list."
      ]
    },
    {
      "cell_type": "code",
      "metadata": {
        "id": "HGXjYiPiEQNK"
      },
      "source": [
        "import numpy as np"
      ],
      "execution_count": 5,
      "outputs": []
    },
    {
      "cell_type": "code",
      "metadata": {
        "id": "KWLTAoFwkEnu"
      },
      "source": [
        "import collections\n",
        "import matplotlib.pyplot as plt\n",
        "\n",
        "\n",
        "ANALYZE_CANVAS_SIZE = 1000\n",
        "\n",
        "ANALYZE_CANVAS = [\n",
        "    get_random_canvas(\n",
        "        digits=TRAIN_DIGITS,\n",
        "        classes=TRAIN_CLASSES,\n",
        "    )\n",
        "    for _ in range(ANALYZE_CANVAS_SIZE)\n",
        "]\n",
        "\n",
        "x, y = [], []\n",
        "anchor_sizes_detailed = dict()\n",
        "for canvas in ANALYZE_CANVAS:\n",
        "    for box in canvas.boxes:\n",
        "        x.append(box.x_diff)\n",
        "        y.append(box.y_diff)\n",
        "        box_class = str(box.class_nb)\n",
        "        if box.rotated:\n",
        "          box_class += '*'\n",
        "        \n",
        "        \n",
        "        if box_class not in anchor_sizes_detailed:\n",
        "          anchor_sizes_detailed[box_class] = [[box.x_diff],[box.y_diff]]\n",
        "        else:\n",
        "          anchor_sizes_detailed[box_class][0].append(box.x_diff)\n",
        "          anchor_sizes_detailed[box_class][1].append(box.y_diff)"
      ],
      "execution_count": 6,
      "outputs": []
    },
    {
      "cell_type": "code",
      "metadata": {
        "colab": {
          "base_uri": "https://localhost:8080/"
        },
        "id": "v0v2cNruDL9u",
        "outputId": "cbc3828a-3d1c-414f-985b-8eb14ec75ecf"
      },
      "source": [
        "anchor_sizes_detailed_mean = dict()\n",
        "for key in anchor_sizes_detailed:\n",
        "  anchor_sizes_detailed_mean[key] = [round(np.mean(anchor_sizes_detailed[key][0]),2), round(np.mean(anchor_sizes_detailed[key][1]),2)]\n",
        "\n",
        "anchor_sizes_detailed_mean"
      ],
      "execution_count": 7,
      "outputs": [
        {
          "output_type": "execute_result",
          "data": {
            "text/plain": [
              "{'1': [19.0, 8.44],\n",
              " '1*': [8.77, 19.0],\n",
              " '2': [18.3, 17.24],\n",
              " '2*': [17.16, 18.29],\n",
              " '3': [18.82, 15.58],\n",
              " '3*': [15.64, 18.85],\n",
              " '4': [18.87, 15.29],\n",
              " '4*': [15.34, 18.9],\n",
              " '5': [17.72, 17.12],\n",
              " '5*': [17.2, 17.79]}"
            ]
          },
          "metadata": {},
          "execution_count": 7
        }
      ]
    },
    {
      "cell_type": "code",
      "metadata": {
        "id": "N4j5Cd_-HMPj"
      },
      "source": [
        "from matplotlib import pyplot as plt"
      ],
      "execution_count": 8,
      "outputs": []
    },
    {
      "cell_type": "code",
      "metadata": {
        "colab": {
          "base_uri": "https://localhost:8080/",
          "height": 265
        },
        "id": "MW7pWYUKHbkD",
        "outputId": "cefb8891-a573-4a44-bb46-cf299a4f0562"
      },
      "source": [
        "plt.hist(x,19)\n",
        "plt.show()"
      ],
      "execution_count": 9,
      "outputs": [
        {
          "output_type": "display_data",
          "data": {
            "image/png": "[encoded data removed]",
            "text/plain": [
              "<Figure size 432x288 with 1 Axes>"
            ]
          },
          "metadata": {
            "needs_background": "light"
          }
        }
      ]
    },
    {
      "cell_type": "code",
      "metadata": {
        "colab": {
          "base_uri": "https://localhost:8080/",
          "height": 265
        },
        "id": "E2gsDhw9Hhu_",
        "outputId": "362b30dd-9975-425c-ecd8-c9b07d5ea84f"
      },
      "source": [
        "plt.hist(y,19)\n",
        "plt.show()"
      ],
      "execution_count": 10,
      "outputs": [
        {
          "output_type": "display_data",
          "data": {
            "image/png": "[encoded data removed]",
            "text/plain": [
              "<Figure size 432x288 with 1 Axes>"
            ]
          },
          "metadata": {
            "needs_background": "light"
          }
        }
      ]
    },
    {
      "cell_type": "code",
      "metadata": {
        "colab": {
          "base_uri": "https://localhost:8080/"
        },
        "id": "K9guzjzyiPmA",
        "outputId": "13f42b3b-84a7-4fb2-91f2-08e6dae3ebd6"
      },
      "source": [
        "ANCHOR_SIZES = [(19, 9), (9, 19), (18, 18), (19, 16), (16, 19)] \n",
        "print(\"ANCHOR_SIZES:\", ANCHOR_SIZES)"
      ],
      "execution_count": 11,
      "outputs": [
        {
          "output_type": "stream",
          "name": "stdout",
          "text": [
            "ANCHOR_SIZES: [(19, 9), (9, 19), (18, 18), (19, 16), (16, 19)]\n"
          ]
        }
      ]
    },
    {
      "cell_type": "markdown",
      "metadata": {
        "id": "_GpJZUkDGJSi"
      },
      "source": [
        "### Model building (2pt)\n",
        "\n",
        "\n",
        "One should build a model for digit detection in $\\texttt{pytorch}$. Model should consist of:\n",
        "\n",
        "#### $\\texttt{backbone}$:\n",
        "\n",
        "We provided you with a backbone model architecture that accepts a `MnistCanvas` instance and output a tensor with shape $(1, 16, 16, 128)$. It should be trained together with the rest of your solution.\n",
        "\n",
        "#### $\\texttt{anchors}$:\n",
        "\n",
        "List of `MnistBox`es where each box:\n",
        "\n",
        "- should have size of one of selected `ANCHOR_SIZES`,\n",
        "- should have center coordinates on canvas of type $\\left(\\left(m + \\frac{1}{2}\\right) * 8, \\left(n + \\frac{1}{2}\\right) * 8\\right)$  for $m, n \\in \\{0, 1, \\dots, 16 - 1\\}$,\n",
        "\n",
        "`MnistBox` with anchor should have an attribute `class_nb` set to `None`.\n",
        "\n",
        "#### $\\texttt{digitClassificationHead}$:\n",
        "\n",
        "$\\texttt{digitClassificationHead}$ should accept backbone output as an input and output `digit_classification_output` tensor of shape $(len(\\texttt{anchors)}, 5)$ where the value $ch_{i, j}$ which is the value of i-th row and j-th column has a property that $sigmoid(ch_{i, j})$ is a probability that i-th anchor from $\\texttt{anchors}$ overlaps significantly with some canvas `GTBox: MnistBox` with a digit of class $j + 1$ (ground truth box).\n",
        "\n",
        "#### $\\texttt{rotationClassificationHead}$:\n",
        "\n",
        "$\\texttt{rotationClassificationHead}$ should accept backbone output as an input and output `rotation_classification_output` tensor of shape $(len(\\texttt{anchors)}, 2)$ where the value $ch_{i, j}$ which is the value of i-th row and j-th column has a property that $sigmoid(ch_{i, j})$ is a probability that i-th anchor from $\\texttt{anchors}$ overlaps significantly with some canvas `GTBox: MnistBox` with a digit which was not rotated when $j = 0$ and was rotated when $j = 1$.\n",
        "\n",
        "#### $\\texttt{boxRegressionHead}$:\n",
        "\n",
        "$\\texttt{boxRegressionHead}$ should accept backbone output as an input and output `box_regression_output` tensor of shape $(len(\\texttt{anchors)}, 4)$ where the value $br_{i}$ which is the value of i-th row has a property that if there is a ground truth digit box $\\texttt{GTBox}$ - significantly overlapping with $\\texttt{anchor}[i]$ then the following properties hold:\n",
        "\n",
        "$$\\texttt{GTBox.x_min} = \\texttt{anchor[i].x_min} + br_{i, 0},$$ \n",
        "$$\\texttt{GTBox.x_max} = \\texttt{anchor[i].x_max} + br_{i, 1},$$ \n",
        "$$\\texttt{GTBox.y_min} = \\texttt{anchor[i].y_min} + br_{i, 2},$$ \n",
        "$$\\texttt{GTBox.y_max} = \\texttt{anchor[i].y_max} + br_{i, 3}.$$ \n",
        "\n",
        "#### *Hint*: be careful with a construction of a head output as a simple reshaping might cause unexpected permutation of anchors.\n",
        "\n",
        "### Model output\n",
        "\n",
        "Model should output `DigitDetectionModelOutput` class defined below.\n",
        "\n",
        "#### Comment on _significant overlap_:\n",
        "\n",
        "The meaning of significant overlap will be described later."
      ]
    },
    {
      "cell_type": "code",
      "metadata": {
        "id": "kXco8riNGHhl"
      },
      "source": [
        "from torch import nn\n",
        "import math\n",
        "\n",
        "\n",
        "class DigitDetectionModelOutput:\n",
        "\n",
        "    def __init__(\n",
        "        self,\n",
        "        anchors: List[MnistBox],\n",
        "        digit_classification_output: torch.Tensor,\n",
        "        rotation_classification_output: torch.Tensor,\n",
        "        box_regression_output: torch.Tensor,\n",
        "    ):\n",
        "        self.anchors = anchors\n",
        "        self.digit_classification_output = digit_classification_output\n",
        "        self.box_regression_output = box_regression_output\n",
        "        self.rotation_classification_output = rotation_classification_output\n",
        "\n",
        "\n",
        "class Backbone(torch.nn.Module):\n",
        "    def __init__(self):\n",
        "        super().__init__()\n",
        "        self.output_shape = (16, 16, 128)\n",
        "        self.first_block = torch.nn.Sequential(\n",
        "            nn.Conv2d(1, 16, (3, 3), padding=1),\n",
        "            nn.ReLU(),\n",
        "            nn.Conv2d(16, 32, (3, 3), padding=1),\n",
        "            nn.ReLU(),\n",
        "            nn.MaxPool2d(2, 2),\n",
        "        )\n",
        "        self.blocks = torch.nn.ModuleList(\n",
        "            [torch.nn.Sequential(*[\n",
        "                nn.Conv2d(16 * (2 ** i), 16 * (2 ** (i + 1)), (3, 3), padding=1),\n",
        "                nn.ReLU(),\n",
        "                nn.MaxPool2d(2, 2),\n",
        "              ]) for i in range(1, 3)\n",
        "            ]\n",
        "        )\n",
        "\n",
        "    def forward(self, x: MnistCanvas) -> torch.Tensor:\n",
        "        image = torch.Tensor(x.image).to(DEVICE).view(1, 1, 128, 128)\n",
        "        aux = self.first_block(image)\n",
        "        for block in self.blocks:\n",
        "            aux = block(aux)\n",
        "        return aux\n",
        "\n",
        "\n",
        "def get_anchors(m_range, n_range, mult_factor):\n",
        "      boxes = []\n",
        "      for x_center in range(4, 128, 8):\n",
        "        for y_center in range(4, 128, 8):\n",
        "          for x, y in ANCHOR_SIZES:\n",
        "            boxes.append(MnistBox(\n",
        "                x_min = max(0, x_center - x // 2),\n",
        "                x_max = min(127, x_center + x // 2),\n",
        "                y_min  = max(0, y_center - y // 2),\n",
        "                y_max = min(127, y_center + y // 2)\n",
        "            ))\n",
        "\n",
        "      return boxes\n",
        "\n",
        "\n",
        "class Classification(torch.nn.Module):\n",
        "    def __init__(self, num_classes, num_anchors, filters):\n",
        "      super().__init__()\n",
        "      self.num_classes = num_classes\n",
        "      self.filters = filters\n",
        "      self.num_anchors = num_anchors\n",
        "\n",
        "      self.block = torch.nn.Sequential(\n",
        "          nn.Conv2d(filters, filters, kernel_size=(3, 3), padding=(1, 1)),\n",
        "          nn.ReLU(),\n",
        "          nn.Conv2d(filters, filters, kernel_size=(3, 3), padding=(1, 1)),\n",
        "          nn.ReLU(),\n",
        "          nn.Conv2d(filters, filters, kernel_size=(3, 3), padding=(1, 1)),\n",
        "          nn.ReLU(),\n",
        "          nn.Conv2d(filters, num_anchors * num_classes, kernel_size=(3, 3), padding=(1, 1))\n",
        "      )      \n",
        "\n",
        "    def forward(self, x: torch.Tensor):\n",
        "      x = self.block(x)\n",
        "      x = torch.permute(x, (0, 2, 3, 1)).reshape((16*16*self.num_anchors, self.num_classes))\n",
        "      return x\n",
        "\n",
        "\n",
        "\n",
        "class Regression(torch.nn.Module):\n",
        "    def __init__(self, num_anchors, filters):\n",
        "      super().__init__()\n",
        "      self.num_anchors = num_anchors\n",
        "      self.softmax = nn.Softmax(dim=1)\n",
        "      self.filters = filters\n",
        "\n",
        "      self.block = nn.Sequential(\n",
        "          nn.Conv2d(filters, filters, kernel_size=(3, 3), padding=(1, 1)),\n",
        "          nn.ReLU(),\n",
        "          nn.Conv2d(filters, filters, kernel_size=(3, 3), padding=(1, 1)),\n",
        "          nn.ReLU(),\n",
        "          nn.Conv2d(filters, filters, kernel_size=(3, 3), padding=(1, 1)),\n",
        "          nn.ReLU(),\n",
        "          nn.Conv2d(filters, num_anchors * 4, kernel_size=(3, 3), padding=(1, 1))\n",
        "      )    \n",
        "\n",
        "\n",
        "    def forward(self, x: torch.Tensor):\n",
        "      x = self.block(x)\n",
        "      x = torch.permute(x, (0, 2, 3, 1)).reshape((16*16*self.num_anchors, 4))\n",
        "      return x\n",
        "\n",
        "\n",
        "class DigitDetectionModel(torch.nn.Module):\n",
        "    def __init__(self):\n",
        "      super().__init__()\n",
        "\n",
        "      self.num_anchors = len(ANCHOR_SIZES)\n",
        "      self.backbone = Backbone()\n",
        "      self.anchors = get_anchors(16, 16, 8)\n",
        "      self.digit_classification = Classification(5, self.num_anchors, 128)\n",
        "      self.rotation_classification = Classification(2, self.num_anchors, 128)\n",
        "      self.box_regression = Regression(self.num_anchors, 128)\n",
        "\n",
        "    def forward(self, x: MnistCanvas) -> DigitDetectionModelOutput:\n",
        "      x = self.backbone(x)\n",
        "      return DigitDetectionModelOutput(\n",
        "          anchors=self.anchors,\n",
        "          digit_classification_output=self.digit_classification(x),\n",
        "          rotation_classification_output=self.rotation_classification(x),\n",
        "          box_regression_output=self.box_regression(x)\n",
        "      )\n",
        "        "
      ],
      "execution_count": 12,
      "outputs": []
    },
    {
      "cell_type": "markdown",
      "metadata": {
        "id": "hnZu3sdhTfTJ"
      },
      "source": [
        "### Significant overlap (4pt)\n",
        "\n",
        "In order to manage definition of a _significant overlap_ student should implement the `TargetDecoder`. `TargetDecoder` have two methods:\n",
        "\n",
        "### - `get_targets`\n",
        "\n",
        "This method accepts a `canvas: MnistCanvas` with boxes later refered to as `gt_boxes: List[MnistBox]`, `anchors: List[MnistBox]` of model anchors and `iou_threshold: float`. Its output should be `DigitDetectionModelTarget` instance with the following attributes:\n",
        "\n",
        "- `digit_classification_target` - a tensor of shape $(len(anchors), 5)$,\n",
        "- `rotation_classification_target` - a tensor of shape $(len(anchors), 2)$\n",
        "- `box_regression_target` - a tensor of shape $(len(anchors), 4)$,\n",
        "- `matched_anchors` - a list of indices anchors matched (see definition below).\n",
        "\n",
        "The output attributes should be computed in a following manner: \n",
        "\n",
        "1. All of the outputs of the output tensors should be `0` except the case presented in the point 2.\n",
        "1. if for anchor `anchors[i]` there exist at least one `gt_box` from `gt_boxes` with `iou` overlap greater than `iou_threshold` then let `gt_best` be the one with the greatest `iou` overlap (ties resolved randomly). Then `box_regression_target` should encode the bounding box correction, namely:\n",
        "\n",
        "$$\\texttt{box_regression_target}[i, 0] = \\texttt{gt_best.x_min} - \\texttt{anchor[i].x_min}$$ \n",
        "$$\\texttt{box_regression_target}[i, 1] = \\texttt{gt_best.x_max} - \\texttt{anchor[i].x_max}$$ \n",
        "$$\\texttt{box_regression_target}[i, 2] = \\texttt{gt_best.y_min} - \\texttt{anchor[i].y_min}$$ \n",
        "$$\\texttt{box_regression_target}[i, 3] = \\texttt{gt_best.y_max} - \\texttt{anchor[i].y_max}$$,\n",
        "\n",
        "`digit_classification_target` should encode the class of matched `gt_best`, namely:\n",
        "\n",
        "$$\\texttt{digit_classification_target}[i, \\texttt{gt_best.class_nb} - 1] = 1.$$\n",
        "\n",
        "`rotation_classification_target` should encode if matched `gt_best` has a digit which was rotated, namely:\n",
        "\n",
        "$$\\texttt{rotation_classification_target}[i, 0] = 1,$$\n",
        "\n",
        "if `gt_best` digit was not rotated and:\n",
        "\n",
        "$$\\texttt{rotation_classification_target}[i, 1] = 1,$$\n",
        "\n",
        "if `gt_best` digit was rotated (this might be interpreted as a one-hot encoding if a digit was rotated).\n",
        "\n",
        "Moreover - the `anchor[i]` is considered to be _matched_ with some ground truth box so index `i` should be in `matched_anchors` list.\n",
        "\n",
        "The output should be packed into `DigitDetectionModelTarget` class defined below.\n",
        "\n",
        "_Hint_: note that there might be cases when no anchor is matched. What does it mean about your anchors?\n",
        "\n",
        "### - `get_predictions`\n",
        "\n",
        "This method should decode the `DigitDetectionModelOutput` to set of final boxes\n",
        "predictions. We leave the way of selecting the predictions to students.\n",
        "\n",
        "_HINT_: we definitely advise to use `torchvision.ops.nms` function.\n",
        "\n"
      ]
    },
    {
      "cell_type": "code",
      "metadata": {
        "id": "WWcthFZQquNo"
      },
      "source": [
        "from torchvision.ops import box_iou, nms\n",
        "\n",
        "\n",
        "class DigitDetectionModelTarget:\n",
        "\n",
        "    def __init__(\n",
        "        self,\n",
        "        digit_classification_target: torch.Tensor,\n",
        "        rotation_classification_target: torch.Tensor,\n",
        "        box_regression_target: torch.Tensor,\n",
        "        matched_anchors: List[int],\n",
        "    ):\n",
        "        self.digit_classification_target = digit_classification_target\n",
        "        self.rotation_classification_target = rotation_classification_target\n",
        "        self.box_regression_target = box_regression_target\n",
        "        self.matched_anchors = matched_anchors\n",
        "\n",
        "\n",
        "class TargetDecoder:\n",
        "\n",
        "    def get_targets(\n",
        "        self,\n",
        "        canvas: MnistCanvas,\n",
        "        anchors: List[MnistBox],\n",
        "        iou_threshold: float=0.2,\n",
        "        nb_of_classes: int = 5,\n",
        "    ) -> DigitDetectionModelTarget:\n",
        "        digit_classification_target = torch.zeros(len(anchors), nb_of_classes).to(DEVICE)\n",
        "        rotation_classification_target = torch.zeros(len(anchors), 2).to(DEVICE)\n",
        "        box_regression_target = torch.zeros(len(anchors), 4).to(DEVICE)\n",
        "        matched_anchors = []\n",
        "\n",
        "        for i, anchor in enumerate(anchors):\n",
        "          ious = [anchor.iou_with(gt_box) for gt_box in canvas.boxes]\n",
        "          greater_iou_idx = np.argmax(ious)\n",
        "          greater_iou = ious[greater_iou_idx]\n",
        "          gt_best = canvas.boxes[greater_iou_idx]\n",
        "\n",
        "          if greater_iou > iou_threshold:\n",
        "            box_regression_target[i][0] = gt_best.x_min - anchor.x_min\n",
        "            box_regression_target[i][1] = gt_best.x_max - anchor.x_max\n",
        "            box_regression_target[i][2] = gt_best.y_min - anchor.y_min\n",
        "            box_regression_target[i][3] = gt_best.y_max - anchor.y_max\n",
        "            digit_classification_target[i][gt_best.class_nb - 1] = 1\n",
        "            if not gt_best.rotated:\n",
        "              rotation_classification_target[i][0] = 1\n",
        "            else:\n",
        "              rotation_classification_target[i][1] = 1\n",
        "            \n",
        "            matched_anchors.append(i)\n",
        "\n",
        "        return DigitDetectionModelTarget(digit_classification_target=digit_classification_target,\n",
        "                                         rotation_classification_target=rotation_classification_target,\n",
        "                                         box_regression_target=box_regression_target,\n",
        "                                         matched_anchors=matched_anchors)\n",
        "\n",
        "\n",
        "\n",
        "    def get_predictions(\n",
        "        self,\n",
        "        model_output: DigitDetectionModelOutput,\n",
        "        score_threshold: Optional[float] = 0.51\n",
        "    ) -> List[MnistBox]:\n",
        "        anchors = []\n",
        "        for anchor, box in zip(model_output.anchors, model_output.box_regression_output):\n",
        "          anchors.append(anchor.x_min + box[0].item())\n",
        "          anchors.append(anchor.y_min + box[2].item())\n",
        "          anchors.append(anchor.x_max + box[1].item())\n",
        "          anchors.append(anchor.y_max + box[3].item())\n",
        "        boxes = torch.Tensor(anchors).view(-1, 4).to(DEVICE)\n",
        "        digit_scores = torch.max(model_output.digit_classification_output, dim=1).values\n",
        " \n",
        "        ids = torchvision.ops.nms(boxes, digit_scores, iou_threshold=0.1)\n",
        "\n",
        "        final_boxes = []\n",
        "\n",
        "        for idx in ids:\n",
        "          if digit_scores[idx] > score_threshold:\n",
        "            final_boxes.append(MnistBox(\n",
        "                x_min = int(boxes[idx][0].item()), x_max = int(boxes[idx][2].item()),\n",
        "                y_min = int(boxes[idx][1].item()), y_max = int(boxes[idx][3].item()),\n",
        "                class_nb = torch.argmax(model_output.digit_classification_output[idx]) + 1,\n",
        "                rotated = torch.argmax(model_output.rotation_classification_output[idx]) == 1,\n",
        "            ))\n",
        "\n",
        "          else:\n",
        "            break\n",
        "\n",
        "        return final_boxes"
      ],
      "execution_count": 13,
      "outputs": []
    },
    {
      "cell_type": "markdown",
      "metadata": {
        "id": "xA1Nvz6jagyP"
      },
      "source": [
        "### Metrics (4pt)\n",
        "\n",
        "## Retina Loss\n",
        "As a loss function one should implement the variant of Retina Loss. It should be computed in a following manner:\n",
        "\n",
        "`compute_loss`: \n",
        "\n",
        "This method accepts:\n",
        "- `DigitDetectionModelTarget`,\n",
        "- `DigitDetectionModelOutput`,\n",
        "\n",
        "and computes a loss which is a sum of a:\n",
        "- `torch.nn.SmoothL1Loss` between boxes predictions and targets averaged only over matched anchors,\n",
        "- `torchvision.ops.sigmoid_focal_loss` between digit predictions and targets,\n",
        "- `torchvision.ops.sigmoid_focal_loss` between rotation predictions and targets,\n",
        "\n",
        "One can either use `torch` default parameters for this losses or try to tune them.\n",
        "\n",
        "If there are no matched anchors - a loss should return `None`. Remember to handle this case separately in your training loop. What does the occurence of this case means about your anchors?\n",
        "\n",
        "## Digit Accuracy\n",
        "\n",
        "This method shoud accept `canvas: MnistCanvas` and `predicted_boxes: List[MnistBox]` obtained using `TargetDecoder.get_predictions` method and output whether there is a direct matching between boxes from `MnistCanvas` and predictions. There is a direct matching if:\n",
        "\n",
        "- for all boxes from `canvas`, there exist precisely one box from `predicted_boxes` with a matching class  and `iou` overlap greater than `0.5`,\n",
        "- the number of `canvas` boxes match `len(predicted_boxes)`.\n",
        "\n",
        "The model shoud output `1` if there is a matching and `0` otherwise.\n"
      ]
    },
    {
      "cell_type": "code",
      "metadata": {
        "id": "rffXn9CQwVu4"
      },
      "source": [
        "import torch\n",
        "import torchvision \n",
        "\n",
        "\n",
        "class RetinaLoss:\n",
        "\n",
        "    def compute_loss(\n",
        "        self,\n",
        "        model_output: DigitDetectionModelOutput,\n",
        "        model_target: DigitDetectionModelTarget,\n",
        "    ) -> Optional[torch.Tensor]:\n",
        "        matched_anchors = model_target.matched_anchors\n",
        "        if len(matched_anchors) == 0:\n",
        "          return None\n",
        "\n",
        "        regression_loss = torch.nn.functional.smooth_l1_loss(model_output.box_regression_output[matched_anchors],\n",
        "                                                             model_target.box_regression_target[matched_anchors], reduction='mean')\n",
        "        \n",
        "        class_loss = torchvision.ops.sigmoid_focal_loss(model_output.digit_classification_output, \n",
        "                                                        model_target.digit_classification_target, alpha=0.9, reduction='mean')\n",
        "        \n",
        "        rotation_loss = torchvision.ops.sigmoid_focal_loss(model_output.rotation_classification_output,\n",
        "                                                           model_target.rotation_classification_target, alpha=0.9, reduction='mean')\n",
        "        \n",
        "        return regression_loss + class_loss + rotation_loss\n",
        "\n",
        "\n",
        "class DigitAccuracy:\n",
        "\n",
        "    def compute_metric(\n",
        "        self,\n",
        "        predicted_boxes: List[MnistBox],\n",
        "        canvas: MnistCanvas,\n",
        "    ):\n",
        "        if len(canvas.boxes) != len(predicted_boxes):\n",
        "          return 0\n",
        "        \n",
        "        for ground_truth_box in canvas.boxes:\n",
        "          matching_box = []\n",
        "          for predicted_box in predicted_boxes:\n",
        "            if ground_truth_box.class_nb == predicted_box.class_nb and ground_truth_box.rotated == predicted_box.rotated and ground_truth_box.iou_with(predicted_box) >= 0.5:\n",
        "              matching_box.append(True)\n",
        "          if len(matching_box) != 1:\n",
        "            return 0\n",
        "            \n",
        "        return 1"
      ],
      "execution_count": 14,
      "outputs": []
    },
    {
      "cell_type": "markdown",
      "metadata": {
        "id": "15n5w-hhvRbS"
      },
      "source": [
        "### Train your model (4pt)\n",
        "\n",
        "One should use all classes defined above to train the model.\n",
        "\n",
        "A passing threshold is `10%` of a `DigitAccuracy` on a `TEST_CANVAS` data.\n",
        "\n",
        "Plot example results of matched and mismatched predictions (2pt).\n",
        "\n",
        "**Hint:** Training can take a while to achieve the expected accuracy. It is normal that for many epochs at the beginning accuracy is constantly $0$. Do not worry as long as the loss is on average decreasing across epochs.\n",
        "\n",
        "Have fun!"
      ]
    },
    {
      "cell_type": "code",
      "metadata": {
        "colab": {
          "base_uri": "https://localhost:8080/",
          "height": 268
        },
        "id": "2XgU5_J0NJP8",
        "outputId": "4bafc80d-74c0-4054-ab0a-f6aba2db2a98"
      },
      "source": [
        "TRAIN_CANVAS_SIZE = 256\n",
        "TRAIN_SEED = 42 # DO NOT CHANGE THIS LINE.\n",
        "\n",
        "np.random.seed(TRAIN_SEED)\n",
        "\n",
        "TRAIN_CANVAS = [\n",
        "    get_random_canvas(\n",
        "        digits=TRAIN_DIGITS,\n",
        "        classes=TRAIN_CLASSES,\n",
        "    )\n",
        "    for _ in range(TRAIN_CANVAS_SIZE)\n",
        "]\n",
        "\n",
        "TRAIN_CANVAS[0].plot()"
      ],
      "execution_count": 15,
      "outputs": [
        {
          "output_type": "display_data",
          "data": {
            "image/png": "[encoded data removed]",
            "text/plain": [
              "<Figure size 432x288 with 1 Axes>"
            ]
          },
          "metadata": {
            "needs_background": "light"
          }
        }
      ]
    },
    {
      "cell_type": "code",
      "metadata": {
        "id": "tRbrpc932y0V"
      },
      "source": [
        "import torch.optim as optim\n",
        "import copy"
      ],
      "execution_count": 16,
      "outputs": []
    },
    {
      "cell_type": "code",
      "metadata": {
        "id": "D7Zde54IZ3fi"
      },
      "source": [
        "class Trainer():\n",
        "    def __init__(self, train_canvas_size, number_of_epochs):\n",
        "      \n",
        "      self.train_canvas_size = train_canvas_size\n",
        "\n",
        "      self.TRAIN_CANVAS = [\n",
        "          get_random_canvas(\n",
        "              digits=TRAIN_DIGITS,\n",
        "              classes=TRAIN_CLASSES,\n",
        "          )\n",
        "          for _ in range(self.train_canvas_size)\n",
        "      ]\n",
        "\n",
        "      self.model = DigitDetectionModel().to(DEVICE)\n",
        "      self.optimizer = optim.Adam(self.model.parameters(), lr=1e-4)\n",
        "      self.target_decoder = TargetDecoder()\n",
        "      self.retina_loss = RetinaLoss()\n",
        "      self.digit_accuracy = DigitAccuracy()\n",
        "      self.train_targets = [self.target_decoder.get_targets(el, self.model.anchors) for el in self.TRAIN_CANVAS]\n",
        "\n",
        "      self.test_set = TEST_CANVAS\n",
        "      self.test_targets = [self.target_decoder.get_targets(el, self.model.anchors) for el in self.test_set]\n",
        "      self.max_print = 5\n",
        "      self.number_of_epochs = number_of_epochs\n",
        "\n",
        "    def train(self):\n",
        "\n",
        "        train_loss, test_loss, test_acc = [], [], []\n",
        "        correct, not_correct = 0, 0\n",
        "\n",
        "        for epoch in range(self.number_of_epochs):\n",
        "            temp_loss = 0\n",
        "            for i in range(len(self.TRAIN_CANVAS)):\n",
        "              train_input = self.TRAIN_CANVAS[i]\n",
        "              train_target = self.train_targets[i]\n",
        "\n",
        "              model_output = self.model(train_input)\n",
        "              predicted_boxes = self.target_decoder.get_predictions(model_output)\n",
        "\n",
        "              loss = self.retina_loss.compute_loss(model_output, train_target)\n",
        "              \n",
        "              temp_loss += loss\n",
        "\n",
        "              self.optimizer.zero_grad()\n",
        "              loss.backward()\n",
        "              self.optimizer.step()\n",
        "            \n",
        "            train_loss.append(temp_loss)\n",
        "\n",
        "            print(f'Epoch: {epoch}, loss: {temp_loss}')\n",
        "\n",
        "            correct = 0\n",
        "            total = 0\n",
        "            with torch.no_grad():\n",
        "\n",
        "                for i in range(len(self.test_set)):\n",
        "                  test_input = self.test_set[i]\n",
        "                  test_target = self.test_targets[i]\n",
        "                  model_output = self.model(test_input)\n",
        "\n",
        "                  predicted_boxes = self.target_decoder.get_predictions(model_output)\n",
        "\n",
        "                  loss = self.retina_loss.compute_loss(model_output, test_target)\n",
        "\n",
        "                  metric = self.digit_accuracy.compute_metric(predicted_boxes, test_input)\n",
        "\n",
        "                  if epoch == self.number_of_epochs - 1:\n",
        "                    if metric == 1 and correct < self.max_print: \n",
        "                      print('Correct object detection:')\n",
        "                      pic = copy.deepcopy(test_input)\n",
        "                      pic.boxes = predicted_boxes\n",
        "                      pic.plot()\n",
        "                      correct += 1\n",
        "                    elif metric == 0 and not_correct < self.max_print:\n",
        "                      print('Incorrect object detection:')\n",
        "                      pic = copy.deepcopy(test_input)\n",
        "                      pic.boxes = predicted_boxes\n",
        "                      pic.plot()\n",
        "                      not_correct += 1\n",
        "\n",
        "                  correct += metric\n",
        "                  total += 1\n",
        "\n",
        "                test_loss.append(loss.item())\n",
        "                test_acc.append(100 * correct / total)\n",
        "\n",
        "            print('Accuracy of the network on the {} test images: {} %'.format(\n",
        "                    total, 100 * correct / total))\n",
        "            \n",
        "        return train_loss, test_loss, test_acc"
      ],
      "execution_count": 17,
      "outputs": []
    },
    {
      "cell_type": "code",
      "metadata": {
        "colab": {
          "base_uri": "https://localhost:8080/",
          "height": 1000
        },
        "id": "WTT1XqcVwS80",
        "outputId": "526a0e4f-18ae-477d-faec-6eaafcd9d5a7"
      },
      "source": [
        "trainer = Trainer(1000, 20)\n",
        "train_loss, test_loss, test_acc = trainer.train()"
      ],
      "execution_count": 18,
      "outputs": [
        {
          "output_type": "stream",
          "name": "stdout",
          "text": [
            "Epoch: 0, loss: 1684.899169921875\n",
            "Accuracy of the network on the 256 test images: 0.78125 %\n",
            "Epoch: 1, loss: 917.5338745117188\n",
            "Accuracy of the network on the 256 test images: 0.78125 %\n",
            "Epoch: 2, loss: 683.893798828125\n",
            "Accuracy of the network on the 256 test images: 2.734375 %\n",
            "Epoch: 3, loss: 578.751708984375\n",
            "Accuracy of the network on the 256 test images: 8.59375 %\n",
            "Epoch: 4, loss: 511.5321350097656\n",
            "Accuracy of the network on the 256 test images: 8.203125 %\n",
            "Epoch: 5, loss: 460.8933410644531\n",
            "Accuracy of the network on the 256 test images: 10.9375 %\n",
            "Epoch: 6, loss: 419.5025939941406\n",
            "Accuracy of the network on the 256 test images: 12.5 %\n",
            "Epoch: 7, loss: 384.89068603515625\n",
            "Accuracy of the network on the 256 test images: 13.28125 %\n",
            "Epoch: 8, loss: 356.4551696777344\n",
            "Accuracy of the network on the 256 test images: 16.015625 %\n",
            "Epoch: 9, loss: 332.29376220703125\n",
            "Accuracy of the network on the 256 test images: 17.578125 %\n",
            "Epoch: 10, loss: 311.2662048339844\n",
            "Accuracy of the network on the 256 test images: 21.09375 %\n",
            "Epoch: 11, loss: 292.7650451660156\n",
            "Accuracy of the network on the 256 test images: 23.4375 %\n",
            "Epoch: 12, loss: 276.3082275390625\n",
            "Accuracy of the network on the 256 test images: 26.953125 %\n",
            "Epoch: 13, loss: 261.2306823730469\n",
            "Accuracy of the network on the 256 test images: 29.296875 %\n",
            "Epoch: 14, loss: 247.4696044921875\n",
            "Accuracy of the network on the 256 test images: 30.859375 %\n",
            "Epoch: 15, loss: 234.4976043701172\n",
            "Accuracy of the network on the 256 test images: 33.203125 %\n",
            "Epoch: 16, loss: 222.71841430664062\n",
            "Accuracy of the network on the 256 test images: 33.203125 %\n",
            "Epoch: 17, loss: 211.7816162109375\n",
            "Accuracy of the network on the 256 test images: 37.109375 %\n",
            "Epoch: 18, loss: 201.2895050048828\n",
            "Accuracy of the network on the 256 test images: 39.84375 %\n",
            "Epoch: 19, loss: 191.85211181640625\n",
            "Incorrect object detection:\n"
          ]
        },
        {
          "output_type": "display_data",
          "data": {
            "image/png": "[encoded data removed]",
            "text/plain": [
              "<Figure size 432x288 with 1 Axes>"
            ]
          },
          "metadata": {
            "needs_background": "light"
          }
        },
        {
          "output_type": "stream",
          "name": "stdout",
          "text": [
            "Incorrect object detection:\n"
          ]
        },
        {
          "output_type": "display_data",
          "data": {
            "image/png": "[encoded data removed]",
            "text/plain": [
              "<Figure size 432x288 with 1 Axes>"
            ]
          },
          "metadata": {
            "needs_background": "light"
          }
        },
        {
          "output_type": "stream",
          "name": "stdout",
          "text": [
            "Correct object detection:\n"
          ]
        },
        {
          "output_type": "display_data",
          "data": {
            "image/png": "[encoded data removed]",
            "text/plain": [
              "<Figure size 432x288 with 1 Axes>"
            ]
          },
          "metadata": {
            "needs_background": "light"
          }
        },
        {
          "output_type": "stream",
          "name": "stdout",
          "text": [
            "Incorrect object detection:\n"
          ]
        },
        {
          "output_type": "display_data",
          "data": {
            "image/png": "[encoded data removed]",
            "text/plain": [
              "<Figure size 432x288 with 1 Axes>"
            ]
          },
          "metadata": {
            "needs_background": "light"
          }
        },
        {
          "output_type": "stream",
          "name": "stdout",
          "text": [
            "Incorrect object detection:\n"
          ]
        },
        {
          "output_type": "display_data",
          "data": {
            "image/png": "[encoded data removed]",
            "text/plain": [
              "<Figure size 432x288 with 1 Axes>"
            ]
          },
          "metadata": {
            "needs_background": "light"
          }
        },
        {
          "output_type": "stream",
          "name": "stdout",
          "text": [
            "Incorrect object detection:\n"
          ]
        },
        {
          "output_type": "display_data",
          "data": {
            "image/png": "[encoded data removed]",
            "text/plain": [
              "<Figure size 432x288 with 1 Axes>"
            ]
          },
          "metadata": {
            "needs_background": "light"
          }
        },
        {
          "output_type": "stream",
          "name": "stdout",
          "text": [
            "Correct object detection:\n"
          ]
        },
        {
          "output_type": "display_data",
          "data": {
            "image/png": "[encoded data removed]",
            "text/plain": [
              "<Figure size 432x288 with 1 Axes>"
            ]
          },
          "metadata": {
            "needs_background": "light"
          }
        },
        {
          "output_type": "stream",
          "name": "stdout",
          "text": [
            "Correct object detection:\n"
          ]
        },
        {
          "output_type": "display_data",
          "data": {
            "image/png": "[encoded data removed]",
            "text/plain": [
              "<Figure size 432x288 with 1 Axes>"
            ]
          },
          "metadata": {
            "needs_background": "light"
          }
        },
        {
          "output_type": "stream",
          "name": "stdout",
          "text": [
            "Accuracy of the network on the 256 test images: 41.40625 %\n"
          ]
        }
      ]
    },
    {
      "cell_type": "markdown",
      "source": [
        "### Report\n",
        "\n",
        "Final model obtained 41% on test set with 20 epochs of training. The trainig set was consisted of 1000 MnistCanvas objects. \n",
        "\n",
        "Examples of correct and incorrect predictions of final model can be seen above.\n",
        "\n",
        "I've chosen ADAM optimizer with 1e-4 learning rate. \n",
        "\n",
        "Regarding chosen anchor sizes -- they were chosen by analysing boxes sizes of 1000 random canvas with regard to class and rotation.\n",
        "\n",
        "Architecture of classification and regression head was chosen basen on RetinaNet paper linked in the description of the assignment.\n",
        "\n",
        "In the get_prediction function the value of digit score was chosen experimentally to 0.51.\n"
      ],
      "metadata": {
        "id": "BwgUrmkpAaGt"
      }
    }
  ]
}