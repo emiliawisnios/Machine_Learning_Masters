{
  "nbformat": 4,
  "nbformat_minor": 0,
  "metadata": {
    "colab": {
      "name": "Robot_control_Lab_5.ipynb",
      "provenance": [],
      "collapsed_sections": [
        "jANnkm5rdLkf",
        "d4E9OalZcCow",
        "NH8HTL_cSI01",
        "1BuWsxYjn7LG",
        "cw05CrzfR7je",
        "QEk77BilwzEW",
        "9xDv8UMqnxBz",
        "K_BQnq1zAFgV",
        "aIQEzWeULRjE",
        "w_nGs66nQ_wf"
      ]
    },
    "kernelspec": {
      "display_name": "Python 3",
      "name": "python3"
    },
    "language_info": {
      "name": "python"
    }
  },
  "cells": [
    {
      "cell_type": "markdown",
      "metadata": {
        "id": "2yuaOAbbRWMg"
      },
      "source": [
        "# Robot control Lab 5 - OpenCV and pixel-space basics\n",
        "\n",
        "Todays lab will focus on basic operations with still images or more commonly single camera frames. We will use OpenCV ([docs](https://docs.opencv.org/4.1.2/index.html)) and during creation of this scenario Google Colab runs OpenCV version 4.1.2, if you have a different version you can change docs version to match."
      ]
    },
    {
      "cell_type": "markdown",
      "metadata": {
        "id": "E6YsSBHkalhi"
      },
      "source": [
        "## Working with Colab\n",
        "\n",
        "If you are not familiar with Colab, it is a shared Python notebook with a possibility to run a virtual runtime, which is a virtual machine that will allow you to run your code, manage files, etc.\n",
        "\n",
        "First step would be to copy a Colab notebook so that you can save changes you make and save your code for later. In terms of saving, everything should work just like in Google Docs. If you haven't done that yet, above working area there will be a \"Copy to Drive\" button, which you should press to be able to save changes. You can use your [UW Google account](https://it.uw.edu.pl/pl/uslugi/UslugiMojaPocztaGmailStudent/).\n",
        "\n",
        "Go through the whole notebook by expanding subsequent sections. If you are familiar with OpenCV you can probably skip everything until \"Detecting markers\". And if you are already familiar with markers as well, skip to the \"Extra task\". In case you are skipping ahead remember to download assets and execute cells with imports."
      ]
    },
    {
      "cell_type": "markdown",
      "metadata": {
        "id": "jANnkm5rdLkf"
      },
      "source": [
        "## Downloading assets\n"
      ]
    },
    {
      "cell_type": "markdown",
      "metadata": {
        "id": "miX-jRmXSSqG"
      },
      "source": [
        "\n",
        "Execute cell below to download assets we will be using today. If you have not launched the runtime yet it will probably launch automatically now."
      ]
    },
    {
      "cell_type": "code",
      "metadata": {
        "colab": {
          "base_uri": "https://localhost:8080/"
        },
        "id": "kUeNgRCZR0UB",
        "outputId": "8cb75616-5ad9-4ad3-d397-4b08636c4be1"
      },
      "source": [
        "%cd /content/\n",
        "!rm -rf lab5_assets\n",
        "!git clone https://github.com/nomagiclab/lab5_assets.git\n",
        "%cd lab5_assets\n"
      ],
      "execution_count": 1,
      "outputs": [
        {
          "output_type": "stream",
          "name": "stdout",
          "text": [
            "/content\n",
            "Cloning into 'lab5_assets'...\n",
            "remote: Enumerating objects: 16, done.\u001b[K\n",
            "remote: Counting objects: 100% (16/16), done.\u001b[K\n",
            "remote: Compressing objects: 100% (14/14), done.\u001b[K\n",
            "remote: Total 16 (delta 2), reused 16 (delta 2), pack-reused 0\u001b[K\n",
            "Unpacking objects: 100% (16/16), done.\n",
            "/content/lab5_assets\n"
          ]
        }
      ]
    },
    {
      "cell_type": "markdown",
      "metadata": {
        "id": "d4E9OalZcCow"
      },
      "source": [
        "## OpenCV basics\n"
      ]
    },
    {
      "cell_type": "markdown",
      "metadata": {
        "id": "Mv-HGkdZSQBG"
      },
      "source": [
        "\n",
        "First we will import OpenCV and check the version. This scenario is written when the version available in Colab by default is 4.1.2."
      ]
    },
    {
      "cell_type": "code",
      "metadata": {
        "colab": {
          "base_uri": "https://localhost:8080/"
        },
        "id": "ZdA3_ABZdnE5",
        "outputId": "5d3fdcce-b2a0-4ee8-b66e-c342d2b16ab9"
      },
      "source": [
        "import cv2\n",
        "print(f\"OpenCV version is: {cv2.__version__}\")"
      ],
      "execution_count": 2,
      "outputs": [
        {
          "output_type": "stream",
          "name": "stdout",
          "text": [
            "OpenCV version is: 4.1.2\n"
          ]
        }
      ]
    },
    {
      "cell_type": "markdown",
      "metadata": {
        "id": "_INuPfBzeScQ"
      },
      "source": [
        "Let's explore how to load an image file and how the variable holding the image looks like."
      ]
    },
    {
      "cell_type": "code",
      "metadata": {
        "colab": {
          "base_uri": "https://localhost:8080/"
        },
        "id": "WNVvlJCFd99l",
        "outputId": "47ce7d63-ac55-4c6f-bc19-ed686aa90faf"
      },
      "source": [
        "\n",
        "first_img = cv2.imread(\"f.png\")\n",
        "first_img"
      ],
      "execution_count": 3,
      "outputs": [
        {
          "output_type": "execute_result",
          "data": {
            "text/plain": [
              "array([[[245, 193, 153],\n",
              "        [245, 193, 153],\n",
              "        [245, 193, 153],\n",
              "        ...,\n",
              "        [132, 148, 161],\n",
              "        [122, 135, 149],\n",
              "        [172, 185, 199]],\n",
              "\n",
              "       [[245, 193, 153],\n",
              "        [245, 193, 153],\n",
              "        [245, 193, 153],\n",
              "        ...,\n",
              "        [134, 150, 163],\n",
              "        [112, 125, 139],\n",
              "        [159, 172, 186]],\n",
              "\n",
              "       [[245, 193, 153],\n",
              "        [245, 193, 153],\n",
              "        [245, 193, 153],\n",
              "        ...,\n",
              "        [147, 163, 176],\n",
              "        [102, 115, 129],\n",
              "        [166, 179, 193]],\n",
              "\n",
              "       ...,\n",
              "\n",
              "       [[143, 154, 152],\n",
              "        [137, 148, 146],\n",
              "        [135, 146, 144],\n",
              "        ...,\n",
              "        [221, 236, 239],\n",
              "        [227, 242, 245],\n",
              "        [230, 245, 248]],\n",
              "\n",
              "       [[144, 152, 151],\n",
              "        [137, 145, 144],\n",
              "        [137, 145, 144],\n",
              "        ...,\n",
              "        [195, 207, 211],\n",
              "        [192, 204, 208],\n",
              "        [189, 201, 205]],\n",
              "\n",
              "       [[137, 145, 144],\n",
              "        [129, 137, 136],\n",
              "        [120, 126, 125],\n",
              "        ...,\n",
              "        [173, 185, 189],\n",
              "        [172, 184, 188],\n",
              "        [173, 185, 189]]], dtype=uint8)"
            ]
          },
          "metadata": {},
          "execution_count": 3
        }
      ]
    },
    {
      "cell_type": "markdown",
      "metadata": {
        "id": "BfQO9QAxebaJ"
      },
      "source": [
        "If it looks familiar thats because the underlying type for the image is actually a NumPy array. Let's explore its shape and elements type."
      ]
    },
    {
      "cell_type": "code",
      "metadata": {
        "colab": {
          "base_uri": "https://localhost:8080/"
        },
        "id": "I-uNFI3LepaB",
        "outputId": "ae325468-fe63-4623-f0a9-dc852af82531"
      },
      "source": [
        "print(f\"Shape is: {first_img.shape}\")\n",
        "print(f\"Element type is: {first_img.dtype}\")"
      ],
      "execution_count": 4,
      "outputs": [
        {
          "output_type": "stream",
          "name": "stdout",
          "text": [
            "Shape is: (822, 1024, 3)\n",
            "Element type is: uint8\n"
          ]
        }
      ]
    },
    {
      "cell_type": "markdown",
      "metadata": {
        "id": "mqjC6aeTev1R"
      },
      "source": [
        "So here is the first caveat: normally in computer graphics first coordinate is the horizontal axis and the second one is vertical, like so:\n",
        "\n",
        "![Image coords](https://learn365project.files.wordpress.com/2015/08/computer_coordinates.png)\n",
        "\n",
        "But because Python's API of OpenCV uses NumPy, the image is treated as a matrix, so x and y are swapped, because that's how we usually index matrices. In this case the shape of `(822, 1024, 3)` will actually mean 822 rows, 1024 columns, so the image resolution will be 1024x822. What about that 3? This designates the number of channels, most often this means RGB channels (to learn more check [here](https://learnopencv.com/color-spaces-in-opencv-cpp-python/)). \n",
        "\n",
        "Last thing here: dtype of uint8 means for each pixel for each channel we have a byte (8-bit value, 0-255 range).\n",
        "\n",
        "Oh and when talking about image coordinates you will sometimes see that letters (u, v) are used instead of (x, y)"
      ]
    },
    {
      "cell_type": "markdown",
      "metadata": {
        "id": "YzvLCc7ahir4"
      },
      "source": [
        "Now we are ready to preview the image. Normally when working locally we would use `cv2.imshow` and `cv2.waitKey` functions, but here in the Colab notebook we will use a `cv2_imshow` function provided by Colab."
      ]
    },
    {
      "cell_type": "code",
      "metadata": {
        "id": "2-hZE5a5YA-w"
      },
      "source": [
        "# Normally we would do:\n",
        "# cv2.imshow(\"window\", first_img)\n",
        "# cv2.waitKey(-1)\n",
        "\n",
        "# But in Colab we need to use:\n",
        "from google.colab.patches import cv2_imshow\n",
        "\n",
        "#cv2_imshow(first_img)"
      ],
      "execution_count": 5,
      "outputs": []
    },
    {
      "cell_type": "markdown",
      "metadata": {
        "id": "Jf7NyZQUit_I"
      },
      "source": [
        "What a nice picture!\n"
      ]
    },
    {
      "cell_type": "markdown",
      "metadata": {
        "id": "NH8HTL_cSI01"
      },
      "source": [
        "## Resizing\n"
      ]
    },
    {
      "cell_type": "markdown",
      "metadata": {
        "id": "L5LZR55QSKPd"
      },
      "source": [
        "\n",
        "Let's say we want to make it smaller. Let's first visit docs and find `resize` function. Thats our first function today, so [here](https://docs.opencv.org/4.1.2/da/d54/group__imgproc__transform.html#ga47a974309e9102f5f08231edc7e7529d) is a little hint. Notice that the documentation is primarily for C++, but with every function you should be able to spot Python's API. So we have to pass `src` and `dsize`. Notice also that Python version of the function returns output image both as return value of the function and as the third parameter. Let's resize the image so that it has 300x300 px."
      ]
    },
    {
      "cell_type": "code",
      "metadata": {
        "id": "t_n_atwxjLO5"
      },
      "source": [
        "first_img_small_square = cv2.resize(first_img, (300,300))\n",
        "#cv2_imshow(first_img_small_square)\n"
      ],
      "execution_count": 6,
      "outputs": []
    },
    {
      "cell_type": "markdown",
      "metadata": {
        "id": "4ipbh6BLlOMZ"
      },
      "source": [
        "Now it's your turn! Try to resize the image as we did above, but this time we want height to be 300, but width should be calculated to keep the original aspect ratio."
      ]
    },
    {
      "cell_type": "code",
      "metadata": {
        "id": "ehoM51npm73v"
      },
      "source": [
        "dsize = (300, 300) # TODO: modify this line\n",
        "ratio = first_img.shape[0]/300\n",
        "dsize = (int(first_img.shape[1] / ratio), 300)\n",
        "first_img_small = cv2.resize(first_img, dsize)\n",
        "#cv2_imshow(first_img_small)"
      ],
      "execution_count": 7,
      "outputs": []
    },
    {
      "cell_type": "markdown",
      "metadata": {
        "id": "1BuWsxYjn7LG"
      },
      "source": [
        "As you probably noticed there is a difference in that `shape[0]` is y (vertical, height) and `shape[1]` is x (horizontal, width) because this is numpy interface. When we pass something to any OpenCV function such as `dsize` tuple here it has normal order in which first coordinate is horizontal one.\n"
      ]
    },
    {
      "cell_type": "markdown",
      "metadata": {
        "id": "cw05CrzfR7je"
      },
      "source": [
        "\n",
        "## Cropping\n"
      ]
    },
    {
      "cell_type": "markdown",
      "metadata": {
        "id": "AV7AH-7aR_XD"
      },
      "source": [
        "\n",
        "We can also crop the image (cut some rectangular section). In Python, since OpenCV uses NumPy we actually do that using NumPy matrix operators (slicing). Let's say we want to cut a vertical rectangle from the middle of the original image."
      ]
    },
    {
      "cell_type": "code",
      "metadata": {
        "id": "6V9WAwrGoe6C"
      },
      "source": [
        "# \"tl\" is often used to designate top-left corner, \"br\" will be bottom-right\n",
        "# We will cut a rectangle that starts in the middle of the image and goes 200 px right and 350 px down.\n",
        "\n",
        "crop_tl_x = first_img.shape[1] // 2\n",
        "crop_tl_y = first_img.shape[0] // 2\n",
        "crop_width = 200\n",
        "crop_height = 350\n",
        "crop_br_x = crop_tl_x + crop_width\n",
        "crop_br_y = crop_tl_y + crop_height\n",
        "\n",
        "first_img_crop_0 = first_img[crop_tl_y:crop_br_y, crop_tl_x:crop_br_x]\n",
        "# cv2_imshow(first_img_crop_0)"
      ],
      "execution_count": 8,
      "outputs": []
    },
    {
      "cell_type": "markdown",
      "metadata": {
        "id": "oUll6SBTr44D"
      },
      "source": [
        "Now your turn: crop a rectangle that starts in (u, v) = (175, 675) and has a vertical dimension 100 and horizontal 200."
      ]
    },
    {
      "cell_type": "code",
      "metadata": {
        "id": "mOXrexBGsBZI"
      },
      "source": [
        "# TODO: Crop first_img_crop_1 as instructed above\n",
        "\n",
        "\n",
        "crop_tl_x = 175\n",
        "crop_tl_y = 675\n",
        "\n",
        "crop_width = 200\n",
        "crop_height = 100\n",
        "\n",
        "crop_br_x = crop_tl_x + crop_width\n",
        "crop_br_y = crop_tl_y + crop_height\n",
        "\n",
        "first_img_crop_1 = first_img[crop_tl_y:crop_br_y, crop_tl_x:crop_br_x]\n",
        "# cv2_imshow(first_img_crop_1)"
      ],
      "execution_count": 9,
      "outputs": []
    },
    {
      "cell_type": "markdown",
      "metadata": {
        "id": "QEk77BilwzEW"
      },
      "source": [
        "## Grayscale conversion\n"
      ]
    },
    {
      "cell_type": "markdown",
      "metadata": {
        "id": "wPWZaJIzSBL2"
      },
      "source": [
        "\n",
        "The last thing we will explore about general OpenCV tasks today will be converting an image to grayscale and then binary black and white image. You probably know OpenCV and the docs enough already to find the solution yourself (try google if you cannot find what you want in the docs).\n",
        "\n",
        "Hint: `cv2.COLOR_BGR2GRAY`"
      ]
    },
    {
      "cell_type": "code",
      "metadata": {
        "id": "JbZvq1Czxgzl"
      },
      "source": [
        "# TODO: Convert first_img (or first_img_small) to grayscale\n",
        "first_img_grayscale = cv2.cvtColor(first_img_small, cv2.COLOR_RGB2GRAY)\n",
        "# cv2_imshow(first_img_grayscale)"
      ],
      "execution_count": 10,
      "outputs": []
    },
    {
      "cell_type": "code",
      "metadata": {
        "id": "_WfFTXC4xr4P"
      },
      "source": [
        "# TODO: Convert first_img_grayscale to binary and adjust the threshold so that the image looks crisp\n",
        "_, first_img_binary = cv2.threshold(first_img_grayscale, 180, 255, cv2.THRESH_BINARY)\n",
        "# cv2_imshow(first_img_binary)"
      ],
      "execution_count": 11,
      "outputs": []
    },
    {
      "cell_type": "markdown",
      "metadata": {
        "id": "9xDv8UMqnxBz"
      },
      "source": [
        "## Detecting markers\n"
      ]
    },
    {
      "cell_type": "markdown",
      "metadata": {
        "id": "6Mz5o3B1SC9p"
      },
      "source": [
        "\n",
        "\n",
        "Now let's try to do something very useful in robotics! Fiducial markers are specially designed shapes, very often squares with binary pixels that encode only the id of the marker. You can think of them as QR codes, but they are not designed as to carry a lot of information like a QR code, but rather have very distinct edge so we can detect its shape and position on the image.\n",
        "\n",
        "![Markers](https://github.com/nomagiclab/lab5_assets/raw/master/alot.png)\n"
      ]
    },
    {
      "cell_type": "markdown",
      "metadata": {
        "id": "T5upwlNg2_Bt"
      },
      "source": [
        "We will take an image and run a function that will detect markers. We will use \"0.png\" first. It is always a good idea to preview an image we are working with."
      ]
    },
    {
      "cell_type": "code",
      "metadata": {
        "id": "7k7VJYxriN4n"
      },
      "source": [
        "# TODO: load an image named \"0.png\"\n",
        "img0 = cv2.imread(\"0.png\")\n",
        "# cv2_imshow(img0)\n"
      ],
      "execution_count": 12,
      "outputs": []
    },
    {
      "cell_type": "markdown",
      "metadata": {
        "id": "mGlVNJ8F37Vx"
      },
      "source": [
        "There is a lot of different tag families. On our images all tags are from the AprilTag 16h5 family. We will create a dictionary object that will be passed to the detector. Detector is just a function called `detectMarkers`. Below you will find a complete call to the detector. Inspect what are return values (or read in the docs!)"
      ]
    },
    {
      "cell_type": "code",
      "metadata": {
        "colab": {
          "base_uri": "https://localhost:8080/"
        },
        "id": "ERcZJ4z8302s",
        "outputId": "d547cbc1-089d-4a30-c8cc-0f836bf015f2"
      },
      "source": [
        "dictionary = cv2.aruco.getPredefinedDictionary(cv2.aruco.DICT_APRILTAG_16h5)\n",
        "corners, ids, _ = cv2.aruco.detectMarkers(img0, dictionary)\n",
        "# TODO: inspect what is returned from detectMarkers\n",
        "print(f'Corners: {corners}, Ids: {ids}')"
      ],
      "execution_count": 13,
      "outputs": [
        {
          "output_type": "stream",
          "name": "stdout",
          "text": [
            "Corners: [array([[[1230.,  460.],\n",
            "        [1109.,  448.],\n",
            "        [1113.,  348.],\n",
            "        [1229.,  359.]]], dtype=float32)], Ids: [[12]]\n"
          ]
        }
      ]
    },
    {
      "cell_type": "markdown",
      "metadata": {
        "id": "nDgbsxMk5l5J"
      },
      "source": [
        "You can see how the output looks like for one marker in the image. We get `corners` and `ids` and every detection has 4 corners and corresponding id. As you can see every corner is a pair of (x, y) coordinates. Notice the nesting of lists, you would probably expect one less level of nesting!\n",
        "\n",
        "First, let's visualize the detections and for now let's use the default function `drawDetectedMarkers`.\n",
        "\n",
        "Head to the docs and find out how to use it!"
      ]
    },
    {
      "cell_type": "code",
      "metadata": {
        "id": "Hl7JFfCM3tQe"
      },
      "source": [
        "# Hint: To not draw over original image we can create a copy\n",
        "img0_draw = img0.copy()\n",
        "\n",
        "# TODO: draw markers detected in previous step on the img0_draw\n",
        "img0_draw = cv2.aruco.drawDetectedMarkers(img0_draw, corners)\n",
        "\n",
        "# cv2_imshow(img0_draw)"
      ],
      "execution_count": 14,
      "outputs": []
    },
    {
      "cell_type": "markdown",
      "metadata": {
        "id": "eWrQYpFk80QB"
      },
      "source": [
        "Notice that one corner of the marker is special. This will be the index corner, so that you can detect marker rotation and will always be first on the list of corners. Now your task is to crop the original image (without detections visualized) to focus on the marker. Crop the marker with some margin around all corners."
      ]
    },
    {
      "cell_type": "code",
      "metadata": {
        "colab": {
          "base_uri": "https://localhost:8080/",
          "height": 183
        },
        "id": "FMgLSlXb9EAl",
        "outputId": "3df8eb82-1b14-4cb6-91e4-6988391d9680"
      },
      "source": [
        "# Hint: below is a list of all x coordinates of our marker's corners\n",
        "xs = [corner[0] for corner in corners[0][0]]\n",
        "ys = [corner[1] for corner in corners[0][0]]\n",
        "print(xs)\n",
        "print(ys)\n",
        "# TODO: produce img0_marker_crop so that only the marker is visible (but with some margin around)\n",
        "\n",
        "crop_tl_x = int(min(xs)) - 10\n",
        "crop_tl_y = int(min(ys)) - 10\n",
        "\n",
        "crop_width = max(xs) - min(xs)\n",
        "crop_height = max(ys) - min(ys)\n",
        "\n",
        "crop_br_x = int(crop_tl_x + crop_width) + 20\n",
        "crop_br_y = int(crop_tl_y + crop_height) + 20\n",
        "\n",
        "img0_marker_crop = img0[crop_tl_y:crop_br_y, crop_tl_x:crop_br_x]\n",
        "cv2_imshow(img0_marker_crop)\n"
      ],
      "execution_count": 15,
      "outputs": [
        {
          "output_type": "stream",
          "name": "stdout",
          "text": [
            "[1230.0, 1109.0, 1113.0, 1229.0]\n",
            "[460.0, 448.0, 348.0, 359.0]\n"
          ]
        },
        {
          "output_type": "display_data",
          "data": {
            "image/png": "[encoded data removed]",
            "text/plain": [
              "<PIL.Image.Image image mode=RGB size=141x132 at 0x7F05A5314910>"
            ]
          },
          "metadata": {}
        }
      ]
    },
    {
      "cell_type": "markdown",
      "metadata": {
        "id": "K_BQnq1zAFgV"
      },
      "source": [
        "## Drawing markers\n"
      ]
    },
    {
      "cell_type": "markdown",
      "metadata": {
        "id": "YCo9LNc8DLcr"
      },
      "source": [
        "\n",
        "Now let's try to write our own `drawMarkers` function! Below is a demo of how to use drawing functions. Write your drawing function that marks sides, corners (different mark for index corner) and displays id."
      ]
    },
    {
      "cell_type": "code",
      "metadata": {
        "colab": {
          "base_uri": "https://localhost:8080/"
        },
        "id": "LvUG-H-OAOcG",
        "outputId": "ccd4ce7f-76b1-4ea4-d840-b1637587289f"
      },
      "source": [
        "# Demo of drawing\n",
        "draw_demo = first_img.copy()\n",
        "\n",
        "RED = (0, 0, 255)\n",
        "PINK = (255, 0, 255)\n",
        "\n",
        "cv2.circle(draw_demo, (100, 200), 30, RED, cv2.FILLED)\n",
        "cv2.line(draw_demo, (250, 250), (800, 100), PINK, 3)\n",
        "cv2.putText(draw_demo, \"(250, 250)\", (250, 250), cv2.FONT_HERSHEY_SIMPLEX, 1, RED, 2)\n",
        "cv2.putText(draw_demo, \"(800, 100)\", (800, 100), cv2.FONT_HERSHEY_SIMPLEX, 1, RED, 2)\n",
        "# cv2_imshow(draw_demo)"
      ],
      "execution_count": 16,
      "outputs": [
        {
          "output_type": "execute_result",
          "data": {
            "text/plain": [
              "array([[[245, 193, 153],\n",
              "        [245, 193, 153],\n",
              "        [245, 193, 153],\n",
              "        ...,\n",
              "        [132, 148, 161],\n",
              "        [122, 135, 149],\n",
              "        [172, 185, 199]],\n",
              "\n",
              "       [[245, 193, 153],\n",
              "        [245, 193, 153],\n",
              "        [245, 193, 153],\n",
              "        ...,\n",
              "        [134, 150, 163],\n",
              "        [112, 125, 139],\n",
              "        [159, 172, 186]],\n",
              "\n",
              "       [[245, 193, 153],\n",
              "        [245, 193, 153],\n",
              "        [245, 193, 153],\n",
              "        ...,\n",
              "        [147, 163, 176],\n",
              "        [102, 115, 129],\n",
              "        [166, 179, 193]],\n",
              "\n",
              "       ...,\n",
              "\n",
              "       [[143, 154, 152],\n",
              "        [137, 148, 146],\n",
              "        [135, 146, 144],\n",
              "        ...,\n",
              "        [221, 236, 239],\n",
              "        [227, 242, 245],\n",
              "        [230, 245, 248]],\n",
              "\n",
              "       [[144, 152, 151],\n",
              "        [137, 145, 144],\n",
              "        [137, 145, 144],\n",
              "        ...,\n",
              "        [195, 207, 211],\n",
              "        [192, 204, 208],\n",
              "        [189, 201, 205]],\n",
              "\n",
              "       [[137, 145, 144],\n",
              "        [129, 137, 136],\n",
              "        [120, 126, 125],\n",
              "        ...,\n",
              "        [173, 185, 189],\n",
              "        [172, 184, 188],\n",
              "        [173, 185, 189]]], dtype=uint8)"
            ]
          },
          "metadata": {},
          "execution_count": 16
        }
      ]
    },
    {
      "cell_type": "code",
      "metadata": {
        "id": "l8IorwCQBrko"
      },
      "source": [
        "# Experiment with colors!\n",
        "GREEN = (0, 255, 0)\n",
        "DARK_GREEN = (0, 127, 0)\n",
        "RED = (0, 0, 255)\n",
        "BLUE = (255, 0, 0)\n",
        "VIOLET = (255, 0, 255)\n",
        "CYAN = (255, 255, 0)\n",
        "YELLOW = (0, 255, 255)\n",
        "ORANGE = (0, 100, 255)\n",
        "BLACK = (0, 0, 0)\n",
        "\n",
        "def drawMarkers(img, corners, ids):\n",
        "  if ids is None:\n",
        "    return\n",
        "  # TODO: use demo above to put points, lines and text on the image\n",
        "  for k in range(len(corners)):\n",
        "    xs = [corner[0] for corner in corners[k][0]]\n",
        "    ys = [corner[1] for corner in corners[k][0]]\n",
        "    for i in range(len(xs)):\n",
        "      if i == len(xs) - 1:\n",
        "        j = 0\n",
        "      else:\n",
        "        j = i + 1\n",
        "      cv2.line(img, (xs[i], ys[i]), (xs[j], ys[j]), PINK, 3)\n",
        "      cv2.circle(img, (xs[i], ys[i]), 5, RED, cv2.FILLED)\n",
        "    cv2.circle(img, (xs[0], ys[0]), 5, YELLOW, cv2.FILLED)\n",
        "    cv2.putText(img, 'id = ' + str(ids[0][0]), (int(xs[0]) + 10, int(ys[0]) + 10), cv2.FONT_HERSHEY_SIMPLEX, 1, ORANGE, 2)\n",
        "\n",
        "\n",
        "\n",
        "img0_draw = img0.copy()\n",
        "drawMarkers(img0_draw, corners, ids)\n",
        "# cv2_imshow(img0_draw)"
      ],
      "execution_count": 17,
      "outputs": []
    },
    {
      "cell_type": "markdown",
      "metadata": {
        "id": "E_XytL56JMZ7"
      },
      "source": [
        "Remember how we called `detectMarkers` on 0.png? Now do the same for images 1-6 (writing a function might be a good idea). Draw results using your drawing function!"
      ]
    },
    {
      "cell_type": "code",
      "metadata": {
        "id": "TQsAxVcmJ_h8"
      },
      "source": [
        "# TODO: detect, draw and show markers on images 1-6.png\n",
        "\n",
        "def detect_draw_show(filename):\n",
        "  img = cv2.imread(filename)\n",
        "  dictionary = cv2.aruco.getPredefinedDictionary(cv2.aruco.DICT_APRILTAG_16h5)\n",
        "  corners, ids, _ = cv2.aruco.detectMarkers(img, dictionary)\n",
        "  img0_draw = img.copy()\n",
        "  drawMarkers(img0_draw, corners, ids)\n",
        "  # cv2_imshow(img0_draw)\n",
        "\n",
        "\n",
        "for i in range(6):\n",
        "  filename = str(i) + '.png'\n",
        "  detect_draw_show(filename)"
      ],
      "execution_count": 18,
      "outputs": []
    },
    {
      "cell_type": "markdown",
      "metadata": {
        "id": "aIQEzWeULRjE"
      },
      "source": [
        "## Extra task\n"
      ]
    },
    {
      "cell_type": "markdown",
      "metadata": {
        "id": "VRRTjOfVSFMG"
      },
      "source": [
        "\n",
        "If you finished early or just want a more challanging task here is one more for you. Let's take 7.png and assume that due to it being high resolution running markers detection on whole image will be very slow. Now assume you somehow know that markers will probably be found in two areas of interest. First area is from (700, 450) to (900, 600) and second area has bottom left (!) corner at (1200, 1000) and has height of 600 and width 300. Crop the areas of interest, run markers detection and then return marker ids with coordinates of their index corners on the original image. Call your drawing function exactly once to visualize detections, you will need combined results in full image coordinates."
      ]
    },
    {
      "cell_type": "code",
      "metadata": {
        "id": "flBMWW0AMB33"
      },
      "source": [
        "img7 = cv2.imread(\"7.png\")\n",
        "\n",
        "\n",
        "# TODO: detect in areas of interest as described above\n",
        "\n",
        "crop_tl_x = 700\n",
        "crop_tl_y = 450\n",
        "crop_br_x = 900\n",
        "crop_br_y = 600\n",
        "\n",
        "img7_1 =  img7[crop_tl_y:crop_br_y, crop_tl_x:crop_br_x]\n",
        "img7_1_draw = img7_1.copy()\n",
        "dictionary = cv2.aruco.getPredefinedDictionary(cv2.aruco.DICT_APRILTAG_16h5)\n",
        "corners, ids, _ = cv2.aruco.detectMarkers(img7_1_draw, dictionary)\n",
        "drawMarkers(img7_1_draw, corners, ids)\n",
        "# cv2_imshow(img7_1_draw)"
      ],
      "execution_count": 19,
      "outputs": []
    },
    {
      "cell_type": "code",
      "metadata": {
        "id": "DrMFRoIq791P"
      },
      "source": [
        "\n",
        "crop_br_x = 1200 + 600\n",
        "crop_br_y = 1000\n",
        "crop_tl_x = crop_br_x - 600\n",
        "crop_tl_y = crop_br_y - 300\n",
        "\n",
        "\n",
        "img7_2 =  img7[crop_tl_y:crop_br_y, crop_tl_x:crop_br_x]\n",
        "img7_2_draw = img7_2.copy()\n",
        "dictionary = cv2.aruco.getPredefinedDictionary(cv2.aruco.DICT_APRILTAG_16h5)\n",
        "corners, ids, _ = cv2.aruco.detectMarkers(img7_2_draw, dictionary)\n",
        "drawMarkers(img7_2_draw, corners, ids)\n",
        "# cv2_imshow(img7_2_draw)"
      ],
      "execution_count": 20,
      "outputs": []
    },
    {
      "cell_type": "markdown",
      "metadata": {
        "id": "w_nGs66nQ_wf"
      },
      "source": [
        "## Solutions\n"
      ]
    },
    {
      "cell_type": "markdown",
      "metadata": {
        "id": "taUCCwLLTdaR"
      },
      "source": [
        "\n",
        "[Here](https://colab.research.google.com/drive/1KAdxcsEMEBFCqNFB1SyxEjdpU71Rkp5b?usp=sharing) you will find this same notebook, but with solutions."
      ]
    }
  ]
}