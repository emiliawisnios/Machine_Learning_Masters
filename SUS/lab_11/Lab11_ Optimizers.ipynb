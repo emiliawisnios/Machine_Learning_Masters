{
  "nbformat": 4,
  "nbformat_minor": 0,
  "metadata": {
    "colab": {
      "provenance": []
    },
    "kernelspec": {
      "name": "python3",
      "display_name": "Python 3"
    },
    "language_info": {
      "name": "python"
    },
    "accelerator": "GPU"
  },
  "cells": [
    {
      "cell_type": "markdown",
      "source": [
        "The main objective of this activity is to provide an initial experience trying different optimization strategies. We'll train a Neural Network to identify the numbers of MNIST dataset. The students will assess the convergence of the network using different optimizers parameters."
      ],
      "metadata": {
        "id": "INRvqwuie3gq"
      }
    },
    {
      "cell_type": "code",
      "execution_count": null,
      "metadata": {
        "id": "kwRVBXo1evaO"
      },
      "outputs": [],
      "source": [
        "import tensorflow as tf\n",
        "import numpy as np\n",
        "import matplotlib.pyplot as plt"
      ]
    },
    {
      "cell_type": "code",
      "source": [
        "(x_train,y_train), (x_test,y_test)= tf.keras.datasets.mnist.load_data()\n",
        "x_train = np.reshape(x_train, (-1, 784))\n",
        "x_test = np.reshape(x_test, (-1, 784))"
      ],
      "metadata": {
        "id": "lttzMAvQfpjY"
      },
      "execution_count": null,
      "outputs": []
    },
    {
      "cell_type": "code",
      "source": [
        "num_classes = 10\n",
        "# Dataset normalization\n",
        "x_train = x_train.astype('float32')\n",
        "x_test = x_test.astype('float32')\n",
        "x_train= x_train/255.\n",
        "x_test = x_test/255.\n",
        "# One-hot encoding\n",
        "y_train_h = np.zeros((np.size(y_train,0) , num_classes))\n",
        "y_test_h = np.zeros((np.size(y_test,0) , num_classes))\n",
        "for i in range(np.size(y_train , 0)):\n",
        "  y_train_h[i , y_train[i]] = 1\n",
        "\n",
        "for i in range(np.size(y_test , 0)):\n",
        "  y_test_h[i , y_test[i]] = 1\n"
      ],
      "metadata": {
        "id": "m1-ctI4Ff0dA"
      },
      "execution_count": null,
      "outputs": []
    },
    {
      "cell_type": "markdown",
      "source": [
        "Model creation"
      ],
      "metadata": {
        "id": "3PhN4p8ygQUW"
      }
    },
    {
      "cell_type": "code",
      "source": [
        "model = tf.keras.models.Sequential()\n",
        "model.add(tf.keras.layers.Dense(256, 'sigmoid'))\n",
        "model.add(tf.keras.layers.Dense(512, 'relu'))\n",
        "model.add(tf.keras.layers.Dense(256, 'relu'))\n",
        "model.add(tf.keras.layers.Dense(10, 'sigmoid'))"
      ],
      "metadata": {
        "id": "ZH7d0fEbgO-B"
      },
      "execution_count": null,
      "outputs": []
    },
    {
      "cell_type": "code",
      "source": [
        "#inputs = tf.keras.Input(shape=(784,))\n",
        "#x = tf.keras.layers.Dense(256, activation=\"relu\")(inputs)\n",
        "#x = tf.keras.layers.Dense(512, activation=\"relu\")(x)\n",
        "#x = tf.keras.layers.Dense(256, activation=\"relu\")(x)\n",
        "#outputs = tf.keras.layers.Dense(10, activation=\"sigmoid\")(x)\n",
        "#model = tf.keras.Model(inputs=inputs, outputs=outputs)"
      ],
      "metadata": {
        "id": "TDqqF0g6EK0U"
      },
      "execution_count": null,
      "outputs": []
    },
    {
      "cell_type": "code",
      "source": [
        "lr = 0.01\n",
        "momentum = 0.01\n",
        "nest = False#True\n",
        "\n",
        "optimizer = tf.keras.optimizers.SGD(learning_rate=lr, momentum=momentum, nesterov = nest)\n",
        "#optimizer = tf.keras.optimizers.Adam(learning_rate=lr)\n",
        "#optimizer = tf.keras.optimizers.RMSprop(learning_rate=lr)\n",
        "#optimizer = tf.keras.optimizers.Adagrad(learning_rate=lr)\n",
        "\n",
        "loss = tf.keras.losses.CategoricalCrossentropy()\n",
        "\n",
        "metrics = [\n",
        "           'accuracy'\n",
        "]\n",
        "\n",
        "batch_size = 128\n",
        "epochs = 50"
      ],
      "metadata": {
        "id": "7QvwscUXg5go"
      },
      "execution_count": null,
      "outputs": []
    },
    {
      "cell_type": "code",
      "source": [
        "model.compile(\n",
        "    optimizer=optimizer,\n",
        "    loss = loss,\n",
        "    metrics = metrics\n",
        ")"
      ],
      "metadata": {
        "id": "nmciRMlRiLPv"
      },
      "execution_count": null,
      "outputs": []
    },
    {
      "cell_type": "code",
      "source": [
        "early_stop = tf.keras.callbacks.EarlyStopping(\n",
        "    monitor=\"val_accuracy\",\n",
        "    patience=10,\n",
        "    verbose=1,\n",
        "    mode='max',\n",
        "    restore_best_weights=True,\n",
        ")\n",
        "callbacks = [early_stop]"
      ],
      "metadata": {
        "id": "FM1rL3iQ3gfE"
      },
      "execution_count": null,
      "outputs": []
    },
    {
      "cell_type": "code",
      "source": [
        "history = model.fit(\n",
        "    x = x_train,\n",
        "    y = y_train_h,\n",
        "    batch_size = batch_size,\n",
        "    epochs = epochs,\n",
        "    validation_split = 0.2,\n",
        "    callbacks = callbacks\n",
        ")"
      ],
      "metadata": {
        "id": "2dMbGT7ii4vu",
        "colab": {
          "base_uri": "https://localhost:8080/"
        },
        "outputId": "c444da03-7959-47f2-fe7c-7750b2d633fa"
      },
      "execution_count": null,
      "outputs": [
        {
          "output_type": "stream",
          "name": "stdout",
          "text": [
            "Epoch 1/50\n",
            "375/375 [==============================] - 2s 5ms/step - loss: 2.0865 - accuracy: 0.4534 - val_loss: 1.8097 - val_accuracy: 0.6516\n",
            "Epoch 2/50\n",
            "375/375 [==============================] - 2s 5ms/step - loss: 1.4211 - accuracy: 0.7093 - val_loss: 1.0224 - val_accuracy: 0.7766\n",
            "Epoch 3/50\n",
            "375/375 [==============================] - 2s 5ms/step - loss: 0.8461 - accuracy: 0.8038 - val_loss: 0.6679 - val_accuracy: 0.8371\n",
            "Epoch 4/50\n",
            "375/375 [==============================] - 2s 5ms/step - loss: 0.6184 - accuracy: 0.8395 - val_loss: 0.5220 - val_accuracy: 0.8654\n",
            "Epoch 5/50\n",
            "375/375 [==============================] - 2s 5ms/step - loss: 0.5141 - accuracy: 0.8611 - val_loss: 0.4505 - val_accuracy: 0.8781\n",
            "Epoch 6/50\n",
            "375/375 [==============================] - 2s 5ms/step - loss: 0.4566 - accuracy: 0.8731 - val_loss: 0.4116 - val_accuracy: 0.8827\n",
            "Epoch 7/50\n",
            "375/375 [==============================] - 2s 5ms/step - loss: 0.4202 - accuracy: 0.8817 - val_loss: 0.3815 - val_accuracy: 0.8914\n",
            "Epoch 8/50\n",
            "375/375 [==============================] - 2s 5ms/step - loss: 0.3959 - accuracy: 0.8873 - val_loss: 0.3707 - val_accuracy: 0.8887\n",
            "Epoch 9/50\n",
            "375/375 [==============================] - 2s 5ms/step - loss: 0.3777 - accuracy: 0.8915 - val_loss: 0.3486 - val_accuracy: 0.8971\n",
            "Epoch 10/50\n",
            "375/375 [==============================] - 2s 5ms/step - loss: 0.3642 - accuracy: 0.8954 - val_loss: 0.3371 - val_accuracy: 0.9023\n",
            "Epoch 11/50\n",
            "375/375 [==============================] - 2s 5ms/step - loss: 0.3522 - accuracy: 0.8988 - val_loss: 0.3280 - val_accuracy: 0.9047\n",
            "Epoch 12/50\n",
            "375/375 [==============================] - 2s 5ms/step - loss: 0.3427 - accuracy: 0.9007 - val_loss: 0.3182 - val_accuracy: 0.9073\n",
            "Epoch 13/50\n",
            "375/375 [==============================] - 2s 5ms/step - loss: 0.3343 - accuracy: 0.9030 - val_loss: 0.3129 - val_accuracy: 0.9095\n",
            "Epoch 14/50\n",
            "375/375 [==============================] - 2s 5ms/step - loss: 0.3270 - accuracy: 0.9054 - val_loss: 0.3056 - val_accuracy: 0.9114\n",
            "Epoch 15/50\n",
            "375/375 [==============================] - 2s 5ms/step - loss: 0.3200 - accuracy: 0.9070 - val_loss: 0.3025 - val_accuracy: 0.9135\n",
            "Epoch 16/50\n",
            "375/375 [==============================] - 2s 5ms/step - loss: 0.3142 - accuracy: 0.9092 - val_loss: 0.2961 - val_accuracy: 0.9133\n",
            "Epoch 17/50\n",
            "375/375 [==============================] - 2s 5ms/step - loss: 0.3086 - accuracy: 0.9103 - val_loss: 0.2880 - val_accuracy: 0.9180\n",
            "Epoch 18/50\n",
            "375/375 [==============================] - 2s 5ms/step - loss: 0.3037 - accuracy: 0.9122 - val_loss: 0.2850 - val_accuracy: 0.9187\n",
            "Epoch 19/50\n",
            "375/375 [==============================] - 2s 5ms/step - loss: 0.2988 - accuracy: 0.9135 - val_loss: 0.2851 - val_accuracy: 0.9177\n",
            "Epoch 20/50\n",
            "375/375 [==============================] - 2s 5ms/step - loss: 0.2943 - accuracy: 0.9143 - val_loss: 0.2798 - val_accuracy: 0.9202\n",
            "Epoch 21/50\n",
            "375/375 [==============================] - 2s 5ms/step - loss: 0.2908 - accuracy: 0.9147 - val_loss: 0.2757 - val_accuracy: 0.9222\n",
            "Epoch 22/50\n",
            "375/375 [==============================] - 2s 5ms/step - loss: 0.2865 - accuracy: 0.9168 - val_loss: 0.2763 - val_accuracy: 0.9206\n",
            "Epoch 23/50\n",
            "375/375 [==============================] - 2s 5ms/step - loss: 0.2827 - accuracy: 0.9181 - val_loss: 0.2701 - val_accuracy: 0.9222\n",
            "Epoch 24/50\n",
            "375/375 [==============================] - 2s 5ms/step - loss: 0.2794 - accuracy: 0.9184 - val_loss: 0.2670 - val_accuracy: 0.9232\n",
            "Epoch 25/50\n",
            "375/375 [==============================] - 2s 5ms/step - loss: 0.2763 - accuracy: 0.9195 - val_loss: 0.2627 - val_accuracy: 0.9252\n",
            "Epoch 26/50\n",
            "375/375 [==============================] - 2s 5ms/step - loss: 0.2727 - accuracy: 0.9199 - val_loss: 0.2592 - val_accuracy: 0.9249\n",
            "Epoch 27/50\n",
            "375/375 [==============================] - 2s 5ms/step - loss: 0.2703 - accuracy: 0.9208 - val_loss: 0.2583 - val_accuracy: 0.9255\n",
            "Epoch 28/50\n",
            "375/375 [==============================] - 2s 5ms/step - loss: 0.2671 - accuracy: 0.9218 - val_loss: 0.2561 - val_accuracy: 0.9257\n",
            "Epoch 29/50\n",
            "375/375 [==============================] - 2s 5ms/step - loss: 0.2645 - accuracy: 0.9229 - val_loss: 0.2553 - val_accuracy: 0.9252\n",
            "Epoch 30/50\n",
            "375/375 [==============================] - 2s 5ms/step - loss: 0.2611 - accuracy: 0.9238 - val_loss: 0.2532 - val_accuracy: 0.9277\n",
            "Epoch 31/50\n",
            "375/375 [==============================] - 2s 5ms/step - loss: 0.2586 - accuracy: 0.9253 - val_loss: 0.2494 - val_accuracy: 0.9284\n",
            "Epoch 32/50\n",
            "375/375 [==============================] - 2s 5ms/step - loss: 0.2560 - accuracy: 0.9252 - val_loss: 0.2478 - val_accuracy: 0.9288\n",
            "Epoch 33/50\n",
            "375/375 [==============================] - 2s 5ms/step - loss: 0.2531 - accuracy: 0.9261 - val_loss: 0.2430 - val_accuracy: 0.9296\n",
            "Epoch 34/50\n",
            "375/375 [==============================] - 2s 5ms/step - loss: 0.2506 - accuracy: 0.9267 - val_loss: 0.2429 - val_accuracy: 0.9316\n",
            "Epoch 35/50\n",
            "375/375 [==============================] - 2s 5ms/step - loss: 0.2479 - accuracy: 0.9279 - val_loss: 0.2392 - val_accuracy: 0.9314\n",
            "Epoch 36/50\n",
            "375/375 [==============================] - 2s 5ms/step - loss: 0.2454 - accuracy: 0.9282 - val_loss: 0.2379 - val_accuracy: 0.9327\n",
            "Epoch 37/50\n",
            "375/375 [==============================] - 2s 5ms/step - loss: 0.2429 - accuracy: 0.9286 - val_loss: 0.2359 - val_accuracy: 0.9319\n",
            "Epoch 38/50\n",
            "375/375 [==============================] - 2s 5ms/step - loss: 0.2404 - accuracy: 0.9296 - val_loss: 0.2349 - val_accuracy: 0.9312\n",
            "Epoch 39/50\n",
            "375/375 [==============================] - 2s 5ms/step - loss: 0.2381 - accuracy: 0.9313 - val_loss: 0.2308 - val_accuracy: 0.9346\n",
            "Epoch 40/50\n",
            "375/375 [==============================] - 2s 5ms/step - loss: 0.2356 - accuracy: 0.9314 - val_loss: 0.2296 - val_accuracy: 0.9333\n",
            "Epoch 41/50\n",
            "375/375 [==============================] - 2s 5ms/step - loss: 0.2330 - accuracy: 0.9320 - val_loss: 0.2289 - val_accuracy: 0.9342\n",
            "Epoch 42/50\n",
            "375/375 [==============================] - 2s 5ms/step - loss: 0.2311 - accuracy: 0.9331 - val_loss: 0.2262 - val_accuracy: 0.9356\n",
            "Epoch 43/50\n",
            "375/375 [==============================] - 2s 5ms/step - loss: 0.2284 - accuracy: 0.9334 - val_loss: 0.2237 - val_accuracy: 0.9375\n",
            "Epoch 44/50\n",
            "375/375 [==============================] - 2s 5ms/step - loss: 0.2263 - accuracy: 0.9337 - val_loss: 0.2230 - val_accuracy: 0.9377\n",
            "Epoch 45/50\n",
            "375/375 [==============================] - 2s 5ms/step - loss: 0.2239 - accuracy: 0.9340 - val_loss: 0.2204 - val_accuracy: 0.9374\n",
            "Epoch 46/50\n",
            "375/375 [==============================] - 2s 5ms/step - loss: 0.2219 - accuracy: 0.9348 - val_loss: 0.2168 - val_accuracy: 0.9389\n",
            "Epoch 47/50\n",
            "375/375 [==============================] - 2s 5ms/step - loss: 0.2196 - accuracy: 0.9359 - val_loss: 0.2174 - val_accuracy: 0.9380\n",
            "Epoch 48/50\n",
            "375/375 [==============================] - 2s 5ms/step - loss: 0.2174 - accuracy: 0.9366 - val_loss: 0.2193 - val_accuracy: 0.9370\n",
            "Epoch 49/50\n",
            "375/375 [==============================] - 2s 5ms/step - loss: 0.2153 - accuracy: 0.9366 - val_loss: 0.2140 - val_accuracy: 0.9400\n",
            "Epoch 50/50\n",
            "375/375 [==============================] - 2s 5ms/step - loss: 0.2129 - accuracy: 0.9376 - val_loss: 0.2106 - val_accuracy: 0.9402\n"
          ]
        }
      ]
    },
    {
      "cell_type": "code",
      "source": [
        "model.evaluate(\n",
        "    x = x_test,\n",
        "    y = y_test_h\n",
        ")"
      ],
      "metadata": {
        "id": "NJR6i9Mwms6E",
        "colab": {
          "base_uri": "https://localhost:8080/"
        },
        "outputId": "dc655fa7-ce3c-4893-a9a5-ac7448ecba85"
      },
      "execution_count": null,
      "outputs": [
        {
          "output_type": "stream",
          "name": "stdout",
          "text": [
            "313/313 [==============================] - 1s 3ms/step - loss: 0.1584 - accuracy: 0.9712\n"
          ]
        },
        {
          "output_type": "execute_result",
          "data": {
            "text/plain": [
              "[0.15842440724372864, 0.9711999893188477]"
            ]
          },
          "metadata": {},
          "execution_count": 32
        }
      ]
    },
    {
      "cell_type": "code",
      "source": [
        "plt.plot(history.history['accuracy'])\n",
        "plt.plot(history.history['val_accuracy'])\n",
        "plt.title('Model Accuracy')\n",
        "plt.ylabel('accuracy')\n",
        "plt.xlabel('epoch')\n",
        "plt.legend(['train', 'validation'], loc='lower right')\n",
        "plt.show()"
      ],
      "metadata": {
        "id": "j6lzj7vZkofW",
        "colab": {
          "base_uri": "https://localhost:8080/",
          "height": 295
        },
        "outputId": "a923db5c-b005-4294-e01f-137d80972d66"
      },
      "execution_count": null,
      "outputs": [
        {
          "output_type": "display_data",
          "data": {
            "text/plain": [
              "<Figure size 432x288 with 1 Axes>"
            ],
            "image/png": "[encoded data removed]"
          },
          "metadata": {
            "needs_background": "light"
          }
        }
      ]
    },
    {
      "cell_type": "code",
      "source": [
        "plt.plot(history.history['loss'])\n",
        "plt.plot(history.history['val_loss'])\n",
        "plt.title('model loss')\n",
        "plt.ylabel('loss')\n",
        "plt.xlabel('epoch')\n",
        "plt.legend(['train', 'validation'], loc='upper right')\n",
        "plt.show()"
      ],
      "metadata": {
        "id": "V8g4mDtlmakb",
        "colab": {
          "base_uri": "https://localhost:8080/",
          "height": 295
        },
        "outputId": "afdafe11-7549-49e2-e7e0-6ffd5d01e332"
      },
      "execution_count": null,
      "outputs": [
        {
          "output_type": "display_data",
          "data": {
            "text/plain": [
              "<Figure size 432x288 with 1 Axes>"
            ],
            "image/png": "[encoded data removed]"
          },
          "metadata": {
            "needs_background": "light"
          }
        }
      ]
    },
    {
      "cell_type": "markdown",
      "source": [
        "## Exercise:\n",
        "\n",
        "Try other training parameters, following this table.\n",
        "\n",
        "---\n",
        "\n",
        "Student | Optimizer | Learning Rate\n",
        "--------|------------|---------\n",
        "Student 1            |SGD                | 0.01\n",
        "Student 2    |SGD+Momentum       | 0.01\n",
        "Student 3             |Nesterov Momentum  | 0.01\n",
        "Student 4       |Adagrad            | 0.01\n",
        "Student 5                        |RMSProp            | 0.01\n",
        "Student 6               |Adam               | 0.01\n",
        "Student 7                           |Adam               | 0.0001\n",
        "Student 8             |Adam               | 0.1\n",
        "\n",
        "---\n",
        "\n",
        "Register your results in [here](https://docs.google.com/spreadsheets/d/1KjptUtmX8cSWZi7Z27zxCMs7TjZfhwAXCFiCXPNFMAk/edit?usp=sharing)."
      ],
      "metadata": {
        "id": "8WF3l0R1xbl7"
      }
    },
    {
      "cell_type": "code",
      "source": [],
      "metadata": {
        "id": "rf8mUeSSxg3r"
      },
      "execution_count": null,
      "outputs": []
    }
  ]
}