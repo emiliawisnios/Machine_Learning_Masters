{
  "nbformat": 4,
  "nbformat_minor": 0,
  "metadata": {
    "kernelspec": {
      "display_name": "Python 3",
      "language": "python",
      "name": "python3"
    },
    "language_info": {
      "codemirror_mode": {
        "name": "ipython",
        "version": 3
      },
      "file_extension": ".py",
      "mimetype": "text/x-python",
      "name": "python",
      "nbconvert_exporter": "python",
      "pygments_lexer": "ipython3",
      "version": "3.7.0"
    },
    "colab": {
      "provenance": []
    }
  },
  "cells": [
    {
      "cell_type": "code",
      "metadata": {
        "id": "bhhSAJ6-kKIJ",
        "colab": {
          "base_uri": "https://localhost:8080/"
        },
        "outputId": "ab466fc1-1ce3-45fc-f642-a6f6aecfb56b"
      },
      "source": [
        "# Python program to demonstrate\n",
        "# KNN classification algorithm\n",
        "# on IRIS dataset\n",
        "\n",
        "from sklearn.datasets import load_iris\n",
        "from sklearn.datasets import load_wine\n",
        "\n",
        "import numpy as np\n",
        "import pandas as pd\n",
        "from sklearn.model_selection import train_test_split\n",
        "\n",
        "iris_dataset=load_iris()\n",
        "wine_dataset=load_wine()\n",
        "\n",
        "def sklearn_to_df(sklearn_dataset):\n",
        "    df = pd.DataFrame(sklearn_dataset.data, columns=sklearn_dataset.feature_names)\n",
        "    df['target'] = pd.Series(sklearn_dataset.target)\n",
        "    return df\n",
        "\n",
        "df_iris = sklearn_to_df(iris_dataset)\n",
        "pd.set_option('display.max_rows', 20)\n",
        "pd.set_option('display.max_columns', df_iris.shape[1]+1)\n",
        "\n",
        "print(df_iris.iloc[0:150])\n",
        "\n"
      ],
      "execution_count": 1,
      "outputs": [
        {
          "output_type": "stream",
          "name": "stdout",
          "text": [
            "     sepal length (cm)  sepal width (cm)  petal length (cm)  petal width (cm)  \\\n",
            "0                  5.1               3.5                1.4               0.2   \n",
            "1                  4.9               3.0                1.4               0.2   \n",
            "2                  4.7               3.2                1.3               0.2   \n",
            "3                  4.6               3.1                1.5               0.2   \n",
            "4                  5.0               3.6                1.4               0.2   \n",
            "..                 ...               ...                ...               ...   \n",
            "145                6.7               3.0                5.2               2.3   \n",
            "146                6.3               2.5                5.0               1.9   \n",
            "147                6.5               3.0                5.2               2.0   \n",
            "148                6.2               3.4                5.4               2.3   \n",
            "149                5.9               3.0                5.1               1.8   \n",
            "\n",
            "     target  \n",
            "0         0  \n",
            "1         0  \n",
            "2         0  \n",
            "3         0  \n",
            "4         0  \n",
            "..      ...  \n",
            "145       2  \n",
            "146       2  \n",
            "147       2  \n",
            "148       2  \n",
            "149       2  \n",
            "\n",
            "[150 rows x 5 columns]\n"
          ]
        }
      ]
    },
    {
      "cell_type": "code",
      "metadata": {
        "id": "BVtEJHVxr2Pi",
        "colab": {
          "base_uri": "https://localhost:8080/"
        },
        "outputId": "e31a38ae-155b-49d3-834c-43e361d719d3"
      },
      "source": [
        "wine_dataset.feature_names"
      ],
      "execution_count": 2,
      "outputs": [
        {
          "output_type": "execute_result",
          "data": {
            "text/plain": [
              "['alcohol',\n",
              " 'malic_acid',\n",
              " 'ash',\n",
              " 'alcalinity_of_ash',\n",
              " 'magnesium',\n",
              " 'total_phenols',\n",
              " 'flavanoids',\n",
              " 'nonflavanoid_phenols',\n",
              " 'proanthocyanins',\n",
              " 'color_intensity',\n",
              " 'hue',\n",
              " 'od280/od315_of_diluted_wines',\n",
              " 'proline']"
            ]
          },
          "metadata": {},
          "execution_count": 2
        }
      ]
    },
    {
      "cell_type": "code",
      "metadata": {
        "id": "tVMVCldxsGHr",
        "colab": {
          "base_uri": "https://localhost:8080/"
        },
        "outputId": "6f37968d-177a-45d0-db1a-f174cb27bcf4"
      },
      "source": [
        "iris_dataset.target\n"
      ],
      "execution_count": 3,
      "outputs": [
        {
          "output_type": "execute_result",
          "data": {
            "text/plain": [
              "array([0, 0, 0, 0, 0, 0, 0, 0, 0, 0, 0, 0, 0, 0, 0, 0, 0, 0, 0, 0, 0, 0,\n",
              "       0, 0, 0, 0, 0, 0, 0, 0, 0, 0, 0, 0, 0, 0, 0, 0, 0, 0, 0, 0, 0, 0,\n",
              "       0, 0, 0, 0, 0, 0, 1, 1, 1, 1, 1, 1, 1, 1, 1, 1, 1, 1, 1, 1, 1, 1,\n",
              "       1, 1, 1, 1, 1, 1, 1, 1, 1, 1, 1, 1, 1, 1, 1, 1, 1, 1, 1, 1, 1, 1,\n",
              "       1, 1, 1, 1, 1, 1, 1, 1, 1, 1, 1, 1, 2, 2, 2, 2, 2, 2, 2, 2, 2, 2,\n",
              "       2, 2, 2, 2, 2, 2, 2, 2, 2, 2, 2, 2, 2, 2, 2, 2, 2, 2, 2, 2, 2, 2,\n",
              "       2, 2, 2, 2, 2, 2, 2, 2, 2, 2, 2, 2, 2, 2, 2, 2, 2, 2])"
            ]
          },
          "metadata": {},
          "execution_count": 3
        }
      ]
    },
    {
      "cell_type": "code",
      "metadata": {
        "id": "JPe2_TW0sLe6",
        "colab": {
          "base_uri": "https://localhost:8080/"
        },
        "outputId": "5b18c35a-87dd-4491-c853-51d6c65beab3"
      },
      "source": [
        "iris_dataset.target_names"
      ],
      "execution_count": 4,
      "outputs": [
        {
          "output_type": "execute_result",
          "data": {
            "text/plain": [
              "array(['setosa', 'versicolor', 'virginica'], dtype='<U10')"
            ]
          },
          "metadata": {},
          "execution_count": 4
        }
      ]
    },
    {
      "cell_type": "code",
      "metadata": {
        "id": "xt5FIZc-DshE",
        "colab": {
          "base_uri": "https://localhost:8080/",
          "height": 640
        },
        "outputId": "88a9e221-2383-4b90-e318-ddcb58d31aca"
      },
      "source": [
        "import matplotlib.pyplot as plt\n",
        "from mpl_toolkits.mplot3d import Axes3D\n",
        "from sklearn.decomposition import PCA\n",
        "\n",
        "X = iris_dataset.data\n",
        "y = iris_dataset.target\n",
        "x_min, x_max = X[:, 0].min() - .5, X[:, 0].max() + .5\n",
        "y_min, y_max = X[:, 1].min() - .5, X[:, 1].max() + .5\n",
        "\n",
        "plt.figure(2, figsize=(8, 6))\n",
        "plt.clf()\n",
        "\n",
        "# Plot the training points\n",
        "plt.scatter(X[:, 0], X[:, 1], c=y, cmap=plt.cm.Set1,\n",
        "            edgecolor='k')\n",
        "plt.xlabel('Sepal length')\n",
        "plt.ylabel('Sepal width')\n",
        "\n",
        "plt.xlim(x_min, x_max)\n",
        "plt.ylim(y_min, y_max)\n",
        "plt.xticks(())\n",
        "plt.yticks(())\n",
        "\n",
        "# To getter a better understanding of interaction of the dimensions\n",
        "# plot the first three PCA dimensions\n",
        "fig = plt.figure(1, figsize=(8, 6))\n",
        "ax = Axes3D(fig, elev=-150, azim=110)\n",
        "X_reduced = PCA(n_components=3).fit_transform(X)\n",
        "ax.scatter(X_reduced[:, 0], X_reduced[:, 1], X_reduced[:, 2], c=y,\n",
        "           cmap=plt.cm.Set1, edgecolor='k', s=40)\n",
        "ax.set_title(\"First three PCA directions\")\n",
        "ax.set_xlabel(\"1st eigenvector\")\n",
        "ax.w_xaxis.set_ticklabels([])\n",
        "ax.set_ylabel(\"2nd eigenvector\")\n",
        "ax.w_yaxis.set_ticklabels([])\n",
        "ax.set_zlabel(\"3rd eigenvector\")\n",
        "ax.w_zaxis.set_ticklabels([])\n",
        "\n",
        "plt.show()"
      ],
      "execution_count": 5,
      "outputs": [
        {
          "output_type": "stream",
          "name": "stderr",
          "text": [
            "<ipython-input-5-4f9de9a113ac>:33: MatplotlibDeprecationWarning: The w_xaxis attribute was deprecated in Matplotlib 3.1 and will be removed in 3.8. Use xaxis instead.\n",
            "  ax.w_xaxis.set_ticklabels([])\n",
            "<ipython-input-5-4f9de9a113ac>:35: MatplotlibDeprecationWarning: The w_yaxis attribute was deprecated in Matplotlib 3.1 and will be removed in 3.8. Use yaxis instead.\n",
            "  ax.w_yaxis.set_ticklabels([])\n",
            "<ipython-input-5-4f9de9a113ac>:37: MatplotlibDeprecationWarning: The w_zaxis attribute was deprecated in Matplotlib 3.1 and will be removed in 3.8. Use zaxis instead.\n",
            "  ax.w_zaxis.set_ticklabels([])\n"
          ]
        },
        {
          "output_type": "display_data",
          "data": {
            "text/plain": [
              "<Figure size 800x600 with 1 Axes>"
            ],
            "image/png": "[encoded data removed]"
          },
          "metadata": {}
        },
        {
          "output_type": "display_data",
          "data": {
            "text/plain": [
              "<Figure size 800x600 with 0 Axes>"
            ]
          },
          "metadata": {}
        }
      ]
    },
    {
      "cell_type": "code",
      "metadata": {
        "id": "d1DFPZo793de",
        "colab": {
          "base_uri": "https://localhost:8080/"
        },
        "outputId": "c69bf8ab-8047-4361-882e-91128edad9b8"
      },
      "source": [
        "X_train, X_test, y_train, y_test = train_test_split(iris_dataset[\"data\"],\n",
        "      iris_dataset[\"target\"], train_size=0.6, random_state=49)\n",
        "\n",
        "X_train.shape"
      ],
      "execution_count": 6,
      "outputs": [
        {
          "output_type": "execute_result",
          "data": {
            "text/plain": [
              "(90, 4)"
            ]
          },
          "metadata": {},
          "execution_count": 6
        }
      ]
    },
    {
      "cell_type": "code",
      "metadata": {
        "id": "UBqOKJ63829H",
        "colab": {
          "base_uri": "https://localhost:8080/"
        },
        "outputId": "cdbc5c8b-a5b3-4ee6-d27d-dd3f29c4e3fa"
      },
      "source": [
        "from sklearn.neighbors import KNeighborsClassifier\n",
        "kn = KNeighborsClassifier(n_neighbors=5)\n",
        "kn.fit(X_train, y_train)\n",
        "\n",
        "x_new = np.array([[6.2, 3.4, 5.4, 2.3]])\n",
        "prediction = kn.predict(x_new)\n",
        "\n",
        "print(\"Predicted target value: {}\\n\".format(prediction))\n",
        "print(\"Predicted feature name: {}\\n\".format\n",
        "    (iris_dataset[\"target_names\"][prediction]))\n",
        "print(\"Test score: {:.2f}\".format(kn.score(X_test, y_test)))"
      ],
      "execution_count": 7,
      "outputs": [
        {
          "output_type": "stream",
          "name": "stdout",
          "text": [
            "Predicted target value: [2]\n",
            "\n",
            "Predicted feature name: ['virginica']\n",
            "\n",
            "Test score: 0.95\n"
          ]
        }
      ]
    },
    {
      "cell_type": "code",
      "metadata": {
        "id": "I7T2bptQkKIT",
        "colab": {
          "base_uri": "https://localhost:8080/"
        },
        "outputId": "8a62309d-997a-46b8-9612-0126b6fd24c3"
      },
      "source": [
        "from sklearn.metrics import confusion_matrix\n",
        "\n",
        "y_pred = kn.predict ( X_test )\n",
        "confusion_matrix ( y_test , y_pred )\n",
        "\n"
      ],
      "execution_count": 8,
      "outputs": [
        {
          "output_type": "execute_result",
          "data": {
            "text/plain": [
              "array([[17,  0,  0],\n",
              "       [ 0, 16,  1],\n",
              "       [ 0,  2, 24]])"
            ]
          },
          "metadata": {},
          "execution_count": 8
        }
      ]
    },
    {
      "cell_type": "code",
      "metadata": {
        "id": "mUCpaJbhkKIR",
        "colab": {
          "base_uri": "https://localhost:8080/"
        },
        "outputId": "919d1892-d1f5-4c6d-f15b-e5bf655457cd"
      },
      "source": [
        "from sklearn.tree import DecisionTreeClassifier\n",
        "\n",
        "tree_clf = DecisionTreeClassifier (criterion='gini',max_depth =4)\n",
        "tree_clf.fit(X_train, y_train)\n",
        "\n",
        "prediction = tree_clf.predict(x_new)\n",
        "print(\"Predicted feature name: {}\\n\".format\n",
        "    (iris_dataset[\"target_names\"][prediction]))\n",
        "\n",
        "print(\"Test score: {:.2f}\".format(tree_clf.score(X_test, y_test)))"
      ],
      "execution_count": 9,
      "outputs": [
        {
          "output_type": "stream",
          "name": "stdout",
          "text": [
            "Predicted feature name: ['virginica']\n",
            "\n",
            "Test score: 0.90\n"
          ]
        }
      ]
    },
    {
      "cell_type": "code",
      "metadata": {
        "id": "K6_n49a-kKIW",
        "colab": {
          "base_uri": "https://localhost:8080/"
        },
        "outputId": "5e9a4d52-d390-40a2-e173-83a9784bc95a"
      },
      "source": [
        "y_pred = tree_clf.predict ( X_test )\n",
        "confusion_matrix ( y_test , y_pred )"
      ],
      "execution_count": 10,
      "outputs": [
        {
          "output_type": "execute_result",
          "data": {
            "text/plain": [
              "array([[17,  0,  0],\n",
              "       [ 0, 16,  1],\n",
              "       [ 0,  5, 21]])"
            ]
          },
          "metadata": {},
          "execution_count": 10
        }
      ]
    },
    {
      "cell_type": "code",
      "metadata": {
        "id": "bn62RIGgkKIZ",
        "colab": {
          "base_uri": "https://localhost:8080/"
        },
        "outputId": "d28b4b68-07c6-4b5f-e76c-f02e083f09f1"
      },
      "source": [
        "print(y_test)\n",
        "print(y_pred)"
      ],
      "execution_count": 11,
      "outputs": [
        {
          "output_type": "stream",
          "name": "stdout",
          "text": [
            "[1 2 1 2 2 0 2 2 2 2 0 1 0 1 1 2 1 2 2 0 0 1 0 2 0 1 1 1 0 2 0 0 1 0 1 2 0\n",
            " 2 2 2 0 0 2 1 2 1 2 0 2 2 2 2 1 2 1 0 1 2 2 0]\n",
            "[1 2 1 2 2 0 2 2 2 2 0 1 0 1 1 1 1 2 2 0 0 1 0 2 0 1 1 2 0 1 0 0 1 0 1 2 0\n",
            " 2 2 1 0 0 2 1 2 1 2 0 2 2 2 2 1 1 1 0 1 2 1 0]\n"
          ]
        }
      ]
    },
    {
      "cell_type": "code",
      "metadata": {
        "id": "8ktuDGCkkKIc",
        "colab": {
          "base_uri": "https://localhost:8080/",
          "height": 757
        },
        "outputId": "864d1c0e-0119-4008-a38a-c5e3818a07f5"
      },
      "source": [
        "#from sklearn.externals.six import StringIO\n",
        "#from IPython.display import Image\n",
        "#from sklearn.tree import export_graphviz\n",
        "#import pydotplus\n",
        "\n",
        "from sklearn.tree import export_graphviz\n",
        "from sklearn import tree\n",
        "from IPython.display import SVG\n",
        "from graphviz import Source\n",
        "from IPython.display import display\n",
        "labels = iris_dataset.feature_names\n",
        "\n",
        "graph = Source(tree.export_graphviz(tree_clf, out_file=None\n",
        "   , feature_names=labels, class_names=iris_dataset.target_names\n",
        "   , filled = True))\n",
        "display(SVG(graph.pipe(format='svg')))"
      ],
      "execution_count": 12,
      "outputs": [
        {
          "output_type": "display_data",
          "data": {
            "text/plain": [
              "<IPython.core.display.SVG object>"
            ],
            "image/svg+xml": "<svg xmlns=\"http://www.w3.org/2000/svg\" xmlns:xlink=\"http://www.w3.org/1999/xlink\" width=\"367pt\" height=\"552pt\" viewBox=\"0.00 0.00 367.00 552.00\">\n<g id=\"graph0\" class=\"graph\" transform=\"scale(1 1) rotate(0) translate(4 548)\">\n<title>Tree</title>\n<polygon fill=\"white\" stroke=\"transparent\" points=\"-4,4 -4,-548 363,-548 363,4 -4,4\"/>\n<!-- 0 -->\n<g id=\"node1\" class=\"node\">\n<title>0</title>\n<polygon fill=\"#ffffff\" stroke=\"black\" points=\"218,-544 63,-544 63,-461 218,-461 218,-544\"/>\n<text text-anchor=\"middle\" x=\"140.5\" y=\"-528.8\" font-family=\"Helvetica,sans-Serif\" font-size=\"14.00\">petal width (cm) &lt;= 0.8</text>\n<text text-anchor=\"middle\" x=\"140.5\" y=\"-513.8\" font-family=\"Helvetica,sans-Serif\" font-size=\"14.00\">gini = 0.66</text>\n<text text-anchor=\"middle\" x=\"140.5\" y=\"-498.8\" font-family=\"Helvetica,sans-Serif\" font-size=\"14.00\">samples = 90</text>\n<text text-anchor=\"middle\" x=\"140.5\" y=\"-483.8\" font-family=\"Helvetica,sans-Serif\" font-size=\"14.00\">value = [33, 33, 24]</text>\n<text text-anchor=\"middle\" x=\"140.5\" y=\"-468.8\" font-family=\"Helvetica,sans-Serif\" font-size=\"14.00\">class = setosa</text>\n</g>\n<!-- 1 -->\n<g id=\"node2\" class=\"node\">\n<title>1</title>\n<polygon fill=\"#e58139\" stroke=\"black\" points=\"119,-417.5 2,-417.5 2,-349.5 119,-349.5 119,-417.5\"/>\n<text text-anchor=\"middle\" x=\"60.5\" y=\"-402.3\" font-family=\"Helvetica,sans-Serif\" font-size=\"14.00\">gini = 0.0</text>\n<text text-anchor=\"middle\" x=\"60.5\" y=\"-387.3\" font-family=\"Helvetica,sans-Serif\" font-size=\"14.00\">samples = 33</text>\n<text text-anchor=\"middle\" x=\"60.5\" y=\"-372.3\" font-family=\"Helvetica,sans-Serif\" font-size=\"14.00\">value = [33, 0, 0]</text>\n<text text-anchor=\"middle\" x=\"60.5\" y=\"-357.3\" font-family=\"Helvetica,sans-Serif\" font-size=\"14.00\">class = setosa</text>\n</g>\n<!-- 0&#45;&gt;1 -->\n<g id=\"edge1\" class=\"edge\">\n<title>0-&gt;1</title>\n<path fill=\"none\" stroke=\"black\" d=\"M112.74,-460.91C105.05,-449.65 96.68,-437.42 88.95,-426.11\"/>\n<polygon fill=\"black\" stroke=\"black\" points=\"91.71,-423.95 83.18,-417.67 85.93,-427.9 91.71,-423.95\"/>\n<text text-anchor=\"middle\" x=\"78.56\" y=\"-438.54\" font-family=\"Helvetica,sans-Serif\" font-size=\"14.00\">True</text>\n</g>\n<!-- 2 -->\n<g id=\"node3\" class=\"node\">\n<title>2</title>\n<polygon fill=\"#c9f8dd\" stroke=\"black\" points=\"305.5,-425 137.5,-425 137.5,-342 305.5,-342 305.5,-425\"/>\n<text text-anchor=\"middle\" x=\"221.5\" y=\"-409.8\" font-family=\"Helvetica,sans-Serif\" font-size=\"14.00\">petal length (cm) &lt;= 5.05</text>\n<text text-anchor=\"middle\" x=\"221.5\" y=\"-394.8\" font-family=\"Helvetica,sans-Serif\" font-size=\"14.00\">gini = 0.488</text>\n<text text-anchor=\"middle\" x=\"221.5\" y=\"-379.8\" font-family=\"Helvetica,sans-Serif\" font-size=\"14.00\">samples = 57</text>\n<text text-anchor=\"middle\" x=\"221.5\" y=\"-364.8\" font-family=\"Helvetica,sans-Serif\" font-size=\"14.00\">value = [0, 33, 24]</text>\n<text text-anchor=\"middle\" x=\"221.5\" y=\"-349.8\" font-family=\"Helvetica,sans-Serif\" font-size=\"14.00\">class = versicolor</text>\n</g>\n<!-- 0&#45;&gt;2 -->\n<g id=\"edge2\" class=\"edge\">\n<title>0-&gt;2</title>\n<path fill=\"none\" stroke=\"black\" d=\"M168.6,-460.91C174.76,-452.01 181.34,-442.51 187.69,-433.33\"/>\n<polygon fill=\"black\" stroke=\"black\" points=\"190.63,-435.24 193.45,-425.02 184.88,-431.25 190.63,-435.24\"/>\n<text text-anchor=\"middle\" x=\"197.92\" y=\"-445.92\" font-family=\"Helvetica,sans-Serif\" font-size=\"14.00\">False</text>\n</g>\n<!-- 3 -->\n<g id=\"node4\" class=\"node\">\n<title>3</title>\n<polygon fill=\"#3fe685\" stroke=\"black\" points=\"224,-306 61,-306 61,-223 224,-223 224,-306\"/>\n<text text-anchor=\"middle\" x=\"142.5\" y=\"-290.8\" font-family=\"Helvetica,sans-Serif\" font-size=\"14.00\">petal width (cm) &lt;= 1.75</text>\n<text text-anchor=\"middle\" x=\"142.5\" y=\"-275.8\" font-family=\"Helvetica,sans-Serif\" font-size=\"14.00\">gini = 0.057</text>\n<text text-anchor=\"middle\" x=\"142.5\" y=\"-260.8\" font-family=\"Helvetica,sans-Serif\" font-size=\"14.00\">samples = 34</text>\n<text text-anchor=\"middle\" x=\"142.5\" y=\"-245.8\" font-family=\"Helvetica,sans-Serif\" font-size=\"14.00\">value = [0, 33, 1]</text>\n<text text-anchor=\"middle\" x=\"142.5\" y=\"-230.8\" font-family=\"Helvetica,sans-Serif\" font-size=\"14.00\">class = versicolor</text>\n</g>\n<!-- 2&#45;&gt;3 -->\n<g id=\"edge3\" class=\"edge\">\n<title>2-&gt;3</title>\n<path fill=\"none\" stroke=\"black\" d=\"M194.09,-341.91C188.09,-333.01 181.67,-323.51 175.47,-314.33\"/>\n<polygon fill=\"black\" stroke=\"black\" points=\"178.36,-312.35 169.86,-306.02 172.56,-316.27 178.36,-312.35\"/>\n</g>\n<!-- 8 -->\n<g id=\"node9\" class=\"node\">\n<title>8</title>\n<polygon fill=\"#8139e5\" stroke=\"black\" points=\"359,-298.5 242,-298.5 242,-230.5 359,-230.5 359,-298.5\"/>\n<text text-anchor=\"middle\" x=\"300.5\" y=\"-283.3\" font-family=\"Helvetica,sans-Serif\" font-size=\"14.00\">gini = 0.0</text>\n<text text-anchor=\"middle\" x=\"300.5\" y=\"-268.3\" font-family=\"Helvetica,sans-Serif\" font-size=\"14.00\">samples = 23</text>\n<text text-anchor=\"middle\" x=\"300.5\" y=\"-253.3\" font-family=\"Helvetica,sans-Serif\" font-size=\"14.00\">value = [0, 0, 23]</text>\n<text text-anchor=\"middle\" x=\"300.5\" y=\"-238.3\" font-family=\"Helvetica,sans-Serif\" font-size=\"14.00\">class = virginica</text>\n</g>\n<!-- 2&#45;&gt;8 -->\n<g id=\"edge8\" class=\"edge\">\n<title>2-&gt;8</title>\n<path fill=\"none\" stroke=\"black\" d=\"M248.91,-341.91C256.51,-330.65 264.77,-318.42 272.41,-307.11\"/>\n<polygon fill=\"black\" stroke=\"black\" points=\"275.41,-308.91 278.11,-298.67 269.61,-305 275.41,-308.91\"/>\n</g>\n<!-- 4 -->\n<g id=\"node5\" class=\"node\">\n<title>4</title>\n<polygon fill=\"#39e581\" stroke=\"black\" points=\"121,-179.5 0,-179.5 0,-111.5 121,-111.5 121,-179.5\"/>\n<text text-anchor=\"middle\" x=\"60.5\" y=\"-164.3\" font-family=\"Helvetica,sans-Serif\" font-size=\"14.00\">gini = 0.0</text>\n<text text-anchor=\"middle\" x=\"60.5\" y=\"-149.3\" font-family=\"Helvetica,sans-Serif\" font-size=\"14.00\">samples = 32</text>\n<text text-anchor=\"middle\" x=\"60.5\" y=\"-134.3\" font-family=\"Helvetica,sans-Serif\" font-size=\"14.00\">value = [0, 32, 0]</text>\n<text text-anchor=\"middle\" x=\"60.5\" y=\"-119.3\" font-family=\"Helvetica,sans-Serif\" font-size=\"14.00\">class = versicolor</text>\n</g>\n<!-- 3&#45;&gt;4 -->\n<g id=\"edge4\" class=\"edge\">\n<title>3-&gt;4</title>\n<path fill=\"none\" stroke=\"black\" d=\"M114.05,-222.91C106.16,-211.65 97.59,-199.42 89.66,-188.11\"/>\n<polygon fill=\"black\" stroke=\"black\" points=\"92.35,-185.85 83.75,-179.67 86.62,-189.86 92.35,-185.85\"/>\n</g>\n<!-- 5 -->\n<g id=\"node6\" class=\"node\">\n<title>5</title>\n<polygon fill=\"#ffffff\" stroke=\"black\" points=\"310,-187 139,-187 139,-104 310,-104 310,-187\"/>\n<text text-anchor=\"middle\" x=\"224.5\" y=\"-171.8\" font-family=\"Helvetica,sans-Serif\" font-size=\"14.00\">sepal length (cm) &lt;= 6.05</text>\n<text text-anchor=\"middle\" x=\"224.5\" y=\"-156.8\" font-family=\"Helvetica,sans-Serif\" font-size=\"14.00\">gini = 0.5</text>\n<text text-anchor=\"middle\" x=\"224.5\" y=\"-141.8\" font-family=\"Helvetica,sans-Serif\" font-size=\"14.00\">samples = 2</text>\n<text text-anchor=\"middle\" x=\"224.5\" y=\"-126.8\" font-family=\"Helvetica,sans-Serif\" font-size=\"14.00\">value = [0, 1, 1]</text>\n<text text-anchor=\"middle\" x=\"224.5\" y=\"-111.8\" font-family=\"Helvetica,sans-Serif\" font-size=\"14.00\">class = versicolor</text>\n</g>\n<!-- 3&#45;&gt;5 -->\n<g id=\"edge5\" class=\"edge\">\n<title>3-&gt;5</title>\n<path fill=\"none\" stroke=\"black\" d=\"M170.95,-222.91C177.18,-214.01 183.84,-204.51 190.28,-195.33\"/>\n<polygon fill=\"black\" stroke=\"black\" points=\"193.23,-197.22 196.1,-187.02 187.5,-193.2 193.23,-197.22\"/>\n</g>\n<!-- 6 -->\n<g id=\"node7\" class=\"node\">\n<title>6</title>\n<polygon fill=\"#39e581\" stroke=\"black\" points=\"217,-68 96,-68 96,0 217,0 217,-68\"/>\n<text text-anchor=\"middle\" x=\"156.5\" y=\"-52.8\" font-family=\"Helvetica,sans-Serif\" font-size=\"14.00\">gini = 0.0</text>\n<text text-anchor=\"middle\" x=\"156.5\" y=\"-37.8\" font-family=\"Helvetica,sans-Serif\" font-size=\"14.00\">samples = 1</text>\n<text text-anchor=\"middle\" x=\"156.5\" y=\"-22.8\" font-family=\"Helvetica,sans-Serif\" font-size=\"14.00\">value = [0, 1, 0]</text>\n<text text-anchor=\"middle\" x=\"156.5\" y=\"-7.8\" font-family=\"Helvetica,sans-Serif\" font-size=\"14.00\">class = versicolor</text>\n</g>\n<!-- 5&#45;&gt;6 -->\n<g id=\"edge6\" class=\"edge\">\n<title>5-&gt;6</title>\n<path fill=\"none\" stroke=\"black\" d=\"M199.18,-103.73C193.74,-94.97 187.99,-85.7 182.52,-76.91\"/>\n<polygon fill=\"black\" stroke=\"black\" points=\"185.43,-74.95 177.18,-68.3 179.48,-78.64 185.43,-74.95\"/>\n</g>\n<!-- 7 -->\n<g id=\"node8\" class=\"node\">\n<title>7</title>\n<polygon fill=\"#8139e5\" stroke=\"black\" points=\"348,-68 235,-68 235,0 348,0 348,-68\"/>\n<text text-anchor=\"middle\" x=\"291.5\" y=\"-52.8\" font-family=\"Helvetica,sans-Serif\" font-size=\"14.00\">gini = 0.0</text>\n<text text-anchor=\"middle\" x=\"291.5\" y=\"-37.8\" font-family=\"Helvetica,sans-Serif\" font-size=\"14.00\">samples = 1</text>\n<text text-anchor=\"middle\" x=\"291.5\" y=\"-22.8\" font-family=\"Helvetica,sans-Serif\" font-size=\"14.00\">value = [0, 0, 1]</text>\n<text text-anchor=\"middle\" x=\"291.5\" y=\"-7.8\" font-family=\"Helvetica,sans-Serif\" font-size=\"14.00\">class = virginica</text>\n</g>\n<!-- 5&#45;&gt;7 -->\n<g id=\"edge7\" class=\"edge\">\n<title>5-&gt;7</title>\n<path fill=\"none\" stroke=\"black\" d=\"M249.45,-103.73C254.81,-94.97 260.48,-85.7 265.86,-76.91\"/>\n<polygon fill=\"black\" stroke=\"black\" points=\"268.89,-78.66 271.12,-68.3 262.92,-75 268.89,-78.66\"/>\n</g>\n</g>\n</svg>"
          },
          "metadata": {}
        }
      ]
    },
    {
      "cell_type": "code",
      "metadata": {
        "id": "OOpflzvxvOi_",
        "colab": {
          "base_uri": "https://localhost:8080/"
        },
        "outputId": "ec644bf0-a197-48ca-c76c-282b624f0ff8"
      },
      "source": [
        "#General framework\n",
        "# import some libraries\n",
        "# GIVEN: data set D, learning method M\n",
        "# 1) split data into train and test\n",
        "# 2) use method M to generate a model (a classifier) Clr: X ---> y\n",
        "# 3) use test data to evaluate the quality of Clr\n",
        "\n",
        "from sklearn.datasets import load_iris\n",
        "\n",
        "iris_dataset=load_iris()\n",
        "print(iris_dataset.DESCR)\n",
        "print(iris_dataset.target_names)\n",
        "print(iris_dataset.feature_names)\n"
      ],
      "execution_count": 13,
      "outputs": [
        {
          "output_type": "stream",
          "name": "stdout",
          "text": [
            ".. _iris_dataset:\n",
            "\n",
            "Iris plants dataset\n",
            "--------------------\n",
            "\n",
            "**Data Set Characteristics:**\n",
            "\n",
            "    :Number of Instances: 150 (50 in each of three classes)\n",
            "    :Number of Attributes: 4 numeric, predictive attributes and the class\n",
            "    :Attribute Information:\n",
            "        - sepal length in cm\n",
            "        - sepal width in cm\n",
            "        - petal length in cm\n",
            "        - petal width in cm\n",
            "        - class:\n",
            "                - Iris-Setosa\n",
            "                - Iris-Versicolour\n",
            "                - Iris-Virginica\n",
            "                \n",
            "    :Summary Statistics:\n",
            "\n",
            "    ============== ==== ==== ======= ===== ====================\n",
            "                    Min  Max   Mean    SD   Class Correlation\n",
            "    ============== ==== ==== ======= ===== ====================\n",
            "    sepal length:   4.3  7.9   5.84   0.83    0.7826\n",
            "    sepal width:    2.0  4.4   3.05   0.43   -0.4194\n",
            "    petal length:   1.0  6.9   3.76   1.76    0.9490  (high!)\n",
            "    petal width:    0.1  2.5   1.20   0.76    0.9565  (high!)\n",
            "    ============== ==== ==== ======= ===== ====================\n",
            "\n",
            "    :Missing Attribute Values: None\n",
            "    :Class Distribution: 33.3% for each of 3 classes.\n",
            "    :Creator: R.A. Fisher\n",
            "    :Donor: Michael Marshall (MARSHALL%PLU@io.arc.nasa.gov)\n",
            "    :Date: July, 1988\n",
            "\n",
            "The famous Iris database, first used by Sir R.A. Fisher. The dataset is taken\n",
            "from Fisher's paper. Note that it's the same as in R, but not as in the UCI\n",
            "Machine Learning Repository, which has two wrong data points.\n",
            "\n",
            "This is perhaps the best known database to be found in the\n",
            "pattern recognition literature.  Fisher's paper is a classic in the field and\n",
            "is referenced frequently to this day.  (See Duda & Hart, for example.)  The\n",
            "data set contains 3 classes of 50 instances each, where each class refers to a\n",
            "type of iris plant.  One class is linearly separable from the other 2; the\n",
            "latter are NOT linearly separable from each other.\n",
            "\n",
            ".. topic:: References\n",
            "\n",
            "   - Fisher, R.A. \"The use of multiple measurements in taxonomic problems\"\n",
            "     Annual Eugenics, 7, Part II, 179-188 (1936); also in \"Contributions to\n",
            "     Mathematical Statistics\" (John Wiley, NY, 1950).\n",
            "   - Duda, R.O., & Hart, P.E. (1973) Pattern Classification and Scene Analysis.\n",
            "     (Q327.D83) John Wiley & Sons.  ISBN 0-471-22361-1.  See page 218.\n",
            "   - Dasarathy, B.V. (1980) \"Nosing Around the Neighborhood: A New System\n",
            "     Structure and Classification Rule for Recognition in Partially Exposed\n",
            "     Environments\".  IEEE Transactions on Pattern Analysis and Machine\n",
            "     Intelligence, Vol. PAMI-2, No. 1, 67-71.\n",
            "   - Gates, G.W. (1972) \"The Reduced Nearest Neighbor Rule\".  IEEE Transactions\n",
            "     on Information Theory, May 1972, 431-433.\n",
            "   - See also: 1988 MLC Proceedings, 54-64.  Cheeseman et al\"s AUTOCLASS II\n",
            "     conceptual clustering system finds 3 classes in the data.\n",
            "   - Many, many more ...\n",
            "['setosa' 'versicolor' 'virginica']\n",
            "['sepal length (cm)', 'sepal width (cm)', 'petal length (cm)', 'petal width (cm)']\n"
          ]
        }
      ]
    },
    {
      "cell_type": "code",
      "metadata": {
        "id": "3Zo5k8hExaYz",
        "colab": {
          "base_uri": "https://localhost:8080/"
        },
        "outputId": "76d551e4-3b13-4ebf-e1cf-0462faa57592"
      },
      "source": [
        "print(iris_dataset[\"target\"].T)"
      ],
      "execution_count": 14,
      "outputs": [
        {
          "output_type": "stream",
          "name": "stdout",
          "text": [
            "[0 0 0 0 0 0 0 0 0 0 0 0 0 0 0 0 0 0 0 0 0 0 0 0 0 0 0 0 0 0 0 0 0 0 0 0 0\n",
            " 0 0 0 0 0 0 0 0 0 0 0 0 0 1 1 1 1 1 1 1 1 1 1 1 1 1 1 1 1 1 1 1 1 1 1 1 1\n",
            " 1 1 1 1 1 1 1 1 1 1 1 1 1 1 1 1 1 1 1 1 1 1 1 1 1 1 2 2 2 2 2 2 2 2 2 2 2\n",
            " 2 2 2 2 2 2 2 2 2 2 2 2 2 2 2 2 2 2 2 2 2 2 2 2 2 2 2 2 2 2 2 2 2 2 2 2 2\n",
            " 2 2]\n"
          ]
        }
      ]
    },
    {
      "cell_type": "code",
      "metadata": {
        "id": "6ErQ0woYwU5d",
        "colab": {
          "base_uri": "https://localhost:8080/"
        },
        "outputId": "51d25326-47ba-4498-9eaa-93391c182b0d"
      },
      "source": [
        "# split data into train and test\n",
        "from sklearn.model_selection import train_test_split\n",
        "X = iris_dataset[\"data\"]\n",
        "y = iris_dataset[\"target\"]\n",
        "\n",
        "X_train, X_test, y_train, y_test = train_test_split(X,y, train_size=0.7, random_state=49)\n",
        "\n",
        "# X_train, X_test, y_train, y_test are arrays in NumPy\n",
        "\n",
        "X_train.shape"
      ],
      "execution_count": 15,
      "outputs": [
        {
          "output_type": "execute_result",
          "data": {
            "text/plain": [
              "(105, 4)"
            ]
          },
          "metadata": {},
          "execution_count": 15
        }
      ]
    },
    {
      "cell_type": "code",
      "metadata": {
        "id": "gz7h6dOsx-sL",
        "colab": {
          "base_uri": "https://localhost:8080/",
          "height": 75
        },
        "outputId": "158c4a6f-1b41-40ce-d33a-d478d3317e00"
      },
      "source": [
        "# Using kNN classifier\n",
        "from sklearn.neighbors import KNeighborsClassifier\n",
        "\n",
        "knn = KNeighborsClassifier(n_neighbors=5)\n",
        "knn.fit(X_train, y_train)"
      ],
      "execution_count": 16,
      "outputs": [
        {
          "output_type": "execute_result",
          "data": {
            "text/plain": [
              "KNeighborsClassifier()"
            ],
            "text/html": [
              "<style>#sk-container-id-1 {color: black;background-color: white;}#sk-container-id-1 pre{padding: 0;}#sk-container-id-1 div.sk-toggleable {background-color: white;}#sk-container-id-1 label.sk-toggleable__label {cursor: pointer;display: block;width: 100%;margin-bottom: 0;padding: 0.3em;box-sizing: border-box;text-align: center;}#sk-container-id-1 label.sk-toggleable__label-arrow:before {content: \"▸\";float: left;margin-right: 0.25em;color: #696969;}#sk-container-id-1 label.sk-toggleable__label-arrow:hover:before {color: black;}#sk-container-id-1 div.sk-estimator:hover label.sk-toggleable__label-arrow:before {color: black;}#sk-container-id-1 div.sk-toggleable__content {max-height: 0;max-width: 0;overflow: hidden;text-align: left;background-color: #f0f8ff;}#sk-container-id-1 div.sk-toggleable__content pre {margin: 0.2em;color: black;border-radius: 0.25em;background-color: #f0f8ff;}#sk-container-id-1 input.sk-toggleable__control:checked~div.sk-toggleable__content {max-height: 200px;max-width: 100%;overflow: auto;}#sk-container-id-1 input.sk-toggleable__control:checked~label.sk-toggleable__label-arrow:before {content: \"▾\";}#sk-container-id-1 div.sk-estimator input.sk-toggleable__control:checked~label.sk-toggleable__label {background-color: #d4ebff;}#sk-container-id-1 div.sk-label input.sk-toggleable__control:checked~label.sk-toggleable__label {background-color: #d4ebff;}#sk-container-id-1 input.sk-hidden--visually {border: 0;clip: rect(1px 1px 1px 1px);clip: rect(1px, 1px, 1px, 1px);height: 1px;margin: -1px;overflow: hidden;padding: 0;position: absolute;width: 1px;}#sk-container-id-1 div.sk-estimator {font-family: monospace;background-color: #f0f8ff;border: 1px dotted black;border-radius: 0.25em;box-sizing: border-box;margin-bottom: 0.5em;}#sk-container-id-1 div.sk-estimator:hover {background-color: #d4ebff;}#sk-container-id-1 div.sk-parallel-item::after {content: \"\";width: 100%;border-bottom: 1px solid gray;flex-grow: 1;}#sk-container-id-1 div.sk-label:hover label.sk-toggleable__label {background-color: #d4ebff;}#sk-container-id-1 div.sk-serial::before {content: \"\";position: absolute;border-left: 1px solid gray;box-sizing: border-box;top: 0;bottom: 0;left: 50%;z-index: 0;}#sk-container-id-1 div.sk-serial {display: flex;flex-direction: column;align-items: center;background-color: white;padding-right: 0.2em;padding-left: 0.2em;position: relative;}#sk-container-id-1 div.sk-item {position: relative;z-index: 1;}#sk-container-id-1 div.sk-parallel {display: flex;align-items: stretch;justify-content: center;background-color: white;position: relative;}#sk-container-id-1 div.sk-item::before, #sk-container-id-1 div.sk-parallel-item::before {content: \"\";position: absolute;border-left: 1px solid gray;box-sizing: border-box;top: 0;bottom: 0;left: 50%;z-index: -1;}#sk-container-id-1 div.sk-parallel-item {display: flex;flex-direction: column;z-index: 1;position: relative;background-color: white;}#sk-container-id-1 div.sk-parallel-item:first-child::after {align-self: flex-end;width: 50%;}#sk-container-id-1 div.sk-parallel-item:last-child::after {align-self: flex-start;width: 50%;}#sk-container-id-1 div.sk-parallel-item:only-child::after {width: 0;}#sk-container-id-1 div.sk-dashed-wrapped {border: 1px dashed gray;margin: 0 0.4em 0.5em 0.4em;box-sizing: border-box;padding-bottom: 0.4em;background-color: white;}#sk-container-id-1 div.sk-label label {font-family: monospace;font-weight: bold;display: inline-block;line-height: 1.2em;}#sk-container-id-1 div.sk-label-container {text-align: center;}#sk-container-id-1 div.sk-container {/* jupyter's `normalize.less` sets `[hidden] { display: none; }` but bootstrap.min.css set `[hidden] { display: none !important; }` so we also need the `!important` here to be able to override the default hidden behavior on the sphinx rendered scikit-learn.org. See: https://github.com/scikit-learn/scikit-learn/issues/21755 */display: inline-block !important;position: relative;}#sk-container-id-1 div.sk-text-repr-fallback {display: none;}</style><div id=\"sk-container-id-1\" class=\"sk-top-container\"><div class=\"sk-text-repr-fallback\"><pre>KNeighborsClassifier()</pre><b>In a Jupyter environment, please rerun this cell to show the HTML representation or trust the notebook. <br />On GitHub, the HTML representation is unable to render, please try loading this page with nbviewer.org.</b></div><div class=\"sk-container\" hidden><div class=\"sk-item\"><div class=\"sk-estimator sk-toggleable\"><input class=\"sk-toggleable__control sk-hidden--visually\" id=\"sk-estimator-id-1\" type=\"checkbox\" checked><label for=\"sk-estimator-id-1\" class=\"sk-toggleable__label sk-toggleable__label-arrow\">KNeighborsClassifier</label><div class=\"sk-toggleable__content\"><pre>KNeighborsClassifier()</pre></div></div></div></div></div>"
            ]
          },
          "metadata": {},
          "execution_count": 16
        }
      ]
    },
    {
      "cell_type": "code",
      "metadata": {
        "id": "ti_0Slra2tQe",
        "colab": {
          "base_uri": "https://localhost:8080/",
          "height": 75
        },
        "outputId": "ca90e5b4-18b3-4c4b-a671-93ff9636285b"
      },
      "source": [
        "# Using Decision tree\n",
        "from sklearn.tree import DecisionTreeClassifier\n",
        "\n",
        "tree_clf = DecisionTreeClassifier (criterion='gini',max_depth =4)\n",
        "tree_clf.fit(X_train, y_train)"
      ],
      "execution_count": 17,
      "outputs": [
        {
          "output_type": "execute_result",
          "data": {
            "text/plain": [
              "DecisionTreeClassifier(max_depth=4)"
            ],
            "text/html": [
              "<style>#sk-container-id-2 {color: black;background-color: white;}#sk-container-id-2 pre{padding: 0;}#sk-container-id-2 div.sk-toggleable {background-color: white;}#sk-container-id-2 label.sk-toggleable__label {cursor: pointer;display: block;width: 100%;margin-bottom: 0;padding: 0.3em;box-sizing: border-box;text-align: center;}#sk-container-id-2 label.sk-toggleable__label-arrow:before {content: \"▸\";float: left;margin-right: 0.25em;color: #696969;}#sk-container-id-2 label.sk-toggleable__label-arrow:hover:before {color: black;}#sk-container-id-2 div.sk-estimator:hover label.sk-toggleable__label-arrow:before {color: black;}#sk-container-id-2 div.sk-toggleable__content {max-height: 0;max-width: 0;overflow: hidden;text-align: left;background-color: #f0f8ff;}#sk-container-id-2 div.sk-toggleable__content pre {margin: 0.2em;color: black;border-radius: 0.25em;background-color: #f0f8ff;}#sk-container-id-2 input.sk-toggleable__control:checked~div.sk-toggleable__content {max-height: 200px;max-width: 100%;overflow: auto;}#sk-container-id-2 input.sk-toggleable__control:checked~label.sk-toggleable__label-arrow:before {content: \"▾\";}#sk-container-id-2 div.sk-estimator input.sk-toggleable__control:checked~label.sk-toggleable__label {background-color: #d4ebff;}#sk-container-id-2 div.sk-label input.sk-toggleable__control:checked~label.sk-toggleable__label {background-color: #d4ebff;}#sk-container-id-2 input.sk-hidden--visually {border: 0;clip: rect(1px 1px 1px 1px);clip: rect(1px, 1px, 1px, 1px);height: 1px;margin: -1px;overflow: hidden;padding: 0;position: absolute;width: 1px;}#sk-container-id-2 div.sk-estimator {font-family: monospace;background-color: #f0f8ff;border: 1px dotted black;border-radius: 0.25em;box-sizing: border-box;margin-bottom: 0.5em;}#sk-container-id-2 div.sk-estimator:hover {background-color: #d4ebff;}#sk-container-id-2 div.sk-parallel-item::after {content: \"\";width: 100%;border-bottom: 1px solid gray;flex-grow: 1;}#sk-container-id-2 div.sk-label:hover label.sk-toggleable__label {background-color: #d4ebff;}#sk-container-id-2 div.sk-serial::before {content: \"\";position: absolute;border-left: 1px solid gray;box-sizing: border-box;top: 0;bottom: 0;left: 50%;z-index: 0;}#sk-container-id-2 div.sk-serial {display: flex;flex-direction: column;align-items: center;background-color: white;padding-right: 0.2em;padding-left: 0.2em;position: relative;}#sk-container-id-2 div.sk-item {position: relative;z-index: 1;}#sk-container-id-2 div.sk-parallel {display: flex;align-items: stretch;justify-content: center;background-color: white;position: relative;}#sk-container-id-2 div.sk-item::before, #sk-container-id-2 div.sk-parallel-item::before {content: \"\";position: absolute;border-left: 1px solid gray;box-sizing: border-box;top: 0;bottom: 0;left: 50%;z-index: -1;}#sk-container-id-2 div.sk-parallel-item {display: flex;flex-direction: column;z-index: 1;position: relative;background-color: white;}#sk-container-id-2 div.sk-parallel-item:first-child::after {align-self: flex-end;width: 50%;}#sk-container-id-2 div.sk-parallel-item:last-child::after {align-self: flex-start;width: 50%;}#sk-container-id-2 div.sk-parallel-item:only-child::after {width: 0;}#sk-container-id-2 div.sk-dashed-wrapped {border: 1px dashed gray;margin: 0 0.4em 0.5em 0.4em;box-sizing: border-box;padding-bottom: 0.4em;background-color: white;}#sk-container-id-2 div.sk-label label {font-family: monospace;font-weight: bold;display: inline-block;line-height: 1.2em;}#sk-container-id-2 div.sk-label-container {text-align: center;}#sk-container-id-2 div.sk-container {/* jupyter's `normalize.less` sets `[hidden] { display: none; }` but bootstrap.min.css set `[hidden] { display: none !important; }` so we also need the `!important` here to be able to override the default hidden behavior on the sphinx rendered scikit-learn.org. See: https://github.com/scikit-learn/scikit-learn/issues/21755 */display: inline-block !important;position: relative;}#sk-container-id-2 div.sk-text-repr-fallback {display: none;}</style><div id=\"sk-container-id-2\" class=\"sk-top-container\"><div class=\"sk-text-repr-fallback\"><pre>DecisionTreeClassifier(max_depth=4)</pre><b>In a Jupyter environment, please rerun this cell to show the HTML representation or trust the notebook. <br />On GitHub, the HTML representation is unable to render, please try loading this page with nbviewer.org.</b></div><div class=\"sk-container\" hidden><div class=\"sk-item\"><div class=\"sk-estimator sk-toggleable\"><input class=\"sk-toggleable__control sk-hidden--visually\" id=\"sk-estimator-id-2\" type=\"checkbox\" checked><label for=\"sk-estimator-id-2\" class=\"sk-toggleable__label sk-toggleable__label-arrow\">DecisionTreeClassifier</label><div class=\"sk-toggleable__content\"><pre>DecisionTreeClassifier(max_depth=4)</pre></div></div></div></div></div>"
            ]
          },
          "metadata": {},
          "execution_count": 17
        }
      ]
    },
    {
      "cell_type": "code",
      "metadata": {
        "id": "GSio-q3s35rr",
        "colab": {
          "base_uri": "https://localhost:8080/",
          "height": 75
        },
        "outputId": "48b9cf53-5dc0-4150-dcee-5d6c1ed02704"
      },
      "source": [
        "# Using SVM?\n",
        "from sklearn.svm import SVC\n",
        "\n",
        "svm_clf = SVC(kernel=\"linear\", C=0.025)\n",
        "svm_clf.fit(X_train, y_train)"
      ],
      "execution_count": 26,
      "outputs": [
        {
          "output_type": "execute_result",
          "data": {
            "text/plain": [
              "SVC(C=0.025, kernel='linear')"
            ],
            "text/html": [
              "<style>#sk-container-id-3 {color: black;background-color: white;}#sk-container-id-3 pre{padding: 0;}#sk-container-id-3 div.sk-toggleable {background-color: white;}#sk-container-id-3 label.sk-toggleable__label {cursor: pointer;display: block;width: 100%;margin-bottom: 0;padding: 0.3em;box-sizing: border-box;text-align: center;}#sk-container-id-3 label.sk-toggleable__label-arrow:before {content: \"▸\";float: left;margin-right: 0.25em;color: #696969;}#sk-container-id-3 label.sk-toggleable__label-arrow:hover:before {color: black;}#sk-container-id-3 div.sk-estimator:hover label.sk-toggleable__label-arrow:before {color: black;}#sk-container-id-3 div.sk-toggleable__content {max-height: 0;max-width: 0;overflow: hidden;text-align: left;background-color: #f0f8ff;}#sk-container-id-3 div.sk-toggleable__content pre {margin: 0.2em;color: black;border-radius: 0.25em;background-color: #f0f8ff;}#sk-container-id-3 input.sk-toggleable__control:checked~div.sk-toggleable__content {max-height: 200px;max-width: 100%;overflow: auto;}#sk-container-id-3 input.sk-toggleable__control:checked~label.sk-toggleable__label-arrow:before {content: \"▾\";}#sk-container-id-3 div.sk-estimator input.sk-toggleable__control:checked~label.sk-toggleable__label {background-color: #d4ebff;}#sk-container-id-3 div.sk-label input.sk-toggleable__control:checked~label.sk-toggleable__label {background-color: #d4ebff;}#sk-container-id-3 input.sk-hidden--visually {border: 0;clip: rect(1px 1px 1px 1px);clip: rect(1px, 1px, 1px, 1px);height: 1px;margin: -1px;overflow: hidden;padding: 0;position: absolute;width: 1px;}#sk-container-id-3 div.sk-estimator {font-family: monospace;background-color: #f0f8ff;border: 1px dotted black;border-radius: 0.25em;box-sizing: border-box;margin-bottom: 0.5em;}#sk-container-id-3 div.sk-estimator:hover {background-color: #d4ebff;}#sk-container-id-3 div.sk-parallel-item::after {content: \"\";width: 100%;border-bottom: 1px solid gray;flex-grow: 1;}#sk-container-id-3 div.sk-label:hover label.sk-toggleable__label {background-color: #d4ebff;}#sk-container-id-3 div.sk-serial::before {content: \"\";position: absolute;border-left: 1px solid gray;box-sizing: border-box;top: 0;bottom: 0;left: 50%;z-index: 0;}#sk-container-id-3 div.sk-serial {display: flex;flex-direction: column;align-items: center;background-color: white;padding-right: 0.2em;padding-left: 0.2em;position: relative;}#sk-container-id-3 div.sk-item {position: relative;z-index: 1;}#sk-container-id-3 div.sk-parallel {display: flex;align-items: stretch;justify-content: center;background-color: white;position: relative;}#sk-container-id-3 div.sk-item::before, #sk-container-id-3 div.sk-parallel-item::before {content: \"\";position: absolute;border-left: 1px solid gray;box-sizing: border-box;top: 0;bottom: 0;left: 50%;z-index: -1;}#sk-container-id-3 div.sk-parallel-item {display: flex;flex-direction: column;z-index: 1;position: relative;background-color: white;}#sk-container-id-3 div.sk-parallel-item:first-child::after {align-self: flex-end;width: 50%;}#sk-container-id-3 div.sk-parallel-item:last-child::after {align-self: flex-start;width: 50%;}#sk-container-id-3 div.sk-parallel-item:only-child::after {width: 0;}#sk-container-id-3 div.sk-dashed-wrapped {border: 1px dashed gray;margin: 0 0.4em 0.5em 0.4em;box-sizing: border-box;padding-bottom: 0.4em;background-color: white;}#sk-container-id-3 div.sk-label label {font-family: monospace;font-weight: bold;display: inline-block;line-height: 1.2em;}#sk-container-id-3 div.sk-label-container {text-align: center;}#sk-container-id-3 div.sk-container {/* jupyter's `normalize.less` sets `[hidden] { display: none; }` but bootstrap.min.css set `[hidden] { display: none !important; }` so we also need the `!important` here to be able to override the default hidden behavior on the sphinx rendered scikit-learn.org. See: https://github.com/scikit-learn/scikit-learn/issues/21755 */display: inline-block !important;position: relative;}#sk-container-id-3 div.sk-text-repr-fallback {display: none;}</style><div id=\"sk-container-id-3\" class=\"sk-top-container\"><div class=\"sk-text-repr-fallback\"><pre>SVC(C=0.025, kernel=&#x27;linear&#x27;)</pre><b>In a Jupyter environment, please rerun this cell to show the HTML representation or trust the notebook. <br />On GitHub, the HTML representation is unable to render, please try loading this page with nbviewer.org.</b></div><div class=\"sk-container\" hidden><div class=\"sk-item\"><div class=\"sk-estimator sk-toggleable\"><input class=\"sk-toggleable__control sk-hidden--visually\" id=\"sk-estimator-id-3\" type=\"checkbox\" checked><label for=\"sk-estimator-id-3\" class=\"sk-toggleable__label sk-toggleable__label-arrow\">SVC</label><div class=\"sk-toggleable__content\"><pre>SVC(C=0.025, kernel=&#x27;linear&#x27;)</pre></div></div></div></div></div>"
            ]
          },
          "metadata": {},
          "execution_count": 26
        }
      ]
    },
    {
      "cell_type": "code",
      "metadata": {
        "id": "5WY5CeHkyfJB",
        "colab": {
          "base_uri": "https://localhost:8080/"
        },
        "outputId": "bc1f614c-c1e4-481e-f601-338511b2ed38"
      },
      "source": [
        "# using and evaluation of the model\n",
        "import numpy as np\n",
        "\n",
        "x_new = np.array([[6.2, 3.4, 5.2, 2.3]])\n",
        "prediction = knn.predict(x_new)\n",
        "pred2 = tree_clf.predict(x_new)\n",
        "pred3 = svm_clf.predict(x_new)\n",
        "\n",
        "print(\"Predicted target value: {}\\n\".format(prediction))\n",
        "print(\"Predicted feature name: {}\\n\".format\n",
        "    (iris_dataset[\"target_names\"][prediction]))\n",
        "print(\"Prediction of decision tree: {}\\n\".format\n",
        "    (iris_dataset[\"target_names\"][pred2]))\n",
        "\n",
        "print(\"Prediction of SVM: {}\\n\".format\n",
        "    (iris_dataset[\"target_names\"][pred3]))"
      ],
      "execution_count": 27,
      "outputs": [
        {
          "output_type": "stream",
          "name": "stdout",
          "text": [
            "Predicted target value: [2]\n",
            "\n",
            "Predicted feature name: ['virginica']\n",
            "\n",
            "Prediction of decision tree: ['virginica']\n",
            "\n",
            "Prediction of SVM: ['virginica']\n",
            "\n"
          ]
        }
      ]
    },
    {
      "cell_type": "code",
      "metadata": {
        "id": "u90VFdLv6FuQ",
        "colab": {
          "base_uri": "https://localhost:8080/"
        },
        "outputId": "9145e986-238d-4b9e-b3d3-ec1234bbde55"
      },
      "source": [
        "knn.predict(X_test)"
      ],
      "execution_count": 20,
      "outputs": [
        {
          "output_type": "execute_result",
          "data": {
            "text/plain": [
              "array([1, 2, 1, 2, 2, 0, 2, 2, 2, 2, 0, 1, 0, 1, 1, 1, 1, 2, 2, 0, 0, 1,\n",
              "       0, 2, 0, 1, 1, 2, 0, 2, 0, 0, 1, 0, 1, 2, 0, 2, 2, 2, 0, 0, 2, 1,\n",
              "       2])"
            ]
          },
          "metadata": {},
          "execution_count": 20
        }
      ]
    },
    {
      "cell_type": "code",
      "metadata": {
        "id": "QYzBHnVx6UEW",
        "colab": {
          "base_uri": "https://localhost:8080/"
        },
        "outputId": "a4cdfc49-849b-4000-d613-a20b8685acb5"
      },
      "source": [
        "y_test"
      ],
      "execution_count": 21,
      "outputs": [
        {
          "output_type": "execute_result",
          "data": {
            "text/plain": [
              "array([1, 2, 1, 2, 2, 0, 2, 2, 2, 2, 0, 1, 0, 1, 1, 2, 1, 2, 2, 0, 0, 1,\n",
              "       0, 2, 0, 1, 1, 1, 0, 2, 0, 0, 1, 0, 1, 2, 0, 2, 2, 2, 0, 0, 2, 1,\n",
              "       2])"
            ]
          },
          "metadata": {},
          "execution_count": 21
        }
      ]
    },
    {
      "cell_type": "code",
      "metadata": {
        "id": "B5Z6y2zi6vd1",
        "colab": {
          "base_uri": "https://localhost:8080/"
        },
        "outputId": "5d1b2ccd-ec41-4cd8-8c93-ff19912947d9"
      },
      "source": [
        "# accuracy of a classifier\n",
        "knn.score(X_test,y_test)"
      ],
      "execution_count": 22,
      "outputs": [
        {
          "output_type": "execute_result",
          "data": {
            "text/plain": [
              "0.9555555555555556"
            ]
          },
          "metadata": {},
          "execution_count": 22
        }
      ]
    },
    {
      "cell_type": "code",
      "metadata": {
        "id": "YDvRsgzM7Div",
        "colab": {
          "base_uri": "https://localhost:8080/"
        },
        "outputId": "da5603e7-50bf-4151-a106-fbd0901fde25"
      },
      "source": [
        "tree_clf.score(X_test,y_test)"
      ],
      "execution_count": 23,
      "outputs": [
        {
          "output_type": "execute_result",
          "data": {
            "text/plain": [
              "0.9333333333333333"
            ]
          },
          "metadata": {},
          "execution_count": 23
        }
      ]
    },
    {
      "cell_type": "code",
      "metadata": {
        "id": "_mTi_eMG7fKl",
        "colab": {
          "base_uri": "https://localhost:8080/"
        },
        "outputId": "18668e4c-39cb-4997-ea3c-7a9ee3402dc6"
      },
      "source": [
        "from sklearn.metrics import confusion_matrix\n",
        "\n",
        "y_pred = knn.predict ( X_test )\n",
        "confusion_matrix ( y_test , y_pred )"
      ],
      "execution_count": 24,
      "outputs": [
        {
          "output_type": "execute_result",
          "data": {
            "text/plain": [
              "array([[14,  0,  0],\n",
              "       [ 0, 12,  1],\n",
              "       [ 0,  1, 17]])"
            ]
          },
          "metadata": {},
          "execution_count": 24
        }
      ]
    },
    {
      "cell_type": "code",
      "metadata": {
        "id": "pLlhuSzk8EMO",
        "colab": {
          "base_uri": "https://localhost:8080/"
        },
        "outputId": "b29c9db1-3339-4941-f315-7eaffacd3942"
      },
      "source": [
        "from sklearn.metrics import confusion_matrix\n",
        "\n",
        "y_pred = tree_clf.predict ( X_test )\n",
        "confusion_matrix ( y_test , y_pred )"
      ],
      "execution_count": 25,
      "outputs": [
        {
          "output_type": "execute_result",
          "data": {
            "text/plain": [
              "array([[14,  0,  0],\n",
              "       [ 0, 12,  1],\n",
              "       [ 0,  2, 16]])"
            ]
          },
          "metadata": {},
          "execution_count": 25
        }
      ]
    }
  ]
}