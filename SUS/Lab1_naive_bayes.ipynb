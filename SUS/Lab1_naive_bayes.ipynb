{
  "nbformat": 4,
  "nbformat_minor": 0,
  "metadata": {
    "colab": {
      "provenance": []
    },
    "kernelspec": {
      "name": "python3",
      "display_name": "Python 3"
    },
    "language_info": {
      "name": "python"
    }
  },
  "cells": [
    {
      "cell_type": "markdown",
      "source": [
        "# Naive Bayes Classifier\n",
        "Naive Bayes is very simple, yet powerful algorithm for classification. It is based on Bayes\n",
        "Theorem with an assumption of independence among predictors. It assumes that the presence\n",
        "of a feature in a class is unrelated to any other feature."
      ],
      "metadata": {
        "id": "SaHHu4WtC0D9"
      }
    },
    {
      "cell_type": "markdown",
      "source": [
        "# Bayes theorem\n",
        "Bayes theorem describes the probability of an event, based on prior knowledge of conditions\n",
        "that might be related to the event.\n",
        "\n",
        "Given a Hypothesis ($H$) and evidence ($E$), Bayes’ Theorem states that the relationship between\n",
        "the probability of the hypothesis before getting the evidence, $P(H)$, and the probability\n",
        "of the hypothesis after getting the evidence, $P(H|E)$, is:\n",
        "$$P(H\\mid E) = \\frac{P(E\\mid H)P(H)}{P(E)}$$\n",
        "* $P(H)$ is called the prior probability,\n",
        "* $P(H|E)$ is called the posterior probability,\n",
        "* $P(H|E)/P(E)$ is called the likelihood ratio.\n",
        "* $P(H)$ and $P(E)$ are the probabilities of $H$ occurring and $E$ occurring independently of each\n",
        "other."
      ],
      "metadata": {
        "id": "hsNApOjcCyA8"
      }
    },
    {
      "cell_type": "markdown",
      "source": [
        "## Example 1\n",
        "We’re testing for a rare disease, where 1\\% of the population is infected. We have a highly sensitive and specific test:\n",
        "99\\% of sick patients test positive, and 99\\% of healthy patients test negative\n",
        "\n",
        "Given that a patient tests positive, what is the probability that the patient is actually sick?\n",
        "\n",
        "A naive answer would be: Imagine that we have $100\\times 100 = 10 000$ representative people.\n",
        "Thus 100 would be sick and 9900 healthy. After running our test on them 99 sick people would have test result as sick and 99 healthy would test sick as well. We’re equally likely to be healthy or sick when the test would result with positive outcome.\n",
        "\n",
        "Given events $x$ and $y$, there’s a relationship between the probabilities of either event (denoted $P(x)$ and $P(y)$), the joint probabilities (both happen, which is denoted $P(x,y)$), and conditional probabilities (event $x$ happens given $y$ happens, denoted $P(x|y)$).\n",
        "\n",
        "$$P(sick) = 0.01; \\quad P(+|sick)=0.99; \\quad P(+|\\neg  sick) = 0.01$$\n",
        "so\n",
        "$$\n",
        "P(sick|+) = \\frac{P(+|sick)P(sick)}{P(+)} = \\frac{0.99\\cdot 0.01}{0.99\\cdot 0.01+0.01\\cdot 0.99} = 0.5\n",
        "$$\n"
      ],
      "metadata": {
        "id": "aaZnFIvNDZ06"
      }
    },
    {
      "cell_type": "markdown",
      "source": [
        "## Example 2"
      ],
      "metadata": {
        "id": "1PO0BX0CGMtQ"
      }
    },
    {
      "cell_type": "code",
      "source": [
        "from sklearn import datasets\n",
        "from sklearn import metrics\n",
        "from sklearn.naive_bayes import GaussianNB\n",
        "from sklearn.model_selection import train_test_split\n",
        "\n",
        "dataset = datasets.load_iris()\n",
        "X_train , X_test , y_train , y_test = train_test_split (\n",
        "    dataset.data, dataset.target , test_size=0.4 , random_state =4)"
      ],
      "metadata": {
        "id": "ZU2gqAraGHWh"
      },
      "execution_count": 1,
      "outputs": []
    },
    {
      "cell_type": "code",
      "source": [
        "model = GaussianNB ()\n",
        "model.fit(X_train , y_train)"
      ],
      "metadata": {
        "colab": {
          "base_uri": "https://localhost:8080/",
          "height": 75
        },
        "id": "Btd8nn2mGk8u",
        "outputId": "555ae86f-c0bc-4dd4-c28b-db5d8f49c692"
      },
      "execution_count": 2,
      "outputs": [
        {
          "output_type": "execute_result",
          "data": {
            "text/plain": [
              "GaussianNB()"
            ],
            "text/html": [
              "<style>#sk-container-id-1 {color: black;background-color: white;}#sk-container-id-1 pre{padding: 0;}#sk-container-id-1 div.sk-toggleable {background-color: white;}#sk-container-id-1 label.sk-toggleable__label {cursor: pointer;display: block;width: 100%;margin-bottom: 0;padding: 0.3em;box-sizing: border-box;text-align: center;}#sk-container-id-1 label.sk-toggleable__label-arrow:before {content: \"▸\";float: left;margin-right: 0.25em;color: #696969;}#sk-container-id-1 label.sk-toggleable__label-arrow:hover:before {color: black;}#sk-container-id-1 div.sk-estimator:hover label.sk-toggleable__label-arrow:before {color: black;}#sk-container-id-1 div.sk-toggleable__content {max-height: 0;max-width: 0;overflow: hidden;text-align: left;background-color: #f0f8ff;}#sk-container-id-1 div.sk-toggleable__content pre {margin: 0.2em;color: black;border-radius: 0.25em;background-color: #f0f8ff;}#sk-container-id-1 input.sk-toggleable__control:checked~div.sk-toggleable__content {max-height: 200px;max-width: 100%;overflow: auto;}#sk-container-id-1 input.sk-toggleable__control:checked~label.sk-toggleable__label-arrow:before {content: \"▾\";}#sk-container-id-1 div.sk-estimator input.sk-toggleable__control:checked~label.sk-toggleable__label {background-color: #d4ebff;}#sk-container-id-1 div.sk-label input.sk-toggleable__control:checked~label.sk-toggleable__label {background-color: #d4ebff;}#sk-container-id-1 input.sk-hidden--visually {border: 0;clip: rect(1px 1px 1px 1px);clip: rect(1px, 1px, 1px, 1px);height: 1px;margin: -1px;overflow: hidden;padding: 0;position: absolute;width: 1px;}#sk-container-id-1 div.sk-estimator {font-family: monospace;background-color: #f0f8ff;border: 1px dotted black;border-radius: 0.25em;box-sizing: border-box;margin-bottom: 0.5em;}#sk-container-id-1 div.sk-estimator:hover {background-color: #d4ebff;}#sk-container-id-1 div.sk-parallel-item::after {content: \"\";width: 100%;border-bottom: 1px solid gray;flex-grow: 1;}#sk-container-id-1 div.sk-label:hover label.sk-toggleable__label {background-color: #d4ebff;}#sk-container-id-1 div.sk-serial::before {content: \"\";position: absolute;border-left: 1px solid gray;box-sizing: border-box;top: 0;bottom: 0;left: 50%;z-index: 0;}#sk-container-id-1 div.sk-serial {display: flex;flex-direction: column;align-items: center;background-color: white;padding-right: 0.2em;padding-left: 0.2em;position: relative;}#sk-container-id-1 div.sk-item {position: relative;z-index: 1;}#sk-container-id-1 div.sk-parallel {display: flex;align-items: stretch;justify-content: center;background-color: white;position: relative;}#sk-container-id-1 div.sk-item::before, #sk-container-id-1 div.sk-parallel-item::before {content: \"\";position: absolute;border-left: 1px solid gray;box-sizing: border-box;top: 0;bottom: 0;left: 50%;z-index: -1;}#sk-container-id-1 div.sk-parallel-item {display: flex;flex-direction: column;z-index: 1;position: relative;background-color: white;}#sk-container-id-1 div.sk-parallel-item:first-child::after {align-self: flex-end;width: 50%;}#sk-container-id-1 div.sk-parallel-item:last-child::after {align-self: flex-start;width: 50%;}#sk-container-id-1 div.sk-parallel-item:only-child::after {width: 0;}#sk-container-id-1 div.sk-dashed-wrapped {border: 1px dashed gray;margin: 0 0.4em 0.5em 0.4em;box-sizing: border-box;padding-bottom: 0.4em;background-color: white;}#sk-container-id-1 div.sk-label label {font-family: monospace;font-weight: bold;display: inline-block;line-height: 1.2em;}#sk-container-id-1 div.sk-label-container {text-align: center;}#sk-container-id-1 div.sk-container {/* jupyter's `normalize.less` sets `[hidden] { display: none; }` but bootstrap.min.css set `[hidden] { display: none !important; }` so we also need the `!important` here to be able to override the default hidden behavior on the sphinx rendered scikit-learn.org. See: https://github.com/scikit-learn/scikit-learn/issues/21755 */display: inline-block !important;position: relative;}#sk-container-id-1 div.sk-text-repr-fallback {display: none;}</style><div id=\"sk-container-id-1\" class=\"sk-top-container\"><div class=\"sk-text-repr-fallback\"><pre>GaussianNB()</pre><b>In a Jupyter environment, please rerun this cell to show the HTML representation or trust the notebook. <br />On GitHub, the HTML representation is unable to render, please try loading this page with nbviewer.org.</b></div><div class=\"sk-container\" hidden><div class=\"sk-item\"><div class=\"sk-estimator sk-toggleable\"><input class=\"sk-toggleable__control sk-hidden--visually\" id=\"sk-estimator-id-1\" type=\"checkbox\" checked><label for=\"sk-estimator-id-1\" class=\"sk-toggleable__label sk-toggleable__label-arrow\">GaussianNB</label><div class=\"sk-toggleable__content\"><pre>GaussianNB()</pre></div></div></div></div></div>"
            ]
          },
          "metadata": {},
          "execution_count": 2
        }
      ]
    },
    {
      "cell_type": "code",
      "source": [
        "expected = y_test\n",
        "predicted = model.predict(X_test)"
      ],
      "metadata": {
        "id": "0jgjvhtgGzZ5"
      },
      "execution_count": 3,
      "outputs": []
    },
    {
      "cell_type": "code",
      "source": [
        "print(metrics.classification_report(expected, predicted ))\n",
        "print(metrics.confusion_matrix(expected, predicted ))"
      ],
      "metadata": {
        "id": "bEouSLWKG5px",
        "colab": {
          "base_uri": "https://localhost:8080/"
        },
        "outputId": "cd30da16-6fbd-40a4-a8cf-f0a9e7e3b5ea"
      },
      "execution_count": 4,
      "outputs": [
        {
          "output_type": "stream",
          "name": "stdout",
          "text": [
            "              precision    recall  f1-score   support\n",
            "\n",
            "           0       1.00      1.00      1.00        25\n",
            "           1       0.89      1.00      0.94        17\n",
            "           2       1.00      0.89      0.94        18\n",
            "\n",
            "    accuracy                           0.97        60\n",
            "   macro avg       0.96      0.96      0.96        60\n",
            "weighted avg       0.97      0.97      0.97        60\n",
            "\n",
            "[[25  0  0]\n",
            " [ 0 17  0]\n",
            " [ 0  2 16]]\n"
          ]
        }
      ]
    },
    {
      "cell_type": "markdown",
      "source": [
        "## Task 1\n",
        "Given the training data in the table below (Tennis data with some numerical attributes),\n",
        "without using sklearn library, predict the class of the following new example using Naïve\n",
        "Bayes classification:\n",
        "\n",
        "outlook=overcast, temperature=60, humidity=62, windy=false\n"
      ],
      "metadata": {
        "id": "-ae989paIPdZ"
      }
    },
    {
      "cell_type": "markdown",
      "source": [
        "![image.png](data:image/png;base64,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)"
      ],
      "metadata": {
        "id": "x1KDDo_xK3Re"
      }
    },
    {
      "cell_type": "code",
      "source": [
        "# https://gist.github.com/bjuliano/5e25ee0728d454c5f88d41f69cd9016e\n",
        "# Convert sklearn.Bunch to pandas.DataFrame\n",
        "import pandas as pd\n",
        "import numpy as np\n",
        "from sklearn.datasets import fetch_openml\n",
        "\n",
        "# Load the nominal WEATHER dataset from https://www.openml.org/\n",
        "weather = datasets.fetch_openml(name='weather', version=2)\n",
        "print('Features:',   weather.feature_names)\n",
        "print('Target(s):',  weather.target_names)\n",
        "print('Categories:', weather.categories)\n",
        "\n",
        "df = pd.DataFrame( np.c_[weather.data, weather.target],\n",
        "                   columns=np.append(weather.feature_names, weather.target_names) )\n",
        "print(df)"
      ],
      "metadata": {
        "colab": {
          "base_uri": "https://localhost:8080/"
        },
        "id": "8VxA7o17HIgt",
        "outputId": "32a35bca-a890-4ff3-e028-813be2742707"
      },
      "execution_count": 5,
      "outputs": [
        {
          "output_type": "stream",
          "name": "stderr",
          "text": [
            "/usr/local/lib/python3.10/dist-packages/sklearn/datasets/_openml.py:968: FutureWarning: The default value of `parser` will change from `'liac-arff'` to `'auto'` in 1.4. You can set `parser='auto'` to silence this warning. Therefore, an `ImportError` will be raised from 1.4 if the dataset is dense and pandas is not installed. Note that the pandas parser may return different data types. See the Notes Section in fetch_openml's API doc for details.\n",
            "  warn(\n"
          ]
        },
        {
          "output_type": "stream",
          "name": "stdout",
          "text": [
            "Features: ['outlook', 'temperature', 'humidity', 'windy']\n",
            "Target(s): ['play']\n",
            "Categories: None\n",
            "     outlook temperature humidity windy play\n",
            "0      sunny          85       85  True   no\n",
            "1      sunny          80       90  True   no\n",
            "2   overcast          83       86  True  yes\n",
            "3      rainy          70       96  True  yes\n",
            "4      rainy          68       80  True  yes\n",
            "5      rainy          65       70  True   no\n",
            "6   overcast          64       65  True  yes\n",
            "7      sunny          72       95  True   no\n",
            "8      sunny          69       70  True  yes\n",
            "9      rainy          75       80  True  yes\n",
            "10     sunny          75       70  True  yes\n",
            "11  overcast          72       90  True  yes\n",
            "12  overcast          81       75  True  yes\n",
            "13     rainy          71       91  True   no\n"
          ]
        }
      ]
    },
    {
      "cell_type": "code",
      "source": [
        "df['temperature'] = df['temperature'].astype('float')\n",
        "df['humidity'] = df['humidity'].astype('float')"
      ],
      "metadata": {
        "id": "HrqtbLdSL4Zj"
      },
      "execution_count": 45,
      "outputs": []
    },
    {
      "cell_type": "code",
      "source": [
        "import pandas as pd\n",
        "import numpy as np\n",
        "\n",
        "class BayesianClassifier:\n",
        "    def __init__(self):\n",
        "        self.class_probs = {}\n",
        "        self.feature_probs = {}\n",
        "        self.classes = []\n",
        "\n",
        "    def fit(self, X, y):\n",
        "        self.classes, class_counts = y.value_counts().index.tolist(), y.value_counts().values.tolist()\n",
        "        total_samples = len(y)\n",
        "\n",
        "        for class_label, count in zip(self.classes, class_counts):\n",
        "            self.class_probs[class_label] = count / total_samples\n",
        "\n",
        "        for feature_column in X.columns:\n",
        "            feature_type = X[feature_column].dtype\n",
        "\n",
        "            for class_label in self.classes:\n",
        "                feature_class_values = X[feature_column][y == class_label]\n",
        "\n",
        "                if feature_type == 'object':  # Categorical feature\n",
        "                    feature_probs = self.calculate_categorical_probabilities(feature_class_values)\n",
        "                else:  # Continuous feature\n",
        "                    feature_probs = self.calculate_continuous_probabilities(feature_class_values)\n",
        "\n",
        "                feature_idx = X.columns.get_loc(feature_column)\n",
        "                if feature_idx not in self.feature_probs:\n",
        "                    self.feature_probs[feature_idx] = {}\n",
        "                self.feature_probs[feature_idx][class_label] = feature_probs\n",
        "\n",
        "    def predict(self, X):\n",
        "        predictions = []\n",
        "\n",
        "        for _, sample in X.iterrows():\n",
        "            max_posterior = float('-inf')\n",
        "            predicted_class = None\n",
        "            for class_label in self.classes:\n",
        "                posterior = np.log(self.class_probs[class_label])\n",
        "                for feature_column, feature_value in sample.iteritems():\n",
        "                    feature_idx = X.columns.get_loc(feature_column)\n",
        "\n",
        "                    if feature_idx in self.feature_probs:\n",
        "                        feature_type = X[feature_column].dtype\n",
        "                        if feature_type == 'object':  # Categorical feature\n",
        "                            if feature_value in self.feature_probs[feature_idx][class_label]:\n",
        "                                posterior += np.log(self.feature_probs[feature_idx][class_label][feature_value])\n",
        "                            else:\n",
        "                                # Smoothing for unseen categorical values\n",
        "                                posterior += np.log(1e-6)\n",
        "                        else:  # Continuous feature\n",
        "                            mu, sigma = self.feature_probs[feature_idx][class_label]\n",
        "                            posterior += np.log(self.calculate_continuous_probability(feature_value, mu, sigma))\n",
        "                if posterior > max_posterior:\n",
        "                    max_posterior = posterior\n",
        "                    predicted_class = class_label\n",
        "            predictions.append(predicted_class)\n",
        "        return predictions\n",
        "\n",
        "    def calculate_categorical_probabilities(self, feature_values):\n",
        "        unique_values, counts = feature_values.value_counts().index.tolist(), feature_values.value_counts().values.tolist()\n",
        "        prob_dict = {}\n",
        "        total_count = len(feature_values)\n",
        "        for val, count in zip(unique_values, counts):\n",
        "            prob_dict[val] = count / total_count\n",
        "        return prob_dict\n",
        "\n",
        "    def calculate_continuous_probabilities(self, feature_values):\n",
        "        mu = feature_values.mean()\n",
        "        sigma = feature_values.std()\n",
        "        return mu, sigma\n",
        "\n",
        "    def calculate_continuous_probability(self, x, mu, sigma):\n",
        "        return (1 / (np.sqrt(2 * np.pi) * sigma)) * np.exp(-0.5 * ((x - mu) / sigma) ** 2)\n",
        "\n",
        "    def predict(self, X):\n",
        "      predictions = []\n",
        "\n",
        "      for _, sample in X.iterrows():\n",
        "          max_posterior = float('-inf')\n",
        "          predicted_class = None\n",
        "          for class_label in self.classes:\n",
        "              posterior = np.log(self.class_probs[class_label])\n",
        "              for feature_column, feature_value in sample.items():\n",
        "                  feature_idx = X.columns.get_loc(feature_column)\n",
        "\n",
        "                  if feature_idx in self.feature_probs:\n",
        "                      feature_type = X[feature_column].dtype\n",
        "                      if feature_type == 'object' or feature_type == 'bool':  # Categorical feature\n",
        "                          if feature_value in self.feature_probs[feature_idx][class_label]:\n",
        "                              posterior += np.log(self.feature_probs[feature_idx][class_label][feature_value])\n",
        "                          else:\n",
        "                              # Smoothing for unseen categorical values\n",
        "                              posterior += np.log(1e-6)\n",
        "                      else:  # Continuous feature\n",
        "                          mu, sigma = self.feature_probs[feature_idx][class_label]\n",
        "                          posterior += np.log(self.calculate_continuous_probability(feature_value, mu, sigma))\n",
        "              if posterior > max_posterior:\n",
        "                  max_posterior = posterior\n",
        "                  predicted_class = class_label\n",
        "          predictions.append(predicted_class)\n",
        "      return predictions\n"
      ],
      "metadata": {
        "id": "N6CPqWUSHl9B"
      },
      "execution_count": 71,
      "outputs": []
    },
    {
      "cell_type": "code",
      "source": [
        "clf = BayesianClassifier()\n",
        "clf.fit(df.drop('play', axis=1), df['play'])"
      ],
      "metadata": {
        "id": "faJ-KUE8HnFN"
      },
      "execution_count": 72,
      "outputs": []
    },
    {
      "cell_type": "code",
      "source": [
        "df.info()"
      ],
      "metadata": {
        "colab": {
          "base_uri": "https://localhost:8080/"
        },
        "id": "KYrsnYpNL0yR",
        "outputId": "e4c1a521-3617-4166-ed05-bba0bbba9480"
      },
      "execution_count": 73,
      "outputs": [
        {
          "output_type": "stream",
          "name": "stdout",
          "text": [
            "<class 'pandas.core.frame.DataFrame'>\n",
            "RangeIndex: 14 entries, 0 to 13\n",
            "Data columns (total 5 columns):\n",
            " #   Column       Non-Null Count  Dtype  \n",
            "---  ------       --------------  -----  \n",
            " 0   outlook      14 non-null     object \n",
            " 1   temperature  14 non-null     float64\n",
            " 2   humidity     14 non-null     float64\n",
            " 3   windy        14 non-null     object \n",
            " 4   play         14 non-null     object \n",
            "dtypes: float64(2), object(3)\n",
            "memory usage: 688.0+ bytes\n"
          ]
        }
      ]
    },
    {
      "cell_type": "code",
      "source": [
        "# new example outlook=overcast, temperature=60, humidity=62, windy=false\n",
        "example = pd.DataFrame([['overcast', 60, 62, False]], columns=weather.feature_names)\n",
        "example"
      ],
      "metadata": {
        "colab": {
          "base_uri": "https://localhost:8080/",
          "height": 81
        },
        "id": "cVOUIXOXKqee",
        "outputId": "e6279bf1-0cb5-4ae9-c50a-9cc9f95a771e"
      },
      "execution_count": 74,
      "outputs": [
        {
          "output_type": "execute_result",
          "data": {
            "text/plain": [
              "    outlook  temperature  humidity  windy\n",
              "0  overcast           60        62  False"
            ],
            "text/html": [
              "\n",
              "  <div id=\"df-5ad7e517-1b5b-4767-833b-ffd40ab11a2c\" class=\"colab-df-container\">\n",
              "    <div>\n",
              "<style scoped>\n",
              "    .dataframe tbody tr th:only-of-type {\n",
              "        vertical-align: middle;\n",
              "    }\n",
              "\n",
              "    .dataframe tbody tr th {\n",
              "        vertical-align: top;\n",
              "    }\n",
              "\n",
              "    .dataframe thead th {\n",
              "        text-align: right;\n",
              "    }\n",
              "</style>\n",
              "<table border=\"1\" class=\"dataframe\">\n",
              "  <thead>\n",
              "    <tr style=\"text-align: right;\">\n",
              "      <th></th>\n",
              "      <th>outlook</th>\n",
              "      <th>temperature</th>\n",
              "      <th>humidity</th>\n",
              "      <th>windy</th>\n",
              "    </tr>\n",
              "  </thead>\n",
              "  <tbody>\n",
              "    <tr>\n",
              "      <th>0</th>\n",
              "      <td>overcast</td>\n",
              "      <td>60</td>\n",
              "      <td>62</td>\n",
              "      <td>False</td>\n",
              "    </tr>\n",
              "  </tbody>\n",
              "</table>\n",
              "</div>\n",
              "    <div class=\"colab-df-buttons\">\n",
              "\n",
              "  <div class=\"colab-df-container\">\n",
              "    <button class=\"colab-df-convert\" onclick=\"convertToInteractive('df-5ad7e517-1b5b-4767-833b-ffd40ab11a2c')\"\n",
              "            title=\"Convert this dataframe to an interactive table.\"\n",
              "            style=\"display:none;\">\n",
              "\n",
              "  <svg xmlns=\"http://www.w3.org/2000/svg\" height=\"24px\" viewBox=\"0 -960 960 960\">\n",
              "    <path d=\"M120-120v-720h720v720H120Zm60-500h600v-160H180v160Zm220 220h160v-160H400v160Zm0 220h160v-160H400v160ZM180-400h160v-160H180v160Zm440 0h160v-160H620v160ZM180-180h160v-160H180v160Zm440 0h160v-160H620v160Z\"/>\n",
              "  </svg>\n",
              "    </button>\n",
              "\n",
              "  <style>\n",
              "    .colab-df-container {\n",
              "      display:flex;\n",
              "      gap: 12px;\n",
              "    }\n",
              "\n",
              "    .colab-df-convert {\n",
              "      background-color: #E8F0FE;\n",
              "      border: none;\n",
              "      border-radius: 50%;\n",
              "      cursor: pointer;\n",
              "      display: none;\n",
              "      fill: #1967D2;\n",
              "      height: 32px;\n",
              "      padding: 0 0 0 0;\n",
              "      width: 32px;\n",
              "    }\n",
              "\n",
              "    .colab-df-convert:hover {\n",
              "      background-color: #E2EBFA;\n",
              "      box-shadow: 0px 1px 2px rgba(60, 64, 67, 0.3), 0px 1px 3px 1px rgba(60, 64, 67, 0.15);\n",
              "      fill: #174EA6;\n",
              "    }\n",
              "\n",
              "    .colab-df-buttons div {\n",
              "      margin-bottom: 4px;\n",
              "    }\n",
              "\n",
              "    [theme=dark] .colab-df-convert {\n",
              "      background-color: #3B4455;\n",
              "      fill: #D2E3FC;\n",
              "    }\n",
              "\n",
              "    [theme=dark] .colab-df-convert:hover {\n",
              "      background-color: #434B5C;\n",
              "      box-shadow: 0px 1px 3px 1px rgba(0, 0, 0, 0.15);\n",
              "      filter: drop-shadow(0px 1px 2px rgba(0, 0, 0, 0.3));\n",
              "      fill: #FFFFFF;\n",
              "    }\n",
              "  </style>\n",
              "\n",
              "    <script>\n",
              "      const buttonEl =\n",
              "        document.querySelector('#df-5ad7e517-1b5b-4767-833b-ffd40ab11a2c button.colab-df-convert');\n",
              "      buttonEl.style.display =\n",
              "        google.colab.kernel.accessAllowed ? 'block' : 'none';\n",
              "\n",
              "      async function convertToInteractive(key) {\n",
              "        const element = document.querySelector('#df-5ad7e517-1b5b-4767-833b-ffd40ab11a2c');\n",
              "        const dataTable =\n",
              "          await google.colab.kernel.invokeFunction('convertToInteractive',\n",
              "                                                    [key], {});\n",
              "        if (!dataTable) return;\n",
              "\n",
              "        const docLinkHtml = 'Like what you see? Visit the ' +\n",
              "          '<a target=\"_blank\" href=https://colab.research.google.com/notebooks/data_table.ipynb>data table notebook</a>'\n",
              "          + ' to learn more about interactive tables.';\n",
              "        element.innerHTML = '';\n",
              "        dataTable['output_type'] = 'display_data';\n",
              "        await google.colab.output.renderOutput(dataTable, element);\n",
              "        const docLink = document.createElement('div');\n",
              "        docLink.innerHTML = docLinkHtml;\n",
              "        element.appendChild(docLink);\n",
              "      }\n",
              "    </script>\n",
              "  </div>\n",
              "\n",
              "    </div>\n",
              "  </div>\n"
            ]
          },
          "metadata": {},
          "execution_count": 74
        }
      ]
    },
    {
      "cell_type": "code",
      "source": [
        "clf.predict(example)"
      ],
      "metadata": {
        "colab": {
          "base_uri": "https://localhost:8080/"
        },
        "id": "RT_vufOELC0e",
        "outputId": "cfcfa506-179e-4343-bc50-d023375d366f"
      },
      "execution_count": 75,
      "outputs": [
        {
          "output_type": "execute_result",
          "data": {
            "text/plain": [
              "['yes']"
            ]
          },
          "metadata": {},
          "execution_count": 75
        }
      ]
    },
    {
      "cell_type": "markdown",
      "source": [
        "## Task 2\n",
        "Without using sklearn library, write a python script that will perform an n-fold ($n > 2$) cross-validation for naive-bayes classifier on iris data set.\n",
        "\n",
        "Than calculate accuracy, precision, recall and F-measure."
      ],
      "metadata": {
        "id": "APjlVe81IxOU"
      }
    },
    {
      "cell_type": "code",
      "source": [
        "# make n-fold classification with BayesianClassifier class on iris dataset\n",
        "\n",
        "\n",
        "dataset = datasets.load_iris()\n",
        "X_train , X_test , y_train , y_test = train_test_split (\n",
        "    dataset.data, dataset.target , test_size=0.4 , random_state =4)\n",
        "\n",
        "# split data into n folds\n",
        "n = 10\n",
        "X_folds = np.array_split(X_train, n)\n",
        "y_folds = np.array_split(y_train, n)\n",
        "\n",
        "# train and test n times\n",
        "acc =[]\n",
        "prec = []\n",
        "rec = []\n",
        "f1 = []\n",
        "\n",
        "for i in range(n):\n",
        "    # make train and test sets\n",
        "    X_train = np.concatenate(X_folds[:i] + X_folds[i+1:])\n",
        "    X_test  = np.array(X_folds[i])\n",
        "    y_train = np.concatenate(y_folds[:i] + y_folds[i+1:])\n",
        "    y_test  = np.array(y_folds[i])\n",
        "\n",
        "    # make df from train and test sets\n",
        "    df_train = pd.DataFrame( np.c_[X_train, y_train],\n",
        "                                columns=np.append(dataset.feature_names, 'target') )\n",
        "    df_test  = pd.DataFrame( np.c_[X_test,  y_test],\n",
        "                                columns=np.append(dataset.feature_names, 'target') )\n",
        "\n",
        "    # make model and predict\n",
        "    model = BayesianClassifier()\n",
        "    model.fit(X = df_train.drop(columns=['target']), y = df_train['target'])\n",
        "    predicted = model.predict(X = df_test.drop(columns=['target']))\n",
        "\n",
        "    # calculate metrics\n",
        "    acc.append( metrics.accuracy_score(y_test, predicted) )\n",
        "    prec.append( metrics.precision_score(y_test, predicted, average='macro') )\n",
        "    rec.append( metrics.recall_score(y_test, predicted, average='macro') )\n",
        "    f1.append( metrics.f1_score(y_test, predicted, average='macro') )\n",
        "\n",
        "# print metrics\n",
        "print('Accuracy:', np.mean(acc))\n",
        "print('Precision:', np.mean(prec))\n",
        "print('Recall:', np.mean(rec))\n",
        "print('F1:', np.mean(f1))"
      ],
      "metadata": {
        "id": "Gz7R6zwmINsY",
        "colab": {
          "base_uri": "https://localhost:8080/"
        },
        "outputId": "9e30495c-be90-463d-db14-684c0a343ac6"
      },
      "execution_count": 80,
      "outputs": [
        {
          "output_type": "stream",
          "name": "stdout",
          "text": [
            "Accuracy: 0.9444444444444444\n",
            "Precision: 0.9486111111111111\n",
            "Recall: 0.96\n",
            "F1: 0.9474651274651273\n"
          ]
        }
      ]
    }
  ]
}