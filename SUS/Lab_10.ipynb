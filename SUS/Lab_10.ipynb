{
  "cells": [
    {
      "cell_type": "markdown",
      "metadata": {
        "id": "0V3ANz45HfMg"
      },
      "source": [
        "# Pytorch intro\n"
      ]
    },
    {
      "cell_type": "markdown",
      "metadata": {
        "id": "-cEbffgy9NaG"
      },
      "source": [
        "##1. It all starts with a tensor\n",
        "\n",
        "Tensors are the fundamental data structure in PyTorch. A tensor is an array, that can have any number of dimensions.\n",
        "\n",
        "Python lists or tuples of numbers are collections of Python objects that are individually allocated in memory.  PyTorch tensors or NumPy arrays, on the other hand, are views over contiguous memory blocks containing unboxed C numeric types rather than Python objects. So they require less memory to be stored.\n",
        "\n",
        "In Python:\n",
        "- Numbers in Python are objects.\n",
        "- Lists in Python are meant for sequential collections of objects.\n",
        "- The Python interpreter is slow compared to optimized, compiled code.\n",
        "\n",
        "But PyTorch tensors provide efficient low-level implementations of numerical data structures and related operations on them.\n",
        "\n",
        "The default data type for tensors is 32-bit floating-point.\n",
        "\n",
        "More info here: https://pytorch.org/tutorials/beginner/blitz/tensor_tutorial.html#sphx-glr-beginner-blitz-tensor-tutorial-py"
      ]
    },
    {
      "cell_type": "code",
      "execution_count": 1,
      "metadata": {
        "colab": {
          "base_uri": "https://localhost:8080/"
        },
        "id": "aARUAF8iy8jb",
        "outputId": "01f8d8f6-c6f7-4afd-d7d2-5935951de64e"
      },
      "outputs": [
        {
          "output_type": "stream",
          "name": "stdout",
          "text": [
            "tensor([1., 1., 1.])\n",
            "tensor(1.)\n",
            "1.0\n"
          ]
        }
      ],
      "source": [
        "import torch\n",
        "\n",
        "a = torch.ones(3)\n",
        "print(a)\n",
        "print(a[1])\n",
        "print(float(a[1]))"
      ]
    },
    {
      "cell_type": "code",
      "execution_count": 2,
      "metadata": {
        "colab": {
          "base_uri": "https://localhost:8080/"
        },
        "id": "zH1iDuHV9sCv",
        "outputId": "29a8c097-a3ef-496a-fcc2-449c5eb31250"
      },
      "outputs": [
        {
          "output_type": "stream",
          "name": "stdout",
          "text": [
            "tensor([[4., 1.],\n",
            "        [5., 3.],\n",
            "        [2., 1.]])\n",
            "torch.Size([3, 2])\n",
            "tensor([[0., 0.],\n",
            "        [0., 0.],\n",
            "        [0., 0.]])\n"
          ]
        }
      ],
      "source": [
        "points = torch.tensor([[4.0, 1.0], [5.0, 3.0], [2.0, 1.0]])\n",
        "print(points)\n",
        "print(points.shape)\n",
        "# we can also initialize it this way\n",
        "points = torch.zeros(3, 2)\n",
        "print(points)"
      ]
    },
    {
      "cell_type": "markdown",
      "metadata": {
        "id": "tYbEhQ-7_MwH"
      },
      "source": [
        "The output of code cell below is another tensor that presents a different view of the same underlying data. The new tensor is a 1D tensor of size 2, referencing the values of the first row in the points tensor. Does this mean a new chunk of memory was allocated, values were copied into it, and the new memory was returned wrapped in a new tensor object? No :)\n",
        "\n",
        "Indexing works just as in python lists."
      ]
    },
    {
      "cell_type": "code",
      "execution_count": 3,
      "metadata": {
        "colab": {
          "base_uri": "https://localhost:8080/"
        },
        "id": "H1c2A_0y9sq_",
        "outputId": "3312a003-e37a-4e8d-b81c-01c0593a4732"
      },
      "outputs": [
        {
          "output_type": "execute_result",
          "data": {
            "text/plain": [
              "tensor([0., 0.])"
            ]
          },
          "metadata": {},
          "execution_count": 3
        }
      ],
      "source": [
        "points[0]"
      ]
    },
    {
      "cell_type": "code",
      "execution_count": 4,
      "metadata": {
        "colab": {
          "base_uri": "https://localhost:8080/"
        },
        "id": "eMvnEBI19vO3",
        "outputId": "c0b48eef-de24-4230-921c-c804cfc981fa"
      },
      "outputs": [
        {
          "output_type": "stream",
          "name": "stdout",
          "text": [
            "torch.float64\n",
            "torch.int16\n",
            "torch.float64\n",
            "torch.float64\n"
          ]
        }
      ],
      "source": [
        "# controling types in tensors\n",
        "double_points = torch.ones(10, 2, dtype=torch.double)\n",
        "print(double_points.dtype)\n",
        "\n",
        "short_points = torch.tensor([[1, 2], [3, 4]], dtype=torch.short)\n",
        "print(short_points.dtype)\n",
        "\n",
        "# there is also a casting operator\n",
        "double_points_v2 = torch.zeros(10, 2).double()\n",
        "print(double_points_v2.dtype)\n",
        "\n",
        "double_points_v3 = torch.zeros(10, 2).to(torch.double)\n",
        "print(double_points_v3.dtype)"
      ]
    },
    {
      "cell_type": "code",
      "execution_count": 5,
      "metadata": {
        "colab": {
          "base_uri": "https://localhost:8080/"
        },
        "id": "N5FEuGtJCnyK",
        "outputId": "bca7e6c5-4ee6-42ad-cd87-e557a423c1e7"
      },
      "outputs": [
        {
          "output_type": "stream",
          "name": "stdout",
          "text": [
            "tensor([[1., 1.],\n",
            "        [1., 1.],\n",
            "        [1., 1.]])\n",
            "tensor([[0., 0.],\n",
            "        [0., 0.],\n",
            "        [0., 0.]])\n"
          ]
        }
      ],
      "source": [
        "# there are also inplace operations, they are recognizable from a trailing underscore in their name\n",
        "a = torch.ones(3, 2)\n",
        "print(a)\n",
        "a.zero_()\n",
        "print(a)"
      ]
    },
    {
      "cell_type": "code",
      "execution_count": 6,
      "metadata": {
        "colab": {
          "base_uri": "https://localhost:8080/"
        },
        "id": "ZiNL3k49EkJS",
        "outputId": "5b631e97-4679-41ad-b1e8-d8d7efc54e26"
      },
      "outputs": [
        {
          "output_type": "stream",
          "name": "stdout",
          "text": [
            "cuda\n"
          ]
        }
      ],
      "source": [
        "# storing tensor in gpu\n",
        "# 1st check which device is available\n",
        "device = torch.device('cuda' if torch.cuda.is_available() else 'cpu')\n",
        "print(device)"
      ]
    },
    {
      "cell_type": "code",
      "execution_count": 7,
      "metadata": {
        "id": "uPBbotldKUxo"
      },
      "outputs": [],
      "source": [
        "# if not cuda, but cpu, change runtime type to GPU\n",
        "points_gpu = torch.tensor([[4.0, 1.0], [5.0, 3.0], [2.0, 1.0]], device='cuda')"
      ]
    },
    {
      "cell_type": "code",
      "execution_count": 8,
      "metadata": {
        "id": "9SkuLDQmKxRE"
      },
      "outputs": [],
      "source": [
        "points_gpu = points.to(device='cuda')"
      ]
    },
    {
      "cell_type": "markdown",
      "metadata": {
        "id": "yiLl9amdK8UW"
      },
      "source": [
        "Doing so returns a new tensor that has the same numerical data, but stored in the RAM of the GPU, rather than in regular system RAM.  At this point, any operation performed on the tensor is carried out on the GPU."
      ]
    },
    {
      "cell_type": "markdown",
      "metadata": {
        "id": "LvWlbi_zV7IQ"
      },
      "source": [
        "## 2. Handling different types of data"
      ]
    },
    {
      "cell_type": "markdown",
      "metadata": {
        "id": "mx37FamxWGpP"
      },
      "source": [
        "### 2.1 Images\n",
        "\n",
        "An image is represented as a collection of scalars arranged in a regular grid with a height and a width (in pixels). The most common way to encode colors into numbers is RGB, where a color is defined by three numbers representing the intensity of red, green, and blue.\n",
        "\n",
        "\n",
        "*kursywa*"
      ]
    },
    {
      "cell_type": "code",
      "execution_count": 9,
      "metadata": {
        "colab": {
          "base_uri": "https://localhost:8080/"
        },
        "id": "VFJ_Ec1LZfUs",
        "outputId": "75c5c760-9918-473f-d6ed-9ccffbd548e0"
      },
      "outputs": [
        {
          "output_type": "stream",
          "name": "stdout",
          "text": [
            "--2023-09-18 19:40:53--  https://storage.googleapis.com/mledu-datasets/cats_and_dogs_filtered.zip\n",
            "Resolving storage.googleapis.com (storage.googleapis.com)... 142.251.175.207, 74.125.24.207, 142.251.10.207, ...\n",
            "Connecting to storage.googleapis.com (storage.googleapis.com)|142.251.175.207|:443... connected.\n",
            "HTTP request sent, awaiting response... 200 OK\n",
            "Length: 68606236 (65M) [application/zip]\n",
            "Saving to: ‘/tmp/cats_and_dogs_filtered.zip’\n",
            "\n",
            "/tmp/cats_and_dogs_ 100%[===================>]  65.43M  19.7MB/s    in 4.8s    \n",
            "\n",
            "2023-09-18 19:40:58 (13.7 MB/s) - ‘/tmp/cats_and_dogs_filtered.zip’ saved [68606236/68606236]\n",
            "\n"
          ]
        }
      ],
      "source": [
        "!wget --no-check-certificate \\\n",
        "    https://storage.googleapis.com/mledu-datasets/cats_and_dogs_filtered.zip \\\n",
        "    -O /tmp/cats_and_dogs_filtered.zip"
      ]
    },
    {
      "cell_type": "code",
      "execution_count": 10,
      "metadata": {
        "colab": {
          "base_uri": "https://localhost:8080/"
        },
        "id": "ZnGSVRgVZkq0",
        "outputId": "e8374468-65ce-4f18-e2ff-760ff3f16cef"
      },
      "outputs": [
        {
          "output_type": "stream",
          "name": "stdout",
          "text": [
            "['cat.28.jpg', 'cat.169.jpg', 'cat.90.jpg', 'cat.365.jpg', 'cat.726.jpg', 'cat.379.jpg', 'cat.957.jpg', 'cat.333.jpg', 'cat.20.jpg', 'cat.679.jpg']\n",
            "['dog.0.jpg', 'dog.1.jpg', 'dog.10.jpg', 'dog.100.jpg', 'dog.101.jpg', 'dog.102.jpg', 'dog.103.jpg', 'dog.104.jpg', 'dog.105.jpg', 'dog.106.jpg']\n"
          ]
        }
      ],
      "source": [
        "import os\n",
        "import zipfile\n",
        "\n",
        "local_zip = '/tmp/cats_and_dogs_filtered.zip'\n",
        "zip_ref = zipfile.ZipFile(local_zip, 'r')\n",
        "zip_ref.extractall('/tmp')\n",
        "zip_ref.close()\n",
        "\n",
        "base_dir = '/tmp/cats_and_dogs_filtered'\n",
        "train_dir = os.path.join(base_dir, 'train')\n",
        "validation_dir = os.path.join(base_dir, 'validation')\n",
        "\n",
        "# Directory with our training cat pictures\n",
        "train_cats_dir = os.path.join(train_dir, 'cats')\n",
        "\n",
        "# Directory with our training dog pictures\n",
        "train_dogs_dir = os.path.join(train_dir, 'dogs')\n",
        "\n",
        "# Directory with our validation cat pictures\n",
        "validation_cats_dir = os.path.join(validation_dir, 'cats')\n",
        "\n",
        "# Directory with our validation dog pictures\n",
        "validation_dogs_dir = os.path.join(validation_dir, 'dogs')\n",
        "\n",
        "train_cat_fnames = os.listdir(train_cats_dir)\n",
        "print(train_cat_fnames[:10])\n",
        "\n",
        "train_dog_fnames = os.listdir(train_dogs_dir)\n",
        "train_dog_fnames.sort()\n",
        "print(train_dog_fnames[:10])"
      ]
    },
    {
      "cell_type": "code",
      "execution_count": 11,
      "metadata": {
        "colab": {
          "base_uri": "https://localhost:8080/"
        },
        "id": "bVH4KMZ2aIuX",
        "outputId": "5cea3896-6725-4237-dad4-56cbf4d3e051"
      },
      "outputs": [
        {
          "output_type": "stream",
          "name": "stdout",
          "text": [
            "total training cat images: 1000\n",
            "total training dog images: 1000\n",
            "total validation cat images: 500\n",
            "total validation dog images: 500\n"
          ]
        }
      ],
      "source": [
        "print('total training cat images:', len(os.listdir(train_cats_dir)))\n",
        "print('total training dog images:', len(os.listdir(train_dogs_dir)))\n",
        "print('total validation cat images:', len(os.listdir(validation_cats_dir)))\n",
        "print('total validation dog images:', len(os.listdir(validation_dogs_dir)))"
      ]
    },
    {
      "cell_type": "code",
      "execution_count": 12,
      "metadata": {
        "colab": {
          "base_uri": "https://localhost:8080/",
          "height": 35
        },
        "id": "jbIICHITaf7o",
        "outputId": "de083109-edae-4eda-8085-e75e228d2ba2"
      },
      "outputs": [
        {
          "output_type": "execute_result",
          "data": {
            "text/plain": [
              "'/tmp/cats_and_dogs_filtered/train'"
            ],
            "application/vnd.google.colaboratory.intrinsic+json": {
              "type": "string"
            }
          },
          "metadata": {},
          "execution_count": 12
        }
      ],
      "source": [
        "train_dir"
      ]
    },
    {
      "cell_type": "code",
      "execution_count": 13,
      "metadata": {
        "id": "vt9eJhPoK35X"
      },
      "outputs": [],
      "source": [
        "%matplotlib inline\n",
        "\n",
        "import matplotlib.pyplot as plt\n",
        "import torch\n",
        "from torchvision import datasets, transforms\n",
        "\n",
        "data_path = train_dir\n",
        "\n",
        "transform = transforms.Compose([transforms.Resize(255),\n",
        "                                 transforms.CenterCrop(224),\n",
        "                                 transforms.ToTensor()])\n",
        "\n",
        "train_dataset = datasets.ImageFolder(data_path, transform=transform)"
      ]
    },
    {
      "cell_type": "markdown",
      "metadata": {
        "id": "UgSYPwoIYaCC"
      },
      "source": [
        "`data_path` is the file path to the data directory and transform is a list of processing steps built with the transforms module from torchvision. ImageFolder expects the files and directories to be constructed like:\n",
        "```\n",
        "root/dog/xxx.png\n",
        "root/dog/xxy.png\n",
        "root/dog/xxz.png\n",
        "\n",
        "root/cat/123.png\n",
        "root/cat/nsdf3.png\n",
        "root/cat/asd932_.png\n",
        "```\n",
        "where each class has it's own directory (cat and dog) for the images."
      ]
    },
    {
      "cell_type": "code",
      "execution_count": 14,
      "metadata": {
        "colab": {
          "base_uri": "https://localhost:8080/"
        },
        "id": "akqzo1DsYpt_",
        "outputId": "5d4519c0-f17c-46ad-a09c-e2bf614cee47"
      },
      "outputs": [
        {
          "output_type": "execute_result",
          "data": {
            "text/plain": [
              "Dataset ImageFolder\n",
              "    Number of datapoints: 2000\n",
              "    Root location: /tmp/cats_and_dogs_filtered/train\n",
              "    StandardTransform\n",
              "Transform: Compose(\n",
              "               Resize(size=255, interpolation=bilinear, max_size=None, antialias=warn)\n",
              "               CenterCrop(size=(224, 224))\n",
              "               ToTensor()\n",
              "           )"
            ]
          },
          "metadata": {},
          "execution_count": 14
        }
      ],
      "source": [
        "train_dataset"
      ]
    },
    {
      "cell_type": "code",
      "execution_count": 15,
      "metadata": {
        "id": "ikKmyBfub0Z5"
      },
      "outputs": [],
      "source": [
        "batch_size = 4\n",
        "trainloader = torch.utils.data.DataLoader(train_dataset, batch_size=batch_size, shuffle=True)"
      ]
    },
    {
      "cell_type": "code",
      "execution_count": 16,
      "metadata": {
        "id": "L-NO02vSdTF8"
      },
      "outputs": [],
      "source": [
        "classes = ('cat', 'dog')"
      ]
    },
    {
      "cell_type": "code",
      "execution_count": 20,
      "metadata": {
        "colab": {
          "base_uri": "https://localhost:8080/",
          "height": 207
        },
        "id": "jfVmUeStdG-l",
        "outputId": "7ad8668c-bd4f-4232-a882-ffc3acc18934"
      },
      "outputs": [
        {
          "output_type": "display_data",
          "data": {
            "text/plain": [
              "<Figure size 640x480 with 1 Axes>"
            ],
            "image/png": "[encoded data removed]"
          },
          "metadata": {}
        },
        {
          "output_type": "stream",
          "name": "stdout",
          "text": [
            "cat   dog   cat   dog  \n"
          ]
        }
      ],
      "source": [
        "import matplotlib.pyplot as plt\n",
        "import torchvision\n",
        "import numpy as np\n",
        "\n",
        "# functions to show an image\n",
        "\n",
        "\n",
        "def imshow(img):\n",
        "    img = img / 2 + 0.5     # unnormalize\n",
        "    npimg = img.numpy()\n",
        "    plt.imshow(np.transpose(npimg, (1, 2, 0)))\n",
        "    plt.show()\n",
        "\n",
        "\n",
        "# get some random training images\n",
        "dataiter = iter(trainloader)\n",
        "images, labels = next(dataiter)\n",
        "\n",
        "# show images\n",
        "imshow(torchvision.utils.make_grid(images))\n",
        "# print labels\n",
        "print(' '.join(f'{classes[labels[j]]:5s}' for j in range(batch_size)))"
      ]
    },
    {
      "cell_type": "markdown",
      "metadata": {
        "id": "odj91nVneKXZ"
      },
      "source": [
        "### 2.2 Tabular data\n",
        "\n",
        "Columns may contain numerical values or labels, like a string expressing an attribute of the sample, like “blue.”\n",
        "\n",
        "Information in PyTorch is typically encoded as a number, typically floating-point (though integer types and Boolean are supported as well). Neural networks are mathematical entities that take real numbers as inputs and produce real numbers as output.\n"
      ]
    },
    {
      "cell_type": "code",
      "execution_count": 21,
      "metadata": {
        "colab": {
          "base_uri": "https://localhost:8080/",
          "height": 206
        },
        "id": "4OK5rv3xdIHW",
        "outputId": "2e9ba697-b979-42fb-8284-2366507166cc"
      },
      "outputs": [
        {
          "output_type": "execute_result",
          "data": {
            "text/plain": [
              "   alcohol  malic_acid   ash  alcalinity_of_ash  magnesium  total_phenols  \\\n",
              "0    14.23        1.71  2.43               15.6      127.0           2.80   \n",
              "1    13.20        1.78  2.14               11.2      100.0           2.65   \n",
              "2    13.16        2.36  2.67               18.6      101.0           2.80   \n",
              "3    14.37        1.95  2.50               16.8      113.0           3.85   \n",
              "4    13.24        2.59  2.87               21.0      118.0           2.80   \n",
              "\n",
              "   flavanoids  nonflavanoid_phenols  proanthocyanins  color_intensity   hue  \\\n",
              "0        3.06                  0.28             2.29             5.64  1.04   \n",
              "1        2.76                  0.26             1.28             4.38  1.05   \n",
              "2        3.24                  0.30             2.81             5.68  1.03   \n",
              "3        3.49                  0.24             2.18             7.80  0.86   \n",
              "4        2.69                  0.39             1.82             4.32  1.04   \n",
              "\n",
              "   od280/od315_of_diluted_wines  proline  \n",
              "0                          3.92   1065.0  \n",
              "1                          3.40   1050.0  \n",
              "2                          3.17   1185.0  \n",
              "3                          3.45   1480.0  \n",
              "4                          2.93    735.0  "
            ],
            "text/html": [
              "\n",
              "  <div id=\"df-61bce2cf-b470-44e7-832f-15c1a41ab929\" class=\"colab-df-container\">\n",
              "    <div>\n",
              "<style scoped>\n",
              "    .dataframe tbody tr th:only-of-type {\n",
              "        vertical-align: middle;\n",
              "    }\n",
              "\n",
              "    .dataframe tbody tr th {\n",
              "        vertical-align: top;\n",
              "    }\n",
              "\n",
              "    .dataframe thead th {\n",
              "        text-align: right;\n",
              "    }\n",
              "</style>\n",
              "<table border=\"1\" class=\"dataframe\">\n",
              "  <thead>\n",
              "    <tr style=\"text-align: right;\">\n",
              "      <th></th>\n",
              "      <th>alcohol</th>\n",
              "      <th>malic_acid</th>\n",
              "      <th>ash</th>\n",
              "      <th>alcalinity_of_ash</th>\n",
              "      <th>magnesium</th>\n",
              "      <th>total_phenols</th>\n",
              "      <th>flavanoids</th>\n",
              "      <th>nonflavanoid_phenols</th>\n",
              "      <th>proanthocyanins</th>\n",
              "      <th>color_intensity</th>\n",
              "      <th>hue</th>\n",
              "      <th>od280/od315_of_diluted_wines</th>\n",
              "      <th>proline</th>\n",
              "    </tr>\n",
              "  </thead>\n",
              "  <tbody>\n",
              "    <tr>\n",
              "      <th>0</th>\n",
              "      <td>14.23</td>\n",
              "      <td>1.71</td>\n",
              "      <td>2.43</td>\n",
              "      <td>15.6</td>\n",
              "      <td>127.0</td>\n",
              "      <td>2.80</td>\n",
              "      <td>3.06</td>\n",
              "      <td>0.28</td>\n",
              "      <td>2.29</td>\n",
              "      <td>5.64</td>\n",
              "      <td>1.04</td>\n",
              "      <td>3.92</td>\n",
              "      <td>1065.0</td>\n",
              "    </tr>\n",
              "    <tr>\n",
              "      <th>1</th>\n",
              "      <td>13.20</td>\n",
              "      <td>1.78</td>\n",
              "      <td>2.14</td>\n",
              "      <td>11.2</td>\n",
              "      <td>100.0</td>\n",
              "      <td>2.65</td>\n",
              "      <td>2.76</td>\n",
              "      <td>0.26</td>\n",
              "      <td>1.28</td>\n",
              "      <td>4.38</td>\n",
              "      <td>1.05</td>\n",
              "      <td>3.40</td>\n",
              "      <td>1050.0</td>\n",
              "    </tr>\n",
              "    <tr>\n",
              "      <th>2</th>\n",
              "      <td>13.16</td>\n",
              "      <td>2.36</td>\n",
              "      <td>2.67</td>\n",
              "      <td>18.6</td>\n",
              "      <td>101.0</td>\n",
              "      <td>2.80</td>\n",
              "      <td>3.24</td>\n",
              "      <td>0.30</td>\n",
              "      <td>2.81</td>\n",
              "      <td>5.68</td>\n",
              "      <td>1.03</td>\n",
              "      <td>3.17</td>\n",
              "      <td>1185.0</td>\n",
              "    </tr>\n",
              "    <tr>\n",
              "      <th>3</th>\n",
              "      <td>14.37</td>\n",
              "      <td>1.95</td>\n",
              "      <td>2.50</td>\n",
              "      <td>16.8</td>\n",
              "      <td>113.0</td>\n",
              "      <td>3.85</td>\n",
              "      <td>3.49</td>\n",
              "      <td>0.24</td>\n",
              "      <td>2.18</td>\n",
              "      <td>7.80</td>\n",
              "      <td>0.86</td>\n",
              "      <td>3.45</td>\n",
              "      <td>1480.0</td>\n",
              "    </tr>\n",
              "    <tr>\n",
              "      <th>4</th>\n",
              "      <td>13.24</td>\n",
              "      <td>2.59</td>\n",
              "      <td>2.87</td>\n",
              "      <td>21.0</td>\n",
              "      <td>118.0</td>\n",
              "      <td>2.80</td>\n",
              "      <td>2.69</td>\n",
              "      <td>0.39</td>\n",
              "      <td>1.82</td>\n",
              "      <td>4.32</td>\n",
              "      <td>1.04</td>\n",
              "      <td>2.93</td>\n",
              "      <td>735.0</td>\n",
              "    </tr>\n",
              "  </tbody>\n",
              "</table>\n",
              "</div>\n",
              "    <div class=\"colab-df-buttons\">\n",
              "\n",
              "  <div class=\"colab-df-container\">\n",
              "    <button class=\"colab-df-convert\" onclick=\"convertToInteractive('df-61bce2cf-b470-44e7-832f-15c1a41ab929')\"\n",
              "            title=\"Convert this dataframe to an interactive table.\"\n",
              "            style=\"display:none;\">\n",
              "\n",
              "  <svg xmlns=\"http://www.w3.org/2000/svg\" height=\"24px\" viewBox=\"0 -960 960 960\">\n",
              "    <path d=\"M120-120v-720h720v720H120Zm60-500h600v-160H180v160Zm220 220h160v-160H400v160Zm0 220h160v-160H400v160ZM180-400h160v-160H180v160Zm440 0h160v-160H620v160ZM180-180h160v-160H180v160Zm440 0h160v-160H620v160Z\"/>\n",
              "  </svg>\n",
              "    </button>\n",
              "\n",
              "  <style>\n",
              "    .colab-df-container {\n",
              "      display:flex;\n",
              "      gap: 12px;\n",
              "    }\n",
              "\n",
              "    .colab-df-convert {\n",
              "      background-color: #E8F0FE;\n",
              "      border: none;\n",
              "      border-radius: 50%;\n",
              "      cursor: pointer;\n",
              "      display: none;\n",
              "      fill: #1967D2;\n",
              "      height: 32px;\n",
              "      padding: 0 0 0 0;\n",
              "      width: 32px;\n",
              "    }\n",
              "\n",
              "    .colab-df-convert:hover {\n",
              "      background-color: #E2EBFA;\n",
              "      box-shadow: 0px 1px 2px rgba(60, 64, 67, 0.3), 0px 1px 3px 1px rgba(60, 64, 67, 0.15);\n",
              "      fill: #174EA6;\n",
              "    }\n",
              "\n",
              "    .colab-df-buttons div {\n",
              "      margin-bottom: 4px;\n",
              "    }\n",
              "\n",
              "    [theme=dark] .colab-df-convert {\n",
              "      background-color: #3B4455;\n",
              "      fill: #D2E3FC;\n",
              "    }\n",
              "\n",
              "    [theme=dark] .colab-df-convert:hover {\n",
              "      background-color: #434B5C;\n",
              "      box-shadow: 0px 1px 3px 1px rgba(0, 0, 0, 0.15);\n",
              "      filter: drop-shadow(0px 1px 2px rgba(0, 0, 0, 0.3));\n",
              "      fill: #FFFFFF;\n",
              "    }\n",
              "  </style>\n",
              "\n",
              "    <script>\n",
              "      const buttonEl =\n",
              "        document.querySelector('#df-61bce2cf-b470-44e7-832f-15c1a41ab929 button.colab-df-convert');\n",
              "      buttonEl.style.display =\n",
              "        google.colab.kernel.accessAllowed ? 'block' : 'none';\n",
              "\n",
              "      async function convertToInteractive(key) {\n",
              "        const element = document.querySelector('#df-61bce2cf-b470-44e7-832f-15c1a41ab929');\n",
              "        const dataTable =\n",
              "          await google.colab.kernel.invokeFunction('convertToInteractive',\n",
              "                                                    [key], {});\n",
              "        if (!dataTable) return;\n",
              "\n",
              "        const docLinkHtml = 'Like what you see? Visit the ' +\n",
              "          '<a target=\"_blank\" href=https://colab.research.google.com/notebooks/data_table.ipynb>data table notebook</a>'\n",
              "          + ' to learn more about interactive tables.';\n",
              "        element.innerHTML = '';\n",
              "        dataTable['output_type'] = 'display_data';\n",
              "        await google.colab.output.renderOutput(dataTable, element);\n",
              "        const docLink = document.createElement('div');\n",
              "        docLink.innerHTML = docLinkHtml;\n",
              "        element.appendChild(docLink);\n",
              "      }\n",
              "    </script>\n",
              "  </div>\n",
              "\n",
              "\n",
              "<div id=\"df-000facfd-7641-4be2-81ec-1943b78c6318\">\n",
              "  <button class=\"colab-df-quickchart\" onclick=\"quickchart('df-000facfd-7641-4be2-81ec-1943b78c6318')\"\n",
              "            title=\"Suggest charts.\"\n",
              "            style=\"display:none;\">\n",
              "\n",
              "<svg xmlns=\"http://www.w3.org/2000/svg\" height=\"24px\"viewBox=\"0 0 24 24\"\n",
              "     width=\"24px\">\n",
              "    <g>\n",
              "        <path d=\"M19 3H5c-1.1 0-2 .9-2 2v14c0 1.1.9 2 2 2h14c1.1 0 2-.9 2-2V5c0-1.1-.9-2-2-2zM9 17H7v-7h2v7zm4 0h-2V7h2v10zm4 0h-2v-4h2v4z\"/>\n",
              "    </g>\n",
              "</svg>\n",
              "  </button>\n",
              "\n",
              "<style>\n",
              "  .colab-df-quickchart {\n",
              "      --bg-color: #E8F0FE;\n",
              "      --fill-color: #1967D2;\n",
              "      --hover-bg-color: #E2EBFA;\n",
              "      --hover-fill-color: #174EA6;\n",
              "      --disabled-fill-color: #AAA;\n",
              "      --disabled-bg-color: #DDD;\n",
              "  }\n",
              "\n",
              "  [theme=dark] .colab-df-quickchart {\n",
              "      --bg-color: #3B4455;\n",
              "      --fill-color: #D2E3FC;\n",
              "      --hover-bg-color: #434B5C;\n",
              "      --hover-fill-color: #FFFFFF;\n",
              "      --disabled-bg-color: #3B4455;\n",
              "      --disabled-fill-color: #666;\n",
              "  }\n",
              "\n",
              "  .colab-df-quickchart {\n",
              "    background-color: var(--bg-color);\n",
              "    border: none;\n",
              "    border-radius: 50%;\n",
              "    cursor: pointer;\n",
              "    display: none;\n",
              "    fill: var(--fill-color);\n",
              "    height: 32px;\n",
              "    padding: 0;\n",
              "    width: 32px;\n",
              "  }\n",
              "\n",
              "  .colab-df-quickchart:hover {\n",
              "    background-color: var(--hover-bg-color);\n",
              "    box-shadow: 0 1px 2px rgba(60, 64, 67, 0.3), 0 1px 3px 1px rgba(60, 64, 67, 0.15);\n",
              "    fill: var(--button-hover-fill-color);\n",
              "  }\n",
              "\n",
              "  .colab-df-quickchart-complete:disabled,\n",
              "  .colab-df-quickchart-complete:disabled:hover {\n",
              "    background-color: var(--disabled-bg-color);\n",
              "    fill: var(--disabled-fill-color);\n",
              "    box-shadow: none;\n",
              "  }\n",
              "\n",
              "  .colab-df-spinner {\n",
              "    border: 2px solid var(--fill-color);\n",
              "    border-color: transparent;\n",
              "    border-bottom-color: var(--fill-color);\n",
              "    animation:\n",
              "      spin 1s steps(1) infinite;\n",
              "  }\n",
              "\n",
              "  @keyframes spin {\n",
              "    0% {\n",
              "      border-color: transparent;\n",
              "      border-bottom-color: var(--fill-color);\n",
              "      border-left-color: var(--fill-color);\n",
              "    }\n",
              "    20% {\n",
              "      border-color: transparent;\n",
              "      border-left-color: var(--fill-color);\n",
              "      border-top-color: var(--fill-color);\n",
              "    }\n",
              "    30% {\n",
              "      border-color: transparent;\n",
              "      border-left-color: var(--fill-color);\n",
              "      border-top-color: var(--fill-color);\n",
              "      border-right-color: var(--fill-color);\n",
              "    }\n",
              "    40% {\n",
              "      border-color: transparent;\n",
              "      border-right-color: var(--fill-color);\n",
              "      border-top-color: var(--fill-color);\n",
              "    }\n",
              "    60% {\n",
              "      border-color: transparent;\n",
              "      border-right-color: var(--fill-color);\n",
              "    }\n",
              "    80% {\n",
              "      border-color: transparent;\n",
              "      border-right-color: var(--fill-color);\n",
              "      border-bottom-color: var(--fill-color);\n",
              "    }\n",
              "    90% {\n",
              "      border-color: transparent;\n",
              "      border-bottom-color: var(--fill-color);\n",
              "    }\n",
              "  }\n",
              "</style>\n",
              "\n",
              "  <script>\n",
              "    async function quickchart(key) {\n",
              "      const quickchartButtonEl =\n",
              "        document.querySelector('#' + key + ' button');\n",
              "      quickchartButtonEl.disabled = true;  // To prevent multiple clicks.\n",
              "      quickchartButtonEl.classList.add('colab-df-spinner');\n",
              "      try {\n",
              "        const charts = await google.colab.kernel.invokeFunction(\n",
              "            'suggestCharts', [key], {});\n",
              "      } catch (error) {\n",
              "        console.error('Error during call to suggestCharts:', error);\n",
              "      }\n",
              "      quickchartButtonEl.classList.remove('colab-df-spinner');\n",
              "      quickchartButtonEl.classList.add('colab-df-quickchart-complete');\n",
              "    }\n",
              "    (() => {\n",
              "      let quickchartButtonEl =\n",
              "        document.querySelector('#df-000facfd-7641-4be2-81ec-1943b78c6318 button');\n",
              "      quickchartButtonEl.style.display =\n",
              "        google.colab.kernel.accessAllowed ? 'block' : 'none';\n",
              "    })();\n",
              "  </script>\n",
              "</div>\n",
              "    </div>\n",
              "  </div>\n"
            ]
          },
          "metadata": {},
          "execution_count": 21
        }
      ],
      "source": [
        "import pandas as pd\n",
        "from sklearn.datasets import load_wine\n",
        "\n",
        "wine = load_wine()\n",
        "df = pd.DataFrame(wine.data, columns=wine.feature_names)\n",
        "y = pd.DataFrame(wine.target, columns=['target'])\n",
        "df.head()"
      ]
    },
    {
      "cell_type": "code",
      "execution_count": 22,
      "metadata": {
        "colab": {
          "base_uri": "https://localhost:8080/",
          "height": 424
        },
        "id": "0X0NjlBukbnB",
        "outputId": "39c3415b-1a44-48c4-bcc3-4b1fd08e471f"
      },
      "outputs": [
        {
          "output_type": "execute_result",
          "data": {
            "text/plain": [
              "     target\n",
              "0         0\n",
              "1         0\n",
              "2         0\n",
              "3         0\n",
              "4         0\n",
              "..      ...\n",
              "173       2\n",
              "174       2\n",
              "175       2\n",
              "176       2\n",
              "177       2\n",
              "\n",
              "[178 rows x 1 columns]"
            ],
            "text/html": [
              "\n",
              "  <div id=\"df-9b0425df-92eb-44ad-bbaf-ece2ab0fe66b\" class=\"colab-df-container\">\n",
              "    <div>\n",
              "<style scoped>\n",
              "    .dataframe tbody tr th:only-of-type {\n",
              "        vertical-align: middle;\n",
              "    }\n",
              "\n",
              "    .dataframe tbody tr th {\n",
              "        vertical-align: top;\n",
              "    }\n",
              "\n",
              "    .dataframe thead th {\n",
              "        text-align: right;\n",
              "    }\n",
              "</style>\n",
              "<table border=\"1\" class=\"dataframe\">\n",
              "  <thead>\n",
              "    <tr style=\"text-align: right;\">\n",
              "      <th></th>\n",
              "      <th>target</th>\n",
              "    </tr>\n",
              "  </thead>\n",
              "  <tbody>\n",
              "    <tr>\n",
              "      <th>0</th>\n",
              "      <td>0</td>\n",
              "    </tr>\n",
              "    <tr>\n",
              "      <th>1</th>\n",
              "      <td>0</td>\n",
              "    </tr>\n",
              "    <tr>\n",
              "      <th>2</th>\n",
              "      <td>0</td>\n",
              "    </tr>\n",
              "    <tr>\n",
              "      <th>3</th>\n",
              "      <td>0</td>\n",
              "    </tr>\n",
              "    <tr>\n",
              "      <th>4</th>\n",
              "      <td>0</td>\n",
              "    </tr>\n",
              "    <tr>\n",
              "      <th>...</th>\n",
              "      <td>...</td>\n",
              "    </tr>\n",
              "    <tr>\n",
              "      <th>173</th>\n",
              "      <td>2</td>\n",
              "    </tr>\n",
              "    <tr>\n",
              "      <th>174</th>\n",
              "      <td>2</td>\n",
              "    </tr>\n",
              "    <tr>\n",
              "      <th>175</th>\n",
              "      <td>2</td>\n",
              "    </tr>\n",
              "    <tr>\n",
              "      <th>176</th>\n",
              "      <td>2</td>\n",
              "    </tr>\n",
              "    <tr>\n",
              "      <th>177</th>\n",
              "      <td>2</td>\n",
              "    </tr>\n",
              "  </tbody>\n",
              "</table>\n",
              "<p>178 rows × 1 columns</p>\n",
              "</div>\n",
              "    <div class=\"colab-df-buttons\">\n",
              "\n",
              "  <div class=\"colab-df-container\">\n",
              "    <button class=\"colab-df-convert\" onclick=\"convertToInteractive('df-9b0425df-92eb-44ad-bbaf-ece2ab0fe66b')\"\n",
              "            title=\"Convert this dataframe to an interactive table.\"\n",
              "            style=\"display:none;\">\n",
              "\n",
              "  <svg xmlns=\"http://www.w3.org/2000/svg\" height=\"24px\" viewBox=\"0 -960 960 960\">\n",
              "    <path d=\"M120-120v-720h720v720H120Zm60-500h600v-160H180v160Zm220 220h160v-160H400v160Zm0 220h160v-160H400v160ZM180-400h160v-160H180v160Zm440 0h160v-160H620v160ZM180-180h160v-160H180v160Zm440 0h160v-160H620v160Z\"/>\n",
              "  </svg>\n",
              "    </button>\n",
              "\n",
              "  <style>\n",
              "    .colab-df-container {\n",
              "      display:flex;\n",
              "      gap: 12px;\n",
              "    }\n",
              "\n",
              "    .colab-df-convert {\n",
              "      background-color: #E8F0FE;\n",
              "      border: none;\n",
              "      border-radius: 50%;\n",
              "      cursor: pointer;\n",
              "      display: none;\n",
              "      fill: #1967D2;\n",
              "      height: 32px;\n",
              "      padding: 0 0 0 0;\n",
              "      width: 32px;\n",
              "    }\n",
              "\n",
              "    .colab-df-convert:hover {\n",
              "      background-color: #E2EBFA;\n",
              "      box-shadow: 0px 1px 2px rgba(60, 64, 67, 0.3), 0px 1px 3px 1px rgba(60, 64, 67, 0.15);\n",
              "      fill: #174EA6;\n",
              "    }\n",
              "\n",
              "    .colab-df-buttons div {\n",
              "      margin-bottom: 4px;\n",
              "    }\n",
              "\n",
              "    [theme=dark] .colab-df-convert {\n",
              "      background-color: #3B4455;\n",
              "      fill: #D2E3FC;\n",
              "    }\n",
              "\n",
              "    [theme=dark] .colab-df-convert:hover {\n",
              "      background-color: #434B5C;\n",
              "      box-shadow: 0px 1px 3px 1px rgba(0, 0, 0, 0.15);\n",
              "      filter: drop-shadow(0px 1px 2px rgba(0, 0, 0, 0.3));\n",
              "      fill: #FFFFFF;\n",
              "    }\n",
              "  </style>\n",
              "\n",
              "    <script>\n",
              "      const buttonEl =\n",
              "        document.querySelector('#df-9b0425df-92eb-44ad-bbaf-ece2ab0fe66b button.colab-df-convert');\n",
              "      buttonEl.style.display =\n",
              "        google.colab.kernel.accessAllowed ? 'block' : 'none';\n",
              "\n",
              "      async function convertToInteractive(key) {\n",
              "        const element = document.querySelector('#df-9b0425df-92eb-44ad-bbaf-ece2ab0fe66b');\n",
              "        const dataTable =\n",
              "          await google.colab.kernel.invokeFunction('convertToInteractive',\n",
              "                                                    [key], {});\n",
              "        if (!dataTable) return;\n",
              "\n",
              "        const docLinkHtml = 'Like what you see? Visit the ' +\n",
              "          '<a target=\"_blank\" href=https://colab.research.google.com/notebooks/data_table.ipynb>data table notebook</a>'\n",
              "          + ' to learn more about interactive tables.';\n",
              "        element.innerHTML = '';\n",
              "        dataTable['output_type'] = 'display_data';\n",
              "        await google.colab.output.renderOutput(dataTable, element);\n",
              "        const docLink = document.createElement('div');\n",
              "        docLink.innerHTML = docLinkHtml;\n",
              "        element.appendChild(docLink);\n",
              "      }\n",
              "    </script>\n",
              "  </div>\n",
              "\n",
              "\n",
              "<div id=\"df-c0702576-9f03-4b7d-988c-4b858344e45b\">\n",
              "  <button class=\"colab-df-quickchart\" onclick=\"quickchart('df-c0702576-9f03-4b7d-988c-4b858344e45b')\"\n",
              "            title=\"Suggest charts.\"\n",
              "            style=\"display:none;\">\n",
              "\n",
              "<svg xmlns=\"http://www.w3.org/2000/svg\" height=\"24px\"viewBox=\"0 0 24 24\"\n",
              "     width=\"24px\">\n",
              "    <g>\n",
              "        <path d=\"M19 3H5c-1.1 0-2 .9-2 2v14c0 1.1.9 2 2 2h14c1.1 0 2-.9 2-2V5c0-1.1-.9-2-2-2zM9 17H7v-7h2v7zm4 0h-2V7h2v10zm4 0h-2v-4h2v4z\"/>\n",
              "    </g>\n",
              "</svg>\n",
              "  </button>\n",
              "\n",
              "<style>\n",
              "  .colab-df-quickchart {\n",
              "      --bg-color: #E8F0FE;\n",
              "      --fill-color: #1967D2;\n",
              "      --hover-bg-color: #E2EBFA;\n",
              "      --hover-fill-color: #174EA6;\n",
              "      --disabled-fill-color: #AAA;\n",
              "      --disabled-bg-color: #DDD;\n",
              "  }\n",
              "\n",
              "  [theme=dark] .colab-df-quickchart {\n",
              "      --bg-color: #3B4455;\n",
              "      --fill-color: #D2E3FC;\n",
              "      --hover-bg-color: #434B5C;\n",
              "      --hover-fill-color: #FFFFFF;\n",
              "      --disabled-bg-color: #3B4455;\n",
              "      --disabled-fill-color: #666;\n",
              "  }\n",
              "\n",
              "  .colab-df-quickchart {\n",
              "    background-color: var(--bg-color);\n",
              "    border: none;\n",
              "    border-radius: 50%;\n",
              "    cursor: pointer;\n",
              "    display: none;\n",
              "    fill: var(--fill-color);\n",
              "    height: 32px;\n",
              "    padding: 0;\n",
              "    width: 32px;\n",
              "  }\n",
              "\n",
              "  .colab-df-quickchart:hover {\n",
              "    background-color: var(--hover-bg-color);\n",
              "    box-shadow: 0 1px 2px rgba(60, 64, 67, 0.3), 0 1px 3px 1px rgba(60, 64, 67, 0.15);\n",
              "    fill: var(--button-hover-fill-color);\n",
              "  }\n",
              "\n",
              "  .colab-df-quickchart-complete:disabled,\n",
              "  .colab-df-quickchart-complete:disabled:hover {\n",
              "    background-color: var(--disabled-bg-color);\n",
              "    fill: var(--disabled-fill-color);\n",
              "    box-shadow: none;\n",
              "  }\n",
              "\n",
              "  .colab-df-spinner {\n",
              "    border: 2px solid var(--fill-color);\n",
              "    border-color: transparent;\n",
              "    border-bottom-color: var(--fill-color);\n",
              "    animation:\n",
              "      spin 1s steps(1) infinite;\n",
              "  }\n",
              "\n",
              "  @keyframes spin {\n",
              "    0% {\n",
              "      border-color: transparent;\n",
              "      border-bottom-color: var(--fill-color);\n",
              "      border-left-color: var(--fill-color);\n",
              "    }\n",
              "    20% {\n",
              "      border-color: transparent;\n",
              "      border-left-color: var(--fill-color);\n",
              "      border-top-color: var(--fill-color);\n",
              "    }\n",
              "    30% {\n",
              "      border-color: transparent;\n",
              "      border-left-color: var(--fill-color);\n",
              "      border-top-color: var(--fill-color);\n",
              "      border-right-color: var(--fill-color);\n",
              "    }\n",
              "    40% {\n",
              "      border-color: transparent;\n",
              "      border-right-color: var(--fill-color);\n",
              "      border-top-color: var(--fill-color);\n",
              "    }\n",
              "    60% {\n",
              "      border-color: transparent;\n",
              "      border-right-color: var(--fill-color);\n",
              "    }\n",
              "    80% {\n",
              "      border-color: transparent;\n",
              "      border-right-color: var(--fill-color);\n",
              "      border-bottom-color: var(--fill-color);\n",
              "    }\n",
              "    90% {\n",
              "      border-color: transparent;\n",
              "      border-bottom-color: var(--fill-color);\n",
              "    }\n",
              "  }\n",
              "</style>\n",
              "\n",
              "  <script>\n",
              "    async function quickchart(key) {\n",
              "      const quickchartButtonEl =\n",
              "        document.querySelector('#' + key + ' button');\n",
              "      quickchartButtonEl.disabled = true;  // To prevent multiple clicks.\n",
              "      quickchartButtonEl.classList.add('colab-df-spinner');\n",
              "      try {\n",
              "        const charts = await google.colab.kernel.invokeFunction(\n",
              "            'suggestCharts', [key], {});\n",
              "      } catch (error) {\n",
              "        console.error('Error during call to suggestCharts:', error);\n",
              "      }\n",
              "      quickchartButtonEl.classList.remove('colab-df-spinner');\n",
              "      quickchartButtonEl.classList.add('colab-df-quickchart-complete');\n",
              "    }\n",
              "    (() => {\n",
              "      let quickchartButtonEl =\n",
              "        document.querySelector('#df-c0702576-9f03-4b7d-988c-4b858344e45b button');\n",
              "      quickchartButtonEl.style.display =\n",
              "        google.colab.kernel.accessAllowed ? 'block' : 'none';\n",
              "    })();\n",
              "  </script>\n",
              "</div>\n",
              "    </div>\n",
              "  </div>\n"
            ]
          },
          "metadata": {},
          "execution_count": 22
        }
      ],
      "source": [
        "y"
      ]
    },
    {
      "cell_type": "code",
      "execution_count": 23,
      "metadata": {
        "colab": {
          "base_uri": "https://localhost:8080/"
        },
        "id": "TB84xzfOh9Yz",
        "outputId": "70d218b3-6310-4e21-a72a-b8d6d12e466d"
      },
      "outputs": [
        {
          "output_type": "execute_result",
          "data": {
            "text/plain": [
              "torch.Size([178, 1])"
            ]
          },
          "metadata": {},
          "execution_count": 23
        }
      ],
      "source": [
        "targets = torch.from_numpy(y.values)\n",
        "targets.shape"
      ]
    },
    {
      "cell_type": "code",
      "execution_count": 24,
      "metadata": {
        "colab": {
          "base_uri": "https://localhost:8080/"
        },
        "id": "Kqze9-DnjgHb",
        "outputId": "10ebf25f-8e7d-446f-d850-65b60c67f27f"
      },
      "outputs": [
        {
          "output_type": "execute_result",
          "data": {
            "text/plain": [
              "torch.Size([178, 13])"
            ]
          },
          "metadata": {},
          "execution_count": 24
        }
      ],
      "source": [
        "train_X = torch.from_numpy(df.values)\n",
        "train_X.shape"
      ]
    },
    {
      "cell_type": "markdown",
      "metadata": {
        "id": "_70_5LOTmbK4"
      },
      "source": [
        "### 2.3 Time series data\n",
        "\n",
        "Data loaded from : https://archive.ics.uci.edu/ml/datasets/bike+sharing+dataset"
      ]
    },
    {
      "cell_type": "code",
      "execution_count": 25,
      "metadata": {
        "colab": {
          "base_uri": "https://localhost:8080/"
        },
        "id": "4CZklaNzjzDt",
        "outputId": "001bbb8d-f284-439b-e3cb-b9803a7232c1"
      },
      "outputs": [
        {
          "output_type": "stream",
          "name": "stdout",
          "text": [
            "--2023-09-18 19:43:03--  https://raw.githubusercontent.com/deep-learning-with-pytorch/dlwpt-code/master/data/p1ch4/bike-sharing-dataset/hour-fixed.csv\n",
            "Resolving raw.githubusercontent.com (raw.githubusercontent.com)... 185.199.108.133, 185.199.109.133, 185.199.110.133, ...\n",
            "Connecting to raw.githubusercontent.com (raw.githubusercontent.com)|185.199.108.133|:443... connected.\n",
            "HTTP request sent, awaiting response... 200 OK\n",
            "Length: 1148001 (1.1M) [text/plain]\n",
            "Saving to: ‘hour-fixed.csv’\n",
            "\n",
            "hour-fixed.csv      100%[===================>]   1.09M  --.-KB/s    in 0.007s  \n",
            "\n",
            "2023-09-18 19:43:03 (150 MB/s) - ‘hour-fixed.csv’ saved [1148001/1148001]\n",
            "\n"
          ]
        }
      ],
      "source": [
        "!wget --no-check-certificate https://raw.githubusercontent.com/deep-learning-with-pytorch/dlwpt-code/master/data/p1ch4/bike-sharing-dataset/hour-fixed.csv"
      ]
    },
    {
      "cell_type": "code",
      "execution_count": 26,
      "metadata": {
        "id": "OtcBAHKIoI6Z"
      },
      "outputs": [],
      "source": [
        "import os\n",
        "import torch\n",
        "import numpy as np\n"
      ]
    },
    {
      "cell_type": "code",
      "execution_count": 27,
      "metadata": {
        "id": "pNgX-Z44lrH5"
      },
      "outputs": [],
      "source": [
        "bikes_numpy = np.loadtxt(\n",
        "    \"hour-fixed.csv\",\n",
        "    dtype=np.float32,\n",
        "    delimiter=\",\",\n",
        "    skiprows=1,\n",
        "    converters={1: lambda x: float(x[8:10])}\n",
        ")"
      ]
    },
    {
      "cell_type": "code",
      "execution_count": 28,
      "metadata": {
        "colab": {
          "base_uri": "https://localhost:8080/"
        },
        "id": "ttURa8jAz7UR",
        "outputId": "ac5c99e3-b4fe-4734-90e4-2755ce2a7d64"
      },
      "outputs": [
        {
          "output_type": "execute_result",
          "data": {
            "text/plain": [
              "array([[1.0000e+00, 1.0000e+00, 1.0000e+00, ..., 3.0000e+00, 1.3000e+01,\n",
              "        1.6000e+01],\n",
              "       [2.0000e+00, 1.0000e+00, 1.0000e+00, ..., 8.0000e+00, 3.2000e+01,\n",
              "        4.0000e+01],\n",
              "       [3.0000e+00, 1.0000e+00, 1.0000e+00, ..., 5.0000e+00, 2.7000e+01,\n",
              "        3.2000e+01],\n",
              "       ...,\n",
              "       [1.7377e+04, 3.1000e+01, 1.0000e+00, ..., 7.0000e+00, 8.3000e+01,\n",
              "        9.0000e+01],\n",
              "       [1.7378e+04, 3.1000e+01, 1.0000e+00, ..., 1.3000e+01, 4.8000e+01,\n",
              "        6.1000e+01],\n",
              "       [1.7379e+04, 3.1000e+01, 1.0000e+00, ..., 1.2000e+01, 3.7000e+01,\n",
              "        4.9000e+01]], dtype=float32)"
            ]
          },
          "metadata": {},
          "execution_count": 28
        }
      ],
      "source": [
        "bikes_numpy"
      ]
    },
    {
      "cell_type": "code",
      "execution_count": 29,
      "metadata": {
        "colab": {
          "base_uri": "https://localhost:8080/"
        },
        "id": "It4dbkvHzTaj",
        "outputId": "0867d1c5-90b1-450c-aba6-ce2be6a20024"
      },
      "outputs": [
        {
          "output_type": "execute_result",
          "data": {
            "text/plain": [
              "tensor([[1.0000e+00, 1.0000e+00, 1.0000e+00,  ..., 3.0000e+00, 1.3000e+01,\n",
              "         1.6000e+01],\n",
              "        [2.0000e+00, 1.0000e+00, 1.0000e+00,  ..., 8.0000e+00, 3.2000e+01,\n",
              "         4.0000e+01],\n",
              "        [3.0000e+00, 1.0000e+00, 1.0000e+00,  ..., 5.0000e+00, 2.7000e+01,\n",
              "         3.2000e+01],\n",
              "        ...,\n",
              "        [1.7377e+04, 3.1000e+01, 1.0000e+00,  ..., 7.0000e+00, 8.3000e+01,\n",
              "         9.0000e+01],\n",
              "        [1.7378e+04, 3.1000e+01, 1.0000e+00,  ..., 1.3000e+01, 4.8000e+01,\n",
              "         6.1000e+01],\n",
              "        [1.7379e+04, 3.1000e+01, 1.0000e+00,  ..., 1.2000e+01, 3.7000e+01,\n",
              "         4.9000e+01]])"
            ]
          },
          "metadata": {},
          "execution_count": 29
        }
      ],
      "source": [
        "bikes = torch.from_numpy(bikes_numpy)\n",
        "bikes"
      ]
    },
    {
      "cell_type": "markdown",
      "metadata": {
        "id": "LIfZ_GgHmQm6"
      },
      "source": [
        "In the source data, each row is a separate hour of data.\n",
        "We want to change the row-per-hour organization so that we have one axis that increases at a rate of one day per index increment, and another axis that represents the hour of the day. The third axis will be our different columns of data.\n",
        "\n",
        "In a time series dataset such as this one, rows represent successive time-points: there is a dimension along which they are ordered.\n",
        "\n",
        "This neural network model will need to see a number of sequences of values for each different quantity, such as ride count, time of day, temperature, and weather conditions: N parallel sequences of size C. C stands for channel, in neural network parlance, and is the same as column for 1D data like we have here. The N dimension represents the time axis, here one entry per hour."
      ]
    },
    {
      "cell_type": "code",
      "execution_count": 30,
      "metadata": {
        "colab": {
          "base_uri": "https://localhost:8080/"
        },
        "id": "StMyU1Vil_AX",
        "outputId": "5af90b67-7723-4cf8-bca6-781f1f8a59f3"
      },
      "outputs": [
        {
          "output_type": "execute_result",
          "data": {
            "text/plain": [
              "torch.Size([17520, 17])"
            ]
          },
          "metadata": {},
          "execution_count": 30
        }
      ],
      "source": [
        "bikes.shape"
      ]
    },
    {
      "cell_type": "markdown",
      "metadata": {
        "id": "jEE1456PxNlR"
      },
      "source": [
        "We want to break up the two-year dataset into wider observation periods, like days. This way we’ll have N (for number of samples) collections of C sequences of length L. In other words, our time series dataset would be a tensor of dimension 3 and shape N × C × L. The C would remain our 17 channels, while L would be 24: 1 per hour of the day. There’s no particular reason why we must use chunks of 24 hours, though the general daily rhythm is likely to give us patterns we can exploit for predictions. We could also use 7 × 24 = 168 hour blocks to chunk by week instead, if we desired. All of this depends, naturally, on our dataset having the right size--the number of rows must be a multiple of 24 or 168. Also, for this to make sense, we cannot have gaps in the time series."
      ]
    },
    {
      "cell_type": "markdown",
      "metadata": {
        "id": "tvb8ew7vx-Kr"
      },
      "source": [
        "17,379 hours, 17 **columns**"
      ]
    },
    {
      "cell_type": "code",
      "execution_count": 31,
      "metadata": {
        "colab": {
          "base_uri": "https://localhost:8080/"
        },
        "id": "WJ7UHBCXmLjb",
        "outputId": "73ccb1e7-1604-448b-ec99-66fd0b641d37"
      },
      "outputs": [
        {
          "output_type": "execute_result",
          "data": {
            "text/plain": [
              "torch.Size([17520, 17])"
            ]
          },
          "metadata": {},
          "execution_count": 31
        }
      ],
      "source": [
        "bikes.shape"
      ]
    },
    {
      "cell_type": "markdown",
      "metadata": {
        "id": "K2_8csQ4yFd9"
      },
      "source": []
    },
    {
      "cell_type": "code",
      "execution_count": 32,
      "metadata": {
        "colab": {
          "base_uri": "https://localhost:8080/"
        },
        "id": "RPx84zQ-x4R-",
        "outputId": "417c5ddf-8311-4387-9c36-f33fb80d30ae"
      },
      "outputs": [
        {
          "output_type": "execute_result",
          "data": {
            "text/plain": [
              "torch.Size([730, 24, 17])"
            ]
          },
          "metadata": {},
          "execution_count": 32
        }
      ],
      "source": [
        "daily_bikes = bikes.view(-1, 24, bikes.shape[1])\n",
        "daily_bikes.shape"
      ]
    },
    {
      "cell_type": "markdown",
      "metadata": {
        "id": "vjkWrX6zDMjl"
      },
      "source": [
        "To get to our desired N × C × L ordering, we need to transpose the tensor."
      ]
    },
    {
      "cell_type": "code",
      "execution_count": 33,
      "metadata": {
        "colab": {
          "base_uri": "https://localhost:8080/"
        },
        "id": "D4Jyn1-CyGkU",
        "outputId": "7f57170e-7ba8-402b-d324-b8992a514968"
      },
      "outputs": [
        {
          "output_type": "execute_result",
          "data": {
            "text/plain": [
              "torch.Size([730, 17, 24])"
            ]
          },
          "metadata": {},
          "execution_count": 33
        }
      ],
      "source": [
        "daily_bikes = daily_bikes.transpose(1, 2)\n",
        "daily_bikes.shape"
      ]
    },
    {
      "cell_type": "markdown",
      "metadata": {
        "id": "CvYTRsLEHrh7"
      },
      "source": [
        "## 3. Learning"
      ]
    },
    {
      "cell_type": "markdown",
      "metadata": {
        "id": "WaqfwJt8Hjs4"
      },
      "source": [
        "The learning might be described like:\n",
        "Given input data and corresponding output (ground truth) and initial values of weights, we feed the data to the model (calculating so called forward pass) and a measure of the error is evaluated by comparing the resulting outputs to the ground truth.\n",
        "\n",
        "Our goal is to optimize the parameters of the model (weights of the network). So we need to update the values of the weights in the direction that leads to a decrease in the error.\n",
        "\n",
        "A loss function (or cost function) is a function that computes a single numerical value that the learning process will attempt to minimize. The calculation of loss typically involves taking the difference between the desired outputs for some training samples and the outputs actually produced by the model.\n",
        "\n",
        "PyTorch tensors can remember where they come from, in terms of the operations and parent tensors that originated them, and they can automatically provide the chain of derivatives of such operations with respect to their inputs.  PyTorch will automatically provide the gradient of that expression with respect to its input parameters. (autograd).\n"
      ]
    },
    {
      "cell_type": "markdown",
      "metadata": {
        "id": "uU-Bux2v68Zf"
      },
      "source": [
        "Below an easy example of linear model."
      ]
    },
    {
      "cell_type": "code",
      "execution_count": 34,
      "metadata": {
        "id": "V1jx-hSGgM4N"
      },
      "outputs": [],
      "source": [
        "import torch\n",
        "\n",
        "y_true = torch.tensor([0.5,  14.0, 15.0, 28.0, 11.0,  8.0,  3.0, -4.0,  6.0, 13.0, 21.0])\n",
        "x = torch.tensor([35.7, 55.9, 58.2, 81.9, 56.3, 48.9, 33.9, 21.8, 48.4, 60.4, 68.4])\n",
        "\n",
        "x_scaled = 0.1 * x"
      ]
    },
    {
      "cell_type": "code",
      "execution_count": 35,
      "metadata": {
        "id": "pNAhbBQUMSl5"
      },
      "outputs": [],
      "source": [
        "def model(x, w, b):\n",
        "    return w * x + b\n",
        "\n",
        "def loss_fn(y_true, y):\n",
        "    squared_diffs = (y_true - y)**2\n",
        "    return squared_diffs.mean()"
      ]
    },
    {
      "cell_type": "markdown",
      "metadata": {
        "id": "xXvc_wyRglXK"
      },
      "source": [
        "`requires_grad=True argument` is telling PyTorch to track the entire family tree of tensors resulting from operations on `params`."
      ]
    },
    {
      "cell_type": "code",
      "execution_count": 36,
      "metadata": {
        "id": "mw6ciLUugLwD"
      },
      "outputs": [],
      "source": [
        "params = torch.tensor([1.0, 0.0], requires_grad=True)"
      ]
    },
    {
      "cell_type": "markdown",
      "metadata": {
        "id": "1sqwvuKDhEAF"
      },
      "source": [
        "The grad attribute of params contains the derivatives of the loss with respect to each element of params."
      ]
    },
    {
      "cell_type": "code",
      "execution_count": 37,
      "metadata": {
        "colab": {
          "base_uri": "https://localhost:8080/"
        },
        "id": "qFskprIRgr7b",
        "outputId": "e8f95e9c-027f-4b4c-e5c4-95c1575a15de"
      },
      "outputs": [
        {
          "output_type": "execute_result",
          "data": {
            "text/plain": [
              "tensor([4517.2969,   82.6000])"
            ]
          },
          "metadata": {},
          "execution_count": 37
        }
      ],
      "source": [
        "loss = loss_fn(model(x, *params), y_true)\n",
        "loss.backward()\n",
        "\n",
        "params.grad"
      ]
    },
    {
      "cell_type": "markdown",
      "metadata": {
        "id": "aBnzcBnth_iO"
      },
      "source": [
        "Example training loop could look like this:"
      ]
    },
    {
      "cell_type": "code",
      "execution_count": 38,
      "metadata": {
        "id": "41xQvNong9tM"
      },
      "outputs": [],
      "source": [
        "def training_loop(n_epochs, learning_rate, params, x, y_true):\n",
        "    for epoch in range(1, n_epochs + 1):\n",
        "        if params.grad is not None:\n",
        "            params.grad.zero_()\n",
        "\n",
        "        y_pred = model(x, *params)\n",
        "        loss = loss_fn(y_true, y_pred)\n",
        "        loss.backward()\n",
        "\n",
        "        with torch.no_grad():\n",
        "            params -= learning_rate * params.grad\n",
        "\n",
        "        if epoch % 100 == 0:\n",
        "            print('Epoch %d, Loss %f' % (epoch, float(loss)))\n",
        "\n",
        "    return params"
      ]
    },
    {
      "cell_type": "code",
      "execution_count": 39,
      "metadata": {
        "colab": {
          "base_uri": "https://localhost:8080/"
        },
        "id": "PsoZ6FKoiSw8",
        "outputId": "f246bc55-5f1b-48fe-b7a5-2752c160e6b2"
      },
      "outputs": [
        {
          "output_type": "stream",
          "name": "stdout",
          "text": [
            "Epoch 100, Loss 22.148710\n",
            "Epoch 200, Loss 16.608067\n",
            "Epoch 300, Loss 12.664559\n",
            "Epoch 400, Loss 9.857802\n",
            "Epoch 500, Loss 7.860115\n",
            "Epoch 600, Loss 6.438284\n",
            "Epoch 700, Loss 5.426309\n",
            "Epoch 800, Loss 4.706046\n",
            "Epoch 900, Loss 4.193405\n",
            "Epoch 1000, Loss 3.828538\n",
            "Epoch 1100, Loss 3.568848\n",
            "Epoch 1200, Loss 3.384018\n",
            "Epoch 1300, Loss 3.252462\n",
            "Epoch 1400, Loss 3.158830\n",
            "Epoch 1500, Loss 3.092191\n",
            "Epoch 1600, Loss 3.044759\n",
            "Epoch 1700, Loss 3.011001\n",
            "Epoch 1800, Loss 2.986974\n",
            "Epoch 1900, Loss 2.969871\n",
            "Epoch 2000, Loss 2.957698\n",
            "Epoch 2100, Loss 2.949035\n",
            "Epoch 2200, Loss 2.942870\n",
            "Epoch 2300, Loss 2.938481\n",
            "Epoch 2400, Loss 2.935356\n",
            "Epoch 2500, Loss 2.933134\n",
            "Epoch 2600, Loss 2.931554\n",
            "Epoch 2700, Loss 2.930426\n",
            "Epoch 2800, Loss 2.929626\n",
            "Epoch 2900, Loss 2.929054\n",
            "Epoch 3000, Loss 2.928648\n",
            "Epoch 3100, Loss 2.928361\n",
            "Epoch 3200, Loss 2.928154\n",
            "Epoch 3300, Loss 2.928006\n",
            "Epoch 3400, Loss 2.927904\n",
            "Epoch 3500, Loss 2.927830\n",
            "Epoch 3600, Loss 2.927776\n",
            "Epoch 3700, Loss 2.927739\n",
            "Epoch 3800, Loss 2.927713\n",
            "Epoch 3900, Loss 2.927693\n",
            "Epoch 4000, Loss 2.927679\n",
            "Epoch 4100, Loss 2.927670\n",
            "Epoch 4200, Loss 2.927663\n",
            "Epoch 4300, Loss 2.927659\n",
            "Epoch 4400, Loss 2.927656\n",
            "Epoch 4500, Loss 2.927652\n",
            "Epoch 4600, Loss 2.927649\n",
            "Epoch 4700, Loss 2.927649\n",
            "Epoch 4800, Loss 2.927648\n",
            "Epoch 4900, Loss 2.927648\n",
            "Epoch 5000, Loss 2.927647\n"
          ]
        },
        {
          "output_type": "execute_result",
          "data": {
            "text/plain": [
              "tensor([  5.3671, -17.3012], requires_grad=True)"
            ]
          },
          "metadata": {},
          "execution_count": 39
        }
      ],
      "source": [
        "training_loop(\n",
        "    n_epochs = 5000,\n",
        "    learning_rate = 1e-2,\n",
        "    params = torch.tensor([1.0, 0.0], requires_grad=True),\n",
        "    x=x_scaled,\n",
        "    y_true=y_true)"
      ]
    },
    {
      "cell_type": "markdown",
      "metadata": {
        "id": "-Jc00usRjZk8"
      },
      "source": [
        "We can choose an optimizer as well."
      ]
    },
    {
      "cell_type": "code",
      "execution_count": 40,
      "metadata": {
        "colab": {
          "base_uri": "https://localhost:8080/"
        },
        "id": "33p3tp4xifBQ",
        "outputId": "78253d2c-005a-4b54-c9c9-f22469f4a942"
      },
      "outputs": [
        {
          "output_type": "execute_result",
          "data": {
            "text/plain": [
              "['ASGD',\n",
              " 'Adadelta',\n",
              " 'Adagrad',\n",
              " 'Adam',\n",
              " 'AdamW',\n",
              " 'Adamax',\n",
              " 'LBFGS',\n",
              " 'NAdam',\n",
              " 'Optimizer',\n",
              " 'RAdam',\n",
              " 'RMSprop',\n",
              " 'Rprop',\n",
              " 'SGD',\n",
              " 'SparseAdam',\n",
              " '__builtins__',\n",
              " '__cached__',\n",
              " '__doc__',\n",
              " '__file__',\n",
              " '__loader__',\n",
              " '__name__',\n",
              " '__package__',\n",
              " '__path__',\n",
              " '__spec__',\n",
              " '_functional',\n",
              " '_multi_tensor',\n",
              " 'lr_scheduler',\n",
              " 'swa_utils']"
            ]
          },
          "metadata": {},
          "execution_count": 40
        }
      ],
      "source": [
        "import torch.optim as optim\n",
        "dir(optim)"
      ]
    },
    {
      "cell_type": "code",
      "execution_count": 41,
      "metadata": {
        "id": "7NL_pdCzjdzB"
      },
      "outputs": [],
      "source": [
        "learning_rate = 1e-5\n",
        "optimizer = optim.SGD([params], lr=learning_rate) # stochastic gradient descent"
      ]
    },
    {
      "cell_type": "code",
      "execution_count": 42,
      "metadata": {
        "id": "40RdJjlHjnQf"
      },
      "outputs": [],
      "source": [
        "def training_loop(n_epochs, optimizer, params, x, y_true):\n",
        "    for epoch in range(1, n_epochs + 1):\n",
        "        y_pred = model(x, *params)\n",
        "        loss = loss_fn(y_true, y_pred)\n",
        "\n",
        "        optimizer.zero_grad()\n",
        "        loss.backward()\n",
        "        optimizer.step()\n",
        "\n",
        "        if epoch % 100 == 0:\n",
        "            print('Epoch %d, Loss %f' % (epoch, float(loss)))\n",
        "\n",
        "    return params"
      ]
    },
    {
      "cell_type": "code",
      "execution_count": 43,
      "metadata": {
        "colab": {
          "base_uri": "https://localhost:8080/"
        },
        "id": "7znBkekikGZy",
        "outputId": "938c0df0-dc10-4aa0-f892-56bebc7feda4"
      },
      "outputs": [
        {
          "output_type": "stream",
          "name": "stdout",
          "text": [
            "Epoch 100, Loss 22.148710\n",
            "Epoch 200, Loss 16.608068\n",
            "Epoch 300, Loss 12.664563\n",
            "Epoch 400, Loss 9.857809\n",
            "Epoch 500, Loss 7.860120\n",
            "Epoch 600, Loss 6.438289\n",
            "Epoch 700, Loss 5.426312\n",
            "Epoch 800, Loss 4.706045\n",
            "Epoch 900, Loss 4.193405\n",
            "Epoch 1000, Loss 3.828538\n",
            "Epoch 1100, Loss 3.568848\n",
            "Epoch 1200, Loss 3.384018\n",
            "Epoch 1300, Loss 3.252462\n",
            "Epoch 1400, Loss 3.158830\n",
            "Epoch 1500, Loss 3.092191\n",
            "Epoch 1600, Loss 3.044759\n",
            "Epoch 1700, Loss 3.011001\n",
            "Epoch 1800, Loss 2.986974\n",
            "Epoch 1900, Loss 2.969871\n",
            "Epoch 2000, Loss 2.957698\n",
            "Epoch 2100, Loss 2.949035\n",
            "Epoch 2200, Loss 2.942870\n",
            "Epoch 2300, Loss 2.938481\n",
            "Epoch 2400, Loss 2.935356\n",
            "Epoch 2500, Loss 2.933134\n",
            "Epoch 2600, Loss 2.931554\n",
            "Epoch 2700, Loss 2.930426\n",
            "Epoch 2800, Loss 2.929626\n",
            "Epoch 2900, Loss 2.929054\n",
            "Epoch 3000, Loss 2.928648\n",
            "Epoch 3100, Loss 2.928361\n",
            "Epoch 3200, Loss 2.928154\n",
            "Epoch 3300, Loss 2.928006\n",
            "Epoch 3400, Loss 2.927904\n",
            "Epoch 3500, Loss 2.927830\n",
            "Epoch 3600, Loss 2.927776\n",
            "Epoch 3700, Loss 2.927739\n",
            "Epoch 3800, Loss 2.927713\n",
            "Epoch 3900, Loss 2.927693\n",
            "Epoch 4000, Loss 2.927679\n",
            "Epoch 4100, Loss 2.927670\n",
            "Epoch 4200, Loss 2.927663\n",
            "Epoch 4300, Loss 2.927659\n",
            "Epoch 4400, Loss 2.927656\n",
            "Epoch 4500, Loss 2.927652\n",
            "Epoch 4600, Loss 2.927649\n",
            "Epoch 4700, Loss 2.927649\n",
            "Epoch 4800, Loss 2.927648\n",
            "Epoch 4900, Loss 2.927648\n",
            "Epoch 5000, Loss 2.927647\n"
          ]
        },
        {
          "output_type": "execute_result",
          "data": {
            "text/plain": [
              "tensor([  5.3671, -17.3012], requires_grad=True)"
            ]
          },
          "metadata": {},
          "execution_count": 43
        }
      ],
      "source": [
        "params = torch.tensor([1.0, 0.0], requires_grad=True)\n",
        "learning_rate = 1e-2\n",
        "optimizer = optim.SGD([params], lr=learning_rate)\n",
        "\n",
        "training_loop(\n",
        "    n_epochs=5000,\n",
        "    optimizer=optimizer,\n",
        "    params=params,\n",
        "    x=x_scaled,\n",
        "    y_true=y_true)"
      ]
    },
    {
      "cell_type": "markdown",
      "metadata": {
        "id": "gr4Kj05l4FDN"
      },
      "source": [
        "# 4. Building neural net\n",
        "\n",
        "The basic building block of neural nets is the neuron.\n",
        "\n",
        "It is a linear transformation of the input (for example, multiplying the input by a number [the weight] and adding a constant [the bias]) followed by the application of a fixed nonlinear function (activation function).\n",
        "\n",
        "We can write this out as o = f(w * x + b), where f is an activation function, w weights, b biases and x input.\n",
        "\n",
        "The simplest unit in neural networks is a linear operation (scaling + offset) followed by an activation function.\n",
        "\n",
        "There are many activation functions, but ReLU (for rectified linear unit) is currently considered one of the best-performing general activation functions.\n",
        "The Sigmoid activation function, also known as the logistic function, was widely used in early deep learning work but has since fallen out of common use except where we explicitly want to move to the 0...1 range: for example, when the output should be a probability.\n",
        "\n",
        "Activation functions have two main characteristics:\n",
        "- They are nonlinear (nonlinearity allows the overall network to approximate more complex functions)\n",
        "- They are differentiable (gradients can be computed through them)\n",
        "\n",
        "Without these characteristics, the network either falls back to being a linear model or becomes difficult to train.\n",
        "(https://machinelearningmastery.com/choose-an-activation-function-for-deep-learning/)\n"
      ]
    },
    {
      "cell_type": "markdown",
      "metadata": {
        "id": "r_AmMn5iZCrd"
      },
      "source": [
        "## Linear model"
      ]
    },
    {
      "cell_type": "code",
      "execution_count": 44,
      "metadata": {
        "colab": {
          "base_uri": "https://localhost:8080/"
        },
        "id": "dTrMO54gkbMh",
        "outputId": "3ce56766-609a-4815-b34f-bcebe8031660"
      },
      "outputs": [
        {
          "output_type": "execute_result",
          "data": {
            "text/plain": [
              "tensor([0.6839], grad_fn=<AddBackward0>)"
            ]
          },
          "metadata": {},
          "execution_count": 44
        }
      ],
      "source": [
        "# simple linear model in pytorch\n",
        "\n",
        "import torch.nn as nn\n",
        "\n",
        "x = torch.ones(1)\n",
        "linear_model = nn.Linear(1, 1) # one input feature, one output\n",
        "linear_model(x)"
      ]
    },
    {
      "cell_type": "code",
      "execution_count": 45,
      "metadata": {
        "colab": {
          "base_uri": "https://localhost:8080/"
        },
        "id": "VufVdKm1HeeV",
        "outputId": "aefe02a2-f1b5-4e09-a477-b64e37baf1ae"
      },
      "outputs": [
        {
          "output_type": "execute_result",
          "data": {
            "text/plain": [
              "(Parameter containing:\n",
              " tensor([[0.8973]], requires_grad=True),\n",
              " Parameter containing:\n",
              " tensor([-0.2134], requires_grad=True))"
            ]
          },
          "metadata": {},
          "execution_count": 45
        }
      ],
      "source": [
        "linear_model.weight, linear_model.bias"
      ]
    },
    {
      "cell_type": "markdown",
      "metadata": {
        "id": "V1rFuJ7LSpoj"
      },
      "source": [
        "Pytorch allows us to batch inputs.\n",
        "Any module in nn is written to produce outputs for a batch of multiple inputs at the same time.\n",
        "\n",
        "The batch size determines over how much data per step is used to compute the loss function, gradients, and back propagation. Large batch sizes allow the network to complete it's training faster; however, there are other factors beyond training speed to consider.\n",
        "\n",
        "Too large of a batch size smoothes the local minima of the loss function, causing the optimizer to settle in one because it thinks it found the global minimum.\n",
        "\n",
        "Too small of a batch size creates a very noisy loss function, and the optimizer may never find the global minimum.\n",
        "\n",
        "So a good batch size may take some trial and error to find!\n"
      ]
    },
    {
      "cell_type": "code",
      "execution_count": 46,
      "metadata": {
        "colab": {
          "base_uri": "https://localhost:8080/"
        },
        "id": "gvdmgIEpRI4R",
        "outputId": "7b8947e4-3292-4d11-ee57-7b7e8db25d2b"
      },
      "outputs": [
        {
          "output_type": "execute_result",
          "data": {
            "text/plain": [
              "tensor([[0.6839],\n",
              "        [0.6839],\n",
              "        [0.6839],\n",
              "        [0.6839],\n",
              "        [0.6839],\n",
              "        [0.6839],\n",
              "        [0.6839],\n",
              "        [0.6839],\n",
              "        [0.6839],\n",
              "        [0.6839]], grad_fn=<AddmmBackward0>)"
            ]
          },
          "metadata": {},
          "execution_count": 46
        }
      ],
      "source": [
        "x = torch.ones(10, 1)\n",
        "linear_model(x)"
      ]
    },
    {
      "cell_type": "code",
      "execution_count": 47,
      "metadata": {
        "id": "rUWpb45VS1i2"
      },
      "outputs": [],
      "source": [
        "import torch\n",
        "from sklearn.model_selection import train_test_split\n",
        "\n",
        "y = [0.5,  14.0, 15.0, 28.0, 11.0,  8.0,  3.0, -4.0,  6.0, 13.0, 21.0]\n",
        "X = [35.7, 55.9, 58.2, 81.9, 56.3, 48.9, 33.9, 21.8, 48.4, 60.4, 68.4]\n",
        "\n",
        "X_train, X_test, y_train, y_test = train_test_split(X, y, test_size=0.33, random_state=42)\n",
        "\n",
        "X_train = torch.tensor(X_train) * 0.1\n",
        "X_test = torch.tensor(X_test) * 0.1\n",
        "y_train = torch.tensor(y_train)\n",
        "y_test = torch.tensor(y_test)\n"
      ]
    },
    {
      "cell_type": "markdown",
      "metadata": {
        "id": "p0eL5lqtTuHH"
      },
      "source": [
        "To make it possible to use bathing here we reshape our B inputs to B × Nin, where Nin is 1."
      ]
    },
    {
      "cell_type": "code",
      "execution_count": 48,
      "metadata": {
        "id": "WS6LKWKkTowl"
      },
      "outputs": [],
      "source": [
        "# adds an extra dimension to our tensor\n",
        "\n",
        "y_train = y_train.unsqueeze(1)\n",
        "X_train = X_train.unsqueeze(1)\n",
        "y_test = y_test.unsqueeze(1)\n",
        "X_test = X_test.unsqueeze(1)"
      ]
    },
    {
      "cell_type": "code",
      "execution_count": 49,
      "metadata": {
        "colab": {
          "base_uri": "https://localhost:8080/"
        },
        "id": "JNV9sar7XqBc",
        "outputId": "d4cc2007-0c7b-42ab-fde4-d8c6a6d75c68"
      },
      "outputs": [
        {
          "output_type": "execute_result",
          "data": {
            "text/plain": [
              "torch.Size([7, 1])"
            ]
          },
          "metadata": {},
          "execution_count": 49
        }
      ],
      "source": [
        "X_train.shape"
      ]
    },
    {
      "cell_type": "code",
      "execution_count": 50,
      "metadata": {
        "colab": {
          "base_uri": "https://localhost:8080/"
        },
        "id": "T4i1RdcWT4AG",
        "outputId": "c9f58603-7540-4b0a-d51a-959c218140af"
      },
      "outputs": [
        {
          "output_type": "execute_result",
          "data": {
            "text/plain": [
              "torch.Size([7, 1])"
            ]
          },
          "metadata": {},
          "execution_count": 50
        }
      ],
      "source": [
        "y_train.shape"
      ]
    },
    {
      "cell_type": "code",
      "execution_count": 51,
      "metadata": {
        "colab": {
          "base_uri": "https://localhost:8080/"
        },
        "id": "g5WYIEmjT9LE",
        "outputId": "e347df53-2bac-48f0-d61d-b66b755984ac"
      },
      "outputs": [
        {
          "output_type": "execute_result",
          "data": {
            "text/plain": [
              "[Parameter containing:\n",
              " tensor([[0.8973]], requires_grad=True),\n",
              " Parameter containing:\n",
              " tensor([-0.2134], requires_grad=True)]"
            ]
          },
          "metadata": {},
          "execution_count": 51
        }
      ],
      "source": [
        "list(linear_model.parameters())"
      ]
    },
    {
      "cell_type": "code",
      "execution_count": 52,
      "metadata": {
        "id": "fs4xFdlrUG8o"
      },
      "outputs": [],
      "source": [
        "def training_loop(n_epochs, optimizer, model, loss_fn, X_train, X_val, y_train, y_val):\n",
        "    for epoch in range(1, n_epochs + 1):\n",
        "        y_pred_train = model(X_train)\n",
        "        loss_train = loss_fn(y_train, y_pred_train)\n",
        "\n",
        "        y_pred_val = model(X_val)\n",
        "        loss_val = loss_fn(y_val, y_pred_val)\n",
        "\n",
        "        optimizer.zero_grad()\n",
        "        loss_train.backward()\n",
        "        optimizer.step()\n",
        "\n",
        "        if epoch == 1 or epoch % 100 == 0:\n",
        "            print(f\"Epoch {epoch}, Training loss {loss_train.item():.4f},\"\n",
        "                  f\" Validation loss {loss_val.item():.4f}\")"
      ]
    },
    {
      "cell_type": "markdown",
      "metadata": {
        "id": "5BuQ409eV41h"
      },
      "source": [
        "Pytorch has many implemented loss functions, you can read about them here:\n",
        "- https://blog.paperspace.com/pytorch-loss-functions/\n",
        "- https://neptune.ai/blog/pytorch-loss-functions"
      ]
    },
    {
      "cell_type": "code",
      "execution_count": 53,
      "metadata": {
        "id": "W1TTzwEFUslv"
      },
      "outputs": [],
      "source": [
        "loss_fn = nn.MSELoss() # we will use MSE for regression"
      ]
    },
    {
      "cell_type": "markdown",
      "metadata": {
        "id": "_EUtj7XgbGlk"
      },
      "source": [
        "The optimizer helps determine how quickly the model learns through **gradient descent**. The rate at which descends a gradient is called the **learning rate**."
      ]
    },
    {
      "cell_type": "markdown",
      "metadata": {
        "id": "0SvtvPEnbIvG"
      },
      "source": [
        "<img src = \"https://raw.githubusercontent.com/AviatorMoser/keras-mnist-tutorial/master/gradient_descent.png\" width = \"450\">"
      ]
    },
    {
      "cell_type": "markdown",
      "metadata": {
        "id": "FUNdgM4mbNvc"
      },
      "source": [
        "<img src = \"https://raw.githubusercontent.com/AviatorMoser/keras-mnist-tutorial/master/learning_rate.png\" width = \"400\">\n"
      ]
    },
    {
      "cell_type": "markdown",
      "metadata": {
        "id": "ufA8hz5-bOjK"
      },
      "source": [
        "<img src = 'https://raw.githubusercontent.com/AviatorMoser/keras-mnist-tutorial/master/complicated_loss_function.png' width = \"450\" >"
      ]
    },
    {
      "cell_type": "code",
      "execution_count": 54,
      "metadata": {
        "id": "1CmpYnqoU3QX"
      },
      "outputs": [],
      "source": [
        "import torch.optim as optim\n",
        "\n",
        "linear_model = nn.Linear(1, 1)\n",
        "optimizer = optim.SGD(linear_model.parameters(), lr=1e-2)"
      ]
    },
    {
      "cell_type": "code",
      "execution_count": 55,
      "metadata": {
        "colab": {
          "base_uri": "https://localhost:8080/"
        },
        "id": "cd0cDRJiU5qc",
        "outputId": "5e130cf8-8657-4a3b-f5f9-50563982764a"
      },
      "outputs": [
        {
          "output_type": "stream",
          "name": "stdout",
          "text": [
            "Epoch 1, Training loss 372.5168, Validation loss 336.4075\n",
            "Epoch 100, Training loss 22.5505, Validation loss 19.7059\n",
            "Epoch 200, Training loss 15.8174, Validation loss 15.1917\n",
            "Epoch 300, Training loss 11.4016, Validation loss 12.0210\n",
            "Epoch 400, Training loss 8.5055, Validation loss 9.7715\n",
            "Epoch 500, Training loss 6.6062, Validation loss 8.1583\n",
            "Epoch 600, Training loss 5.3605, Validation loss 6.9888\n",
            "Epoch 700, Training loss 4.5436, Validation loss 6.1314\n",
            "Epoch 800, Training loss 4.0078, Validation loss 5.4959\n",
            "Epoch 900, Training loss 3.6564, Validation loss 5.0198\n",
            "Epoch 1000, Training loss 3.4259, Validation loss 4.6596\n",
            "Epoch 1100, Training loss 3.2748, Validation loss 4.3845\n",
            "Epoch 1200, Training loss 3.1757, Validation loss 4.1726\n",
            "Epoch 1300, Training loss 3.1107, Validation loss 4.0082\n",
            "Epoch 1400, Training loss 3.0680, Validation loss 3.8797\n",
            "Epoch 1500, Training loss 3.0401, Validation loss 3.7787\n",
            "Epoch 1600, Training loss 3.0217, Validation loss 3.6989\n",
            "Epoch 1700, Training loss 3.0097, Validation loss 3.6356\n",
            "Epoch 1800, Training loss 3.0018, Validation loss 3.5852\n",
            "Epoch 1900, Training loss 2.9966, Validation loss 3.5450\n",
            "Epoch 2000, Training loss 2.9933, Validation loss 3.5128\n",
            "Epoch 2100, Training loss 2.9910, Validation loss 3.4870\n",
            "Epoch 2200, Training loss 2.9896, Validation loss 3.4662\n",
            "Epoch 2300, Training loss 2.9886, Validation loss 3.4495\n",
            "Epoch 2400, Training loss 2.9880, Validation loss 3.4360\n",
            "Epoch 2500, Training loss 2.9876, Validation loss 3.4252\n",
            "Epoch 2600, Training loss 2.9873, Validation loss 3.4164\n",
            "Epoch 2700, Training loss 2.9871, Validation loss 3.4093\n",
            "Epoch 2800, Training loss 2.9870, Validation loss 3.4036\n",
            "Epoch 2900, Training loss 2.9869, Validation loss 3.3990\n",
            "Epoch 3000, Training loss 2.9869, Validation loss 3.3952\n"
          ]
        }
      ],
      "source": [
        "training_loop(\n",
        "    n_epochs=3000,\n",
        "    optimizer=optimizer,\n",
        "    model=linear_model,\n",
        "    loss_fn=loss_fn,\n",
        "    X_train=X_train,\n",
        "    X_val=X_test,\n",
        "    y_train=y_train,\n",
        "    y_val=y_test)"
      ]
    },
    {
      "cell_type": "markdown",
      "metadata": {
        "id": "pmd50l5iZeye"
      },
      "source": [
        "## First neural net"
      ]
    },
    {
      "cell_type": "code",
      "execution_count": 56,
      "metadata": {
        "colab": {
          "base_uri": "https://localhost:8080/"
        },
        "id": "zu--FWL3XUe8",
        "outputId": "10d0619e-8550-4a16-d398-ea6fdfd1c7b0"
      },
      "outputs": [
        {
          "output_type": "execute_result",
          "data": {
            "text/plain": [
              "Sequential(\n",
              "  (0): Linear(in_features=1, out_features=12, bias=True)\n",
              "  (1): Tanh()\n",
              "  (2): Linear(in_features=12, out_features=1, bias=True)\n",
              ")"
            ]
          },
          "metadata": {},
          "execution_count": 56
        }
      ],
      "source": [
        "from torch.nn.modules.activation import ReLU\n",
        "# net with 1 input and 1 output (12 hidden)\n",
        "model = nn.Sequential(\n",
        "            nn.Linear(1, 12),\n",
        "            nn.Tanh(),\n",
        "            nn.Linear(12, 1))\n",
        "model"
      ]
    },
    {
      "cell_type": "code",
      "execution_count": 57,
      "metadata": {
        "colab": {
          "base_uri": "https://localhost:8080/"
        },
        "id": "JryTyfxpZnjp",
        "outputId": "60dfd66e-6d06-45bd-c4c0-14cd276b96bd"
      },
      "outputs": [
        {
          "output_type": "stream",
          "name": "stdout",
          "text": [
            "0.weight torch.Size([12, 1])\n",
            "0.bias torch.Size([12])\n",
            "2.weight torch.Size([1, 12])\n",
            "2.bias torch.Size([1])\n"
          ]
        }
      ],
      "source": [
        "for name, param in model.named_parameters():\n",
        "    print(name, param.shape)"
      ]
    },
    {
      "cell_type": "code",
      "execution_count": 58,
      "metadata": {
        "colab": {
          "base_uri": "https://localhost:8080/"
        },
        "id": "-cEo6eEqaaTe",
        "outputId": "20dccaed-1967-46af-fb84-7ba58494d0f6"
      },
      "outputs": [
        {
          "output_type": "stream",
          "name": "stdout",
          "text": [
            "Epoch 1, Training loss 184.5808, Validation loss 155.5490\n",
            "Epoch 100, Training loss 54.4767, Validation loss 37.0354\n",
            "Epoch 200, Training loss 27.3186, Validation loss 17.3802\n",
            "Epoch 300, Training loss 16.6943, Validation loss 9.8200\n",
            "Epoch 400, Training loss 11.9175, Validation loss 6.5155\n",
            "Epoch 500, Training loss 9.5064, Validation loss 5.0648\n",
            "Epoch 600, Training loss 8.0394, Validation loss 4.3645\n",
            "Epoch 700, Training loss 6.9919, Validation loss 3.9597\n",
            "Epoch 800, Training loss 6.1692, Validation loss 3.6781\n",
            "Epoch 900, Training loss 5.4917, Validation loss 3.4599\n",
            "Epoch 1000, Training loss 4.9149, Validation loss 3.2807\n",
            "Epoch 1100, Training loss 4.4098, Validation loss 3.1113\n",
            "Epoch 1200, Training loss 3.9763, Validation loss 2.9372\n",
            "Epoch 1300, Training loss 3.6226, Validation loss 2.7775\n",
            "Epoch 1400, Training loss 3.3406, Validation loss 2.6441\n",
            "Epoch 1500, Training loss 4.4994, Validation loss 1.9463\n",
            "Epoch 1600, Training loss 4.9117, Validation loss 2.2441\n",
            "Epoch 1700, Training loss 3.9716, Validation loss 1.8034\n",
            "Epoch 1800, Training loss 3.4409, Validation loss 1.6437\n",
            "Epoch 1900, Training loss 3.0747, Validation loss 1.5894\n",
            "Epoch 2000, Training loss 2.7949, Validation loss 1.5974\n",
            "Epoch 2100, Training loss 2.5761, Validation loss 1.6574\n",
            "Epoch 2200, Training loss 2.4114, Validation loss 1.7614\n",
            "Epoch 2300, Training loss 2.2976, Validation loss 1.8853\n",
            "Epoch 2400, Training loss 2.2230, Validation loss 1.9863\n",
            "Epoch 2500, Training loss 2.1704, Validation loss 2.0312\n",
            "Epoch 2600, Training loss 2.1304, Validation loss 1.9963\n",
            "Epoch 2700, Training loss 2.1496, Validation loss 1.7412\n",
            "Epoch 2800, Training loss 2.7507, Validation loss 1.4518\n",
            "Epoch 2900, Training loss 2.3103, Validation loss 1.4859\n",
            "Epoch 3000, Training loss 2.1369, Validation loss 1.5928\n"
          ]
        }
      ],
      "source": [
        "optimizer = optim.SGD(model.parameters(), lr=1e-3)\n",
        "training_loop(\n",
        "    n_epochs=3000,\n",
        "    optimizer=optimizer,\n",
        "    model=model,\n",
        "    loss_fn=loss_fn,\n",
        "    X_train=X_train,\n",
        "    X_val=X_test,\n",
        "    y_train=y_train,\n",
        "    y_val=y_test)"
      ]
    },
    {
      "cell_type": "markdown",
      "metadata": {
        "id": "8HMoo-rVbDHD"
      },
      "source": [
        "# 5. Image recognition"
      ]
    },
    {
      "cell_type": "code",
      "execution_count": 59,
      "metadata": {
        "colab": {
          "base_uri": "https://localhost:8080/"
        },
        "id": "mRy1SsvyaurJ",
        "outputId": "ed3c5d7a-d04d-4d1a-8c65-e95034383c5e"
      },
      "outputs": [
        {
          "output_type": "stream",
          "name": "stdout",
          "text": [
            "Downloading https://www.cs.toronto.edu/~kriz/cifar-10-python.tar.gz to ../data-unversioned/p1ch7/cifar-10-python.tar.gz\n"
          ]
        },
        {
          "output_type": "stream",
          "name": "stderr",
          "text": [
            "100%|██████████| 170498071/170498071 [00:14<00:00, 12077714.13it/s]\n"
          ]
        },
        {
          "output_type": "stream",
          "name": "stdout",
          "text": [
            "Extracting ../data-unversioned/p1ch7/cifar-10-python.tar.gz to ../data-unversioned/p1ch7/\n",
            "Files already downloaded and verified\n"
          ]
        }
      ],
      "source": [
        "from torchvision import datasets\n",
        "import torch\n",
        "import matplotlib.pyplot as plt\n",
        "\n",
        "data_path = '../data-unversioned/p1ch7/'\n",
        "cifar10 = datasets.CIFAR10(data_path, train=True, download=True)\n",
        "cifar10_val = datasets.CIFAR10(data_path, train=False, download=True)"
      ]
    },
    {
      "cell_type": "code",
      "execution_count": 60,
      "metadata": {
        "colab": {
          "base_uri": "https://localhost:8080/",
          "height": 430
        },
        "id": "w8IAEnfCY4gb",
        "outputId": "8cfbc397-f236-4331-ec56-aef6e891390f"
      },
      "outputs": [
        {
          "output_type": "display_data",
          "data": {
            "text/plain": [
              "<Figure size 640x480 with 1 Axes>"
            ],
            "image/png": "[encoded data removed]"
          },
          "metadata": {}
        }
      ],
      "source": [
        "img, label = cifar10[4]\n",
        "plt.imshow(img)\n",
        "plt.show()"
      ]
    },
    {
      "cell_type": "markdown",
      "metadata": {
        "id": "PvQAKK4ZZukU"
      },
      "source": [
        "As described before in section about loading data, we can perform transform operations on this dataset."
      ]
    },
    {
      "cell_type": "code",
      "execution_count": 61,
      "metadata": {
        "colab": {
          "base_uri": "https://localhost:8080/"
        },
        "id": "TIISBmP0ZWDV",
        "outputId": "4d72af4c-2fd1-4d21-d3f3-19e38face25f"
      },
      "outputs": [
        {
          "output_type": "execute_result",
          "data": {
            "text/plain": [
              "['AugMix',\n",
              " 'AutoAugment',\n",
              " 'AutoAugmentPolicy',\n",
              " 'CenterCrop',\n",
              " 'ColorJitter',\n",
              " 'Compose',\n",
              " 'ConvertImageDtype',\n",
              " 'ElasticTransform',\n",
              " 'FiveCrop',\n",
              " 'GaussianBlur',\n",
              " 'Grayscale',\n",
              " 'InterpolationMode',\n",
              " 'Lambda',\n",
              " 'LinearTransformation',\n",
              " 'Normalize',\n",
              " 'PILToTensor',\n",
              " 'Pad',\n",
              " 'RandAugment',\n",
              " 'RandomAdjustSharpness',\n",
              " 'RandomAffine',\n",
              " 'RandomApply',\n",
              " 'RandomAutocontrast',\n",
              " 'RandomChoice',\n",
              " 'RandomCrop',\n",
              " 'RandomEqualize',\n",
              " 'RandomErasing',\n",
              " 'RandomGrayscale',\n",
              " 'RandomHorizontalFlip',\n",
              " 'RandomInvert',\n",
              " 'RandomOrder',\n",
              " 'RandomPerspective',\n",
              " 'RandomPosterize',\n",
              " 'RandomResizedCrop',\n",
              " 'RandomRotation',\n",
              " 'RandomSolarize',\n",
              " 'RandomVerticalFlip',\n",
              " 'Resize',\n",
              " 'TenCrop',\n",
              " 'ToPILImage',\n",
              " 'ToTensor',\n",
              " 'TrivialAugmentWide',\n",
              " '__builtins__',\n",
              " '__cached__',\n",
              " '__doc__',\n",
              " '__file__',\n",
              " '__loader__',\n",
              " '__name__',\n",
              " '__package__',\n",
              " '__path__',\n",
              " '__spec__',\n",
              " '_functional_pil',\n",
              " '_functional_tensor',\n",
              " '_presets',\n",
              " 'autoaugment',\n",
              " 'functional',\n",
              " 'transforms']"
            ]
          },
          "metadata": {},
          "execution_count": 61
        }
      ],
      "source": [
        "from torchvision import transforms\n",
        "dir(transforms)"
      ]
    },
    {
      "cell_type": "code",
      "execution_count": 62,
      "metadata": {
        "colab": {
          "base_uri": "https://localhost:8080/"
        },
        "id": "H9Iaje3vZ5vf",
        "outputId": "968d6891-c27b-4164-fb03-4e2e312eb9f0"
      },
      "outputs": [
        {
          "output_type": "execute_result",
          "data": {
            "text/plain": [
              "torch.Size([3, 32, 32])"
            ]
          },
          "metadata": {},
          "execution_count": 62
        }
      ],
      "source": [
        "to_tensor = transforms.ToTensor()\n",
        "img_t = to_tensor(img) # turning image to tensor to pass it to NeuralNet\n",
        "img_t.shape # 3 channels of RGB, 32x32 size"
      ]
    },
    {
      "cell_type": "markdown",
      "metadata": {
        "id": "donW1sKtcIZp"
      },
      "source": [
        "Let's load the dataset and turn it to tensor.\n",
        "Additionally `transforms.ToTensor` transform turns the data into a 32-bit floating-point per channel, scaling the values down from 0.0 to 1.0.\n",
        "\n",
        "Transforms can be chained using `transforms.Compose`. It’s a good practice to normalize the dataset so that each channel has zero mean, this is what `transforms.Normalize` do."
      ]
    },
    {
      "cell_type": "code",
      "execution_count": 63,
      "metadata": {
        "id": "_IMYgENpaG9x"
      },
      "outputs": [],
      "source": [
        "tensor_cifar10 = datasets.CIFAR10(data_path, train=True, download=False,\n",
        "                          transform=transforms.ToTensor())"
      ]
    },
    {
      "cell_type": "code",
      "execution_count": 64,
      "metadata": {
        "colab": {
          "base_uri": "https://localhost:8080/"
        },
        "id": "AjG1sLKucLv5",
        "outputId": "b0f39a72-f426-4c40-c5c3-60da3944e0f0"
      },
      "outputs": [
        {
          "output_type": "execute_result",
          "data": {
            "text/plain": [
              "torch.Size([3, 32, 32, 50000])"
            ]
          },
          "metadata": {},
          "execution_count": 64
        }
      ],
      "source": [
        "# stacking tensors in additional dimension\n",
        "imgs = torch.stack([img_t for img_t, _ in tensor_cifar10], dim=3)\n",
        "imgs.shape"
      ]
    },
    {
      "cell_type": "markdown",
      "metadata": {
        "id": "R_y9tbSLevKN"
      },
      "source": [
        "Normalizing the dataset"
      ]
    },
    {
      "cell_type": "code",
      "execution_count": 65,
      "metadata": {
        "colab": {
          "base_uri": "https://localhost:8080/"
        },
        "id": "O63p3_N4eNiD",
        "outputId": "3c197a32-a198-4de5-dbb5-58e4e1df28d7"
      },
      "outputs": [
        {
          "output_type": "execute_result",
          "data": {
            "text/plain": [
              "tensor([0.4914, 0.4822, 0.4465])"
            ]
          },
          "metadata": {},
          "execution_count": 65
        }
      ],
      "source": [
        "mean = imgs.view(3, -1).mean(dim=1)\n",
        "mean"
      ]
    },
    {
      "cell_type": "code",
      "execution_count": 66,
      "metadata": {
        "colab": {
          "base_uri": "https://localhost:8080/"
        },
        "id": "1ul4tJ7aeqJM",
        "outputId": "b90045ee-2d3f-4324-9974-3f43f539df9c"
      },
      "outputs": [
        {
          "output_type": "execute_result",
          "data": {
            "text/plain": [
              "tensor([0.2470, 0.2435, 0.2616])"
            ]
          },
          "metadata": {},
          "execution_count": 66
        }
      ],
      "source": [
        "std = imgs.view(3, -1).std(dim=1)\n",
        "std"
      ]
    },
    {
      "cell_type": "code",
      "execution_count": 67,
      "metadata": {
        "colab": {
          "base_uri": "https://localhost:8080/"
        },
        "id": "bNgPSvlXesdr",
        "outputId": "33e660eb-71ae-43f6-f424-341cdf79f0ff"
      },
      "outputs": [
        {
          "output_type": "execute_result",
          "data": {
            "text/plain": [
              "Dataset CIFAR10\n",
              "    Number of datapoints: 50000\n",
              "    Root location: ../data-unversioned/p1ch7/\n",
              "    Split: Train\n",
              "    StandardTransform\n",
              "Transform: Compose(\n",
              "               ToTensor()\n",
              "               Normalize(mean=[0.4914, 0.4822, 0.4465], std=[0.247, 0.2435, 0.2616])\n",
              "           )"
            ]
          },
          "metadata": {},
          "execution_count": 67
        }
      ],
      "source": [
        "transformed_cifar10 = datasets.CIFAR10(\n",
        "    data_path, train=True, download=False,\n",
        "    transform=transforms.Compose([\n",
        "        transforms.ToTensor(),\n",
        "        transforms.Normalize([0.4914, 0.4822, 0.4465],\n",
        "                             [0.2470, 0.2435, 0.2616])\n",
        "    ]))\n",
        "transformed_cifar10"
      ]
    },
    {
      "cell_type": "markdown",
      "metadata": {
        "id": "U97EyokxfrPc"
      },
      "source": [
        "Our image after normalization"
      ]
    },
    {
      "cell_type": "code",
      "execution_count": 68,
      "metadata": {
        "colab": {
          "base_uri": "https://localhost:8080/",
          "height": 447
        },
        "id": "10Sr0iele7xI",
        "outputId": "456a5e7e-c051-4c93-e116-9bfd257f1db6"
      },
      "outputs": [
        {
          "output_type": "stream",
          "name": "stderr",
          "text": [
            "WARNING:matplotlib.image:Clipping input data to the valid range for imshow with RGB data ([0..1] for floats or [0..255] for integers).\n"
          ]
        },
        {
          "output_type": "display_data",
          "data": {
            "text/plain": [
              "<Figure size 640x480 with 1 Axes>"
            ],
            "image/png": "[encoded data removed]"
          },
          "metadata": {}
        }
      ],
      "source": [
        "image, _ = transformed_cifar10[4]\n",
        "plt.imshow(image.permute(1, 2, 0))\n",
        "plt.show()"
      ]
    },
    {
      "cell_type": "markdown",
      "metadata": {
        "id": "IFTkaFP-jUxf"
      },
      "source": [
        "Let's do binary classification"
      ]
    },
    {
      "cell_type": "code",
      "execution_count": 69,
      "metadata": {
        "id": "NqLPGk_ke9h-"
      },
      "outputs": [],
      "source": [
        "label_map = {0: 0, 2: 1}\n",
        "class_names = ['airplane', 'bird']\n",
        "cifar2 = [(to_tensor(img), label_map[label]) for img, label in cifar10 if label in [0, 2]]\n",
        "cifar2_val = [(to_tensor(img), label_map[label]) for img, label in cifar10_val if label in [0, 2]]"
      ]
    },
    {
      "cell_type": "markdown",
      "metadata": {
        "id": "LMO8OWtOjeth"
      },
      "source": [
        "To create model for simple fully connected net, we need to flatten the inputs from size 32 × 32 × 3 to 3072."
      ]
    },
    {
      "cell_type": "code",
      "execution_count": 70,
      "metadata": {
        "id": "XhnccWhsjYLa"
      },
      "outputs": [],
      "source": [
        "import torch.nn as nn\n",
        "\n",
        "n_out = 2\n",
        "n_in = 3072\n",
        "hidden = 512"
      ]
    },
    {
      "cell_type": "markdown",
      "metadata": {
        "id": "y0KGJHUalJiQ"
      },
      "source": [
        "As we have 2 outputs we will use Softmax here to select the class with the highest probability.\n",
        "- https://web.stanford.edu/~nanbhas/blog/sigmoid-softmax/\n",
        "- https://deepai.org/machine-learning-glossary-and-terms/softmax-layer"
      ]
    },
    {
      "cell_type": "code",
      "execution_count": 71,
      "metadata": {
        "id": "371tPBAcj_8G"
      },
      "outputs": [],
      "source": [
        "model = nn.Sequential(\n",
        "            nn.Linear(n_in, hidden),\n",
        "            nn.ReLU(),\n",
        "            nn.Linear(hidden, n_out),\n",
        "            nn.Softmax(dim=1)\n",
        "        )"
      ]
    },
    {
      "cell_type": "markdown",
      "metadata": {
        "id": "uOybpJ75oX-F"
      },
      "source": [
        "As we chose as the loss function NLLLoss, it expects log probabilities.\n",
        "https://pytorch.org/docs/stable/generated/torch.nn.NLLLoss.html\n",
        "\n",
        "So we switch nn.Softmax(dim=1) to nn.LogSoftmax(dim=1)"
      ]
    },
    {
      "cell_type": "code",
      "execution_count": 76,
      "metadata": {
        "id": "WpgoxArkm_2c"
      },
      "outputs": [],
      "source": [
        "model = nn.Sequential(\n",
        "            nn.Linear(n_in, hidden),\n",
        "            nn.ReLU(),\n",
        "            nn.Linear(hidden, n_out),\n",
        "            nn.LogSoftmax(dim=1)\n",
        "        )"
      ]
    },
    {
      "cell_type": "code",
      "execution_count": 77,
      "metadata": {
        "id": "itEE5juyoozw"
      },
      "outputs": [],
      "source": [
        "learning_rate = 1e-2\n",
        "n_epochs = 100\n",
        "optimizer = torch.optim.SGD(model.parameters(), lr=learning_rate)\n",
        "loss_fn = nn.NLLLoss()"
      ]
    },
    {
      "cell_type": "markdown",
      "metadata": {
        "id": "MJu6ChdIq_NJ"
      },
      "source": [
        "Please read about Gradient Descent, Stochastic Gradient Descent and Minibatch Stochastic Gradient Descent here:\n",
        "https://d2l.ai/chapter_optimization/index.html"
      ]
    },
    {
      "cell_type": "code",
      "execution_count": 78,
      "metadata": {
        "id": "S_TdrIP5pDO8",
        "colab": {
          "base_uri": "https://localhost:8080/"
        },
        "outputId": "3a728733-1007-438f-e58c-ab668c509b54"
      },
      "outputs": [
        {
          "output_type": "stream",
          "name": "stdout",
          "text": [
            "Epoch: 0, Loss: 1.185311\n",
            "Epoch: 1, Loss: 1.164590\n",
            "Epoch: 2, Loss: 1.381441\n",
            "Epoch: 3, Loss: 1.376193\n",
            "Epoch: 4, Loss: 1.119919\n",
            "Epoch: 5, Loss: 1.212987\n",
            "Epoch: 6, Loss: 1.693740\n",
            "Epoch: 7, Loss: 0.832529\n",
            "Epoch: 8, Loss: 1.352289\n",
            "Epoch: 9, Loss: 1.204608\n",
            "Epoch: 10, Loss: 1.303428\n",
            "Epoch: 11, Loss: 1.307679\n",
            "Epoch: 12, Loss: 1.387713\n",
            "Epoch: 13, Loss: 1.674826\n",
            "Epoch: 14, Loss: 1.052518\n",
            "Epoch: 15, Loss: 2.432188\n",
            "Epoch: 16, Loss: 2.261212\n",
            "Epoch: 17, Loss: 1.535961\n",
            "Epoch: 18, Loss: 2.452604\n",
            "Epoch: 19, Loss: 1.305488\n",
            "Epoch: 20, Loss: 1.353643\n",
            "Epoch: 21, Loss: 1.423222\n",
            "Epoch: 22, Loss: 1.218291\n",
            "Epoch: 23, Loss: 0.826171\n",
            "Epoch: 24, Loss: 0.845826\n",
            "Epoch: 25, Loss: 1.228000\n",
            "Epoch: 26, Loss: 0.630902\n",
            "Epoch: 27, Loss: 2.133204\n",
            "Epoch: 28, Loss: 0.692698\n",
            "Epoch: 29, Loss: 1.009678\n",
            "Epoch: 30, Loss: 1.894916\n",
            "Epoch: 31, Loss: 2.958113\n",
            "Epoch: 32, Loss: 1.345735\n",
            "Epoch: 33, Loss: 1.011866\n",
            "Epoch: 34, Loss: 2.068646\n",
            "Epoch: 35, Loss: 1.472834\n",
            "Epoch: 36, Loss: 1.052137\n",
            "Epoch: 37, Loss: 1.638085\n",
            "Epoch: 38, Loss: 2.420103\n",
            "Epoch: 39, Loss: 2.348402\n",
            "Epoch: 40, Loss: 3.805843\n",
            "Epoch: 41, Loss: 2.706060\n",
            "Epoch: 42, Loss: 2.196041\n",
            "Epoch: 43, Loss: 3.918664\n",
            "Epoch: 44, Loss: 2.109643\n",
            "Epoch: 45, Loss: 6.394384\n",
            "Epoch: 46, Loss: 4.621335\n",
            "Epoch: 47, Loss: 2.617328\n",
            "Epoch: 48, Loss: 3.993172\n",
            "Epoch: 49, Loss: 2.828594\n",
            "Epoch: 50, Loss: 4.010046\n",
            "Epoch: 51, Loss: 1.534094\n",
            "Epoch: 52, Loss: 2.218173\n",
            "Epoch: 53, Loss: 2.530988\n",
            "Epoch: 54, Loss: 1.726031\n",
            "Epoch: 55, Loss: 3.012680\n",
            "Epoch: 56, Loss: 3.926905\n",
            "Epoch: 57, Loss: 4.233097\n",
            "Epoch: 58, Loss: 3.824148\n",
            "Epoch: 59, Loss: 4.135253\n",
            "Epoch: 60, Loss: 3.768422\n",
            "Epoch: 61, Loss: 2.893340\n",
            "Epoch: 62, Loss: 1.293376\n",
            "Epoch: 63, Loss: 2.641134\n",
            "Epoch: 64, Loss: 3.449841\n",
            "Epoch: 65, Loss: 4.472832\n",
            "Epoch: 66, Loss: 3.422287\n",
            "Epoch: 67, Loss: 6.023384\n",
            "Epoch: 68, Loss: 3.441405\n",
            "Epoch: 69, Loss: 3.438087\n",
            "Epoch: 70, Loss: 2.716409\n",
            "Epoch: 71, Loss: 1.816313\n",
            "Epoch: 72, Loss: 3.023093\n",
            "Epoch: 73, Loss: 2.748951\n",
            "Epoch: 74, Loss: 0.499156\n",
            "Epoch: 75, Loss: 2.734826\n",
            "Epoch: 76, Loss: 4.481900\n",
            "Epoch: 77, Loss: 3.297809\n",
            "Epoch: 78, Loss: 3.857298\n",
            "Epoch: 79, Loss: 2.864975\n",
            "Epoch: 80, Loss: 2.259362\n",
            "Epoch: 81, Loss: 6.923817\n",
            "Epoch: 82, Loss: 5.115482\n",
            "Epoch: 83, Loss: 2.209771\n",
            "Epoch: 84, Loss: 3.638758\n",
            "Epoch: 85, Loss: 2.812166\n",
            "Epoch: 86, Loss: 4.975879\n",
            "Epoch: 87, Loss: 3.907900\n",
            "Epoch: 88, Loss: 1.101972\n",
            "Epoch: 89, Loss: 0.869390\n",
            "Epoch: 90, Loss: 4.912267\n",
            "Epoch: 91, Loss: 2.624019\n",
            "Epoch: 92, Loss: 5.924129\n",
            "Epoch: 93, Loss: 3.167122\n",
            "Epoch: 94, Loss: 2.422711\n",
            "Epoch: 95, Loss: 0.956717\n",
            "Epoch: 96, Loss: 3.885270\n",
            "Epoch: 97, Loss: 0.812692\n",
            "Epoch: 98, Loss: 2.522207\n",
            "Epoch: 99, Loss: 2.130209\n"
          ]
        }
      ],
      "source": [
        "for epoch in range(n_epochs):\n",
        "    for img, label in cifar2:\n",
        "        out = model(img.view(-1).unsqueeze(0))\n",
        "        loss = loss_fn(out, torch.tensor([label]))\n",
        "\n",
        "        optimizer.zero_grad()\n",
        "        loss.backward()\n",
        "        optimizer.step()\n",
        "\n",
        "    print(\"Epoch: %d, Loss: %f\" % (epoch, float(loss)))"
      ]
    },
    {
      "cell_type": "markdown",
      "metadata": {
        "id": "4BdVO41AuzTE"
      },
      "source": [
        "# Task 1 (2.5 points)\n",
        "\n",
        "Implement multiclass classification on all classes from cifar10 using CrossEntropyLoss.\n",
        "https://pytorch.org/docs/stable/generated/torch.nn.CrossEntropyLoss.html\n",
        "\n",
        "Implement training loop using minibatches."
      ]
    },
    {
      "cell_type": "code",
      "source": [
        "transformed_cifar10 = datasets.CIFAR10(\n",
        "    data_path, train=True, download=False,\n",
        "    transform=transforms.Compose([\n",
        "        transforms.ToTensor(),\n",
        "        transforms.Normalize([0.4914, 0.4822, 0.4465],\n",
        "                             [0.2470, 0.2435, 0.2616])\n",
        "    ]))\n",
        "\n",
        "\n",
        "\n",
        "n_out = 10\n",
        "n_in = 3072\n",
        "hidden = 512\n",
        "\n",
        "model = nn.Sequential(\n",
        "            nn.Linear(n_in, hidden),\n",
        "            nn.ReLU(),\n",
        "            nn.Linear(hidden, n_out),\n",
        "            nn.LogSoftmax(dim=1)\n",
        "        )\n",
        "\n",
        "learning_rate = 1e-2\n",
        "n_epochs = 100\n",
        "optimizer = torch.optim.SGD(model.parameters(), lr=learning_rate)\n",
        "# crossentropy loss\n",
        "\n",
        "loss_fn = nn.CrossEntropyLoss()\n",
        "\n",
        "# train in minibatches\n",
        "\n",
        "train_loader = torch.utils.data.DataLoader(transformed_cifar10, batch_size=64, shuffle=True)\n",
        "\n",
        "for epoch in range(n_epochs):\n",
        "    for imgs, labels in train_loader:\n",
        "        batch_size = imgs.shape[0]\n",
        "        outputs = model(imgs.view(batch_size, -1))\n",
        "        loss = loss_fn(outputs, labels)\n",
        "\n",
        "        optimizer.zero_grad()\n",
        "        loss.backward()\n",
        "        optimizer.step()\n",
        "\n",
        "    print(\"Epoch: %d, Loss: %f\" % (epoch, float(loss)))"
      ],
      "metadata": {
        "colab": {
          "base_uri": "https://localhost:8080/"
        },
        "id": "0zr3Z_hs2E-i",
        "outputId": "a34094ac-4e53-44c8-8eda-1c7c8766f3b1"
      },
      "execution_count": 75,
      "outputs": [
        {
          "output_type": "stream",
          "name": "stdout",
          "text": [
            "Epoch: 0, Loss: 1.799006\n",
            "Epoch: 1, Loss: 1.680776\n",
            "Epoch: 2, Loss: 1.268399\n",
            "Epoch: 3, Loss: 1.504436\n",
            "Epoch: 4, Loss: 1.481860\n",
            "Epoch: 5, Loss: 1.475464\n",
            "Epoch: 6, Loss: 1.071688\n",
            "Epoch: 7, Loss: 0.765258\n",
            "Epoch: 8, Loss: 1.608443\n",
            "Epoch: 9, Loss: 0.958725\n",
            "Epoch: 10, Loss: 0.828054\n",
            "Epoch: 11, Loss: 0.952797\n",
            "Epoch: 12, Loss: 0.856999\n",
            "Epoch: 13, Loss: 0.571009\n",
            "Epoch: 14, Loss: 0.952858\n",
            "Epoch: 15, Loss: 0.853767\n",
            "Epoch: 16, Loss: 0.962300\n",
            "Epoch: 17, Loss: 0.892032\n",
            "Epoch: 18, Loss: 0.942823\n",
            "Epoch: 19, Loss: 0.628071\n",
            "Epoch: 20, Loss: 0.859537\n",
            "Epoch: 21, Loss: 0.829348\n",
            "Epoch: 22, Loss: 0.889300\n",
            "Epoch: 23, Loss: 0.691489\n",
            "Epoch: 24, Loss: 0.731732\n",
            "Epoch: 25, Loss: 0.366327\n",
            "Epoch: 26, Loss: 0.606481\n",
            "Epoch: 27, Loss: 0.689806\n",
            "Epoch: 28, Loss: 0.509173\n",
            "Epoch: 29, Loss: 0.645230\n",
            "Epoch: 30, Loss: 0.171143\n",
            "Epoch: 31, Loss: 1.195959\n",
            "Epoch: 32, Loss: 0.347512\n",
            "Epoch: 33, Loss: 0.477364\n",
            "Epoch: 34, Loss: 0.538375\n",
            "Epoch: 35, Loss: 0.121554\n",
            "Epoch: 36, Loss: 0.212162\n",
            "Epoch: 37, Loss: 0.540505\n",
            "Epoch: 38, Loss: 0.215979\n",
            "Epoch: 39, Loss: 0.433950\n",
            "Epoch: 40, Loss: 0.296037\n",
            "Epoch: 41, Loss: 0.245683\n",
            "Epoch: 42, Loss: 0.514553\n",
            "Epoch: 43, Loss: 0.345687\n",
            "Epoch: 44, Loss: 0.113905\n",
            "Epoch: 45, Loss: 0.284253\n",
            "Epoch: 46, Loss: 0.441321\n",
            "Epoch: 47, Loss: 0.276956\n",
            "Epoch: 48, Loss: 0.138576\n",
            "Epoch: 49, Loss: 0.377102\n",
            "Epoch: 50, Loss: 0.089307\n",
            "Epoch: 51, Loss: 0.131471\n",
            "Epoch: 52, Loss: 0.268789\n",
            "Epoch: 53, Loss: 0.263316\n",
            "Epoch: 54, Loss: 0.160603\n",
            "Epoch: 55, Loss: 0.595916\n",
            "Epoch: 56, Loss: 0.104322\n",
            "Epoch: 57, Loss: 0.086198\n",
            "Epoch: 58, Loss: 0.168915\n",
            "Epoch: 59, Loss: 0.450325\n",
            "Epoch: 60, Loss: 0.090904\n",
            "Epoch: 61, Loss: 0.176796\n",
            "Epoch: 62, Loss: 0.057579\n",
            "Epoch: 63, Loss: 0.087015\n",
            "Epoch: 64, Loss: 0.120428\n",
            "Epoch: 65, Loss: 0.026486\n",
            "Epoch: 66, Loss: 0.032089\n",
            "Epoch: 67, Loss: 0.064512\n",
            "Epoch: 68, Loss: 0.050276\n",
            "Epoch: 69, Loss: 0.032108\n",
            "Epoch: 70, Loss: 0.076152\n",
            "Epoch: 71, Loss: 0.245779\n",
            "Epoch: 72, Loss: 0.021027\n",
            "Epoch: 73, Loss: 0.044578\n",
            "Epoch: 74, Loss: 0.068040\n",
            "Epoch: 75, Loss: 0.087608\n",
            "Epoch: 76, Loss: 0.045606\n",
            "Epoch: 77, Loss: 0.040941\n",
            "Epoch: 78, Loss: 0.038021\n",
            "Epoch: 79, Loss: 0.020109\n",
            "Epoch: 80, Loss: 0.015781\n",
            "Epoch: 81, Loss: 0.064667\n",
            "Epoch: 82, Loss: 0.021424\n",
            "Epoch: 83, Loss: 0.054764\n",
            "Epoch: 84, Loss: 0.046599\n",
            "Epoch: 85, Loss: 0.074551\n",
            "Epoch: 86, Loss: 0.051475\n",
            "Epoch: 87, Loss: 0.064866\n",
            "Epoch: 88, Loss: 0.048664\n",
            "Epoch: 89, Loss: 0.026840\n",
            "Epoch: 90, Loss: 0.028266\n",
            "Epoch: 91, Loss: 0.031780\n",
            "Epoch: 92, Loss: 0.021655\n",
            "Epoch: 93, Loss: 0.013148\n",
            "Epoch: 94, Loss: 0.029104\n",
            "Epoch: 95, Loss: 0.023046\n",
            "Epoch: 96, Loss: 0.015782\n",
            "Epoch: 97, Loss: 0.025112\n",
            "Epoch: 98, Loss: 0.036013\n",
            "Epoch: 99, Loss: 0.021150\n"
          ]
        }
      ]
    },
    {
      "cell_type": "markdown",
      "metadata": {
        "id": "lmjo64nxZ3EY"
      },
      "source": [
        "## Convolutions\n",
        "\n",
        "One of many problems with previous nets that classified images is that they learned each pixel in the image instead of learning shapes.\n",
        "\n",
        "We had both too many parameters (making it easier for the model to memorize the training set) and no position independence (making it harder to generalize).\n",
        "\n",
        "To solve this we will use another linear operation: convolution."
      ]
    },
    {
      "cell_type": "markdown",
      "metadata": {
        "id": "gcXBt0h8bg8D"
      },
      "source": [
        "Before, we built a network that accepts the normalized pixel values of each value and operates soley on those values. What if we could instead feed different features (e.g. **curvature, edges**) of each image into a network, and have the network learn which features are important for classifying an image?\n",
        "\n",
        "This possible through convolution! Convolution applies **kernels** (filters) that traverse through each image and generate **feature maps**.\n",
        "\n"
      ]
    },
    {
      "cell_type": "markdown",
      "metadata": {
        "id": "xlR-RnwUbnw4"
      },
      "source": [
        "<img src = 'https://raw.githubusercontent.com/AviatorMoser/keras-mnist-tutorial/master/convolution.gif' >"
      ]
    },
    {
      "cell_type": "markdown",
      "metadata": {
        "id": "G-gt7sD1brhD"
      },
      "source": [
        "In the above example, the image is a 5 x 5 matrix and the kernel going over it is a 3 x 3 matrix. A dot product operation takes place between the image and the kernel and the convolved feature is generated. Each kernel in a CNN learns a different characteristic of an image.\n",
        "\n",
        "Kernels are often used in photoediting software to apply blurring, edge detection, sharpening, etc."
      ]
    },
    {
      "cell_type": "markdown",
      "metadata": {
        "id": "nKihSOuVbvtr"
      },
      "source": [
        "<img src = 'https://raw.githubusercontent.com/AviatorMoser/keras-mnist-tutorial/master/kernels.png' >"
      ]
    },
    {
      "cell_type": "markdown",
      "metadata": {
        "id": "2SVgp4b1bznO"
      },
      "source": [
        "Kernels in deep learning networks are used in similar ways, i.e. highlighting some feature. Combined with a system called **max pooling**, the non-highlighted elements are discarded from each feature map, leaving only the features of interest, reducing the number of learned parameters, and decreasing the computational cost (e.g. system memory)."
      ]
    },
    {
      "cell_type": "markdown",
      "metadata": {
        "id": "iqJ54O67b2gZ"
      },
      "source": [
        "<img src = 'https://raw.githubusercontent.com/AviatorMoser/keras-mnist-tutorial/master/max_pooling.png' width=\"450\">"
      ]
    },
    {
      "cell_type": "markdown",
      "metadata": {
        "id": "eOYseoWTb-XY"
      },
      "source": [
        "We can also take convolutions of convolutions -- we can stack as many convolutions as we want, as long as there are enough pixels to fit a kernel.\n",
        "\n",
        "*Warning: What you may find down there in those deep convolutions may not appear recognizable to you.*"
      ]
    },
    {
      "cell_type": "markdown",
      "metadata": {
        "id": "Te2VRp0zdnmp"
      },
      "source": [
        "The same kernel, and thus each weight in the kernel, is reused across the whole image.\n",
        "\n",
        "So, by using convolutions we get:\n",
        "- Models with a lot fewer parameters (now number of parameters don't depend on pixels in the image, as was the case in our fully connected model, but rather on the size of the convolution kernel)\n",
        "- Local operations on neighborhoods"
      ]
    },
    {
      "cell_type": "code",
      "execution_count": 79,
      "metadata": {
        "id": "pb2kWcbrtGR_"
      },
      "outputs": [],
      "source": [
        "import torch.nn as nn"
      ]
    },
    {
      "cell_type": "code",
      "execution_count": 80,
      "metadata": {
        "colab": {
          "base_uri": "https://localhost:8080/"
        },
        "id": "asLBVKXKeRzV",
        "outputId": "63959a6a-4a37-4157-9311-c61b25e82da3"
      },
      "outputs": [
        {
          "output_type": "execute_result",
          "data": {
            "text/plain": [
              "Conv2d(3, 16, kernel_size=(3, 3), stride=(1, 1))"
            ]
          },
          "metadata": {},
          "execution_count": 80
        }
      ],
      "source": [
        "conv = nn.Conv2d(3, 16, kernel_size=(3, 3)) # input channels 3, output channels 16, kernel 3x3\n",
        "conv"
      ]
    },
    {
      "cell_type": "markdown",
      "metadata": {
        "id": "FuEM7iOxfNb9"
      },
      "source": [
        "For a single output pixel value, our kernel would consider in this case in_ch = 3 input channels, so the weight component for a single output pixel value is of shape in_ch × 3 × 3.\n",
        "\n",
        "And we have as many of those above as we have output channels, here out_ch = 16, so the complete weight tensor is out_ch × in_ch × 3 × 3."
      ]
    },
    {
      "cell_type": "markdown",
      "metadata": {
        "id": "9QEbNkWTfp71"
      },
      "source": [
        "We have smaller models looking for local patterns whose weights are optimized across the entire image."
      ]
    },
    {
      "cell_type": "markdown",
      "metadata": {
        "id": "EbDkYCw8gPXP"
      },
      "source": [
        "It is worth noting, that for edge pixels we can also use padding, which means adding empty pixels so that kernels can use edge pixes.\n",
        "\n",
        "https://d2l.ai/chapter_convolutional-neural-networks/padding-and-strides.html"
      ]
    },
    {
      "cell_type": "code",
      "execution_count": 81,
      "metadata": {
        "colab": {
          "base_uri": "https://localhost:8080/"
        },
        "id": "fOjrqOuCeTUG",
        "outputId": "98917ce7-4f51-417c-e959-9bfe98e18677"
      },
      "outputs": [
        {
          "output_type": "execute_result",
          "data": {
            "text/plain": [
              "Conv2d(3, 1, kernel_size=(3, 3), stride=(1, 1), padding=(1, 1))"
            ]
          },
          "metadata": {},
          "execution_count": 81
        }
      ],
      "source": [
        "conv = nn.Conv2d(3, 1, kernel_size=3, padding=1)\n",
        "conv"
      ]
    },
    {
      "cell_type": "markdown",
      "metadata": {
        "id": "zKOBf_FOiMdv"
      },
      "source": [
        "After conv layers we are using downsampling:\n",
        "https://d2l.ai/chapter_convolutional-neural-networks/pooling.html\n",
        "\n",
        "Downsampling could in principle occur in different ways.\n",
        "- Average the four (or more) pixels.\n",
        "- Take the maximum of the four (or more) pixels.\n",
        "- Perform a strided convolution, where only every Nth pixel is calculated.\n",
        "\n",
        "Combining convolutions and downsampling can help us recognize larger structures.\n",
        "\n",
        "So when we chain them like conv -> pooling -> conv -> pooling, the first set of kernels operates on small neighborhoods on first-order, low-level features, while the second set of kernels effectively operates on wider neighborhoods, producing features that are compositions of the previous features."
      ]
    },
    {
      "cell_type": "code",
      "execution_count": 82,
      "metadata": {
        "colab": {
          "base_uri": "https://localhost:8080/"
        },
        "id": "mQbv65Dngvb-",
        "outputId": "2ee57aee-1ee9-4620-98d7-47b512b6dbe2"
      },
      "outputs": [
        {
          "output_type": "execute_result",
          "data": {
            "text/plain": [
              "MaxPool2d(kernel_size=2, stride=2, padding=0, dilation=1, ceil_mode=False)"
            ]
          },
          "metadata": {},
          "execution_count": 82
        }
      ],
      "source": [
        "pool = nn.MaxPool2d(2)\n",
        "pool"
      ]
    },
    {
      "cell_type": "code",
      "execution_count": 83,
      "metadata": {
        "id": "XHGW57RwjHL8"
      },
      "outputs": [],
      "source": [
        "model = nn.Sequential(\n",
        "            nn.Conv2d(3, 16, kernel_size=3, padding=1), # 3 RGB channels mapped to 16 channels after convolution and size of image (32x32) thanks to padding\n",
        "            nn.ReLU(), # activation function\n",
        "            nn.MaxPool2d(2), # max pooling resuling in 16 channels but size 16x16\n",
        "            nn.Conv2d(16, 8, kernel_size=3, padding=1), # 16 channels to 8 channels, size 16x16 thanks to padding of 1 and kernel 3x3\n",
        "            nn.ReLU(),\n",
        "            nn.MaxPool2d(2), # 8 channels, output size 8x8\n",
        "            nn.Linear(8 * 8 * 8, 32), # flattening 8 channels and size 8x8 to single vector of size 8*8*8\n",
        "            nn.ReLU(),\n",
        "            nn.Linear(32, 2) # 2 output neurons\n",
        ")"
      ]
    },
    {
      "cell_type": "markdown",
      "metadata": {
        "id": "5pYUaVre98eS"
      },
      "source": [
        "### Using Pytorch nn.Module\n",
        "\n"
      ]
    },
    {
      "cell_type": "code",
      "execution_count": 84,
      "metadata": {
        "id": "t5GxEmmyj6TJ"
      },
      "outputs": [],
      "source": [
        "class Net(nn.Module):\n",
        "    def __init__(self):\n",
        "        super().__init__()\n",
        "        self.conv1 = nn.Conv2d(3, 16, kernel_size=3, padding=1)\n",
        "        self.act1 = nn.ReLU()\n",
        "        self.pool1 = nn.MaxPool2d(2)\n",
        "        self.conv2 = nn.Conv2d(16, 8, kernel_size=3, padding=1)\n",
        "        self.act2 = nn.ReLU()\n",
        "        self.pool2 = nn.MaxPool2d(2)\n",
        "        self.fc1 = nn.Linear(8 * 8 * 8, 32)\n",
        "        self.act3 = nn.ReLU()\n",
        "        self.fc2 = nn.Linear(32, 2)\n",
        "\n",
        "    def forward(self, x):\n",
        "        out = self.pool1(self.act1(self.conv1(x)))\n",
        "        out = self.pool2(self.act2(self.conv2(out)))\n",
        "        out = out.view(-1, 8 * 8 * 8)\n",
        "        out = self.act3(self.fc1(out))\n",
        "        out = self.fc2(out)\n",
        "        return out"
      ]
    },
    {
      "cell_type": "code",
      "execution_count": 85,
      "metadata": {
        "id": "uMiyIkfD-FN9"
      },
      "outputs": [],
      "source": [
        "def training_loop(n_epochs, optimizer, model, loss_fn, train_loader):\n",
        "    for epoch in range(1, n_epochs + 1):\n",
        "        loss_train = 0.0\n",
        "        for imgs, labels in train_loader:\n",
        "            outputs = model(imgs)\n",
        "            loss = loss_fn(outputs, labels)\n",
        "            optimizer.zero_grad()\n",
        "            loss.backward()\n",
        "            optimizer.step()\n",
        "            loss_train += loss.item()\n",
        "        if epoch == 1 or epoch % 10 == 0:\n",
        "            print('Epoch {}, Training loss {}'.format( epoch,\n",
        "                loss_train / len(train_loader)))"
      ]
    },
    {
      "cell_type": "code",
      "execution_count": 86,
      "metadata": {
        "colab": {
          "base_uri": "https://localhost:8080/"
        },
        "id": "Q7jFz8qE-im-",
        "outputId": "1bb814ec-9da9-4b8e-e41e-db99df0e2d26"
      },
      "outputs": [
        {
          "output_type": "stream",
          "name": "stdout",
          "text": [
            "Epoch 1, Training loss 0.691016400315959\n",
            "Epoch 10, Training loss 0.48963951077430873\n",
            "Epoch 20, Training loss 0.362843584387925\n",
            "Epoch 30, Training loss 0.3277677515889429\n",
            "Epoch 40, Training loss 0.31194789603257633\n",
            "Epoch 50, Training loss 0.298839457285632\n",
            "Epoch 60, Training loss 0.28512574063175045\n",
            "Epoch 70, Training loss 0.2773948965748404\n",
            "Epoch 80, Training loss 0.26864624763749967\n",
            "Epoch 90, Training loss 0.25588402901865115\n",
            "Epoch 100, Training loss 0.24272050186517133\n"
          ]
        }
      ],
      "source": [
        "import torch\n",
        "\n",
        "train_loader = torch.utils.data.DataLoader(cifar2, batch_size=64, shuffle=True)\n",
        "\n",
        "model = Net()\n",
        "optimizer = torch.optim.SGD(model.parameters(), lr=1e-2)\n",
        "loss_fn = nn.CrossEntropyLoss()\n",
        "\n",
        "training_loop(\n",
        "    n_epochs = 100,\n",
        "    optimizer = optimizer,\n",
        "    model = model,\n",
        "    loss_fn = loss_fn,\n",
        "    train_loader = train_loader,\n",
        ")"
      ]
    },
    {
      "cell_type": "markdown",
      "metadata": {
        "id": "fwavxyGg_Sid"
      },
      "source": [
        "# Task 2 (2.5 points)\n",
        "\n",
        "- Add validation method and call it once per epoch on validation dataset\n",
        "- Play with the conv net architecture:\n",
        "  - Add regularization like Dropout or BatchNorm\n",
        "  - Add more layers of convolutions and see how it changes\n",
        "  - Change kernel size of convolutions\n",
        "- Read and compare/implement (just call pytorch optimizer) in our Net different optimizers (try Adam, SGD, Momentum). Plot how the learning look for them.\n"
      ]
    },
    {
      "cell_type": "code",
      "source": [
        "def training_loop(n_epochs, optimizer, model, loss_fn, train_loader):\n",
        "    training_losses = []\n",
        "    validation_losses = []\n",
        "    for epoch in range(1, n_epochs + 1):\n",
        "        loss_train = 0.0\n",
        "        for imgs, labels in train_loader:\n",
        "            outputs = model(imgs)\n",
        "            loss = loss_fn(outputs, labels)\n",
        "            optimizer.zero_grad()\n",
        "            loss.backward()\n",
        "            optimizer.step()\n",
        "            loss_train += loss.item()\n",
        "        if epoch == 1 or epoch % 10 == 0:\n",
        "            print('Epoch {}, Training loss {}'.format( epoch,\n",
        "                loss_train / len(train_loader)))\n",
        "\n",
        "        # validation\n",
        "        if epoch == 1 or epoch % 10 == 0:\n",
        "          val_loss_total = 0.0\n",
        "          with torch.no_grad():\n",
        "              for val_imgs, val_labels in val_loader:\n",
        "                  val_outputs = model(val_imgs)\n",
        "                  val_loss = loss_fn(val_outputs, val_labels)\n",
        "                  val_loss_total += val_loss.item()\n",
        "              print(\"Validation loss {}\".format(val_loss_total / len(val_loader)))\n",
        "        training_losses.append(loss_train)\n",
        "        validation_losses.append(val_loss_total)\n",
        "\n",
        "    # plot losses\n",
        "    plt.plot(training_losses, label=\"training loss\")\n",
        "    plt.plot(validation_losses, label=\"validation loss\")\n",
        "    plt.legend()\n",
        "    plt.show()"
      ],
      "metadata": {
        "id": "OaWBm_E-Mgd0"
      },
      "execution_count": 94,
      "outputs": []
    },
    {
      "cell_type": "code",
      "source": [
        "class Net(nn.Module):\n",
        "    def __init__(self):\n",
        "        super().__init__()\n",
        "        self.conv1 = nn.Conv2d(3, 16, kernel_size=3, padding=1)\n",
        "        self.act1 = nn.ReLU()\n",
        "        self.pool1 = nn.MaxPool2d(2)\n",
        "        self.conv2 = nn.Conv2d(16, 8, kernel_size=3, padding=1)\n",
        "        self.act2 = nn.ReLU()\n",
        "        self.pool2 = nn.MaxPool2d(2)\n",
        "        self.fc1 = nn.Linear(8 * 8 * 8, 32)\n",
        "        self.act3 = nn.ReLU()\n",
        "        self.fc2 = nn.Linear(32, 2)\n",
        "\n",
        "    def forward(self, x):\n",
        "        out = self.pool1(self.act1(self.conv1(x)))\n",
        "        out = self.pool2(self.act2(self.conv2(out)))\n",
        "        out = out.view(-1, 8 * 8 * 8)\n",
        "        out = self.act3(self.fc1(out))\n",
        "        out = self.fc2(out)\n",
        "        return out"
      ],
      "metadata": {
        "id": "-INE0p9EQIK0"
      },
      "execution_count": 95,
      "outputs": []
    },
    {
      "cell_type": "code",
      "source": [
        "import torch\n",
        "\n",
        "train_loader = torch.utils.data.DataLoader(cifar2, batch_size=64, shuffle=True)\n",
        "val_loader = torch.utils.data.DataLoader(cifar2_val, batch_size=64, shuffle=False)\n",
        "\n",
        "model = Net()\n",
        "optimizer = torch.optim.SGD(model.parameters(), lr=1e-2)\n",
        "loss_fn = nn.CrossEntropyLoss()\n",
        "\n",
        "training_loop(\n",
        "    n_epochs = 100,\n",
        "    optimizer = optimizer,\n",
        "    model = model,\n",
        "    loss_fn = loss_fn,\n",
        "    train_loader = train_loader,\n",
        ")"
      ],
      "metadata": {
        "colab": {
          "base_uri": "https://localhost:8080/",
          "height": 812
        },
        "id": "DZWyRSBFMjwt",
        "outputId": "15151090-e4a1-4b92-a7f3-6acb1b7d5c37"
      },
      "execution_count": 96,
      "outputs": [
        {
          "output_type": "stream",
          "name": "stdout",
          "text": [
            "Epoch 1, Training loss 0.6941196451521223\n",
            "Validation loss 0.6902839969843626\n",
            "Epoch 10, Training loss 0.4753779093171381\n",
            "Validation loss 0.4844355555251241\n",
            "Epoch 20, Training loss 0.3798902217939401\n",
            "Validation loss 0.4441220546141267\n",
            "Epoch 30, Training loss 0.34358362796579955\n",
            "Validation loss 0.34760916233062744\n",
            "Epoch 40, Training loss 0.32027257902986683\n",
            "Validation loss 0.3168454235419631\n",
            "Epoch 50, Training loss 0.3023212166728487\n",
            "Validation loss 0.36907423799857497\n",
            "Epoch 60, Training loss 0.28989267766855326\n",
            "Validation loss 0.2971651181578636\n",
            "Epoch 70, Training loss 0.2740234809506471\n",
            "Validation loss 0.28700894583016634\n",
            "Epoch 80, Training loss 0.26017625729559335\n",
            "Validation loss 0.2908688331954181\n",
            "Epoch 90, Training loss 0.24802825353138006\n",
            "Validation loss 0.2964518121443689\n",
            "Epoch 100, Training loss 0.23726705252934413\n",
            "Validation loss 0.4661910068243742\n"
          ]
        },
        {
          "output_type": "display_data",
          "data": {
            "text/plain": [
              "<Figure size 640x480 with 1 Axes>"
            ],
            "image/png": "[encoded data removed]"
          },
          "metadata": {}
        }
      ]
    },
    {
      "cell_type": "markdown",
      "source": [
        "## Regularization\n"
      ],
      "metadata": {
        "id": "39RkRKonOi-r"
      }
    },
    {
      "cell_type": "code",
      "source": [
        "class Net(nn.Module):\n",
        "    def __init__(self):\n",
        "        super().__init__()\n",
        "        self.conv1 = nn.Conv2d(3, 16, kernel_size=3, padding=1)\n",
        "        self.act1 = nn.ReLU()\n",
        "        self.pool1 = nn.MaxPool2d(2)\n",
        "        self.conv2 = nn.Conv2d(16, 8, kernel_size=3, padding=1)\n",
        "        self.act2 = nn.ReLU()\n",
        "        self.pool2 = nn.MaxPool2d(2)\n",
        "        self.fc1 = nn.Linear(8 * 8 * 8, 32)\n",
        "        self.act3 = nn.ReLU()\n",
        "        self.fc2 = nn.Linear(32, 2)\n",
        "\n",
        "        # add regularization\n",
        "        self.drop = nn.Dropout2d(0.25)\n",
        "        self.batch_norm1 = nn.BatchNorm2d(16)\n",
        "\n",
        "    def forward(self, x):\n",
        "        out = self.conv1(x)\n",
        "        out = self.batch_norm1(out)\n",
        "        out = self.act1(out)\n",
        "        out = self.pool1(out)\n",
        "        out = self.conv2(out)\n",
        "        out = self.act2(out)\n",
        "        out = self.pool2(out)\n",
        "        out = self.drop(out)\n",
        "        out = out.view(-1, 8 * 8 * 8)\n",
        "        out = self.fc1(out)\n",
        "        out = self.act3(out)\n",
        "        out = self.fc2(out)\n",
        "        return out"
      ],
      "metadata": {
        "id": "iR09bG2AOnUe"
      },
      "execution_count": 97,
      "outputs": []
    },
    {
      "cell_type": "code",
      "source": [
        "import torch\n",
        "\n",
        "train_loader = torch.utils.data.DataLoader(cifar2, batch_size=64, shuffle=True)\n",
        "val_loader = torch.utils.data.DataLoader(cifar2_val, batch_size=64, shuffle=False)\n",
        "\n",
        "model = Net()\n",
        "optimizer = torch.optim.SGD(model.parameters(), lr=1e-2)\n",
        "loss_fn = nn.CrossEntropyLoss()\n",
        "\n",
        "training_loop(\n",
        "    n_epochs = 100,\n",
        "    optimizer = optimizer,\n",
        "    model = model,\n",
        "    loss_fn = loss_fn,\n",
        "    train_loader = train_loader,\n",
        ")"
      ],
      "metadata": {
        "colab": {
          "base_uri": "https://localhost:8080/",
          "height": 812
        },
        "id": "aSKSYHpoO_dv",
        "outputId": "f17f045a-1856-49a4-a1ae-c05cd2c1337b"
      },
      "execution_count": 98,
      "outputs": [
        {
          "output_type": "stream",
          "name": "stdout",
          "text": [
            "Epoch 1, Training loss 0.5875043557707671\n",
            "Validation loss 0.4972136225551367\n",
            "Epoch 10, Training loss 0.3444851559058876\n",
            "Validation loss 0.3924149153754115\n",
            "Epoch 20, Training loss 0.29875788495988603\n",
            "Validation loss 0.3237598519772291\n",
            "Epoch 30, Training loss 0.2835499470590786\n",
            "Validation loss 0.3367316070944071\n",
            "Epoch 40, Training loss 0.2609351823569103\n",
            "Validation loss 0.3243717667646706\n",
            "Epoch 50, Training loss 0.24168723494194116\n",
            "Validation loss 0.3095725830644369\n",
            "Epoch 60, Training loss 0.22875048044570692\n",
            "Validation loss 0.2868789415806532\n",
            "Epoch 70, Training loss 0.21565003944620206\n",
            "Validation loss 0.29123093001544476\n",
            "Epoch 80, Training loss 0.20212456835493162\n",
            "Validation loss 0.3197456798516214\n",
            "Epoch 90, Training loss 0.18919694777222196\n",
            "Validation loss 0.28235921263694763\n",
            "Epoch 100, Training loss 0.1784010620633508\n",
            "Validation loss 0.29626668989658356\n"
          ]
        },
        {
          "output_type": "display_data",
          "data": {
            "text/plain": [
              "<Figure size 640x480 with 1 Axes>"
            ],
            "image/png": "[encoded data removed]"
          },
          "metadata": {}
        }
      ]
    },
    {
      "cell_type": "markdown",
      "source": [
        "## Additional layers\n"
      ],
      "metadata": {
        "id": "4jFGVCPAS3x8"
      }
    },
    {
      "cell_type": "code",
      "source": [
        "class Net(nn.Module):\n",
        "    def __init__(self):\n",
        "        super().__init__()\n",
        "        self.conv1 = nn.Conv2d(3, 16, kernel_size=3, padding=1)\n",
        "        self.act1 = nn.ReLU()\n",
        "        self.pool1 = nn.MaxPool2d(2)\n",
        "        self.conv2 = nn.Conv2d(16, 8, kernel_size=3, padding=1)\n",
        "        self.act2 = nn.ReLU()\n",
        "        self.pool2 = nn.MaxPool2d(2)\n",
        "        self.conv3 = nn.Conv2d(8, 4, kernel_size=3, padding=1)\n",
        "        self.act4 = nn.ReLU()\n",
        "        self.pool3 = nn.MaxPool2d(2)\n",
        "        self.conv4 = nn.Conv2d(4, 2, kernel_size=3, padding=1)\n",
        "        self.act5 = nn.ReLU()\n",
        "        self.pool4 = nn.MaxPool2d(2)\n",
        "        self.fc1 = nn.Linear(2 * 2 * 2, 32)\n",
        "        self.act3 = nn.ReLU()\n",
        "        self.fc2 = nn.Linear(32, 2)\n",
        "\n",
        "\n",
        "        # add regularization\n",
        "        self.drop = nn.Dropout2d(0.25)\n",
        "        self.batch_norm1 = nn.BatchNorm2d(16)\n",
        "\n",
        "        # additional layers\n",
        "        self.conv3 = nn.Conv2d(8, 4, kernel_size=3, padding=1)\n",
        "        self.act4 = nn.ReLU()\n",
        "        self.pool3 = nn.MaxPool2d(2)\n",
        "        self.conv4 = nn.Conv2d(4, 2, kernel_size=3, padding=1)\n",
        "        self.act5 = nn.ReLU()\n",
        "        self.pool4 = nn.MaxPool2d(2)\n",
        "\n",
        "\n",
        "    def forward(self, x):\n",
        "        out = self.pool1(self.batch_norm1(self.act1(self.conv1(x))))\n",
        "        out = self.pool2(self.act2(self.conv2(out)))\n",
        "        out = self.drop(out)\n",
        "        out = self.pool3(self.act4(self.conv3(out)))\n",
        "        out = self.pool4(self.act5(self.conv4(out)))\n",
        "        out = out.view(-1, 2 * 2 * 2)\n",
        "        out = self.act3(self.fc1(out))\n",
        "        out = self.fc2(out)\n",
        "        return out"
      ],
      "metadata": {
        "id": "-j1sdVvlRabg"
      },
      "execution_count": 101,
      "outputs": []
    },
    {
      "cell_type": "code",
      "source": [
        "import torch\n",
        "\n",
        "train_loader = torch.utils.data.DataLoader(cifar2, batch_size=64, shuffle=True)\n",
        "val_loader = torch.utils.data.DataLoader(cifar2_val, batch_size=64, shuffle=False)\n",
        "\n",
        "model = Net()\n",
        "optimizer = torch.optim.SGD(model.parameters(), lr=1e-2)\n",
        "loss_fn = nn.CrossEntropyLoss()\n",
        "\n",
        "training_loop(\n",
        "    n_epochs = 100,\n",
        "    optimizer = optimizer,\n",
        "    model = model,\n",
        "    loss_fn = loss_fn,\n",
        "    train_loader = train_loader,\n",
        ")"
      ],
      "metadata": {
        "colab": {
          "base_uri": "https://localhost:8080/",
          "height": 812
        },
        "id": "oNTwhMXfTXRu",
        "outputId": "f59469cb-ba6d-4aff-82c0-1a75c2ea4803"
      },
      "execution_count": 102,
      "outputs": [
        {
          "output_type": "stream",
          "name": "stdout",
          "text": [
            "Epoch 1, Training loss 0.6935693948132218\n",
            "Validation loss 0.6904090754687786\n",
            "Epoch 10, Training loss 0.4365582319961232\n",
            "Validation loss 0.41619488783180714\n",
            "Epoch 20, Training loss 0.3594446587524596\n",
            "Validation loss 0.35510123427957296\n",
            "Epoch 30, Training loss 0.3293976378478822\n",
            "Validation loss 0.3435376202687621\n",
            "Epoch 40, Training loss 0.30453377905165313\n",
            "Validation loss 0.3250904572196305\n",
            "Epoch 50, Training loss 0.28193617635851453\n",
            "Validation loss 0.32579740323126316\n",
            "Epoch 60, Training loss 0.2728289856937281\n",
            "Validation loss 0.3298212978988886\n",
            "Epoch 70, Training loss 0.2570811519577245\n",
            "Validation loss 0.36809989297762513\n",
            "Epoch 80, Training loss 0.25207520983401377\n",
            "Validation loss 0.29438618337735534\n",
            "Epoch 90, Training loss 0.24269091888407993\n",
            "Validation loss 0.30012879986315966\n",
            "Epoch 100, Training loss 0.23577262432711898\n",
            "Validation loss 0.34458356350660324\n"
          ]
        },
        {
          "output_type": "display_data",
          "data": {
            "text/plain": [
              "<Figure size 640x480 with 1 Axes>"
            ],
            "image/png": "[encoded data removed]"
          },
          "metadata": {}
        }
      ]
    },
    {
      "cell_type": "markdown",
      "source": [
        "## Kernel size\n"
      ],
      "metadata": {
        "id": "6XBcdjzoVT54"
      }
    },
    {
      "cell_type": "code",
      "source": [
        "class Net(nn.Module):\n",
        "    def __init__(self):\n",
        "        super().__init__()\n",
        "        self.conv1 = nn.Conv2d(3, 16, kernel_size=5, padding=2)\n",
        "        self.act1 = nn.ReLU()\n",
        "        self.pool1 = nn.MaxPool2d(2)\n",
        "        self.conv2 = nn.Conv2d(16, 8, kernel_size=5, padding=2)\n",
        "        self.act2 = nn.ReLU()\n",
        "        self.pool2 = nn.MaxPool2d(2)\n",
        "        self.fc1 = nn.Linear(8 * 8 * 8, 32)\n",
        "        self.act3 = nn.ReLU()\n",
        "        self.fc2 = nn.Linear(32, 2)\n",
        "\n",
        "    def forward(self, x):\n",
        "        out = self.pool1(self.act1(self.conv1(x)))\n",
        "        out = self.pool2(self.act2(self.conv2(out)))\n",
        "        out = out.view(-1, 8 * 8 * 8)\n",
        "        out = self.act3(self.fc1(out))\n",
        "        out = self.fc2(out)\n",
        "        return out"
      ],
      "metadata": {
        "id": "4PKEbZCyVWo1"
      },
      "execution_count": 110,
      "outputs": []
    },
    {
      "cell_type": "code",
      "source": [
        "import torch\n",
        "\n",
        "train_loader = torch.utils.data.DataLoader(cifar2, batch_size=64, shuffle=True)\n",
        "val_loader = torch.utils.data.DataLoader(cifar2_val, batch_size=64, shuffle=False)\n",
        "\n",
        "model = Net()\n",
        "optimizer = torch.optim.SGD(model.parameters(), lr=1e-2)\n",
        "loss_fn = nn.CrossEntropyLoss()\n",
        "\n",
        "training_loop(\n",
        "    n_epochs = 100,\n",
        "    optimizer = optimizer,\n",
        "    model = model,\n",
        "    loss_fn = loss_fn,\n",
        "    train_loader = train_loader,\n",
        ")"
      ],
      "metadata": {
        "colab": {
          "base_uri": "https://localhost:8080/",
          "height": 812
        },
        "id": "K7m-3-zqVbz3",
        "outputId": "19b3502c-aea2-489e-d1cb-499bfd44b9f0"
      },
      "execution_count": 111,
      "outputs": [
        {
          "output_type": "stream",
          "name": "stdout",
          "text": [
            "Epoch 1, Training loss 0.6912948743552919\n",
            "Validation loss 0.6878366526216269\n",
            "Epoch 10, Training loss 0.45356562448914645\n",
            "Validation loss 0.4374464740976691\n",
            "Epoch 20, Training loss 0.3429734598679148\n",
            "Validation loss 0.32952965097501874\n",
            "Epoch 30, Training loss 0.30861260813132974\n",
            "Validation loss 0.31427244981750846\n",
            "Epoch 40, Training loss 0.2876383882893878\n",
            "Validation loss 0.31483131367713213\n",
            "Epoch 50, Training loss 0.27019255072068254\n",
            "Validation loss 0.2932111672125757\n",
            "Epoch 60, Training loss 0.24979177392592097\n",
            "Validation loss 0.2846925207413733\n",
            "Epoch 70, Training loss 0.22988591746539827\n",
            "Validation loss 0.2833706298843026\n",
            "Epoch 80, Training loss 0.21677017857314676\n",
            "Validation loss 0.31163994735106826\n",
            "Epoch 90, Training loss 0.20161409687938964\n",
            "Validation loss 0.279972346033901\n",
            "Epoch 100, Training loss 0.18774169151950035\n",
            "Validation loss 0.27321508526802063\n"
          ]
        },
        {
          "output_type": "display_data",
          "data": {
            "text/plain": [
              "<Figure size 640x480 with 1 Axes>"
            ],
            "image/png": "[encoded data removed]"
          },
          "metadata": {}
        }
      ]
    },
    {
      "cell_type": "markdown",
      "source": [
        "## Different optimizers"
      ],
      "metadata": {
        "id": "mEpI4gr5XP0D"
      }
    },
    {
      "cell_type": "code",
      "source": [
        "import torch\n",
        "\n",
        "train_loader = torch.utils.data.DataLoader(cifar2, batch_size=64, shuffle=True)\n",
        "val_loader = torch.utils.data.DataLoader(cifar2_val, batch_size=64, shuffle=False)\n",
        "\n",
        "model = Net()\n",
        "optimizer = torch.optim.Adam(model.parameters(), lr=1e-2)\n",
        "loss_fn = nn.CrossEntropyLoss()\n",
        "\n",
        "training_loop(\n",
        "    n_epochs = 100,\n",
        "    optimizer = optimizer,\n",
        "    model = model,\n",
        "    loss_fn = loss_fn,\n",
        "    train_loader = train_loader,\n",
        ")"
      ],
      "metadata": {
        "colab": {
          "base_uri": "https://localhost:8080/",
          "height": 813
        },
        "id": "Nj84a5XXXSOT",
        "outputId": "ed8dcff7-17cd-4d64-e1fe-edb6a065de73"
      },
      "execution_count": 112,
      "outputs": [
        {
          "output_type": "stream",
          "name": "stdout",
          "text": [
            "Epoch 1, Training loss 0.5547397613145744\n",
            "Validation loss 0.5027065183967352\n",
            "Epoch 10, Training loss 0.2822132801079446\n",
            "Validation loss 0.3354822206310928\n",
            "Epoch 20, Training loss 0.20827552540951474\n",
            "Validation loss 0.36751274252310395\n",
            "Epoch 30, Training loss 0.165411215963637\n",
            "Validation loss 0.4723435821942985\n",
            "Epoch 40, Training loss 0.13085489333340317\n",
            "Validation loss 0.6764512341469526\n",
            "Epoch 50, Training loss 0.120290043995164\n",
            "Validation loss 0.7494873497635126\n",
            "Epoch 60, Training loss 0.1126193291074626\n",
            "Validation loss 0.7957430640235543\n",
            "Epoch 70, Training loss 0.15470159136850364\n",
            "Validation loss 0.8177708918228745\n",
            "Epoch 80, Training loss 0.12046109060430603\n",
            "Validation loss 1.260301106609404\n",
            "Epoch 90, Training loss 0.15500132918096843\n",
            "Validation loss 1.176299825310707\n",
            "Epoch 100, Training loss 0.12961034367015217\n",
            "Validation loss 1.0763105535879731\n"
          ]
        },
        {
          "output_type": "display_data",
          "data": {
            "text/plain": [
              "<Figure size 640x480 with 1 Axes>"
            ],
            "image/png": "[encoded data removed]"
          },
          "metadata": {}
        }
      ]
    },
    {
      "cell_type": "code",
      "source": [
        "import torch\n",
        "\n",
        "train_loader = torch.utils.data.DataLoader(cifar2, batch_size=64, shuffle=True)\n",
        "val_loader = torch.utils.data.DataLoader(cifar2_val, batch_size=64, shuffle=False)\n",
        "\n",
        "model = Net()\n",
        "optimizer = torch.optim.SGD(model.parameters(), lr=1e-2, momentum=0.9)\n",
        "loss_fn = nn.CrossEntropyLoss()\n",
        "\n",
        "training_loop(\n",
        "    n_epochs = 100,\n",
        "    optimizer = optimizer,\n",
        "    model = model,\n",
        "    loss_fn = loss_fn,\n",
        "    train_loader = train_loader,\n",
        ")"
      ],
      "metadata": {
        "colab": {
          "base_uri": "https://localhost:8080/",
          "height": 812
        },
        "id": "0Pvk12enXcqk",
        "outputId": "f9c138cf-56fe-4c34-e478-80654d82874a"
      },
      "execution_count": 113,
      "outputs": [
        {
          "output_type": "stream",
          "name": "stdout",
          "text": [
            "Epoch 1, Training loss 0.5669390124500178\n",
            "Validation loss 0.9759048093110323\n",
            "Epoch 10, Training loss 0.2774003851375762\n",
            "Validation loss 0.3102586017921567\n",
            "Epoch 20, Training loss 0.2001394562565597\n",
            "Validation loss 0.3111735098063946\n",
            "Epoch 30, Training loss 0.11677930540268779\n",
            "Validation loss 0.3771828180179\n",
            "Epoch 40, Training loss 0.05694776900693964\n",
            "Validation loss 0.6980927968397737\n",
            "Epoch 50, Training loss 0.026708181272705744\n",
            "Validation loss 0.7159547712653875\n",
            "Epoch 60, Training loss 0.004176971343550594\n",
            "Validation loss 0.8807359924539924\n",
            "Epoch 70, Training loss 0.0013397629059492284\n",
            "Validation loss 1.0409646648913622\n",
            "Epoch 80, Training loss 0.0005567772944979566\n",
            "Validation loss 1.140135328285396\n",
            "Epoch 90, Training loss 0.00035664331840429454\n",
            "Validation loss 1.1958132833242416\n",
            "Epoch 100, Training loss 0.00025523140961893797\n",
            "Validation loss 1.2374370638281107\n"
          ]
        },
        {
          "output_type": "display_data",
          "data": {
            "text/plain": [
              "<Figure size 640x480 with 1 Axes>"
            ],
            "image/png": "[encoded data removed]"
          },
          "metadata": {}
        }
      ]
    },
    {
      "cell_type": "code",
      "source": [
        "import torch\n",
        "\n",
        "train_loader = torch.utils.data.DataLoader(cifar2, batch_size=64, shuffle=True)\n",
        "val_loader = torch.utils.data.DataLoader(cifar2_val, batch_size=64, shuffle=False)\n",
        "\n",
        "model = Net()\n",
        "optimizer = torch.optim.Adagrad(model.parameters(), lr=1e-2)\n",
        "loss_fn = nn.CrossEntropyLoss()\n",
        "\n",
        "training_loop(\n",
        "    n_epochs = 100,\n",
        "    optimizer = optimizer,\n",
        "    model = model,\n",
        "    loss_fn = loss_fn,\n",
        "    train_loader = train_loader,\n",
        ")"
      ],
      "metadata": {
        "colab": {
          "base_uri": "https://localhost:8080/",
          "height": 812
        },
        "id": "uMT_mY3RXktA",
        "outputId": "968ce811-ad5f-42da-cecb-f913da76119a"
      },
      "execution_count": 114,
      "outputs": [
        {
          "output_type": "stream",
          "name": "stdout",
          "text": [
            "Epoch 1, Training loss 0.5674656825080798\n",
            "Validation loss 0.4773153178393841\n",
            "Epoch 10, Training loss 0.31716577006373436\n",
            "Validation loss 0.32474809838458896\n",
            "Epoch 20, Training loss 0.27586982418207606\n",
            "Validation loss 0.2940531335771084\n",
            "Epoch 30, Training loss 0.255648660147266\n",
            "Validation loss 0.27708982676267624\n",
            "Epoch 40, Training loss 0.23712097995789946\n",
            "Validation loss 0.2755945869721472\n",
            "Epoch 50, Training loss 0.22576983548273707\n",
            "Validation loss 0.2646930832415819\n",
            "Epoch 60, Training loss 0.2157851909850813\n",
            "Validation loss 0.2664595963433385\n",
            "Epoch 70, Training loss 0.20515284250686122\n",
            "Validation loss 0.2669260371476412\n",
            "Epoch 80, Training loss 0.19604893811758917\n",
            "Validation loss 0.26547043514437973\n",
            "Epoch 90, Training loss 0.19065891566929544\n",
            "Validation loss 0.27317337319254875\n",
            "Epoch 100, Training loss 0.18251493478276928\n",
            "Validation loss 0.26570514729246497\n"
          ]
        },
        {
          "output_type": "display_data",
          "data": {
            "text/plain": [
              "<Figure size 640x480 with 1 Axes>"
            ],
            "image/png": "[encoded data removed]"
          },
          "metadata": {}
        }
      ]
    }
  ],
  "metadata": {
    "accelerator": "GPU",
    "colab": {
      "collapsed_sections": [
        "-cEbffgy9NaG",
        "LvWlbi_zV7IQ",
        "mx37FamxWGpP",
        "odj91nVneKXZ",
        "_70_5LOTmbK4"
      ],
      "provenance": []
    },
    "kernelspec": {
      "display_name": "Python 3",
      "name": "python3"
    },
    "language_info": {
      "name": "python"
    }
  },
  "nbformat": 4,
  "nbformat_minor": 0
}