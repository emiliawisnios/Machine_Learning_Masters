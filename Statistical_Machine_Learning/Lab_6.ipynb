{
  "nbformat": 4,
  "nbformat_minor": 0,
  "metadata": {
    "colab": {
      "name": "Kopia notatnika Notebook 6 - student version.ipynb",
      "provenance": [],
      "collapsed_sections": []
    },
    "kernelspec": {
      "name": "python3",
      "display_name": "Python 3"
    },
    "language_info": {
      "name": "python"
    }
  },
  "cells": [
    {
      "cell_type": "markdown",
      "metadata": {
        "id": "SisIDNTm3KNb"
      },
      "source": [
        "<center><img src='https://drive.google.com/uc?id=1_utx_ZGclmCwNttSe40kYA6VHzNocdET' height=\"60\">\n",
        "\n",
        "AI TECH - Akademia Innowacyjnych Zastosowań Technologii Cyfrowych. Program Operacyjny Polska Cyfrowa na lata 2014-2020\n",
        "<hr>\n",
        "\n",
        "<img src='https://drive.google.com/uc?id=1BXZ0u3562N_MqCLcekI-Ens77Kk4LpPm'>\n",
        "\n",
        "\n",
        "Projekt współfinansowany ze środków Unii Europejskiej w ramach Europejskiego Funduszu Rozwoju Regionalnego \n",
        "Program Operacyjny Polska Cyfrowa na lata 2014-2020,\n",
        "Oś Priorytetowa nr 3 \"Cyfrowe kompetencje społeczeństwa\" Działanie  nr 3.2 \"Innowacyjne rozwiązania na rzecz aktywizacji cyfrowej\".   \n",
        "Tytuł projektu:  „Akademia Innowacyjnych Zastosowań Technologii Cyfrowych (AI Tech)”\n",
        "    </center>"
      ]
    },
    {
      "cell_type": "markdown",
      "metadata": {
        "id": "685bcedd"
      },
      "source": [
        "# Statistical machine learning - Notebook 6, version for students\n",
        "**Author: Michał Ciach**  \n",
        "**Date: 20.11.2021**"
      ]
    },
    {
      "cell_type": "markdown",
      "metadata": {
        "id": "eAMEuAbbH-Or"
      },
      "source": [
        "## Description\n",
        "In this class, we will deal with some advanced topics about statistical hypothesis testing.  \n",
        "We will cover non-parametric tests that do not rely on assuming a particular distribution of the data. We will perform a power analysis for the Student's t-test and use it to illustrate a common misconception about tests in general.  Finally, we will learn how to control false positive results when multiple tests are performed repeatedly.  "
      ]
    },
    {
      "cell_type": "code",
      "metadata": {
        "id": "jkB6U888K8KX",
        "colab": {
          "base_uri": "https://localhost:8080/"
        },
        "outputId": "e0c25222-c8e8-4445-e14d-48ec7e2bfec6"
      },
      "source": [
        "!pip install gdown\n",
        "!gdown https://drive.google.com/uc?id=1GW1pjKOCoKOlC4Jqbqql_ghYD_n0iC6O\n",
        "!gdown https://drive.google.com/uc?id=1FInZ2jrlZGNColU4sHF9JKGHP39fTVut\n",
        "!gdown https://drive.google.com/uc?id=1n1qS6dcVVKcVJOuUIIm0VTz6cSyrtzDH\n",
        "!pip install --upgrade scipy"
      ],
      "execution_count": 1,
      "outputs": [
        {
          "output_type": "stream",
          "name": "stdout",
          "text": [
            "Requirement already satisfied: gdown in /usr/local/lib/python3.7/dist-packages (3.6.4)\n",
            "Requirement already satisfied: requests in /usr/local/lib/python3.7/dist-packages (from gdown) (2.23.0)\n",
            "Requirement already satisfied: six in /usr/local/lib/python3.7/dist-packages (from gdown) (1.15.0)\n",
            "Requirement already satisfied: tqdm in /usr/local/lib/python3.7/dist-packages (from gdown) (4.62.3)\n",
            "Requirement already satisfied: idna<3,>=2.5 in /usr/local/lib/python3.7/dist-packages (from requests->gdown) (2.10)\n",
            "Requirement already satisfied: urllib3!=1.25.0,!=1.25.1,<1.26,>=1.21.1 in /usr/local/lib/python3.7/dist-packages (from requests->gdown) (1.24.3)\n",
            "Requirement already satisfied: chardet<4,>=3.0.2 in /usr/local/lib/python3.7/dist-packages (from requests->gdown) (3.0.4)\n",
            "Requirement already satisfied: certifi>=2017.4.17 in /usr/local/lib/python3.7/dist-packages (from requests->gdown) (2021.10.8)\n",
            "Downloading...\n",
            "From: https://drive.google.com/uc?id=1GW1pjKOCoKOlC4Jqbqql_ghYD_n0iC6O\n",
            "To: /content/BDL municipality incomes 2015-2020.csv\n",
            "100% 228k/228k [00:00<00:00, 36.2MB/s]\n",
            "Downloading...\n",
            "From: https://drive.google.com/uc?id=1FInZ2jrlZGNColU4sHF9JKGHP39fTVut\n",
            "To: /content/BDL municipality area km2 2015-2020.csv\n",
            "100% 180k/180k [00:00<00:00, 58.0MB/s]\n",
            "Downloading...\n",
            "From: https://drive.google.com/uc?id=1n1qS6dcVVKcVJOuUIIm0VTz6cSyrtzDH\n",
            "To: /content/BDL municipality population 2015-2020.csv\n",
            "100% 222k/222k [00:00<00:00, 57.0MB/s]\n",
            "Requirement already satisfied: scipy in /usr/local/lib/python3.7/dist-packages (1.7.3)\n",
            "Requirement already satisfied: numpy<1.23.0,>=1.16.5 in /usr/local/lib/python3.7/dist-packages (from scipy) (1.19.5)\n"
          ]
        }
      ]
    },
    {
      "cell_type": "markdown",
      "metadata": {
        "id": "PbgBtcAsK6T2"
      },
      "source": [
        "## Data & library imports"
      ]
    },
    {
      "cell_type": "code",
      "metadata": {
        "id": "StnMWDH0NSn4",
        "colab": {
          "base_uri": "https://localhost:8080/"
        },
        "outputId": "1ab3b9c2-4741-4f71-8a45-f5d66d497e6e"
      },
      "source": [
        "import pandas as pd\n",
        "import numpy as np\n",
        "import plotly.express as px\n",
        "from scipy.stats import mannwhitneyu, ttest_ind, ttest_rel, norm\n",
        "from statsmodels.stats.multitest import fdrcorrection\n",
        "from statsmodels.stats.power import TTestPower"
      ],
      "execution_count": 2,
      "outputs": [
        {
          "output_type": "stream",
          "name": "stderr",
          "text": [
            "/usr/local/lib/python3.7/dist-packages/statsmodels/tools/_testing.py:19: FutureWarning:\n",
            "\n",
            "pandas.util.testing is deprecated. Use the functions in the public API at pandas.testing instead.\n",
            "\n"
          ]
        }
      ]
    },
    {
      "cell_type": "code",
      "metadata": {
        "id": "7BF9oYxUHhsH"
      },
      "source": [
        "income = pd.read_csv('BDL municipality incomes 2015-2020.csv', sep=';', dtype={'Code': 'str'})\n",
        "population = pd.read_csv('BDL municipality population 2015-2020.csv', sep='\\t', dtype={'Code': 'str'})"
      ],
      "execution_count": 3,
      "outputs": []
    },
    {
      "cell_type": "code",
      "metadata": {
        "id": "wy_Wt9EOO_4C"
      },
      "source": [
        "voivodeship_names = {\n",
        "    '02': 'Dolnośląskie',\n",
        "    '04': 'Kujawsko-pomorskie',\n",
        "    '06': 'Lubelskie',\n",
        "    '08': 'Lubuskie',\n",
        "    '10': 'Łódzkie',\n",
        "    '12': 'Małopolskie',\n",
        "    '14': 'Mazowieckie',\n",
        "    '16': 'Opolskie',\n",
        "    '18': 'Podkarpackie',\n",
        "    '20': 'Podlaskie',\n",
        "    '22': 'Pomorskie',\n",
        "    '24': 'Śląskie',\n",
        "    '26': 'Świętokrzyskie',\n",
        "    '28': 'Warmińsko-mazurskie',\n",
        "    '30': 'Wielkopolskie',\n",
        "    '32': 'Zachodniopomorskie'\n",
        "}"
      ],
      "execution_count": 4,
      "outputs": []
    },
    {
      "cell_type": "code",
      "metadata": {
        "id": "s8JhpFBvPCPS"
      },
      "source": [
        "code_list = [s[:2] for s in income[\"Code\"]]\n",
        "name_list = [voivodeship_names[code] for code in code_list]\n",
        "income['Voivodeship'] = name_list"
      ],
      "execution_count": 5,
      "outputs": []
    },
    {
      "cell_type": "markdown",
      "metadata": {
        "id": "GbyFEajqLCRy"
      },
      "source": [
        "## The Mann-Whitney (a.k.a. Wilcoxon) test"
      ]
    },
    {
      "cell_type": "markdown",
      "metadata": {
        "id": "ZgoQDfZALJEv"
      },
      "source": [
        "The two-sample Student's t-test assumes a normal distribution of the data. When this assumption is only slightly violated, like for the log-income data, the results are still reliable, especially for large sample sizes. As we have seen in the previous classes, the estimator of the mean is more normally distributed than the original data, which increases the robustness of this test for small deviations from normality. However, when this assumption is stronly violated, like for the non-transformed income data, the results are no longer reliable. One way to solve this problem is to use non-parametric tests. A non-parametric test is defined as a test that does not rely on the assumption of a distribution of the data.   "
      ]
    },
    {
      "cell_type": "markdown",
      "metadata": {
        "id": "fSqmqqHLQ6M7"
      },
      "source": [
        "One of the most common non-parametric tests is the Mann-Whitney U-test, also known as the two-sample Wilcoxon's test. It's often used as a replacement for the Student's t-test when the data is not distributed normally. However, the null hypotheses of these two tests are different, and it's important to understand this difference to avoid misleading results. \n",
        "\n",
        "In contrast to the Student's t-test, the Mann-Whitney's one doesn't test the equality of parameters like the mean - hence the name *non-parametric*. Instead, it's null hypothesis is that $\\mathbb{P}(X > Y) = 1/2$, i.e. that if we take a random observation $X$ from the first sample, and a random observation $Y$ from the second sample, it's equally likely that the first is greater or smaller than the second. A one-sided alternative hypothesis may be e.g. that  $\\mathbb{P}(X > Y) > 1/2$, i.e. that samples from the first population tend to be larger than sample from the second one. In this case, we say that the first sample is *stochastically greater* than the second one.  \n",
        "\n",
        "Sidenote: the actual null hypothesis of the Mann-Whitney test is slightly different, but the one described above is a very close and much simpler approximation that's usually used in practice.   "
      ]
    },
    {
      "cell_type": "markdown",
      "metadata": {
        "id": "ROvIsSvpUDMp"
      },
      "source": [
        "**Exercise 1.** Select the data about the incomes of Mazowieckie and Wielkopolskie municipalities in 2020 and remove the rows with missing observations. Implement you own version of the Mann-Whitney's test to compare the (untransformed) incomes between the two voivodeships. You can find the necessary equations [here](https://en.wikipedia.org/wiki/Mann%E2%80%93Whitney_U_test) (use the normal approximation for the test statistic). \n",
        "\n",
        "Based on the value of the test statistic, use the `norm.cdf()` function from `scipy` to compute the p-value (i.e. the probability that the test statistic has values that suggest the alternative hypothesis) in a one-sided test with the alternative that Wielkopolskie is stochastically richer than Mazowieckie. You may assume that there are no ties in the data (i.e. that there are no two identical incomes) to use the simpler formulas. \n",
        "\n",
        "Compare your results to `mannwhitneyu` function from `scipy` (both the p-value and the value of the test statistic). Pay attention to the default parameters to obtain identical results. Compare the results to a Welsch's test (a two-sample Student's t-test for different sample sizes and variances) implemented in `ttest_ind` from `scipy`. Are the results of the two tests consistent? Can you conclude that one of the voivodeships is richer than the other? Hint: Compare the means and the medians of the incomes. \n",
        "\n",
        "\n",
        "\n"
      ]
    },
    {
      "cell_type": "code",
      "metadata": {
        "id": "I7K44j1RNFGI"
      },
      "source": [
        "## Write your code here\n",
        "\n",
        "voivodeship = ['Wielkopolskie', 'Mazowieckie']\n",
        "voivodeship_income = income.loc[income['Voivodeship'].isin(voivodeship)]\n",
        "voivodeship_income_subset = voivodeship_income[['2020', 'Voivodeship']]\n",
        "voivodeship_income_subset = voivodeship_income_subset.dropna()"
      ],
      "execution_count": 6,
      "outputs": []
    },
    {
      "cell_type": "code",
      "source": [
        "wielkopolskie = voivodeship_income_subset.loc[(voivodeship_income_subset['Voivodeship'] == 'Wielkopolskie')]\n",
        "mazowieckie = voivodeship_income_subset.loc[(voivodeship_income_subset['Voivodeship'] == 'Mazowieckie')]"
      ],
      "metadata": {
        "id": "kzwktb5x7ytg"
      },
      "execution_count": 7,
      "outputs": []
    },
    {
      "cell_type": "code",
      "source": [
        "def s(x, y):\n",
        "  if x > y:\n",
        "    return 1\n",
        "  elif x == y:\n",
        "    return 0.5\n",
        "  else:\n",
        "    return 0\n",
        "\n",
        "def mann_whitney_test(sample_1, sample_2):\n",
        "  u_statistic = 0\n",
        "  for i in range(len(sample_1)):\n",
        "    for j in range(len(sample_2)):\n",
        "      u_statistic += s(sample_1[i], sample_2[j])\n",
        "  return u_statistic"
      ],
      "metadata": {
        "id": "3PlgQrlf5-vr"
      },
      "execution_count": 8,
      "outputs": []
    },
    {
      "cell_type": "code",
      "source": [
        "test_statistic = mann_whitney_test(mazowieckie['2020'].array, wielkopolskie['2020'].array)\n",
        "test_statistic"
      ],
      "metadata": {
        "colab": {
          "base_uri": "https://localhost:8080/"
        },
        "id": "yQEVVxKv7ku_",
        "outputId": "77632aec-0314-4c6f-e007-3e3da812c6fb"
      },
      "execution_count": 9,
      "outputs": [
        {
          "output_type": "execute_result",
          "data": {
            "text/plain": [
              "28105"
            ]
          },
          "metadata": {},
          "execution_count": 9
        }
      ]
    },
    {
      "cell_type": "code",
      "source": [
        "n1 = len(mazowieckie)\n",
        "n2 = len(wielkopolskie)\n",
        "\n",
        "mean_u = n1 * n2 / 2\n",
        "std_u = np.sqrt((n1 * n2 * (n1+n2+1)) / 12)\n",
        "test_statistic_norm = (test_statistic-mean_u)/std_u\n",
        "p = 1 - norm.cdf(test_statistic_norm)\n",
        "p"
      ],
      "metadata": {
        "colab": {
          "base_uri": "https://localhost:8080/"
        },
        "id": "dS_bfXCaUkwm",
        "outputId": "ae5e7586-e4d4-4440-f407-81e8403898b2"
      },
      "execution_count": 10,
      "outputs": [
        {
          "output_type": "execute_result",
          "data": {
            "text/plain": [
              "0.9999814087062562"
            ]
          },
          "metadata": {},
          "execution_count": 10
        }
      ]
    },
    {
      "cell_type": "code",
      "source": [
        "mannwhitneyu(mazowieckie['2020'].array, wielkopolskie['2020'].array)"
      ],
      "metadata": {
        "colab": {
          "base_uri": "https://localhost:8080/"
        },
        "id": "HpFzuCM1_6jT",
        "outputId": "42229f47-0d57-4ecc-b6cc-a1be621d578b"
      },
      "execution_count": 11,
      "outputs": [
        {
          "output_type": "execute_result",
          "data": {
            "text/plain": [
              "MannwhitneyuResult(statistic=28105.0, pvalue=3.722776778222481e-05)"
            ]
          },
          "metadata": {},
          "execution_count": 11
        }
      ]
    },
    {
      "cell_type": "code",
      "source": [
        "ttest_ind(mazowieckie['2020'].array, wielkopolskie['2020'].array)"
      ],
      "metadata": {
        "colab": {
          "base_uri": "https://localhost:8080/"
        },
        "id": "asJzmwirBCUK",
        "outputId": "c8f955cd-5d02-4659-f6a7-1890c28bbdf1"
      },
      "execution_count": 12,
      "outputs": [
        {
          "output_type": "execute_result",
          "data": {
            "text/plain": [
              "Ttest_indResult(statistic=0.5484201472954098, pvalue=0.5836309389884577)"
            ]
          },
          "metadata": {},
          "execution_count": 12
        }
      ]
    },
    {
      "cell_type": "code",
      "source": [
        "mazowieckie['2020'].mean(), np.median(mazowieckie['2020'])"
      ],
      "metadata": {
        "colab": {
          "base_uri": "https://localhost:8080/"
        },
        "id": "3KguYteEBUB1",
        "outputId": "a3c46c1a-f9a3-4087-ae3f-3b0da6f8b0c1"
      },
      "execution_count": 13,
      "outputs": [
        {
          "output_type": "execute_result",
          "data": {
            "text/plain": [
              "(74146361.68592356, 14185640.715)"
            ]
          },
          "metadata": {},
          "execution_count": 13
        }
      ]
    },
    {
      "cell_type": "code",
      "source": [
        "wielkopolskie['2020'].mean(), np.median(wielkopolskie['2020'])"
      ],
      "metadata": {
        "colab": {
          "base_uri": "https://localhost:8080/"
        },
        "id": "n29Fc0cfBj8c",
        "outputId": "b09eb656-bfb7-4f4d-c0a5-ffc175e62fb5"
      },
      "execution_count": 14,
      "outputs": [
        {
          "output_type": "execute_result",
          "data": {
            "text/plain": [
              "(47549763.05986725, 18980941.075)"
            ]
          },
          "metadata": {},
          "execution_count": 14
        }
      ]
    },
    {
      "cell_type": "markdown",
      "metadata": {
        "id": "dnQGGBjqq-FH"
      },
      "source": [
        "## Power analysis"
      ]
    },
    {
      "cell_type": "markdown",
      "metadata": {
        "id": "2EE99fP1rLy-"
      },
      "source": [
        "In the previous classes, we've learned how to determine the number of observations needed for a sufficiently accurate estimation of the parameter. Power analysis is an analogous procedure for statistical tests. The power of a test is the probability of rejecting the null hypothesis when the alternative is true (obtaining a *true positive* result). You can read more about it [here](https://nickmccullum.com/power-analysis-in-python/).  \n",
        "\n",
        "When analyzing the properties of a statistical test, we have four parameters in total: \n",
        "1. Significance level $\\alpha$ (the probability of a false positive result)\n",
        "2. Sample size $N$ \n",
        "3. Effect size (e.g. mean over standard deviation in the one-sample t-test)\n",
        "4. Power (the probability of a true positive)\n",
        "\n",
        "Setting any three of those, we can determine the fourth one. For example, we may look for the effect size necessary to get a 5% probability of false positive and 80% of a true positive result on 20 observations. \n",
        "\n",
        "Unfortunately, theoretical power analysis usually relies on complex formulas, and there are only a few functions in Python libraries to perform it for only the most common tests."
      ]
    },
    {
      "cell_type": "markdown",
      "metadata": {
        "id": "bBGToYWdrQ8_"
      },
      "source": [
        "**Exercise 2.** In this exercise, we will perform a power analysis of a paired t test that we did in the last class in order to determine the sample size necessary to get a power of 80% at a significance level 5%. We will also see how the power depends on the distribution of the data set.  \n",
        "\n",
        "Take the data about the income of all municipalities in 2019 and 2020 and remove the missing rows and rows where any income is equal to zero. Compute the log10 of the income. Compute the effect sizes (the mean over the standard deviation of the difference of observations) for the log-income and the non-transformed income. Use the `TTestPower.solve_power()` function to estimate the necessary number of observations for both data sets. If you have trouble running this function, ask Google for help. Compare the required numbers of observations of a one-sided and a two-sided alternative.   \n",
        "\n",
        "Validate the results of `TTestPower` empirically. For 1000 repetitions, get a sample of a given size, perform a paired t-test, and check if the result is positive (i.e. if the p-value is below 0.05). Compute the proportions of true positive results for the log-transformed and the non-transformed data. Do the results agree with theoretical predictions? If not, explain why this may happen and whether in this case it's good or bad.   \n"
      ]
    },
    {
      "cell_type": "code",
      "metadata": {
        "id": "3InpeoYfRzeZ",
        "colab": {
          "base_uri": "https://localhost:8080/",
          "height": 418
        },
        "outputId": "5e6892a1-0ade-473e-d4e0-79498803eb4d"
      },
      "source": [
        "## Write your code here\n",
        "income_subset = income[['2020', '2019']]\n",
        "income_subset = income_subset.dropna()\n",
        "income_subset = income_subset.loc[(income_subset!=0).all(axis=1)]\n",
        "income_subset['log-income_2020'] = np.log10(income_subset['2020'])\n",
        "income_subset['log-income_2019'] = np.log10(income_subset['2019'])\n",
        "income_subset['no_log_difference'] = income_subset['2020'] - income_subset['2019']\n",
        "income_subset['log_difference'] = income_subset['log-income_2020'] - income_subset['log-income_2019']\n",
        "income_subset"
      ],
      "execution_count": 15,
      "outputs": [
        {
          "output_type": "execute_result",
          "data": {
            "text/html": [
              "\n",
              "  <div id=\"df-265e9a00-15c0-43a4-9762-88d755b88b0a\">\n",
              "    <div class=\"colab-df-container\">\n",
              "      <div>\n",
              "<style scoped>\n",
              "    .dataframe tbody tr th:only-of-type {\n",
              "        vertical-align: middle;\n",
              "    }\n",
              "\n",
              "    .dataframe tbody tr th {\n",
              "        vertical-align: top;\n",
              "    }\n",
              "\n",
              "    .dataframe thead th {\n",
              "        text-align: right;\n",
              "    }\n",
              "</style>\n",
              "<table border=\"1\" class=\"dataframe\">\n",
              "  <thead>\n",
              "    <tr style=\"text-align: right;\">\n",
              "      <th></th>\n",
              "      <th>2020</th>\n",
              "      <th>2019</th>\n",
              "      <th>log-income_2020</th>\n",
              "      <th>log-income_2019</th>\n",
              "      <th>no_log_difference</th>\n",
              "      <th>log_difference</th>\n",
              "    </tr>\n",
              "  </thead>\n",
              "  <tbody>\n",
              "    <tr>\n",
              "      <th>0</th>\n",
              "      <td>1.138563e+08</td>\n",
              "      <td>1.107985e+08</td>\n",
              "      <td>8.056357</td>\n",
              "      <td>8.044534</td>\n",
              "      <td>3.057754e+06</td>\n",
              "      <td>0.011823</td>\n",
              "    </tr>\n",
              "    <tr>\n",
              "      <th>1</th>\n",
              "      <td>4.288890e+07</td>\n",
              "      <td>3.871533e+07</td>\n",
              "      <td>7.632345</td>\n",
              "      <td>7.587883</td>\n",
              "      <td>4.173570e+06</td>\n",
              "      <td>0.044462</td>\n",
              "    </tr>\n",
              "    <tr>\n",
              "      <th>2</th>\n",
              "      <td>2.754443e+07</td>\n",
              "      <td>2.572157e+07</td>\n",
              "      <td>7.440034</td>\n",
              "      <td>7.410298</td>\n",
              "      <td>1.822855e+06</td>\n",
              "      <td>0.029736</td>\n",
              "    </tr>\n",
              "    <tr>\n",
              "      <th>3</th>\n",
              "      <td>3.341908e+07</td>\n",
              "      <td>3.913420e+07</td>\n",
              "      <td>7.523995</td>\n",
              "      <td>7.592556</td>\n",
              "      <td>-5.715115e+06</td>\n",
              "      <td>-0.068562</td>\n",
              "    </tr>\n",
              "    <tr>\n",
              "      <th>4</th>\n",
              "      <td>2.484304e+07</td>\n",
              "      <td>2.177626e+07</td>\n",
              "      <td>7.395205</td>\n",
              "      <td>7.337983</td>\n",
              "      <td>3.066784e+06</td>\n",
              "      <td>0.057222</td>\n",
              "    </tr>\n",
              "    <tr>\n",
              "      <th>...</th>\n",
              "      <td>...</td>\n",
              "      <td>...</td>\n",
              "      <td>...</td>\n",
              "      <td>...</td>\n",
              "      <td>...</td>\n",
              "      <td>...</td>\n",
              "    </tr>\n",
              "    <tr>\n",
              "      <th>2504</th>\n",
              "      <td>1.941628e+07</td>\n",
              "      <td>1.760038e+07</td>\n",
              "      <td>7.288166</td>\n",
              "      <td>7.245522</td>\n",
              "      <td>1.815902e+06</td>\n",
              "      <td>0.042644</td>\n",
              "    </tr>\n",
              "    <tr>\n",
              "      <th>2505</th>\n",
              "      <td>2.503944e+07</td>\n",
              "      <td>1.359405e+07</td>\n",
              "      <td>7.398625</td>\n",
              "      <td>7.133349</td>\n",
              "      <td>1.144539e+07</td>\n",
              "      <td>0.265276</td>\n",
              "    </tr>\n",
              "    <tr>\n",
              "      <th>2506</th>\n",
              "      <td>3.840694e+08</td>\n",
              "      <td>3.432316e+08</td>\n",
              "      <td>8.584410</td>\n",
              "      <td>8.535587</td>\n",
              "      <td>4.083774e+07</td>\n",
              "      <td>0.048822</td>\n",
              "    </tr>\n",
              "    <tr>\n",
              "      <th>2507</th>\n",
              "      <td>1.739014e+09</td>\n",
              "      <td>1.545381e+09</td>\n",
              "      <td>9.240303</td>\n",
              "      <td>9.189035</td>\n",
              "      <td>1.936335e+08</td>\n",
              "      <td>0.051268</td>\n",
              "    </tr>\n",
              "    <tr>\n",
              "      <th>2508</th>\n",
              "      <td>2.630070e+08</td>\n",
              "      <td>1.676388e+08</td>\n",
              "      <td>8.419967</td>\n",
              "      <td>8.224375</td>\n",
              "      <td>9.536816e+07</td>\n",
              "      <td>0.195593</td>\n",
              "    </tr>\n",
              "  </tbody>\n",
              "</table>\n",
              "<p>2472 rows × 6 columns</p>\n",
              "</div>\n",
              "      <button class=\"colab-df-convert\" onclick=\"convertToInteractive('df-265e9a00-15c0-43a4-9762-88d755b88b0a')\"\n",
              "              title=\"Convert this dataframe to an interactive table.\"\n",
              "              style=\"display:none;\">\n",
              "        \n",
              "  <svg xmlns=\"http://www.w3.org/2000/svg\" height=\"24px\"viewBox=\"0 0 24 24\"\n",
              "       width=\"24px\">\n",
              "    <path d=\"M0 0h24v24H0V0z\" fill=\"none\"/>\n",
              "    <path d=\"M18.56 5.44l.94 2.06.94-2.06 2.06-.94-2.06-.94-.94-2.06-.94 2.06-2.06.94zm-11 1L8.5 8.5l.94-2.06 2.06-.94-2.06-.94L8.5 2.5l-.94 2.06-2.06.94zm10 10l.94 2.06.94-2.06 2.06-.94-2.06-.94-.94-2.06-.94 2.06-2.06.94z\"/><path d=\"M17.41 7.96l-1.37-1.37c-.4-.4-.92-.59-1.43-.59-.52 0-1.04.2-1.43.59L10.3 9.45l-7.72 7.72c-.78.78-.78 2.05 0 2.83L4 21.41c.39.39.9.59 1.41.59.51 0 1.02-.2 1.41-.59l7.78-7.78 2.81-2.81c.8-.78.8-2.07 0-2.86zM5.41 20L4 18.59l7.72-7.72 1.47 1.35L5.41 20z\"/>\n",
              "  </svg>\n",
              "      </button>\n",
              "      \n",
              "  <style>\n",
              "    .colab-df-container {\n",
              "      display:flex;\n",
              "      flex-wrap:wrap;\n",
              "      gap: 12px;\n",
              "    }\n",
              "\n",
              "    .colab-df-convert {\n",
              "      background-color: #E8F0FE;\n",
              "      border: none;\n",
              "      border-radius: 50%;\n",
              "      cursor: pointer;\n",
              "      display: none;\n",
              "      fill: #1967D2;\n",
              "      height: 32px;\n",
              "      padding: 0 0 0 0;\n",
              "      width: 32px;\n",
              "    }\n",
              "\n",
              "    .colab-df-convert:hover {\n",
              "      background-color: #E2EBFA;\n",
              "      box-shadow: 0px 1px 2px rgba(60, 64, 67, 0.3), 0px 1px 3px 1px rgba(60, 64, 67, 0.15);\n",
              "      fill: #174EA6;\n",
              "    }\n",
              "\n",
              "    [theme=dark] .colab-df-convert {\n",
              "      background-color: #3B4455;\n",
              "      fill: #D2E3FC;\n",
              "    }\n",
              "\n",
              "    [theme=dark] .colab-df-convert:hover {\n",
              "      background-color: #434B5C;\n",
              "      box-shadow: 0px 1px 3px 1px rgba(0, 0, 0, 0.15);\n",
              "      filter: drop-shadow(0px 1px 2px rgba(0, 0, 0, 0.3));\n",
              "      fill: #FFFFFF;\n",
              "    }\n",
              "  </style>\n",
              "\n",
              "      <script>\n",
              "        const buttonEl =\n",
              "          document.querySelector('#df-265e9a00-15c0-43a4-9762-88d755b88b0a button.colab-df-convert');\n",
              "        buttonEl.style.display =\n",
              "          google.colab.kernel.accessAllowed ? 'block' : 'none';\n",
              "\n",
              "        async function convertToInteractive(key) {\n",
              "          const element = document.querySelector('#df-265e9a00-15c0-43a4-9762-88d755b88b0a');\n",
              "          const dataTable =\n",
              "            await google.colab.kernel.invokeFunction('convertToInteractive',\n",
              "                                                     [key], {});\n",
              "          if (!dataTable) return;\n",
              "\n",
              "          const docLinkHtml = 'Like what you see? Visit the ' +\n",
              "            '<a target=\"_blank\" href=https://colab.research.google.com/notebooks/data_table.ipynb>data table notebook</a>'\n",
              "            + ' to learn more about interactive tables.';\n",
              "          element.innerHTML = '';\n",
              "          dataTable['output_type'] = 'display_data';\n",
              "          await google.colab.output.renderOutput(dataTable, element);\n",
              "          const docLink = document.createElement('div');\n",
              "          docLink.innerHTML = docLinkHtml;\n",
              "          element.appendChild(docLink);\n",
              "        }\n",
              "      </script>\n",
              "    </div>\n",
              "  </div>\n",
              "  "
            ],
            "text/plain": [
              "              2020          2019  ...  no_log_difference  log_difference\n",
              "0     1.138563e+08  1.107985e+08  ...       3.057754e+06        0.011823\n",
              "1     4.288890e+07  3.871533e+07  ...       4.173570e+06        0.044462\n",
              "2     2.754443e+07  2.572157e+07  ...       1.822855e+06        0.029736\n",
              "3     3.341908e+07  3.913420e+07  ...      -5.715115e+06       -0.068562\n",
              "4     2.484304e+07  2.177626e+07  ...       3.066784e+06        0.057222\n",
              "...            ...           ...  ...                ...             ...\n",
              "2504  1.941628e+07  1.760038e+07  ...       1.815902e+06        0.042644\n",
              "2505  2.503944e+07  1.359405e+07  ...       1.144539e+07        0.265276\n",
              "2506  3.840694e+08  3.432316e+08  ...       4.083774e+07        0.048822\n",
              "2507  1.739014e+09  1.545381e+09  ...       1.936335e+08        0.051268\n",
              "2508  2.630070e+08  1.676388e+08  ...       9.536816e+07        0.195593\n",
              "\n",
              "[2472 rows x 6 columns]"
            ]
          },
          "metadata": {},
          "execution_count": 15
        }
      ]
    },
    {
      "cell_type": "code",
      "source": [
        "mean_no_log, std_no_log = np.mean(income_subset['no_log_difference']), np.std(income_subset['no_log_difference'])\n",
        "mean_no_log, std_no_log"
      ],
      "metadata": {
        "colab": {
          "base_uri": "https://localhost:8080/"
        },
        "id": "KkWEJ13mGQqt",
        "outputId": "93b34b89-4fcd-4d56-f3f2-eed9a1aed6c8"
      },
      "execution_count": 16,
      "outputs": [
        {
          "output_type": "execute_result",
          "data": {
            "text/plain": [
              "(3275689.4963511396, 12383943.548743062)"
            ]
          },
          "metadata": {},
          "execution_count": 16
        }
      ]
    },
    {
      "cell_type": "code",
      "source": [
        "mean_log, std_log = np.mean(income_subset['log_difference']), np.std(income_subset['log_difference'])\n",
        "mean_log, std_log"
      ],
      "metadata": {
        "colab": {
          "base_uri": "https://localhost:8080/"
        },
        "id": "wT-Qi7uFGevd",
        "outputId": "39dc1750-6931-4f03-b17e-9c095798b151"
      },
      "execution_count": 17,
      "outputs": [
        {
          "output_type": "execute_result",
          "data": {
            "text/plain": [
              "(0.06759688088595536, 0.07417980200903816)"
            ]
          },
          "metadata": {},
          "execution_count": 17
        }
      ]
    },
    {
      "cell_type": "code",
      "source": [
        "TTestPower().solve_power(effect_size=mean_no_log/std_no_log, nobs=None,\n",
        "                       alpha=0.05, power=0.8, alternative='two-sided')"
      ],
      "metadata": {
        "colab": {
          "base_uri": "https://localhost:8080/"
        },
        "id": "nolY57ryG2Bc",
        "outputId": "027beb30-e72e-4ba5-d8a3-5f117e51a6c6"
      },
      "execution_count": 18,
      "outputs": [
        {
          "output_type": "execute_result",
          "data": {
            "text/plain": [
              "114.1165722901473"
            ]
          },
          "metadata": {},
          "execution_count": 18
        }
      ]
    },
    {
      "cell_type": "code",
      "source": [
        "true_positive = 0\n",
        "for _ in range(1000):\n",
        "    sample_2020 = income_subset['2020'].sample(114)\n",
        "    sample_2019 = income_subset['2019'].sample(114)\n",
        "    pval = ttest_rel(sample_2020, sample_2019, alternative='two-sided').pvalue\n",
        "    if pval < 0.05:\n",
        "      true_positive += 1\n",
        "true_positive, true_positive/1000"
      ],
      "metadata": {
        "colab": {
          "base_uri": "https://localhost:8080/"
        },
        "id": "2BWOtODDItWY",
        "outputId": "6b988b49-a0a6-40d2-ae3a-c46f2133d976"
      },
      "execution_count": 19,
      "outputs": [
        {
          "output_type": "execute_result",
          "data": {
            "text/plain": [
              "(31, 0.031)"
            ]
          },
          "metadata": {},
          "execution_count": 19
        }
      ]
    },
    {
      "cell_type": "code",
      "source": [
        "TTestPower().solve_power(effect_size=mean_no_log/std_no_log, nobs=None,\n",
        "                       alpha=0.05, power=0.8, alternative='larger')"
      ],
      "metadata": {
        "colab": {
          "base_uri": "https://localhost:8080/"
        },
        "id": "E45Fgh0kH4l5",
        "outputId": "0a4386e4-fb84-4636-907a-86c2f76456f5"
      },
      "execution_count": 20,
      "outputs": [
        {
          "output_type": "execute_result",
          "data": {
            "text/plain": [
              "89.73347056260931"
            ]
          },
          "metadata": {},
          "execution_count": 20
        }
      ]
    },
    {
      "cell_type": "code",
      "source": [
        "true_positive = 0\n",
        "for _ in range(1000):\n",
        "    sample_2020 = income_subset['2020'].sample(90)\n",
        "    sample_2019 = income_subset['2019'].sample(90)\n",
        "    pval = ttest_rel(sample_2020, sample_2019, alternative='greater').pvalue\n",
        "    if pval < 0.05:\n",
        "      true_positive += 1\n",
        "true_positive, true_positive/1000"
      ],
      "metadata": {
        "colab": {
          "base_uri": "https://localhost:8080/"
        },
        "id": "3PRRPCYIKEgm",
        "outputId": "05551db3-4c8a-49e8-ba72-66b5584d2885"
      },
      "execution_count": 21,
      "outputs": [
        {
          "output_type": "execute_result",
          "data": {
            "text/plain": [
              "(57, 0.057)"
            ]
          },
          "metadata": {},
          "execution_count": 21
        }
      ]
    },
    {
      "cell_type": "code",
      "source": [
        "TTestPower().solve_power(effect_size=mean_log/std_log, nobs=None,\n",
        "                       alpha=0.05, power=0.8, alternative='two-sided')"
      ],
      "metadata": {
        "colab": {
          "base_uri": "https://localhost:8080/"
        },
        "id": "TyYOg8GJIbNq",
        "outputId": "e4102a80-ec78-45e3-bf9f-3c1bf4f6aea7"
      },
      "execution_count": 22,
      "outputs": [
        {
          "output_type": "execute_result",
          "data": {
            "text/plain": [
              "11.518743471586536"
            ]
          },
          "metadata": {},
          "execution_count": 22
        }
      ]
    },
    {
      "cell_type": "code",
      "source": [
        "true_positive = 0\n",
        "for _ in range(1000):\n",
        "    sample_2020 = income_subset['log-income_2020'].sample(12)\n",
        "    sample_2019 = income_subset['log-income_2019'].sample(12)\n",
        "    pval = ttest_rel(sample_2020, sample_2019, alternative='two-sided').pvalue\n",
        "    if pval < 0.05:\n",
        "      true_positive += 1\n",
        "true_positive, true_positive/1000"
      ],
      "metadata": {
        "colab": {
          "base_uri": "https://localhost:8080/"
        },
        "id": "Y2plNh2DKSA8",
        "outputId": "5e75332c-c191-4a96-8c8a-5e96eabbfb02"
      },
      "execution_count": 23,
      "outputs": [
        {
          "output_type": "execute_result",
          "data": {
            "text/plain": [
              "(57, 0.057)"
            ]
          },
          "metadata": {},
          "execution_count": 23
        }
      ]
    },
    {
      "cell_type": "code",
      "source": [
        "TTestPower().solve_power(effect_size=mean_log/std_log, nobs=None,\n",
        "                       alpha=0.05, power=0.8, alternative='larger')"
      ],
      "metadata": {
        "colab": {
          "base_uri": "https://localhost:8080/"
        },
        "id": "WELyMBrQIbFm",
        "outputId": "061248d4-6793-4c42-f9db-756e7528fb35"
      },
      "execution_count": 24,
      "outputs": [
        {
          "output_type": "execute_result",
          "data": {
            "text/plain": [
              "8.962829877130206"
            ]
          },
          "metadata": {},
          "execution_count": 24
        }
      ]
    },
    {
      "cell_type": "code",
      "source": [
        "true_positive = 0\n",
        "for _ in range(1000):\n",
        "    sample_2020 = income_subset['log-income_2020'].sample(9)\n",
        "    sample_2019 = income_subset['log-income_2019'].sample(9)\n",
        "    pval = ttest_rel(sample_2020, sample_2019, alternative='greater').pvalue\n",
        "    if pval < 0.05:\n",
        "      true_positive += 1\n",
        "true_positive, true_positive/1000"
      ],
      "metadata": {
        "colab": {
          "base_uri": "https://localhost:8080/"
        },
        "id": "D9sJoQuoKjB2",
        "outputId": "da3b1060-f635-4824-9da9-f5e03454ef16"
      },
      "execution_count": 25,
      "outputs": [
        {
          "output_type": "execute_result",
          "data": {
            "text/plain": [
              "(99, 0.099)"
            ]
          },
          "metadata": {},
          "execution_count": 25
        }
      ]
    },
    {
      "cell_type": "markdown",
      "metadata": {
        "id": "ETOqr5vCrkEA"
      },
      "source": [
        "## Multiple hypothesis testing\n",
        "\n"
      ]
    },
    {
      "cell_type": "markdown",
      "metadata": {
        "id": "iILC41JzPcxc"
      },
      "source": [
        "When performing statistical tests, we reject the null hypothesis when the p-value is below a set threshold, traditionally 0.05. A consequence of this approach is that 5% of positive results will be false positives, which may be a huge number when thousands of tests are performed in large-scale studies.  \n",
        "\n",
        "In order to limit the number of false positives, we use *multiple testing corrections*. One of the most useful one is the Benjamini-Hochberg correction, which controls the false discovery rate, i.e. the proportion of false positives among all positive results. Note the difference from significance levels: the false discovery rate is the proportion of false positives among all positives in the *results* of the tests, while the significance level is the proportion of false positives among the *true negatives* (cases when $H_0$ is true). "
      ]
    },
    {
      "cell_type": "markdown",
      "metadata": {
        "id": "vSM59hWBC2NP"
      },
      "source": [
        "**Exercise 3.** A common way to perform the Benjamini-Hochberg correction is to transform the p-values $p_1, \\dots, p_m$ in a way to obtain so-called *q-values* $q_1, \\dots, q_m$, such that we have an FDR on the level of $Q$ when we accept all hypotheses $H_i$ with $q_i \\leq Q$.  \n",
        "\n",
        "Based on the description of the Benajmini-Hochberg procedure from [this Wikipedia article](https://en.wikipedia.org/wiki/False_discovery_rate#Benjamini%E2%80%93Hochberg_procedure), figure out how to compute the q-values. Write a function that accepts a vector of p-values and returns the corresponding q-values. Compare your results to the `fdrcorrection` function from the `statsmodels` library on a p-value vector (0.01, 0.1, 0.01, 0.2, 0.01, 0.1).  \n",
        "\n",
        "Select the data about the income of Mazowieckie municipalities from the years 2015-2020. For each year from 2016 onwards, perform a t-test on a significance level $\\alpha$=0.05 to check if the average income has increased compared to the previous year. How many positive results did you get? How many false positives do you expect? Use the Benjamini-Hochberg correction to perform a study in which you expect that within all the positive results (years with increased average income) you will have 1% of false results.  "
      ]
    },
    {
      "cell_type": "code",
      "metadata": {
        "id": "_GouSvnSH1kv",
        "colab": {
          "base_uri": "https://localhost:8080/"
        },
        "outputId": "84f4ab16-afff-4439-b222-0a211195d697"
      },
      "source": [
        "test_p = [0.01, 0.1, 0.01, 0.2, 0.01, 0.1]\n",
        "\n",
        "def BH_correct(p):\n",
        "      n = len(p)\n",
        "      q_vals = [0] * n \n",
        "      p.sort()\n",
        "      q_vals[n-1] = p[n-1]\n",
        "      for i in reversed(range(len(p)-1)):\n",
        "        q_vals[i] = min(q_vals[i+1], p[i] * (n/(i+1)))\n",
        "      return q_vals\n",
        "\n",
        "print('My q-values:', BH_correct(test_p))\n",
        "print('Statsmodels:', fdrcorrection(test_p)[1])"
      ],
      "execution_count": 26,
      "outputs": [
        {
          "output_type": "stream",
          "name": "stdout",
          "text": [
            "My q-values: [0.02, 0.02, 0.02, 0.12, 0.12, 0.2]\n",
            "Statsmodels: [0.02 0.02 0.02 0.12 0.12 0.2 ]\n"
          ]
        }
      ]
    },
    {
      "cell_type": "code",
      "metadata": {
        "id": "hgoV9HvErnGN"
      },
      "source": [
        "## Analyze the income increases here\n",
        "mazowieckie = income.loc[(income['Voivodeship'] == 'Mazowieckie')]\n",
        "years = ['2015', '2016', '2017', '2018', '2019', '2020']\n",
        "mazowieckie = mazowieckie[years]\n",
        "mazowieckie = mazowieckie.dropna()"
      ],
      "execution_count": 27,
      "outputs": []
    },
    {
      "cell_type": "code",
      "source": [
        "alpha = 0.05\n",
        "\n",
        "for i in range(1, len(years)):\n",
        "  p_val = ttest_rel(mazowieckie[years[i]], mazowieckie[years[i-1]], alternative='greater').pvalue\n",
        "  if p_val <= alpha:\n",
        "    print(f'Income has increased for years {years[i]} - {years[i-1]}, p-value: {p_val}')\n",
        "  else:\n",
        "    print(f'Income has not increased for years {years[i]} - {years[i-1]}, p-value: {p_val}')"
      ],
      "metadata": {
        "colab": {
          "base_uri": "https://localhost:8080/"
        },
        "id": "w7pEM8lAe6Ob",
        "outputId": "f787facd-80ae-4a3a-bbcf-8bee76d36a8e"
      },
      "execution_count": 28,
      "outputs": [
        {
          "output_type": "stream",
          "name": "stdout",
          "text": [
            "Income has increased for years 2016 - 2015, p-value: 0.0012370001919484626\n",
            "Income has increased for years 2017 - 2016, p-value: 0.03223112010521277\n",
            "Income has not increased for years 2018 - 2017, p-value: 0.05710655643099397\n",
            "Income has increased for years 2019 - 2018, p-value: 4.646533361072804e-07\n",
            "Income has not increased for years 2020 - 2019, p-value: 0.12105067210305027\n"
          ]
        }
      ]
    },
    {
      "cell_type": "markdown",
      "metadata": {
        "id": "hS66sMLHH1cC"
      },
      "source": [
        "<center><img src='https://drive.google.com/uc?id=1_utx_ZGclmCwNttSe40kYA6VHzNocdET' height=\"60\">\n",
        "\n",
        "AI TECH - Akademia Innowacyjnych Zastosowań Technologii Cyfrowych. Program Operacyjny Polska Cyfrowa na lata 2014-2020\n",
        "<hr>\n",
        "\n",
        "<img src='https://drive.google.com/uc?id=1BXZ0u3562N_MqCLcekI-Ens77Kk4LpPm'>\n",
        "\n",
        "\n",
        "Projekt współfinansowany ze środków Unii Europejskiej w ramach Europejskiego Funduszu Rozwoju Regionalnego \n",
        "Program Operacyjny Polska Cyfrowa na lata 2014-2020,\n",
        "Oś Priorytetowa nr 3 \"Cyfrowe kompetencje społeczeństwa\" Działanie  nr 3.2 \"Innowacyjne rozwiązania na rzecz aktywizacji cyfrowej\".   \n",
        "Tytuł projektu:  „Akademia Innowacyjnych Zastosowań Technologii Cyfrowych (AI Tech)”\n",
        "    </center>"
      ]
    }
  ]
}