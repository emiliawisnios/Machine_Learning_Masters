{
  "nbformat": 4,
  "nbformat_minor": 0,
  "metadata": {
    "colab": {
      "name": "Kopia notatnika Notebook 5 - student version.ipynb",
      "provenance": [],
      "collapsed_sections": []
    },
    "kernelspec": {
      "name": "python3",
      "display_name": "Python 3"
    },
    "language_info": {
      "name": "python"
    }
  },
  "cells": [
    {
      "cell_type": "markdown",
      "metadata": {
        "id": "SisIDNTm3KNb"
      },
      "source": [
        "<center><img src='https://drive.google.com/uc?id=1_utx_ZGclmCwNttSe40kYA6VHzNocdET' height=\"60\">\n",
        "\n",
        "AI TECH - Akademia Innowacyjnych Zastosowań Technologii Cyfrowych. Program Operacyjny Polska Cyfrowa na lata 2014-2020\n",
        "<hr>\n",
        "\n",
        "<img src='https://drive.google.com/uc?id=1BXZ0u3562N_MqCLcekI-Ens77Kk4LpPm'>\n",
        "\n",
        "\n",
        "Projekt współfinansowany ze środków Unii Europejskiej w ramach Europejskiego Funduszu Rozwoju Regionalnego \n",
        "Program Operacyjny Polska Cyfrowa na lata 2014-2020,\n",
        "Oś Priorytetowa nr 3 \"Cyfrowe kompetencje społeczeństwa\" Działanie  nr 3.2 \"Innowacyjne rozwiązania na rzecz aktywizacji cyfrowej\".   \n",
        "Tytuł projektu:  „Akademia Innowacyjnych Zastosowań Technologii Cyfrowych (AI Tech)”\n",
        "    </center>"
      ]
    },
    {
      "cell_type": "markdown",
      "metadata": {
        "id": "685bcedd"
      },
      "source": [
        "# Statistical machine learning - Notebook 5, version for students\n",
        "**Author: Michał Ciach**  \n",
        "**Date: 12.11.2021**"
      ]
    },
    {
      "cell_type": "markdown",
      "metadata": {
        "id": "FOnAEqRq3TOc"
      },
      "source": [
        "## Description \n",
        "In the previous class, we learnd how we can use mathematical statistics to estimate parameters on a small number of data points and, most importantly, to quantify the uncertainty of the estimation.  \n",
        "This is called *quantitative inference*, because we want to get to know some quantity.  \n",
        "In today's class, we'll learn a technique called *statistical hypothesis testing*.  \n",
        "This is a technique to do *qualitative inference* - that is, to get to know some property of the data.  \n",
        "The general idea is to set up a hypothesis - i.e. that some parameter is greater than 0 - and try to reject it by showing that our data would be very unlikely to observe if this hypothesis was true.  "
      ]
    },
    {
      "cell_type": "code",
      "metadata": {
        "id": "7c1qctHRoY_V",
        "colab": {
          "base_uri": "https://localhost:8080/"
        },
        "outputId": "0232c3e6-140f-4bd3-e6d5-9a99945d31e4"
      },
      "source": [
        "!pip install gdown\n",
        "!gdown https://drive.google.com/uc?id=1GW1pjKOCoKOlC4Jqbqql_ghYD_n0iC6O\n",
        "!gdown https://drive.google.com/uc?id=1FInZ2jrlZGNColU4sHF9JKGHP39fTVut\n",
        "!gdown https://drive.google.com/uc?id=1n1qS6dcVVKcVJOuUIIm0VTz6cSyrtzDH"
      ],
      "execution_count": 1,
      "outputs": [
        {
          "output_type": "stream",
          "name": "stdout",
          "text": [
            "Requirement already satisfied: gdown in /usr/local/lib/python3.7/dist-packages (3.6.4)\n",
            "Requirement already satisfied: six in /usr/local/lib/python3.7/dist-packages (from gdown) (1.15.0)\n",
            "Requirement already satisfied: tqdm in /usr/local/lib/python3.7/dist-packages (from gdown) (4.62.3)\n",
            "Requirement already satisfied: requests in /usr/local/lib/python3.7/dist-packages (from gdown) (2.23.0)\n",
            "Requirement already satisfied: idna<3,>=2.5 in /usr/local/lib/python3.7/dist-packages (from requests->gdown) (2.10)\n",
            "Requirement already satisfied: chardet<4,>=3.0.2 in /usr/local/lib/python3.7/dist-packages (from requests->gdown) (3.0.4)\n",
            "Requirement already satisfied: certifi>=2017.4.17 in /usr/local/lib/python3.7/dist-packages (from requests->gdown) (2021.10.8)\n",
            "Requirement already satisfied: urllib3!=1.25.0,!=1.25.1,<1.26,>=1.21.1 in /usr/local/lib/python3.7/dist-packages (from requests->gdown) (1.24.3)\n",
            "Downloading...\n",
            "From: https://drive.google.com/uc?id=1GW1pjKOCoKOlC4Jqbqql_ghYD_n0iC6O\n",
            "To: /content/BDL municipality incomes 2015-2020.csv\n",
            "100% 228k/228k [00:00<00:00, 29.3MB/s]\n",
            "Downloading...\n",
            "From: https://drive.google.com/uc?id=1FInZ2jrlZGNColU4sHF9JKGHP39fTVut\n",
            "To: /content/BDL municipality area km2 2015-2020.csv\n",
            "100% 180k/180k [00:00<00:00, 50.3MB/s]\n",
            "Downloading...\n",
            "From: https://drive.google.com/uc?id=1n1qS6dcVVKcVJOuUIIm0VTz6cSyrtzDH\n",
            "To: /content/BDL municipality population 2015-2020.csv\n",
            "100% 222k/222k [00:00<00:00, 50.0MB/s]\n"
          ]
        }
      ]
    },
    {
      "cell_type": "code",
      "metadata": {
        "id": "1qclcOYOz3qg",
        "colab": {
          "base_uri": "https://localhost:8080/"
        },
        "outputId": "30825e81-8ebb-4ec0-f953-e31908ca92a1"
      },
      "source": [
        "!pip install --upgrade scipy"
      ],
      "execution_count": 2,
      "outputs": [
        {
          "output_type": "stream",
          "name": "stdout",
          "text": [
            "Requirement already satisfied: scipy in /usr/local/lib/python3.7/dist-packages (1.4.1)\n",
            "Collecting scipy\n",
            "  Downloading scipy-1.7.3-cp37-cp37m-manylinux_2_12_x86_64.manylinux2010_x86_64.whl (38.1 MB)\n",
            "\u001b[K     |████████████████████████████████| 38.1 MB 1.4 MB/s \n",
            "\u001b[?25hRequirement already satisfied: numpy<1.23.0,>=1.16.5 in /usr/local/lib/python3.7/dist-packages (from scipy) (1.19.5)\n",
            "Installing collected packages: scipy\n",
            "  Attempting uninstall: scipy\n",
            "    Found existing installation: scipy 1.4.1\n",
            "    Uninstalling scipy-1.4.1:\n",
            "      Successfully uninstalled scipy-1.4.1\n",
            "\u001b[31mERROR: pip's dependency resolver does not currently take into account all the packages that are installed. This behaviour is the source of the following dependency conflicts.\n",
            "albumentations 0.1.12 requires imgaug<0.2.7,>=0.2.5, but you have imgaug 0.2.9 which is incompatible.\u001b[0m\n",
            "Successfully installed scipy-1.7.3\n"
          ]
        }
      ]
    },
    {
      "cell_type": "markdown",
      "metadata": {
        "id": "GwGqN5_Q4162"
      },
      "source": [
        "## Data & library imports"
      ]
    },
    {
      "cell_type": "markdown",
      "metadata": {
        "id": "cUtbtmDrFQ9D"
      },
      "source": [
        "Run the cells below to import the required libraries and load the data for today's class.  "
      ]
    },
    {
      "cell_type": "code",
      "metadata": {
        "id": "EkH7lfBv405O"
      },
      "source": [
        "import pandas as pd\n",
        "import numpy as np\n",
        "import plotly.express as px\n",
        "from scipy.stats import t as tstud\n",
        "from scipy.stats import ttest_ind, ttest_rel, norm, kstest"
      ],
      "execution_count": 3,
      "outputs": []
    },
    {
      "cell_type": "code",
      "metadata": {
        "colab": {
          "base_uri": "https://localhost:8080/",
          "height": 418
        },
        "id": "QFOe8o1n41Ec",
        "outputId": "db25b0ee-ad77-45d6-8203-aef8176d6939"
      },
      "source": [
        "income = pd.read_csv('BDL municipality incomes 2015-2020.csv', sep=';', dtype={'Code': 'str'})\n",
        "income"
      ],
      "execution_count": 4,
      "outputs": [
        {
          "output_type": "execute_result",
          "data": {
            "text/html": [
              "\n",
              "  <div id=\"df-43ef92cf-a54e-4386-b2dd-3efebcd1c172\">\n",
              "    <div class=\"colab-df-container\">\n",
              "      <div>\n",
              "<style scoped>\n",
              "    .dataframe tbody tr th:only-of-type {\n",
              "        vertical-align: middle;\n",
              "    }\n",
              "\n",
              "    .dataframe tbody tr th {\n",
              "        vertical-align: top;\n",
              "    }\n",
              "\n",
              "    .dataframe thead th {\n",
              "        text-align: right;\n",
              "    }\n",
              "</style>\n",
              "<table border=\"1\" class=\"dataframe\">\n",
              "  <thead>\n",
              "    <tr style=\"text-align: right;\">\n",
              "      <th></th>\n",
              "      <th>Code</th>\n",
              "      <th>Region</th>\n",
              "      <th>2015</th>\n",
              "      <th>2016</th>\n",
              "      <th>2017</th>\n",
              "      <th>2018</th>\n",
              "      <th>2019</th>\n",
              "      <th>2020</th>\n",
              "    </tr>\n",
              "  </thead>\n",
              "  <tbody>\n",
              "    <tr>\n",
              "      <th>0</th>\n",
              "      <td>0201011</td>\n",
              "      <td>Bolesławiec (1)</td>\n",
              "      <td>9.776646e+07</td>\n",
              "      <td>9.658595e+07</td>\n",
              "      <td>1.003549e+08</td>\n",
              "      <td>1.000265e+08</td>\n",
              "      <td>1.107985e+08</td>\n",
              "      <td>1.138563e+08</td>\n",
              "    </tr>\n",
              "    <tr>\n",
              "      <th>1</th>\n",
              "      <td>0201022</td>\n",
              "      <td>Bolesławiec (2)</td>\n",
              "      <td>3.107224e+07</td>\n",
              "      <td>2.913815e+07</td>\n",
              "      <td>3.683091e+07</td>\n",
              "      <td>3.484836e+07</td>\n",
              "      <td>3.871533e+07</td>\n",
              "      <td>4.288890e+07</td>\n",
              "    </tr>\n",
              "    <tr>\n",
              "      <th>2</th>\n",
              "      <td>0201032</td>\n",
              "      <td>Gromadka (2)</td>\n",
              "      <td>1.089941e+07</td>\n",
              "      <td>1.313974e+07</td>\n",
              "      <td>1.454154e+07</td>\n",
              "      <td>2.705794e+07</td>\n",
              "      <td>2.572157e+07</td>\n",
              "      <td>2.754443e+07</td>\n",
              "    </tr>\n",
              "    <tr>\n",
              "      <th>3</th>\n",
              "      <td>0201043</td>\n",
              "      <td>Nowogrodziec (3)</td>\n",
              "      <td>1.856915e+07</td>\n",
              "      <td>2.941747e+07</td>\n",
              "      <td>3.188345e+07</td>\n",
              "      <td>3.178886e+07</td>\n",
              "      <td>3.913420e+07</td>\n",
              "      <td>3.341908e+07</td>\n",
              "    </tr>\n",
              "    <tr>\n",
              "      <th>4</th>\n",
              "      <td>0201052</td>\n",
              "      <td>Osiecznica (2)</td>\n",
              "      <td>1.674647e+07</td>\n",
              "      <td>1.709802e+07</td>\n",
              "      <td>1.760182e+07</td>\n",
              "      <td>1.984173e+07</td>\n",
              "      <td>2.177626e+07</td>\n",
              "      <td>2.484304e+07</td>\n",
              "    </tr>\n",
              "    <tr>\n",
              "      <th>...</th>\n",
              "      <td>...</td>\n",
              "      <td>...</td>\n",
              "      <td>...</td>\n",
              "      <td>...</td>\n",
              "      <td>...</td>\n",
              "      <td>...</td>\n",
              "      <td>...</td>\n",
              "      <td>...</td>\n",
              "    </tr>\n",
              "    <tr>\n",
              "      <th>2504</th>\n",
              "      <td>3218043</td>\n",
              "      <td>Resko (3)</td>\n",
              "      <td>1.523513e+07</td>\n",
              "      <td>1.448583e+07</td>\n",
              "      <td>1.611091e+07</td>\n",
              "      <td>1.763241e+07</td>\n",
              "      <td>1.760038e+07</td>\n",
              "      <td>1.941628e+07</td>\n",
              "    </tr>\n",
              "    <tr>\n",
              "      <th>2505</th>\n",
              "      <td>3218053</td>\n",
              "      <td>Węgorzyno (3)</td>\n",
              "      <td>1.069708e+07</td>\n",
              "      <td>1.037428e+07</td>\n",
              "      <td>1.082646e+07</td>\n",
              "      <td>1.201310e+07</td>\n",
              "      <td>1.359405e+07</td>\n",
              "      <td>2.503944e+07</td>\n",
              "    </tr>\n",
              "    <tr>\n",
              "      <th>2506</th>\n",
              "      <td>3261011</td>\n",
              "      <td>Koszalin (1)</td>\n",
              "      <td>2.697281e+08</td>\n",
              "      <td>2.891235e+08</td>\n",
              "      <td>3.054048e+08</td>\n",
              "      <td>3.245613e+08</td>\n",
              "      <td>3.432316e+08</td>\n",
              "      <td>3.840694e+08</td>\n",
              "    </tr>\n",
              "    <tr>\n",
              "      <th>2507</th>\n",
              "      <td>3262011</td>\n",
              "      <td>Szczecin (1)</td>\n",
              "      <td>1.350327e+09</td>\n",
              "      <td>1.372046e+09</td>\n",
              "      <td>1.343422e+09</td>\n",
              "      <td>1.431826e+09</td>\n",
              "      <td>1.545381e+09</td>\n",
              "      <td>1.739014e+09</td>\n",
              "    </tr>\n",
              "    <tr>\n",
              "      <th>2508</th>\n",
              "      <td>3263011</td>\n",
              "      <td>Świnoujście (1)</td>\n",
              "      <td>1.485720e+08</td>\n",
              "      <td>2.257467e+08</td>\n",
              "      <td>2.170850e+08</td>\n",
              "      <td>2.617808e+08</td>\n",
              "      <td>1.676388e+08</td>\n",
              "      <td>2.630070e+08</td>\n",
              "    </tr>\n",
              "  </tbody>\n",
              "</table>\n",
              "<p>2509 rows × 8 columns</p>\n",
              "</div>\n",
              "      <button class=\"colab-df-convert\" onclick=\"convertToInteractive('df-43ef92cf-a54e-4386-b2dd-3efebcd1c172')\"\n",
              "              title=\"Convert this dataframe to an interactive table.\"\n",
              "              style=\"display:none;\">\n",
              "        \n",
              "  <svg xmlns=\"http://www.w3.org/2000/svg\" height=\"24px\"viewBox=\"0 0 24 24\"\n",
              "       width=\"24px\">\n",
              "    <path d=\"M0 0h24v24H0V0z\" fill=\"none\"/>\n",
              "    <path d=\"M18.56 5.44l.94 2.06.94-2.06 2.06-.94-2.06-.94-.94-2.06-.94 2.06-2.06.94zm-11 1L8.5 8.5l.94-2.06 2.06-.94-2.06-.94L8.5 2.5l-.94 2.06-2.06.94zm10 10l.94 2.06.94-2.06 2.06-.94-2.06-.94-.94-2.06-.94 2.06-2.06.94z\"/><path d=\"M17.41 7.96l-1.37-1.37c-.4-.4-.92-.59-1.43-.59-.52 0-1.04.2-1.43.59L10.3 9.45l-7.72 7.72c-.78.78-.78 2.05 0 2.83L4 21.41c.39.39.9.59 1.41.59.51 0 1.02-.2 1.41-.59l7.78-7.78 2.81-2.81c.8-.78.8-2.07 0-2.86zM5.41 20L4 18.59l7.72-7.72 1.47 1.35L5.41 20z\"/>\n",
              "  </svg>\n",
              "      </button>\n",
              "      \n",
              "  <style>\n",
              "    .colab-df-container {\n",
              "      display:flex;\n",
              "      flex-wrap:wrap;\n",
              "      gap: 12px;\n",
              "    }\n",
              "\n",
              "    .colab-df-convert {\n",
              "      background-color: #E8F0FE;\n",
              "      border: none;\n",
              "      border-radius: 50%;\n",
              "      cursor: pointer;\n",
              "      display: none;\n",
              "      fill: #1967D2;\n",
              "      height: 32px;\n",
              "      padding: 0 0 0 0;\n",
              "      width: 32px;\n",
              "    }\n",
              "\n",
              "    .colab-df-convert:hover {\n",
              "      background-color: #E2EBFA;\n",
              "      box-shadow: 0px 1px 2px rgba(60, 64, 67, 0.3), 0px 1px 3px 1px rgba(60, 64, 67, 0.15);\n",
              "      fill: #174EA6;\n",
              "    }\n",
              "\n",
              "    [theme=dark] .colab-df-convert {\n",
              "      background-color: #3B4455;\n",
              "      fill: #D2E3FC;\n",
              "    }\n",
              "\n",
              "    [theme=dark] .colab-df-convert:hover {\n",
              "      background-color: #434B5C;\n",
              "      box-shadow: 0px 1px 3px 1px rgba(0, 0, 0, 0.15);\n",
              "      filter: drop-shadow(0px 1px 2px rgba(0, 0, 0, 0.3));\n",
              "      fill: #FFFFFF;\n",
              "    }\n",
              "  </style>\n",
              "\n",
              "      <script>\n",
              "        const buttonEl =\n",
              "          document.querySelector('#df-43ef92cf-a54e-4386-b2dd-3efebcd1c172 button.colab-df-convert');\n",
              "        buttonEl.style.display =\n",
              "          google.colab.kernel.accessAllowed ? 'block' : 'none';\n",
              "\n",
              "        async function convertToInteractive(key) {\n",
              "          const element = document.querySelector('#df-43ef92cf-a54e-4386-b2dd-3efebcd1c172');\n",
              "          const dataTable =\n",
              "            await google.colab.kernel.invokeFunction('convertToInteractive',\n",
              "                                                     [key], {});\n",
              "          if (!dataTable) return;\n",
              "\n",
              "          const docLinkHtml = 'Like what you see? Visit the ' +\n",
              "            '<a target=\"_blank\" href=https://colab.research.google.com/notebooks/data_table.ipynb>data table notebook</a>'\n",
              "            + ' to learn more about interactive tables.';\n",
              "          element.innerHTML = '';\n",
              "          dataTable['output_type'] = 'display_data';\n",
              "          await google.colab.output.renderOutput(dataTable, element);\n",
              "          const docLink = document.createElement('div');\n",
              "          docLink.innerHTML = docLinkHtml;\n",
              "          element.appendChild(docLink);\n",
              "        }\n",
              "      </script>\n",
              "    </div>\n",
              "  </div>\n",
              "  "
            ],
            "text/plain": [
              "         Code            Region  ...          2019          2020\n",
              "0     0201011   Bolesławiec (1)  ...  1.107985e+08  1.138563e+08\n",
              "1     0201022   Bolesławiec (2)  ...  3.871533e+07  4.288890e+07\n",
              "2     0201032      Gromadka (2)  ...  2.572157e+07  2.754443e+07\n",
              "3     0201043  Nowogrodziec (3)  ...  3.913420e+07  3.341908e+07\n",
              "4     0201052    Osiecznica (2)  ...  2.177626e+07  2.484304e+07\n",
              "...       ...               ...  ...           ...           ...\n",
              "2504  3218043         Resko (3)  ...  1.760038e+07  1.941628e+07\n",
              "2505  3218053     Węgorzyno (3)  ...  1.359405e+07  2.503944e+07\n",
              "2506  3261011      Koszalin (1)  ...  3.432316e+08  3.840694e+08\n",
              "2507  3262011      Szczecin (1)  ...  1.545381e+09  1.739014e+09\n",
              "2508  3263011   Świnoujście (1)  ...  1.676388e+08  2.630070e+08\n",
              "\n",
              "[2509 rows x 8 columns]"
            ]
          },
          "metadata": {},
          "execution_count": 4
        }
      ]
    },
    {
      "cell_type": "markdown",
      "metadata": {
        "id": "A1dk40bRFJ3m"
      },
      "source": [
        "The cells below will append a column with voivodeship names to the `income` data set. We'll use this column in today's exercises.  "
      ]
    },
    {
      "cell_type": "code",
      "metadata": {
        "id": "Pi7nQKQk5PmY"
      },
      "source": [
        "voivodeship_names = {\n",
        "    '02': 'Dolnośląskie',\n",
        "    '04': 'Kujawsko-pomorskie',\n",
        "    '06': 'Lubelskie',\n",
        "    '08': 'Lubuskie',\n",
        "    '10': 'Łódzkie',\n",
        "    '12': 'Małopolskie',\n",
        "    '14': 'Mazowieckie',\n",
        "    '16': 'Opolskie',\n",
        "    '18': 'Podkarpackie',\n",
        "    '20': 'Podlaskie',\n",
        "    '22': 'Pomorskie',\n",
        "    '24': 'Śląskie',\n",
        "    '26': 'Świętokrzyskie',\n",
        "    '28': 'Warmińsko-mazurskie',\n",
        "    '30': 'Wielkopolskie',\n",
        "    '32': 'Zachodniopomorskie'\n",
        "}"
      ],
      "execution_count": 5,
      "outputs": []
    },
    {
      "cell_type": "code",
      "metadata": {
        "id": "ZBEW-mZQ5Qbl"
      },
      "source": [
        "code_list = [s[:2] for s in income[\"Code\"]]\n",
        "name_list = [voivodeship_names[code] for code in code_list]\n",
        "income['Voivodeship'] = name_list"
      ],
      "execution_count": 6,
      "outputs": []
    },
    {
      "cell_type": "markdown",
      "metadata": {
        "id": "TZIUR3I848-T"
      },
      "source": [
        "## Testing the value of the mean"
      ]
    },
    {
      "cell_type": "markdown",
      "metadata": {
        "id": "EaLRU48wOKhD"
      },
      "source": [
        "**Exercise 1.** In this exercise, we'll use a statistical test to check if the mean income of municipalities in Poland increased in 2020 compared to 2019 based on a sample of municipalities.  \n",
        "Select the income in 2019 and 2020 and remove the missing values.  \n",
        "Plot a histogram of the difference of the income and calculate its mean.  \n",
        "Whether the true mean difference is greater or less than zero is our *ground truth* that we will try to establish by testing a small sample.  \n",
        "\n",
        "Get a random sample of 20 municipalities. We will use this sample and some version of the Student's t test to check if the true mean is greater than zero. You can find all typical version of this test [in this Wikipedia article](https://en.wikipedia.org/wiki/Student%27s_t-test). \n",
        "\n",
        "What test should we use in this case: paired or unpaired? What should be the null and the alternative hypothesis if we want to show that the average income has increased?  \n",
        "\n",
        "Calculate the test statistic (you can find the relevant formulas either in the the lecture or the Wikipedia article). Use the unbiased estimator of the variance (if you use numpy to calculate variance, you can get an unbiased estimator by adjusting the `ddof` parameter). Calculate the p-value using the `tstud.cdf` function (pay attention to the critical region for your hypothesis, i.e. the values of the test statistic that are considered unlikely if the null hypothesis is true). \n",
        "\n",
        "Compare your results to the `ttest_rel` function. Note: `ttest_rel(a, b, alternative='greater')` tests whether the mean of `a-b` is greater than zero.  \n",
        "\n",
        "Are there any assumptions of the test that are violated? If so, how strongly and what effect could it have on the test result? \n",
        "\n",
        "\n",
        "\n"
      ]
    },
    {
      "cell_type": "code",
      "metadata": {
        "id": "9t9PXY79OJbR",
        "colab": {
          "base_uri": "https://localhost:8080/",
          "height": 418
        },
        "outputId": "d99a2f37-9276-4cdd-cf40-e5ec16aeb313"
      },
      "source": [
        "## Write your code here.  \n",
        "income_subset = income[['2019', '2020']]\n",
        "income_subset = income_subset.dropna()\n",
        "income_subset['difference'] = income_subset['2020'] - income_subset['2019']\n",
        "income_subset"
      ],
      "execution_count": 10,
      "outputs": [
        {
          "output_type": "execute_result",
          "data": {
            "text/html": [
              "\n",
              "  <div id=\"df-ab50607b-67c0-4334-9de6-c981d3f7bb91\">\n",
              "    <div class=\"colab-df-container\">\n",
              "      <div>\n",
              "<style scoped>\n",
              "    .dataframe tbody tr th:only-of-type {\n",
              "        vertical-align: middle;\n",
              "    }\n",
              "\n",
              "    .dataframe tbody tr th {\n",
              "        vertical-align: top;\n",
              "    }\n",
              "\n",
              "    .dataframe thead th {\n",
              "        text-align: right;\n",
              "    }\n",
              "</style>\n",
              "<table border=\"1\" class=\"dataframe\">\n",
              "  <thead>\n",
              "    <tr style=\"text-align: right;\">\n",
              "      <th></th>\n",
              "      <th>2019</th>\n",
              "      <th>2020</th>\n",
              "      <th>difference</th>\n",
              "    </tr>\n",
              "  </thead>\n",
              "  <tbody>\n",
              "    <tr>\n",
              "      <th>0</th>\n",
              "      <td>1.107985e+08</td>\n",
              "      <td>1.138563e+08</td>\n",
              "      <td>3.057754e+06</td>\n",
              "    </tr>\n",
              "    <tr>\n",
              "      <th>1</th>\n",
              "      <td>3.871533e+07</td>\n",
              "      <td>4.288890e+07</td>\n",
              "      <td>4.173570e+06</td>\n",
              "    </tr>\n",
              "    <tr>\n",
              "      <th>2</th>\n",
              "      <td>2.572157e+07</td>\n",
              "      <td>2.754443e+07</td>\n",
              "      <td>1.822855e+06</td>\n",
              "    </tr>\n",
              "    <tr>\n",
              "      <th>3</th>\n",
              "      <td>3.913420e+07</td>\n",
              "      <td>3.341908e+07</td>\n",
              "      <td>-5.715115e+06</td>\n",
              "    </tr>\n",
              "    <tr>\n",
              "      <th>4</th>\n",
              "      <td>2.177626e+07</td>\n",
              "      <td>2.484304e+07</td>\n",
              "      <td>3.066784e+06</td>\n",
              "    </tr>\n",
              "    <tr>\n",
              "      <th>...</th>\n",
              "      <td>...</td>\n",
              "      <td>...</td>\n",
              "      <td>...</td>\n",
              "    </tr>\n",
              "    <tr>\n",
              "      <th>2504</th>\n",
              "      <td>1.760038e+07</td>\n",
              "      <td>1.941628e+07</td>\n",
              "      <td>1.815902e+06</td>\n",
              "    </tr>\n",
              "    <tr>\n",
              "      <th>2505</th>\n",
              "      <td>1.359405e+07</td>\n",
              "      <td>2.503944e+07</td>\n",
              "      <td>1.144539e+07</td>\n",
              "    </tr>\n",
              "    <tr>\n",
              "      <th>2506</th>\n",
              "      <td>3.432316e+08</td>\n",
              "      <td>3.840694e+08</td>\n",
              "      <td>4.083774e+07</td>\n",
              "    </tr>\n",
              "    <tr>\n",
              "      <th>2507</th>\n",
              "      <td>1.545381e+09</td>\n",
              "      <td>1.739014e+09</td>\n",
              "      <td>1.936335e+08</td>\n",
              "    </tr>\n",
              "    <tr>\n",
              "      <th>2508</th>\n",
              "      <td>1.676388e+08</td>\n",
              "      <td>2.630070e+08</td>\n",
              "      <td>9.536816e+07</td>\n",
              "    </tr>\n",
              "  </tbody>\n",
              "</table>\n",
              "<p>2473 rows × 3 columns</p>\n",
              "</div>\n",
              "      <button class=\"colab-df-convert\" onclick=\"convertToInteractive('df-ab50607b-67c0-4334-9de6-c981d3f7bb91')\"\n",
              "              title=\"Convert this dataframe to an interactive table.\"\n",
              "              style=\"display:none;\">\n",
              "        \n",
              "  <svg xmlns=\"http://www.w3.org/2000/svg\" height=\"24px\"viewBox=\"0 0 24 24\"\n",
              "       width=\"24px\">\n",
              "    <path d=\"M0 0h24v24H0V0z\" fill=\"none\"/>\n",
              "    <path d=\"M18.56 5.44l.94 2.06.94-2.06 2.06-.94-2.06-.94-.94-2.06-.94 2.06-2.06.94zm-11 1L8.5 8.5l.94-2.06 2.06-.94-2.06-.94L8.5 2.5l-.94 2.06-2.06.94zm10 10l.94 2.06.94-2.06 2.06-.94-2.06-.94-.94-2.06-.94 2.06-2.06.94z\"/><path d=\"M17.41 7.96l-1.37-1.37c-.4-.4-.92-.59-1.43-.59-.52 0-1.04.2-1.43.59L10.3 9.45l-7.72 7.72c-.78.78-.78 2.05 0 2.83L4 21.41c.39.39.9.59 1.41.59.51 0 1.02-.2 1.41-.59l7.78-7.78 2.81-2.81c.8-.78.8-2.07 0-2.86zM5.41 20L4 18.59l7.72-7.72 1.47 1.35L5.41 20z\"/>\n",
              "  </svg>\n",
              "      </button>\n",
              "      \n",
              "  <style>\n",
              "    .colab-df-container {\n",
              "      display:flex;\n",
              "      flex-wrap:wrap;\n",
              "      gap: 12px;\n",
              "    }\n",
              "\n",
              "    .colab-df-convert {\n",
              "      background-color: #E8F0FE;\n",
              "      border: none;\n",
              "      border-radius: 50%;\n",
              "      cursor: pointer;\n",
              "      display: none;\n",
              "      fill: #1967D2;\n",
              "      height: 32px;\n",
              "      padding: 0 0 0 0;\n",
              "      width: 32px;\n",
              "    }\n",
              "\n",
              "    .colab-df-convert:hover {\n",
              "      background-color: #E2EBFA;\n",
              "      box-shadow: 0px 1px 2px rgba(60, 64, 67, 0.3), 0px 1px 3px 1px rgba(60, 64, 67, 0.15);\n",
              "      fill: #174EA6;\n",
              "    }\n",
              "\n",
              "    [theme=dark] .colab-df-convert {\n",
              "      background-color: #3B4455;\n",
              "      fill: #D2E3FC;\n",
              "    }\n",
              "\n",
              "    [theme=dark] .colab-df-convert:hover {\n",
              "      background-color: #434B5C;\n",
              "      box-shadow: 0px 1px 3px 1px rgba(0, 0, 0, 0.15);\n",
              "      filter: drop-shadow(0px 1px 2px rgba(0, 0, 0, 0.3));\n",
              "      fill: #FFFFFF;\n",
              "    }\n",
              "  </style>\n",
              "\n",
              "      <script>\n",
              "        const buttonEl =\n",
              "          document.querySelector('#df-ab50607b-67c0-4334-9de6-c981d3f7bb91 button.colab-df-convert');\n",
              "        buttonEl.style.display =\n",
              "          google.colab.kernel.accessAllowed ? 'block' : 'none';\n",
              "\n",
              "        async function convertToInteractive(key) {\n",
              "          const element = document.querySelector('#df-ab50607b-67c0-4334-9de6-c981d3f7bb91');\n",
              "          const dataTable =\n",
              "            await google.colab.kernel.invokeFunction('convertToInteractive',\n",
              "                                                     [key], {});\n",
              "          if (!dataTable) return;\n",
              "\n",
              "          const docLinkHtml = 'Like what you see? Visit the ' +\n",
              "            '<a target=\"_blank\" href=https://colab.research.google.com/notebooks/data_table.ipynb>data table notebook</a>'\n",
              "            + ' to learn more about interactive tables.';\n",
              "          element.innerHTML = '';\n",
              "          dataTable['output_type'] = 'display_data';\n",
              "          await google.colab.output.renderOutput(dataTable, element);\n",
              "          const docLink = document.createElement('div');\n",
              "          docLink.innerHTML = docLinkHtml;\n",
              "          element.appendChild(docLink);\n",
              "        }\n",
              "      </script>\n",
              "    </div>\n",
              "  </div>\n",
              "  "
            ],
            "text/plain": [
              "              2019          2020    difference\n",
              "0     1.107985e+08  1.138563e+08  3.057754e+06\n",
              "1     3.871533e+07  4.288890e+07  4.173570e+06\n",
              "2     2.572157e+07  2.754443e+07  1.822855e+06\n",
              "3     3.913420e+07  3.341908e+07 -5.715115e+06\n",
              "4     2.177626e+07  2.484304e+07  3.066784e+06\n",
              "...            ...           ...           ...\n",
              "2504  1.760038e+07  1.941628e+07  1.815902e+06\n",
              "2505  1.359405e+07  2.503944e+07  1.144539e+07\n",
              "2506  3.432316e+08  3.840694e+08  4.083774e+07\n",
              "2507  1.545381e+09  1.739014e+09  1.936335e+08\n",
              "2508  1.676388e+08  2.630070e+08  9.536816e+07\n",
              "\n",
              "[2473 rows x 3 columns]"
            ]
          },
          "metadata": {},
          "execution_count": 10
        }
      ]
    },
    {
      "cell_type": "code",
      "source": [
        "hist = income_subset.hist(column='difference', bins=100)"
      ],
      "metadata": {
        "colab": {
          "base_uri": "https://localhost:8080/",
          "height": 294
        },
        "id": "cG6_w3G0N8-E",
        "outputId": "e619e868-9165-430f-9664-16695bbe73a1"
      },
      "execution_count": 17,
      "outputs": [
        {
          "output_type": "display_data",
          "data": {
            "image/png": "[encoded data removed]",
            "text/plain": [
              "<Figure size 432x288 with 1 Axes>"
            ]
          },
          "metadata": {
            "needs_background": "light"
          }
        }
      ]
    },
    {
      "cell_type": "code",
      "source": [
        "mean = np.mean(income_subset['difference'])\n",
        "mean"
      ],
      "metadata": {
        "colab": {
          "base_uri": "https://localhost:8080/"
        },
        "id": "4t6G14WCOWZW",
        "outputId": "3925750e-c2e6-46ed-8600-d5d3be22fa74"
      },
      "execution_count": 18,
      "outputs": [
        {
          "output_type": "execute_result",
          "data": {
            "text/plain": [
              "3289403.9515487333"
            ]
          },
          "metadata": {},
          "execution_count": 18
        }
      ]
    },
    {
      "cell_type": "code",
      "source": [
        "sample = income_subset.sample(n=20)"
      ],
      "metadata": {
        "id": "FBO2C0WNOp7l"
      },
      "execution_count": 20,
      "outputs": []
    },
    {
      "cell_type": "code",
      "source": [
        "sample_mean = sample['difference'].mean()\n",
        "sample_std = np.std(sample['difference'], ddof=1)\n",
        "n = len(sample)\n",
        "\n",
        "t = np.sqrt(n) * sample_mean / sample_std\n",
        "t"
      ],
      "metadata": {
        "colab": {
          "base_uri": "https://localhost:8080/"
        },
        "id": "cPOmCHsaYJWh",
        "outputId": "8dbf0eab-fac6-4913-8483-b50cdebda501"
      },
      "execution_count": 37,
      "outputs": [
        {
          "output_type": "execute_result",
          "data": {
            "text/plain": [
              "1.7823209732840755"
            ]
          },
          "metadata": {},
          "execution_count": 37
        }
      ]
    },
    {
      "cell_type": "code",
      "source": [
        "df = n - 1\n",
        "1 - tstud.cdf(abs(t), df)"
      ],
      "metadata": {
        "colab": {
          "base_uri": "https://localhost:8080/"
        },
        "id": "XPucDAPabcmH",
        "outputId": "14c72f5c-5878-4f37-fac7-0a7bc8c650fc"
      },
      "execution_count": 39,
      "outputs": [
        {
          "output_type": "execute_result",
          "data": {
            "text/plain": [
              "0.04534255462753212"
            ]
          },
          "metadata": {},
          "execution_count": 39
        }
      ]
    },
    {
      "cell_type": "code",
      "source": [
        "ttest_rel(sample['2020'], sample['2019'], alternative='greater')"
      ],
      "metadata": {
        "colab": {
          "base_uri": "https://localhost:8080/"
        },
        "id": "HshjEtMgbI7N",
        "outputId": "939882a1-fd35-40c0-a55e-3dccc17bf608"
      },
      "execution_count": 38,
      "outputs": [
        {
          "output_type": "execute_result",
          "data": {
            "text/plain": [
              "Ttest_relResult(statistic=1.7823209732840748, pvalue=0.04534255462753224)"
            ]
          },
          "metadata": {},
          "execution_count": 38
        }
      ]
    },
    {
      "cell_type": "markdown",
      "metadata": {
        "id": "-NkeHTeVIzGL"
      },
      "source": [
        "**Exercise 2.** In this exercise, we will perform a statistical test to check the differences of mean incomes between voivodeships. Pick two voivodeships of your choice. Select the data for the income of municipalities from those voivodeships in 2020 using `df.loc` and `df.isin` functions, where `df` is the name of a data frame. Remove rows with missing data and add a column with log-income. Compute the means and standard deviations of income and log-income of municipalities in each voivodeship using `df.groupby` (you can find usage examples of this function on Stack Overflow). Which voivodeship has a larger mean income and log-income? Are the standard deviations similar?\n",
        "\n",
        "Select a random sample of municipalities from each voivodeship (the two samples may have a different size). If you want to use the samples to show that voivodeship A has a higher income than voivodeship B, what should be the null and the alternative hypothesis of a statistical test? \n",
        "\n",
        "We will check if we can show that there is a difference in log-incomes by performing an appropriate version of the t-test. What test is appropriate here: paired or unpaired? With equal or non-equal variances? What are the advantages and disadvantages of performing the test on the log-transformed data instead of the original data?  \n",
        "\n",
        "Regardless of the answer, compute the test statistic for the Student's t-test for unequal sizes and variances, also known as the Welsh's t-test (you can find the relevant equations [here](https://en.wikipedia.org/wiki/Student%27s_t-test) and [here](https://en.wikipedia.org/wiki/Welch%27s_t-test)). Decide yourself whether you want to use the original or the log-transformed data. Next, use the `tstud.cdf` function to calculate the p-value, paying attention to the critical region of the test. \n",
        "\n",
        "Compare you results to `ttest_ind` function from the `scipy` package. Pay attention to the default parameters.\n",
        "\n",
        "Did the test show the desired result? Can you figure out why/why not?  \n",
        "\n",
        "Use `ttest_ind` to perform a test with the assumption of equal variances. Is this assumption appropriate in your case? Did it influence the p-value? \n",
        "\n",
        "Perform a Welch's test using all municipalities from both voivodeships. What is the interpretation of the results? Does using a statistical test make sense in this case and why/why not? What is the consequence of this result for testing on a smaller sample?  "
      ]
    },
    {
      "cell_type": "code",
      "source": [
        "## Write your code here. \n",
        "\n",
        "voivodeship = ['Mazowieckie', 'Zachodniopomorskie']\n",
        "voivodeship_income = income.loc[income['Voivodeship'].isin(voivodeship)]\n",
        "voivodeship_income_subset = voivodeship_income[['2020', 'Voivodeship']]\n",
        "voivodeship_income_subset = voivodeship_income_subset.dropna()\n",
        "voivodeship_income_subset['log-income'] = np.log(voivodeship_income_subset['2020'])\n",
        "voivodeship_income_subset"
      ],
      "metadata": {
        "colab": {
          "base_uri": "https://localhost:8080/",
          "height": 418
        },
        "id": "CUs5EKCr5vpH",
        "outputId": "182d1151-b81b-4493-9778-9c0148e9f111"
      },
      "execution_count": 49,
      "outputs": [
        {
          "output_type": "execute_result",
          "data": {
            "text/html": [
              "\n",
              "  <div id=\"df-ccf663ea-c843-4134-9655-44b902dcab11\">\n",
              "    <div class=\"colab-df-container\">\n",
              "      <div>\n",
              "<style scoped>\n",
              "    .dataframe tbody tr th:only-of-type {\n",
              "        vertical-align: middle;\n",
              "    }\n",
              "\n",
              "    .dataframe tbody tr th {\n",
              "        vertical-align: top;\n",
              "    }\n",
              "\n",
              "    .dataframe thead th {\n",
              "        text-align: right;\n",
              "    }\n",
              "</style>\n",
              "<table border=\"1\" class=\"dataframe\">\n",
              "  <thead>\n",
              "    <tr style=\"text-align: right;\">\n",
              "      <th></th>\n",
              "      <th>2020</th>\n",
              "      <th>Voivodeship</th>\n",
              "      <th>log-income</th>\n",
              "    </tr>\n",
              "  </thead>\n",
              "  <tbody>\n",
              "    <tr>\n",
              "      <th>977</th>\n",
              "      <td>2.684244e+07</td>\n",
              "      <td>Mazowieckie</td>\n",
              "      <td>17.105495</td>\n",
              "    </tr>\n",
              "    <tr>\n",
              "      <th>978</th>\n",
              "      <td>8.596733e+06</td>\n",
              "      <td>Mazowieckie</td>\n",
              "      <td>15.966893</td>\n",
              "    </tr>\n",
              "    <tr>\n",
              "      <th>979</th>\n",
              "      <td>4.726023e+06</td>\n",
              "      <td>Mazowieckie</td>\n",
              "      <td>15.368595</td>\n",
              "    </tr>\n",
              "    <tr>\n",
              "      <th>980</th>\n",
              "      <td>1.394005e+07</td>\n",
              "      <td>Mazowieckie</td>\n",
              "      <td>16.450277</td>\n",
              "    </tr>\n",
              "    <tr>\n",
              "      <th>981</th>\n",
              "      <td>1.111805e+07</td>\n",
              "      <td>Mazowieckie</td>\n",
              "      <td>16.224081</td>\n",
              "    </tr>\n",
              "    <tr>\n",
              "      <th>...</th>\n",
              "      <td>...</td>\n",
              "      <td>...</td>\n",
              "      <td>...</td>\n",
              "    </tr>\n",
              "    <tr>\n",
              "      <th>2504</th>\n",
              "      <td>1.941628e+07</td>\n",
              "      <td>Zachodniopomorskie</td>\n",
              "      <td>16.781622</td>\n",
              "    </tr>\n",
              "    <tr>\n",
              "      <th>2505</th>\n",
              "      <td>2.503944e+07</td>\n",
              "      <td>Zachodniopomorskie</td>\n",
              "      <td>17.035963</td>\n",
              "    </tr>\n",
              "    <tr>\n",
              "      <th>2506</th>\n",
              "      <td>3.840694e+08</td>\n",
              "      <td>Zachodniopomorskie</td>\n",
              "      <td>19.766334</td>\n",
              "    </tr>\n",
              "    <tr>\n",
              "      <th>2507</th>\n",
              "      <td>1.739014e+09</td>\n",
              "      <td>Zachodniopomorskie</td>\n",
              "      <td>21.276584</td>\n",
              "    </tr>\n",
              "    <tr>\n",
              "      <th>2508</th>\n",
              "      <td>2.630070e+08</td>\n",
              "      <td>Zachodniopomorskie</td>\n",
              "      <td>19.387691</td>\n",
              "    </tr>\n",
              "  </tbody>\n",
              "</table>\n",
              "<p>427 rows × 3 columns</p>\n",
              "</div>\n",
              "      <button class=\"colab-df-convert\" onclick=\"convertToInteractive('df-ccf663ea-c843-4134-9655-44b902dcab11')\"\n",
              "              title=\"Convert this dataframe to an interactive table.\"\n",
              "              style=\"display:none;\">\n",
              "        \n",
              "  <svg xmlns=\"http://www.w3.org/2000/svg\" height=\"24px\"viewBox=\"0 0 24 24\"\n",
              "       width=\"24px\">\n",
              "    <path d=\"M0 0h24v24H0V0z\" fill=\"none\"/>\n",
              "    <path d=\"M18.56 5.44l.94 2.06.94-2.06 2.06-.94-2.06-.94-.94-2.06-.94 2.06-2.06.94zm-11 1L8.5 8.5l.94-2.06 2.06-.94-2.06-.94L8.5 2.5l-.94 2.06-2.06.94zm10 10l.94 2.06.94-2.06 2.06-.94-2.06-.94-.94-2.06-.94 2.06-2.06.94z\"/><path d=\"M17.41 7.96l-1.37-1.37c-.4-.4-.92-.59-1.43-.59-.52 0-1.04.2-1.43.59L10.3 9.45l-7.72 7.72c-.78.78-.78 2.05 0 2.83L4 21.41c.39.39.9.59 1.41.59.51 0 1.02-.2 1.41-.59l7.78-7.78 2.81-2.81c.8-.78.8-2.07 0-2.86zM5.41 20L4 18.59l7.72-7.72 1.47 1.35L5.41 20z\"/>\n",
              "  </svg>\n",
              "      </button>\n",
              "      \n",
              "  <style>\n",
              "    .colab-df-container {\n",
              "      display:flex;\n",
              "      flex-wrap:wrap;\n",
              "      gap: 12px;\n",
              "    }\n",
              "\n",
              "    .colab-df-convert {\n",
              "      background-color: #E8F0FE;\n",
              "      border: none;\n",
              "      border-radius: 50%;\n",
              "      cursor: pointer;\n",
              "      display: none;\n",
              "      fill: #1967D2;\n",
              "      height: 32px;\n",
              "      padding: 0 0 0 0;\n",
              "      width: 32px;\n",
              "    }\n",
              "\n",
              "    .colab-df-convert:hover {\n",
              "      background-color: #E2EBFA;\n",
              "      box-shadow: 0px 1px 2px rgba(60, 64, 67, 0.3), 0px 1px 3px 1px rgba(60, 64, 67, 0.15);\n",
              "      fill: #174EA6;\n",
              "    }\n",
              "\n",
              "    [theme=dark] .colab-df-convert {\n",
              "      background-color: #3B4455;\n",
              "      fill: #D2E3FC;\n",
              "    }\n",
              "\n",
              "    [theme=dark] .colab-df-convert:hover {\n",
              "      background-color: #434B5C;\n",
              "      box-shadow: 0px 1px 3px 1px rgba(0, 0, 0, 0.15);\n",
              "      filter: drop-shadow(0px 1px 2px rgba(0, 0, 0, 0.3));\n",
              "      fill: #FFFFFF;\n",
              "    }\n",
              "  </style>\n",
              "\n",
              "      <script>\n",
              "        const buttonEl =\n",
              "          document.querySelector('#df-ccf663ea-c843-4134-9655-44b902dcab11 button.colab-df-convert');\n",
              "        buttonEl.style.display =\n",
              "          google.colab.kernel.accessAllowed ? 'block' : 'none';\n",
              "\n",
              "        async function convertToInteractive(key) {\n",
              "          const element = document.querySelector('#df-ccf663ea-c843-4134-9655-44b902dcab11');\n",
              "          const dataTable =\n",
              "            await google.colab.kernel.invokeFunction('convertToInteractive',\n",
              "                                                     [key], {});\n",
              "          if (!dataTable) return;\n",
              "\n",
              "          const docLinkHtml = 'Like what you see? Visit the ' +\n",
              "            '<a target=\"_blank\" href=https://colab.research.google.com/notebooks/data_table.ipynb>data table notebook</a>'\n",
              "            + ' to learn more about interactive tables.';\n",
              "          element.innerHTML = '';\n",
              "          dataTable['output_type'] = 'display_data';\n",
              "          await google.colab.output.renderOutput(dataTable, element);\n",
              "          const docLink = document.createElement('div');\n",
              "          docLink.innerHTML = docLinkHtml;\n",
              "          element.appendChild(docLink);\n",
              "        }\n",
              "      </script>\n",
              "    </div>\n",
              "  </div>\n",
              "  "
            ],
            "text/plain": [
              "              2020         Voivodeship  log-income\n",
              "977   2.684244e+07         Mazowieckie   17.105495\n",
              "978   8.596733e+06         Mazowieckie   15.966893\n",
              "979   4.726023e+06         Mazowieckie   15.368595\n",
              "980   1.394005e+07         Mazowieckie   16.450277\n",
              "981   1.111805e+07         Mazowieckie   16.224081\n",
              "...            ...                 ...         ...\n",
              "2504  1.941628e+07  Zachodniopomorskie   16.781622\n",
              "2505  2.503944e+07  Zachodniopomorskie   17.035963\n",
              "2506  3.840694e+08  Zachodniopomorskie   19.766334\n",
              "2507  1.739014e+09  Zachodniopomorskie   21.276584\n",
              "2508  2.630070e+08  Zachodniopomorskie   19.387691\n",
              "\n",
              "[427 rows x 3 columns]"
            ]
          },
          "metadata": {},
          "execution_count": 49
        }
      ]
    },
    {
      "cell_type": "code",
      "source": [
        "voivodeship_income_subset.groupby('Voivodeship').agg({'log-income': ['mean', 'std']})"
      ],
      "metadata": {
        "colab": {
          "base_uri": "https://localhost:8080/",
          "height": 172
        },
        "id": "lwSROBB98cJT",
        "outputId": "0c1320ad-62d4-4df4-ba2e-dd174fd63d63"
      },
      "execution_count": 50,
      "outputs": [
        {
          "output_type": "execute_result",
          "data": {
            "text/html": [
              "\n",
              "  <div id=\"df-a59b2725-eac1-45f5-a09e-a51bbdba345f\">\n",
              "    <div class=\"colab-df-container\">\n",
              "      <div>\n",
              "<style scoped>\n",
              "    .dataframe tbody tr th:only-of-type {\n",
              "        vertical-align: middle;\n",
              "    }\n",
              "\n",
              "    .dataframe tbody tr th {\n",
              "        vertical-align: top;\n",
              "    }\n",
              "\n",
              "    .dataframe thead tr th {\n",
              "        text-align: left;\n",
              "    }\n",
              "\n",
              "    .dataframe thead tr:last-of-type th {\n",
              "        text-align: right;\n",
              "    }\n",
              "</style>\n",
              "<table border=\"1\" class=\"dataframe\">\n",
              "  <thead>\n",
              "    <tr>\n",
              "      <th></th>\n",
              "      <th colspan=\"2\" halign=\"left\">log-income</th>\n",
              "    </tr>\n",
              "    <tr>\n",
              "      <th></th>\n",
              "      <th>mean</th>\n",
              "      <th>std</th>\n",
              "    </tr>\n",
              "    <tr>\n",
              "      <th>Voivodeship</th>\n",
              "      <th></th>\n",
              "      <th></th>\n",
              "    </tr>\n",
              "  </thead>\n",
              "  <tbody>\n",
              "    <tr>\n",
              "      <th>Mazowieckie</th>\n",
              "      <td>16.705422</td>\n",
              "      <td>1.077915</td>\n",
              "    </tr>\n",
              "    <tr>\n",
              "      <th>Zachodniopomorskie</th>\n",
              "      <td>16.950816</td>\n",
              "      <td>0.976427</td>\n",
              "    </tr>\n",
              "  </tbody>\n",
              "</table>\n",
              "</div>\n",
              "      <button class=\"colab-df-convert\" onclick=\"convertToInteractive('df-a59b2725-eac1-45f5-a09e-a51bbdba345f')\"\n",
              "              title=\"Convert this dataframe to an interactive table.\"\n",
              "              style=\"display:none;\">\n",
              "        \n",
              "  <svg xmlns=\"http://www.w3.org/2000/svg\" height=\"24px\"viewBox=\"0 0 24 24\"\n",
              "       width=\"24px\">\n",
              "    <path d=\"M0 0h24v24H0V0z\" fill=\"none\"/>\n",
              "    <path d=\"M18.56 5.44l.94 2.06.94-2.06 2.06-.94-2.06-.94-.94-2.06-.94 2.06-2.06.94zm-11 1L8.5 8.5l.94-2.06 2.06-.94-2.06-.94L8.5 2.5l-.94 2.06-2.06.94zm10 10l.94 2.06.94-2.06 2.06-.94-2.06-.94-.94-2.06-.94 2.06-2.06.94z\"/><path d=\"M17.41 7.96l-1.37-1.37c-.4-.4-.92-.59-1.43-.59-.52 0-1.04.2-1.43.59L10.3 9.45l-7.72 7.72c-.78.78-.78 2.05 0 2.83L4 21.41c.39.39.9.59 1.41.59.51 0 1.02-.2 1.41-.59l7.78-7.78 2.81-2.81c.8-.78.8-2.07 0-2.86zM5.41 20L4 18.59l7.72-7.72 1.47 1.35L5.41 20z\"/>\n",
              "  </svg>\n",
              "      </button>\n",
              "      \n",
              "  <style>\n",
              "    .colab-df-container {\n",
              "      display:flex;\n",
              "      flex-wrap:wrap;\n",
              "      gap: 12px;\n",
              "    }\n",
              "\n",
              "    .colab-df-convert {\n",
              "      background-color: #E8F0FE;\n",
              "      border: none;\n",
              "      border-radius: 50%;\n",
              "      cursor: pointer;\n",
              "      display: none;\n",
              "      fill: #1967D2;\n",
              "      height: 32px;\n",
              "      padding: 0 0 0 0;\n",
              "      width: 32px;\n",
              "    }\n",
              "\n",
              "    .colab-df-convert:hover {\n",
              "      background-color: #E2EBFA;\n",
              "      box-shadow: 0px 1px 2px rgba(60, 64, 67, 0.3), 0px 1px 3px 1px rgba(60, 64, 67, 0.15);\n",
              "      fill: #174EA6;\n",
              "    }\n",
              "\n",
              "    [theme=dark] .colab-df-convert {\n",
              "      background-color: #3B4455;\n",
              "      fill: #D2E3FC;\n",
              "    }\n",
              "\n",
              "    [theme=dark] .colab-df-convert:hover {\n",
              "      background-color: #434B5C;\n",
              "      box-shadow: 0px 1px 3px 1px rgba(0, 0, 0, 0.15);\n",
              "      filter: drop-shadow(0px 1px 2px rgba(0, 0, 0, 0.3));\n",
              "      fill: #FFFFFF;\n",
              "    }\n",
              "  </style>\n",
              "\n",
              "      <script>\n",
              "        const buttonEl =\n",
              "          document.querySelector('#df-a59b2725-eac1-45f5-a09e-a51bbdba345f button.colab-df-convert');\n",
              "        buttonEl.style.display =\n",
              "          google.colab.kernel.accessAllowed ? 'block' : 'none';\n",
              "\n",
              "        async function convertToInteractive(key) {\n",
              "          const element = document.querySelector('#df-a59b2725-eac1-45f5-a09e-a51bbdba345f');\n",
              "          const dataTable =\n",
              "            await google.colab.kernel.invokeFunction('convertToInteractive',\n",
              "                                                     [key], {});\n",
              "          if (!dataTable) return;\n",
              "\n",
              "          const docLinkHtml = 'Like what you see? Visit the ' +\n",
              "            '<a target=\"_blank\" href=https://colab.research.google.com/notebooks/data_table.ipynb>data table notebook</a>'\n",
              "            + ' to learn more about interactive tables.';\n",
              "          element.innerHTML = '';\n",
              "          dataTable['output_type'] = 'display_data';\n",
              "          await google.colab.output.renderOutput(dataTable, element);\n",
              "          const docLink = document.createElement('div');\n",
              "          docLink.innerHTML = docLinkHtml;\n",
              "          element.appendChild(docLink);\n",
              "        }\n",
              "      </script>\n",
              "    </div>\n",
              "  </div>\n",
              "  "
            ],
            "text/plain": [
              "                   log-income          \n",
              "                         mean       std\n",
              "Voivodeship                            \n",
              "Mazowieckie         16.705422  1.077915\n",
              "Zachodniopomorskie  16.950816  0.976427"
            ]
          },
          "metadata": {},
          "execution_count": 50
        }
      ]
    },
    {
      "cell_type": "code",
      "metadata": {
        "id": "efXjlyoV41Lv",
        "colab": {
          "base_uri": "https://localhost:8080/"
        },
        "outputId": "3cb49fb6-83c6-4241-d198-6b9d97c3148a"
      },
      "source": [
        "n = 30\n",
        "m = 10\n",
        "\n",
        "mazowieckie_sample = voivodeship_income_subset[voivodeship_income_subset['Voivodeship']=='Mazowieckie'].sample(n)\n",
        "zachodniopomorskie_sample = voivodeship_income_subset[voivodeship_income_subset['Voivodeship']=='Zachodniopomorskie'].sample(m)\n",
        "mean_mazowieckie = mazowieckie_sample['log-income'].mean()\n",
        "mean_zachodniopomorskie = zachodniopomorskie_sample['log-income'].mean()\n",
        "var_mazowieckie = mazowieckie_sample['log-income'].var()\n",
        "var_zachodniopomorskie = zachodniopomorskie_sample['log-income'].var()\n",
        "t = (mean_mazowieckie - mean_zachodniopomorskie) / np.sqrt(var_mazowieckie / n + var_zachodniopomorskie / m)\n",
        "t"
      ],
      "execution_count": 51,
      "outputs": [
        {
          "output_type": "execute_result",
          "data": {
            "text/plain": [
              "-0.2704539373919977"
            ]
          },
          "metadata": {},
          "execution_count": 51
        }
      ]
    },
    {
      "cell_type": "code",
      "source": [
        "df = n + m - 2\n",
        "2 * (1 - tstud.cdf(abs(t), df))"
      ],
      "metadata": {
        "colab": {
          "base_uri": "https://localhost:8080/"
        },
        "id": "Xv5qjBjh-Ejb",
        "outputId": "1727837f-fbdf-4f03-ac05-22d3e7d2744f"
      },
      "execution_count": 57,
      "outputs": [
        {
          "output_type": "execute_result",
          "data": {
            "text/plain": [
              "0.7882746031667067"
            ]
          },
          "metadata": {},
          "execution_count": 57
        }
      ]
    },
    {
      "cell_type": "code",
      "source": [
        "ttest_ind(mazowieckie_sample['log-income'], zachodniopomorskie_sample['log-income'], equal_var=False)"
      ],
      "metadata": {
        "colab": {
          "base_uri": "https://localhost:8080/"
        },
        "id": "IpJz0RQv-nI7",
        "outputId": "ca67a1c0-eb61-4561-dd80-bbaaa4c9b5b6"
      },
      "execution_count": 54,
      "outputs": [
        {
          "output_type": "execute_result",
          "data": {
            "text/plain": [
              "Ttest_indResult(statistic=-0.27045393739199763, pvalue=0.7896890874599274)"
            ]
          },
          "metadata": {},
          "execution_count": 54
        }
      ]
    },
    {
      "cell_type": "code",
      "source": [
        "ttest_ind(mazowieckie_sample['log-income'], zachodniopomorskie_sample['log-income'], equal_var=True)"
      ],
      "metadata": {
        "colab": {
          "base_uri": "https://localhost:8080/"
        },
        "id": "Q0aUmFzIA3zu",
        "outputId": "c104f2e3-7590-489f-f8dc-9f8a9df1093b"
      },
      "execution_count": 58,
      "outputs": [
        {
          "output_type": "execute_result",
          "data": {
            "text/plain": [
              "Ttest_indResult(statistic=-0.24129870601052625, pvalue=0.8106209347741544)"
            ]
          },
          "metadata": {},
          "execution_count": 58
        }
      ]
    },
    {
      "cell_type": "code",
      "source": [
        "mazowieckie_sample = voivodeship_income_subset[voivodeship_income_subset['Voivodeship']=='Mazowieckie']\n",
        "zachodniopomorskie_sample = voivodeship_income_subset[voivodeship_income_subset['Voivodeship']=='Zachodniopomorskie']\n",
        "mean_mazowieckie = mazowieckie_sample['log-income'].mean()\n",
        "mean_zachodniopomorskie = zachodniopomorskie_sample['log-income'].mean()\n",
        "var_mazowieckie = mazowieckie_sample['log-income'].var()\n",
        "var_zachodniopomorskie = zachodniopomorskie_sample['log-income'].var()\n",
        "t = (mean_mazowieckie - mean_zachodniopomorskie) / np.sqrt(var_mazowieckie / len(mazowieckie_sample) + var_zachodniopomorskie / len(zachodniopomorskie_sample))\n",
        "t"
      ],
      "metadata": {
        "colab": {
          "base_uri": "https://localhost:8080/"
        },
        "id": "qE1gG3tiBBCX",
        "outputId": "08e4ef46-3fd4-45b6-c8e0-3510caf66ca8"
      },
      "execution_count": 59,
      "outputs": [
        {
          "output_type": "execute_result",
          "data": {
            "text/plain": [
              "-2.227394650456734"
            ]
          },
          "metadata": {},
          "execution_count": 59
        }
      ]
    },
    {
      "cell_type": "code",
      "source": [
        "df = len(mazowieckie_sample) + len(zachodniopomorskie_sample) - 2\n",
        "2 * (1 - tstud.cdf(abs(t), df))"
      ],
      "metadata": {
        "colab": {
          "base_uri": "https://localhost:8080/"
        },
        "id": "_7BDfJqnBJuA",
        "outputId": "1dced30e-f0cc-4b70-9f02-509dc45476dc"
      },
      "execution_count": 60,
      "outputs": [
        {
          "output_type": "execute_result",
          "data": {
            "text/plain": [
              "0.0264438795866051"
            ]
          },
          "metadata": {},
          "execution_count": 60
        }
      ]
    },
    {
      "cell_type": "markdown",
      "metadata": {
        "id": "ItSaLT835HUc"
      },
      "source": [
        "**Exercise 3 - homework.** Perform the Welsh's test on the data from Exercise 1 (i.e. ignore the pairing of the variables). Compare the results and explain any differences.  "
      ]
    },
    {
      "cell_type": "code",
      "source": [
        "mean_2019 = income_subset['2019'].mean()\n",
        "mean_2020 = income_subset['2020'].mean()\n",
        "var_2019 = income_subset['2019'].var()\n",
        "var_2020 = income_subset['2020'].var()\n",
        "t = (mean_2019 - mean_2020) / np.sqrt(var_2019 / len(income_subset['2019']) + var_2020 / len(income_subset['2020']))\n",
        "t"
      ],
      "metadata": {
        "colab": {
          "base_uri": "https://localhost:8080/"
        },
        "id": "QCx-0HJaBULZ",
        "outputId": "049fc573-d81d-4ea9-95ee-745cf8512fd0"
      },
      "execution_count": 62,
      "outputs": [
        {
          "output_type": "execute_result",
          "data": {
            "text/plain": [
              "-0.38030349095832194"
            ]
          },
          "metadata": {},
          "execution_count": 62
        }
      ]
    },
    {
      "cell_type": "code",
      "source": [
        "df = len(income_subset['2019']) + len(income_subset['2020']) - 2\n",
        "2 * (1 - tstud.cdf(abs(t), df))"
      ],
      "metadata": {
        "colab": {
          "base_uri": "https://localhost:8080/"
        },
        "id": "Sak8jP2hCIFp",
        "outputId": "55b07b3f-0b6f-4398-b7cb-17f978b6f14c"
      },
      "execution_count": 65,
      "outputs": [
        {
          "output_type": "execute_result",
          "data": {
            "text/plain": [
              "0.703736481696819"
            ]
          },
          "metadata": {},
          "execution_count": 65
        }
      ]
    },
    {
      "cell_type": "markdown",
      "metadata": {
        "id": "YnB5a_yd_gjH"
      },
      "source": [
        "## Testing the distribution of the data"
      ]
    },
    {
      "cell_type": "markdown",
      "metadata": {
        "id": "GkZktwQd6M7b"
      },
      "source": [
        "**Exercise 4.** Use the `norm.rvs` function from the `scipy` library to simulate two independent samples, each with 20 observations from the standard normal distribution. Perform the Welsh's t-test for the equality of means of those samples. Are the assumptions of Welsch's test satisfied in this case? Is the null hypothesis true? \n",
        "\n",
        "Repeat the procedure 5000 times to get 5000 p-values and plot them on a histogram. What is the distribution of p-values? What are the consequences of such distribution?  \n",
        "\n",
        "Perform a [Kolmogorov-Smirnov](https://en.wikipedia.org/wiki/Kolmogorov%E2%80%93Smirnov_test) test to verify your guess about the distribution. Use the `kstest` function from the `scipy` library (note that, in this function, you can use the name of the distribution that you want to check).  \n",
        "Did the test confirm you assumption? Warning, this is a tricky question! Pay attention to the null hypothesis of this test.  "
      ]
    },
    {
      "cell_type": "code",
      "metadata": {
        "id": "CdpAUmJZ6NIj",
        "colab": {
          "base_uri": "https://localhost:8080/"
        },
        "outputId": "ad884bb4-361e-4027-a9df-d3f3f7e434ed"
      },
      "source": [
        "## Write your code here. \n",
        "sample_1 = norm.rvs(size=20)\n",
        "sample_2 = norm.rvs(size=20)\n",
        "\n",
        "mean_sample_1 = sample_1.mean()\n",
        "mean_sample_2 = sample_2.mean()\n",
        "var_sample_1 = sample_1.var()\n",
        "var_sample_2 = sample_2.var()\n",
        "t = (mean_sample_1 - mean_sample_2) / np.sqrt(var_sample_1 / len(sample_1) + var_sample_2 / len(sample_2))\n",
        "t"
      ],
      "execution_count": 79,
      "outputs": [
        {
          "output_type": "execute_result",
          "data": {
            "text/plain": [
              "0.78022633469296"
            ]
          },
          "metadata": {},
          "execution_count": 79
        }
      ]
    },
    {
      "cell_type": "code",
      "source": [
        "df = len(sample_1) + len(sample_2) - 2\n",
        "2 * (1 - tstud.cdf(abs(t), df))"
      ],
      "metadata": {
        "colab": {
          "base_uri": "https://localhost:8080/"
        },
        "id": "TeyiTq9dDaTj",
        "outputId": "bf21cd86-7fc0-4740-ff57-19ebe3e6336e"
      },
      "execution_count": 80,
      "outputs": [
        {
          "output_type": "execute_result",
          "data": {
            "text/plain": [
              "0.4400908059700279"
            ]
          },
          "metadata": {},
          "execution_count": 80
        }
      ]
    },
    {
      "cell_type": "code",
      "source": [
        "def welsh_ttest(sample1, sample2):\n",
        "  mean_sample1, var_sample1, n1 = sample1.mean(), sample1.var(), len(sample1)\n",
        "  mean_sample2, var_sample2, n2 = sample2.mean(), sample2.var(), len(sample2)\n",
        "\n",
        "  t = (mean_sample1 - mean_sample_2) / np.sqrt(var_sample1 / n1 + var_sample2 / n2)\n",
        "  df = n1 + n2 - 2\n",
        "  p_val = 2 * (1 - tstud.cdf(abs(t), df))\n",
        "  p_val_2 = ttest_ind(sample1, sample2, equal_var=True).pvalue\n",
        "  return p_val, p_val_2"
      ],
      "metadata": {
        "id": "cXNiGVLpDln6"
      },
      "execution_count": 89,
      "outputs": []
    },
    {
      "cell_type": "code",
      "source": [
        "p_vals = []\n",
        "ind = []\n",
        "\n",
        "for _ in range(5000):\n",
        "  sample_1 = norm.rvs(size=20)\n",
        "  sample_2 = norm.rvs(size=20)\n",
        "  p_1, p_2 = welsh_ttest(sample_1, sample_2)\n",
        "  p_vals.append(p_1)\n",
        "  ind.append(p_2)"
      ],
      "metadata": {
        "id": "pDuRFAVEEOgp"
      },
      "execution_count": 93,
      "outputs": []
    },
    {
      "cell_type": "code",
      "source": [
        "import matplotlib.pyplot as plt"
      ],
      "metadata": {
        "id": "6IViFTNyEi6C"
      },
      "execution_count": 73,
      "outputs": []
    },
    {
      "cell_type": "code",
      "source": [
        "plt.hist(p_vals, bins=100)"
      ],
      "metadata": {
        "colab": {
          "base_uri": "https://localhost:8080/",
          "height": 887
        },
        "id": "H8ONfbeYEvi4",
        "outputId": "24f92dd5-84a4-407c-f559-b9e40f799765"
      },
      "execution_count": 94,
      "outputs": [
        {
          "output_type": "execute_result",
          "data": {
            "text/plain": [
              "(array([53., 67., 73., 74., 91., 85., 75., 84., 80., 89., 84., 65., 60.,\n",
              "        82., 76., 65., 68., 85., 74., 62., 63., 74., 75., 65., 76., 65.,\n",
              "        50., 49., 66., 65., 65., 72., 50., 62., 46., 60., 47., 55., 57.,\n",
              "        49., 61., 53., 33., 66., 44., 38., 46., 40., 46., 50., 41., 41.,\n",
              "        54., 39., 37., 37., 42., 40., 41., 43., 34., 34., 34., 41., 35.,\n",
              "        41., 23., 39., 46., 41., 35., 42., 45., 37., 32., 35., 35., 35.,\n",
              "        35., 32., 52., 36., 34., 26., 32., 32., 32., 35., 33., 38., 33.,\n",
              "        28., 31., 36., 29., 31., 43., 27., 33., 33.]),\n",
              " array([1.76721755e-04, 1.01734879e-02, 2.01702540e-02, 3.01670201e-02,\n",
              "        4.01637863e-02, 5.01605524e-02, 6.01573185e-02, 7.01540846e-02,\n",
              "        8.01508508e-02, 9.01476169e-02, 1.00144383e-01, 1.10141149e-01,\n",
              "        1.20137915e-01, 1.30134681e-01, 1.40131448e-01, 1.50128214e-01,\n",
              "        1.60124980e-01, 1.70121746e-01, 1.80118512e-01, 1.90115278e-01,\n",
              "        2.00112044e-01, 2.10108810e-01, 2.20105577e-01, 2.30102343e-01,\n",
              "        2.40099109e-01, 2.50095875e-01, 2.60092641e-01, 2.70089407e-01,\n",
              "        2.80086173e-01, 2.90082939e-01, 3.00079706e-01, 3.10076472e-01,\n",
              "        3.20073238e-01, 3.30070004e-01, 3.40066770e-01, 3.50063536e-01,\n",
              "        3.60060302e-01, 3.70057068e-01, 3.80053835e-01, 3.90050601e-01,\n",
              "        4.00047367e-01, 4.10044133e-01, 4.20040899e-01, 4.30037665e-01,\n",
              "        4.40034431e-01, 4.50031197e-01, 4.60027964e-01, 4.70024730e-01,\n",
              "        4.80021496e-01, 4.90018262e-01, 5.00015028e-01, 5.10011794e-01,\n",
              "        5.20008560e-01, 5.30005326e-01, 5.40002093e-01, 5.49998859e-01,\n",
              "        5.59995625e-01, 5.69992391e-01, 5.79989157e-01, 5.89985923e-01,\n",
              "        5.99982689e-01, 6.09979455e-01, 6.19976222e-01, 6.29972988e-01,\n",
              "        6.39969754e-01, 6.49966520e-01, 6.59963286e-01, 6.69960052e-01,\n",
              "        6.79956818e-01, 6.89953584e-01, 6.99950351e-01, 7.09947117e-01,\n",
              "        7.19943883e-01, 7.29940649e-01, 7.39937415e-01, 7.49934181e-01,\n",
              "        7.59930947e-01, 7.69927714e-01, 7.79924480e-01, 7.89921246e-01,\n",
              "        7.99918012e-01, 8.09914778e-01, 8.19911544e-01, 8.29908310e-01,\n",
              "        8.39905076e-01, 8.49901843e-01, 8.59898609e-01, 8.69895375e-01,\n",
              "        8.79892141e-01, 8.89888907e-01, 8.99885673e-01, 9.09882439e-01,\n",
              "        9.19879205e-01, 9.29875972e-01, 9.39872738e-01, 9.49869504e-01,\n",
              "        9.59866270e-01, 9.69863036e-01, 9.79859802e-01, 9.89856568e-01,\n",
              "        9.99853334e-01]),\n",
              " <a list of 100 Patch objects>)"
            ]
          },
          "metadata": {},
          "execution_count": 94
        },
        {
          "output_type": "display_data",
          "data": {
            "image/png": "[encoded data removed]",
            "text/plain": [
              "<Figure size 432x288 with 1 Axes>"
            ]
          },
          "metadata": {
            "needs_background": "light"
          }
        }
      ]
    },
    {
      "cell_type": "code",
      "source": [
        "plt.hist(ind, bins=100)"
      ],
      "metadata": {
        "colab": {
          "base_uri": "https://localhost:8080/",
          "height": 887
        },
        "id": "mR9dOchaGBgq",
        "outputId": "a419946e-cb76-46ea-a8f2-399389af8196"
      },
      "execution_count": 95,
      "outputs": [
        {
          "output_type": "execute_result",
          "data": {
            "text/plain": [
              "(array([56., 49., 51., 60., 35., 62., 52., 52., 54., 43., 59., 48., 50.,\n",
              "        51., 53., 58., 54., 54., 47., 48., 43., 48., 37., 42., 41., 50.,\n",
              "        45., 49., 47., 53., 65., 41., 47., 49., 58., 60., 46., 42., 48.,\n",
              "        51., 39., 49., 52., 57., 52., 47., 52., 50., 49., 50., 41., 42.,\n",
              "        44., 49., 48., 49., 48., 42., 43., 48., 48., 70., 49., 44., 46.,\n",
              "        52., 43., 52., 58., 43., 61., 44., 50., 51., 64., 51., 53., 60.,\n",
              "        55., 43., 59., 50., 52., 49., 46., 55., 36., 35., 48., 57., 59.,\n",
              "        49., 51., 62., 56., 45., 48., 66., 48., 43.]),\n",
              " array([3.22118022e-05, 1.00280183e-02, 2.00238248e-02, 3.00196313e-02,\n",
              "        4.00154378e-02, 5.00112443e-02, 6.00070508e-02, 7.00028573e-02,\n",
              "        7.99986637e-02, 8.99944702e-02, 9.99902767e-02, 1.09986083e-01,\n",
              "        1.19981890e-01, 1.29977696e-01, 1.39973503e-01, 1.49969309e-01,\n",
              "        1.59965116e-01, 1.69960922e-01, 1.79956729e-01, 1.89952535e-01,\n",
              "        1.99948342e-01, 2.09944148e-01, 2.19939955e-01, 2.29935761e-01,\n",
              "        2.39931568e-01, 2.49927374e-01, 2.59923181e-01, 2.69918987e-01,\n",
              "        2.79914794e-01, 2.89910600e-01, 2.99906407e-01, 3.09902213e-01,\n",
              "        3.19898020e-01, 3.29893826e-01, 3.39889633e-01, 3.49885439e-01,\n",
              "        3.59881246e-01, 3.69877052e-01, 3.79872859e-01, 3.89868665e-01,\n",
              "        3.99864472e-01, 4.09860278e-01, 4.19856085e-01, 4.29851891e-01,\n",
              "        4.39847697e-01, 4.49843504e-01, 4.59839310e-01, 4.69835117e-01,\n",
              "        4.79830923e-01, 4.89826730e-01, 4.99822536e-01, 5.09818343e-01,\n",
              "        5.19814149e-01, 5.29809956e-01, 5.39805762e-01, 5.49801569e-01,\n",
              "        5.59797375e-01, 5.69793182e-01, 5.79788988e-01, 5.89784795e-01,\n",
              "        5.99780601e-01, 6.09776408e-01, 6.19772214e-01, 6.29768021e-01,\n",
              "        6.39763827e-01, 6.49759634e-01, 6.59755440e-01, 6.69751247e-01,\n",
              "        6.79747053e-01, 6.89742860e-01, 6.99738666e-01, 7.09734473e-01,\n",
              "        7.19730279e-01, 7.29726086e-01, 7.39721892e-01, 7.49717699e-01,\n",
              "        7.59713505e-01, 7.69709312e-01, 7.79705118e-01, 7.89700925e-01,\n",
              "        7.99696731e-01, 8.09692538e-01, 8.19688344e-01, 8.29684151e-01,\n",
              "        8.39679957e-01, 8.49675764e-01, 8.59671570e-01, 8.69667377e-01,\n",
              "        8.79663183e-01, 8.89658990e-01, 8.99654796e-01, 9.09650603e-01,\n",
              "        9.19646409e-01, 9.29642216e-01, 9.39638022e-01, 9.49633829e-01,\n",
              "        9.59629635e-01, 9.69625442e-01, 9.79621248e-01, 9.89617055e-01,\n",
              "        9.99612861e-01]),\n",
              " <a list of 100 Patch objects>)"
            ]
          },
          "metadata": {},
          "execution_count": 95
        },
        {
          "output_type": "display_data",
          "data": {
            "image/png": "[encoded data removed]",
            "text/plain": [
              "<Figure size 432x288 with 1 Axes>"
            ]
          },
          "metadata": {
            "needs_background": "light"
          }
        }
      ]
    },
    {
      "cell_type": "code",
      "source": [
        "kstest(p_vals, 'norm')"
      ],
      "metadata": {
        "colab": {
          "base_uri": "https://localhost:8080/"
        },
        "id": "inJP6XTCGrTJ",
        "outputId": "eca260e7-3e42-4b08-df6a-0339c68ff290"
      },
      "execution_count": 97,
      "outputs": [
        {
          "output_type": "execute_result",
          "data": {
            "text/plain": [
              "KstestResult(statistic=0.5000705017795278, pvalue=0.0)"
            ]
          },
          "metadata": {},
          "execution_count": 97
        }
      ]
    },
    {
      "cell_type": "code",
      "source": [
        "kstest(ind, 'norm')"
      ],
      "metadata": {
        "colab": {
          "base_uri": "https://localhost:8080/"
        },
        "id": "6tgIDPJPHaLb",
        "outputId": "498d532f-fd3c-4620-c4f3-32d9b519df4b"
      },
      "execution_count": 98,
      "outputs": [
        {
          "output_type": "execute_result",
          "data": {
            "text/plain": [
              "KstestResult(statistic=0.5000260393111068, pvalue=0.0)"
            ]
          },
          "metadata": {},
          "execution_count": 98
        }
      ]
    },
    {
      "cell_type": "markdown",
      "metadata": {
        "id": "pV2A1qx13KRu"
      },
      "source": [
        "<center><img src='https://drive.google.com/uc?id=1_utx_ZGclmCwNttSe40kYA6VHzNocdET' height=\"60\">\n",
        "\n",
        "AI TECH - Akademia Innowacyjnych Zastosowań Technologii Cyfrowych. Program Operacyjny Polska Cyfrowa na lata 2014-2020\n",
        "<hr>\n",
        "\n",
        "<img src='https://drive.google.com/uc?id=1BXZ0u3562N_MqCLcekI-Ens77Kk4LpPm'>\n",
        "\n",
        "\n",
        "Projekt współfinansowany ze środków Unii Europejskiej w ramach Europejskiego Funduszu Rozwoju Regionalnego \n",
        "Program Operacyjny Polska Cyfrowa na lata 2014-2020,\n",
        "Oś Priorytetowa nr 3 \"Cyfrowe kompetencje społeczeństwa\" Działanie  nr 3.2 \"Innowacyjne rozwiązania na rzecz aktywizacji cyfrowej\".   \n",
        "Tytuł projektu:  „Akademia Innowacyjnych Zastosowań Technologii Cyfrowych (AI Tech)”\n",
        "    </center>"
      ]
    }
  ]
}