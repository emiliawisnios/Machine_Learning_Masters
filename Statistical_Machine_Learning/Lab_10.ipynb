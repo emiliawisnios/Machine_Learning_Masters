{
  "nbformat": 4,
  "nbformat_minor": 0,
  "metadata": {
    "colab": {
      "name": "Kopia notatnika Notebook 10 - student version.ipynb",
      "provenance": [],
      "collapsed_sections": []
    },
    "kernelspec": {
      "name": "python3",
      "display_name": "Python 3"
    },
    "language_info": {
      "name": "python"
    }
  },
  "cells": [
    {
      "cell_type": "markdown",
      "metadata": {
        "id": "SisIDNTm3KNb"
      },
      "source": [
        "<center><img src='https://drive.google.com/uc?id=1_utx_ZGclmCwNttSe40kYA6VHzNocdET' height=\"60\">\n",
        "\n",
        "AI TECH - Akademia Innowacyjnych Zastosowań Technologii Cyfrowych. Program Operacyjny Polska Cyfrowa na lata 2014-2020\n",
        "<hr>\n",
        "\n",
        "<img src='https://drive.google.com/uc?id=1BXZ0u3562N_MqCLcekI-Ens77Kk4LpPm'>\n",
        "\n",
        "\n",
        "Projekt współfinansowany ze środków Unii Europejskiej w ramach Europejskiego Funduszu Rozwoju Regionalnego \n",
        "Program Operacyjny Polska Cyfrowa na lata 2014-2020,\n",
        "Oś Priorytetowa nr 3 \"Cyfrowe kompetencje społeczeństwa\" Działanie  nr 3.2 \"Innowacyjne rozwiązania na rzecz aktywizacji cyfrowej\".   \n",
        "Tytuł projektu:  „Akademia Innowacyjnych Zastosowań Technologii Cyfrowych (AI Tech)”\n",
        "    </center>"
      ]
    },
    {
      "cell_type": "markdown",
      "metadata": {
        "id": "685bcedd"
      },
      "source": [
        "# Statistical machine learning - Notebook 10, version for students \n",
        "**Author: Michał Ciach**  \n",
        "**Date: 10.12.2021**"
      ]
    },
    {
      "cell_type": "markdown",
      "metadata": {
        "id": "eAMEuAbbH-Or"
      },
      "source": [
        "## Description\n",
        " "
      ]
    },
    {
      "cell_type": "markdown",
      "metadata": {
        "id": "YXweAU-UR7F7"
      },
      "source": [
        "In this class, we will learn the basics of two popular classification algorithms: the Logistic Regression and the Linear Discriminant Analysis."
      ]
    },
    {
      "cell_type": "code",
      "metadata": {
        "id": "jkB6U888K8KX",
        "colab": {
          "base_uri": "https://localhost:8080/"
        },
        "outputId": "526f31e5-603f-4476-e89a-fea7e2f7d0aa"
      },
      "source": [
        "!pip install gdown\n",
        "!gdown https://drive.google.com/uc?id=1GW1pjKOCoKOlC4Jqbqql_ghYD_n0iC6O\n",
        "!gdown https://drive.google.com/uc?id=1FInZ2jrlZGNColU4sHF9JKGHP39fTVut\n",
        "!gdown https://drive.google.com/uc?id=1n1qS6dcVVKcVJOuUIIm0VTz6cSyrtzDH"
      ],
      "execution_count": 1,
      "outputs": [
        {
          "output_type": "stream",
          "name": "stdout",
          "text": [
            "Requirement already satisfied: gdown in /usr/local/lib/python3.7/dist-packages (3.6.4)\n",
            "Requirement already satisfied: six in /usr/local/lib/python3.7/dist-packages (from gdown) (1.15.0)\n",
            "Requirement already satisfied: requests in /usr/local/lib/python3.7/dist-packages (from gdown) (2.23.0)\n",
            "Requirement already satisfied: tqdm in /usr/local/lib/python3.7/dist-packages (from gdown) (4.62.3)\n",
            "Requirement already satisfied: idna<3,>=2.5 in /usr/local/lib/python3.7/dist-packages (from requests->gdown) (2.10)\n",
            "Requirement already satisfied: urllib3!=1.25.0,!=1.25.1,<1.26,>=1.21.1 in /usr/local/lib/python3.7/dist-packages (from requests->gdown) (1.24.3)\n",
            "Requirement already satisfied: chardet<4,>=3.0.2 in /usr/local/lib/python3.7/dist-packages (from requests->gdown) (3.0.4)\n",
            "Requirement already satisfied: certifi>=2017.4.17 in /usr/local/lib/python3.7/dist-packages (from requests->gdown) (2021.10.8)\n",
            "Downloading...\n",
            "From: https://drive.google.com/uc?id=1GW1pjKOCoKOlC4Jqbqql_ghYD_n0iC6O\n",
            "To: /content/BDL municipality incomes 2015-2020.csv\n",
            "100% 228k/228k [00:00<00:00, 82.3MB/s]\n",
            "Downloading...\n",
            "From: https://drive.google.com/uc?id=1FInZ2jrlZGNColU4sHF9JKGHP39fTVut\n",
            "To: /content/BDL municipality area km2 2015-2020.csv\n",
            "100% 180k/180k [00:00<00:00, 51.8MB/s]\n",
            "Downloading...\n",
            "From: https://drive.google.com/uc?id=1n1qS6dcVVKcVJOuUIIm0VTz6cSyrtzDH\n",
            "To: /content/BDL municipality population 2015-2020.csv\n",
            "100% 222k/222k [00:00<00:00, 76.8MB/s]\n"
          ]
        }
      ]
    },
    {
      "cell_type": "markdown",
      "metadata": {
        "id": "PbgBtcAsK6T2"
      },
      "source": [
        "## Data & library imports"
      ]
    },
    {
      "cell_type": "code",
      "metadata": {
        "id": "8H2cI48aR97y"
      },
      "source": [
        "import pandas as pd\n",
        "import plotly.express as px\n",
        "import numpy as np\n",
        "from sklearn.linear_model import LogisticRegression\n",
        "from sklearn.discriminant_analysis import LinearDiscriminantAnalysis \n",
        "from sklearn.decomposition import PCA\n",
        "from sklearn import datasets"
      ],
      "execution_count": 2,
      "outputs": []
    },
    {
      "cell_type": "code",
      "metadata": {
        "id": "5dofE7aHSGpk"
      },
      "source": [
        "income = pd.read_csv('BDL municipality incomes 2015-2020.csv', sep=';', dtype={'Code': 'str'})\n",
        "population = pd.read_csv('BDL municipality population 2015-2020.csv', sep='\\t', dtype={'Code': 'str'})\n",
        "area = pd.read_csv('BDL municipality area km2 2015-2020.csv', sep='\\t', dtype={'Code': 'str'})"
      ],
      "execution_count": 3,
      "outputs": []
    },
    {
      "cell_type": "code",
      "metadata": {
        "id": "c4ryDcevSVBx"
      },
      "source": [
        "voivodeship_names = {\n",
        "    '02': 'Dolnośląskie',\n",
        "    '04': 'Kujawsko-pomorskie',\n",
        "    '06': 'Lubelskie',\n",
        "    '08': 'Lubuskie',\n",
        "    '10': 'Łódzkie',\n",
        "    '12': 'Małopolskie',\n",
        "    '14': 'Mazowieckie',\n",
        "    '16': 'Opolskie',\n",
        "    '18': 'Podkarpackie',\n",
        "    '20': 'Podlaskie',\n",
        "    '22': 'Pomorskie',\n",
        "    '24': 'Śląskie',\n",
        "    '26': 'Świętokrzyskie',\n",
        "    '28': 'Warmińsko-mazurskie',\n",
        "    '30': 'Wielkopolskie',\n",
        "    '32': 'Zachodniopomorskie'\n",
        "}"
      ],
      "execution_count": 4,
      "outputs": []
    },
    {
      "cell_type": "code",
      "metadata": {
        "id": "j5-3Z6mDSVZt"
      },
      "source": [
        "code_list = [s[:2] for s in income[\"Code\"]]\n",
        "name_list = [voivodeship_names[code] for code in code_list]\n",
        "income['Voivodeship'] = name_list"
      ],
      "execution_count": 5,
      "outputs": []
    },
    {
      "cell_type": "markdown",
      "metadata": {
        "id": "E4PYWS9CRvKI"
      },
      "source": [
        "## Part 1"
      ]
    },
    {
      "cell_type": "markdown",
      "source": [
        "**Exercise 1.** In this exercise, we will use logistic regression to classify iris flowers into species based on their measurements. We will also analyze the sensitivity of this model to errors in the training data set. \n",
        "\n",
        "The `iris` data set is loaded in the first cell below. The vector `dataset` assigns each observation either to the test or the training data set. Additionally, the vector `y_ptb` has 20% of species assigned incorrectly to stimulate errors in the training data set. \n",
        "\n",
        "In the next cell, three artificial observations are created. They are located near the boundaries of different species. \n",
        "\n",
        "First, use the principal component analysis to show the distribution of flower measurements on a scatter plot. Color the points according to their species. Next, color the points according to the labeling with errors to see how it changes the structure of the data set. Add points from the `X_new` array to the plots to see where they're located. \n",
        "\n",
        "Split the `X` and `y` arrays into test and training data sets. Try to do this using the `pd.groupby()` and the `pd.get_group()` functions. \n",
        "\n",
        "Fit a logistic regression model to the training data set. Check the training and the test accuracy of the fitted model. Check the coefficients of the model. What measurements increase the probability that a flower is classified as *Iris setosa*, and which do decrease it? Are all the variables used to classify the flowers? \n",
        "\n",
        "Predict the classes for the data points in `X_new`. Calculate the probabilities of assignment to different classes. Are they similar to the weights used to create them? Is the model confident about the classification of those points? \n",
        "\n",
        "Fit the model to the training data set with errors. Calculate the training and the test accuracy (use the test data set without errors). Did the errors influence the quality of fit? Is the model fitted to low-quality data equally able to correctly classify new observations in this case? How did the errors influence the model's confidence of classification of the artificial observations from `X_new`?"
      ],
      "metadata": {
        "id": "8cuUJR_GljZy"
      }
    },
    {
      "cell_type": "code",
      "metadata": {
        "id": "-XkakTNcSPWv"
      },
      "source": [
        "iris_raw = datasets.load_iris()\n",
        "iris = pd.DataFrame(iris_raw.data, columns=iris_raw.feature_names)\n",
        "iris['Species'] = [iris_raw.target_names[x] for x in iris_raw.target]\n",
        "\n",
        "X = iris.iloc[:, :4]\n",
        "y = iris['Species']\n",
        "dataset = [\"Test\" if not i % 10 else \"Train\" for i in range(X.shape[0])]\n",
        "y_ptb = [y.iloc[(i+50)%150 ] if not (i-1)%10 else y.iloc[(i+100)%150] if not (i-2)%10 else y.iloc[i] for i in range(len(y))]"
      ],
      "execution_count": 6,
      "outputs": []
    },
    {
      "cell_type": "code",
      "source": [
        "specie_centers = iris.groupby(\"Species\").mean()\n",
        "nwpt_prop = np.array([\n",
        "            [0.00, 0.50, 0.50],\n",
        "            [0.60, 0.40, 0.00],\n",
        "            [0.33, 0.33, 0.33]\n",
        "             ]) \n",
        "X_new = nwpt_prop.dot(specie_centers)"
      ],
      "metadata": {
        "id": "huSf-D6m8TVF"
      },
      "execution_count": 7,
      "outputs": []
    },
    {
      "cell_type": "code",
      "source": [
        "X_new"
      ],
      "metadata": {
        "colab": {
          "base_uri": "https://localhost:8080/"
        },
        "id": "iXHf8pTMiqpS",
        "outputId": "7cd3e86c-f64e-48e8-edb1-4df044cbf221"
      },
      "execution_count": 107,
      "outputs": [
        {
          "output_type": "execute_result",
          "data": {
            "text/plain": [
              "array([[6.262  , 2.872  , 4.906  , 1.676  ],\n",
              "       [5.378  , 3.1648 , 2.5812 , 0.678  ],\n",
              "       [5.7849 , 3.02676, 3.72042, 1.18734]])"
            ]
          },
          "metadata": {},
          "execution_count": 107
        }
      ]
    },
    {
      "cell_type": "code",
      "source": [
        "pca = PCA()\n",
        "components = pca.fit_transform(X)"
      ],
      "metadata": {
        "id": "zmIKwg1nHdGk"
      },
      "execution_count": 117,
      "outputs": []
    },
    {
      "cell_type": "code",
      "source": [
        "import plotly.graph_objects as go"
      ],
      "metadata": {
        "id": "vtuLzoMnKDmR"
      },
      "execution_count": 27,
      "outputs": []
    },
    {
      "cell_type": "code",
      "source": [
        "labels = {\n",
        "    str(i): f\"PC {i+1} ({var:.1f}%)\"\n",
        "    for i, var in enumerate(pca.explained_variance_ratio_ * 100)\n",
        "}\n",
        "\n",
        "\n",
        "fig = px.scatter_matrix(\n",
        "    components,\n",
        "    labels=labels,\n",
        "    dimensions=range(4),\n",
        "    color=y\n",
        ")\n",
        "\n",
        "fig.update_traces(diagonal_visible=False)\n",
        "fig.show()"
      ],
      "metadata": {
        "colab": {
          "base_uri": "https://localhost:8080/",
          "height": 542
        },
        "id": "D9kC3pvwFGJR",
        "outputId": "b8a0527a-a832-4c79-fa14-d87d55bae11d"
      },
      "execution_count": 118,
      "outputs": [
        {
          "output_type": "display_data",
          "data": {
            "text/html": [
              "<html>\n",
              "<head><meta charset=\"utf-8\" /></head>\n",
              "<body>\n",
              "    <div>\n",
              "            <script src=\"https://cdnjs.cloudflare.com/ajax/libs/mathjax/2.7.5/MathJax.js?config=TeX-AMS-MML_SVG\"></script><script type=\"text/javascript\">if (window.MathJax) {MathJax.Hub.Config({SVG: {font: \"STIX-Web\"}});}</script>\n",
              "                <script type=\"text/javascript\">window.PlotlyConfig = {MathJaxConfig: 'local'};</script>\n",
              "        <script src=\"https://cdn.plot.ly/plotly-latest.min.js\"></script>    \n",
              "            <div id=\"4738a9c2-94c9-4729-b1f9-e6450a070ea9\" class=\"plotly-graph-div\" style=\"height:525px; width:100%;\"></div>\n",
              "            <script type=\"text/javascript\">\n",
              "                \n",
              "                    window.PLOTLYENV=window.PLOTLYENV || {};\n",
              "                    \n",
              "                if (document.getElementById(\"4738a9c2-94c9-4729-b1f9-e6450a070ea9\")) {\n",
              "                    Plotly.newPlot(\n",
              "                        '4738a9c2-94c9-4729-b1f9-e6450a070ea9',\n",
              "                        [{\"diagonal\": {\"visible\": false}, \"dimensions\": [{\"axis\": {\"matches\": true}, \"label\": \"PC 1 (92.5%)\", \"values\": [-2.6841256259695383, -2.714141687294327, -2.8889905690592976, -2.74534285564141, -2.7287165365545314, -2.280859632844493, -2.820537750740609, -2.626144973146634, -2.8863827317805537, -2.672755797820954, -2.5069470906518565, -2.6127552309087227, -2.786109266188018, -3.223803743865653, -2.64475038994203, -2.3860390335311346, -2.623527875224427, -2.6482967062543823, -2.1998203236175806, -2.587986399878769, -2.310256215242519, -2.543705228757157, -3.215939415648611, -2.3027331822262074, -2.3557540491237723, -2.506668906925823, -2.4688200731213397, -2.5623199061960165, -2.639534715384544, -2.6319893872743467, -2.5873984766893527, -2.4099324970021754, -2.6488623343499125, -2.5987367491005884, -2.636926878105799, -2.8662416521186707, -2.6252380498503736, -2.8006841154482225, -2.9805020437819936, -2.590006313968097, -2.770102426027903, -2.8493687050431045, -2.9974065465949082, -2.405614485097487, -2.20948923778368, -2.714451426757708, -2.5381482589989406, -2.8394621676428504, -2.5430857498303934, -2.7033597823351605]}, {\"axis\": {\"matches\": true}, \"label\": \"PC 2 (5.3%)\", \"values\": [0.3193972465851018, -0.1770012250647805, -0.14494942608555741, -0.3182989792519161, 0.3267545129349197, 0.7413304490629148, -0.08946138452856882, 0.1633849596983285, -0.5783117541867038, -0.11377424587411694, 0.6450688986485738, 0.014729939161374375, -0.23511200020171852, -0.5113945870063822, 1.1787646364375748, 1.3380623304006523, 0.8106795141812576, 0.3118491445933546, 0.8728390389622106, 0.5135603087492767, 0.3913459356538939, 0.4329960632790281, 0.13346806953852575, 0.09870885481409933, -0.03728185967738271, -0.14601688049526784, 0.13095148943525015, 0.36771885743419974, 0.3120399802352827, -0.1969612249243146, -0.20431849127413354, 0.4109242642295726, 0.8133638202969619, 1.0931457594493568, -0.12132234786586327, 0.06936447158008043, 0.5993700213794234, 0.2686437377979822, -0.4879583444286154, 0.22904383682701246, 0.26352753374425636, -0.9409605736411966, -0.3419260574716099, 0.18887142893026027, 0.4366631416391876, -0.25020820418521117, 0.5037711444614373, -0.22794556949382766, 0.5794100215198891, 0.10770608249941152]}, {\"axis\": {\"matches\": true}, \"label\": \"PC 3 (1.7%)\", \"values\": [-0.027914827589415846, -0.21046427237824472, 0.017900256320890214, 0.03155937360568084, 0.09007924055120121, 0.16867765820910463, 0.2578921582556179, -0.02187931788671976, 0.020759570264780102, -0.19763272498814657, -0.07531800937912027, 0.10215025995658981, -0.20684443044964465, 0.061299672457099046, -0.1516275236178093, 0.2777769027031357, 0.1381832278807193, 0.02666831561259383, -0.12030552339473106, 0.21366517222471576, -0.23944404324495352, 0.20845723241671496, 0.2923967507452422, 0.039123258742880654, 0.1250210827028788, -0.2534200423446577, 0.09491057609939171, -0.07849420513792431, -0.14590889573002924, 0.04077107906717904, -0.07722298907343585, -0.14552497200513093, 0.22566914972011942, 0.15781081295822003, -0.14304958178613908, -0.1643323066530257, -0.2683503756939364, 0.09369908247980004, 0.0729270456926924, -0.0800823030173261, 0.07724769316110383, -0.3492303773059666, 0.19250921171270968, 0.26386794551341547, 0.2987427457551086, -0.09767814404562956, 0.16670563660480453, 0.08372684903359322, -0.01711502424851342, -0.08929400847882472]}, {\"axis\": {\"matches\": true}, \"label\": \"PC 4 (0.5%)\", \"values\": [-0.002262437071316845, -0.09902655032358677, -0.01996838970902986, 0.0755758166136824, 0.06125859258569304, 0.02420085756952276, 0.04814310648765289, 0.0452978705519306, 0.02674473576178781, 0.05629540126889391, 0.015019924490179153, 0.1563792078321893, 0.007887911493215173, 0.02167981184681267, -0.15920971766996247, -0.0065515458675321145, -0.16773473722833127, -0.07762817959772199, -0.027051868141878262, 0.06627265020158024, 0.01507079078926731, -0.041065402691437096, -0.004482125050570375, -0.14835258928536652, 0.30033090393057965, -0.03460747221505753, -0.05744971580141506, 0.014172742337748415, -0.06578346672832805, 0.12398330638936098, 0.060462276732350606, -0.23162849166246885, 0.28137234706383035, 0.09534885833338279, -0.01907034125751056, -0.16259844627968542, -0.17644121293237114, 0.168173054402495, 0.010733147428937271, 0.013749151261533194, -0.09406335900678801, -0.31998748695415535, 0.07467776816216318, -0.17620889048761118, 0.1828425024730295, -0.14284357355959393, 0.18962229142744835, 0.05956422828083174, 0.04656864378057686, -0.03465833851414586]}], \"hoverlabel\": {\"namelength\": 0}, \"hovertemplate\": \"color=setosa<br>%{xaxis.title.text}=%{x}<br>%{yaxis.title.text}=%{y}\", \"legendgroup\": \"color=setosa\", \"marker\": {\"color\": \"#636efa\", \"symbol\": \"circle\"}, \"name\": \"color=setosa\", \"showlegend\": true, \"type\": \"splom\"}, {\"diagonal\": {\"visible\": false}, \"dimensions\": [{\"axis\": {\"matches\": true}, \"label\": \"PC 1 (92.5%)\", \"values\": [1.2848256888583505, 0.9324885323123178, 1.464302321991393, 0.18331771995837023, 1.0881032577116654, 0.6416690842580774, 1.0950606626324462, -0.7491226698296575, 1.0441318260534354, -0.008745404082896239, -0.5078408838353262, 0.511698557447597, 0.2649765081120461, 0.9849345104708899, -0.17392537168176825, 0.9278607809442464, 0.6602837616969369, 0.23610499331767118, 0.9447337280198126, 0.045226976298699505, 1.1162831773500494, 0.3578884179973067, 1.2981838753589132, 0.9217289224470365, 0.7148533259114112, 0.900174373172167, 1.3320244367220875, 1.5578021550660697, 0.8132906498175408, -0.3055837780243095, -0.06812649206836398, -0.18962247237850235, 0.13642871155801448, 1.3800264359155106, 0.5880064433398632, 0.8068583125004116, 1.220690882444352, 0.8150952357665991, 0.24595767988669204, 0.1664132171454566, 0.4648002884037791, 0.8908151984694489, 0.23054802355945495, -0.704531759244664, 0.3569814947010468, 0.331934479945058, 0.37621565106667004, 0.6425760075543373, -0.9064698649488363, 0.2990008418781429]}, {\"axis\": {\"matches\": true}, \"label\": \"PC 2 (5.3%)\", \"values\": [0.685160470467308, 0.3183336382626286, 0.5042628153092037, -0.827959011820632, 0.07459067519771585, -0.41824687156867896, 0.2834682700615287, -1.0048909611818955, 0.2283618997883952, -0.7230819050048342, -1.2659711905263937, -0.10398123549904062, -0.5500364636804749, -0.12481785412635771, -0.2548542087025894, 0.4671794944415102, -0.35296966572385063, -0.33361076682491564, -0.5431455507797666, -0.5838343774718645, -0.08461685219478826, -0.06892503165601417, -0.32778730833391756, -0.18273779362136777, 0.14905594436978442, 0.3285044738343229, 0.24444087601634307, 0.2674954473102543, -0.16335030068761647, -0.36826218975458813, -0.7051721317994654, -0.6802867635281334, -0.31403243824923693, -0.420954287313882, -0.4842874199812184, 0.19418231471315053, 0.40761959361100686, -0.37203705990950203, -0.2685243966220151, -0.6819267248636268, -0.6707115445117207, -0.034464444368269134, -0.4043858480073253, -1.0122482275317142, -0.5049100933371088, -0.21265468378117006, -0.2932189292514192, 0.01773819011241598, -0.756093366599014, -0.3488978064503361]}, {\"axis\": {\"matches\": true}, \"label\": \"PC 3 (1.7%)\", \"values\": [-0.4065680254676944, -0.018014186646240455, -0.33832576498089645, -0.17959139187535547, -0.30775789623478494, 0.04107609082395582, 0.16981023986057506, 0.012302919237595125, -0.4153360847593978, 0.28114143117640966, -0.26981718276885286, 0.130547750240486, -0.6941468301444192, -0.06211440832226125, 0.09045769072570438, -0.3146209758321725, 0.32802752837859506, -0.2711618372510669, -0.4995190464851132, -0.23500210497205606, 0.4596209913591039, -0.22985388760895162, -0.3478543522573084, -0.23107177773628498, -0.3218009372444741, -0.3162090737115743, -0.5217027796644195, -0.16492098374358058, 0.03542450484616002, -0.31849158062304717, -0.24421381043355464, -0.30642056121765854, -0.17724276601124445, 0.01616712752072858, 0.4444334986398076, 0.38896306309821055, -0.237167009883876, -0.6147208425918225, 0.1883668116461946, -0.06000922585533825, -0.02430685571895185, -0.009946932894349012, -0.22941024143915675, -0.10569114890301978, 0.01661717019826532, 0.08320429089567648, 0.07799635108767548, -0.20539496698326096, -0.012599647557890269, 0.010581660495570517]}, {\"axis\": {\"matches\": true}, \"label\": \"PC 4 (0.5%)\", \"values\": [-0.018525287923270527, -0.0005665121062169133, 0.0016531758730362967, -0.0935668402366633, -0.11202057416360289, 0.2431167665129235, 0.08355657242331602, 0.017907722555304314, 0.039134501965421724, 0.005618917875113159, -0.04556244080261777, -0.05071923248584528, -0.05718551947605018, 0.16949625459046874, -0.12521729212523697, -0.09980313651708118, 0.18787862148373796, 0.21375736963727285, -0.257192177191551, 0.04157664755951074, 0.07503155286494756, -0.12299760414598401, -0.0008883705842557101, 0.2882554292766649, -0.041719755552173686, -0.10022672759329636, -0.035333192109463854, -0.0699692822661273, 0.029711433955534616, -0.0745696136357232, -0.006830842216168229, 0.02055100161077313, -0.032941912814463, 0.1783044628926848, 0.2509760600645328, 0.11420724326219461, -0.03121718294509549, -0.15402099976198977, 0.146674511738693, -0.029622219503437432, 0.2696514281874341, 0.153484666257618, -0.016930324481612437, -0.045613307101705976, 0.09874147933831805, 0.23847543367416366, 0.13113738078114606, 0.021377683028621544, -0.2325348442836725, 0.05118117171506939]}], \"hoverlabel\": {\"namelength\": 0}, \"hovertemplate\": \"color=versicolor<br>%{xaxis.title.text}=%{x}<br>%{yaxis.title.text}=%{y}\", \"legendgroup\": \"color=versicolor\", \"marker\": {\"color\": \"#EF553B\", \"symbol\": \"circle\"}, \"name\": \"color=versicolor\", \"showlegend\": true, \"type\": \"splom\"}, {\"diagonal\": {\"visible\": false}, \"dimensions\": [{\"axis\": {\"matches\": true}, \"label\": \"PC 1 (92.5%)\", \"values\": [2.531192727803628, 1.415235876703902, 2.616676015995689, 1.971531053043435, 2.3500059200446395, 3.3970387360532572, 0.5212322439097735, 2.9325870689936875, 2.3212288165733774, 2.9167509667860716, 1.661774153636531, 1.8034019529650906, 2.165591796080144, 1.3461635794584512, 1.5859282238732204, 1.9044563747934264, 1.9496890593990688, 3.487055364290278, 3.795645422072883, 1.3007917126376567, 2.4278179130660447, 1.1990011054655605, 3.499920038924537, 1.3887661316914648, 2.275430503872204, 2.61409047381083, 1.2585081605114872, 1.2911320591150204, 2.1236087227738945, 2.388003016003467, 2.8416727781038706, 3.230673661432092, 2.1594376424890496, 1.4441612423295092, 1.7812948100451118, 3.0764999316871866, 2.144243314302081, 1.9050981488140752, 1.1693263393414997, 2.107611143257241, 2.314154705235599, 1.9222678009026, 1.415235876703902, 2.5630133750774746, 2.418746182732824, 1.9441097945469672, 1.5271666148145164, 1.7643457170444283, 1.9009416142184226, 1.3901888619479132]}, {\"axis\": {\"matches\": true}, \"label\": \"PC 2 (5.3%)\", \"values\": [-0.00984910949880229, -0.5749163475464896, 0.3439031513417338, -0.17972790435224575, -0.040260947142531374, 0.550836673028055, -1.1927587270006452, 0.35550000297749573, -0.24383150231069098, 0.782791948815278, 0.2422284077550667, -0.21563761733355566, 0.21627558507402436, -0.7768183473443396, -0.5396407140267188, 0.11925069209197245, 0.04194325966321102, 1.1757393297134284, 0.25732297342047883, -0.7611496364350635, 0.37819601261705027, -0.6060915277579306, 0.46067409891189437, -0.20439932735215113, 0.334990605821677, 0.5609013551230771, -0.17970479472274684, -0.11666865117401169, -0.20972947667730293, 0.4646398047087358, 0.3752691671951027, 1.3741650867930468, -0.21727757866904926, -0.14341341045758108, -0.4999016810781369, 0.6880856775711752, 0.14006420108978965, 0.04930052601302986, -0.16499026202310982, 0.3722878719607972, 0.1836512791690187, 0.4092034668160619, -0.5749163475464896, 0.2778626029291944, 0.3047981978546917, 0.18753230280060498, -0.3753169825804885, 0.07885885451847544, 0.11662795851202334, -0.28266093799055075]}, {\"axis\": {\"matches\": true}, \"label\": \"PC 3 (1.7%)\", \"values\": [0.7601654272458954, 0.29632252738796433, -0.11078788321910907, 0.10842466246342278, 0.2853895631844412, -0.34843755579746755, 0.5456592956468126, -0.42023993576796825, -0.3483043949348453, 0.42333541768255833, 0.242440189725769, -0.03764816823148258, 0.03332664184432514, 0.28190288211846476, 0.6290293264080105, 0.4796398196265905, 0.04418616763012193, 0.1338948739360982, -0.5137677638178045, -0.34499503831341827, 0.2191193243019432, 0.511855508697001, -0.5731822425680029, -0.06452275663126851, 0.2861500911691497, -0.20553452435362507, 0.04584770392724987, 0.23125646265997035, 0.15418002392883, -0.44953019194185, -0.4988980758707691, -0.11454820547541922, 0.20876316713083756, -0.1532338880630902, -0.17287518911342006, -0.335592292434541, 0.7348789367255111, 0.1621802357707369, 0.28183584020848024, 0.027291132141630634, 0.32269374717305893, 0.1135865957993566, 0.29632252738796433, 0.2925695245967427, 0.5044826639771799, 0.17782509063265736, -0.12189817186718195, 0.13048163128784807, 0.723251563489917, 0.36290964808537557]}, {\"axis\": {\"matches\": true}, \"label\": \"PC 4 (0.5%)\", \"values\": [0.0290555727786997, 0.015304673894266358, -0.06577204123816445, 0.23679093419922603, 0.00017063327835248364, 0.1123716532060915, 0.09812661963064687, 0.2571910321914947, 0.07867461297011098, -0.11098207103557628, -0.12104055183185662, -0.0780198444491922, -0.1630614781648258, -0.14044086877443, -0.3295517283711437, -0.21962126272174562, 0.15768190728558057, 0.3092195730216563, -0.053846096505176064, 0.04582475488656151, -0.1854292643758796, -0.0609591170836568, 0.14022795440833635, -0.1630409774302435, 0.060371969624337295, 0.24070498648334068, -0.14750384647269696, -0.0040266077496096215, -0.052827323036998386, 0.23152405340399687, 0.022336462609152622, 0.2529019233952801, -0.12819306556340296, 0.19099635791450953, 0.505434411785801, -0.30982804463443236, -0.05554196912613653, 0.221202936942591, -0.02046178715867587, -0.2106217857880739, -0.2776537773875657, -0.5053049669392736, 0.015304673894266358, -0.057912747686554855, -0.24109100048128093, -0.4261959400256276, -0.25436744199041056, -0.13700127386561883, -0.04459530470826104, 0.15503862823011177]}], \"hoverlabel\": {\"namelength\": 0}, \"hovertemplate\": \"color=virginica<br>%{xaxis.title.text}=%{x}<br>%{yaxis.title.text}=%{y}\", \"legendgroup\": \"color=virginica\", \"marker\": {\"color\": \"#00cc96\", \"symbol\": \"circle\"}, \"name\": \"color=virginica\", \"showlegend\": true, \"type\": \"splom\"}],\n",
              "                        {\"dragmode\": \"select\", \"legend\": {\"tracegroupgap\": 0}, \"margin\": {\"t\": 60}, \"template\": {\"data\": {\"bar\": [{\"error_x\": {\"color\": \"#2a3f5f\"}, \"error_y\": {\"color\": \"#2a3f5f\"}, \"marker\": {\"line\": {\"color\": \"#E5ECF6\", \"width\": 0.5}}, \"type\": \"bar\"}], \"barpolar\": [{\"marker\": {\"line\": {\"color\": \"#E5ECF6\", \"width\": 0.5}}, \"type\": \"barpolar\"}], \"carpet\": [{\"aaxis\": {\"endlinecolor\": \"#2a3f5f\", \"gridcolor\": \"white\", \"linecolor\": \"white\", \"minorgridcolor\": \"white\", \"startlinecolor\": \"#2a3f5f\"}, \"baxis\": {\"endlinecolor\": \"#2a3f5f\", \"gridcolor\": \"white\", \"linecolor\": \"white\", \"minorgridcolor\": \"white\", \"startlinecolor\": \"#2a3f5f\"}, \"type\": \"carpet\"}], \"choropleth\": [{\"colorbar\": {\"outlinewidth\": 0, \"ticks\": \"\"}, \"type\": \"choropleth\"}], \"contour\": [{\"colorbar\": {\"outlinewidth\": 0, \"ticks\": \"\"}, \"colorscale\": [[0.0, \"#0d0887\"], [0.1111111111111111, \"#46039f\"], [0.2222222222222222, \"#7201a8\"], [0.3333333333333333, \"#9c179e\"], [0.4444444444444444, \"#bd3786\"], [0.5555555555555556, \"#d8576b\"], [0.6666666666666666, \"#ed7953\"], [0.7777777777777778, \"#fb9f3a\"], [0.8888888888888888, \"#fdca26\"], [1.0, \"#f0f921\"]], \"type\": \"contour\"}], \"contourcarpet\": [{\"colorbar\": {\"outlinewidth\": 0, \"ticks\": \"\"}, \"type\": \"contourcarpet\"}], \"heatmap\": [{\"colorbar\": {\"outlinewidth\": 0, \"ticks\": \"\"}, \"colorscale\": [[0.0, \"#0d0887\"], [0.1111111111111111, \"#46039f\"], [0.2222222222222222, \"#7201a8\"], [0.3333333333333333, \"#9c179e\"], [0.4444444444444444, \"#bd3786\"], [0.5555555555555556, \"#d8576b\"], [0.6666666666666666, \"#ed7953\"], [0.7777777777777778, \"#fb9f3a\"], [0.8888888888888888, \"#fdca26\"], [1.0, \"#f0f921\"]], \"type\": \"heatmap\"}], \"heatmapgl\": [{\"colorbar\": {\"outlinewidth\": 0, \"ticks\": \"\"}, \"colorscale\": [[0.0, \"#0d0887\"], [0.1111111111111111, \"#46039f\"], [0.2222222222222222, \"#7201a8\"], [0.3333333333333333, \"#9c179e\"], [0.4444444444444444, \"#bd3786\"], [0.5555555555555556, \"#d8576b\"], [0.6666666666666666, \"#ed7953\"], [0.7777777777777778, \"#fb9f3a\"], [0.8888888888888888, \"#fdca26\"], [1.0, \"#f0f921\"]], \"type\": \"heatmapgl\"}], \"histogram\": [{\"marker\": {\"colorbar\": {\"outlinewidth\": 0, \"ticks\": \"\"}}, \"type\": \"histogram\"}], \"histogram2d\": [{\"colorbar\": {\"outlinewidth\": 0, \"ticks\": \"\"}, \"colorscale\": [[0.0, \"#0d0887\"], [0.1111111111111111, \"#46039f\"], [0.2222222222222222, \"#7201a8\"], [0.3333333333333333, \"#9c179e\"], [0.4444444444444444, \"#bd3786\"], [0.5555555555555556, \"#d8576b\"], [0.6666666666666666, \"#ed7953\"], [0.7777777777777778, \"#fb9f3a\"], [0.8888888888888888, \"#fdca26\"], [1.0, \"#f0f921\"]], \"type\": \"histogram2d\"}], \"histogram2dcontour\": [{\"colorbar\": {\"outlinewidth\": 0, \"ticks\": \"\"}, \"colorscale\": [[0.0, \"#0d0887\"], [0.1111111111111111, \"#46039f\"], [0.2222222222222222, \"#7201a8\"], [0.3333333333333333, \"#9c179e\"], [0.4444444444444444, \"#bd3786\"], [0.5555555555555556, \"#d8576b\"], [0.6666666666666666, \"#ed7953\"], [0.7777777777777778, \"#fb9f3a\"], [0.8888888888888888, \"#fdca26\"], [1.0, \"#f0f921\"]], \"type\": \"histogram2dcontour\"}], \"mesh3d\": [{\"colorbar\": {\"outlinewidth\": 0, \"ticks\": \"\"}, \"type\": \"mesh3d\"}], \"parcoords\": [{\"line\": {\"colorbar\": {\"outlinewidth\": 0, \"ticks\": \"\"}}, \"type\": \"parcoords\"}], \"pie\": [{\"automargin\": true, \"type\": \"pie\"}], \"scatter\": [{\"marker\": {\"colorbar\": {\"outlinewidth\": 0, \"ticks\": \"\"}}, \"type\": \"scatter\"}], \"scatter3d\": [{\"line\": {\"colorbar\": {\"outlinewidth\": 0, \"ticks\": \"\"}}, \"marker\": {\"colorbar\": {\"outlinewidth\": 0, \"ticks\": \"\"}}, \"type\": \"scatter3d\"}], \"scattercarpet\": [{\"marker\": {\"colorbar\": {\"outlinewidth\": 0, \"ticks\": \"\"}}, \"type\": \"scattercarpet\"}], \"scattergeo\": [{\"marker\": {\"colorbar\": {\"outlinewidth\": 0, \"ticks\": \"\"}}, \"type\": \"scattergeo\"}], \"scattergl\": [{\"marker\": {\"colorbar\": {\"outlinewidth\": 0, \"ticks\": \"\"}}, \"type\": \"scattergl\"}], \"scattermapbox\": [{\"marker\": {\"colorbar\": {\"outlinewidth\": 0, \"ticks\": \"\"}}, \"type\": \"scattermapbox\"}], \"scatterpolar\": [{\"marker\": {\"colorbar\": {\"outlinewidth\": 0, \"ticks\": \"\"}}, \"type\": \"scatterpolar\"}], \"scatterpolargl\": [{\"marker\": {\"colorbar\": {\"outlinewidth\": 0, \"ticks\": \"\"}}, \"type\": \"scatterpolargl\"}], \"scatterternary\": [{\"marker\": {\"colorbar\": {\"outlinewidth\": 0, \"ticks\": \"\"}}, \"type\": \"scatterternary\"}], \"surface\": [{\"colorbar\": {\"outlinewidth\": 0, \"ticks\": \"\"}, \"colorscale\": [[0.0, \"#0d0887\"], [0.1111111111111111, \"#46039f\"], [0.2222222222222222, \"#7201a8\"], [0.3333333333333333, \"#9c179e\"], [0.4444444444444444, \"#bd3786\"], [0.5555555555555556, \"#d8576b\"], [0.6666666666666666, \"#ed7953\"], [0.7777777777777778, \"#fb9f3a\"], [0.8888888888888888, \"#fdca26\"], [1.0, \"#f0f921\"]], \"type\": \"surface\"}], \"table\": [{\"cells\": {\"fill\": {\"color\": \"#EBF0F8\"}, \"line\": {\"color\": \"white\"}}, \"header\": {\"fill\": {\"color\": \"#C8D4E3\"}, \"line\": {\"color\": \"white\"}}, \"type\": \"table\"}]}, \"layout\": {\"annotationdefaults\": {\"arrowcolor\": \"#2a3f5f\", \"arrowhead\": 0, \"arrowwidth\": 1}, \"coloraxis\": {\"colorbar\": {\"outlinewidth\": 0, \"ticks\": \"\"}}, \"colorscale\": {\"diverging\": [[0, \"#8e0152\"], [0.1, \"#c51b7d\"], [0.2, \"#de77ae\"], [0.3, \"#f1b6da\"], [0.4, \"#fde0ef\"], [0.5, \"#f7f7f7\"], [0.6, \"#e6f5d0\"], [0.7, \"#b8e186\"], [0.8, \"#7fbc41\"], [0.9, \"#4d9221\"], [1, \"#276419\"]], \"sequential\": [[0.0, \"#0d0887\"], [0.1111111111111111, \"#46039f\"], [0.2222222222222222, \"#7201a8\"], [0.3333333333333333, \"#9c179e\"], [0.4444444444444444, \"#bd3786\"], [0.5555555555555556, \"#d8576b\"], [0.6666666666666666, \"#ed7953\"], [0.7777777777777778, \"#fb9f3a\"], [0.8888888888888888, \"#fdca26\"], [1.0, \"#f0f921\"]], \"sequentialminus\": [[0.0, \"#0d0887\"], [0.1111111111111111, \"#46039f\"], [0.2222222222222222, \"#7201a8\"], [0.3333333333333333, \"#9c179e\"], [0.4444444444444444, \"#bd3786\"], [0.5555555555555556, \"#d8576b\"], [0.6666666666666666, \"#ed7953\"], [0.7777777777777778, \"#fb9f3a\"], [0.8888888888888888, \"#fdca26\"], [1.0, \"#f0f921\"]]}, \"colorway\": [\"#636efa\", \"#EF553B\", \"#00cc96\", \"#ab63fa\", \"#FFA15A\", \"#19d3f3\", \"#FF6692\", \"#B6E880\", \"#FF97FF\", \"#FECB52\"], \"font\": {\"color\": \"#2a3f5f\"}, \"geo\": {\"bgcolor\": \"white\", \"lakecolor\": \"white\", \"landcolor\": \"#E5ECF6\", \"showlakes\": true, \"showland\": true, \"subunitcolor\": \"white\"}, \"hoverlabel\": {\"align\": \"left\"}, \"hovermode\": \"closest\", \"mapbox\": {\"style\": \"light\"}, \"paper_bgcolor\": \"white\", \"plot_bgcolor\": \"#E5ECF6\", \"polar\": {\"angularaxis\": {\"gridcolor\": \"white\", \"linecolor\": \"white\", \"ticks\": \"\"}, \"bgcolor\": \"#E5ECF6\", \"radialaxis\": {\"gridcolor\": \"white\", \"linecolor\": \"white\", \"ticks\": \"\"}}, \"scene\": {\"xaxis\": {\"backgroundcolor\": \"#E5ECF6\", \"gridcolor\": \"white\", \"gridwidth\": 2, \"linecolor\": \"white\", \"showbackground\": true, \"ticks\": \"\", \"zerolinecolor\": \"white\"}, \"yaxis\": {\"backgroundcolor\": \"#E5ECF6\", \"gridcolor\": \"white\", \"gridwidth\": 2, \"linecolor\": \"white\", \"showbackground\": true, \"ticks\": \"\", \"zerolinecolor\": \"white\"}, \"zaxis\": {\"backgroundcolor\": \"#E5ECF6\", \"gridcolor\": \"white\", \"gridwidth\": 2, \"linecolor\": \"white\", \"showbackground\": true, \"ticks\": \"\", \"zerolinecolor\": \"white\"}}, \"shapedefaults\": {\"line\": {\"color\": \"#2a3f5f\"}}, \"ternary\": {\"aaxis\": {\"gridcolor\": \"white\", \"linecolor\": \"white\", \"ticks\": \"\"}, \"baxis\": {\"gridcolor\": \"white\", \"linecolor\": \"white\", \"ticks\": \"\"}, \"bgcolor\": \"#E5ECF6\", \"caxis\": {\"gridcolor\": \"white\", \"linecolor\": \"white\", \"ticks\": \"\"}}, \"title\": {\"x\": 0.05}, \"xaxis\": {\"automargin\": true, \"gridcolor\": \"white\", \"linecolor\": \"white\", \"ticks\": \"\", \"title\": {\"standoff\": 15}, \"zerolinecolor\": \"white\", \"zerolinewidth\": 2}, \"yaxis\": {\"automargin\": true, \"gridcolor\": \"white\", \"linecolor\": \"white\", \"ticks\": \"\", \"title\": {\"standoff\": 15}, \"zerolinecolor\": \"white\", \"zerolinewidth\": 2}}}},\n",
              "                        {\"responsive\": true}\n",
              "                    ).then(function(){\n",
              "                            \n",
              "var gd = document.getElementById('4738a9c2-94c9-4729-b1f9-e6450a070ea9');\n",
              "var x = new MutationObserver(function (mutations, observer) {{\n",
              "        var display = window.getComputedStyle(gd).display;\n",
              "        if (!display || display === 'none') {{\n",
              "            console.log([gd, 'removed!']);\n",
              "            Plotly.purge(gd);\n",
              "            observer.disconnect();\n",
              "        }}\n",
              "}});\n",
              "\n",
              "// Listen for the removal of the full notebook cells\n",
              "var notebookContainer = gd.closest('#notebook-container');\n",
              "if (notebookContainer) {{\n",
              "    x.observe(notebookContainer, {childList: true});\n",
              "}}\n",
              "\n",
              "// Listen for the clearing of the current output cell\n",
              "var outputEl = gd.closest('.output');\n",
              "if (outputEl) {{\n",
              "    x.observe(outputEl, {childList: true});\n",
              "}}\n",
              "\n",
              "                        })\n",
              "                };\n",
              "                \n",
              "            </script>\n",
              "        </div>\n",
              "</body>\n",
              "</html>"
            ]
          },
          "metadata": {}
        }
      ]
    },
    {
      "cell_type": "code",
      "source": [
        "# fig = px.scatter(components, x=0, y=1, color=y)\n",
        "# fig.add_trace(go.Scatter(x=X_new[:, 0], y=X_new[:, 1], mode='markers', marker=go.scatter.Marker(symbol='x',size=12, color = 'black'), showlegend=False))\n",
        "# fig.show()"
      ],
      "metadata": {
        "id": "G-J6kMl2gIau"
      },
      "execution_count": 119,
      "outputs": []
    },
    {
      "cell_type": "code",
      "source": [
        "labels = {\n",
        "    str(i): f\"PC {i+1} ({var:.1f}%)\"\n",
        "    for i, var in enumerate(pca.explained_variance_ratio_ * 100)\n",
        "}\n",
        "\n",
        "fig = px.scatter_matrix(\n",
        "    components,\n",
        "    labels=labels,\n",
        "    dimensions=range(4),\n",
        "    color=y_ptb\n",
        ")\n",
        "fig.update_traces(diagonal_visible=False)\n",
        "fig.show()"
      ],
      "metadata": {
        "colab": {
          "base_uri": "https://localhost:8080/",
          "height": 542
        },
        "id": "M4-4k-cSIbQI",
        "outputId": "52ab63bc-2b76-4fe7-bd60-b9339e1f0197"
      },
      "execution_count": 26,
      "outputs": [
        {
          "output_type": "display_data",
          "data": {
            "text/html": [
              "<html>\n",
              "<head><meta charset=\"utf-8\" /></head>\n",
              "<body>\n",
              "    <div>\n",
              "            <script src=\"https://cdnjs.cloudflare.com/ajax/libs/mathjax/2.7.5/MathJax.js?config=TeX-AMS-MML_SVG\"></script><script type=\"text/javascript\">if (window.MathJax) {MathJax.Hub.Config({SVG: {font: \"STIX-Web\"}});}</script>\n",
              "                <script type=\"text/javascript\">window.PlotlyConfig = {MathJaxConfig: 'local'};</script>\n",
              "        <script src=\"https://cdn.plot.ly/plotly-latest.min.js\"></script>    \n",
              "            <div id=\"debf92c7-ba23-4777-b37b-44da7f4e5fa3\" class=\"plotly-graph-div\" style=\"height:525px; width:100%;\"></div>\n",
              "            <script type=\"text/javascript\">\n",
              "                \n",
              "                    window.PLOTLYENV=window.PLOTLYENV || {};\n",
              "                    \n",
              "                if (document.getElementById(\"debf92c7-ba23-4777-b37b-44da7f4e5fa3\")) {\n",
              "                    Plotly.newPlot(\n",
              "                        'debf92c7-ba23-4777-b37b-44da7f4e5fa3',\n",
              "                        [{\"diagonal\": {\"visible\": false}, \"dimensions\": [{\"axis\": {\"matches\": true}, \"label\": \"PC 1 (92.5%)\", \"values\": [-2.6841256259695383, -2.74534285564141, -2.7287165365545314, -2.280859632844493, -2.820537750740609, -2.626144973146634, -2.8863827317805537, -2.672755797820954, -2.5069470906518565, -3.223803743865653, -2.64475038994203, -2.3860390335311346, -2.623527875224427, -2.6482967062543823, -2.1998203236175806, -2.587986399878769, -2.310256215242519, -2.3027331822262074, -2.3557540491237723, -2.506668906925823, -2.4688200731213397, -2.5623199061960165, -2.639534715384544, -2.6319893872743467, -2.5873984766893527, -2.5987367491005884, -2.636926878105799, -2.8662416521186707, -2.6252380498503736, -2.8006841154482225, -2.9805020437819936, -2.590006313968097, -2.770102426027903, -2.405614485097487, -2.20948923778368, -2.714451426757708, -2.5381482589989406, -2.8394621676428504, -2.5430857498303934, -2.7033597823351605, 1.464302321991393, 0.2649765081120461, 1.2981838753589132, 0.13642871155801448, 0.23054802355945495, 1.415235876703902, 1.8034019529650906, 1.1990011054655605, 3.230673661432092, 1.9222678009026]}, {\"axis\": {\"matches\": true}, \"label\": \"PC 2 (5.3%)\", \"values\": [0.3193972465851018, -0.3182989792519161, 0.3267545129349197, 0.7413304490629148, -0.08946138452856882, 0.1633849596983285, -0.5783117541867038, -0.11377424587411694, 0.6450688986485738, -0.5113945870063822, 1.1787646364375748, 1.3380623304006523, 0.8106795141812576, 0.3118491445933546, 0.8728390389622106, 0.5135603087492767, 0.3913459356538939, 0.09870885481409933, -0.03728185967738271, -0.14601688049526784, 0.13095148943525015, 0.36771885743419974, 0.3120399802352827, -0.1969612249243146, -0.20431849127413354, 1.0931457594493568, -0.12132234786586327, 0.06936447158008043, 0.5993700213794234, 0.2686437377979822, -0.4879583444286154, 0.22904383682701246, 0.26352753374425636, 0.18887142893026027, 0.4366631416391876, -0.25020820418521117, 0.5037711444614373, -0.22794556949382766, 0.5794100215198891, 0.10770608249941152, 0.5042628153092037, -0.5500364636804749, -0.32778730833391756, -0.31403243824923693, -0.4043858480073253, -0.5749163475464896, -0.21563761733355566, -0.6060915277579306, 1.3741650867930468, 0.4092034668160619]}, {\"axis\": {\"matches\": true}, \"label\": \"PC 3 (1.7%)\", \"values\": [-0.027914827589415846, 0.03155937360568084, 0.09007924055120121, 0.16867765820910463, 0.2578921582556179, -0.02187931788671976, 0.020759570264780102, -0.19763272498814657, -0.07531800937912027, 0.061299672457099046, -0.1516275236178093, 0.2777769027031357, 0.1381832278807193, 0.02666831561259383, -0.12030552339473106, 0.21366517222471576, -0.23944404324495352, 0.039123258742880654, 0.1250210827028788, -0.2534200423446577, 0.09491057609939171, -0.07849420513792431, -0.14590889573002924, 0.04077107906717904, -0.07722298907343585, 0.15781081295822003, -0.14304958178613908, -0.1643323066530257, -0.2683503756939364, 0.09369908247980004, 0.0729270456926924, -0.0800823030173261, 0.07724769316110383, 0.26386794551341547, 0.2987427457551086, -0.09767814404562956, 0.16670563660480453, 0.08372684903359322, -0.01711502424851342, -0.08929400847882472, -0.33832576498089645, -0.6941468301444192, -0.3478543522573084, -0.17724276601124445, -0.22941024143915675, 0.29632252738796433, -0.03764816823148258, 0.511855508697001, -0.11454820547541922, 0.1135865957993566]}, {\"axis\": {\"matches\": true}, \"label\": \"PC 4 (0.5%)\", \"values\": [-0.002262437071316845, 0.0755758166136824, 0.06125859258569304, 0.02420085756952276, 0.04814310648765289, 0.0452978705519306, 0.02674473576178781, 0.05629540126889391, 0.015019924490179153, 0.02167981184681267, -0.15920971766996247, -0.0065515458675321145, -0.16773473722833127, -0.07762817959772199, -0.027051868141878262, 0.06627265020158024, 0.01507079078926731, -0.14835258928536652, 0.30033090393057965, -0.03460747221505753, -0.05744971580141506, 0.014172742337748415, -0.06578346672832805, 0.12398330638936098, 0.060462276732350606, 0.09534885833338279, -0.01907034125751056, -0.16259844627968542, -0.17644121293237114, 0.168173054402495, 0.010733147428937271, 0.013749151261533194, -0.09406335900678801, -0.17620889048761118, 0.1828425024730295, -0.14284357355959393, 0.18962229142744835, 0.05956422828083174, 0.04656864378057686, -0.03465833851414586, 0.0016531758730362967, -0.05718551947605018, -0.0008883705842557101, -0.032941912814463, -0.016930324481612437, 0.015304673894266358, -0.0780198444491922, -0.0609591170836568, 0.2529019233952801, -0.5053049669392736]}], \"hoverlabel\": {\"namelength\": 0}, \"hovertemplate\": \"color=setosa<br>%{xaxis.title.text}=%{x}<br>%{yaxis.title.text}=%{y}\", \"legendgroup\": \"color=setosa\", \"marker\": {\"color\": \"#636efa\", \"symbol\": \"circle\"}, \"name\": \"color=setosa\", \"showlegend\": true, \"type\": \"splom\"}, {\"diagonal\": {\"visible\": false}, \"dimensions\": [{\"axis\": {\"matches\": true}, \"label\": \"PC 1 (92.5%)\", \"values\": [-2.714141687294327, -2.6127552309087227, -2.543705228757157, -2.4099324970021754, -2.8493687050431045, 1.2848256888583505, 0.18331771995837023, 1.0881032577116654, 0.6416690842580774, 1.0950606626324462, -0.7491226698296575, 1.0441318260534354, -0.008745404082896239, -0.5078408838353262, 0.9849345104708899, -0.17392537168176825, 0.9278607809442464, 0.6602837616969369, 0.23610499331767118, 0.9447337280198126, 0.045226976298699505, 1.1162831773500494, 0.9217289224470365, 0.7148533259114112, 0.900174373172167, 1.3320244367220875, 1.5578021550660697, 0.8132906498175408, -0.3055837780243095, -0.06812649206836398, 1.3800264359155106, 0.5880064433398632, 0.8068583125004116, 1.220690882444352, 0.8150952357665991, 0.24595767988669204, 0.1664132171454566, 0.4648002884037791, -0.704531759244664, 0.3569814947010468, 0.331934479945058, 0.37621565106667004, 0.6425760075543373, -0.9064698649488363, 0.2990008418781429, 2.616676015995689, 2.165591796080144, 3.499920038924537, 2.1594376424890496, 1.415235876703902]}, {\"axis\": {\"matches\": true}, \"label\": \"PC 2 (5.3%)\", \"values\": [-0.1770012250647805, 0.014729939161374375, 0.4329960632790281, 0.4109242642295726, -0.9409605736411966, 0.685160470467308, -0.827959011820632, 0.07459067519771585, -0.41824687156867896, 0.2834682700615287, -1.0048909611818955, 0.2283618997883952, -0.7230819050048342, -1.2659711905263937, -0.12481785412635771, -0.2548542087025894, 0.4671794944415102, -0.35296966572385063, -0.33361076682491564, -0.5431455507797666, -0.5838343774718645, -0.08461685219478826, -0.18273779362136777, 0.14905594436978442, 0.3285044738343229, 0.24444087601634307, 0.2674954473102543, -0.16335030068761647, -0.36826218975458813, -0.7051721317994654, -0.420954287313882, -0.4842874199812184, 0.19418231471315053, 0.40761959361100686, -0.37203705990950203, -0.2685243966220151, -0.6819267248636268, -0.6707115445117207, -1.0122482275317142, -0.5049100933371088, -0.21265468378117006, -0.2932189292514192, 0.01773819011241598, -0.756093366599014, -0.3488978064503361, 0.3439031513417338, 0.21627558507402436, 0.46067409891189437, -0.21727757866904926, -0.5749163475464896]}, {\"axis\": {\"matches\": true}, \"label\": \"PC 3 (1.7%)\", \"values\": [-0.21046427237824472, 0.10215025995658981, 0.20845723241671496, -0.14552497200513093, -0.3492303773059666, -0.4065680254676944, -0.17959139187535547, -0.30775789623478494, 0.04107609082395582, 0.16981023986057506, 0.012302919237595125, -0.4153360847593978, 0.28114143117640966, -0.26981718276885286, -0.06211440832226125, 0.09045769072570438, -0.3146209758321725, 0.32802752837859506, -0.2711618372510669, -0.4995190464851132, -0.23500210497205606, 0.4596209913591039, -0.23107177773628498, -0.3218009372444741, -0.3162090737115743, -0.5217027796644195, -0.16492098374358058, 0.03542450484616002, -0.31849158062304717, -0.24421381043355464, 0.01616712752072858, 0.4444334986398076, 0.38896306309821055, -0.237167009883876, -0.6147208425918225, 0.1883668116461946, -0.06000922585533825, -0.02430685571895185, -0.10569114890301978, 0.01661717019826532, 0.08320429089567648, 0.07799635108767548, -0.20539496698326096, -0.012599647557890269, 0.010581660495570517, -0.11078788321910907, 0.03332664184432514, -0.5731822425680029, 0.20876316713083756, 0.29632252738796433]}, {\"axis\": {\"matches\": true}, \"label\": \"PC 4 (0.5%)\", \"values\": [-0.09902655032358677, 0.1563792078321893, -0.041065402691437096, -0.23162849166246885, -0.31998748695415535, -0.018525287923270527, -0.0935668402366633, -0.11202057416360289, 0.2431167665129235, 0.08355657242331602, 0.017907722555304314, 0.039134501965421724, 0.005618917875113159, -0.04556244080261777, 0.16949625459046874, -0.12521729212523697, -0.09980313651708118, 0.18787862148373796, 0.21375736963727285, -0.257192177191551, 0.04157664755951074, 0.07503155286494756, 0.2882554292766649, -0.041719755552173686, -0.10022672759329636, -0.035333192109463854, -0.0699692822661273, 0.029711433955534616, -0.0745696136357232, -0.006830842216168229, 0.1783044628926848, 0.2509760600645328, 0.11420724326219461, -0.03121718294509549, -0.15402099976198977, 0.146674511738693, -0.029622219503437432, 0.2696514281874341, -0.045613307101705976, 0.09874147933831805, 0.23847543367416366, 0.13113738078114606, 0.021377683028621544, -0.2325348442836725, 0.05118117171506939, -0.06577204123816445, -0.1630614781648258, 0.14022795440833635, -0.12819306556340296, 0.015304673894266358]}], \"hoverlabel\": {\"namelength\": 0}, \"hovertemplate\": \"color=versicolor<br>%{xaxis.title.text}=%{x}<br>%{yaxis.title.text}=%{y}\", \"legendgroup\": \"color=versicolor\", \"marker\": {\"color\": \"#EF553B\", \"symbol\": \"circle\"}, \"name\": \"color=versicolor\", \"showlegend\": true, \"type\": \"splom\"}, {\"diagonal\": {\"visible\": false}, \"dimensions\": [{\"axis\": {\"matches\": true}, \"label\": \"PC 1 (92.5%)\", \"values\": [-2.8889905690592976, -2.786109266188018, -3.215939415648611, -2.6488623343499125, -2.9974065465949082, 0.9324885323123178, 0.511698557447597, 0.3578884179973067, -0.18962247237850235, 0.8908151984694489, 2.531192727803628, 1.971531053043435, 2.3500059200446395, 3.3970387360532572, 0.5212322439097735, 2.9325870689936875, 2.3212288165733774, 2.9167509667860716, 1.661774153636531, 1.3461635794584512, 1.5859282238732204, 1.9044563747934264, 1.9496890593990688, 3.487055364290278, 3.795645422072883, 1.3007917126376567, 2.4278179130660447, 1.3887661316914648, 2.275430503872204, 2.61409047381083, 1.2585081605114872, 1.2911320591150204, 2.1236087227738945, 2.388003016003467, 2.8416727781038706, 1.4441612423295092, 1.7812948100451118, 3.0764999316871866, 2.144243314302081, 1.9050981488140752, 1.1693263393414997, 2.107611143257241, 2.314154705235599, 2.5630133750774746, 2.418746182732824, 1.9441097945469672, 1.5271666148145164, 1.7643457170444283, 1.9009416142184226, 1.3901888619479132]}, {\"axis\": {\"matches\": true}, \"label\": \"PC 2 (5.3%)\", \"values\": [-0.14494942608555741, -0.23511200020171852, 0.13346806953852575, 0.8133638202969619, -0.3419260574716099, 0.3183336382626286, -0.10398123549904062, -0.06892503165601417, -0.6802867635281334, -0.034464444368269134, -0.00984910949880229, -0.17972790435224575, -0.040260947142531374, 0.550836673028055, -1.1927587270006452, 0.35550000297749573, -0.24383150231069098, 0.782791948815278, 0.2422284077550667, -0.7768183473443396, -0.5396407140267188, 0.11925069209197245, 0.04194325966321102, 1.1757393297134284, 0.25732297342047883, -0.7611496364350635, 0.37819601261705027, -0.20439932735215113, 0.334990605821677, 0.5609013551230771, -0.17970479472274684, -0.11666865117401169, -0.20972947667730293, 0.4646398047087358, 0.3752691671951027, -0.14341341045758108, -0.4999016810781369, 0.6880856775711752, 0.14006420108978965, 0.04930052601302986, -0.16499026202310982, 0.3722878719607972, 0.1836512791690187, 0.2778626029291944, 0.3047981978546917, 0.18753230280060498, -0.3753169825804885, 0.07885885451847544, 0.11662795851202334, -0.28266093799055075]}, {\"axis\": {\"matches\": true}, \"label\": \"PC 3 (1.7%)\", \"values\": [0.017900256320890214, -0.20684443044964465, 0.2923967507452422, 0.22566914972011942, 0.19250921171270968, -0.018014186646240455, 0.130547750240486, -0.22985388760895162, -0.30642056121765854, -0.009946932894349012, 0.7601654272458954, 0.10842466246342278, 0.2853895631844412, -0.34843755579746755, 0.5456592956468126, -0.42023993576796825, -0.3483043949348453, 0.42333541768255833, 0.242440189725769, 0.28190288211846476, 0.6290293264080105, 0.4796398196265905, 0.04418616763012193, 0.1338948739360982, -0.5137677638178045, -0.34499503831341827, 0.2191193243019432, -0.06452275663126851, 0.2861500911691497, -0.20553452435362507, 0.04584770392724987, 0.23125646265997035, 0.15418002392883, -0.44953019194185, -0.4988980758707691, -0.1532338880630902, -0.17287518911342006, -0.335592292434541, 0.7348789367255111, 0.1621802357707369, 0.28183584020848024, 0.027291132141630634, 0.32269374717305893, 0.2925695245967427, 0.5044826639771799, 0.17782509063265736, -0.12189817186718195, 0.13048163128784807, 0.723251563489917, 0.36290964808537557]}, {\"axis\": {\"matches\": true}, \"label\": \"PC 4 (0.5%)\", \"values\": [-0.01996838970902986, 0.007887911493215173, -0.004482125050570375, 0.28137234706383035, 0.07467776816216318, -0.0005665121062169133, -0.05071923248584528, -0.12299760414598401, 0.02055100161077313, 0.153484666257618, 0.0290555727786997, 0.23679093419922603, 0.00017063327835248364, 0.1123716532060915, 0.09812661963064687, 0.2571910321914947, 0.07867461297011098, -0.11098207103557628, -0.12104055183185662, -0.14044086877443, -0.3295517283711437, -0.21962126272174562, 0.15768190728558057, 0.3092195730216563, -0.053846096505176064, 0.04582475488656151, -0.1854292643758796, -0.1630409774302435, 0.060371969624337295, 0.24070498648334068, -0.14750384647269696, -0.0040266077496096215, -0.052827323036998386, 0.23152405340399687, 0.022336462609152622, 0.19099635791450953, 0.505434411785801, -0.30982804463443236, -0.05554196912613653, 0.221202936942591, -0.02046178715867587, -0.2106217857880739, -0.2776537773875657, -0.057912747686554855, -0.24109100048128093, -0.4261959400256276, -0.25436744199041056, -0.13700127386561883, -0.04459530470826104, 0.15503862823011177]}], \"hoverlabel\": {\"namelength\": 0}, \"hovertemplate\": \"color=virginica<br>%{xaxis.title.text}=%{x}<br>%{yaxis.title.text}=%{y}\", \"legendgroup\": \"color=virginica\", \"marker\": {\"color\": \"#00cc96\", \"symbol\": \"circle\"}, \"name\": \"color=virginica\", \"showlegend\": true, \"type\": \"splom\"}],\n",
              "                        {\"dragmode\": \"select\", \"legend\": {\"tracegroupgap\": 0}, \"margin\": {\"t\": 60}, \"template\": {\"data\": {\"bar\": [{\"error_x\": {\"color\": \"#2a3f5f\"}, \"error_y\": {\"color\": \"#2a3f5f\"}, \"marker\": {\"line\": {\"color\": \"#E5ECF6\", \"width\": 0.5}}, \"type\": \"bar\"}], \"barpolar\": [{\"marker\": {\"line\": {\"color\": \"#E5ECF6\", \"width\": 0.5}}, \"type\": \"barpolar\"}], \"carpet\": [{\"aaxis\": {\"endlinecolor\": \"#2a3f5f\", \"gridcolor\": \"white\", \"linecolor\": \"white\", \"minorgridcolor\": \"white\", \"startlinecolor\": \"#2a3f5f\"}, \"baxis\": {\"endlinecolor\": \"#2a3f5f\", \"gridcolor\": \"white\", \"linecolor\": \"white\", \"minorgridcolor\": \"white\", \"startlinecolor\": \"#2a3f5f\"}, \"type\": \"carpet\"}], \"choropleth\": [{\"colorbar\": {\"outlinewidth\": 0, \"ticks\": \"\"}, \"type\": \"choropleth\"}], \"contour\": [{\"colorbar\": {\"outlinewidth\": 0, \"ticks\": \"\"}, \"colorscale\": [[0.0, \"#0d0887\"], [0.1111111111111111, \"#46039f\"], [0.2222222222222222, \"#7201a8\"], [0.3333333333333333, \"#9c179e\"], [0.4444444444444444, \"#bd3786\"], [0.5555555555555556, \"#d8576b\"], [0.6666666666666666, \"#ed7953\"], [0.7777777777777778, \"#fb9f3a\"], [0.8888888888888888, \"#fdca26\"], [1.0, \"#f0f921\"]], \"type\": \"contour\"}], \"contourcarpet\": [{\"colorbar\": {\"outlinewidth\": 0, \"ticks\": \"\"}, \"type\": \"contourcarpet\"}], \"heatmap\": [{\"colorbar\": {\"outlinewidth\": 0, \"ticks\": \"\"}, \"colorscale\": [[0.0, \"#0d0887\"], [0.1111111111111111, \"#46039f\"], [0.2222222222222222, \"#7201a8\"], [0.3333333333333333, \"#9c179e\"], [0.4444444444444444, \"#bd3786\"], [0.5555555555555556, \"#d8576b\"], [0.6666666666666666, \"#ed7953\"], [0.7777777777777778, \"#fb9f3a\"], [0.8888888888888888, \"#fdca26\"], [1.0, \"#f0f921\"]], \"type\": \"heatmap\"}], \"heatmapgl\": [{\"colorbar\": {\"outlinewidth\": 0, \"ticks\": \"\"}, \"colorscale\": [[0.0, \"#0d0887\"], [0.1111111111111111, \"#46039f\"], [0.2222222222222222, \"#7201a8\"], [0.3333333333333333, \"#9c179e\"], [0.4444444444444444, \"#bd3786\"], [0.5555555555555556, \"#d8576b\"], [0.6666666666666666, \"#ed7953\"], [0.7777777777777778, \"#fb9f3a\"], [0.8888888888888888, \"#fdca26\"], [1.0, \"#f0f921\"]], \"type\": \"heatmapgl\"}], \"histogram\": [{\"marker\": {\"colorbar\": {\"outlinewidth\": 0, \"ticks\": \"\"}}, \"type\": \"histogram\"}], \"histogram2d\": [{\"colorbar\": {\"outlinewidth\": 0, \"ticks\": \"\"}, \"colorscale\": [[0.0, \"#0d0887\"], [0.1111111111111111, \"#46039f\"], [0.2222222222222222, \"#7201a8\"], [0.3333333333333333, \"#9c179e\"], [0.4444444444444444, \"#bd3786\"], [0.5555555555555556, \"#d8576b\"], [0.6666666666666666, \"#ed7953\"], [0.7777777777777778, \"#fb9f3a\"], [0.8888888888888888, \"#fdca26\"], [1.0, \"#f0f921\"]], \"type\": \"histogram2d\"}], \"histogram2dcontour\": [{\"colorbar\": {\"outlinewidth\": 0, \"ticks\": \"\"}, \"colorscale\": [[0.0, \"#0d0887\"], [0.1111111111111111, \"#46039f\"], [0.2222222222222222, \"#7201a8\"], [0.3333333333333333, \"#9c179e\"], [0.4444444444444444, \"#bd3786\"], [0.5555555555555556, \"#d8576b\"], [0.6666666666666666, \"#ed7953\"], [0.7777777777777778, \"#fb9f3a\"], [0.8888888888888888, \"#fdca26\"], [1.0, \"#f0f921\"]], \"type\": \"histogram2dcontour\"}], \"mesh3d\": [{\"colorbar\": {\"outlinewidth\": 0, \"ticks\": \"\"}, \"type\": \"mesh3d\"}], \"parcoords\": [{\"line\": {\"colorbar\": {\"outlinewidth\": 0, \"ticks\": \"\"}}, \"type\": \"parcoords\"}], \"pie\": [{\"automargin\": true, \"type\": \"pie\"}], \"scatter\": [{\"marker\": {\"colorbar\": {\"outlinewidth\": 0, \"ticks\": \"\"}}, \"type\": \"scatter\"}], \"scatter3d\": [{\"line\": {\"colorbar\": {\"outlinewidth\": 0, \"ticks\": \"\"}}, \"marker\": {\"colorbar\": {\"outlinewidth\": 0, \"ticks\": \"\"}}, \"type\": \"scatter3d\"}], \"scattercarpet\": [{\"marker\": {\"colorbar\": {\"outlinewidth\": 0, \"ticks\": \"\"}}, \"type\": \"scattercarpet\"}], \"scattergeo\": [{\"marker\": {\"colorbar\": {\"outlinewidth\": 0, \"ticks\": \"\"}}, \"type\": \"scattergeo\"}], \"scattergl\": [{\"marker\": {\"colorbar\": {\"outlinewidth\": 0, \"ticks\": \"\"}}, \"type\": \"scattergl\"}], \"scattermapbox\": [{\"marker\": {\"colorbar\": {\"outlinewidth\": 0, \"ticks\": \"\"}}, \"type\": \"scattermapbox\"}], \"scatterpolar\": [{\"marker\": {\"colorbar\": {\"outlinewidth\": 0, \"ticks\": \"\"}}, \"type\": \"scatterpolar\"}], \"scatterpolargl\": [{\"marker\": {\"colorbar\": {\"outlinewidth\": 0, \"ticks\": \"\"}}, \"type\": \"scatterpolargl\"}], \"scatterternary\": [{\"marker\": {\"colorbar\": {\"outlinewidth\": 0, \"ticks\": \"\"}}, \"type\": \"scatterternary\"}], \"surface\": [{\"colorbar\": {\"outlinewidth\": 0, \"ticks\": \"\"}, \"colorscale\": [[0.0, \"#0d0887\"], [0.1111111111111111, \"#46039f\"], [0.2222222222222222, \"#7201a8\"], [0.3333333333333333, \"#9c179e\"], [0.4444444444444444, \"#bd3786\"], [0.5555555555555556, \"#d8576b\"], [0.6666666666666666, \"#ed7953\"], [0.7777777777777778, \"#fb9f3a\"], [0.8888888888888888, \"#fdca26\"], [1.0, \"#f0f921\"]], \"type\": \"surface\"}], \"table\": [{\"cells\": {\"fill\": {\"color\": \"#EBF0F8\"}, \"line\": {\"color\": \"white\"}}, \"header\": {\"fill\": {\"color\": \"#C8D4E3\"}, \"line\": {\"color\": \"white\"}}, \"type\": \"table\"}]}, \"layout\": {\"annotationdefaults\": {\"arrowcolor\": \"#2a3f5f\", \"arrowhead\": 0, \"arrowwidth\": 1}, \"coloraxis\": {\"colorbar\": {\"outlinewidth\": 0, \"ticks\": \"\"}}, \"colorscale\": {\"diverging\": [[0, \"#8e0152\"], [0.1, \"#c51b7d\"], [0.2, \"#de77ae\"], [0.3, \"#f1b6da\"], [0.4, \"#fde0ef\"], [0.5, \"#f7f7f7\"], [0.6, \"#e6f5d0\"], [0.7, \"#b8e186\"], [0.8, \"#7fbc41\"], [0.9, \"#4d9221\"], [1, \"#276419\"]], \"sequential\": [[0.0, \"#0d0887\"], [0.1111111111111111, \"#46039f\"], [0.2222222222222222, \"#7201a8\"], [0.3333333333333333, \"#9c179e\"], [0.4444444444444444, \"#bd3786\"], [0.5555555555555556, \"#d8576b\"], [0.6666666666666666, \"#ed7953\"], [0.7777777777777778, \"#fb9f3a\"], [0.8888888888888888, \"#fdca26\"], [1.0, \"#f0f921\"]], \"sequentialminus\": [[0.0, \"#0d0887\"], [0.1111111111111111, \"#46039f\"], [0.2222222222222222, \"#7201a8\"], [0.3333333333333333, \"#9c179e\"], [0.4444444444444444, \"#bd3786\"], [0.5555555555555556, \"#d8576b\"], [0.6666666666666666, \"#ed7953\"], [0.7777777777777778, \"#fb9f3a\"], [0.8888888888888888, \"#fdca26\"], [1.0, \"#f0f921\"]]}, \"colorway\": [\"#636efa\", \"#EF553B\", \"#00cc96\", \"#ab63fa\", \"#FFA15A\", \"#19d3f3\", \"#FF6692\", \"#B6E880\", \"#FF97FF\", \"#FECB52\"], \"font\": {\"color\": \"#2a3f5f\"}, \"geo\": {\"bgcolor\": \"white\", \"lakecolor\": \"white\", \"landcolor\": \"#E5ECF6\", \"showlakes\": true, \"showland\": true, \"subunitcolor\": \"white\"}, \"hoverlabel\": {\"align\": \"left\"}, \"hovermode\": \"closest\", \"mapbox\": {\"style\": \"light\"}, \"paper_bgcolor\": \"white\", \"plot_bgcolor\": \"#E5ECF6\", \"polar\": {\"angularaxis\": {\"gridcolor\": \"white\", \"linecolor\": \"white\", \"ticks\": \"\"}, \"bgcolor\": \"#E5ECF6\", \"radialaxis\": {\"gridcolor\": \"white\", \"linecolor\": \"white\", \"ticks\": \"\"}}, \"scene\": {\"xaxis\": {\"backgroundcolor\": \"#E5ECF6\", \"gridcolor\": \"white\", \"gridwidth\": 2, \"linecolor\": \"white\", \"showbackground\": true, \"ticks\": \"\", \"zerolinecolor\": \"white\"}, \"yaxis\": {\"backgroundcolor\": \"#E5ECF6\", \"gridcolor\": \"white\", \"gridwidth\": 2, \"linecolor\": \"white\", \"showbackground\": true, \"ticks\": \"\", \"zerolinecolor\": \"white\"}, \"zaxis\": {\"backgroundcolor\": \"#E5ECF6\", \"gridcolor\": \"white\", \"gridwidth\": 2, \"linecolor\": \"white\", \"showbackground\": true, \"ticks\": \"\", \"zerolinecolor\": \"white\"}}, \"shapedefaults\": {\"line\": {\"color\": \"#2a3f5f\"}}, \"ternary\": {\"aaxis\": {\"gridcolor\": \"white\", \"linecolor\": \"white\", \"ticks\": \"\"}, \"baxis\": {\"gridcolor\": \"white\", \"linecolor\": \"white\", \"ticks\": \"\"}, \"bgcolor\": \"#E5ECF6\", \"caxis\": {\"gridcolor\": \"white\", \"linecolor\": \"white\", \"ticks\": \"\"}}, \"title\": {\"x\": 0.05}, \"xaxis\": {\"automargin\": true, \"gridcolor\": \"white\", \"linecolor\": \"white\", \"ticks\": \"\", \"title\": {\"standoff\": 15}, \"zerolinecolor\": \"white\", \"zerolinewidth\": 2}, \"yaxis\": {\"automargin\": true, \"gridcolor\": \"white\", \"linecolor\": \"white\", \"ticks\": \"\", \"title\": {\"standoff\": 15}, \"zerolinecolor\": \"white\", \"zerolinewidth\": 2}}}},\n",
              "                        {\"responsive\": true}\n",
              "                    ).then(function(){\n",
              "                            \n",
              "var gd = document.getElementById('debf92c7-ba23-4777-b37b-44da7f4e5fa3');\n",
              "var x = new MutationObserver(function (mutations, observer) {{\n",
              "        var display = window.getComputedStyle(gd).display;\n",
              "        if (!display || display === 'none') {{\n",
              "            console.log([gd, 'removed!']);\n",
              "            Plotly.purge(gd);\n",
              "            observer.disconnect();\n",
              "        }}\n",
              "}});\n",
              "\n",
              "// Listen for the removal of the full notebook cells\n",
              "var notebookContainer = gd.closest('#notebook-container');\n",
              "if (notebookContainer) {{\n",
              "    x.observe(notebookContainer, {childList: true});\n",
              "}}\n",
              "\n",
              "// Listen for the clearing of the current output cell\n",
              "var outputEl = gd.closest('.output');\n",
              "if (outputEl) {{\n",
              "    x.observe(outputEl, {childList: true});\n",
              "}}\n",
              "\n",
              "                        })\n",
              "                };\n",
              "                \n",
              "            </script>\n",
              "        </div>\n",
              "</body>\n",
              "</html>"
            ]
          },
          "metadata": {}
        }
      ]
    },
    {
      "cell_type": "code",
      "source": [
        "df = {'y': y, 'set': dataset, 'y_ptb': y_ptb}\n",
        "df = pd.DataFrame(df)\n",
        "data = pd.concat([X, df], axis=1)"
      ],
      "metadata": {
        "id": "M6rOPwqcI78V"
      },
      "execution_count": 29,
      "outputs": []
    },
    {
      "cell_type": "code",
      "source": [
        "grouped = data.groupby(['set'])\n",
        "train = grouped.get_group('Train')\n",
        "test = grouped.get_group('Test')"
      ],
      "metadata": {
        "id": "yVYaSSugLWyU"
      },
      "execution_count": 31,
      "outputs": []
    },
    {
      "cell_type": "code",
      "source": [
        "train"
      ],
      "metadata": {
        "colab": {
          "base_uri": "https://localhost:8080/",
          "height": 418
        },
        "id": "ekXxvwPiL07O",
        "outputId": "5ae5b333-89f5-4210-8be7-8f6a5869467e"
      },
      "execution_count": 32,
      "outputs": [
        {
          "output_type": "execute_result",
          "data": {
            "text/html": [
              "\n",
              "  <div id=\"df-92ea57f7-1a27-444c-a462-b1bc8fec0b82\">\n",
              "    <div class=\"colab-df-container\">\n",
              "      <div>\n",
              "<style scoped>\n",
              "    .dataframe tbody tr th:only-of-type {\n",
              "        vertical-align: middle;\n",
              "    }\n",
              "\n",
              "    .dataframe tbody tr th {\n",
              "        vertical-align: top;\n",
              "    }\n",
              "\n",
              "    .dataframe thead th {\n",
              "        text-align: right;\n",
              "    }\n",
              "</style>\n",
              "<table border=\"1\" class=\"dataframe\">\n",
              "  <thead>\n",
              "    <tr style=\"text-align: right;\">\n",
              "      <th></th>\n",
              "      <th>sepal length (cm)</th>\n",
              "      <th>sepal width (cm)</th>\n",
              "      <th>petal length (cm)</th>\n",
              "      <th>petal width (cm)</th>\n",
              "      <th>y</th>\n",
              "      <th>set</th>\n",
              "      <th>y_ptb</th>\n",
              "    </tr>\n",
              "  </thead>\n",
              "  <tbody>\n",
              "    <tr>\n",
              "      <th>1</th>\n",
              "      <td>4.9</td>\n",
              "      <td>3.0</td>\n",
              "      <td>1.4</td>\n",
              "      <td>0.2</td>\n",
              "      <td>setosa</td>\n",
              "      <td>Train</td>\n",
              "      <td>versicolor</td>\n",
              "    </tr>\n",
              "    <tr>\n",
              "      <th>2</th>\n",
              "      <td>4.7</td>\n",
              "      <td>3.2</td>\n",
              "      <td>1.3</td>\n",
              "      <td>0.2</td>\n",
              "      <td>setosa</td>\n",
              "      <td>Train</td>\n",
              "      <td>virginica</td>\n",
              "    </tr>\n",
              "    <tr>\n",
              "      <th>3</th>\n",
              "      <td>4.6</td>\n",
              "      <td>3.1</td>\n",
              "      <td>1.5</td>\n",
              "      <td>0.2</td>\n",
              "      <td>setosa</td>\n",
              "      <td>Train</td>\n",
              "      <td>setosa</td>\n",
              "    </tr>\n",
              "    <tr>\n",
              "      <th>4</th>\n",
              "      <td>5.0</td>\n",
              "      <td>3.6</td>\n",
              "      <td>1.4</td>\n",
              "      <td>0.2</td>\n",
              "      <td>setosa</td>\n",
              "      <td>Train</td>\n",
              "      <td>setosa</td>\n",
              "    </tr>\n",
              "    <tr>\n",
              "      <th>5</th>\n",
              "      <td>5.4</td>\n",
              "      <td>3.9</td>\n",
              "      <td>1.7</td>\n",
              "      <td>0.4</td>\n",
              "      <td>setosa</td>\n",
              "      <td>Train</td>\n",
              "      <td>setosa</td>\n",
              "    </tr>\n",
              "    <tr>\n",
              "      <th>...</th>\n",
              "      <td>...</td>\n",
              "      <td>...</td>\n",
              "      <td>...</td>\n",
              "      <td>...</td>\n",
              "      <td>...</td>\n",
              "      <td>...</td>\n",
              "      <td>...</td>\n",
              "    </tr>\n",
              "    <tr>\n",
              "      <th>145</th>\n",
              "      <td>6.7</td>\n",
              "      <td>3.0</td>\n",
              "      <td>5.2</td>\n",
              "      <td>2.3</td>\n",
              "      <td>virginica</td>\n",
              "      <td>Train</td>\n",
              "      <td>virginica</td>\n",
              "    </tr>\n",
              "    <tr>\n",
              "      <th>146</th>\n",
              "      <td>6.3</td>\n",
              "      <td>2.5</td>\n",
              "      <td>5.0</td>\n",
              "      <td>1.9</td>\n",
              "      <td>virginica</td>\n",
              "      <td>Train</td>\n",
              "      <td>virginica</td>\n",
              "    </tr>\n",
              "    <tr>\n",
              "      <th>147</th>\n",
              "      <td>6.5</td>\n",
              "      <td>3.0</td>\n",
              "      <td>5.2</td>\n",
              "      <td>2.0</td>\n",
              "      <td>virginica</td>\n",
              "      <td>Train</td>\n",
              "      <td>virginica</td>\n",
              "    </tr>\n",
              "    <tr>\n",
              "      <th>148</th>\n",
              "      <td>6.2</td>\n",
              "      <td>3.4</td>\n",
              "      <td>5.4</td>\n",
              "      <td>2.3</td>\n",
              "      <td>virginica</td>\n",
              "      <td>Train</td>\n",
              "      <td>virginica</td>\n",
              "    </tr>\n",
              "    <tr>\n",
              "      <th>149</th>\n",
              "      <td>5.9</td>\n",
              "      <td>3.0</td>\n",
              "      <td>5.1</td>\n",
              "      <td>1.8</td>\n",
              "      <td>virginica</td>\n",
              "      <td>Train</td>\n",
              "      <td>virginica</td>\n",
              "    </tr>\n",
              "  </tbody>\n",
              "</table>\n",
              "<p>135 rows × 7 columns</p>\n",
              "</div>\n",
              "      <button class=\"colab-df-convert\" onclick=\"convertToInteractive('df-92ea57f7-1a27-444c-a462-b1bc8fec0b82')\"\n",
              "              title=\"Convert this dataframe to an interactive table.\"\n",
              "              style=\"display:none;\">\n",
              "        \n",
              "  <svg xmlns=\"http://www.w3.org/2000/svg\" height=\"24px\"viewBox=\"0 0 24 24\"\n",
              "       width=\"24px\">\n",
              "    <path d=\"M0 0h24v24H0V0z\" fill=\"none\"/>\n",
              "    <path d=\"M18.56 5.44l.94 2.06.94-2.06 2.06-.94-2.06-.94-.94-2.06-.94 2.06-2.06.94zm-11 1L8.5 8.5l.94-2.06 2.06-.94-2.06-.94L8.5 2.5l-.94 2.06-2.06.94zm10 10l.94 2.06.94-2.06 2.06-.94-2.06-.94-.94-2.06-.94 2.06-2.06.94z\"/><path d=\"M17.41 7.96l-1.37-1.37c-.4-.4-.92-.59-1.43-.59-.52 0-1.04.2-1.43.59L10.3 9.45l-7.72 7.72c-.78.78-.78 2.05 0 2.83L4 21.41c.39.39.9.59 1.41.59.51 0 1.02-.2 1.41-.59l7.78-7.78 2.81-2.81c.8-.78.8-2.07 0-2.86zM5.41 20L4 18.59l7.72-7.72 1.47 1.35L5.41 20z\"/>\n",
              "  </svg>\n",
              "      </button>\n",
              "      \n",
              "  <style>\n",
              "    .colab-df-container {\n",
              "      display:flex;\n",
              "      flex-wrap:wrap;\n",
              "      gap: 12px;\n",
              "    }\n",
              "\n",
              "    .colab-df-convert {\n",
              "      background-color: #E8F0FE;\n",
              "      border: none;\n",
              "      border-radius: 50%;\n",
              "      cursor: pointer;\n",
              "      display: none;\n",
              "      fill: #1967D2;\n",
              "      height: 32px;\n",
              "      padding: 0 0 0 0;\n",
              "      width: 32px;\n",
              "    }\n",
              "\n",
              "    .colab-df-convert:hover {\n",
              "      background-color: #E2EBFA;\n",
              "      box-shadow: 0px 1px 2px rgba(60, 64, 67, 0.3), 0px 1px 3px 1px rgba(60, 64, 67, 0.15);\n",
              "      fill: #174EA6;\n",
              "    }\n",
              "\n",
              "    [theme=dark] .colab-df-convert {\n",
              "      background-color: #3B4455;\n",
              "      fill: #D2E3FC;\n",
              "    }\n",
              "\n",
              "    [theme=dark] .colab-df-convert:hover {\n",
              "      background-color: #434B5C;\n",
              "      box-shadow: 0px 1px 3px 1px rgba(0, 0, 0, 0.15);\n",
              "      filter: drop-shadow(0px 1px 2px rgba(0, 0, 0, 0.3));\n",
              "      fill: #FFFFFF;\n",
              "    }\n",
              "  </style>\n",
              "\n",
              "      <script>\n",
              "        const buttonEl =\n",
              "          document.querySelector('#df-92ea57f7-1a27-444c-a462-b1bc8fec0b82 button.colab-df-convert');\n",
              "        buttonEl.style.display =\n",
              "          google.colab.kernel.accessAllowed ? 'block' : 'none';\n",
              "\n",
              "        async function convertToInteractive(key) {\n",
              "          const element = document.querySelector('#df-92ea57f7-1a27-444c-a462-b1bc8fec0b82');\n",
              "          const dataTable =\n",
              "            await google.colab.kernel.invokeFunction('convertToInteractive',\n",
              "                                                     [key], {});\n",
              "          if (!dataTable) return;\n",
              "\n",
              "          const docLinkHtml = 'Like what you see? Visit the ' +\n",
              "            '<a target=\"_blank\" href=https://colab.research.google.com/notebooks/data_table.ipynb>data table notebook</a>'\n",
              "            + ' to learn more about interactive tables.';\n",
              "          element.innerHTML = '';\n",
              "          dataTable['output_type'] = 'display_data';\n",
              "          await google.colab.output.renderOutput(dataTable, element);\n",
              "          const docLink = document.createElement('div');\n",
              "          docLink.innerHTML = docLinkHtml;\n",
              "          element.appendChild(docLink);\n",
              "        }\n",
              "      </script>\n",
              "    </div>\n",
              "  </div>\n",
              "  "
            ],
            "text/plain": [
              "     sepal length (cm)  sepal width (cm)  ...    set       y_ptb\n",
              "1                  4.9               3.0  ...  Train  versicolor\n",
              "2                  4.7               3.2  ...  Train   virginica\n",
              "3                  4.6               3.1  ...  Train      setosa\n",
              "4                  5.0               3.6  ...  Train      setosa\n",
              "5                  5.4               3.9  ...  Train      setosa\n",
              "..                 ...               ...  ...    ...         ...\n",
              "145                6.7               3.0  ...  Train   virginica\n",
              "146                6.3               2.5  ...  Train   virginica\n",
              "147                6.5               3.0  ...  Train   virginica\n",
              "148                6.2               3.4  ...  Train   virginica\n",
              "149                5.9               3.0  ...  Train   virginica\n",
              "\n",
              "[135 rows x 7 columns]"
            ]
          },
          "metadata": {},
          "execution_count": 32
        }
      ]
    },
    {
      "cell_type": "code",
      "source": [
        "features = ['sepal length (cm)', 'sepal width (cm)', 'petal length (cm)', 'petal width (cm)']"
      ],
      "metadata": {
        "id": "_MfkpHJiQg6w"
      },
      "execution_count": 35,
      "outputs": []
    },
    {
      "cell_type": "code",
      "source": [
        "clf = LogisticRegression(max_iter=200).fit(train[features], train['y'])"
      ],
      "metadata": {
        "id": "ELDtz_LaQWdb"
      },
      "execution_count": 39,
      "outputs": []
    },
    {
      "cell_type": "code",
      "source": [
        "acc_train = clf.score(train[features], train['y'])\n",
        "acc_train"
      ],
      "metadata": {
        "colab": {
          "base_uri": "https://localhost:8080/"
        },
        "id": "78ktErTMRzMV",
        "outputId": "ff3c82c9-1798-440f-d779-f5dcc5a7ffa9"
      },
      "execution_count": 45,
      "outputs": [
        {
          "output_type": "execute_result",
          "data": {
            "text/plain": [
              "0.9851851851851852"
            ]
          },
          "metadata": {},
          "execution_count": 45
        }
      ]
    },
    {
      "cell_type": "code",
      "source": [
        "acc_test = clf.score(test[features], test['y'])\n",
        "acc_test"
      ],
      "metadata": {
        "colab": {
          "base_uri": "https://localhost:8080/"
        },
        "id": "NWHXoWYIRksN",
        "outputId": "d9fb1333-fcc4-4e4a-fc35-e1ad54fb1996"
      },
      "execution_count": 44,
      "outputs": [
        {
          "output_type": "execute_result",
          "data": {
            "text/plain": [
              "0.9333333333333333"
            ]
          },
          "metadata": {},
          "execution_count": 44
        }
      ]
    },
    {
      "cell_type": "code",
      "source": [
        "clf.coef_"
      ],
      "metadata": {
        "colab": {
          "base_uri": "https://localhost:8080/"
        },
        "id": "OKhOKUHmR_wJ",
        "outputId": "6605a14a-aaec-4f95-f834-596383234270"
      },
      "execution_count": 46,
      "outputs": [
        {
          "output_type": "execute_result",
          "data": {
            "text/plain": [
              "array([[-0.43765907,  0.91090199, -2.44914142, -1.04965943],\n",
              "       [ 0.59805841, -0.35844208, -0.22048899, -0.92943996],\n",
              "       [-0.16039934, -0.55245991,  2.66963041,  1.97909939]])"
            ]
          },
          "metadata": {},
          "execution_count": 46
        }
      ]
    },
    {
      "cell_type": "code",
      "source": [
        "clf.predict(X_new)"
      ],
      "metadata": {
        "colab": {
          "base_uri": "https://localhost:8080/"
        },
        "id": "q2AOwzUCSNgq",
        "outputId": "924725e0-a52e-4086-9cb7-235f2f98bd03"
      },
      "execution_count": 48,
      "outputs": [
        {
          "output_type": "stream",
          "name": "stderr",
          "text": [
            "/usr/local/lib/python3.7/dist-packages/sklearn/base.py:451: UserWarning:\n",
            "\n",
            "X does not have valid feature names, but LogisticRegression was fitted with feature names\n",
            "\n"
          ]
        },
        {
          "output_type": "execute_result",
          "data": {
            "text/plain": [
              "array(['virginica', 'setosa', 'versicolor'], dtype=object)"
            ]
          },
          "metadata": {},
          "execution_count": 48
        }
      ]
    },
    {
      "cell_type": "code",
      "source": [
        "clf.predict_proba(X_new)"
      ],
      "metadata": {
        "colab": {
          "base_uri": "https://localhost:8080/"
        },
        "id": "8h17f-G3Sijg",
        "outputId": "cab149c3-5f44-47cb-acd3-93c798297b25"
      },
      "execution_count": 49,
      "outputs": [
        {
          "output_type": "stream",
          "name": "stderr",
          "text": [
            "/usr/local/lib/python3.7/dist-packages/sklearn/base.py:451: UserWarning:\n",
            "\n",
            "X does not have valid feature names, but LogisticRegression was fitted with feature names\n",
            "\n"
          ]
        },
        {
          "output_type": "execute_result",
          "data": {
            "text/plain": [
              "array([[1.02157199e-03, 4.73556971e-01, 5.25421457e-01],\n",
              "       [6.10478252e-01, 3.89468845e-01, 5.29032110e-05],\n",
              "       [5.95573522e-02, 9.29170887e-01, 1.12717609e-02]])"
            ]
          },
          "metadata": {},
          "execution_count": 49
        }
      ]
    },
    {
      "cell_type": "code",
      "source": [
        "clf = LogisticRegression(max_iter=200).fit(train[features], train['y_ptb'])"
      ],
      "metadata": {
        "id": "vzLcCk0zTlFf"
      },
      "execution_count": 51,
      "outputs": []
    },
    {
      "cell_type": "code",
      "source": [
        "acc_train = clf.score(train[features], train['y_ptb'])\n",
        "acc_train"
      ],
      "metadata": {
        "colab": {
          "base_uri": "https://localhost:8080/"
        },
        "id": "zvp7tqN6TsNh",
        "outputId": "115030c5-c8db-4a80-e8f2-0d3766a6eb1e"
      },
      "execution_count": 52,
      "outputs": [
        {
          "output_type": "execute_result",
          "data": {
            "text/plain": [
              "0.7185185185185186"
            ]
          },
          "metadata": {},
          "execution_count": 52
        }
      ]
    },
    {
      "cell_type": "code",
      "source": [
        "acc_train = clf.score(train[features], train['y'])\n",
        "acc_train"
      ],
      "metadata": {
        "colab": {
          "base_uri": "https://localhost:8080/"
        },
        "id": "DFW8OGA0T05H",
        "outputId": "dc0bcd78-e71c-49d6-aadf-49ec0811ee16"
      },
      "execution_count": 55,
      "outputs": [
        {
          "output_type": "execute_result",
          "data": {
            "text/plain": [
              "0.8740740740740741"
            ]
          },
          "metadata": {},
          "execution_count": 55
        }
      ]
    },
    {
      "cell_type": "code",
      "source": [
        "acc_test = clf.score(test[features], test['y'])\n",
        "acc_test"
      ],
      "metadata": {
        "colab": {
          "base_uri": "https://localhost:8080/"
        },
        "id": "AkjfFi-TTuuM",
        "outputId": "9a76cfb3-f68f-42f4-b9b0-c6561494964d"
      },
      "execution_count": 57,
      "outputs": [
        {
          "output_type": "execute_result",
          "data": {
            "text/plain": [
              "0.8666666666666667"
            ]
          },
          "metadata": {},
          "execution_count": 57
        }
      ]
    },
    {
      "cell_type": "code",
      "source": [
        "acc_test = clf.score(train[features], train['y_ptb'])\n",
        "acc_test"
      ],
      "metadata": {
        "colab": {
          "base_uri": "https://localhost:8080/"
        },
        "id": "ukEfQye3TxyV",
        "outputId": "baa4c416-83f3-4821-8103-2884bab7905b"
      },
      "execution_count": 56,
      "outputs": [
        {
          "output_type": "execute_result",
          "data": {
            "text/plain": [
              "0.7185185185185186"
            ]
          },
          "metadata": {},
          "execution_count": 56
        }
      ]
    },
    {
      "cell_type": "code",
      "source": [
        "clf.predict(X_new)"
      ],
      "metadata": {
        "colab": {
          "base_uri": "https://localhost:8080/"
        },
        "id": "HyDm-2j8T3qL",
        "outputId": "64fad239-2149-44cd-bcb4-e73708af9671"
      },
      "execution_count": 58,
      "outputs": [
        {
          "output_type": "stream",
          "name": "stderr",
          "text": [
            "/usr/local/lib/python3.7/dist-packages/sklearn/base.py:451: UserWarning:\n",
            "\n",
            "X does not have valid feature names, but LogisticRegression was fitted with feature names\n",
            "\n"
          ]
        },
        {
          "output_type": "execute_result",
          "data": {
            "text/plain": [
              "array(['virginica', 'setosa', 'versicolor'], dtype=object)"
            ]
          },
          "metadata": {},
          "execution_count": 58
        }
      ]
    },
    {
      "cell_type": "code",
      "source": [
        "clf.predict_proba(X_new)"
      ],
      "metadata": {
        "colab": {
          "base_uri": "https://localhost:8080/"
        },
        "id": "5J-f2WYnUAem",
        "outputId": "09be4fcd-0a36-4755-cd97-de752a9a40cf"
      },
      "execution_count": 59,
      "outputs": [
        {
          "output_type": "stream",
          "name": "stderr",
          "text": [
            "/usr/local/lib/python3.7/dist-packages/sklearn/base.py:451: UserWarning:\n",
            "\n",
            "X does not have valid feature names, but LogisticRegression was fitted with feature names\n",
            "\n"
          ]
        },
        {
          "output_type": "execute_result",
          "data": {
            "text/plain": [
              "array([[0.11883888, 0.4091479 , 0.47201322],\n",
              "       [0.52536121, 0.32053184, 0.15410695],\n",
              "       [0.2833375 , 0.40549335, 0.31116915]])"
            ]
          },
          "metadata": {},
          "execution_count": 59
        }
      ]
    },
    {
      "cell_type": "markdown",
      "source": [
        "**Exercise 2.** Use the Linear Discriminant Analysis to classify the iris flowers and compare it to the results from Exercise 1. Answer the following questions:\n",
        "\n",
        "- Which classifier fits better to the training dataset? Which generalizes better to the test data set? \n",
        "- Which classifier shows a higher certainty (reflected by the class probabilities) when classifying new points? Is this a good or a bad feature?\n",
        "- Which classifier is more robust to errors in the training data set?"
      ],
      "metadata": {
        "id": "hC78isPp3uOg"
      }
    },
    {
      "cell_type": "code",
      "source": [
        "clf = LinearDiscriminantAnalysis()\n",
        "clf.fit(train[features], train['y'])"
      ],
      "metadata": {
        "colab": {
          "base_uri": "https://localhost:8080/"
        },
        "id": "ervB1ZStFEbH",
        "outputId": "8fe2afcb-1056-4987-e32d-8a7b5ea0a908"
      },
      "execution_count": 60,
      "outputs": [
        {
          "output_type": "execute_result",
          "data": {
            "text/plain": [
              "LinearDiscriminantAnalysis()"
            ]
          },
          "metadata": {},
          "execution_count": 60
        }
      ]
    },
    {
      "cell_type": "code",
      "source": [
        "clf.score(train[features], train['y'])"
      ],
      "metadata": {
        "colab": {
          "base_uri": "https://localhost:8080/"
        },
        "id": "Ughfn7gaUaX7",
        "outputId": "dd3a5289-1af9-40f2-976e-faefe7b25e23"
      },
      "execution_count": 61,
      "outputs": [
        {
          "output_type": "execute_result",
          "data": {
            "text/plain": [
              "0.9851851851851852"
            ]
          },
          "metadata": {},
          "execution_count": 61
        }
      ]
    },
    {
      "cell_type": "code",
      "source": [
        "clf.score(test[features], test['y'])"
      ],
      "metadata": {
        "colab": {
          "base_uri": "https://localhost:8080/"
        },
        "id": "hlq82yDkUi2f",
        "outputId": "f78883ca-75b2-4af8-ac72-de934de53ce4"
      },
      "execution_count": 62,
      "outputs": [
        {
          "output_type": "execute_result",
          "data": {
            "text/plain": [
              "0.9333333333333333"
            ]
          },
          "metadata": {},
          "execution_count": 62
        }
      ]
    },
    {
      "cell_type": "code",
      "source": [
        "clf.predict_proba(test[features])"
      ],
      "metadata": {
        "colab": {
          "base_uri": "https://localhost:8080/"
        },
        "id": "Wayk1D6-Uqtn",
        "outputId": "a6559221-ff35-4e47-d4c9-9fc126209866"
      },
      "execution_count": 63,
      "outputs": [
        {
          "output_type": "execute_result",
          "data": {
            "text/plain": [
              "array([[1.00000000e+00, 7.94325302e-22, 5.18975432e-42],\n",
              "       [1.00000000e+00, 2.51307253e-23, 6.23655082e-44],\n",
              "       [1.00000000e+00, 1.53060601e-19, 4.09821292e-39],\n",
              "       [1.00000000e+00, 3.18785546e-16, 1.02466197e-34],\n",
              "       [1.00000000e+00, 2.55080105e-21, 4.93567237e-41],\n",
              "       [5.59067780e-18, 9.99923425e-01, 7.65752261e-05],\n",
              "       [7.58574326e-18, 9.99998685e-01, 1.31468535e-06],\n",
              "       [2.19886074e-28, 1.37652935e-01, 8.62347065e-01],\n",
              "       [2.99353635e-17, 9.99997188e-01, 2.81164714e-06],\n",
              "       [9.67648352e-23, 9.99081339e-01, 9.18660691e-04],\n",
              "       [1.01430308e-52, 2.38471544e-09, 9.99999998e-01],\n",
              "       [3.87642626e-32, 9.29181713e-03, 9.90708183e-01],\n",
              "       [1.06866935e-42, 4.87781044e-06, 9.99995122e-01],\n",
              "       [3.61959649e-41, 2.05148471e-04, 9.99794852e-01],\n",
              "       [5.38335109e-45, 8.37403169e-07, 9.99999163e-01]])"
            ]
          },
          "metadata": {},
          "execution_count": 63
        }
      ]
    },
    {
      "cell_type": "code",
      "source": [
        "clf.fit(train[features], train['y_ptb'])"
      ],
      "metadata": {
        "colab": {
          "base_uri": "https://localhost:8080/"
        },
        "id": "fDnVo8n3U4zX",
        "outputId": "aa0b7349-9c5c-4d1b-a2f6-2d907541df7e"
      },
      "execution_count": 64,
      "outputs": [
        {
          "output_type": "execute_result",
          "data": {
            "text/plain": [
              "LinearDiscriminantAnalysis()"
            ]
          },
          "metadata": {},
          "execution_count": 64
        }
      ]
    },
    {
      "cell_type": "code",
      "source": [
        "clf.score(train[features], train['y'])"
      ],
      "metadata": {
        "colab": {
          "base_uri": "https://localhost:8080/"
        },
        "id": "dFkWYMcvVCuQ",
        "outputId": "d8044cdb-fe17-4247-fe0c-ecb824e968bd"
      },
      "execution_count": 65,
      "outputs": [
        {
          "output_type": "execute_result",
          "data": {
            "text/plain": [
              "0.8666666666666667"
            ]
          },
          "metadata": {},
          "execution_count": 65
        }
      ]
    },
    {
      "cell_type": "code",
      "source": [
        "clf.score(test[features], test['y'])"
      ],
      "metadata": {
        "colab": {
          "base_uri": "https://localhost:8080/"
        },
        "id": "TLuh6No1VEsf",
        "outputId": "1a6826ac-90ab-4b27-a78c-01fccede6408"
      },
      "execution_count": 66,
      "outputs": [
        {
          "output_type": "execute_result",
          "data": {
            "text/plain": [
              "0.8666666666666667"
            ]
          },
          "metadata": {},
          "execution_count": 66
        }
      ]
    },
    {
      "cell_type": "code",
      "source": [
        "clf.predict_proba(test[features])"
      ],
      "metadata": {
        "colab": {
          "base_uri": "https://localhost:8080/"
        },
        "id": "BnSYdd-jVZvw",
        "outputId": "e0493a2c-c8a9-4fb5-f4b4-65483d340e75"
      },
      "execution_count": 67,
      "outputs": [
        {
          "output_type": "execute_result",
          "data": {
            "text/plain": [
              "array([[0.90461395, 0.07182323, 0.02356283],\n",
              "       [0.93583598, 0.04578602, 0.01837799],\n",
              "       [0.87904318, 0.09849871, 0.02245811],\n",
              "       [0.74447451, 0.21420997, 0.04131552],\n",
              "       [0.90881735, 0.06467831, 0.02650434],\n",
              "       [0.25092862, 0.42729685, 0.32177454],\n",
              "       [0.04557093, 0.85794517, 0.0964839 ],\n",
              "       [0.04480784, 0.20243828, 0.75275388],\n",
              "       [0.08629768, 0.74732303, 0.16637929],\n",
              "       [0.04540644, 0.64740889, 0.30718467],\n",
              "       [0.00556613, 0.06071086, 0.93372301],\n",
              "       [0.05766921, 0.20892832, 0.73340247],\n",
              "       [0.03075567, 0.16074613, 0.80849821],\n",
              "       [0.03539175, 0.52683467, 0.43777358],\n",
              "       [0.02432777, 0.14932804, 0.82634419]])"
            ]
          },
          "metadata": {},
          "execution_count": 67
        }
      ]
    },
    {
      "cell_type": "markdown",
      "metadata": {
        "id": "c2GdZaHuSNGs"
      },
      "source": [
        "**Exercise 3 (homework).** Use the available data and at least two statistical techniques (including at least one classification algorithm) to analyze what kinds of municipalities had a lower income in 2020 compared to 2019. \n",
        "\n",
        "In the cell below you have some initial preprocessing of the data that you may use for this exercise."
      ]
    },
    {
      "cell_type": "code",
      "metadata": {
        "id": "9Swg2rl0SNXO"
      },
      "source": [
        "data = pd.merge(income, population.drop(columns='Region'), on='Code', suffixes=['income', 'population'])\n",
        "data.dropna(inplace=True)\n",
        "## Remove rows with 0 values (Boguszów-Gorce):\n",
        "data = data[(data!=0).all(axis=1)] \n",
        "## Encode voivodeships with dummy variables:\n",
        "data = pd.get_dummies(data, columns=['Voivodeship'])\n",
        "## Create the response variable:\n",
        "data['2020increase'] = data['2020income'] > data['2019income']\n",
        "## Store the data about regions of rows in a separate table:\n",
        "regions = data[['Code', 'Region']]\n",
        "## Remove the regions and codes:\n",
        "data = data.drop(columns=['2020income', '2020population', 'Code', 'Region'])\n",
        "## Transform income and population columns:\n",
        "columns_to_transform = data.filter(regex='income|population').columns\n",
        "data[columns_to_transform] = np.log10(data[columns_to_transform])"
      ],
      "execution_count": 68,
      "outputs": []
    },
    {
      "cell_type": "code",
      "source": [
        "cols = [x for x in data.columns if x != '2020increase']"
      ],
      "metadata": {
        "id": "7H_TWLXOV8aj"
      },
      "execution_count": 72,
      "outputs": []
    },
    {
      "cell_type": "code",
      "source": [
        "from sklearn.model_selection import train_test_split"
      ],
      "metadata": {
        "id": "1ZXyl2MeWf5k"
      },
      "execution_count": 74,
      "outputs": []
    },
    {
      "cell_type": "code",
      "source": [
        "x_train, x_test, y_train, y_test = train_test_split(data[cols], data['2020increase'], test_size=0.33)"
      ],
      "metadata": {
        "id": "Z_PUOyjmWUWB"
      },
      "execution_count": 75,
      "outputs": []
    },
    {
      "cell_type": "code",
      "source": [
        "clf = LinearDiscriminantAnalysis()\n",
        "clf.fit(x_train, y_train)"
      ],
      "metadata": {
        "colab": {
          "base_uri": "https://localhost:8080/"
        },
        "id": "0zNtVebWVunY",
        "outputId": "e64e4f87-9cdd-486b-a208-860769cd8ae5"
      },
      "execution_count": 76,
      "outputs": [
        {
          "output_type": "execute_result",
          "data": {
            "text/plain": [
              "LinearDiscriminantAnalysis()"
            ]
          },
          "metadata": {},
          "execution_count": 76
        }
      ]
    },
    {
      "cell_type": "code",
      "source": [
        "clf.score(x_test, y_test)"
      ],
      "metadata": {
        "colab": {
          "base_uri": "https://localhost:8080/"
        },
        "id": "EvPg4pncWrOl",
        "outputId": "be087d48-c7c5-437a-9eed-150c9cf1dc5f"
      },
      "execution_count": 77,
      "outputs": [
        {
          "output_type": "execute_result",
          "data": {
            "text/plain": [
              "0.872366790582404"
            ]
          },
          "metadata": {},
          "execution_count": 77
        }
      ]
    },
    {
      "cell_type": "code",
      "source": [
        "clf.coef_"
      ],
      "metadata": {
        "colab": {
          "base_uri": "https://localhost:8080/"
        },
        "id": "M2ZjDKYubN1K",
        "outputId": "01f93d42-23ca-4baf-d1d1-23cf03924634"
      },
      "execution_count": 79,
      "outputs": [
        {
          "output_type": "execute_result",
          "data": {
            "text/plain": [
              "array([[ 2.09949474e+00,  6.69537421e+00,  5.21181356e+00,\n",
              "         5.05332992e+00, -2.51286398e+01, -4.92735837e+01,\n",
              "         3.58332078e+01,  2.42280797e+01, -1.26209224e+02,\n",
              "         1.21198660e+02,  2.87099773e-01, -2.85977492e-01,\n",
              "        -2.61184335e-01, -6.32038149e-01,  3.53152177e-01,\n",
              "         1.41063068e-01, -6.71025023e-01,  1.49679565e-01,\n",
              "         4.61689979e-02,  9.41140859e-02, -3.41254641e-01,\n",
              "         3.80417724e-01, -7.62012429e-02, -8.33957193e-01,\n",
              "         6.08203906e-01, -1.57005225e-01]])"
            ]
          },
          "metadata": {},
          "execution_count": 79
        }
      ]
    },
    {
      "cell_type": "code",
      "source": [
        "clf = LogisticRegression(max_iter=200).fit(x_train, y_train)"
      ],
      "metadata": {
        "id": "aTCntX3xW2ze"
      },
      "execution_count": 80,
      "outputs": []
    },
    {
      "cell_type": "code",
      "source": [
        "clf.score(x_test, y_test)"
      ],
      "metadata": {
        "colab": {
          "base_uri": "https://localhost:8080/"
        },
        "id": "x7egAi1Mb-bg",
        "outputId": "0a3a9774-f04b-4f24-ed97-9d6a246380e5"
      },
      "execution_count": 81,
      "outputs": [
        {
          "output_type": "execute_result",
          "data": {
            "text/plain": [
              "0.8674101610904585"
            ]
          },
          "metadata": {},
          "execution_count": 81
        }
      ]
    },
    {
      "cell_type": "code",
      "source": [
        "clf.coef_"
      ],
      "metadata": {
        "colab": {
          "base_uri": "https://localhost:8080/"
        },
        "id": "j5tZBTFmcDRW",
        "outputId": "902cf9d0-4ee2-4942-c3de-3e4dfbe60089"
      },
      "execution_count": 82,
      "outputs": [
        {
          "output_type": "execute_result",
          "data": {
            "text/plain": [
              "array([[ 0.64256484,  0.92210199,  0.95574606,  0.17202676, -5.41276174,\n",
              "         0.15353603,  0.32277544,  0.48107382,  0.6384895 ,  0.88422445,\n",
              "         0.32234179, -0.10358152, -0.19316061, -0.54447042,  0.51288094,\n",
              "         0.57632955, -0.43564386,  0.22104473, -0.57028818,  0.26195447,\n",
              "        -0.30329952,  0.45449397,  0.08891051, -0.64971673,  0.66561107,\n",
              "        -0.26076586]])"
            ]
          },
          "metadata": {},
          "execution_count": 82
        }
      ]
    },
    {
      "cell_type": "markdown",
      "metadata": {
        "id": "1RPazcz6RiIi"
      },
      "source": [
        "<center><img src='https://drive.google.com/uc?id=1_utx_ZGclmCwNttSe40kYA6VHzNocdET' height=\"60\">\n",
        "\n",
        "AI TECH - Akademia Innowacyjnych Zastosowań Technologii Cyfrowych. Program Operacyjny Polska Cyfrowa na lata 2014-2020\n",
        "<hr>\n",
        "\n",
        "<img src='https://drive.google.com/uc?id=1BXZ0u3562N_MqCLcekI-Ens77Kk4LpPm'>\n",
        "\n",
        "\n",
        "Projekt współfinansowany ze środków Unii Europejskiej w ramach Europejskiego Funduszu Rozwoju Regionalnego \n",
        "Program Operacyjny Polska Cyfrowa na lata 2014-2020,\n",
        "Oś Priorytetowa nr 3 \"Cyfrowe kompetencje społeczeństwa\" Działanie  nr 3.2 \"Innowacyjne rozwiązania na rzecz aktywizacji cyfrowej\".   \n",
        "Tytuł projektu:  „Akademia Innowacyjnych Zastosowań Technologii Cyfrowych (AI Tech)”\n",
        "    </center>"
      ]
    }
  ]
}