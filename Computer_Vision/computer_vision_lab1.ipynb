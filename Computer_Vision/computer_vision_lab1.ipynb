{
  "nbformat": 4,
  "nbformat_minor": 0,
  "metadata": {
    "colab": {
      "name": "computer_vision_lab1.ipynb",
      "provenance": []
    },
    "kernelspec": {
      "name": "python3",
      "display_name": "Python 3"
    },
    "language_info": {
      "name": "python"
    }
  },
  "cells": [
    {
      "cell_type": "markdown",
      "source": [
        "# Intro to NN & k-NN.\n",
        "Use CIFAR10 dataset.\n",
        "\n",
        "Please do not use any library for NN / k-NN.\n",
        "\n",
        "Task 1: Implement Nearest Neighbor with L1 and L2 metrics.\n",
        "\n",
        "Task 2: Implement k-NN with L1 & L2, where k={1,3,5,7} and 4-folds cross-validation to select k.\n",
        "\n",
        "To run experiments, you can take every 100th element due the size of the dataset.\n",
        "\n"
      ],
      "metadata": {
        "id": "0v0PRknb_5K2"
      }
    },
    {
      "cell_type": "code",
      "execution_count": 74,
      "metadata": {
        "id": "QGxqN8PZ-R5b"
      },
      "outputs": [],
      "source": [
        "import numpy as np\n",
        "from keras.datasets import cifar10"
      ]
    },
    {
      "cell_type": "markdown",
      "source": [
        "Loading dataset:"
      ],
      "metadata": {
        "id": "87JVoRcXAb3l"
      }
    },
    {
      "cell_type": "code",
      "source": [
        "(X_train, y_train) , (X_test, y_test) = cifar10.load_data()"
      ],
      "metadata": {
        "id": "3C2D85zh-jvh"
      },
      "execution_count": 75,
      "outputs": []
    },
    {
      "cell_type": "markdown",
      "source": [
        "Choosing every 100th element:\n"
      ],
      "metadata": {
        "id": "lL3N1D_aAexs"
      }
    },
    {
      "cell_type": "code",
      "source": [
        "X_train.shape, X_test.shape"
      ],
      "metadata": {
        "colab": {
          "base_uri": "https://localhost:8080/"
        },
        "id": "jZ4hI3pR_G34",
        "outputId": "7cc65594-092d-4b9d-d6e3-1294e0b12887"
      },
      "execution_count": 76,
      "outputs": [
        {
          "output_type": "execute_result",
          "data": {
            "text/plain": [
              "((50000, 32, 32, 3), (10000, 32, 32, 3))"
            ]
          },
          "metadata": {},
          "execution_count": 76
        }
      ]
    },
    {
      "cell_type": "code",
      "source": [
        "X_train = X_train[::100]\n",
        "y_train = y_train[::100]\n",
        "X_test = X_test[::100]\n",
        "y_test = y_test[::100]"
      ],
      "metadata": {
        "id": "308R_viEA0Cy"
      },
      "execution_count": 77,
      "outputs": []
    },
    {
      "cell_type": "code",
      "source": [
        "X_train.shape, X_test.shape"
      ],
      "metadata": {
        "colab": {
          "base_uri": "https://localhost:8080/"
        },
        "id": "yK5B9KVYA5bA",
        "outputId": "9e86626d-325a-431f-9ef5-30675259795d"
      },
      "execution_count": 78,
      "outputs": [
        {
          "output_type": "execute_result",
          "data": {
            "text/plain": [
              "((500, 32, 32, 3), (100, 32, 32, 3))"
            ]
          },
          "metadata": {},
          "execution_count": 78
        }
      ]
    },
    {
      "cell_type": "code",
      "source": [
        "X_train = X_train.reshape(X_train.shape[0], 32 * 32 * 3)\n",
        "X_test = X_test.reshape(X_test.shape[0], 32 * 32 * 3)"
      ],
      "metadata": {
        "id": "U7bcpm7q6LP_"
      },
      "execution_count": 79,
      "outputs": []
    },
    {
      "cell_type": "code",
      "source": [
        "X_train.shape, X_test.shape"
      ],
      "metadata": {
        "colab": {
          "base_uri": "https://localhost:8080/"
        },
        "id": "7zm5G4hR6YnU",
        "outputId": "d9452983-d11a-48d4-c46f-b20ebaaa5057"
      },
      "execution_count": 80,
      "outputs": [
        {
          "output_type": "execute_result",
          "data": {
            "text/plain": [
              "((500, 3072), (100, 3072))"
            ]
          },
          "metadata": {},
          "execution_count": 80
        }
      ]
    },
    {
      "cell_type": "code",
      "source": [
        "y_test = [item[0] for item in y_test]"
      ],
      "metadata": {
        "id": "Y-RPzAT7NEJQ"
      },
      "execution_count": 81,
      "outputs": []
    },
    {
      "cell_type": "markdown",
      "source": [
        "Implementation of NN\n"
      ],
      "metadata": {
        "id": "R6yZDbIhBMEt"
      }
    },
    {
      "cell_type": "code",
      "source": [
        "class NN(object):\n",
        "  def __init__(self, distance):\n",
        "    self.distance = distance\n",
        "\n",
        "  def train(self, X_train, y_train):\n",
        "    self.X_train = X_train\n",
        "    self.y_train = y_train\n",
        "  \n",
        "  def predict(self, X_test):\n",
        "    num_test_cases = X_test.shape[0]\n",
        "    prediction = np.zeros(num_test_cases, dtype=self.y_train.dtype)\n",
        "\n",
        "    for i in range(num_test_cases):\n",
        "\n",
        "      if self.distance == 'l1':\n",
        "        distances = np.sum(np.abs(self.X_train - X_test[i, :]), axis=1)\n",
        "        idx = np.argmin(distances)\n",
        "      elif self.distance == 'l2':\n",
        "        distances = np.sqrt(np.sum(np.square(self.X_train - X_test[i, :]), axis=1))\n",
        "        idx = np.argmax(distances)\n",
        "      \n",
        "      prediction[i] = self.y_train[idx]\n",
        "\n",
        "    return prediction"
      ],
      "metadata": {
        "id": "CUw1Rn6TyYxF"
      },
      "execution_count": 82,
      "outputs": []
    },
    {
      "cell_type": "code",
      "source": [
        "nn = NN(distance='l1')\n",
        "nn.train(X_train, y_train)\n",
        "pred = nn.predict(X_test)\n",
        "acc = np.mean(pred == y_test)\n",
        "print(f'Accuracy for Nearest Neighbours for L1 distance: {acc * 100} %')"
      ],
      "metadata": {
        "colab": {
          "base_uri": "https://localhost:8080/"
        },
        "id": "JXhAl__p4-1g",
        "outputId": "d21fa1a9-0e8d-47d9-a118-9aa0ced6e373"
      },
      "execution_count": 83,
      "outputs": [
        {
          "output_type": "stream",
          "name": "stdout",
          "text": [
            "Accuracy for Nearest Neighbours for L1 distance: 24.0 %\n"
          ]
        }
      ]
    },
    {
      "cell_type": "code",
      "source": [
        "nn = NN(distance='l2')\n",
        "nn.train(X_train, y_train)\n",
        "pred = nn.predict(X_test)\n",
        "acc = np.mean(pred == y_test)\n",
        "print(f'Accuracy for Nearest Neighbours for L2 distance: {acc * 100} %')"
      ],
      "metadata": {
        "colab": {
          "base_uri": "https://localhost:8080/"
        },
        "id": "IDJ5S0xN6h9k",
        "outputId": "f12b16d7-eb7b-4b2d-e7ba-3efd9c04934b"
      },
      "execution_count": 84,
      "outputs": [
        {
          "output_type": "stream",
          "name": "stdout",
          "text": [
            "Accuracy for Nearest Neighbours for L2 distance: 17.0 %\n"
          ]
        }
      ]
    },
    {
      "cell_type": "markdown",
      "source": [
        "Implementation of kNN"
      ],
      "metadata": {
        "id": "El3Sx_7YFKAX"
      }
    },
    {
      "cell_type": "code",
      "source": [
        "class kNN(object):\n",
        "  def __init__(self, distance):\n",
        "    self.distance = distance\n",
        "\n",
        "  def train(self, X_train, y_train):\n",
        "    self.X_train = X_train\n",
        "    self.y_train = y_train\n",
        "  \n",
        "  def predict(self, X_test, k=1):\n",
        "    num_test_cases = X_test.shape[0]\n",
        "    prediction = np.zeros(num_test_cases, dtype=self.y_train.dtype)\n",
        "\n",
        "    for i in range(num_test_cases):\n",
        "\n",
        "      if self.distance == 'l1':\n",
        "        distances = np.sum(np.abs(self.X_train - X_test[i, :]), axis=1)\n",
        "      elif self.distance == 'l2':\n",
        "        distances = np.sqrt(np.sum(np.square(self.X_train - X_test[i, :]), axis=1))\n",
        "    \n",
        "      idx_sort = np.argsort(distances)\n",
        "\n",
        "      closest_y = self.y_train[idx_sort[:k]]\n",
        "      closest_y = [item[0] for item in closest_y]\n",
        "      count = np.bincount(closest_y)\n",
        "      idx = np.argmax(count)\n",
        "\n",
        "      prediction[i] = idx\n",
        "\n",
        "    return prediction"
      ],
      "metadata": {
        "id": "UntXy9Cv86t5"
      },
      "execution_count": 85,
      "outputs": []
    },
    {
      "cell_type": "code",
      "source": [
        "for k in [1, 3, 5, 7]:\n",
        "  knn = kNN(distance='l1')\n",
        "  knn.train(X_train, y_train)\n",
        "  pred = knn.predict(X_test, k=k)\n",
        "  acc = np.mean(pred == y_test)\n",
        "  print(f'Accuracy for {k} - Nearest Neighbours for L1 distance: {acc * 100} %')"
      ],
      "metadata": {
        "colab": {
          "base_uri": "https://localhost:8080/"
        },
        "id": "X6fD_hwy2A4A",
        "outputId": "b0d2bc27-6ea5-4e69-8ff5-57b2bff2dadc"
      },
      "execution_count": 86,
      "outputs": [
        {
          "output_type": "stream",
          "name": "stdout",
          "text": [
            "Accuracy for 1 - Nearest Neighbours for L1 distance: 24.0 %\n",
            "Accuracy for 3 - Nearest Neighbours for L1 distance: 23.0 %\n",
            "Accuracy for 5 - Nearest Neighbours for L1 distance: 22.0 %\n",
            "Accuracy for 7 - Nearest Neighbours for L1 distance: 21.0 %\n"
          ]
        }
      ]
    },
    {
      "cell_type": "code",
      "source": [
        "for k in [1, 3, 5, 7]:\n",
        "  knn = kNN(distance='l2')\n",
        "  knn.train(X_train, y_train)\n",
        "  pred = knn.predict(X_test, k=k)\n",
        "  acc = np.mean(pred == y_test)\n",
        "  print(f'Accuracy for {k} - Nearest Neighbours for L2 distance: {acc * 100} %')"
      ],
      "metadata": {
        "colab": {
          "base_uri": "https://localhost:8080/"
        },
        "id": "4KUI3ja3CWgz",
        "outputId": "cf39a518-e6f9-4c64-ad4b-3b0f27ce6d5f"
      },
      "execution_count": 87,
      "outputs": [
        {
          "output_type": "stream",
          "name": "stdout",
          "text": [
            "Accuracy for 1 - Nearest Neighbours for L2 distance: 12.0 %\n",
            "Accuracy for 3 - Nearest Neighbours for L2 distance: 15.0 %\n",
            "Accuracy for 5 - Nearest Neighbours for L2 distance: 12.0 %\n",
            "Accuracy for 7 - Nearest Neighbours for L2 distance: 12.0 %\n"
          ]
        }
      ]
    },
    {
      "cell_type": "markdown",
      "source": [
        "kNN with 4-fold cross validation"
      ],
      "metadata": {
        "id": "yaEnPXYPFGmz"
      }
    },
    {
      "cell_type": "code",
      "source": [
        "num_folds = 4\n",
        "\n",
        "X_train_folds = np.array_split(X_train, num_folds)\n",
        "y_train_folds = np.array_split(y_train, num_folds)"
      ],
      "metadata": {
        "id": "PSqXt0YiE03H"
      },
      "execution_count": 88,
      "outputs": []
    },
    {
      "cell_type": "code",
      "source": [
        "for k in [1, 3, 5, 7]:\n",
        "  for i in range(num_folds):\n",
        "    knn = kNN(distance='l1')\n",
        "    X = np.concatenate(X_train_folds[:i] + X_train_folds[i+1:])\n",
        "    y = np.concatenate(y_train_folds[:i] + y_train_folds[i+1:])\n",
        "    knn.train(X, y)\n",
        "    X_val = X_train_folds[i]\n",
        "    y_val = y_train_folds[i]\n",
        "    pred = knn.predict(X_val, k=k)\n",
        "    y_val = [item[0] for item in y_val]\n",
        "    acc = np.mean(pred == y_val)\n",
        "    print(f'Accuracy for {k} - Nearest Neighbours for L1 distance: {acc * 100} %')"
      ],
      "metadata": {
        "colab": {
          "base_uri": "https://localhost:8080/"
        },
        "id": "_B4cHIaQF5yY",
        "outputId": "67a78236-f804-4de3-92e3-1328222e10df"
      },
      "execution_count": 89,
      "outputs": [
        {
          "output_type": "stream",
          "name": "stdout",
          "text": [
            "Accuracy for 1 - Nearest Neighbours for L1 distance: 13.600000000000001 %\n",
            "Accuracy for 1 - Nearest Neighbours for L1 distance: 23.200000000000003 %\n",
            "Accuracy for 1 - Nearest Neighbours for L1 distance: 25.6 %\n",
            "Accuracy for 1 - Nearest Neighbours for L1 distance: 21.6 %\n",
            "Accuracy for 3 - Nearest Neighbours for L1 distance: 12.8 %\n",
            "Accuracy for 3 - Nearest Neighbours for L1 distance: 24.0 %\n",
            "Accuracy for 3 - Nearest Neighbours for L1 distance: 20.0 %\n",
            "Accuracy for 3 - Nearest Neighbours for L1 distance: 15.2 %\n",
            "Accuracy for 5 - Nearest Neighbours for L1 distance: 13.600000000000001 %\n",
            "Accuracy for 5 - Nearest Neighbours for L1 distance: 23.200000000000003 %\n",
            "Accuracy for 5 - Nearest Neighbours for L1 distance: 18.4 %\n",
            "Accuracy for 5 - Nearest Neighbours for L1 distance: 19.2 %\n",
            "Accuracy for 7 - Nearest Neighbours for L1 distance: 11.200000000000001 %\n",
            "Accuracy for 7 - Nearest Neighbours for L1 distance: 20.8 %\n",
            "Accuracy for 7 - Nearest Neighbours for L1 distance: 19.2 %\n",
            "Accuracy for 7 - Nearest Neighbours for L1 distance: 15.2 %\n"
          ]
        }
      ]
    },
    {
      "cell_type": "code",
      "source": [
        "for k in [1, 3, 5, 7]:\n",
        "  for i in range(num_folds):\n",
        "    knn = kNN(distance='l2')\n",
        "    X = np.concatenate(X_train_folds[:i] + X_train_folds[i+1:])\n",
        "    y = np.concatenate(y_train_folds[:i] + y_train_folds[i+1:])\n",
        "    knn.train(X, y)\n",
        "    X_val = X_train_folds[i]\n",
        "    y_val = y_train_folds[i]\n",
        "    pred = knn.predict(X_val, k=k)\n",
        "    y_val = [item[0] for item in y_val]\n",
        "    acc = np.mean(pred == y_val)\n",
        "    print(f'Accuracy for {k} - Nearest Neighbours for L2 distance: {acc * 100} %')"
      ],
      "metadata": {
        "colab": {
          "base_uri": "https://localhost:8080/"
        },
        "id": "b8qvP_F-G7FT",
        "outputId": "bae3cb0f-1c09-48c6-ab38-f825663c97b3"
      },
      "execution_count": 90,
      "outputs": [
        {
          "output_type": "stream",
          "name": "stdout",
          "text": [
            "Accuracy for 1 - Nearest Neighbours for L2 distance: 10.4 %\n",
            "Accuracy for 1 - Nearest Neighbours for L2 distance: 16.0 %\n",
            "Accuracy for 1 - Nearest Neighbours for L2 distance: 15.2 %\n",
            "Accuracy for 1 - Nearest Neighbours for L2 distance: 20.0 %\n",
            "Accuracy for 3 - Nearest Neighbours for L2 distance: 7.199999999999999 %\n",
            "Accuracy for 3 - Nearest Neighbours for L2 distance: 13.600000000000001 %\n",
            "Accuracy for 3 - Nearest Neighbours for L2 distance: 19.2 %\n",
            "Accuracy for 3 - Nearest Neighbours for L2 distance: 16.8 %\n",
            "Accuracy for 5 - Nearest Neighbours for L2 distance: 12.8 %\n",
            "Accuracy for 5 - Nearest Neighbours for L2 distance: 16.0 %\n",
            "Accuracy for 5 - Nearest Neighbours for L2 distance: 20.0 %\n",
            "Accuracy for 5 - Nearest Neighbours for L2 distance: 18.4 %\n",
            "Accuracy for 7 - Nearest Neighbours for L2 distance: 16.8 %\n",
            "Accuracy for 7 - Nearest Neighbours for L2 distance: 16.8 %\n",
            "Accuracy for 7 - Nearest Neighbours for L2 distance: 17.599999999999998 %\n",
            "Accuracy for 7 - Nearest Neighbours for L2 distance: 19.2 %\n"
          ]
        }
      ]
    }
  ]
}