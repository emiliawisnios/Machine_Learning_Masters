{
  "cells": [
    {
      "cell_type": "markdown",
      "metadata": {
        "id": "SeRy_Ng0lfDT"
      },
      "source": [
        "<center><img src='https://drive.google.com/uc?id=1_utx_ZGclmCwNttSe40kYA6VHzNocdET' height=\"60\"></center>\n",
        "\n",
        "AI TECH - Akademia Innowacyjnych Zastosowań Technologii Cyfrowych. Program Operacyjny Polska Cyfrowa na lata 2014-2020\n",
        "<hr>\n",
        "\n",
        "<center><img src='https://drive.google.com/uc?id=1BXZ0u3562N_MqCLcekI-Ens77Kk4LpPm'></center>\n",
        "\n",
        "<center>\n",
        "Projekt współfinansowany ze środków Unii Europejskiej w ramach Europejskiego Funduszu Rozwoju Regionalnego \n",
        "Program Operacyjny Polska Cyfrowa na lata 2014-2020,\n",
        "Oś Priorytetowa nr 3 \"Cyfrowe kompetencje społeczeństwa\" Działanie  nr 3.2 \"Innowacyjne rozwiązania na rzecz aktywizacji cyfrowej\" \n",
        "Tytuł projektu:  „Akademia Innowacyjnych Zastosowań Technologii Cyfrowych (AI Tech)”\n",
        "    </center>\n",
        "\n",
        "**Author: Jacek Sroka**\n",
        "\n"
      ]
    },
    {
      "cell_type": "markdown",
      "metadata": {
        "id": "0uEERM15Z3i6"
      },
      "source": [
        "# ML in big scale - LAB 2"
      ]
    },
    {
      "cell_type": "markdown",
      "metadata": {
        "id": "Ao9tweXeZr_i"
      },
      "source": [
        "Plan\n",
        "\n",
        "1. Installation\n",
        "2. Introduction to RDD API\n",
        "3. Broadcast variables\n",
        "4. Homework\n",
        "\n",
        "\n"
      ]
    },
    {
      "cell_type": "markdown",
      "metadata": {
        "id": "w5XTROAjE7ek"
      },
      "source": [
        "To **edit the colab** first copy it to your drive with the top bars `File -> Save a copy on drive` option."
      ]
    },
    {
      "cell_type": "markdown",
      "metadata": {
        "id": "qdrOqKrbbWEi"
      },
      "source": [
        "## Installation\n",
        " "
      ]
    },
    {
      "cell_type": "code",
      "execution_count": null,
      "metadata": {
        "colab": {
          "base_uri": "https://localhost:8080/"
        },
        "id": "sxqy7fQ2Zn_u",
        "outputId": "8b0eab76-72bf-4f5d-ed49-bd1636d5b121"
      },
      "outputs": [
        {
          "output_type": "stream",
          "name": "stdout",
          "text": [
            "\u001b[K     |████████████████████████████████| 281.4 MB 54 kB/s \n",
            "\u001b[K     |████████████████████████████████| 199 kB 74.0 MB/s \n",
            "\u001b[?25h  Building wheel for pyspark (setup.py) ... \u001b[?25l\u001b[?25hdone\n"
          ]
        }
      ],
      "source": [
        "! pip install pyspark --quiet\n",
        "! pip install -U -q PyDrive --quiet \n",
        "! apt install openjdk-8-jdk-headless &> /dev/null"
      ]
    },
    {
      "cell_type": "code",
      "execution_count": null,
      "metadata": {
        "id": "hvP2cvhBb-gi"
      },
      "outputs": [],
      "source": [
        "import os\n",
        "os.environ[\"JAVA_HOME\"] = \"/usr/lib/jvm/java-8-openjdk-amd64\""
      ]
    },
    {
      "cell_type": "code",
      "execution_count": 26,
      "metadata": {
        "id": "IRX13sVIcU9Z"
      },
      "outputs": [],
      "source": [
        "from pyspark import SparkContext, SparkConf\n",
        "\n",
        "conf = SparkConf().set('spark.ui.port', '4050').setAppName(\"mlibs\").setMaster(\"local[*]\")\n",
        "sc = SparkContext.getOrCreate(conf=conf)"
      ]
    },
    {
      "cell_type": "markdown",
      "metadata": {
        "id": "fC4mnbWTYtkH"
      },
      "source": [
        "Note: pyspark documentation is [here](https://spark.apache.org/docs/3.1.2/api/python/reference/index.html). For example: list of `SparkContext` methods is [here](https://spark.apache.org/docs/3.1.2/api/python/reference/pyspark.html#spark-context-apis).\n"
      ]
    },
    {
      "cell_type": "markdown",
      "metadata": {
        "id": "XUtLR5z2dUNv"
      },
      "source": [
        "## Introduction to RDD API\n",
        "We start with a sample RDD obtained from a local Python collection. The second parameter of `parallelize` specifies how many partitions we want to have and thus allows us to control the parallelism. Usually it is good to have 4x more partitions than cores, but having partitions with too few elements can make the overhead noticable. On the other hand for some algorithms the rate of data transfer over the network can grow quickly with the number of partitions (for example the algorithm could operate on partition pairs).\n",
        "\n",
        "`cache` suggests to Spark to keep this RDD in cluster memory to speed up future usage."
      ]
    },
    {
      "cell_type": "code",
      "execution_count": null,
      "metadata": {
        "id": "G_NdrZeQNO5v"
      },
      "outputs": [],
      "source": [
        "input_rdd = sc.parallelize(range(1, 10), 2).cache()"
      ]
    },
    {
      "cell_type": "markdown",
      "metadata": {
        "id": "zm-geH4uYNLZ"
      },
      "source": [
        "`collect` converts the rdd into local python collection on the driver side."
      ]
    },
    {
      "cell_type": "code",
      "execution_count": null,
      "metadata": {
        "colab": {
          "base_uri": "https://localhost:8080/"
        },
        "id": "yFYEZ4rCYDLx",
        "outputId": "17458ddc-6216-45fc-eb7e-a641146e29fc"
      },
      "outputs": [
        {
          "output_type": "execute_result",
          "data": {
            "text/plain": [
              "[1, 2, 3, 4, 5, 6, 7, 8, 9]"
            ]
          },
          "metadata": {},
          "execution_count": 5
        }
      ],
      "source": [
        "input_rdd.collect()"
      ]
    },
    {
      "cell_type": "markdown",
      "metadata": {
        "id": "iSqNOasqW7ew"
      },
      "source": [
        "Try actions: `first`, `count`, `take(n)` and `takeSample(withReplacement, num, [seed])`. The documentation can be found [here](https://spark.apache.org/docs/latest/api/python/reference/api/pyspark.RDD.html). "
      ]
    },
    {
      "cell_type": "code",
      "execution_count": null,
      "metadata": {
        "colab": {
          "base_uri": "https://localhost:8080/"
        },
        "id": "ektM1eJWg3A6",
        "outputId": "ddac267c-eee0-473b-e090-df65b0dbc35b"
      },
      "outputs": [
        {
          "output_type": "stream",
          "name": "stdout",
          "text": [
            "1\n",
            "9\n",
            "[1, 2, 3, 4, 5]\n"
          ]
        },
        {
          "output_type": "execute_result",
          "data": {
            "text/plain": [
              "[3, 3, 6]"
            ]
          },
          "metadata": {},
          "execution_count": 7
        }
      ],
      "source": [
        "# put your code here\n",
        "print(input_rdd.first())\n",
        "print(input_rdd.count())\n",
        "print(input_rdd.take(5))\n",
        "input_rdd.takeSample(True, 3)"
      ]
    },
    {
      "cell_type": "code",
      "execution_count": null,
      "metadata": {
        "colab": {
          "base_uri": "https://localhost:8080/"
        },
        "id": "QODGZNmwnUEj",
        "cellView": "form",
        "outputId": "6d8fb04f-b219-442a-e770-57ab470442e4"
      },
      "outputs": [
        {
          "output_type": "stream",
          "name": "stdout",
          "text": [
            "1\n",
            "9\n",
            "[1, 2, 3, 4, 5]\n"
          ]
        },
        {
          "output_type": "execute_result",
          "data": {
            "text/plain": [
              "[2, 8, 8]"
            ]
          },
          "metadata": {},
          "execution_count": 8
        }
      ],
      "source": [
        "#@title Solution\n",
        "print(input_rdd.first())\n",
        "print(input_rdd.count())\n",
        "print(input_rdd.take(5))\n",
        "input_rdd.takeSample(True, 3)"
      ]
    },
    {
      "cell_type": "markdown",
      "metadata": {
        "id": "JwIK_z-B8YVy"
      },
      "source": [
        "Compute the total sum of the RDD elements with `reduce(func)`.\n",
        "\n",
        "RDD API with all the actions and transformations can be found [here](https://spark.apache.org/docs/latest/api/python/reference/api/pyspark.RDD.html#pyspark.RDD)."
      ]
    },
    {
      "cell_type": "code",
      "execution_count": null,
      "metadata": {
        "colab": {
          "base_uri": "https://localhost:8080/"
        },
        "id": "QEgBWIsk87vh",
        "outputId": "2404cd8e-1ae9-41fd-dd2b-468d8d529ca0"
      },
      "outputs": [
        {
          "output_type": "execute_result",
          "data": {
            "text/plain": [
              "45"
            ]
          },
          "metadata": {},
          "execution_count": 9
        }
      ],
      "source": [
        "# put you code here\n",
        "input_rdd.reduce(lambda x, y: x+y)"
      ]
    },
    {
      "cell_type": "code",
      "execution_count": null,
      "metadata": {
        "colab": {
          "background_save": true
        },
        "id": "-3ht2fEwnbCL",
        "cellView": "form"
      },
      "outputs": [],
      "source": [
        "#@title Solution\n",
        "input_rdd.reduce(lambda x, y: x+y)"
      ]
    },
    {
      "cell_type": "markdown",
      "metadata": {
        "id": "r1WUeAj-XS43"
      },
      "source": [
        "RDD are divided into partitions and distributed on the cluster. We can check how RDD are obtained (lineage), how many partitions there are, and how much memory do they use with the `toDebugString` method."
      ]
    },
    {
      "cell_type": "code",
      "execution_count": null,
      "metadata": {
        "id": "YICgWJTUWw3w",
        "colab": {
          "base_uri": "https://localhost:8080/"
        },
        "outputId": "6a9be221-494d-4c19-ed25-ab98fdcf52ef"
      },
      "outputs": [
        {
          "output_type": "stream",
          "name": "stdout",
          "text": [
            "(2) PythonRDD[1] at RDD at PythonRDD.scala:53 [Memory Serialized 1x Replicated]\n",
            " |       CachedPartitions: 2; MemorySize: 176.0 B; DiskSize: 0.0 B\n",
            " |  ParallelCollectionRDD[0] at readRDDFromFile at PythonRDD.scala:274 [Memory Serialized 1x Replicated]\n"
          ]
        }
      ],
      "source": [
        "print(input_rdd.toDebugString().decode('ascii'))"
      ]
    },
    {
      "cell_type": "markdown",
      "metadata": {
        "id": "Dt9LSHutbA8N"
      },
      "source": [
        "Let us create new RDD by transforming each value of `input_rdd` with the `map` transformation."
      ]
    },
    {
      "cell_type": "code",
      "execution_count": null,
      "metadata": {
        "colab": {
          "base_uri": "https://localhost:8080/"
        },
        "id": "VPVic4F6W0Yo",
        "outputId": "e011bc83-bbd3-4ef7-f575-794bfef23cd8"
      },
      "outputs": [
        {
          "output_type": "execute_result",
          "data": {
            "text/plain": [
              "[2, 3, 4, 5, 6, 7, 8, 9, 10]"
            ]
          },
          "metadata": {},
          "execution_count": 11
        }
      ],
      "source": [
        "plus1 = input_rdd.map(lambda x: x+1)\n",
        "plus1.collect()"
      ]
    },
    {
      "cell_type": "code",
      "execution_count": null,
      "metadata": {
        "id": "EUIhIxksbrZW",
        "colab": {
          "base_uri": "https://localhost:8080/"
        },
        "outputId": "ac54e2dd-ec3d-42c2-d6f8-711de62549a8"
      },
      "outputs": [
        {
          "output_type": "stream",
          "name": "stdout",
          "text": [
            "(2) PythonRDD[15] at collect at <ipython-input-11-8bfa8a4c60ee>:2 []\n",
            " |  PythonRDD[1] at RDD at PythonRDD.scala:53 []\n",
            " |      CachedPartitions: 2; MemorySize: 176.0 B; DiskSize: 0.0 B\n",
            " |  ParallelCollectionRDD[0] at readRDDFromFile at PythonRDD.scala:274 []\n"
          ]
        }
      ],
      "source": [
        "print(plus1.toDebugString().decode('ascii'))"
      ]
    },
    {
      "cell_type": "markdown",
      "metadata": {
        "id": "XFgUHfxz-bBu"
      },
      "source": [
        "Now try the `toDebugString` on the examples from lab1."
      ]
    },
    {
      "cell_type": "markdown",
      "metadata": {
        "id": "t0RObatYAnl5"
      },
      "source": [
        "Now create RDD from lines of the `sample_data/README.md` file and count the lines that contain the letter `a`. For that you can use the `filter` transformation. Don't forget to cache the RDD as we will use it later."
      ]
    },
    {
      "cell_type": "code",
      "execution_count": null,
      "metadata": {
        "colab": {
          "base_uri": "https://localhost:8080/"
        },
        "id": "5VkwFnXgb6tI",
        "outputId": "ae97804e-b87f-4703-fd86-63bc4d08ff99"
      },
      "outputs": [
        {
          "output_type": "execute_result",
          "data": {
            "text/plain": [
              "14"
            ]
          },
          "metadata": {},
          "execution_count": 13
        }
      ],
      "source": [
        "# put your code here\n",
        "lines_of_text = sc.textFile(\"sample_data/README.md\").cache()\n",
        "lines_of_text.filter(lambda line: \"a\" in line).count()"
      ]
    },
    {
      "cell_type": "code",
      "execution_count": null,
      "metadata": {
        "cellView": "form",
        "colab": {
          "background_save": true
        },
        "id": "_ejNkPxbnjiY"
      },
      "outputs": [],
      "source": [
        "#@title Solution\n",
        "lines_of_text = sc.textFile(\"sample_data/README.md\").cache()\n",
        "lines_of_text.filter(lambda line: \"a\" in line).count()"
      ]
    },
    {
      "cell_type": "markdown",
      "metadata": {
        "id": "XU1EFUSQbI7R"
      },
      "source": [
        "Convert the `lines_of_text` RDD to RDD of words by using `flatMap`, then use  `map` and `reduceByKey` to count number of words in the MapReduce way. Note that this is similar the one of the exercises from lab 1, but here we expect you to use RDD API rather than the MapReduce API we have provided last week."
      ]
    },
    {
      "cell_type": "code",
      "execution_count": null,
      "metadata": {
        "colab": {
          "base_uri": "https://localhost:8080/"
        },
        "id": "uez-OluTmn7F",
        "outputId": "76e0f7fd-ea3d-44fd-eadb-7c9aee18b228"
      },
      "outputs": [
        {
          "output_type": "stream",
          "name": "stdout",
          "text": [
            "\n"
          ]
        }
      ],
      "source": [
        "# put your code here\n",
        "lines_of_text.flatMap(lambda line: line.split(\" \")).map(lambda word: (word, 1)).reduceByKey(lambda a, b: a + b).collect()\n",
        "print('')"
      ]
    },
    {
      "cell_type": "code",
      "execution_count": null,
      "metadata": {
        "id": "m807DQ5onoYU",
        "cellView": "form"
      },
      "outputs": [],
      "source": [
        "#@title Solution\n",
        "lines_of_text.flatMap(lambda line: line.split(\" \")).map(lambda word: (word, 1)).reduceByKey(lambda a, b: a + b).collect()"
      ]
    },
    {
      "cell_type": "markdown",
      "metadata": {
        "id": "z-b-JofOnds1"
      },
      "source": [
        "Rather than process large datasets Spark can be also used to distribute computation to many machines/cores. Use Monte Carlo method to estimate the value of Pi. For that generate $n=4x10^5$ random points in square $[-1;1]\\times[-1;1]$ and count the proportion of the ones inside the largest circle contained by this square. Make sure that the computation can be distributed to at least 4 cores."
      ]
    },
    {
      "cell_type": "code",
      "execution_count": null,
      "metadata": {
        "id": "ysLuXFwOmDRk",
        "colab": {
          "base_uri": "https://localhost:8080/",
          "height": 36
        },
        "outputId": "6ffaf08a-6994-4461-b4e0-a6c433456c50"
      },
      "outputs": [
        {
          "output_type": "execute_result",
          "data": {
            "text/plain": [
              "'Pi is roughly 3.14386'"
            ],
            "application/vnd.google.colaboratory.intrinsic+json": {
              "type": "string"
            }
          },
          "metadata": {},
          "execution_count": 16
        }
      ],
      "source": [
        "import random\n",
        "random.seed(1)\n",
        "\n",
        "slices = 4\n",
        "n = 100000 * slices\n",
        "\n",
        "xs = range(n)\n",
        "rdd = sc.parallelize(xs, slices).setName(\"'Initial rdd'\")\n",
        "sample = rdd.map(lambda i: (random.uniform(-1,1), random.uniform(-1,1))).setName(\"'Random points sample'\")\n",
        "inside_circle = sample.filter(lambda tup: tup[0]**2+tup[1]**2 <= 1).setName(\"'Random points inside circle'\")\n",
        "count = inside_circle.count()\n",
        "\n",
        "f\"Pi is roughly {4.0 * count / n}\""
      ]
    },
    {
      "cell_type": "markdown",
      "metadata": {
        "id": "u-oMbhvHbJbD"
      },
      "source": [
        "## Broadcast variables\n",
        "Did you notice that the `random` value was available to execute the lambda in `map` even though this takes place on worker nodes while the random singleton is initialized in the driver program? Let us explore this further.\n",
        "\n",
        "First let us reinitialize our spark context and make it run more local workers."
      ]
    },
    {
      "cell_type": "code",
      "execution_count": null,
      "metadata": {
        "id": "orEOT2UbVqbW"
      },
      "outputs": [],
      "source": [
        "from pyspark import SparkContext, SparkConf\n",
        "\n",
        "conf = SparkConf().set('spark.ui.port', '4050').setAppName(\"mlibs\").setMaster(\"local[8]\")\n",
        "sc = SparkContext.getOrCreate(conf=conf)"
      ]
    },
    {
      "cell_type": "markdown",
      "metadata": {
        "id": "RlmQmoJoWXu9"
      },
      "source": [
        "Now we will create a large local list and reference it in the lambda in the map."
      ]
    },
    {
      "cell_type": "code",
      "execution_count": null,
      "metadata": {
        "id": "oKQGZt4oKYdH",
        "colab": {
          "base_uri": "https://localhost:8080/"
        },
        "outputId": "cabe9ec5-c3c0-4a93-d0ec-bfefbe9b3bd5"
      },
      "outputs": [
        {
          "output_type": "stream",
          "name": "stdout",
          "text": [
            "Iteration 0\n",
            "===========\n",
            "[[1000000, 1000000, 1000000, 1000000, 1000000, 1000000], [1000000, 1000000, 1000000, 1000000, 1000000, 1000000], [1000000, 1000000, 1000000, 1000000, 1000000, 1000000], [1000000, 1000000, 1000000, 1000000, 1000000, 1000000, 1000000], [1000000, 1000000, 1000000, 1000000, 1000000, 1000000], [1000000, 1000000, 1000000, 1000000, 1000000, 1000000], [1000000, 1000000, 1000000, 1000000, 1000000, 1000000], [1000000, 1000000, 1000000, 1000000, 1000000, 1000000, 1000000]]\n",
            "Iteration 0 took 1.7015682580000089 seconds\n",
            "\n",
            "Iteration 1\n",
            "===========\n",
            "[[1000000, 1000000, 1000000, 1000000, 1000000, 1000000], [1000000, 1000000, 1000000, 1000000, 1000000, 1000000], [1000000, 1000000, 1000000, 1000000, 1000000, 1000000], [1000000, 1000000, 1000000, 1000000, 1000000, 1000000, 1000000], [1000000, 1000000, 1000000, 1000000, 1000000, 1000000], [1000000, 1000000, 1000000, 1000000, 1000000, 1000000], [1000000, 1000000, 1000000, 1000000, 1000000, 1000000], [1000000, 1000000, 1000000, 1000000, 1000000, 1000000, 1000000]]\n",
            "Iteration 1 took 1.639960211000016 seconds\n",
            "\n",
            "Iteration 2\n",
            "===========\n",
            "[[1000000, 1000000, 1000000, 1000000, 1000000, 1000000], [1000000, 1000000, 1000000, 1000000, 1000000, 1000000], [1000000, 1000000, 1000000, 1000000, 1000000, 1000000], [1000000, 1000000, 1000000, 1000000, 1000000, 1000000, 1000000], [1000000, 1000000, 1000000, 1000000, 1000000, 1000000], [1000000, 1000000, 1000000, 1000000, 1000000, 1000000], [1000000, 1000000, 1000000, 1000000, 1000000, 1000000], [1000000, 1000000, 1000000, 1000000, 1000000, 1000000, 1000000]]\n",
            "Iteration 2 took 1.635969072000023 seconds\n",
            "\n"
          ]
        }
      ],
      "source": [
        "import time\n",
        "\n",
        "slices = 8  # change me\n",
        "list_size = 1000000  # change me\n",
        "times_to_count_len = 50  # change me\n",
        "\n",
        "list1 = list(range(list_size))\n",
        "\n",
        "for i in range(3):\n",
        "   print(f\"Iteration {i}\")\n",
        "   print(\"===========\")\n",
        "   start_time = time.perf_counter()\n",
        "   observed_sizes = sc.parallelize(range(times_to_count_len), slices).map(lambda x: len(list1))\n",
        "   # Collect the small RDD so we can print the observed sizes locally.\n",
        "   print(observed_sizes.glom().collect())\n",
        "   print(f\"Iteration {i} took {time.perf_counter() - start_time} seconds\")\n",
        "   print()"
      ]
    },
    {
      "cell_type": "markdown",
      "metadata": {
        "id": "bTAvn0akXZ5S"
      },
      "source": [
        "Here the driver program is the bottleneck. The large list has to be transferred from it to all worker nodes. Spark has a mechanism for that called broadcast variables. Compare the running times."
      ]
    },
    {
      "cell_type": "code",
      "execution_count": null,
      "metadata": {
        "colab": {
          "base_uri": "https://localhost:8080/"
        },
        "id": "rN48017ISUj1",
        "outputId": "b70a6f41-700f-4994-95a9-bd18e897879b"
      },
      "outputs": [
        {
          "output_type": "stream",
          "name": "stdout",
          "text": [
            "Iteration 0\n",
            "===========\n",
            "[[1000000, 1000000, 1000000, 1000000, 1000000, 1000000], [1000000, 1000000, 1000000, 1000000, 1000000, 1000000], [1000000, 1000000, 1000000, 1000000, 1000000, 1000000], [1000000, 1000000, 1000000, 1000000, 1000000, 1000000, 1000000], [1000000, 1000000, 1000000, 1000000, 1000000, 1000000], [1000000, 1000000, 1000000, 1000000, 1000000, 1000000], [1000000, 1000000, 1000000, 1000000, 1000000, 1000000], [1000000, 1000000, 1000000, 1000000, 1000000, 1000000, 1000000]]\n",
            "Iteration 0 took 0.3143374329999915 seconds\n",
            "\n",
            "Iteration 1\n",
            "===========\n",
            "[[1000000, 1000000, 1000000, 1000000, 1000000, 1000000], [1000000, 1000000, 1000000, 1000000, 1000000, 1000000], [1000000, 1000000, 1000000, 1000000, 1000000, 1000000], [1000000, 1000000, 1000000, 1000000, 1000000, 1000000, 1000000], [1000000, 1000000, 1000000, 1000000, 1000000, 1000000], [1000000, 1000000, 1000000, 1000000, 1000000, 1000000], [1000000, 1000000, 1000000, 1000000, 1000000, 1000000], [1000000, 1000000, 1000000, 1000000, 1000000, 1000000, 1000000]]\n",
            "Iteration 1 took 0.3411886119999963 seconds\n",
            "\n",
            "Iteration 2\n",
            "===========\n",
            "[[1000000, 1000000, 1000000, 1000000, 1000000, 1000000], [1000000, 1000000, 1000000, 1000000, 1000000, 1000000], [1000000, 1000000, 1000000, 1000000, 1000000, 1000000], [1000000, 1000000, 1000000, 1000000, 1000000, 1000000, 1000000], [1000000, 1000000, 1000000, 1000000, 1000000, 1000000], [1000000, 1000000, 1000000, 1000000, 1000000, 1000000], [1000000, 1000000, 1000000, 1000000, 1000000, 1000000], [1000000, 1000000, 1000000, 1000000, 1000000, 1000000, 1000000]]\n",
            "Iteration 2 took 0.2871314640000264 seconds\n",
            "\n"
          ]
        }
      ],
      "source": [
        "import time\n",
        "\n",
        "slices = 8  # change me\n",
        "list_size = 1000000  # change me\n",
        "times_to_count_len = 50  # change me\n",
        "\n",
        "list1 = list(range(list_size))\n",
        "\n",
        "for i in range(3):\n",
        "   print(f\"Iteration {i}\")\n",
        "   print(\"===========\")\n",
        "   start_time = time.perf_counter()\n",
        "\n",
        "   # all changes are in this two lines\n",
        "   blist1 = sc.broadcast(list1)\n",
        "   observed_sizes = sc.parallelize(range(times_to_count_len), slices).map(lambda x: len(blist1.value))\n",
        "   \n",
        "   # Collect the small RDD so we can print the observed sizes locally.\n",
        "   print(observed_sizes.glom().collect())\n",
        "   print(f\"Iteration {i} took {time.perf_counter() - start_time} seconds\")\n",
        "   print()"
      ]
    },
    {
      "cell_type": "markdown",
      "metadata": {
        "id": "CvRWsc93Z3GC"
      },
      "source": [
        "## Exercise 1 and 2\n",
        "Implement matrix multiplication with both methods from the lecture. You can use the following sample data to test your Spark solution. For combining two RDDs you can use the `union` transformation. Also use `flatMap`,  `groupByKey` and `aggregateByKey/combineByKey` and `groupByKey` and `mapValues` for solution 2."
      ]
    },
    {
      "cell_type": "code",
      "execution_count": 28,
      "metadata": {
        "colab": {
          "base_uri": "https://localhost:8080/"
        },
        "id": "AV7PGRiqaSkX",
        "outputId": "ca3a8d4d-bab3-4c22-9487-15f37f53a5f6"
      },
      "outputs": [
        {
          "output_type": "stream",
          "name": "stdout",
          "text": [
            "M=[((0, 0), 1), ((0, 1), 2), ((0, 2), 3), ((1, 0), 4), ((1, 1), 5), ((1, 2), 6), ((2, 0), 7), ((2, 1), 8), ((2, 2), 9)]\n",
            "N=[((0, 0), 1), ((0, 1), 2), ((1, 0), 3), ((1, 1), 4), ((2, 0), 5), ((2, 1), 6)]\n",
            "MN=[((0, 0), 22), ((0, 1), 28), ((1, 0), 49), ((1, 1), 64), ((2, 0), 76), ((2, 1), 100)]\n"
          ]
        }
      ],
      "source": [
        "import numpy as np\n",
        "\n",
        "def to_sparse(arr):\n",
        "  for r in range(len(arr)):\n",
        "    for c in range(len(arr[0])):\n",
        "      yield ((r,c), arr[r][c])\n",
        "\n",
        "M = [[1,2,3], [4,5,6], [7,8,9]]\n",
        "N = [[1,2], [3,4], [5,6]]\n",
        "MN = np.matmul(M,N)  # [[22,28], [49,64], [76,100]]\n",
        "\n",
        "print(f\"M={list(to_sparse(M))}\")\n",
        "print(f\"N={list(to_sparse(N))}\")\n",
        "print(f\"MN={list(to_sparse(MN))}\")"
      ]
    },
    {
      "cell_type": "code",
      "execution_count": 27,
      "metadata": {
        "id": "UcNyNeE6ikLO"
      },
      "outputs": [],
      "source": [
        "from collections import defaultdict\n",
        "from operator import add\n",
        "I = len(M)  \n",
        "J = len(M[0])  # =len(N)\n",
        "K = len(N[0])\n",
        "\n",
        "Mrdd = sc.parallelize(to_sparse(M))\n",
        "Nrdd = sc.parallelize(to_sparse(N))\n",
        "\n",
        "# put your code here (using solution 1)\n",
        "\n",
        "\n",
        "def matmul_pararel(M, N):\n",
        "\n",
        "    def combine(l, s):\n",
        "      x = l[1] + s[1]\n",
        "      for a in l[0]:\n",
        "          for b in s[0]:\n",
        "              if a[-1] != b[-1]:\n",
        "                if a[-1] == 'M':\n",
        "                  idx = (a[0], b[0])\n",
        "                else:\n",
        "                  idx = (b[0], a[0])\n",
        "                prod = a[1] * b[1]\n",
        "                x.append((idx, prod))\n",
        "      return l[0] + s[0], x \n",
        "\n",
        "    def merge(cmb, n):\n",
        "      ms, x = cmb\n",
        "      if n[-1] != 'N':\n",
        "        ms.append(n)\n",
        "        return ms, x\n",
        "\n",
        "      for m in ms:\n",
        "        if m[-1] == 'M':\n",
        "          idx = (m[0], n[0])\n",
        "          prod = n[1] * m[1]\n",
        "          x.append((idx, prod))\n",
        "\n",
        "      ms.append(n)\n",
        "      x_new = (ms, x)\n",
        "      return x_new\n",
        "\n",
        "    M_ = M.map(lambda x: (x[0][1], (x[0][0], x[1], 'M')))\n",
        "    N_ = N.map(lambda x: (x[0][0], (x[0][1], x[1], 'N')))\n",
        "    union = M_.union(N_)\n",
        "\n",
        "    return union.combineByKey(lambda x: ([x], []), merge, combine).flatMap(lambda x: x[1][1]).groupByKey().mapValues(sum)"
      ]
    },
    {
      "cell_type": "code",
      "source": [
        "sorted(matmul_pararel(Mrdd, Nrdd).collect())"
      ],
      "metadata": {
        "colab": {
          "base_uri": "https://localhost:8080/"
        },
        "id": "0FI4umOdAOMQ",
        "outputId": "021660a6-827a-44fe-a0f2-dc16410342a4"
      },
      "execution_count": 29,
      "outputs": [
        {
          "output_type": "execute_result",
          "data": {
            "text/plain": [
              "[((0, 0), 22),\n",
              " ((0, 1), 28),\n",
              " ((1, 0), 49),\n",
              " ((1, 1), 64),\n",
              " ((2, 0), 76),\n",
              " ((2, 1), 100)]"
            ]
          },
          "metadata": {},
          "execution_count": 29
        }
      ]
    },
    {
      "cell_type": "code",
      "execution_count": 30,
      "metadata": {
        "id": "ijNMasM3-A24",
        "colab": {
          "base_uri": "https://localhost:8080/"
        },
        "outputId": "a5ac5e73-785f-47c5-d787-cce35b62acd3"
      },
      "outputs": [
        {
          "output_type": "execute_result",
          "data": {
            "text/plain": [
              "[((0, 0), 22),\n",
              " ((0, 1), 28),\n",
              " ((1, 0), 49),\n",
              " ((1, 1), 64),\n",
              " ((2, 0), 76),\n",
              " ((2, 1), 100)]"
            ]
          },
          "metadata": {},
          "execution_count": 30
        }
      ],
      "source": [
        "from collections import defaultdict\n",
        "I = len(M)  \n",
        "J = len(M[0])  # =len(N)\n",
        "K = len(N[0])\n",
        "\n",
        "Mrdd = sc.parallelize(to_sparse(M))\n",
        "Nrdd = sc.parallelize(to_sparse(N))\n",
        "\n",
        "# put your code here (using solution 2)\n",
        "\n",
        "merged_M = Mrdd.flatMap(lambda x: [((x[0][0], k), (x[0][1], x[1])) for k in range(K)])\n",
        "merged_N = Nrdd.flatMap(lambda x: [((j, x[0][1]), (x[0][0], x[1])) for j in range(J)])\n",
        "merged = merged_M.union(merged_N).groupByKey()\n",
        "\n",
        "def matmul_pararel(ls):\n",
        "  dict_ = {}\n",
        "  tmp = 0\n",
        "  for x in ls:\n",
        "    if x[0] not in dict_:\n",
        "      dict_[x[0]] = x[1]\n",
        "    else:\n",
        "      tmp += dict_[x[0]] * x[1]\n",
        "\n",
        "  return tmp\n",
        "\n",
        "sorted(merged.mapValues(matmul_pararel).collect())"
      ]
    },
    {
      "cell_type": "markdown",
      "metadata": {
        "id": "0klBlOWcai_8"
      },
      "source": [
        "## Exercise 3\n",
        "Your goal is to join two collections by key. One collection (A) is \"big data\" size and has to be processed on many machines and the other one (B) is small enough to fit in memory of a single machine. Implement the join by using RDD with the first collection and a broadcast variable with the second one."
      ]
    },
    {
      "cell_type": "code",
      "execution_count": 31,
      "metadata": {
        "id": "OuuIkdY9nTpO",
        "colab": {
          "base_uri": "https://localhost:8080/"
        },
        "outputId": "d0dba122-1630-44fa-e5e3-73ebf0f8e85d"
      },
      "outputs": [
        {
          "output_type": "stream",
          "name": "stdout",
          "text": [
            "A=[(1, 2), (1, 3), (2, 2)]\n",
            "B=[(2, 4), (3, 4), (3, 5)]\n",
            "AjoinB=[(1, 2, 4), (1, 3, 4), (1, 3, 5), (2, 2, 4)]\n"
          ]
        }
      ],
      "source": [
        "A = [(1,2), (1,3), (2,2)]  # A(X,Y)\n",
        "B = [(2,4), (3,4), (3,5)]  # B(Y,Z)\n",
        "AjoinB = [(1,2,4), (1,3,4), (1,3,5), (2,2,4)]  # A(X,Y) join B(Y,Z) on Y\n",
        "\n",
        "print(f\"A={A}\")\n",
        "print(f\"B={B}\")\n",
        "print(f\"AjoinB={AjoinB}\")"
      ]
    },
    {
      "cell_type": "code",
      "execution_count": 32,
      "metadata": {
        "id": "jYfn7HRqnslk",
        "colab": {
          "base_uri": "https://localhost:8080/"
        },
        "outputId": "347c6795-ebb6-440f-ac9d-cbc8a1bda9b5"
      },
      "outputs": [
        {
          "output_type": "execute_result",
          "data": {
            "text/plain": [
              "[(1, 2, 4), (1, 3, 4), (1, 3, 5), (2, 2, 4)]"
            ]
          },
          "metadata": {},
          "execution_count": 32
        }
      ],
      "source": [
        "# put your code here \n",
        "\n",
        "def join_collections_by_key(a, b):\n",
        "    a = sc.parallelize(a)\n",
        "    b = sc.broadcast(b)\n",
        "    return a.flatMap(lambda x: [(*x, y[1]) for y in b.value if x[1] == y[0]])\n",
        "\n",
        "join_collections_by_key(A, B).collect()"
      ]
    },
    {
      "cell_type": "markdown",
      "metadata": {
        "id": "ksT9dLxgl9je"
      },
      "source": [
        "<center><img src='https://drive.google.com/uc?id=1BXZ0u3562N_MqCLcekI-Ens77Kk4LpPm'></center>"
      ]
    }
  ],
  "metadata": {
    "colab": {
      "provenance": [],
      "toc_visible": true
    },
    "kernelspec": {
      "display_name": "Python 3",
      "name": "python3"
    },
    "language_info": {
      "name": "python"
    }
  },
  "nbformat": 4,
  "nbformat_minor": 0
}