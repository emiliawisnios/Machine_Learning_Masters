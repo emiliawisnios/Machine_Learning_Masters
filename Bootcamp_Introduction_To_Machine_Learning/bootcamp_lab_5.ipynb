{
  "nbformat": 4,
  "nbformat_minor": 0,
  "metadata": {
    "kernelspec": {
      "display_name": "Python 3 (ipykernel)",
      "language": "python",
      "name": "python3"
    },
    "language_info": {
      "codemirror_mode": {
        "name": "ipython",
        "version": 3
      },
      "file_extension": ".py",
      "mimetype": "text/x-python",
      "name": "python",
      "nbconvert_exporter": "python",
      "pygments_lexer": "ipython3",
      "version": "3.8.11"
    },
    "colab": {
      "name": "Bootcamp - ML, Lab 5: experiment tracking - student version.ipynb",
      "provenance": [],
      "collapsed_sections": []
    }
  },
  "cells": [
    {
      "cell_type": "markdown",
      "metadata": {
        "id": "DoAhs9yh1g7u"
      },
      "source": [
        "<center><img src='https://drive.google.com/uc?id=1_utx_ZGclmCwNttSe40kYA6VHzNocdET' height=\"60\"></center>\n",
        "\n",
        "AI TECH - Akademia Innowacyjnych Zastosowań Technologii Cyfrowych. Programu Operacyjnego Polska Cyfrowa na lata 2014-2020\n",
        "<hr>\n",
        "\n",
        "<center><img src='https://drive.google.com/uc?id=1BXZ0u3562N_MqCLcekI-Ens77Kk4LpPm'></center>\n",
        "\n",
        "<center>\n",
        "Projekt współfinansowany ze środków Unii Europejskiej w ramach Europejskiego Funduszu Rozwoju Regionalnego \n",
        "Program Operacyjny Polska Cyfrowa na lata 2014-2020,\n",
        "Oś Priorytetowa nr 3 \"Cyfrowe kompetencje społeczeństwa\" Działanie  nr 3.2 \"Innowacyjne rozwiązania na rzecz aktywizacji cyfrowej\" \n",
        "Tytuł projektu:  „Akademia Innowacyjnych Zastosowań Technologii Cyfrowych (AI Tech)”\n",
        "</center>"
      ]
    },
    {
      "cell_type": "markdown",
      "metadata": {
        "id": "0tmvM4K3am4N"
      },
      "source": [
        "# Experiment tracking with ClearML\n",
        "\n",
        "In this lab, you will yet again train a softmax regression model. However, this time, you will log the training diagnostics into the open-source experiment tracking tool called ClearML. You will learn how to analyse the results of many runs.\n",
        "\n",
        "There are many experiments tracking tools on the market, most of them are paid (with free student accounts). Here, we are using ClearML, because it is an open-source tool. Alternatives worth knowing about are: Neptune, Weights&Biases, Comet.\n",
        "\n",
        "The general setup is as follows:\n",
        "* we are given the softmax regression model from the previous exercise and the same dataset,\n",
        "* we log the matplotlib plots,\n",
        "* we log the training metrics, hyper-parameters, and weights of the model in different configurations,\n",
        "* we configure a leaderboard: sort, filter, and tag experiments,\n",
        "* we compare the results using ClearML GUI,\n",
        "* we download the metrics and plot the results manually in this jupyter notebook."
      ]
    },
    {
      "cell_type": "markdown",
      "metadata": {
        "id": "7DAY32d1am4T"
      },
      "source": [
        "### Step 0. Let's start by setting up the environment.\n",
        "\n",
        "1. [Sign up](https://app.community.clear.ml/) for free.\n",
        "1. Set your ClearML credentials.\n",
        "    1. Go to your [ClearML WebApp **Profile**](https://app.community.clear.ml/profile). \n",
        "    1. Under the **WORKSPACES** section, go to **App Credentials**, and click **+ Create new credentials**.  \n",
        "       <img src=\"https://i.postimg.cc/43p69jSh/Screenshot-2021-10-12-at-09-48-31.png\" width=\"400\">\n",
        "    1. Copy your credentials (**access_key** and **secret_key**) into the form below.  \n",
        "       <img src=\"https://i.postimg.cc/tJFJSHFh/Screenshot-2021-10-12-at-09-56-21.png\" width=\"400\">\n",
        "1. Run all the step's cells below (in order).  \n",
        "  _You can ignore their content._"
      ]
    },
    {
      "cell_type": "code",
      "metadata": {
        "id": "S6dGPPnndd7k",
        "colab": {
          "base_uri": "https://localhost:8080/"
        },
        "outputId": "09cd39d4-9c24-4734-d5c4-294223c05fde"
      },
      "source": [
        "!pip install clearml\n",
        "!pip install plotly==5.3.1"
      ],
      "execution_count": 1,
      "outputs": [
        {
          "output_type": "stream",
          "name": "stdout",
          "text": [
            "Collecting clearml\n",
            "  Downloading clearml-1.1.2-py2.py3-none-any.whl (1.0 MB)\n",
            "\u001b[K     |████████████████████████████████| 1.0 MB 5.1 MB/s \n",
            "\u001b[?25hRequirement already satisfied: numpy>=1.10 in /usr/local/lib/python3.7/dist-packages (from clearml) (1.19.5)\n",
            "Collecting furl>=2.0.0\n",
            "  Downloading furl-2.1.3-py2.py3-none-any.whl (20 kB)\n",
            "Collecting pyjwt<2.2.0,>=1.6.4\n",
            "  Downloading PyJWT-2.1.0-py3-none-any.whl (16 kB)\n",
            "Requirement already satisfied: PyYAML>=3.12 in /usr/local/lib/python3.7/dist-packages (from clearml) (3.13)\n",
            "Requirement already satisfied: urllib3>=1.21.1 in /usr/local/lib/python3.7/dist-packages (from clearml) (1.24.3)\n",
            "Requirement already satisfied: six>=1.11.0 in /usr/local/lib/python3.7/dist-packages (from clearml) (1.15.0)\n",
            "Requirement already satisfied: psutil>=3.4.2 in /usr/local/lib/python3.7/dist-packages (from clearml) (5.4.8)\n",
            "Collecting pathlib2>=2.3.0\n",
            "  Downloading pathlib2-2.3.6-py2.py3-none-any.whl (17 kB)\n",
            "Requirement already satisfied: jsonschema>=2.6.0 in /usr/local/lib/python3.7/dist-packages (from clearml) (2.6.0)\n",
            "Requirement already satisfied: Pillow>=4.1.1 in /usr/local/lib/python3.7/dist-packages (from clearml) (7.1.2)\n",
            "Requirement already satisfied: requests>=2.20.0 in /usr/local/lib/python3.7/dist-packages (from clearml) (2.23.0)\n",
            "Requirement already satisfied: future>=0.16.0 in /usr/local/lib/python3.7/dist-packages (from clearml) (0.16.0)\n",
            "Requirement already satisfied: python-dateutil>=2.6.1 in /usr/local/lib/python3.7/dist-packages (from clearml) (2.8.2)\n",
            "Requirement already satisfied: attrs>=18.0 in /usr/local/lib/python3.7/dist-packages (from clearml) (21.2.0)\n",
            "Requirement already satisfied: pyparsing>=2.0.3 in /usr/local/lib/python3.7/dist-packages (from clearml) (2.4.7)\n",
            "Collecting orderedmultidict>=1.0.1\n",
            "  Downloading orderedmultidict-1.0.1-py2.py3-none-any.whl (11 kB)\n",
            "Requirement already satisfied: chardet<4,>=3.0.2 in /usr/local/lib/python3.7/dist-packages (from requests>=2.20.0->clearml) (3.0.4)\n",
            "Requirement already satisfied: idna<3,>=2.5 in /usr/local/lib/python3.7/dist-packages (from requests>=2.20.0->clearml) (2.10)\n",
            "Requirement already satisfied: certifi>=2017.4.17 in /usr/local/lib/python3.7/dist-packages (from requests>=2.20.0->clearml) (2021.5.30)\n",
            "Installing collected packages: orderedmultidict, pyjwt, pathlib2, furl, clearml\n",
            "Successfully installed clearml-1.1.2 furl-2.1.3 orderedmultidict-1.0.1 pathlib2-2.3.6 pyjwt-2.1.0\n",
            "Collecting plotly==5.3.1\n",
            "  Downloading plotly-5.3.1-py2.py3-none-any.whl (23.9 MB)\n",
            "\u001b[K     |████████████████████████████████| 23.9 MB 14 kB/s \n",
            "\u001b[?25hCollecting tenacity>=6.2.0\n",
            "  Downloading tenacity-8.0.1-py3-none-any.whl (24 kB)\n",
            "Requirement already satisfied: six in /usr/local/lib/python3.7/dist-packages (from plotly==5.3.1) (1.15.0)\n",
            "Installing collected packages: tenacity, plotly\n",
            "  Attempting uninstall: plotly\n",
            "    Found existing installation: plotly 4.4.1\n",
            "    Uninstalling plotly-4.4.1:\n",
            "      Successfully uninstalled plotly-4.4.1\n",
            "Successfully installed plotly-5.3.1 tenacity-8.0.1\n"
          ]
        }
      ]
    },
    {
      "cell_type": "code",
      "metadata": {
        "id": "oMY0hQrPdj9y"
      },
      "source": [
        "#@title Insert your own Credentials\n",
        "\n",
        "from clearml import Task\n",
        "\n",
        "web_server = 'https://app.community.clear.ml'\n",
        "api_server = 'https://api.community.clear.ml'\n",
        "files_server = 'https://files.community.clear.ml'\n",
        "access_key = ' UJBOD9XPDF9UKEZF5ZIO'#@param {type:\"string\"}\n",
        "secret_key = ' 8rYBJfp25K6DV2EWyn2EBwEt1tE8m3jbDEadqoi7AWiKwTV3yK'#@param {type:\"string\"}\n",
        "\n",
        "Task.set_credentials(web_host=web_server,\n",
        "                     api_host=api_server,\n",
        "                     files_host=files_server,\n",
        "                     key=access_key,\n",
        "                     secret=secret_key)"
      ],
      "execution_count": 2,
      "outputs": []
    },
    {
      "cell_type": "code",
      "metadata": {
        "id": "S6mYL9_sam4U"
      },
      "source": [
        "%matplotlib inline\n",
        "\n",
        "import matplotlib.pyplot as plt\n",
        "import numpy as np\n",
        "import pandas as pd\n",
        "import plotly.express as px"
      ],
      "execution_count": 3,
      "outputs": []
    },
    {
      "cell_type": "code",
      "metadata": {
        "id": "0QdJW_v7am4V",
        "colab": {
          "base_uri": "https://localhost:8080/"
        },
        "outputId": "bfd58024-7691-4f5f-fdb7-5d5660008352"
      },
      "source": [
        "# Imports and loads MNIST.\n",
        "\n",
        "!wget -O mnist.npz https://s3.amazonaws.com/img-datasets/mnist.npz\n",
        "\n",
        "def load_mnist(path='mnist.npz'):\n",
        "    with np.load(path) as f:\n",
        "        x_train, _y_train = f['x_train'], f['y_train']\n",
        "        x_test, _y_test = f['x_test'], f['y_test']\n",
        "        \n",
        "    x_train = x_train.reshape(-1, 28 * 28) / 255.\n",
        "    x_test = x_test.reshape(-1, 28 * 28) / 255.\n",
        "    \n",
        "    y_train = np.zeros((_y_train.shape[0], 10))\n",
        "    y_train[np.arange(_y_train.shape[0]), _y_train] = 1\n",
        "    \n",
        "    y_test = np.zeros((_y_test.shape[0], 10))\n",
        "    y_test[np.arange(_y_test.shape[0]), _y_test] = 1\n",
        "\n",
        "    return (x_train, y_train), (x_test, y_test)\n",
        "\n",
        "(x_train, y_train), (x_test, y_test) = load_mnist()\n",
        "X = x_train[:4000]\n",
        "y = y_train[:4000]\n",
        "\n",
        "# Defines the model.\n",
        "\n",
        "def softmax(z):\n",
        "    z = np.exp(z)\n",
        "    return z / np.sum(z, axis=1).reshape(-1,1)\n",
        "\n",
        "def predict(weights, X):\n",
        "    return softmax(X.dot(weights))\n",
        "\n",
        "def compute_loss_and_gradients(weights, X, y, l2_reg):\n",
        "    N = X.shape[0]\n",
        "    prob = predict(weights, X)\n",
        "    p = prob[np.arange(prob.shape[0]), y.argmax(axis=1)]\n",
        "    loss = - np.log(p)\n",
        "    \n",
        "    grad = (1 / N) * np.dot(X.T,(prob - y)) + l2_reg * weights\n",
        "    return loss.mean(), grad"
      ],
      "execution_count": 4,
      "outputs": [
        {
          "output_type": "stream",
          "name": "stdout",
          "text": [
            "--2021-10-12 16:24:00--  https://s3.amazonaws.com/img-datasets/mnist.npz\n",
            "Resolving s3.amazonaws.com (s3.amazonaws.com)... 52.216.141.102\n",
            "Connecting to s3.amazonaws.com (s3.amazonaws.com)|52.216.141.102|:443... connected.\n",
            "HTTP request sent, awaiting response... 200 OK\n",
            "Length: 11490434 (11M) [application/octet-stream]\n",
            "Saving to: ‘mnist.npz’\n",
            "\n",
            "mnist.npz           100%[===================>]  10.96M  36.7MB/s    in 0.3s    \n",
            "\n",
            "2021-10-12 16:24:00 (36.7 MB/s) - ‘mnist.npz’ saved [11490434/11490434]\n",
            "\n"
          ]
        }
      ]
    },
    {
      "cell_type": "markdown",
      "metadata": {
        "id": "zN9rSsBWam4b"
      },
      "source": [
        "### Step 1. Auto-log experiment\n",
        "\n",
        "Log the training metrics of a softmax regression model for handwritten digits recognition. Follow instructions in the [First Steps: Auto-log Experiment](https://clear.ml/docs/latest/docs/getting_started/ds/ds_first_steps#auto-log-experiment) guide.\n",
        "\n",
        "Hint: \n",
        "<sub><sup><sub><sup><sub><sup>\n",
        "ClearML will save everything you plot using matplotlib.\n",
        "</sup></sub></sup></sub></sup></sub>"
      ]
    },
    {
      "cell_type": "code",
      "metadata": {
        "id": "9anvP166am4c",
        "colab": {
          "base_uri": "https://localhost:8080/",
          "height": 935
        },
        "outputId": "c3ccf928-935b-4641-d5d1-bd2f7610132b"
      },
      "source": [
        "l2_reg = 0.5\n",
        "n_epochs = 250\n",
        "lr = 0.05\n",
        "t = 0.99\n",
        "\n",
        "############################\n",
        "# TODO: Initialize a task. #\n",
        "############################\n",
        "# Set project_name='clearml_lab' and task_name='auto_log_experiment'.\n",
        "task = Task.init(project_name='clearml_lab', task_name='auto_log_experiment')\n",
        "\n",
        "# Initializes weights.\n",
        "weights = np.zeros([X.shape[1], 10])\n",
        "\n",
        "losses = []\n",
        "train_accs = []\n",
        "test_accs = []\n",
        "for i in range(n_epochs):\n",
        "    loss, grad = compute_loss_and_gradients(weights, X, y, l2_reg)\n",
        "    losses.append(loss)\n",
        "    \n",
        "    # Calculates accuracies.\n",
        "    train_accs.append(\n",
        "        np.mean(predict(weights, x_train).argmax(axis=1) == y_train.argmax(axis=1)))\n",
        "    test_accs.append(\n",
        "        np.mean(predict(weights, x_test).argmax(axis=1) == y_test.argmax(axis=1)))\n",
        "    \n",
        "    weights -= lr * grad\n",
        "    lr *= t\n",
        "\n",
        "#####################################################################\n",
        "# TODO: Log loss and accuracy (train and test) throughout training. #\n",
        "#####################################################################\n",
        "plt.plot(losses)\n",
        "plt.title('Loss')\n",
        "plt.xlabel('Epochs')\n",
        "plt.ylabel('Multiclass log loss')\n",
        "plt.show()\n",
        "\n",
        "plt.plot(train_accs)\n",
        "plt.title('Train accuracy')\n",
        "plt.xlabel('Epochs')\n",
        "plt.ylabel('Accuracy [%]')\n",
        "plt.show()\n",
        "\n",
        "plt.plot(test_accs)\n",
        "plt.title('Test accuracy')\n",
        "plt.xlabel('Epochs')\n",
        "plt.ylabel('Accuracy [%]')\n",
        "plt.show()\n",
        "\n",
        "task.close() # It's important to close the task before creating another one!"
      ],
      "execution_count": 5,
      "outputs": [
        {
          "output_type": "stream",
          "name": "stdout",
          "text": [
            "ClearML Task: created new task id=aabd59826fb04919a3c10aec1f232e91\n",
            "2021-10-12 16:27:26,130 - clearml.Task - INFO - No repository found, storing script code instead\n",
            "ClearML results page: https://app.community.clear.ml/projects/d091239091214f4fa0d0c4ec7db4ae4e/experiments/aabd59826fb04919a3c10aec1f232e91/output/log\n"
          ]
        },
        {
          "output_type": "display_data",
          "data": {
            "image/png": "[encoded data removed]",
            "text/plain": [
              "<Figure size 432x288 with 1 Axes>"
            ]
          },
          "metadata": {
            "needs_background": "light"
          }
        },
        {
          "output_type": "display_data",
          "data": {
            "image/png": "[encoded data removed]",
            "text/plain": [
              "<Figure size 432x288 with 1 Axes>"
            ]
          },
          "metadata": {
            "needs_background": "light"
          }
        },
        {
          "output_type": "display_data",
          "data": {
            "image/png": "[encoded data removed]",
            "text/plain": [
              "<Figure size 432x288 with 1 Axes>"
            ]
          },
          "metadata": {
            "needs_background": "light"
          }
        },
        {
          "output_type": "stream",
          "name": "stdout",
          "text": [
            "2021-10-12 16:28:27,098 - clearml.Task - INFO - Waiting to finish uploads\n",
            "2021-10-12 16:28:27,672 - clearml.Task - INFO - Finished uploading\n"
          ]
        }
      ]
    },
    {
      "cell_type": "markdown",
      "metadata": {
        "id": "MqQDJLUVam4d"
      },
      "source": [
        "Now you can go to the ClearML dashboard and see the plots there. Follow:\n",
        "1. Open `https://app.community.clear.ml/`.\n",
        "1. _Log in._\n",
        "1. Hit \"Projects\" in the left sidebar.\n",
        "1. Pick your project.\n",
        "1. Pick your experiment.\n",
        "1. Hit \"Results\".\n",
        "1. Hit \"Plots\".\n",
        "\n",
        "_Fun fact:_ These curves seem pretty smooth. However, zoom in the test accuracy around the `[0.79, 0.81]` range on the y-axis and you'll see fluctuations in the performance. To do this, simply catch with your pointer a little above the accuracy plateau and drag it a little below it."
      ]
    },
    {
      "cell_type": "markdown",
      "metadata": {
        "id": "x2_o7Y6dam4d"
      },
      "source": [
        "### Step 2. Metrics, hyper-parameters, and weights logging\n",
        "\n",
        "Now we will log scalar metrics (instead of the whole plots like before), hyper-parameters, and model weights. See the [Next Steps](https://clear.ml/docs/latest/docs/getting_started/ds/ds_second_steps) guide."
      ]
    },
    {
      "cell_type": "code",
      "metadata": {
        "scrolled": true,
        "id": "L9iruFynam4e",
        "colab": {
          "base_uri": "https://localhost:8080/"
        },
        "outputId": "a24ebe9e-301a-4be9-b0da-add3f4dad017"
      },
      "source": [
        "config = {\n",
        "    'l2_reg': 0.0005,\n",
        "    'n_epochs': 100,\n",
        "    'lr': 0.00005,\n",
        "    't': 0.99\n",
        "}\n",
        "\n",
        "# Creates a task.\n",
        "# We do not use `init` because we will not use auto-logging here.\n",
        "task = Task.create(project_name='clearml_lab', task_name='manual_log_experiment')\n",
        "# When task is created with `create`, we need to (but don't have to) manually mark it started/completed/etc.\n",
        "task.mark_started()\n",
        "logger = task.get_logger()\n",
        "\n",
        "###################################\n",
        "# TODO: Log the hyper-parameters. #\n",
        "###################################\n",
        "task.connect(config)\n",
        "\n",
        "# Initializes weights.\n",
        "weights = np.zeros([X.shape[1], 10])\n",
        "\n",
        "lr_ = config['lr']\n",
        "for i in range(config['n_epochs']):\n",
        "    loss, grad = compute_loss_and_gradients(weights, X, y, config['l2_reg'])\n",
        "    train_acc = np.mean(predict(weights, x_train).argmax(axis=1) == y_train.argmax(axis=1))\n",
        "    test_acc = np.mean(predict(weights, x_test).argmax(axis=1) == y_test.argmax(axis=1))\n",
        "    print(f'{i:3} | loss: {loss:.5f}, train_acc: {train_acc:.3f}, test_acc: {test_acc:.3f}')\n",
        "    \n",
        "    ###################################################\n",
        "    # TODO: Log the loss and the train/test accuracy. #\n",
        "    ###################################################\n",
        "    logger.report_scalar(title='Loss', series='Train', iteration=i, value=loss)\n",
        "    logger.report_scalar(title='Accuracy', series='Train', iteration=i, value=train_acc)\n",
        "    logger.report_scalar(title='Accuracy', series='Test', iteration=i, value=test_acc)\n",
        "\n",
        "    weights -= lr_ * grad\n",
        "    lr_ *= config['t']\n",
        "\n",
        "##########################################\n",
        "# TODO: Save the weights as an artifact. #\n",
        "##########################################\n",
        "task.upload_artifact(name='weights', artifact_object=weights)\n",
        "\n",
        "task.mark_completed()\n",
        "task.close()"
      ],
      "execution_count": 26,
      "outputs": [
        {
          "output_type": "stream",
          "name": "stdout",
          "text": [
            "  0 | loss: 2.30259, train_acc: 0.099, test_acc: 0.098\n",
            "  1 | loss: 2.30253, train_acc: 0.720, test_acc: 0.721\n",
            "  2 | loss: 2.30247, train_acc: 0.720, test_acc: 0.721\n",
            "  3 | loss: 2.30242, train_acc: 0.720, test_acc: 0.721\n",
            "  4 | loss: 2.30237, train_acc: 0.720, test_acc: 0.721\n",
            "  5 | loss: 2.30231, train_acc: 0.720, test_acc: 0.721\n",
            "  6 | loss: 2.30226, train_acc: 0.720, test_acc: 0.721\n",
            "  7 | loss: 2.30221, train_acc: 0.720, test_acc: 0.721\n",
            "  8 | loss: 2.30216, train_acc: 0.720, test_acc: 0.721\n",
            "  9 | loss: 2.30210, train_acc: 0.720, test_acc: 0.721\n",
            " 10 | loss: 2.30205, train_acc: 0.720, test_acc: 0.721\n",
            " 11 | loss: 2.30200, train_acc: 0.720, test_acc: 0.721\n",
            " 12 | loss: 2.30195, train_acc: 0.720, test_acc: 0.721\n",
            " 13 | loss: 2.30190, train_acc: 0.720, test_acc: 0.721\n",
            " 14 | loss: 2.30186, train_acc: 0.720, test_acc: 0.721\n",
            " 15 | loss: 2.30181, train_acc: 0.720, test_acc: 0.721\n",
            " 16 | loss: 2.30176, train_acc: 0.720, test_acc: 0.721\n",
            " 17 | loss: 2.30171, train_acc: 0.720, test_acc: 0.721\n",
            " 18 | loss: 2.30167, train_acc: 0.720, test_acc: 0.721\n",
            " 19 | loss: 2.30162, train_acc: 0.720, test_acc: 0.721\n",
            " 20 | loss: 2.30157, train_acc: 0.720, test_acc: 0.721\n",
            " 21 | loss: 2.30153, train_acc: 0.720, test_acc: 0.721\n",
            " 22 | loss: 2.30148, train_acc: 0.720, test_acc: 0.721\n",
            " 23 | loss: 2.30144, train_acc: 0.720, test_acc: 0.721\n",
            " 24 | loss: 2.30139, train_acc: 0.720, test_acc: 0.721\n",
            " 25 | loss: 2.30135, train_acc: 0.720, test_acc: 0.721\n",
            " 26 | loss: 2.30131, train_acc: 0.720, test_acc: 0.721\n",
            " 27 | loss: 2.30126, train_acc: 0.720, test_acc: 0.721\n",
            " 28 | loss: 2.30122, train_acc: 0.720, test_acc: 0.721\n",
            " 29 | loss: 2.30118, train_acc: 0.720, test_acc: 0.721\n",
            " 30 | loss: 2.30114, train_acc: 0.720, test_acc: 0.721\n",
            " 31 | loss: 2.30110, train_acc: 0.720, test_acc: 0.721\n",
            " 32 | loss: 2.30106, train_acc: 0.720, test_acc: 0.721\n",
            " 33 | loss: 2.30102, train_acc: 0.720, test_acc: 0.721\n",
            " 34 | loss: 2.30098, train_acc: 0.720, test_acc: 0.721\n",
            " 35 | loss: 2.30094, train_acc: 0.720, test_acc: 0.721\n",
            " 36 | loss: 2.30090, train_acc: 0.720, test_acc: 0.721\n",
            " 37 | loss: 2.30086, train_acc: 0.720, test_acc: 0.721\n",
            " 38 | loss: 2.30082, train_acc: 0.720, test_acc: 0.721\n",
            " 39 | loss: 2.30078, train_acc: 0.720, test_acc: 0.721\n",
            " 40 | loss: 2.30075, train_acc: 0.720, test_acc: 0.721\n",
            " 41 | loss: 2.30071, train_acc: 0.720, test_acc: 0.721\n",
            " 42 | loss: 2.30067, train_acc: 0.720, test_acc: 0.721\n",
            " 43 | loss: 2.30064, train_acc: 0.720, test_acc: 0.721\n",
            " 44 | loss: 2.30060, train_acc: 0.720, test_acc: 0.721\n",
            " 45 | loss: 2.30056, train_acc: 0.720, test_acc: 0.721\n",
            " 46 | loss: 2.30053, train_acc: 0.720, test_acc: 0.721\n",
            " 47 | loss: 2.30049, train_acc: 0.720, test_acc: 0.721\n",
            " 48 | loss: 2.30046, train_acc: 0.720, test_acc: 0.721\n",
            " 49 | loss: 2.30042, train_acc: 0.720, test_acc: 0.721\n",
            " 50 | loss: 2.30039, train_acc: 0.720, test_acc: 0.721\n",
            " 51 | loss: 2.30036, train_acc: 0.720, test_acc: 0.721\n",
            " 52 | loss: 2.30032, train_acc: 0.720, test_acc: 0.721\n",
            " 53 | loss: 2.30029, train_acc: 0.720, test_acc: 0.721\n",
            " 54 | loss: 2.30026, train_acc: 0.720, test_acc: 0.721\n",
            " 55 | loss: 2.30023, train_acc: 0.720, test_acc: 0.721\n",
            " 56 | loss: 2.30019, train_acc: 0.720, test_acc: 0.721\n",
            " 57 | loss: 2.30016, train_acc: 0.720, test_acc: 0.721\n",
            " 58 | loss: 2.30013, train_acc: 0.720, test_acc: 0.721\n",
            " 59 | loss: 2.30010, train_acc: 0.720, test_acc: 0.721\n",
            " 60 | loss: 2.30007, train_acc: 0.720, test_acc: 0.721\n",
            " 61 | loss: 2.30004, train_acc: 0.720, test_acc: 0.721\n",
            " 62 | loss: 2.30001, train_acc: 0.720, test_acc: 0.721\n",
            " 63 | loss: 2.29998, train_acc: 0.720, test_acc: 0.721\n",
            " 64 | loss: 2.29995, train_acc: 0.720, test_acc: 0.721\n",
            " 65 | loss: 2.29992, train_acc: 0.720, test_acc: 0.721\n",
            " 66 | loss: 2.29989, train_acc: 0.720, test_acc: 0.721\n",
            " 67 | loss: 2.29986, train_acc: 0.720, test_acc: 0.721\n",
            " 68 | loss: 2.29984, train_acc: 0.720, test_acc: 0.721\n",
            " 69 | loss: 2.29981, train_acc: 0.720, test_acc: 0.721\n",
            " 70 | loss: 2.29978, train_acc: 0.720, test_acc: 0.721\n",
            " 71 | loss: 2.29975, train_acc: 0.720, test_acc: 0.721\n",
            " 72 | loss: 2.29973, train_acc: 0.720, test_acc: 0.721\n",
            " 73 | loss: 2.29970, train_acc: 0.720, test_acc: 0.721\n",
            " 74 | loss: 2.29967, train_acc: 0.720, test_acc: 0.721\n",
            " 75 | loss: 2.29965, train_acc: 0.720, test_acc: 0.721\n",
            " 76 | loss: 2.29962, train_acc: 0.720, test_acc: 0.721\n",
            " 77 | loss: 2.29959, train_acc: 0.720, test_acc: 0.721\n",
            " 78 | loss: 2.29957, train_acc: 0.720, test_acc: 0.721\n",
            " 79 | loss: 2.29954, train_acc: 0.720, test_acc: 0.721\n",
            " 80 | loss: 2.29952, train_acc: 0.720, test_acc: 0.721\n",
            " 81 | loss: 2.29949, train_acc: 0.720, test_acc: 0.721\n",
            " 82 | loss: 2.29947, train_acc: 0.720, test_acc: 0.721\n",
            " 83 | loss: 2.29944, train_acc: 0.720, test_acc: 0.721\n",
            " 84 | loss: 2.29942, train_acc: 0.720, test_acc: 0.721\n",
            " 85 | loss: 2.29940, train_acc: 0.720, test_acc: 0.721\n",
            " 86 | loss: 2.29937, train_acc: 0.720, test_acc: 0.721\n",
            " 87 | loss: 2.29935, train_acc: 0.720, test_acc: 0.721\n",
            " 88 | loss: 2.29933, train_acc: 0.720, test_acc: 0.721\n",
            " 89 | loss: 2.29930, train_acc: 0.720, test_acc: 0.721\n",
            " 90 | loss: 2.29928, train_acc: 0.720, test_acc: 0.721\n",
            " 91 | loss: 2.29926, train_acc: 0.720, test_acc: 0.721\n",
            " 92 | loss: 2.29924, train_acc: 0.720, test_acc: 0.721\n",
            " 93 | loss: 2.29921, train_acc: 0.720, test_acc: 0.721\n",
            " 94 | loss: 2.29919, train_acc: 0.720, test_acc: 0.721\n",
            " 95 | loss: 2.29917, train_acc: 0.720, test_acc: 0.721\n",
            " 96 | loss: 2.29915, train_acc: 0.720, test_acc: 0.721\n",
            " 97 | loss: 2.29913, train_acc: 0.720, test_acc: 0.721\n",
            " 98 | loss: 2.29911, train_acc: 0.720, test_acc: 0.721\n",
            " 99 | loss: 2.29909, train_acc: 0.720, test_acc: 0.721\n",
            "2021-10-12 17:12:47,899 - clearml.Task - INFO - Waiting to finish uploads\n",
            "2021-10-12 17:12:48,591 - clearml.Task - INFO - Finished uploading\n"
          ]
        }
      ]
    },
    {
      "cell_type": "markdown",
      "metadata": {
        "id": "3onzlomWam4f"
      },
      "source": [
        "You will find...\n",
        "* ...the hyper-parameters under the \"Configuration/General\" tab.\n",
        "* ...the metrics under the \"Results/Scalars\" tab.\n",
        "* ...the trained weights under the \"Artifacts\" tab.\n",
        "\n",
        "**Run the above code ~10 times with different hyper-parameters before the next step.** Use some extreme values too!\n",
        "\n",
        "_Fun fact:_ ClearML will automagically save whole models (architecture, hyper-parameters, and weights) if you use popular frameworks like PyTorch, Tensorflow (Keras), Scikit-learn, ... See [this](https://clear.ml/docs/latest/docs/getting_started/ds/ds_second_steps/#models)."
      ]
    },
    {
      "cell_type": "markdown",
      "metadata": {
        "id": "2tk3t0W4am4f"
      },
      "source": [
        "### Step 3. Creating leaderboards\n",
        "\n",
        "Open the project in ClearML:\n",
        "1. Open `https://app.community.clear.ml/`.\n",
        "1. _Log in._\n",
        "1. Hit \"Projects\" in the left sidebar.\n",
        "1. Pick your project.\n",
        "\n",
        "Configure a dashboard (experiment table) for your project:\n",
        "\n",
        "* Present all metrics and hyper-parameters on the dashboard,\n",
        "* Sort it by the test accuracy in descending order.\n",
        "* Filter it by a hyper-parameter e.g. pick a subset of learning rates.\n",
        "* Tag TOP 5 experiments 'top_5' (best in the colour of flames).\n",
        "\n",
        "See the [Experiments Table](https://clear.ml/docs/latest/docs/webapp/webapp_exp_table/) guide.\n",
        "\n",
        "_Fun fact:_ You can bookmark or share the URL of your experiment table, a specific experiment, or a comparison view, so you and your coworkers can see the same dashboard every time!"
      ]
    },
    {
      "cell_type": "markdown",
      "metadata": {
        "id": "JxLRadJwam4f"
      },
      "source": [
        "### Step 4. Comparing results\n",
        "\n",
        "Prepare a compare view for your \"top_5\" tagged experiments where you can see the test accuracies of all five experiments.\n",
        "\n",
        "See the [Selecting Experiments to Compare](https://clear.ml/docs/latest/docs/webapp/webapp_exp_comparing/#selecting-experiments-to-compare) guide and then the [Compare Scalar Series](https://clear.ml/docs/latest/docs/webapp/webapp_exp_comparing/#compare-scalar-series) guide."
      ]
    },
    {
      "cell_type": "markdown",
      "metadata": {
        "id": "oe-GQPeVam4g"
      },
      "source": [
        "### Step 5. Downloading results for local analysis\n",
        "\n",
        "You can also download the results for local analysis (e.g. in this jupyter notebook). This is especially useful when you prepare plots for your publication. We plot the test accuracies of the \"top_5\" experiments together using Plotly.\n",
        "\n",
        "See the [Querying \\ Searching Tasks](https://clear.ml/docs/latest/docs/fundamentals/task#querying--searching-tasks) guide and the [Task](https://clear.ml/docs/latest/docs/references/sdk/task/) reference to find a function for downloading the scalars."
      ]
    },
    {
      "cell_type": "code",
      "metadata": {
        "id": "13kuaZ8sam4g",
        "colab": {
          "base_uri": "https://localhost:8080/",
          "height": 646
        },
        "outputId": "7355545f-7010-41dc-c342-32adafca7afe"
      },
      "source": [
        "###########################################\n",
        "# TODO: Query experiments tagged \"top_5\". #\n",
        "###########################################\n",
        "task_list = Task.get_tasks(\n",
        "    project_name='clearml_lab',\n",
        "    task_filter={\n",
        "      'tags': [\"top_5_2\"]\n",
        "    }\n",
        ")\n",
        "\n",
        "data = dict()\n",
        "for task in task_list:\n",
        "    ################################################\n",
        "    # TODO: Get the reported test accuracy values. #\n",
        "    ################################################\n",
        "    metrics = task.get_reported_scalars()\n",
        "    print(metrics)\n",
        "    test_acc = metrics['Accuracy']['Test']['y']\n",
        "\n",
        "    data[f'{task.name}.{task.id[:5]}'] = test_acc\n",
        "\n",
        "fig = px.line(pd.DataFrame(data),\n",
        "              labels={'index': 'Epochs',\n",
        "                      'value': 'Accuracy [%]',\n",
        "                      'variable': 'Experiment'},\n",
        "              title='Test accuracy')\n",
        "fig.show()"
      ],
      "execution_count": 27,
      "outputs": [
        {
          "output_type": "stream",
          "name": "stdout",
          "text": [
            "{'Accuracy': {'Test': {'name': 'Test', 'x': [0, 1, 2, 3, 4, 5, 6, 7, 8, 9, 10, 11, 12, 13, 14, 15, 16, 17, 18, 19, 20, 21, 22, 23, 24, 25, 26, 27, 28, 29, 30, 31, 32, 33, 34, 35, 36, 37, 38, 39, 40, 41, 42, 43, 44, 45, 46, 47, 48, 49, 50, 51, 52, 53, 54, 55, 56, 57, 58, 59, 60, 61, 62, 63, 64, 65, 66, 67, 68, 69, 70, 71, 72, 73, 74, 75, 76, 77, 78, 79, 80, 81, 82, 83, 84, 85, 86, 87, 88, 89, 90, 91, 92, 93, 94, 95, 96, 97, 98, 99], 'y': [0.09799999743700027, 0.72079998254776, 0.7257999777793884, 0.7304999828338623, 0.7336999773979187, 0.7368000149726868, 0.7394000291824341, 0.741599977016449, 0.7426999807357788, 0.7445999979972839, 0.7465999722480774, 0.7477999925613403, 0.7493000030517578, 0.7498999834060669, 0.7512000203132629, 0.7523999810218811, 0.7534999847412109, 0.7556999921798706, 0.7574999928474426, 0.7591000199317932, 0.760200023651123, 0.7627999782562256, 0.7641000151634216, 0.765999972820282, 0.7681000232696533, 0.7689999938011169, 0.7699000239372253, 0.7706999778747559, 0.7713000178337097, 0.7728000283241272, 0.7738000154495239, 0.7748000025749207, 0.7760000228881836, 0.7771999835968018, 0.777400016784668, 0.7784000039100647, 0.7786999940872192, 0.779699981212616, 0.7800999879837036, 0.7813000082969666, 0.7817000150680542, 0.7825000286102295, 0.7836999893188477, 0.7840999960899353, 0.7847999930381775, 0.785099983215332, 0.7853999733924866, 0.7860999703407288, 0.7867000102996826, 0.7874000072479248, 0.7876999974250793, 0.7883999943733215, 0.7886000275611877, 0.7886999845504761, 0.7896000146865845, 0.789900004863739, 0.7903000116348267, 0.7906000018119812, 0.7907000184059143, 0.7908999919891357, 0.7912999987602234, 0.7919999957084656, 0.7922000288963318, 0.7928000092506409, 0.7928000092506409, 0.7929999828338623, 0.7939000129699707, 0.7944999933242798, 0.7944999933242798, 0.7949000000953674, 0.7950999736785889, 0.795199990272522, 0.7954999804496765, 0.795799970626831, 0.7961999773979187, 0.7962999939918518, 0.796500027179718, 0.7968000173568726, 0.796999990940094, 0.7968999743461609, 0.7973999977111816, 0.7975000143051147, 0.7975000143051147, 0.7975000143051147, 0.7975999712944031, 0.7975999712944031, 0.7976999878883362, 0.7978000044822693, 0.7979000210762024, 0.7982000112533569, 0.7983999848365784, 0.7986999750137329, 0.7989000082015991, 0.7990000247955322, 0.7989000082015991, 0.7990999817848206, 0.7996000051498413, 0.7997999787330627, 0.800000011920929, 0.8001999855041504]}, 'Train': {'name': 'Train', 'x': [0, 1, 2, 3, 4, 5, 6, 7, 8, 9, 10, 11, 12, 13, 14, 15, 16, 17, 18, 19, 20, 21, 22, 23, 24, 25, 26, 27, 28, 29, 30, 31, 32, 33, 34, 35, 36, 37, 38, 39, 40, 41, 42, 43, 44, 45, 46, 47, 48, 49, 50, 51, 52, 53, 54, 55, 56, 57, 58, 59, 60, 61, 62, 63, 64, 65, 66, 67, 68, 69, 70, 71, 72, 73, 74, 75, 76, 77, 78, 79, 80, 81, 82, 83, 84, 85, 86, 87, 88, 89, 90, 91, 92, 93, 94, 95, 96, 97, 98, 99], 'y': [0.09871666878461838, 0.7199000120162964, 0.7266166806221008, 0.7307999730110168, 0.7339666485786438, 0.7364000082015991, 0.7383333444595337, 0.740149974822998, 0.7416666746139526, 0.7433500289916992, 0.744700014591217, 0.7463666796684265, 0.747783362865448, 0.7492666840553284, 0.7504500150680542, 0.7519333362579346, 0.753166675567627, 0.7549499869346619, 0.7565833330154419, 0.7582166790962219, 0.7595333456993103, 0.7608166933059692, 0.7619666457176208, 0.7631999850273132, 0.7643833160400391, 0.7659333348274231, 0.7670666575431824, 0.7681333422660828, 0.7688500285148621, 0.7697666883468628, 0.7709166407585144, 0.7718999981880188, 0.7728833556175232, 0.7738333344459534, 0.7748666405677795, 0.7753999829292297, 0.7760999798774719, 0.7770833373069763, 0.7777000069618225, 0.7782166600227356, 0.7788833379745483, 0.7791500091552734, 0.7798500061035156, 0.7803166508674622, 0.7808333039283752, 0.7812833189964294, 0.7816833257675171, 0.7821833491325378, 0.7825999855995178, 0.7831666469573975, 0.7838000059127808, 0.7844833135604858, 0.7848833203315735, 0.7851166725158691, 0.7854499816894531, 0.7858333587646484, 0.7863166928291321, 0.7865999937057495, 0.7868833541870117, 0.7872499823570251, 0.7875000238418579, 0.7877333164215088, 0.788183331489563, 0.7883999943733215, 0.7886000275611877, 0.7889333367347717, 0.7891833186149597, 0.7896666526794434, 0.789983332157135, 0.790233314037323, 0.7904499769210815, 0.7906833291053772, 0.7910166382789612, 0.7912166714668274, 0.7914666533470154, 0.7915833592414856, 0.7917666435241699, 0.792033314704895, 0.7921833395957947, 0.7922833561897278, 0.7924833297729492, 0.7925999760627747, 0.7928833365440369, 0.7930166721343994, 0.7931833267211914, 0.7934166789054871, 0.7935500144958496, 0.7936833500862122, 0.7937666773796082, 0.793916642665863, 0.7940000295639038, 0.7941499948501587, 0.7941666841506958, 0.7942666411399841, 0.7943999767303467, 0.7946166396141052, 0.7948166728019714, 0.7949166893959045, 0.795116662979126, 0.7951499819755554]}}, 'Loss': {'Train': {'name': 'Train', 'x': [0, 1, 2, 3, 4, 5, 6, 7, 8, 9, 10, 11, 12, 13, 14, 15, 16, 17, 18, 19, 20, 21, 22, 23, 24, 25, 26, 27, 28, 29, 30, 31, 32, 33, 34, 35, 36, 37, 38, 39, 40, 41, 42, 43, 44, 45, 46, 47, 48, 49, 50, 51, 52, 53, 54, 55, 56, 57, 58, 59, 60, 61, 62, 63, 64, 65, 66, 67, 68, 69, 70, 71, 72, 73, 74, 75, 76, 77, 78, 79, 80, 81, 82, 83, 84, 85, 86, 87, 88, 89, 90, 91, 92, 93, 94, 95, 96, 97, 98, 99], 'y': [2.3025851249694824, 2.24762225151062, 2.1968631744384766, 2.1497890949249268, 2.1060097217559814, 2.0652122497558594, 2.0271353721618652, 1.991553544998169, 1.9582678079605103, 1.9271000623703003, 1.897889256477356, 1.8704888820648193, 1.844765067100525, 1.820595383644104, 1.7978674173355103, 1.7764778137207031, 1.7563319206237793, 1.7373422384262085, 1.7194284200668335, 1.7025166749954224, 1.686538577079773, 1.6714311838150024, 1.6571367979049683, 1.6436015367507935, 1.6307761669158936, 1.6186147928237915, 1.6070750951766968, 1.5961180925369263, 1.585707426071167, 1.5758094787597656, 1.5663928985595703, 1.5574289560317993, 1.5488905906677246, 1.54075288772583, 1.5329924821853638, 1.525587797164917, 1.5185184478759766, 1.511765718460083, 1.5053119659423828, 1.499140739440918, 1.493236780166626, 1.4875856637954712, 1.4821739196777344, 1.4769890308380127, 1.472019076347351, 1.4672529697418213, 1.462680459022522, 1.4582916498184204, 1.4540773630142212, 1.4500290155410767, 1.4461385011672974, 1.442398190498352, 1.4388008117675781, 1.4353394508361816, 1.4320080280303955, 1.428800106048584, 1.4257102012634277, 1.422732949256897, 1.4198631048202515, 1.4170958995819092, 1.4144268035888672, 1.411851406097412, 1.4093656539916992, 1.4069656133651733, 1.404647707939148, 1.402408242225647, 1.400244116783142, 1.3981521129608154, 1.3961291313171387, 1.3941724300384521, 1.3922793865203857, 1.3904471397399902, 1.3886735439300537, 1.3869560956954956, 1.3852925300598145, 1.3836809396743774, 1.382119059562683, 1.3806052207946777, 1.3791372776031494, 1.3777137994766235, 1.3763328790664673, 1.374993085861206, 1.3736927509307861, 1.3724305629730225, 1.3712049722671509, 1.3700146675109863, 1.3688585758209229, 1.3677351474761963, 1.3666435480117798, 1.3655824661254883, 1.3645508289337158, 1.3635475635528564, 1.3625719547271729, 1.36162269115448, 1.36069917678833, 1.3598004579544067, 1.3589255809783936, 1.3580738306045532, 1.3572444915771484, 1.3564367294311523]}}}\n",
            "{'Accuracy': {'Test': {'name': 'Test', 'x': [0, 1, 2, 3, 4, 5, 6, 7, 8, 9, 10, 11, 12, 13, 14, 15, 16, 17, 18, 19, 20, 21, 22, 23, 24, 25, 26, 27, 28, 29, 30, 31, 32, 33, 34, 35, 36, 37, 38, 39, 40, 41, 42, 43, 44, 45, 46, 47, 48, 49, 50, 51, 52, 53, 54, 55, 56, 57, 58, 59, 60, 61, 62, 63, 64, 65, 66, 67, 68, 69, 70, 71, 72, 73, 74, 75, 76, 77, 78, 79, 80, 81, 82, 83, 84, 85, 86, 87, 88, 89, 90, 91, 92, 93, 94, 95, 96, 97, 98, 99], 'y': [0.09799999743700027, 0.09799999743700027, 0.09799999743700027, 0.09799999743700027, 0.09799999743700027, 0.09799999743700027, 0.09799999743700027, 0.09799999743700027, 0.09799999743700027, 0.09799999743700027, 0.09799999743700027, 0.09799999743700027, 0.09799999743700027, 0.09799999743700027, 0.09799999743700027, 0.09799999743700027, 0.09799999743700027, 0.09799999743700027, 0.09799999743700027, 0.09799999743700027, 0.09799999743700027, 0.09799999743700027, 0.09799999743700027, 0.09799999743700027, 0.09799999743700027, 0.09799999743700027, 0.09799999743700027, 0.09799999743700027, 0.09799999743700027, 0.09799999743700027, 0.09799999743700027, 0.09799999743700027, 0.09799999743700027, 0.09799999743700027, 0.09799999743700027, 0.09799999743700027, 0.09799999743700027, 0.09799999743700027, 0.09799999743700027, 0.09799999743700027, 0.09799999743700027, 0.09799999743700027, 0.09799999743700027, 0.09799999743700027, 0.09799999743700027, 0.09799999743700027, 0.09799999743700027, 0.09799999743700027, 0.09799999743700027, 0.09799999743700027, 0.09799999743700027, 0.09799999743700027, 0.09799999743700027, 0.09799999743700027, 0.09799999743700027, 0.09799999743700027, 0.09799999743700027, 0.09799999743700027, 0.09799999743700027, 0.09799999743700027, 0.09799999743700027, 0.09799999743700027, 0.09799999743700027, 0.09799999743700027, 0.09799999743700027, 0.09799999743700027, 0.09799999743700027, 0.09799999743700027, 0.09799999743700027, 0.09799999743700027, 0.09799999743700027, 0.09799999743700027, 0.09799999743700027, 0.09799999743700027, 0.09799999743700027, 0.09799999743700027, 0.09799999743700027, 0.09799999743700027, 0.09799999743700027, 0.09799999743700027, 0.09799999743700027, 0.09799999743700027, 0.09799999743700027, 0.09799999743700027, 0.09799999743700027, 0.09799999743700027, 0.09799999743700027, 0.09799999743700027, 0.09799999743700027, 0.09799999743700027, 0.09799999743700027, 0.09799999743700027, 0.09799999743700027, 0.09799999743700027, 0.09799999743700027, 0.09799999743700027, 0.09799999743700027, 0.09799999743700027, 0.09799999743700027, 0.09799999743700027]}, 'Train': {'name': 'Train', 'x': [0, 1, 2, 3, 4, 5, 6, 7, 8, 9, 10, 11, 12, 13, 14, 15, 16, 17, 18, 19, 20, 21, 22, 23, 24, 25, 26, 27, 28, 29, 30, 31, 32, 33, 34, 35, 36, 37, 38, 39, 40, 41, 42, 43, 44, 45, 46, 47, 48, 49, 50, 51, 52, 53, 54, 55, 56, 57, 58, 59, 60, 61, 62, 63, 64, 65, 66, 67, 68, 69, 70, 71, 72, 73, 74, 75, 76, 77, 78, 79, 80, 81, 82, 83, 84, 85, 86, 87, 88, 89, 90, 91, 92, 93, 94, 95, 96, 97, 98, 99], 'y': [0.09871666878461838, 0.09871666878461838, 0.09871666878461838, 0.09871666878461838, 0.09871666878461838, 0.09871666878461838, 0.09871666878461838, 0.09871666878461838, 0.09871666878461838, 0.09871666878461838, 0.09871666878461838, 0.09871666878461838, 0.09871666878461838, 0.09871666878461838, 0.09871666878461838, 0.09871666878461838, 0.09871666878461838, 0.09871666878461838, 0.09871666878461838, 0.09871666878461838, 0.09871666878461838, 0.09871666878461838, 0.09871666878461838, 0.09871666878461838, 0.09871666878461838, 0.09871666878461838, 0.09871666878461838, 0.09871666878461838, 0.09871666878461838, 0.09871666878461838, 0.09871666878461838, 0.09871666878461838, 0.09871666878461838, 0.09871666878461838, 0.09871666878461838, 0.09871666878461838, 0.09871666878461838, 0.09871666878461838, 0.09871666878461838, 0.09871666878461838, 0.09871666878461838, 0.09871666878461838, 0.09871666878461838, 0.09871666878461838, 0.09871666878461838, 0.09871666878461838, 0.09871666878461838, 0.09871666878461838, 0.09871666878461838, 0.09871666878461838, 0.09871666878461838, 0.09871666878461838, 0.09871666878461838, 0.09871666878461838, 0.09871666878461838, 0.09871666878461838, 0.09871666878461838, 0.09871666878461838, 0.09871666878461838, 0.09871666878461838, 0.09871666878461838, 0.09871666878461838, 0.09871666878461838, 0.09871666878461838, 0.09871666878461838, 0.09871666878461838, 0.09871666878461838, 0.09871666878461838, 0.09871666878461838, 0.09871666878461838, 0.09871666878461838, 0.09871666878461838, 0.09871666878461838, 0.09871666878461838, 0.09871666878461838, 0.09871666878461838, 0.09871666878461838, 0.09871666878461838, 0.09871666878461838, 0.09871666878461838, 0.09871666878461838, 0.09871666878461838, 0.09871666878461838, 0.09871666878461838, 0.09871666878461838, 0.09871666878461838, 0.09871666878461838, 0.09871666878461838, 0.09871666878461838, 0.09871666878461838, 0.09871666878461838, 0.09871666878461838, 0.09871666878461838, 0.09871666878461838, 0.09871666878461838, 0.09871666878461838, 0.09871666878461838, 0.09871666878461838, 0.09871666878461838, 0.09871666878461838]}}, 'Loss': {'Train': {'name': 'Train', 'x': [0, 1, 2, 3, 4, 5, 6, 7, 8, 9, 10, 11, 12, 13, 14, 15, 16, 17, 18, 19, 20, 21, 22, 23, 24, 25, 26, 27, 28, 29, 30, 31, 32, 33, 34, 35, 36, 37, 38, 39, 40, 41, 42, 43, 44, 45, 46, 47, 48, 49, 50, 51, 52, 53, 54, 55, 56, 57, 58, 59, 60, 61, 62, 63, 64, 65, 66, 67, 68, 69, 70, 71, 72, 73, 74, 75, 76, 77, 78, 79, 80, 81, 82, 83, 84, 85, 86, 87, 88, 89, 90, 91, 92, 93, 94, 95, 96, 97, 98, 99], 'y': [2.3025851249694824, 2.3025851249694824, 2.3025851249694824, 2.3025851249694824, 2.3025851249694824, 2.3025851249694824, 2.3025851249694824, 2.3025851249694824, 2.3025851249694824, 2.3025851249694824, 2.3025851249694824, 2.3025851249694824, 2.3025851249694824, 2.3025851249694824, 2.3025851249694824, 2.3025851249694824, 2.3025851249694824, 2.3025851249694824, 2.3025851249694824, 2.3025851249694824, 2.3025851249694824, 2.3025851249694824, 2.3025851249694824, 2.3025851249694824, 2.3025851249694824, 2.3025851249694824, 2.3025851249694824, 2.3025851249694824, 2.3025851249694824, 2.3025851249694824, 2.3025851249694824, 2.3025851249694824, 2.3025851249694824, 2.3025851249694824, 2.3025851249694824, 2.3025851249694824, 2.3025851249694824, 2.3025851249694824, 2.3025851249694824, 2.3025851249694824, 2.3025851249694824, 2.3025851249694824, 2.3025851249694824, 2.3025851249694824, 2.3025851249694824, 2.3025851249694824, 2.3025851249694824, 2.3025851249694824, 2.3025851249694824, 2.3025851249694824, 2.3025851249694824, 2.3025851249694824, 2.3025851249694824, 2.3025851249694824, 2.3025851249694824, 2.3025851249694824, 2.3025851249694824, 2.3025851249694824, 2.3025851249694824, 2.3025851249694824, 2.3025851249694824, 2.3025851249694824, 2.3025851249694824, 2.3025851249694824, 2.3025851249694824, 2.3025851249694824, 2.3025851249694824, 2.3025851249694824, 2.3025851249694824, 2.3025851249694824, 2.3025851249694824, 2.3025851249694824, 2.3025851249694824, 2.3025851249694824, 2.3025851249694824, 2.3025851249694824, 2.3025851249694824, 2.3025851249694824, 2.3025851249694824, 2.3025851249694824, 2.3025851249694824, 2.3025851249694824, 2.3025851249694824, 2.3025851249694824, 2.3025851249694824, 2.3025851249694824, 2.3025851249694824, 2.3025851249694824, 2.3025851249694824, 2.3025851249694824, 2.3025851249694824, 2.3025851249694824, 2.3025851249694824, 2.3025851249694824, 2.3025851249694824, 2.3025851249694824, 2.3025851249694824, 2.3025851249694824, 2.3025851249694824, 2.3025851249694824]}}}\n",
            "{'Accuracy': {'Test': {'name': 'Test', 'x': [0, 1, 2, 3, 4, 5, 6, 7, 8, 9, 10, 11, 12, 13, 14, 15, 16, 17, 18, 19, 20, 21, 22, 23, 24, 25, 26, 27, 28, 29, 30, 31, 32, 33, 34, 35, 36, 37, 38, 39, 40, 41, 42, 43, 44, 45, 46, 47, 48, 49, 50, 51, 52, 53, 54, 55, 56, 57, 58, 59, 60, 61, 62, 63, 64, 65, 66, 67, 68, 69, 70, 71, 72, 73, 74, 75, 76, 77, 78, 79, 80, 81, 82, 83, 84, 85, 86, 87, 88, 89, 90, 91, 92, 93, 94, 95, 96, 97, 98, 99], 'y': [0.09799999743700027, 0.72079998254776, 0.72079998254776, 0.72079998254776, 0.72079998254776, 0.72079998254776, 0.72079998254776, 0.72079998254776, 0.72079998254776, 0.72079998254776, 0.72079998254776, 0.72079998254776, 0.72079998254776, 0.72079998254776, 0.72079998254776, 0.72079998254776, 0.72079998254776, 0.72079998254776, 0.72079998254776, 0.72079998254776, 0.72079998254776, 0.72079998254776, 0.72079998254776, 0.72079998254776, 0.72079998254776, 0.72079998254776, 0.72079998254776, 0.72079998254776, 0.72079998254776, 0.72079998254776, 0.72079998254776, 0.72079998254776, 0.72079998254776, 0.72079998254776, 0.72079998254776, 0.72079998254776, 0.72079998254776, 0.72079998254776, 0.72079998254776, 0.72079998254776, 0.72079998254776, 0.72079998254776, 0.72079998254776, 0.72079998254776, 0.72079998254776, 0.72079998254776, 0.72079998254776, 0.72079998254776, 0.72079998254776, 0.72079998254776, 0.72079998254776, 0.72079998254776, 0.72079998254776, 0.72079998254776, 0.72079998254776, 0.72079998254776, 0.72079998254776, 0.72079998254776, 0.72079998254776, 0.72079998254776, 0.72079998254776, 0.72079998254776, 0.72079998254776, 0.72079998254776, 0.72079998254776, 0.72079998254776, 0.72079998254776, 0.72079998254776, 0.72079998254776, 0.72079998254776, 0.72079998254776, 0.72079998254776, 0.72079998254776, 0.72079998254776, 0.72079998254776, 0.72079998254776, 0.72079998254776, 0.72079998254776, 0.72079998254776, 0.72079998254776, 0.72079998254776, 0.72079998254776, 0.72079998254776, 0.72079998254776, 0.72079998254776, 0.72079998254776, 0.72079998254776, 0.72079998254776, 0.72079998254776, 0.72079998254776, 0.72079998254776, 0.72079998254776, 0.72079998254776, 0.72079998254776, 0.72079998254776, 0.72079998254776, 0.72079998254776, 0.72079998254776, 0.72079998254776, 0.72079998254776]}, 'Train': {'name': 'Train', 'x': [0, 1, 2, 3, 4, 5, 6, 7, 8, 9, 10, 11, 12, 13, 14, 15, 16, 17, 18, 19, 20, 21, 22, 23, 24, 25, 26, 27, 28, 29, 30, 31, 32, 33, 34, 35, 36, 37, 38, 39, 40, 41, 42, 43, 44, 45, 46, 47, 48, 49, 50, 51, 52, 53, 54, 55, 56, 57, 58, 59, 60, 61, 62, 63, 64, 65, 66, 67, 68, 69, 70, 71, 72, 73, 74, 75, 76, 77, 78, 79, 80, 81, 82, 83, 84, 85, 86, 87, 88, 89, 90, 91, 92, 93, 94, 95, 96, 97, 98, 99], 'y': [0.09871666878461838, 0.7199000120162964, 0.7199000120162964, 0.7199000120162964, 0.7199000120162964, 0.7199000120162964, 0.7199000120162964, 0.7199000120162964, 0.7199000120162964, 0.7199000120162964, 0.7199000120162964, 0.7199000120162964, 0.7199000120162964, 0.7199000120162964, 0.7199000120162964, 0.7199000120162964, 0.7199000120162964, 0.7199000120162964, 0.7199000120162964, 0.7199000120162964, 0.7199000120162964, 0.7199000120162964, 0.7199000120162964, 0.7199000120162964, 0.7199000120162964, 0.7199000120162964, 0.7199000120162964, 0.7199000120162964, 0.7199000120162964, 0.7199000120162964, 0.7199000120162964, 0.7199000120162964, 0.7199000120162964, 0.7199000120162964, 0.7199000120162964, 0.7199000120162964, 0.7199000120162964, 0.7199000120162964, 0.7199000120162964, 0.7199000120162964, 0.7199000120162964, 0.7199000120162964, 0.7199000120162964, 0.7199000120162964, 0.7199000120162964, 0.7199000120162964, 0.7199000120162964, 0.7199000120162964, 0.7199000120162964, 0.7199000120162964, 0.7199000120162964, 0.7199000120162964, 0.7199000120162964, 0.7199000120162964, 0.7199000120162964, 0.7199000120162964, 0.7199000120162964, 0.7199000120162964, 0.7199000120162964, 0.7199000120162964, 0.7199000120162964, 0.7199000120162964, 0.7199000120162964, 0.7199000120162964, 0.7199000120162964, 0.7199000120162964, 0.7199000120162964, 0.7199000120162964, 0.7199000120162964, 0.7199000120162964, 0.7199000120162964, 0.7199000120162964, 0.7199000120162964, 0.7199000120162964, 0.7199000120162964, 0.7199000120162964, 0.7199000120162964, 0.7199000120162964, 0.7199000120162964, 0.7199000120162964, 0.7199000120162964, 0.7199000120162964, 0.7199000120162964, 0.7199000120162964, 0.7199000120162964, 0.7199000120162964, 0.7199000120162964, 0.7199000120162964, 0.7199000120162964, 0.7199000120162964, 0.7199000120162964, 0.7199000120162964, 0.7199000120162964, 0.7199000120162964, 0.7199000120162964, 0.7199000120162964, 0.7199000120162964, 0.7199000120162964, 0.7199000120162964, 0.7199000120162964]}}, 'Loss': {'Train': {'name': 'Train', 'x': [0, 1, 2, 3, 4, 5, 6, 7, 8, 9, 10, 11, 12, 13, 14, 15, 16, 17, 18, 19, 20, 21, 22, 23, 24, 25, 26, 27, 28, 29, 30, 31, 32, 33, 34, 35, 36, 37, 38, 39, 40, 41, 42, 43, 44, 45, 46, 47, 48, 49, 50, 51, 52, 53, 54, 55, 56, 57, 58, 59, 60, 61, 62, 63, 64, 65, 66, 67, 68, 69, 70, 71, 72, 73, 74, 75, 76, 77, 78, 79, 80, 81, 82, 83, 84, 85, 86, 87, 88, 89, 90, 91, 92, 93, 94, 95, 96, 97, 98, 99], 'y': [2.3025851249694824, 2.3025295734405518, 2.3025288581848145, 2.3025288581848145, 2.3025288581848145, 2.3025288581848145, 2.3025288581848145, 2.3025288581848145, 2.3025288581848145, 2.3025288581848145, 2.3025288581848145, 2.3025288581848145, 2.3025288581848145, 2.3025288581848145, 2.3025288581848145, 2.3025288581848145, 2.3025288581848145, 2.3025288581848145, 2.3025288581848145, 2.3025288581848145, 2.3025288581848145, 2.3025288581848145, 2.3025288581848145, 2.3025288581848145, 2.3025288581848145, 2.3025288581848145, 2.3025288581848145, 2.3025288581848145, 2.3025288581848145, 2.3025288581848145, 2.3025288581848145, 2.3025288581848145, 2.3025288581848145, 2.3025288581848145, 2.3025288581848145, 2.3025288581848145, 2.3025288581848145, 2.3025288581848145, 2.3025288581848145, 2.3025288581848145, 2.3025288581848145, 2.3025288581848145, 2.3025288581848145, 2.3025288581848145, 2.3025288581848145, 2.3025288581848145, 2.3025288581848145, 2.3025288581848145, 2.3025288581848145, 2.3025288581848145, 2.3025288581848145, 2.3025288581848145, 2.3025288581848145, 2.3025288581848145, 2.3025288581848145, 2.3025288581848145, 2.3025288581848145, 2.3025288581848145, 2.3025288581848145, 2.3025288581848145, 2.3025288581848145, 2.3025288581848145, 2.3025288581848145, 2.3025288581848145, 2.3025288581848145, 2.3025288581848145, 2.3025288581848145, 2.3025288581848145, 2.3025288581848145, 2.3025288581848145, 2.3025288581848145, 2.3025288581848145, 2.3025288581848145, 2.3025288581848145, 2.3025288581848145, 2.3025288581848145, 2.3025288581848145, 2.3025288581848145, 2.3025288581848145, 2.3025288581848145, 2.3025288581848145, 2.3025288581848145, 2.3025288581848145, 2.3025288581848145, 2.3025288581848145, 2.3025288581848145, 2.3025288581848145, 2.3025288581848145, 2.3025288581848145, 2.3025288581848145, 2.3025288581848145, 2.3025288581848145, 2.3025288581848145, 2.3025288581848145, 2.3025288581848145, 2.3025288581848145, 2.3025288581848145, 2.3025288581848145, 2.3025288581848145, 2.3025288581848145]}}}\n",
            "{'Accuracy': {'Test': {'name': 'Test', 'x': [0, 1, 2, 3, 4, 5, 6, 7, 8, 9, 10, 11, 12, 13, 14, 15, 16, 17, 18, 19, 20, 21, 22, 23, 24, 25, 26, 27, 28, 29, 30, 31, 32, 33, 34, 35, 36, 37, 38, 39, 40, 41, 42, 43, 44, 45, 46, 47, 48, 49, 50, 51, 52, 53, 54, 55, 56, 57, 58, 59, 60, 61, 62, 63, 64, 65, 66, 67, 68, 69, 70, 71, 72, 73, 74, 75, 76, 77, 78, 79, 80, 81, 82, 83, 84, 85, 86, 87, 88, 89, 90, 91, 92, 93, 94, 95, 96, 97, 98, 99], 'y': [0.09799999743700027, 0.72079998254776, 0.7254999876022339, 0.7303000092506409, 0.7336999773979187, 0.7368000149726868, 0.7397000193595886, 0.7418000102043152, 0.7427999973297119, 0.7452999949455261, 0.7470999956130981, 0.7494000196456909, 0.7501999735832214, 0.7512000203132629, 0.7527999877929688, 0.7549999952316284, 0.7570000290870667, 0.7594000101089478, 0.761900007724762, 0.76419997215271, 0.7669000029563904, 0.7688000202178955, 0.7698000073432922, 0.7714999914169312, 0.7734000086784363, 0.7763000130653381, 0.7775999903678894, 0.7785000205039978, 0.7796000242233276, 0.781000018119812, 0.7828999757766724, 0.7839000225067139, 0.7846999764442444, 0.786300003528595, 0.7872999906539917, 0.7883999943733215, 0.7897999882698059, 0.7906000018119812, 0.7918000221252441, 0.79339998960495, 0.794700026512146, 0.7953000068664551, 0.7962999939918518, 0.7978000044822693, 0.7986000180244446, 0.7991999983787537, 0.7997000217437744, 0.8007000088691711, 0.8019999861717224, 0.8030999898910522, 0.8037999868392944, 0.8041999936103821, 0.8050000071525574, 0.8057000041007996, 0.8064000010490417, 0.8069999814033508, 0.807699978351593, 0.8080999851226807, 0.8087000250816345, 0.8090999722480774, 0.8091999888420105, 0.8097000122070312, 0.8105000257492065, 0.8112000226974487, 0.8116999864578247, 0.8119999766349792, 0.8123000264167786, 0.8125, 0.8130000233650208, 0.8131999969482422, 0.8137999773025513, 0.8141000270843506, 0.814300000667572, 0.8145999908447266, 0.8148000240325928, 0.8151000142097473, 0.8154000043869019, 0.8158000111579895, 0.8159999847412109, 0.8159999847412109, 0.8162999749183655, 0.8169000148773193, 0.8172000050544739, 0.8177000284194946, 0.8179000020027161, 0.8183000087738037, 0.8185999989509583, 0.8192999958992004, 0.8192999958992004, 0.8197000026702881, 0.8199999928474426, 0.8203999996185303, 0.8208000063896179, 0.8212000131607056, 0.8216999769210815, 0.8222000002861023, 0.8226000070571899, 0.8227999806404114, 0.823199987411499, 0.8235999941825867]}, 'Train': {'name': 'Train', 'x': [0, 1, 2, 3, 4, 5, 6, 7, 8, 9, 10, 11, 12, 13, 14, 15, 16, 17, 18, 19, 20, 21, 22, 23, 24, 25, 26, 27, 28, 29, 30, 31, 32, 33, 34, 35, 36, 37, 38, 39, 40, 41, 42, 43, 44, 45, 46, 47, 48, 49, 50, 51, 52, 53, 54, 55, 56, 57, 58, 59, 60, 61, 62, 63, 64, 65, 66, 67, 68, 69, 70, 71, 72, 73, 74, 75, 76, 77, 78, 79, 80, 81, 82, 83, 84, 85, 86, 87, 88, 89, 90, 91, 92, 93, 94, 95, 96, 97, 98, 99], 'y': [0.09871666878461838, 0.7199000120162964, 0.7265333533287048, 0.7307666540145874, 0.7339500188827515, 0.7364833354949951, 0.7385166883468628, 0.7403333187103271, 0.7422500252723694, 0.7435833215713501, 0.7453333139419556, 0.7472666501998901, 0.7490500211715698, 0.7505166530609131, 0.7522333264350891, 0.7542666792869568, 0.7563833594322205, 0.7584499716758728, 0.7604166865348816, 0.7619500160217285, 0.7637500166893005, 0.7658166885375977, 0.7676166892051697, 0.7691666483879089, 0.7708500027656555, 0.772516667842865, 0.7742999792098999, 0.7758499979972839, 0.7775166630744934, 0.7786666750907898, 0.7795500159263611, 0.7808499932289124, 0.7818499803543091, 0.7830166816711426, 0.7843999862670898, 0.7854666709899902, 0.7865833044052124, 0.7877166867256165, 0.7886666655540466, 0.7896666526794434, 0.7906333208084106, 0.7914999723434448, 0.7923833131790161, 0.7930999994277954, 0.7939833402633667, 0.7947999835014343, 0.7956500053405762, 0.7964500188827515, 0.7971000075340271, 0.7977666854858398, 0.7982666492462158, 0.7989333271980286, 0.7998166680335999, 0.8004999756813049, 0.8011166453361511, 0.801800012588501, 0.8026666641235352, 0.8031666874885559, 0.8037499785423279, 0.8044499754905701, 0.8049666881561279, 0.805316686630249, 0.8057166934013367, 0.8064333200454712, 0.8068833351135254, 0.8072999715805054, 0.8075666427612305, 0.8080000281333923, 0.8083166480064392, 0.8088666796684265, 0.8093500137329102, 0.8097666501998901, 0.8100666403770447, 0.8104166388511658, 0.8107666373252869, 0.8111666440963745, 0.8114333152770996, 0.8117833137512207, 0.8119166493415833, 0.8123833537101746, 0.8127166628837585, 0.8130333423614502, 0.8133166432380676, 0.8136833310127258, 0.8140666484832764, 0.8143666386604309, 0.81454998254776, 0.8148499727249146, 0.8151333332061768, 0.8154666423797607, 0.815933346748352, 0.8162999749183655, 0.8166499733924866, 0.8168666958808899, 0.8171333074569702, 0.817383348941803, 0.8175666928291321, 0.8178666830062866, 0.8180000185966492, 0.818316638469696]}}, 'Loss': {'Train': {'name': 'Train', 'x': [0, 1, 2, 3, 4, 5, 6, 7, 8, 9, 10, 11, 12, 13, 14, 15, 16, 17, 18, 19, 20, 21, 22, 23, 24, 25, 26, 27, 28, 29, 30, 31, 32, 33, 34, 35, 36, 37, 38, 39, 40, 41, 42, 43, 44, 45, 46, 47, 48, 49, 50, 51, 52, 53, 54, 55, 56, 57, 58, 59, 60, 61, 62, 63, 64, 65, 66, 67, 68, 69, 70, 71, 72, 73, 74, 75, 76, 77, 78, 79, 80, 81, 82, 83, 84, 85, 86, 87, 88, 89, 90, 91, 92, 93, 94, 95, 96, 97, 98, 99], 'y': [2.3025851249694824, 2.24762225151062, 2.195547580718994, 2.1460442543029785, 2.098888874053955, 2.0539116859436035, 2.010976552963257, 1.969968318939209, 1.930785059928894, 1.8933342695236206, 1.8575299978256226, 1.823291540145874, 1.7905423641204834, 1.759209394454956, 1.729223370552063, 1.7005176544189453, 1.6730289459228516, 1.6466968059539795, 1.6214635372161865, 1.5972741842269897, 1.5740766525268555, 1.551821231842041, 1.5304607152938843, 1.5099505186080933, 1.490248203277588, 1.4713135957717896, 1.453108787536621, 1.435597538948059, 1.4187461137771606, 1.402522087097168, 1.3868951797485352, 1.371836543083191, 1.3573189973831177, 1.343316912651062, 1.3298060894012451, 1.3167634010314941, 1.3041672706604004, 1.2919971942901611, 1.2802337408065796, 1.268858551979065, 1.2578544616699219, 1.2472048997879028, 1.2368943691253662, 1.2269082069396973, 1.217232584953308, 1.2078540325164795, 1.1987602710723877, 1.1899393796920776, 1.1813801527023315, 1.1730717420578003, 1.1650043725967407, 1.1571680307388306, 1.149553894996643, 1.142153024673462, 1.1349573135375977, 1.12795889377594, 1.121150255203247, 1.1145243644714355, 1.1080743074417114, 1.1017935276031494, 1.0956761837005615, 1.0897160768508911, 1.0839078426361084, 1.078245997428894, 1.072725534439087, 1.0673413276672363, 1.062088966369629, 1.0569639205932617, 1.051961898803711, 1.0470787286758423, 1.0423105955123901, 1.0376538038253784, 1.033104658126831, 1.028659701347351, 1.0243157148361206, 1.0200695991516113, 1.0159181356430054, 1.011858582496643, 1.0078879594802856, 1.0040037631988525, 1.000203251838684, 0.996484100818634, 0.9928438067436218, 0.9892801642417908, 0.9857908487319946, 0.9823737740516663, 0.9790269732475281, 0.9757483601570129, 0.9725361466407776, 0.9693883657455444, 0.9663033485412598, 0.9632793664932251, 0.9603148102760315, 0.9574080109596252, 0.9545575380325317, 0.9517618417739868, 0.9490194916725159, 0.9463291764259338, 0.9436895251274109, 0.9410991668701172]}}}\n",
            "{'Accuracy': {'Test': {'name': 'Test', 'x': [0, 1, 2, 3, 4, 5, 6, 7, 8, 9, 10, 11, 12, 13, 14, 15, 16, 17, 18, 19, 20, 21, 22, 23, 24, 25, 26, 27, 28, 29, 30, 31, 32, 33, 34, 35, 36, 37, 38, 39, 40, 41, 42, 43, 44, 45, 46, 47, 48, 49, 50, 51, 52, 53, 54, 55, 56, 57, 58, 59, 60, 61, 62, 63, 64, 65, 66, 67, 68, 69, 70, 71, 72, 73, 74, 75, 76, 77, 78, 79, 80, 81, 82, 83, 84, 85, 86, 87, 88, 89, 90, 91, 92, 93, 94, 95, 96, 97, 98, 99], 'y': [0.09799999743700027, 0.72079998254776, 0.72079998254776, 0.72079998254776, 0.72079998254776, 0.72079998254776, 0.72079998254776, 0.72079998254776, 0.72079998254776, 0.7208999991416931, 0.7208999991416931, 0.7208999991416931, 0.7208999991416931, 0.7208999991416931, 0.7208999991416931, 0.7208999991416931, 0.7210000157356262, 0.7210000157356262, 0.7210000157356262, 0.7210000157356262, 0.7210000157356262, 0.7210000157356262, 0.7210000157356262, 0.7210000157356262, 0.7210000157356262, 0.7210000157356262, 0.7210000157356262, 0.7210000157356262, 0.7210000157356262, 0.7210000157356262, 0.7210000157356262, 0.7210000157356262, 0.7210000157356262, 0.7210000157356262, 0.7210000157356262, 0.7210000157356262, 0.7210000157356262, 0.7210000157356262, 0.7210000157356262, 0.7210000157356262, 0.7210000157356262, 0.7210000157356262, 0.7210999727249146, 0.7210999727249146, 0.7210999727249146, 0.7210999727249146, 0.7210999727249146, 0.7210999727249146, 0.7210999727249146, 0.7210999727249146, 0.7210999727249146, 0.7210999727249146, 0.7210999727249146, 0.7210999727249146, 0.7210999727249146, 0.7210999727249146, 0.7210999727249146, 0.7210999727249146, 0.7210999727249146, 0.7210999727249146, 0.7210999727249146, 0.7210999727249146, 0.7210999727249146, 0.7210999727249146, 0.7210999727249146, 0.7210999727249146, 0.7210999727249146, 0.7211999893188477, 0.7211999893188477, 0.7211999893188477, 0.7211999893188477, 0.7211999893188477, 0.7211999893188477, 0.7211999893188477, 0.7211999893188477, 0.7211999893188477, 0.7211999893188477, 0.7211999893188477, 0.7211999893188477, 0.7211999893188477, 0.7211999893188477, 0.7211999893188477, 0.7211999893188477, 0.7211999893188477, 0.7211999893188477, 0.7211999893188477, 0.7211999893188477, 0.7211999893188477, 0.7211999893188477, 0.7211999893188477, 0.7211999893188477, 0.7211999893188477, 0.7211999893188477, 0.7211999893188477, 0.7211999893188477, 0.7211999893188477, 0.7211999893188477, 0.7211999893188477, 0.7211999893188477, 0.7211999893188477]}, 'Train': {'name': 'Train', 'x': [0, 1, 2, 3, 4, 5, 6, 7, 8, 9, 10, 11, 12, 13, 14, 15, 16, 17, 18, 19, 20, 21, 22, 23, 24, 25, 26, 27, 28, 29, 30, 31, 32, 33, 34, 35, 36, 37, 38, 39, 40, 41, 42, 43, 44, 45, 46, 47, 48, 49, 50, 51, 52, 53, 54, 55, 56, 57, 58, 59, 60, 61, 62, 63, 64, 65, 66, 67, 68, 69, 70, 71, 72, 73, 74, 75, 76, 77, 78, 79, 80, 81, 82, 83, 84, 85, 86, 87, 88, 89, 90, 91, 92, 93, 94, 95, 96, 97, 98, 99], 'y': [0.09871666878461838, 0.7199000120162964, 0.7199166417121887, 0.7199166417121887, 0.7199333310127258, 0.7199333310127258, 0.7199166417121887, 0.7199166417121887, 0.7199166417121887, 0.7199333310127258, 0.7199333310127258, 0.7199333310127258, 0.7199166417121887, 0.7199166417121887, 0.7199166417121887, 0.7199166417121887, 0.7199166417121887, 0.7199166417121887, 0.7199166417121887, 0.7199333310127258, 0.7199666500091553, 0.7199833393096924, 0.7199833393096924, 0.7199833393096924, 0.7199833393096924, 0.7200166583061218, 0.7200333476066589, 0.7200499773025513, 0.7200499773025513, 0.7200499773025513, 0.7200499773025513, 0.7200499773025513, 0.7200499773025513, 0.7200666666030884, 0.7200666666030884, 0.7200999855995178, 0.7201166749000549, 0.7201166749000549, 0.7201333045959473, 0.7201333045959473, 0.7201333045959473, 0.7201333045959473, 0.7201499938964844, 0.7201666831970215, 0.7201666831970215, 0.7201666831970215, 0.7201666831970215, 0.7201833128929138, 0.7201833128929138, 0.7201833128929138, 0.7201833128929138, 0.7202000021934509, 0.720216691493988, 0.720216691493988, 0.720216691493988, 0.720216691493988, 0.720216691493988, 0.7202000021934509, 0.7202000021934509, 0.7201833128929138, 0.7201833128929138, 0.7202000021934509, 0.7202000021934509, 0.720216691493988, 0.720216691493988, 0.720216691493988, 0.720216691493988, 0.720216691493988, 0.7202333211898804, 0.7202333211898804, 0.7202333211898804, 0.7202333211898804, 0.7202333211898804, 0.7202333211898804, 0.7202500104904175, 0.7202333211898804, 0.7202333211898804, 0.7202333211898804, 0.7202333211898804, 0.7202333211898804, 0.7202500104904175, 0.7202500104904175, 0.7202666401863098, 0.7202666401863098, 0.7202833294868469, 0.7202833294868469, 0.7202833294868469, 0.7202833294868469, 0.7202833294868469, 0.7202833294868469, 0.7202833294868469, 0.7202833294868469, 0.7202833294868469, 0.7202833294868469, 0.7202833294868469, 0.7202833294868469, 0.7202833294868469, 0.720300018787384, 0.720300018787384, 0.720300018787384]}}, 'Loss': {'Train': {'name': 'Train', 'x': [0, 1, 2, 3, 4, 5, 6, 7, 8, 9, 10, 11, 12, 13, 14, 15, 16, 17, 18, 19, 20, 21, 22, 23, 24, 25, 26, 27, 28, 29, 30, 31, 32, 33, 34, 35, 36, 37, 38, 39, 40, 41, 42, 43, 44, 45, 46, 47, 48, 49, 50, 51, 52, 53, 54, 55, 56, 57, 58, 59, 60, 61, 62, 63, 64, 65, 66, 67, 68, 69, 70, 71, 72, 73, 74, 75, 76, 77, 78, 79, 80, 81, 82, 83, 84, 85, 86, 87, 88, 89, 90, 91, 92, 93, 94, 95, 96, 97, 98, 99], 'y': [2.3025851249694824, 2.3025295734405518, 2.3024744987487793, 2.302419900894165, 2.302366018295288, 2.3023126125335693, 2.302259683609009, 2.3022074699401855, 2.3021557331085205, 2.3021044731140137, 2.302053689956665, 2.3020033836364746, 2.3019535541534424, 2.3019044399261475, 2.3018555641174316, 2.301807403564453, 2.3017594814300537, 2.3017122745513916, 2.3016653060913086, 2.301619052886963, 2.3015730381011963, 2.301527738571167, 2.301482677459717, 2.301438093185425, 2.30139422416687, 2.3013505935668945, 2.301307201385498, 2.301264524459839, 2.301222085952759, 2.301180362701416, 2.3011388778686523, 2.3010976314544678, 2.3010571002960205, 2.3010168075561523, 2.3009769916534424, 2.3009374141693115, 2.300898313522339, 2.3008596897125244, 2.300821542739868, 2.300783634185791, 2.300745964050293, 2.3007090091705322, 2.3006720542907715, 2.300635814666748, 2.3005998134613037, 2.3005640506744385, 2.3005287647247314, 2.3004937171936035, 2.300459146499634, 2.3004250526428223, 2.3003909587860107, 2.3003573417663574, 2.3003242015838623, 2.3002912998199463, 2.3002586364746094, 2.3002264499664307, 2.300194501876831, 2.3001630306243896, 2.3001315593719482, 2.300100803375244, 2.30007004737854, 2.300039768218994, 2.3000097274780273, 2.2999799251556396, 2.299950361251831, 2.2999212741851807, 2.2998924255371094, 2.299863815307617, 2.299835443496704, 2.299807548522949, 2.2997798919677734, 2.2997522354125977, 2.29972505569458, 2.2996983528137207, 2.2996716499328613, 2.299645185470581, 2.299619197845459, 2.299593210220337, 2.299567699432373, 2.2995424270629883, 2.2995173931121826, 2.299492597579956, 2.2994680404663086, 2.2994437217712402, 2.299419641494751, 2.299395799636841, 2.2993721961975098, 2.299348831176758, 2.299325704574585, 2.299302816390991, 2.2992801666259766, 2.299257516860962, 2.2992353439331055, 2.299213409423828, 2.29919171333313, 2.2991700172424316, 2.2991487979888916, 2.2991275787353516, 2.2991065979003906, 2.299086093902588]}}}\n"
          ]
        },
        {
          "output_type": "display_data",
          "data": {
            "text/html": [
              "<html>\n",
              "<head><meta charset=\"utf-8\" /></head>\n",
              "<body>\n",
              "    <div>            <script src=\"https://cdnjs.cloudflare.com/ajax/libs/mathjax/2.7.5/MathJax.js?config=TeX-AMS-MML_SVG\"></script><script type=\"text/javascript\">if (window.MathJax) {MathJax.Hub.Config({SVG: {font: \"STIX-Web\"}});}</script>                <script type=\"text/javascript\">window.PlotlyConfig = {MathJaxConfig: 'local'};</script>\n",
              "        <script src=\"https://cdn.plot.ly/plotly-2.4.2.min.js\"></script>                <div id=\"e7f0b4ea-3402-49a4-a6c8-03269c73a528\" class=\"plotly-graph-div\" style=\"height:525px; width:100%;\"></div>            <script type=\"text/javascript\">                                    window.PLOTLYENV=window.PLOTLYENV || {};                                    if (document.getElementById(\"e7f0b4ea-3402-49a4-a6c8-03269c73a528\")) {                    Plotly.newPlot(                        \"e7f0b4ea-3402-49a4-a6c8-03269c73a528\",                        [{\"hovertemplate\":\"Experiment=manual_log_experiment.1c336<br>Epochs=%{x}<br>Accuracy [%]=%{y}<extra></extra>\",\"legendgroup\":\"manual_log_experiment.1c336\",\"line\":{\"color\":\"#636efa\",\"dash\":\"solid\"},\"marker\":{\"symbol\":\"circle\"},\"mode\":\"lines\",\"name\":\"manual_log_experiment.1c336\",\"orientation\":\"v\",\"showlegend\":true,\"type\":\"scatter\",\"x\":[0,1,2,3,4,5,6,7,8,9,10,11,12,13,14,15,16,17,18,19,20,21,22,23,24,25,26,27,28,29,30,31,32,33,34,35,36,37,38,39,40,41,42,43,44,45,46,47,48,49,50,51,52,53,54,55,56,57,58,59,60,61,62,63,64,65,66,67,68,69,70,71,72,73,74,75,76,77,78,79,80,81,82,83,84,85,86,87,88,89,90,91,92,93,94,95,96,97,98,99],\"xaxis\":\"x\",\"y\":[0.09799999743700027,0.72079998254776,0.7257999777793884,0.7304999828338623,0.7336999773979187,0.7368000149726868,0.7394000291824341,0.741599977016449,0.7426999807357788,0.7445999979972839,0.7465999722480774,0.7477999925613403,0.7493000030517578,0.7498999834060669,0.7512000203132629,0.7523999810218811,0.7534999847412109,0.7556999921798706,0.7574999928474426,0.7591000199317932,0.760200023651123,0.7627999782562256,0.7641000151634216,0.765999972820282,0.7681000232696533,0.7689999938011169,0.7699000239372253,0.7706999778747559,0.7713000178337097,0.7728000283241272,0.7738000154495239,0.7748000025749207,0.7760000228881836,0.7771999835968018,0.777400016784668,0.7784000039100647,0.7786999940872192,0.779699981212616,0.7800999879837036,0.7813000082969666,0.7817000150680542,0.7825000286102295,0.7836999893188477,0.7840999960899353,0.7847999930381775,0.785099983215332,0.7853999733924866,0.7860999703407288,0.7867000102996826,0.7874000072479248,0.7876999974250793,0.7883999943733215,0.7886000275611877,0.7886999845504761,0.7896000146865845,0.789900004863739,0.7903000116348267,0.7906000018119812,0.7907000184059143,0.7908999919891357,0.7912999987602234,0.7919999957084656,0.7922000288963318,0.7928000092506409,0.7928000092506409,0.7929999828338623,0.7939000129699707,0.7944999933242798,0.7944999933242798,0.7949000000953674,0.7950999736785889,0.795199990272522,0.7954999804496765,0.795799970626831,0.7961999773979187,0.7962999939918518,0.796500027179718,0.7968000173568726,0.796999990940094,0.7968999743461609,0.7973999977111816,0.7975000143051147,0.7975000143051147,0.7975000143051147,0.7975999712944031,0.7975999712944031,0.7976999878883362,0.7978000044822693,0.7979000210762024,0.7982000112533569,0.7983999848365784,0.7986999750137329,0.7989000082015991,0.7990000247955322,0.7989000082015991,0.7990999817848206,0.7996000051498413,0.7997999787330627,0.800000011920929,0.8001999855041504],\"yaxis\":\"y\"},{\"hovertemplate\":\"Experiment=manual_log_experiment.e169c<br>Epochs=%{x}<br>Accuracy [%]=%{y}<extra></extra>\",\"legendgroup\":\"manual_log_experiment.e169c\",\"line\":{\"color\":\"#EF553B\",\"dash\":\"solid\"},\"marker\":{\"symbol\":\"circle\"},\"mode\":\"lines\",\"name\":\"manual_log_experiment.e169c\",\"orientation\":\"v\",\"showlegend\":true,\"type\":\"scatter\",\"x\":[0,1,2,3,4,5,6,7,8,9,10,11,12,13,14,15,16,17,18,19,20,21,22,23,24,25,26,27,28,29,30,31,32,33,34,35,36,37,38,39,40,41,42,43,44,45,46,47,48,49,50,51,52,53,54,55,56,57,58,59,60,61,62,63,64,65,66,67,68,69,70,71,72,73,74,75,76,77,78,79,80,81,82,83,84,85,86,87,88,89,90,91,92,93,94,95,96,97,98,99],\"xaxis\":\"x\",\"y\":[0.09799999743700027,0.09799999743700027,0.09799999743700027,0.09799999743700027,0.09799999743700027,0.09799999743700027,0.09799999743700027,0.09799999743700027,0.09799999743700027,0.09799999743700027,0.09799999743700027,0.09799999743700027,0.09799999743700027,0.09799999743700027,0.09799999743700027,0.09799999743700027,0.09799999743700027,0.09799999743700027,0.09799999743700027,0.09799999743700027,0.09799999743700027,0.09799999743700027,0.09799999743700027,0.09799999743700027,0.09799999743700027,0.09799999743700027,0.09799999743700027,0.09799999743700027,0.09799999743700027,0.09799999743700027,0.09799999743700027,0.09799999743700027,0.09799999743700027,0.09799999743700027,0.09799999743700027,0.09799999743700027,0.09799999743700027,0.09799999743700027,0.09799999743700027,0.09799999743700027,0.09799999743700027,0.09799999743700027,0.09799999743700027,0.09799999743700027,0.09799999743700027,0.09799999743700027,0.09799999743700027,0.09799999743700027,0.09799999743700027,0.09799999743700027,0.09799999743700027,0.09799999743700027,0.09799999743700027,0.09799999743700027,0.09799999743700027,0.09799999743700027,0.09799999743700027,0.09799999743700027,0.09799999743700027,0.09799999743700027,0.09799999743700027,0.09799999743700027,0.09799999743700027,0.09799999743700027,0.09799999743700027,0.09799999743700027,0.09799999743700027,0.09799999743700027,0.09799999743700027,0.09799999743700027,0.09799999743700027,0.09799999743700027,0.09799999743700027,0.09799999743700027,0.09799999743700027,0.09799999743700027,0.09799999743700027,0.09799999743700027,0.09799999743700027,0.09799999743700027,0.09799999743700027,0.09799999743700027,0.09799999743700027,0.09799999743700027,0.09799999743700027,0.09799999743700027,0.09799999743700027,0.09799999743700027,0.09799999743700027,0.09799999743700027,0.09799999743700027,0.09799999743700027,0.09799999743700027,0.09799999743700027,0.09799999743700027,0.09799999743700027,0.09799999743700027,0.09799999743700027,0.09799999743700027,0.09799999743700027],\"yaxis\":\"y\"},{\"hovertemplate\":\"Experiment=manual_log_experiment.181a2<br>Epochs=%{x}<br>Accuracy [%]=%{y}<extra></extra>\",\"legendgroup\":\"manual_log_experiment.181a2\",\"line\":{\"color\":\"#00cc96\",\"dash\":\"solid\"},\"marker\":{\"symbol\":\"circle\"},\"mode\":\"lines\",\"name\":\"manual_log_experiment.181a2\",\"orientation\":\"v\",\"showlegend\":true,\"type\":\"scatter\",\"x\":[0,1,2,3,4,5,6,7,8,9,10,11,12,13,14,15,16,17,18,19,20,21,22,23,24,25,26,27,28,29,30,31,32,33,34,35,36,37,38,39,40,41,42,43,44,45,46,47,48,49,50,51,52,53,54,55,56,57,58,59,60,61,62,63,64,65,66,67,68,69,70,71,72,73,74,75,76,77,78,79,80,81,82,83,84,85,86,87,88,89,90,91,92,93,94,95,96,97,98,99],\"xaxis\":\"x\",\"y\":[0.09799999743700027,0.72079998254776,0.72079998254776,0.72079998254776,0.72079998254776,0.72079998254776,0.72079998254776,0.72079998254776,0.72079998254776,0.72079998254776,0.72079998254776,0.72079998254776,0.72079998254776,0.72079998254776,0.72079998254776,0.72079998254776,0.72079998254776,0.72079998254776,0.72079998254776,0.72079998254776,0.72079998254776,0.72079998254776,0.72079998254776,0.72079998254776,0.72079998254776,0.72079998254776,0.72079998254776,0.72079998254776,0.72079998254776,0.72079998254776,0.72079998254776,0.72079998254776,0.72079998254776,0.72079998254776,0.72079998254776,0.72079998254776,0.72079998254776,0.72079998254776,0.72079998254776,0.72079998254776,0.72079998254776,0.72079998254776,0.72079998254776,0.72079998254776,0.72079998254776,0.72079998254776,0.72079998254776,0.72079998254776,0.72079998254776,0.72079998254776,0.72079998254776,0.72079998254776,0.72079998254776,0.72079998254776,0.72079998254776,0.72079998254776,0.72079998254776,0.72079998254776,0.72079998254776,0.72079998254776,0.72079998254776,0.72079998254776,0.72079998254776,0.72079998254776,0.72079998254776,0.72079998254776,0.72079998254776,0.72079998254776,0.72079998254776,0.72079998254776,0.72079998254776,0.72079998254776,0.72079998254776,0.72079998254776,0.72079998254776,0.72079998254776,0.72079998254776,0.72079998254776,0.72079998254776,0.72079998254776,0.72079998254776,0.72079998254776,0.72079998254776,0.72079998254776,0.72079998254776,0.72079998254776,0.72079998254776,0.72079998254776,0.72079998254776,0.72079998254776,0.72079998254776,0.72079998254776,0.72079998254776,0.72079998254776,0.72079998254776,0.72079998254776,0.72079998254776,0.72079998254776,0.72079998254776,0.72079998254776],\"yaxis\":\"y\"},{\"hovertemplate\":\"Experiment=manual_log_experiment.5f8c6<br>Epochs=%{x}<br>Accuracy [%]=%{y}<extra></extra>\",\"legendgroup\":\"manual_log_experiment.5f8c6\",\"line\":{\"color\":\"#ab63fa\",\"dash\":\"solid\"},\"marker\":{\"symbol\":\"circle\"},\"mode\":\"lines\",\"name\":\"manual_log_experiment.5f8c6\",\"orientation\":\"v\",\"showlegend\":true,\"type\":\"scatter\",\"x\":[0,1,2,3,4,5,6,7,8,9,10,11,12,13,14,15,16,17,18,19,20,21,22,23,24,25,26,27,28,29,30,31,32,33,34,35,36,37,38,39,40,41,42,43,44,45,46,47,48,49,50,51,52,53,54,55,56,57,58,59,60,61,62,63,64,65,66,67,68,69,70,71,72,73,74,75,76,77,78,79,80,81,82,83,84,85,86,87,88,89,90,91,92,93,94,95,96,97,98,99],\"xaxis\":\"x\",\"y\":[0.09799999743700027,0.72079998254776,0.7254999876022339,0.7303000092506409,0.7336999773979187,0.7368000149726868,0.7397000193595886,0.7418000102043152,0.7427999973297119,0.7452999949455261,0.7470999956130981,0.7494000196456909,0.7501999735832214,0.7512000203132629,0.7527999877929688,0.7549999952316284,0.7570000290870667,0.7594000101089478,0.761900007724762,0.76419997215271,0.7669000029563904,0.7688000202178955,0.7698000073432922,0.7714999914169312,0.7734000086784363,0.7763000130653381,0.7775999903678894,0.7785000205039978,0.7796000242233276,0.781000018119812,0.7828999757766724,0.7839000225067139,0.7846999764442444,0.786300003528595,0.7872999906539917,0.7883999943733215,0.7897999882698059,0.7906000018119812,0.7918000221252441,0.79339998960495,0.794700026512146,0.7953000068664551,0.7962999939918518,0.7978000044822693,0.7986000180244446,0.7991999983787537,0.7997000217437744,0.8007000088691711,0.8019999861717224,0.8030999898910522,0.8037999868392944,0.8041999936103821,0.8050000071525574,0.8057000041007996,0.8064000010490417,0.8069999814033508,0.807699978351593,0.8080999851226807,0.8087000250816345,0.8090999722480774,0.8091999888420105,0.8097000122070312,0.8105000257492065,0.8112000226974487,0.8116999864578247,0.8119999766349792,0.8123000264167786,0.8125,0.8130000233650208,0.8131999969482422,0.8137999773025513,0.8141000270843506,0.814300000667572,0.8145999908447266,0.8148000240325928,0.8151000142097473,0.8154000043869019,0.8158000111579895,0.8159999847412109,0.8159999847412109,0.8162999749183655,0.8169000148773193,0.8172000050544739,0.8177000284194946,0.8179000020027161,0.8183000087738037,0.8185999989509583,0.8192999958992004,0.8192999958992004,0.8197000026702881,0.8199999928474426,0.8203999996185303,0.8208000063896179,0.8212000131607056,0.8216999769210815,0.8222000002861023,0.8226000070571899,0.8227999806404114,0.823199987411499,0.8235999941825867],\"yaxis\":\"y\"},{\"hovertemplate\":\"Experiment=manual_log_experiment.19d23<br>Epochs=%{x}<br>Accuracy [%]=%{y}<extra></extra>\",\"legendgroup\":\"manual_log_experiment.19d23\",\"line\":{\"color\":\"#FFA15A\",\"dash\":\"solid\"},\"marker\":{\"symbol\":\"circle\"},\"mode\":\"lines\",\"name\":\"manual_log_experiment.19d23\",\"orientation\":\"v\",\"showlegend\":true,\"type\":\"scatter\",\"x\":[0,1,2,3,4,5,6,7,8,9,10,11,12,13,14,15,16,17,18,19,20,21,22,23,24,25,26,27,28,29,30,31,32,33,34,35,36,37,38,39,40,41,42,43,44,45,46,47,48,49,50,51,52,53,54,55,56,57,58,59,60,61,62,63,64,65,66,67,68,69,70,71,72,73,74,75,76,77,78,79,80,81,82,83,84,85,86,87,88,89,90,91,92,93,94,95,96,97,98,99],\"xaxis\":\"x\",\"y\":[0.09799999743700027,0.72079998254776,0.72079998254776,0.72079998254776,0.72079998254776,0.72079998254776,0.72079998254776,0.72079998254776,0.72079998254776,0.7208999991416931,0.7208999991416931,0.7208999991416931,0.7208999991416931,0.7208999991416931,0.7208999991416931,0.7208999991416931,0.7210000157356262,0.7210000157356262,0.7210000157356262,0.7210000157356262,0.7210000157356262,0.7210000157356262,0.7210000157356262,0.7210000157356262,0.7210000157356262,0.7210000157356262,0.7210000157356262,0.7210000157356262,0.7210000157356262,0.7210000157356262,0.7210000157356262,0.7210000157356262,0.7210000157356262,0.7210000157356262,0.7210000157356262,0.7210000157356262,0.7210000157356262,0.7210000157356262,0.7210000157356262,0.7210000157356262,0.7210000157356262,0.7210000157356262,0.7210999727249146,0.7210999727249146,0.7210999727249146,0.7210999727249146,0.7210999727249146,0.7210999727249146,0.7210999727249146,0.7210999727249146,0.7210999727249146,0.7210999727249146,0.7210999727249146,0.7210999727249146,0.7210999727249146,0.7210999727249146,0.7210999727249146,0.7210999727249146,0.7210999727249146,0.7210999727249146,0.7210999727249146,0.7210999727249146,0.7210999727249146,0.7210999727249146,0.7210999727249146,0.7210999727249146,0.7210999727249146,0.7211999893188477,0.7211999893188477,0.7211999893188477,0.7211999893188477,0.7211999893188477,0.7211999893188477,0.7211999893188477,0.7211999893188477,0.7211999893188477,0.7211999893188477,0.7211999893188477,0.7211999893188477,0.7211999893188477,0.7211999893188477,0.7211999893188477,0.7211999893188477,0.7211999893188477,0.7211999893188477,0.7211999893188477,0.7211999893188477,0.7211999893188477,0.7211999893188477,0.7211999893188477,0.7211999893188477,0.7211999893188477,0.7211999893188477,0.7211999893188477,0.7211999893188477,0.7211999893188477,0.7211999893188477,0.7211999893188477,0.7211999893188477,0.7211999893188477],\"yaxis\":\"y\"}],                        {\"legend\":{\"title\":{\"text\":\"Experiment\"},\"tracegroupgap\":0},\"template\":{\"data\":{\"bar\":[{\"error_x\":{\"color\":\"#2a3f5f\"},\"error_y\":{\"color\":\"#2a3f5f\"},\"marker\":{\"line\":{\"color\":\"#E5ECF6\",\"width\":0.5},\"pattern\":{\"fillmode\":\"overlay\",\"size\":10,\"solidity\":0.2}},\"type\":\"bar\"}],\"barpolar\":[{\"marker\":{\"line\":{\"color\":\"#E5ECF6\",\"width\":0.5},\"pattern\":{\"fillmode\":\"overlay\",\"size\":10,\"solidity\":0.2}},\"type\":\"barpolar\"}],\"carpet\":[{\"aaxis\":{\"endlinecolor\":\"#2a3f5f\",\"gridcolor\":\"white\",\"linecolor\":\"white\",\"minorgridcolor\":\"white\",\"startlinecolor\":\"#2a3f5f\"},\"baxis\":{\"endlinecolor\":\"#2a3f5f\",\"gridcolor\":\"white\",\"linecolor\":\"white\",\"minorgridcolor\":\"white\",\"startlinecolor\":\"#2a3f5f\"},\"type\":\"carpet\"}],\"choropleth\":[{\"colorbar\":{\"outlinewidth\":0,\"ticks\":\"\"},\"type\":\"choropleth\"}],\"contour\":[{\"colorbar\":{\"outlinewidth\":0,\"ticks\":\"\"},\"colorscale\":[[0.0,\"#0d0887\"],[0.1111111111111111,\"#46039f\"],[0.2222222222222222,\"#7201a8\"],[0.3333333333333333,\"#9c179e\"],[0.4444444444444444,\"#bd3786\"],[0.5555555555555556,\"#d8576b\"],[0.6666666666666666,\"#ed7953\"],[0.7777777777777778,\"#fb9f3a\"],[0.8888888888888888,\"#fdca26\"],[1.0,\"#f0f921\"]],\"type\":\"contour\"}],\"contourcarpet\":[{\"colorbar\":{\"outlinewidth\":0,\"ticks\":\"\"},\"type\":\"contourcarpet\"}],\"heatmap\":[{\"colorbar\":{\"outlinewidth\":0,\"ticks\":\"\"},\"colorscale\":[[0.0,\"#0d0887\"],[0.1111111111111111,\"#46039f\"],[0.2222222222222222,\"#7201a8\"],[0.3333333333333333,\"#9c179e\"],[0.4444444444444444,\"#bd3786\"],[0.5555555555555556,\"#d8576b\"],[0.6666666666666666,\"#ed7953\"],[0.7777777777777778,\"#fb9f3a\"],[0.8888888888888888,\"#fdca26\"],[1.0,\"#f0f921\"]],\"type\":\"heatmap\"}],\"heatmapgl\":[{\"colorbar\":{\"outlinewidth\":0,\"ticks\":\"\"},\"colorscale\":[[0.0,\"#0d0887\"],[0.1111111111111111,\"#46039f\"],[0.2222222222222222,\"#7201a8\"],[0.3333333333333333,\"#9c179e\"],[0.4444444444444444,\"#bd3786\"],[0.5555555555555556,\"#d8576b\"],[0.6666666666666666,\"#ed7953\"],[0.7777777777777778,\"#fb9f3a\"],[0.8888888888888888,\"#fdca26\"],[1.0,\"#f0f921\"]],\"type\":\"heatmapgl\"}],\"histogram\":[{\"marker\":{\"pattern\":{\"fillmode\":\"overlay\",\"size\":10,\"solidity\":0.2}},\"type\":\"histogram\"}],\"histogram2d\":[{\"colorbar\":{\"outlinewidth\":0,\"ticks\":\"\"},\"colorscale\":[[0.0,\"#0d0887\"],[0.1111111111111111,\"#46039f\"],[0.2222222222222222,\"#7201a8\"],[0.3333333333333333,\"#9c179e\"],[0.4444444444444444,\"#bd3786\"],[0.5555555555555556,\"#d8576b\"],[0.6666666666666666,\"#ed7953\"],[0.7777777777777778,\"#fb9f3a\"],[0.8888888888888888,\"#fdca26\"],[1.0,\"#f0f921\"]],\"type\":\"histogram2d\"}],\"histogram2dcontour\":[{\"colorbar\":{\"outlinewidth\":0,\"ticks\":\"\"},\"colorscale\":[[0.0,\"#0d0887\"],[0.1111111111111111,\"#46039f\"],[0.2222222222222222,\"#7201a8\"],[0.3333333333333333,\"#9c179e\"],[0.4444444444444444,\"#bd3786\"],[0.5555555555555556,\"#d8576b\"],[0.6666666666666666,\"#ed7953\"],[0.7777777777777778,\"#fb9f3a\"],[0.8888888888888888,\"#fdca26\"],[1.0,\"#f0f921\"]],\"type\":\"histogram2dcontour\"}],\"mesh3d\":[{\"colorbar\":{\"outlinewidth\":0,\"ticks\":\"\"},\"type\":\"mesh3d\"}],\"parcoords\":[{\"line\":{\"colorbar\":{\"outlinewidth\":0,\"ticks\":\"\"}},\"type\":\"parcoords\"}],\"pie\":[{\"automargin\":true,\"type\":\"pie\"}],\"scatter\":[{\"marker\":{\"colorbar\":{\"outlinewidth\":0,\"ticks\":\"\"}},\"type\":\"scatter\"}],\"scatter3d\":[{\"line\":{\"colorbar\":{\"outlinewidth\":0,\"ticks\":\"\"}},\"marker\":{\"colorbar\":{\"outlinewidth\":0,\"ticks\":\"\"}},\"type\":\"scatter3d\"}],\"scattercarpet\":[{\"marker\":{\"colorbar\":{\"outlinewidth\":0,\"ticks\":\"\"}},\"type\":\"scattercarpet\"}],\"scattergeo\":[{\"marker\":{\"colorbar\":{\"outlinewidth\":0,\"ticks\":\"\"}},\"type\":\"scattergeo\"}],\"scattergl\":[{\"marker\":{\"colorbar\":{\"outlinewidth\":0,\"ticks\":\"\"}},\"type\":\"scattergl\"}],\"scattermapbox\":[{\"marker\":{\"colorbar\":{\"outlinewidth\":0,\"ticks\":\"\"}},\"type\":\"scattermapbox\"}],\"scatterpolar\":[{\"marker\":{\"colorbar\":{\"outlinewidth\":0,\"ticks\":\"\"}},\"type\":\"scatterpolar\"}],\"scatterpolargl\":[{\"marker\":{\"colorbar\":{\"outlinewidth\":0,\"ticks\":\"\"}},\"type\":\"scatterpolargl\"}],\"scatterternary\":[{\"marker\":{\"colorbar\":{\"outlinewidth\":0,\"ticks\":\"\"}},\"type\":\"scatterternary\"}],\"surface\":[{\"colorbar\":{\"outlinewidth\":0,\"ticks\":\"\"},\"colorscale\":[[0.0,\"#0d0887\"],[0.1111111111111111,\"#46039f\"],[0.2222222222222222,\"#7201a8\"],[0.3333333333333333,\"#9c179e\"],[0.4444444444444444,\"#bd3786\"],[0.5555555555555556,\"#d8576b\"],[0.6666666666666666,\"#ed7953\"],[0.7777777777777778,\"#fb9f3a\"],[0.8888888888888888,\"#fdca26\"],[1.0,\"#f0f921\"]],\"type\":\"surface\"}],\"table\":[{\"cells\":{\"fill\":{\"color\":\"#EBF0F8\"},\"line\":{\"color\":\"white\"}},\"header\":{\"fill\":{\"color\":\"#C8D4E3\"},\"line\":{\"color\":\"white\"}},\"type\":\"table\"}]},\"layout\":{\"annotationdefaults\":{\"arrowcolor\":\"#2a3f5f\",\"arrowhead\":0,\"arrowwidth\":1},\"autotypenumbers\":\"strict\",\"coloraxis\":{\"colorbar\":{\"outlinewidth\":0,\"ticks\":\"\"}},\"colorscale\":{\"diverging\":[[0,\"#8e0152\"],[0.1,\"#c51b7d\"],[0.2,\"#de77ae\"],[0.3,\"#f1b6da\"],[0.4,\"#fde0ef\"],[0.5,\"#f7f7f7\"],[0.6,\"#e6f5d0\"],[0.7,\"#b8e186\"],[0.8,\"#7fbc41\"],[0.9,\"#4d9221\"],[1,\"#276419\"]],\"sequential\":[[0.0,\"#0d0887\"],[0.1111111111111111,\"#46039f\"],[0.2222222222222222,\"#7201a8\"],[0.3333333333333333,\"#9c179e\"],[0.4444444444444444,\"#bd3786\"],[0.5555555555555556,\"#d8576b\"],[0.6666666666666666,\"#ed7953\"],[0.7777777777777778,\"#fb9f3a\"],[0.8888888888888888,\"#fdca26\"],[1.0,\"#f0f921\"]],\"sequentialminus\":[[0.0,\"#0d0887\"],[0.1111111111111111,\"#46039f\"],[0.2222222222222222,\"#7201a8\"],[0.3333333333333333,\"#9c179e\"],[0.4444444444444444,\"#bd3786\"],[0.5555555555555556,\"#d8576b\"],[0.6666666666666666,\"#ed7953\"],[0.7777777777777778,\"#fb9f3a\"],[0.8888888888888888,\"#fdca26\"],[1.0,\"#f0f921\"]]},\"colorway\":[\"#636efa\",\"#EF553B\",\"#00cc96\",\"#ab63fa\",\"#FFA15A\",\"#19d3f3\",\"#FF6692\",\"#B6E880\",\"#FF97FF\",\"#FECB52\"],\"font\":{\"color\":\"#2a3f5f\"},\"geo\":{\"bgcolor\":\"white\",\"lakecolor\":\"white\",\"landcolor\":\"#E5ECF6\",\"showlakes\":true,\"showland\":true,\"subunitcolor\":\"white\"},\"hoverlabel\":{\"align\":\"left\"},\"hovermode\":\"closest\",\"mapbox\":{\"style\":\"light\"},\"paper_bgcolor\":\"white\",\"plot_bgcolor\":\"#E5ECF6\",\"polar\":{\"angularaxis\":{\"gridcolor\":\"white\",\"linecolor\":\"white\",\"ticks\":\"\"},\"bgcolor\":\"#E5ECF6\",\"radialaxis\":{\"gridcolor\":\"white\",\"linecolor\":\"white\",\"ticks\":\"\"}},\"scene\":{\"xaxis\":{\"backgroundcolor\":\"#E5ECF6\",\"gridcolor\":\"white\",\"gridwidth\":2,\"linecolor\":\"white\",\"showbackground\":true,\"ticks\":\"\",\"zerolinecolor\":\"white\"},\"yaxis\":{\"backgroundcolor\":\"#E5ECF6\",\"gridcolor\":\"white\",\"gridwidth\":2,\"linecolor\":\"white\",\"showbackground\":true,\"ticks\":\"\",\"zerolinecolor\":\"white\"},\"zaxis\":{\"backgroundcolor\":\"#E5ECF6\",\"gridcolor\":\"white\",\"gridwidth\":2,\"linecolor\":\"white\",\"showbackground\":true,\"ticks\":\"\",\"zerolinecolor\":\"white\"}},\"shapedefaults\":{\"line\":{\"color\":\"#2a3f5f\"}},\"ternary\":{\"aaxis\":{\"gridcolor\":\"white\",\"linecolor\":\"white\",\"ticks\":\"\"},\"baxis\":{\"gridcolor\":\"white\",\"linecolor\":\"white\",\"ticks\":\"\"},\"bgcolor\":\"#E5ECF6\",\"caxis\":{\"gridcolor\":\"white\",\"linecolor\":\"white\",\"ticks\":\"\"}},\"title\":{\"x\":0.05},\"xaxis\":{\"automargin\":true,\"gridcolor\":\"white\",\"linecolor\":\"white\",\"ticks\":\"\",\"title\":{\"standoff\":15},\"zerolinecolor\":\"white\",\"zerolinewidth\":2},\"yaxis\":{\"automargin\":true,\"gridcolor\":\"white\",\"linecolor\":\"white\",\"ticks\":\"\",\"title\":{\"standoff\":15},\"zerolinecolor\":\"white\",\"zerolinewidth\":2}}},\"title\":{\"text\":\"Test accuracy\"},\"xaxis\":{\"anchor\":\"y\",\"domain\":[0.0,1.0],\"title\":{\"text\":\"Epochs\"}},\"yaxis\":{\"anchor\":\"x\",\"domain\":[0.0,1.0],\"title\":{\"text\":\"Accuracy [%]\"}}},                        {\"responsive\": true}                    ).then(function(){\n",
              "                            \n",
              "var gd = document.getElementById('e7f0b4ea-3402-49a4-a6c8-03269c73a528');\n",
              "var x = new MutationObserver(function (mutations, observer) {{\n",
              "        var display = window.getComputedStyle(gd).display;\n",
              "        if (!display || display === 'none') {{\n",
              "            console.log([gd, 'removed!']);\n",
              "            Plotly.purge(gd);\n",
              "            observer.disconnect();\n",
              "        }}\n",
              "}});\n",
              "\n",
              "// Listen for the removal of the full notebook cells\n",
              "var notebookContainer = gd.closest('#notebook-container');\n",
              "if (notebookContainer) {{\n",
              "    x.observe(notebookContainer, {childList: true});\n",
              "}}\n",
              "\n",
              "// Listen for the clearing of the current output cell\n",
              "var outputEl = gd.closest('.output');\n",
              "if (outputEl) {{\n",
              "    x.observe(outputEl, {childList: true});\n",
              "}}\n",
              "\n",
              "                        })                };                            </script>        </div>\n",
              "</body>\n",
              "</html>"
            ]
          },
          "metadata": {}
        }
      ]
    },
    {
      "cell_type": "markdown",
      "metadata": {
        "id": "IsTz_7JupUfk"
      },
      "source": [
        "Below we report this Plotly plot to ClearML. ClearML reports Plotly plots in the ClearML Web UI > experiment details > RESULTS tab > PLOTS sub-tab (the same as in the Step 1. above)."
      ]
    },
    {
      "cell_type": "code",
      "metadata": {
        "id": "tbLudmM2pLCV",
        "colab": {
          "base_uri": "https://localhost:8080/"
        },
        "outputId": "67bdd95c-0f36-4cdb-dfc7-ec292c684a78"
      },
      "source": [
        "task = Task.create(project_name='clearml_lab', task_name='compare_experiments')\n",
        "task.get_logger().report_plotly(title='Accuracy', series='Test', iteration=0, figure=fig)\n",
        "task.close()"
      ],
      "execution_count": 28,
      "outputs": [
        {
          "output_type": "stream",
          "name": "stdout",
          "text": [
            "2021-10-12 17:13:43,630 - clearml.Task - INFO - Waiting to finish uploads\n",
            "2021-10-12 17:13:43,814 - clearml.Task - INFO - Finished uploading\n"
          ]
        }
      ]
    },
    {
      "cell_type": "markdown",
      "metadata": {
        "id": "mzLPELjzam4h"
      },
      "source": [
        "### Step _Extra_. Play with the GUI for comparing results.\n",
        "\n",
        "Look through the [Comparing Experiments](https://clear.ml/docs/latest/docs/webapp/webapp_exp_comparing/) guide. Especially interesting can be the [Parallel Coordinates Mode](https://clear.ml/docs/latest/docs/webapp/webapp_exp_comparing/#parallel-coordinates-mode) guide for finding the best hyper-parameters."
      ]
    }
  ]
}