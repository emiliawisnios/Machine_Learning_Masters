{
  "nbformat": 4,
  "nbformat_minor": 0,
  "metadata": {
    "colab": {
      "name": "Bootcaml - ML, Lab 1&2: Numpy, Pandas - student version.ipynb",
      "provenance": [],
      "collapsed_sections": [],
      "toc_visible": true
    },
    "kernelspec": {
      "name": "python3",
      "display_name": "Python 3"
    },
    "language_info": {
      "name": "python"
    }
  },
  "cells": [
    {
      "cell_type": "markdown",
      "metadata": {
        "id": "SeRy_Ng0lfDT"
      },
      "source": [
        "<center><img src='https://drive.google.com/uc?id=1Pl06DMKpHRrRLQiuADOrZIlc9aosJYEq' height=\"60\"></center>\n",
        "\n",
        "AI TECH - Akademia Innowacyjnych Zastosowań Technologii Cyfrowych. Programu Operacyjnego Polska Cyfrowa na lata 2014-2020\n",
        "<hr>\n",
        "\n",
        "<center><img src='https://drive.google.com/uc?id=1PioHCAlQTt8LWChoMysPErSOrxOfAW0R'></center>\n",
        "\n",
        "<center>\n",
        "Projekt współfinansowany ze środków Unii Europejskiej w ramach Europejskiego Funduszu Rozwoju Regionalnego \n",
        "Program Operacyjny Polska Cyfrowa na lata 2014-2020,\n",
        "Oś Priorytetowa nr 3 \"Cyfrowe kompetencje społeczeństwa\" Działanie  nr 3.2 \"Innowacyjne rozwiązania na rzecz aktywizacji cyfrowej\" \n",
        "Tytuł projektu:  „Akademia Innowacyjnych Zastosowań Technologii Cyfrowych (AI Tech)”\n",
        "    </center>\n",
        "\n"
      ]
    },
    {
      "cell_type": "markdown",
      "metadata": {
        "id": "-ylA7nFWkahP"
      },
      "source": [
        "# Bootcamp - introduction to machine learning: NumPy & Pandas\n"
      ]
    },
    {
      "cell_type": "markdown",
      "metadata": {
        "id": "UyaGujEdkxNP"
      },
      "source": [
        "## What is NumPy?\n",
        "\n",
        "NumPy is the fundamental package for scientific computing in Python. It is a Python library that provides a multidimensional array object and an assortment of routines for fast operations on arrays, including mathematical, logical, shape manipulation, sorting, selecting, I/O, basic linear algebra, statistical operations, random simulation and much more.\n",
        "\n",
        "At the core of the NumPy package, is the ndarray object. This encapsulates n-dimensional arrays of homogeneous data types, with many operations being performed in compiled code for performance. There are several important differences between NumPy arrays and the standard Python sequences:\n",
        "\n",
        "- The elements in a NumPy array are all required to be of the same data type, and thus will be the same size in memory. The exception: one can have arrays of (Python, including NumPy) objects, thereby allowing for arrays of different sized elements.\n",
        "\n",
        "- NumPy arrays facilitate advanced mathematical and other types of operations on large numbers of data. Typically, **such operations are executed more efficiently and with less code than is possible using Python’s built-in sequences**.\n",
        "\n",
        "- A growing plethora of scientific and mathematical Python-based packages are using NumPy arrays; though these typically support Python-sequence input, they convert such input to NumPy arrays prior to processing, and they often output NumPy arrays. In other words, in order to efficiently use much (perhaps even most) of today’s scientific/mathematical Python-based software, just knowing how to use Python’s built-in sequence types is insufficient - one also needs to know how to use NumPy arrays.\n",
        "\n",
        "\n",
        "\n",
        "from: https://numpy.org/doc/stable/user/whatisnumpy.html"
      ]
    },
    {
      "cell_type": "code",
      "metadata": {
        "id": "IbloavGiHlwp"
      },
      "source": [
        "import numpy as np\n",
        "import matplotlib.pyplot as plt"
      ],
      "execution_count": 2,
      "outputs": []
    },
    {
      "cell_type": "markdown",
      "metadata": {
        "id": "W80hh5i_nJWl"
      },
      "source": [
        "## Array creation\n",
        "\n",
        "There are multiple ways to create an array, try examples below."
      ]
    },
    {
      "cell_type": "markdown",
      "metadata": {
        "id": "WEq2aTpyoQ1m"
      },
      "source": [
        "### From nested lists"
      ]
    },
    {
      "cell_type": "code",
      "metadata": {
        "colab": {
          "base_uri": "https://localhost:8080/"
        },
        "id": "fBA-gIIcndlB",
        "outputId": "d696381e-f118-4df7-e9f3-8684c76d4b15"
      },
      "source": [
        "array_1d = np.array([1, 2, 3, 4, 5])\n",
        "array_1d"
      ],
      "execution_count": 2,
      "outputs": [
        {
          "output_type": "execute_result",
          "data": {
            "text/plain": [
              "array([1, 2, 3, 4, 5])"
            ]
          },
          "metadata": {},
          "execution_count": 2
        }
      ]
    },
    {
      "cell_type": "code",
      "metadata": {
        "colab": {
          "base_uri": "https://localhost:8080/"
        },
        "id": "rOjlDLLanl7a",
        "outputId": "b0ad601a-3a56-4f31-a4e9-a088483b7bea"
      },
      "source": [
        "array_2d = np.array(\n",
        "  [\n",
        "    [1,  2,  3,  4,  5 ],\n",
        "    [6,  7,  8,  9,  10],\n",
        "    [11, 12, 13, 14, 15]\n",
        "  ]\n",
        ")\n",
        "array_2d"
      ],
      "execution_count": 3,
      "outputs": [
        {
          "output_type": "execute_result",
          "data": {
            "text/plain": [
              "array([[ 1,  2,  3,  4,  5],\n",
              "       [ 6,  7,  8,  9, 10],\n",
              "       [11, 12, 13, 14, 15]])"
            ]
          },
          "metadata": {},
          "execution_count": 3
        }
      ]
    },
    {
      "cell_type": "code",
      "metadata": {
        "colab": {
          "base_uri": "https://localhost:8080/"
        },
        "id": "TzXqVFDdqXbo",
        "outputId": "97dad50b-34a7-4393-c0f9-b7e80ef31051"
      },
      "source": [
        "array_3d = np.array(\n",
        "  [\n",
        "    [\n",
        "      [1,  2,  3,  4,  5 ],\n",
        "      [6,  7,  8,  9,  10],\n",
        "      [11, 12, 13, 14, 15],\n",
        "    ],\n",
        "    [\n",
        "      [16, 17, 18, 19, 20],\n",
        "      [21, 22, 23, 24, 25],\n",
        "      [26, 27, 28, 29, 30],\n",
        "    ]\n",
        "  ]\n",
        ")\n",
        "array_3d"
      ],
      "execution_count": 4,
      "outputs": [
        {
          "output_type": "execute_result",
          "data": {
            "text/plain": [
              "array([[[ 1,  2,  3,  4,  5],\n",
              "        [ 6,  7,  8,  9, 10],\n",
              "        [11, 12, 13, 14, 15]],\n",
              "\n",
              "       [[16, 17, 18, 19, 20],\n",
              "        [21, 22, 23, 24, 25],\n",
              "        [26, 27, 28, 29, 30]]])"
            ]
          },
          "metadata": {},
          "execution_count": 4
        }
      ]
    },
    {
      "cell_type": "markdown",
      "metadata": {
        "id": "webMxD6uoYze"
      },
      "source": [
        "### Using zeros / ones / full\n",
        "\n"
      ]
    },
    {
      "cell_type": "code",
      "metadata": {
        "colab": {
          "base_uri": "https://localhost:8080/"
        },
        "id": "jGqitqyTocBD",
        "outputId": "3901206c-d407-469a-deaa-c77a94d62183"
      },
      "source": [
        "shape = (2, 3)\n",
        "\n",
        "np.zeros(shape)"
      ],
      "execution_count": 5,
      "outputs": [
        {
          "output_type": "execute_result",
          "data": {
            "text/plain": [
              "array([[0., 0., 0.],\n",
              "       [0., 0., 0.]])"
            ]
          },
          "metadata": {},
          "execution_count": 5
        }
      ]
    },
    {
      "cell_type": "code",
      "metadata": {
        "colab": {
          "base_uri": "https://localhost:8080/"
        },
        "id": "cdSok2u-pSPd",
        "outputId": "4dd85eb4-7eea-45af-e32f-1c320c87f1f3"
      },
      "source": [
        "np.ones(shape)"
      ],
      "execution_count": 6,
      "outputs": [
        {
          "output_type": "execute_result",
          "data": {
            "text/plain": [
              "array([[1., 1., 1.],\n",
              "       [1., 1., 1.]])"
            ]
          },
          "metadata": {},
          "execution_count": 6
        }
      ]
    },
    {
      "cell_type": "code",
      "metadata": {
        "colab": {
          "base_uri": "https://localhost:8080/"
        },
        "id": "RCN5_xuhpUQd",
        "outputId": "ceceb6d6-3a73-41cc-dcd9-464d91515687"
      },
      "source": [
        "fill_value = 42\n",
        "np.full(shape, fill_value)"
      ],
      "execution_count": 7,
      "outputs": [
        {
          "output_type": "execute_result",
          "data": {
            "text/plain": [
              "array([[42, 42, 42],\n",
              "       [42, 42, 42]])"
            ]
          },
          "metadata": {},
          "execution_count": 7
        }
      ]
    },
    {
      "cell_type": "markdown",
      "metadata": {
        "id": "9cSS0vIQpiz5"
      },
      "source": [
        "### Using zeros_like / ones_like / full_like"
      ]
    },
    {
      "cell_type": "code",
      "metadata": {
        "colab": {
          "base_uri": "https://localhost:8080/"
        },
        "id": "joGdJhWKpf1u",
        "outputId": "4ad94b78-594d-4f34-a7bb-3ff359f28c42"
      },
      "source": [
        "np.zeros_like(array_2d)"
      ],
      "execution_count": 8,
      "outputs": [
        {
          "output_type": "execute_result",
          "data": {
            "text/plain": [
              "array([[0, 0, 0, 0, 0],\n",
              "       [0, 0, 0, 0, 0],\n",
              "       [0, 0, 0, 0, 0]])"
            ]
          },
          "metadata": {},
          "execution_count": 8
        }
      ]
    },
    {
      "cell_type": "code",
      "metadata": {
        "colab": {
          "base_uri": "https://localhost:8080/"
        },
        "id": "u_1eS6Tlpu_V",
        "outputId": "58955d64-6fba-44c9-837c-eac0c667bfc9"
      },
      "source": [
        "np.ones_like(array_2d)"
      ],
      "execution_count": 9,
      "outputs": [
        {
          "output_type": "execute_result",
          "data": {
            "text/plain": [
              "array([[1, 1, 1, 1, 1],\n",
              "       [1, 1, 1, 1, 1],\n",
              "       [1, 1, 1, 1, 1]])"
            ]
          },
          "metadata": {},
          "execution_count": 9
        }
      ]
    },
    {
      "cell_type": "code",
      "metadata": {
        "colab": {
          "base_uri": "https://localhost:8080/"
        },
        "id": "OIfdmB0ipwum",
        "outputId": "a3d5b193-2387-4aa7-d8e5-aaf921edbb7d"
      },
      "source": [
        "fill_value = 42\n",
        "np.full_like(array_2d, fill_value)"
      ],
      "execution_count": 10,
      "outputs": [
        {
          "output_type": "execute_result",
          "data": {
            "text/plain": [
              "array([[42, 42, 42, 42, 42],\n",
              "       [42, 42, 42, 42, 42],\n",
              "       [42, 42, 42, 42, 42]])"
            ]
          },
          "metadata": {},
          "execution_count": 10
        }
      ]
    },
    {
      "cell_type": "markdown",
      "metadata": {
        "id": "QHpb58Mlstlf"
      },
      "source": [
        "### Using arange / linspace (1D arrays only)\n",
        "\n",
        "which are used to fill an array with values from the interval $[low, high]$ with specific step or number of points."
      ]
    },
    {
      "cell_type": "code",
      "metadata": {
        "colab": {
          "base_uri": "https://localhost:8080/"
        },
        "id": "RXj5fzEtsw8j",
        "outputId": "a1d4db7f-373d-40e7-a463-3c8b96c688b4"
      },
      "source": [
        "start = 0\n",
        "stop  = 1\n",
        "step  = 0.1\n",
        "\n",
        "np.arange(start, stop, step)"
      ],
      "execution_count": 11,
      "outputs": [
        {
          "output_type": "execute_result",
          "data": {
            "text/plain": [
              "array([0. , 0.1, 0.2, 0.3, 0.4, 0.5, 0.6, 0.7, 0.8, 0.9])"
            ]
          },
          "metadata": {},
          "execution_count": 11
        }
      ]
    },
    {
      "cell_type": "code",
      "metadata": {
        "colab": {
          "base_uri": "https://localhost:8080/"
        },
        "id": "ZIeKi-TXtqYv",
        "outputId": "c7a16658-9ad3-4545-8d06-84849b2a3ba8"
      },
      "source": [
        "np.arange(start, stop + 1e-4, step)"
      ],
      "execution_count": 12,
      "outputs": [
        {
          "output_type": "execute_result",
          "data": {
            "text/plain": [
              "array([0. , 0.1, 0.2, 0.3, 0.4, 0.5, 0.6, 0.7, 0.8, 0.9, 1. ])"
            ]
          },
          "metadata": {},
          "execution_count": 12
        }
      ]
    },
    {
      "cell_type": "code",
      "metadata": {
        "colab": {
          "base_uri": "https://localhost:8080/"
        },
        "id": "boiLTInxt0lW",
        "outputId": "14b386ad-8b22-4cff-d91c-c1eaf6618b40"
      },
      "source": [
        "n_steps = int((stop-start)/step) + 1\n",
        "np.linspace(start, stop, n_steps)"
      ],
      "execution_count": 13,
      "outputs": [
        {
          "output_type": "execute_result",
          "data": {
            "text/plain": [
              "array([0. , 0.1, 0.2, 0.3, 0.4, 0.5, 0.6, 0.7, 0.8, 0.9, 1. ])"
            ]
          },
          "metadata": {},
          "execution_count": 13
        }
      ]
    },
    {
      "cell_type": "markdown",
      "metadata": {
        "id": "Xb_VL-mF3eOK"
      },
      "source": [
        "### Using identity / diag (2D arrays only)\n",
        " to create identity or diagonal (with optional offset) matrices."
      ]
    },
    {
      "cell_type": "code",
      "metadata": {
        "colab": {
          "base_uri": "https://localhost:8080/"
        },
        "id": "It68UUiU3dwQ",
        "outputId": "3e6e0612-15b8-4d15-c21e-a34d370b59a0"
      },
      "source": [
        "n = 4\n",
        "np.identity(n)"
      ],
      "execution_count": 14,
      "outputs": [
        {
          "output_type": "execute_result",
          "data": {
            "text/plain": [
              "array([[1., 0., 0., 0.],\n",
              "       [0., 1., 0., 0.],\n",
              "       [0., 0., 1., 0.],\n",
              "       [0., 0., 0., 1.]])"
            ]
          },
          "metadata": {},
          "execution_count": 14
        }
      ]
    },
    {
      "cell_type": "code",
      "metadata": {
        "colab": {
          "base_uri": "https://localhost:8080/"
        },
        "id": "1FLjhK1C4Ec6",
        "outputId": "1f4045b0-ebae-4754-ad20-09d38d4e3ed6"
      },
      "source": [
        "np.diag([1, 2, 3, 4])"
      ],
      "execution_count": 15,
      "outputs": [
        {
          "output_type": "execute_result",
          "data": {
            "text/plain": [
              "array([[1, 0, 0, 0],\n",
              "       [0, 2, 0, 0],\n",
              "       [0, 0, 3, 0],\n",
              "       [0, 0, 0, 4]])"
            ]
          },
          "metadata": {},
          "execution_count": 15
        }
      ]
    },
    {
      "cell_type": "code",
      "metadata": {
        "colab": {
          "base_uri": "https://localhost:8080/"
        },
        "id": "CNk5Kc5p4V5T",
        "outputId": "eb389a6f-7d2d-43f6-cf3b-5813bb4d0156"
      },
      "source": [
        "offset = 1\n",
        "np.diag([1, 2, 3], offset)"
      ],
      "execution_count": 16,
      "outputs": [
        {
          "output_type": "execute_result",
          "data": {
            "text/plain": [
              "array([[0, 1, 0, 0],\n",
              "       [0, 0, 2, 0],\n",
              "       [0, 0, 0, 3],\n",
              "       [0, 0, 0, 0]])"
            ]
          },
          "metadata": {},
          "execution_count": 16
        }
      ]
    },
    {
      "cell_type": "markdown",
      "metadata": {
        "id": "Y0IyazV4-DV9"
      },
      "source": [
        "### Using meshgrid\n",
        "For 1D arrays X_1, ..., X_n meshgrid behavior is specified as follows\n",
        "\n",
        "```\n",
        "G_1, ..., G_n = np.meshgrid(X_1, ..., X_n, indexing='ij')\n",
        "G_j[i_1, i_2, ..., i_n] = X_j[i_j]\n",
        "\n",
        "G_1, ..., G_n = np.meshgrid(X_1, ..., X_n, indexing='xy')  # default indexing\n",
        "G_j[i_2, i_1, i_3, ..., i_n] = X_j[i_j]\n",
        "```\n",
        "\n",
        "what facilitates creating coordinate grids,\n",
        "\n",
        "\n"
      ]
    },
    {
      "cell_type": "code",
      "metadata": {
        "id": "0SHM6BbM_flY"
      },
      "source": [
        "x = np.array([1, 2, 3], dtype=np.int)\n",
        "y = np.array([4, 5, 6, 7], dtype=np.int)\n",
        "\n",
        "x_grid, y_grid = np.meshgrid(x, y, indexing='ij')"
      ],
      "execution_count": 17,
      "outputs": []
    },
    {
      "cell_type": "markdown",
      "metadata": {
        "id": "gXGPzDVbj0EO"
      },
      "source": [
        "such as:"
      ]
    },
    {
      "cell_type": "code",
      "metadata": {
        "colab": {
          "base_uri": "https://localhost:8080/"
        },
        "id": "bWXMGUSv-Cfc",
        "outputId": "1f6d5555-9161-47d4-aadd-f37a6d135929"
      },
      "source": [
        "x_grid"
      ],
      "execution_count": 18,
      "outputs": [
        {
          "output_type": "execute_result",
          "data": {
            "text/plain": [
              "array([[1, 1, 1, 1],\n",
              "       [2, 2, 2, 2],\n",
              "       [3, 3, 3, 3]])"
            ]
          },
          "metadata": {},
          "execution_count": 18
        }
      ]
    },
    {
      "cell_type": "code",
      "metadata": {
        "colab": {
          "base_uri": "https://localhost:8080/"
        },
        "id": "_W4WNW_V_vqx",
        "outputId": "5e1f7a1c-b35f-423e-b620-6793754e7c05"
      },
      "source": [
        "y_grid"
      ],
      "execution_count": 19,
      "outputs": [
        {
          "output_type": "execute_result",
          "data": {
            "text/plain": [
              "array([[4, 5, 6, 7],\n",
              "       [4, 5, 6, 7],\n",
              "       [4, 5, 6, 7]])"
            ]
          },
          "metadata": {},
          "execution_count": 19
        }
      ]
    },
    {
      "cell_type": "code",
      "metadata": {
        "colab": {
          "base_uri": "https://localhost:8080/"
        },
        "id": "pweUsBo8_z3S",
        "outputId": "ab5b4b96-c7fc-47cb-8f0e-e4fe8379ef56"
      },
      "source": [
        "x_grid.shape == y_grid.shape == (len(x), len(y))"
      ],
      "execution_count": 20,
      "outputs": [
        {
          "output_type": "execute_result",
          "data": {
            "text/plain": [
              "True"
            ]
          },
          "metadata": {},
          "execution_count": 20
        }
      ]
    },
    {
      "cell_type": "markdown",
      "metadata": {
        "id": "e6mlIrax7hgC"
      },
      "source": [
        "### Using tile & repeat\n",
        "to create an array filled with \"repeating pattern\"."
      ]
    },
    {
      "cell_type": "code",
      "metadata": {
        "id": "DYXekk6v8H2g"
      },
      "source": [
        "array = np.array([0,1,2])"
      ],
      "execution_count": 21,
      "outputs": []
    },
    {
      "cell_type": "code",
      "metadata": {
        "colab": {
          "base_uri": "https://localhost:8080/"
        },
        "id": "yFGyhV4y7yc8",
        "outputId": "d2a509ef-9bae-4ec4-8aa7-47a781f43d12"
      },
      "source": [
        "np.tile(array, 2)"
      ],
      "execution_count": 22,
      "outputs": [
        {
          "output_type": "execute_result",
          "data": {
            "text/plain": [
              "array([0, 1, 2, 0, 1, 2])"
            ]
          },
          "metadata": {},
          "execution_count": 22
        }
      ]
    },
    {
      "cell_type": "code",
      "metadata": {
        "colab": {
          "base_uri": "https://localhost:8080/"
        },
        "id": "YtiHvEmC76KX",
        "outputId": "7a9e34da-59b5-4bda-f395-ae34e23b1e81"
      },
      "source": [
        "np.tile(array, (2, 1))"
      ],
      "execution_count": 23,
      "outputs": [
        {
          "output_type": "execute_result",
          "data": {
            "text/plain": [
              "array([[0, 1, 2],\n",
              "       [0, 1, 2]])"
            ]
          },
          "metadata": {},
          "execution_count": 23
        }
      ]
    },
    {
      "cell_type": "code",
      "metadata": {
        "colab": {
          "base_uri": "https://localhost:8080/"
        },
        "id": "ivQi_Yr58FSV",
        "outputId": "a456f06e-ac9f-4aa3-a213-f75afdb0374a"
      },
      "source": [
        "np.repeat(array, 2)"
      ],
      "execution_count": 24,
      "outputs": [
        {
          "output_type": "execute_result",
          "data": {
            "text/plain": [
              "array([0, 0, 1, 1, 2, 2])"
            ]
          },
          "metadata": {},
          "execution_count": 24
        }
      ]
    },
    {
      "cell_type": "code",
      "metadata": {
        "colab": {
          "base_uri": "https://localhost:8080/"
        },
        "id": "kYKNAtvs8VE2",
        "outputId": "9bdb727e-b670-4787-dbaa-7484128b576b"
      },
      "source": [
        "np.repeat(array, 2, axis=0)"
      ],
      "execution_count": 25,
      "outputs": [
        {
          "output_type": "execute_result",
          "data": {
            "text/plain": [
              "array([0, 0, 1, 1, 2, 2])"
            ]
          },
          "metadata": {},
          "execution_count": 25
        }
      ]
    },
    {
      "cell_type": "code",
      "metadata": {
        "colab": {
          "base_uri": "https://localhost:8080/"
        },
        "id": "jb1KKdp18chc",
        "outputId": "120db37d-77c2-4449-ce54-56659a2dd78f"
      },
      "source": [
        "np.repeat(array.reshape(1, -1), 2, axis=0)"
      ],
      "execution_count": 26,
      "outputs": [
        {
          "output_type": "execute_result",
          "data": {
            "text/plain": [
              "array([[0, 1, 2],\n",
              "       [0, 1, 2]])"
            ]
          },
          "metadata": {},
          "execution_count": 26
        }
      ]
    },
    {
      "cell_type": "code",
      "metadata": {
        "colab": {
          "base_uri": "https://localhost:8080/"
        },
        "id": "F7Mqcyj-8wsO",
        "outputId": "dc7e88e1-9af4-461b-db7b-d1206a6ddb10"
      },
      "source": [
        "np.repeat(array.reshape(1, -1), 2, axis=1)"
      ],
      "execution_count": 27,
      "outputs": [
        {
          "output_type": "execute_result",
          "data": {
            "text/plain": [
              "array([[0, 0, 1, 1, 2, 2]])"
            ]
          },
          "metadata": {},
          "execution_count": 27
        }
      ]
    },
    {
      "cell_type": "markdown",
      "metadata": {
        "id": "Bvo7c15Z4uyl"
      },
      "source": [
        "## NumPy dtypes\n",
        "\n",
        "Full list of NumPy dtypes is available here: https://numpy.org/doc/stable/user/basics.types.html\n",
        "\n",
        "Among which there are 5 basic numerical types representing booleans (bool), integers (int), unsigned integers (uint) floating point (float) and complex.\n",
        "\n",
        "Data-types can be used as arguments to the dtype keyword that many numpy functions or methods accept, in particular array creation routines.\n",
        "\n",
        "See examples below."
      ]
    },
    {
      "cell_type": "code",
      "metadata": {
        "colab": {
          "base_uri": "https://localhost:8080/"
        },
        "id": "71bkCN7u4uF1",
        "outputId": "ef885dc6-8b92-4bd9-b2eb-9bda22b5c78c"
      },
      "source": [
        "np.array([1, 2, 3, 4, 5], dtype=np.int)"
      ],
      "execution_count": 28,
      "outputs": [
        {
          "output_type": "execute_result",
          "data": {
            "text/plain": [
              "array([1, 2, 3, 4, 5])"
            ]
          },
          "metadata": {},
          "execution_count": 28
        }
      ]
    },
    {
      "cell_type": "code",
      "metadata": {
        "colab": {
          "base_uri": "https://localhost:8080/"
        },
        "id": "pG-Kev4U66cU",
        "outputId": "bacffd05-8cdd-48aa-c144-0d3692a85044"
      },
      "source": [
        "np.array([1, 2, 3, 4, 5], dtype=np.float)"
      ],
      "execution_count": 29,
      "outputs": [
        {
          "output_type": "execute_result",
          "data": {
            "text/plain": [
              "array([1., 2., 3., 4., 5.])"
            ]
          },
          "metadata": {},
          "execution_count": 29
        }
      ]
    },
    {
      "cell_type": "code",
      "metadata": {
        "colab": {
          "base_uri": "https://localhost:8080/"
        },
        "id": "GIvrCwdq6_Mk",
        "outputId": "899366bf-bf96-4f96-dced-3d87772b54ef"
      },
      "source": [
        "np.array([1, 2, 3, 4, 5], dtype=np.complex)"
      ],
      "execution_count": 30,
      "outputs": [
        {
          "output_type": "execute_result",
          "data": {
            "text/plain": [
              "array([1.+0.j, 2.+0.j, 3.+0.j, 4.+0.j, 5.+0.j])"
            ]
          },
          "metadata": {},
          "execution_count": 30
        }
      ]
    },
    {
      "cell_type": "markdown",
      "metadata": {
        "id": "eLPy8VOR7MSH"
      },
      "source": [
        "Types can be casted as follows"
      ]
    },
    {
      "cell_type": "code",
      "metadata": {
        "colab": {
          "base_uri": "https://localhost:8080/"
        },
        "id": "aXDd4Is-7pd1",
        "outputId": "e2ac3af3-7ad8-4527-a8ce-d9b8893febb0"
      },
      "source": [
        "float_array   = np.array([1, 2, 3, 4, 5], dtype=np.float)\n",
        "complex_array = float_array.astype(np.complex)\n",
        "\n",
        "float_array, float_array.dtype"
      ],
      "execution_count": 31,
      "outputs": [
        {
          "output_type": "execute_result",
          "data": {
            "text/plain": [
              "(array([1., 2., 3., 4., 5.]), dtype('float64'))"
            ]
          },
          "metadata": {},
          "execution_count": 31
        }
      ]
    },
    {
      "cell_type": "code",
      "metadata": {
        "colab": {
          "base_uri": "https://localhost:8080/"
        },
        "id": "XZ4nwgP08DdW",
        "outputId": "9863ce19-f1f5-45dd-c7fa-ab078ec87e14"
      },
      "source": [
        "complex_array, complex_array.dtype"
      ],
      "execution_count": 32,
      "outputs": [
        {
          "output_type": "execute_result",
          "data": {
            "text/plain": [
              "(array([1.+0.j, 2.+0.j, 3.+0.j, 4.+0.j, 5.+0.j]), dtype('complex128'))"
            ]
          },
          "metadata": {},
          "execution_count": 32
        }
      ]
    },
    {
      "cell_type": "markdown",
      "metadata": {
        "id": "ZHAX35DzIV6f"
      },
      "source": [
        "## Saving / loading data"
      ]
    },
    {
      "cell_type": "markdown",
      "metadata": {
        "id": "a8JqT2YNIYLT"
      },
      "source": [
        "### Using savetxt / loadtxt\n",
        "\n",
        "to process a single 1D/2D array in human readable format. File created with `savetxt` can be easily accessed with a text editor"
      ]
    },
    {
      "cell_type": "code",
      "metadata": {
        "id": "DzZhxR8GIjZ8",
        "colab": {
          "base_uri": "https://localhost:8080/"
        },
        "outputId": "c59632be-66ef-4ef9-e47b-03eaa14f2f17"
      },
      "source": [
        "data = np.array(\n",
        "  [\n",
        "    [1, 2],\n",
        "    [3, 4],\n",
        "  ]\n",
        ")\n",
        "\n",
        "np.savetxt('data.txt', data)\n",
        "!cat data.txt"
      ],
      "execution_count": 33,
      "outputs": [
        {
          "output_type": "stream",
          "name": "stdout",
          "text": [
            "1.000000000000000000e+00 2.000000000000000000e+00\n",
            "3.000000000000000000e+00 4.000000000000000000e+00\n"
          ]
        }
      ]
    },
    {
      "cell_type": "markdown",
      "metadata": {
        "id": "4NbX_OQvlGWJ"
      },
      "source": [
        "as well as seamlessly loaded back with `loadtxt`.\n"
      ]
    },
    {
      "cell_type": "code",
      "metadata": {
        "colab": {
          "base_uri": "https://localhost:8080/"
        },
        "id": "Qhb4Lak7Ke6T",
        "outputId": "bb1dff4c-438f-4bf9-f2b1-ef10f629a5f0"
      },
      "source": [
        "np.loadtxt('data.txt')"
      ],
      "execution_count": 34,
      "outputs": [
        {
          "output_type": "execute_result",
          "data": {
            "text/plain": [
              "array([[1., 2.],\n",
              "       [3., 4.]])"
            ]
          },
          "metadata": {},
          "execution_count": 34
        }
      ]
    },
    {
      "cell_type": "markdown",
      "metadata": {
        "id": "HQphHlhfJeJR"
      },
      "source": [
        "File format can be specified, see https://numpy.org/doc/stable/reference/generated/numpy.savetxt.html for reference"
      ]
    },
    {
      "cell_type": "code",
      "metadata": {
        "id": "USsR9kCDIsVk",
        "colab": {
          "base_uri": "https://localhost:8080/"
        },
        "outputId": "05c404c8-cc96-49bb-fe22-ce8ae16b2c82"
      },
      "source": [
        "np.savetxt('data.txt', data, fmt='%.2f')\n",
        "!cat data.txt"
      ],
      "execution_count": 35,
      "outputs": [
        {
          "output_type": "stream",
          "name": "stdout",
          "text": [
            "1.00 2.00\n",
            "3.00 4.00\n"
          ]
        }
      ]
    },
    {
      "cell_type": "code",
      "metadata": {
        "colab": {
          "base_uri": "https://localhost:8080/"
        },
        "id": "d0Gzo5ZWLV8N",
        "outputId": "b75f3cdc-26db-43c1-ea79-42a1e20b0a10"
      },
      "source": [
        "np.savetxt('data.txt', data, fmt='%d')\n",
        "!cat data.txt"
      ],
      "execution_count": 38,
      "outputs": [
        {
          "output_type": "stream",
          "name": "stdout",
          "text": [
            "1 2\n",
            "3 4\n"
          ]
        }
      ]
    },
    {
      "cell_type": "markdown",
      "metadata": {
        "id": "YjGhKKPELdhN"
      },
      "source": [
        "Nevertheless information regarding dtype is not preserved."
      ]
    },
    {
      "cell_type": "code",
      "metadata": {
        "colab": {
          "base_uri": "https://localhost:8080/"
        },
        "id": "mTXW5ua_LHoU",
        "outputId": "3ec465fb-9b81-4ff6-89ec-9ded4e754d99"
      },
      "source": [
        "np.loadtxt('data.txt')"
      ],
      "execution_count": 36,
      "outputs": [
        {
          "output_type": "execute_result",
          "data": {
            "text/plain": [
              "array([[1., 2.],\n",
              "       [3., 4.]])"
            ]
          },
          "metadata": {},
          "execution_count": 36
        }
      ]
    },
    {
      "cell_type": "code",
      "metadata": {
        "colab": {
          "base_uri": "https://localhost:8080/"
        },
        "id": "vz3si1gRLKs9",
        "outputId": "168faa1b-0370-471b-8289-9995d64ff177"
      },
      "source": [
        "np.loadtxt('data.txt', dtype=np.int)"
      ],
      "execution_count": 39,
      "outputs": [
        {
          "output_type": "execute_result",
          "data": {
            "text/plain": [
              "array([[1, 2],\n",
              "       [3, 4]])"
            ]
          },
          "metadata": {},
          "execution_count": 39
        }
      ]
    },
    {
      "cell_type": "markdown",
      "metadata": {
        "id": "j_VJpd3LlxHY"
      },
      "source": [
        "`savetxt` method can be used to save an array in csv format, we only need to specify the proper delimiter"
      ]
    },
    {
      "cell_type": "code",
      "metadata": {
        "id": "S-PlqdM0lZDY",
        "colab": {
          "base_uri": "https://localhost:8080/"
        },
        "outputId": "77ea9086-c32f-40bf-cf34-4fa838d3a2b0"
      },
      "source": [
        "np.savetxt('data.csv', data, delimiter=',', fmt='%.2f')\n",
        "!cat data.csv"
      ],
      "execution_count": 40,
      "outputs": [
        {
          "output_type": "stream",
          "name": "stdout",
          "text": [
            "1.00,2.00\n",
            "3.00,4.00\n"
          ]
        }
      ]
    },
    {
      "cell_type": "markdown",
      "metadata": {
        "id": "RDOnFgRNmPlM"
      },
      "source": [
        "as well as loaded back"
      ]
    },
    {
      "cell_type": "code",
      "metadata": {
        "colab": {
          "base_uri": "https://localhost:8080/"
        },
        "id": "ENHRU23jmRZc",
        "outputId": "4c539197-fe10-433c-b8ec-c1acf944834f"
      },
      "source": [
        "np.loadtxt('data.csv', delimiter=',')"
      ],
      "execution_count": 41,
      "outputs": [
        {
          "output_type": "execute_result",
          "data": {
            "text/plain": [
              "array([[1., 2.],\n",
              "       [3., 4.]])"
            ]
          },
          "metadata": {},
          "execution_count": 41
        }
      ]
    },
    {
      "cell_type": "markdown",
      "metadata": {
        "id": "ugKAZugbLycP"
      },
      "source": [
        "### Using save / load \n",
        "to process an arbitrary array in binary format. Unfortunalety the resulting file is not human readable. On the other these methods can handle array of orbitrary shape and preserve the underlying dtype."
      ]
    },
    {
      "cell_type": "code",
      "metadata": {
        "colab": {
          "base_uri": "https://localhost:8080/"
        },
        "id": "2lTtexfcMEu3",
        "outputId": "72350804-8bfa-4daa-c976-4a3852879fba"
      },
      "source": [
        "data = np.array(\n",
        "  [\n",
        "    [\n",
        "      [1, 2],\n",
        "      [3, 4],\n",
        "    ]\n",
        "  ]\n",
        ")\n",
        "\n",
        "np.save('data.npy', data)\n",
        "\n",
        "!cat data.npy"
      ],
      "execution_count": 43,
      "outputs": [
        {
          "output_type": "stream",
          "name": "stdout",
          "text": [
            "�NUMPY\u0001\u0000v\u0000{'descr': '<i8', 'fortran_order': False, 'shape': (1, 2, 2), }                                                       \n",
            "\u0001\u0000\u0000\u0000\u0000\u0000\u0000\u0000\u0002\u0000\u0000\u0000\u0000\u0000\u0000\u0000\u0003\u0000\u0000\u0000\u0000\u0000\u0000\u0000\u0004\u0000\u0000\u0000\u0000\u0000\u0000\u0000"
          ]
        }
      ]
    },
    {
      "cell_type": "code",
      "metadata": {
        "colab": {
          "base_uri": "https://localhost:8080/"
        },
        "id": "1Pk_OTk2MHqL",
        "outputId": "33fdc2c0-5676-4be0-fa0a-eb1a17607c64"
      },
      "source": [
        "np.load('data.npy')"
      ],
      "execution_count": 44,
      "outputs": [
        {
          "output_type": "execute_result",
          "data": {
            "text/plain": [
              "array([[[1, 2],\n",
              "        [3, 4]]])"
            ]
          },
          "metadata": {},
          "execution_count": 44
        }
      ]
    },
    {
      "cell_type": "code",
      "metadata": {
        "colab": {
          "base_uri": "https://localhost:8080/"
        },
        "id": "zYrC513RMMh6",
        "outputId": "ed018a0c-c63c-4436-c01f-6bcfa6e8a6c8"
      },
      "source": [
        "np.load('data.npy').dtype == data.dtype"
      ],
      "execution_count": 45,
      "outputs": [
        {
          "output_type": "execute_result",
          "data": {
            "text/plain": [
              "True"
            ]
          },
          "metadata": {},
          "execution_count": 45
        }
      ]
    },
    {
      "cell_type": "markdown",
      "metadata": {
        "id": "lkpcm3PlMXtv"
      },
      "source": [
        "### Using savez / load\n",
        "\n",
        "to process **multiple** arbitrary arrays in binary format. The result of the load operation is an object of dictionary-like structure."
      ]
    },
    {
      "cell_type": "code",
      "metadata": {
        "colab": {
          "base_uri": "https://localhost:8080/"
        },
        "id": "-bn26s1dMXtv",
        "outputId": "9bc4afe9-38ed-49fe-f096-e488570e3f86"
      },
      "source": [
        "array_1 = np.array([1, 2, 3], dtype=np.int)\n",
        "array_2 = np.array([[4, 5, 6]], dtype=np.float)\n",
        "array_3 = np.array([[[7, 8, 9]]], dtype=np.complex)\n",
        "\n",
        "np.savez('data.npz', array_1, array_2, some_name=array_3)\n",
        "loaded_data = np.load('data.npz')\n",
        "loaded_data.files"
      ],
      "execution_count": 46,
      "outputs": [
        {
          "output_type": "execute_result",
          "data": {
            "text/plain": [
              "['some_name', 'arr_0', 'arr_1']"
            ]
          },
          "metadata": {},
          "execution_count": 46
        }
      ]
    },
    {
      "cell_type": "code",
      "metadata": {
        "colab": {
          "base_uri": "https://localhost:8080/"
        },
        "id": "FiwGug7xMXtw",
        "outputId": "e97d30bd-eafa-40bb-9ecb-230ae989c3c2"
      },
      "source": [
        "loaded_data['arr_0']"
      ],
      "execution_count": 47,
      "outputs": [
        {
          "output_type": "execute_result",
          "data": {
            "text/plain": [
              "array([1, 2, 3])"
            ]
          },
          "metadata": {},
          "execution_count": 47
        }
      ]
    },
    {
      "cell_type": "code",
      "metadata": {
        "colab": {
          "base_uri": "https://localhost:8080/"
        },
        "id": "rHCoJAwdOGxd",
        "outputId": "2f2a1b1a-e316-4b6e-d9b6-1e05ab10849e"
      },
      "source": [
        "loaded_data['arr_1']"
      ],
      "execution_count": 48,
      "outputs": [
        {
          "output_type": "execute_result",
          "data": {
            "text/plain": [
              "array([[4., 5., 6.]])"
            ]
          },
          "metadata": {},
          "execution_count": 48
        }
      ]
    },
    {
      "cell_type": "code",
      "metadata": {
        "colab": {
          "base_uri": "https://localhost:8080/"
        },
        "id": "Kgv1HwOnMXtx",
        "outputId": "693f2393-3918-4330-d50e-f790bbf3e712"
      },
      "source": [
        "loaded_data['some_name']"
      ],
      "execution_count": 49,
      "outputs": [
        {
          "output_type": "execute_result",
          "data": {
            "text/plain": [
              "array([[[7.+0.j, 8.+0.j, 9.+0.j]]])"
            ]
          },
          "metadata": {},
          "execution_count": 49
        }
      ]
    },
    {
      "cell_type": "markdown",
      "metadata": {
        "id": "7pPE-mrEAB4T"
      },
      "source": [
        "### Using savez_compressed / load \n",
        "to process multiple arbitrary arrays in binary format with compression. It behaves just as savez but the resulting file is also compressed, what save space on the disk. \n",
        "\n"
      ]
    },
    {
      "cell_type": "code",
      "metadata": {
        "id": "xtWLF3gknZyN"
      },
      "source": [
        "shape = (1000, 1000)\n",
        "data = np.ones(shape)\n",
        "np.savez('data_uncompressed.npz', data)\n",
        "np.savez_compressed('data_compressed.npz', data)"
      ],
      "execution_count": 50,
      "outputs": []
    },
    {
      "cell_type": "markdown",
      "metadata": {
        "id": "xZac4u3Qn6rB"
      },
      "source": [
        "We can compare the filesizes with `ls` command."
      ]
    },
    {
      "cell_type": "code",
      "metadata": {
        "colab": {
          "base_uri": "https://localhost:8080/"
        },
        "id": "EYY-wyecn_VR",
        "outputId": "5949ea1f-ec38-489c-d299-6ea9d515d512"
      },
      "source": [
        "!ls data_*compressed.npz -lh"
      ],
      "execution_count": 51,
      "outputs": [
        {
          "output_type": "stream",
          "name": "stdout",
          "text": [
            "-rw-r--r-- 1 root root  12K Oct  4 16:31 data_compressed.npz\n",
            "-rw-r--r-- 1 root root 7.7M Oct  4 16:31 data_uncompressed.npz\n"
          ]
        }
      ]
    },
    {
      "cell_type": "markdown",
      "metadata": {
        "id": "u7MwrG5zOd0u"
      },
      "source": [
        "## Shape manipulation\n",
        "It possible tha change the structure of data in the array. See examples below."
      ]
    },
    {
      "cell_type": "markdown",
      "metadata": {
        "id": "HcfnlAKZRybF"
      },
      "source": [
        "#### Reshape"
      ]
    },
    {
      "cell_type": "code",
      "metadata": {
        "colab": {
          "base_uri": "https://localhost:8080/"
        },
        "id": "BV0M5pEUR7uZ",
        "outputId": "7e19eae0-328b-4a00-c4f1-d606e5338af2"
      },
      "source": [
        "data = np.arange(0, 12, 1, dtype = np.int)\n",
        "data"
      ],
      "execution_count": 52,
      "outputs": [
        {
          "output_type": "execute_result",
          "data": {
            "text/plain": [
              "array([ 0,  1,  2,  3,  4,  5,  6,  7,  8,  9, 10, 11])"
            ]
          },
          "metadata": {},
          "execution_count": 52
        }
      ]
    },
    {
      "cell_type": "code",
      "metadata": {
        "id": "W32PRVRRSP6C",
        "colab": {
          "base_uri": "https://localhost:8080/"
        },
        "outputId": "5e596c43-efb1-43f3-e653-96ddb73d403d"
      },
      "source": [
        "data.reshape(3, 4)"
      ],
      "execution_count": 53,
      "outputs": [
        {
          "output_type": "execute_result",
          "data": {
            "text/plain": [
              "array([[ 0,  1,  2,  3],\n",
              "       [ 4,  5,  6,  7],\n",
              "       [ 8,  9, 10, 11]])"
            ]
          },
          "metadata": {},
          "execution_count": 53
        }
      ]
    },
    {
      "cell_type": "code",
      "metadata": {
        "id": "qrMXwOeWSRtS",
        "colab": {
          "base_uri": "https://localhost:8080/"
        },
        "outputId": "ee600070-b223-4fdf-9ccb-4ab70762cf0d"
      },
      "source": [
        "data.reshape(4, 3)"
      ],
      "execution_count": 54,
      "outputs": [
        {
          "output_type": "execute_result",
          "data": {
            "text/plain": [
              "array([[ 0,  1,  2],\n",
              "       [ 3,  4,  5],\n",
              "       [ 6,  7,  8],\n",
              "       [ 9, 10, 11]])"
            ]
          },
          "metadata": {},
          "execution_count": 54
        }
      ]
    },
    {
      "cell_type": "code",
      "metadata": {
        "id": "ABDOg0W_STMb",
        "colab": {
          "base_uri": "https://localhost:8080/"
        },
        "outputId": "69212b3c-96b7-440f-de37-2b1bc9c30346"
      },
      "source": [
        "data_reshaped = data.reshape(2, 3, 2)\n",
        "data_reshaped"
      ],
      "execution_count": 55,
      "outputs": [
        {
          "output_type": "execute_result",
          "data": {
            "text/plain": [
              "array([[[ 0,  1],\n",
              "        [ 2,  3],\n",
              "        [ 4,  5]],\n",
              "\n",
              "       [[ 6,  7],\n",
              "        [ 8,  9],\n",
              "        [10, 11]]])"
            ]
          },
          "metadata": {},
          "execution_count": 55
        }
      ]
    },
    {
      "cell_type": "code",
      "metadata": {
        "id": "enjgvo5GSXwr",
        "colab": {
          "base_uri": "https://localhost:8080/"
        },
        "outputId": "610b2a05-a88c-42cb-860d-953e100fa121"
      },
      "source": [
        "shape = data_reshaped.shape\n",
        "shape"
      ],
      "execution_count": 56,
      "outputs": [
        {
          "output_type": "execute_result",
          "data": {
            "text/plain": [
              "(2, 3, 2)"
            ]
          },
          "metadata": {},
          "execution_count": 56
        }
      ]
    },
    {
      "cell_type": "markdown",
      "metadata": {
        "id": "E5eLjehcUI54"
      },
      "source": [
        "#### Inferring **one** dimension while usigng reshape method"
      ]
    },
    {
      "cell_type": "code",
      "metadata": {
        "id": "D1uvX6j2UOn1",
        "colab": {
          "base_uri": "https://localhost:8080/"
        },
        "outputId": "47da1f86-1751-4523-fd00-5f03986f17c9"
      },
      "source": [
        "data.reshape(6, -1)"
      ],
      "execution_count": 57,
      "outputs": [
        {
          "output_type": "execute_result",
          "data": {
            "text/plain": [
              "array([[ 0,  1],\n",
              "       [ 2,  3],\n",
              "       [ 4,  5],\n",
              "       [ 6,  7],\n",
              "       [ 8,  9],\n",
              "       [10, 11]])"
            ]
          },
          "metadata": {},
          "execution_count": 57
        }
      ]
    },
    {
      "cell_type": "code",
      "metadata": {
        "id": "KJKIn8I2UTdY",
        "colab": {
          "base_uri": "https://localhost:8080/"
        },
        "outputId": "e94e69cd-0f1e-4ce5-97ab-d0d19e4cab0c"
      },
      "source": [
        "data.reshape(-1, 6)"
      ],
      "execution_count": 58,
      "outputs": [
        {
          "output_type": "execute_result",
          "data": {
            "text/plain": [
              "array([[ 0,  1,  2,  3,  4,  5],\n",
              "       [ 6,  7,  8,  9, 10, 11]])"
            ]
          },
          "metadata": {},
          "execution_count": 58
        }
      ]
    },
    {
      "cell_type": "code",
      "metadata": {
        "id": "YVRFWz5KUVyh",
        "colab": {
          "base_uri": "https://localhost:8080/"
        },
        "outputId": "b24f30b4-0fbb-45f9-cf51-d6b013c2a642"
      },
      "source": [
        "data.reshape(3, 2, -1)"
      ],
      "execution_count": 59,
      "outputs": [
        {
          "output_type": "execute_result",
          "data": {
            "text/plain": [
              "array([[[ 0,  1],\n",
              "        [ 2,  3]],\n",
              "\n",
              "       [[ 4,  5],\n",
              "        [ 6,  7]],\n",
              "\n",
              "       [[ 8,  9],\n",
              "        [10, 11]]])"
            ]
          },
          "metadata": {},
          "execution_count": 59
        }
      ]
    },
    {
      "cell_type": "markdown",
      "metadata": {
        "id": "z7JN4va5UFNQ"
      },
      "source": [
        "#### Flatten"
      ]
    },
    {
      "cell_type": "code",
      "metadata": {
        "id": "VbfFSFnNSlKM",
        "colab": {
          "base_uri": "https://localhost:8080/"
        },
        "outputId": "f8021b8f-4be2-4b61-86f8-39386612170c"
      },
      "source": [
        "data_reshaped.flatten()"
      ],
      "execution_count": 60,
      "outputs": [
        {
          "output_type": "execute_result",
          "data": {
            "text/plain": [
              "array([ 0,  1,  2,  3,  4,  5,  6,  7,  8,  9, 10, 11])"
            ]
          },
          "metadata": {},
          "execution_count": 60
        }
      ]
    },
    {
      "cell_type": "markdown",
      "metadata": {
        "id": "C1Q-G6XiUgHZ"
      },
      "source": [
        "#### Adding / deleting dummy dimensions\n",
        "Facilites vectorized arithmetic with conjunction with broadcasting mechanism (explained later)"
      ]
    },
    {
      "cell_type": "code",
      "metadata": {
        "id": "ttSoPC-4UfH8",
        "colab": {
          "base_uri": "https://localhost:8080/"
        },
        "outputId": "088b6822-79c3-4e39-faa0-be9006f1e11b"
      },
      "source": [
        "data"
      ],
      "execution_count": 61,
      "outputs": [
        {
          "output_type": "execute_result",
          "data": {
            "text/plain": [
              "array([ 0,  1,  2,  3,  4,  5,  6,  7,  8,  9, 10, 11])"
            ]
          },
          "metadata": {},
          "execution_count": 61
        }
      ]
    },
    {
      "cell_type": "code",
      "metadata": {
        "id": "V8u1DSQ4VOks",
        "colab": {
          "base_uri": "https://localhost:8080/"
        },
        "outputId": "528c15ee-4b4a-4601-e1ff-3b47f3d590f8"
      },
      "source": [
        "data.shape"
      ],
      "execution_count": 62,
      "outputs": [
        {
          "output_type": "execute_result",
          "data": {
            "text/plain": [
              "(12,)"
            ]
          },
          "metadata": {},
          "execution_count": 62
        }
      ]
    },
    {
      "cell_type": "code",
      "metadata": {
        "id": "u5aGbVEKU5i9",
        "colab": {
          "base_uri": "https://localhost:8080/"
        },
        "outputId": "2cddd219-b56b-43a2-d444-0e2660d040e2"
      },
      "source": [
        "data_expanded1 = np.expand_dims(data, 0)\n",
        "data_expanded1"
      ],
      "execution_count": 63,
      "outputs": [
        {
          "output_type": "execute_result",
          "data": {
            "text/plain": [
              "array([[ 0,  1,  2,  3,  4,  5,  6,  7,  8,  9, 10, 11]])"
            ]
          },
          "metadata": {},
          "execution_count": 63
        }
      ]
    },
    {
      "cell_type": "code",
      "metadata": {
        "id": "7jf6QbLDVCqr",
        "colab": {
          "base_uri": "https://localhost:8080/"
        },
        "outputId": "f8d774a0-08f4-4bae-aec0-472d9ba03b50"
      },
      "source": [
        "data_expanded1.shape"
      ],
      "execution_count": 64,
      "outputs": [
        {
          "output_type": "execute_result",
          "data": {
            "text/plain": [
              "(1, 12)"
            ]
          },
          "metadata": {},
          "execution_count": 64
        }
      ]
    },
    {
      "cell_type": "code",
      "metadata": {
        "id": "Vr3DxigtVD9b",
        "colab": {
          "base_uri": "https://localhost:8080/"
        },
        "outputId": "fbe19759-a698-4e01-d3ba-0b89b16eee01"
      },
      "source": [
        "data_expanded2 = np.expand_dims(data, 1)\n",
        "data_expanded2"
      ],
      "execution_count": 65,
      "outputs": [
        {
          "output_type": "execute_result",
          "data": {
            "text/plain": [
              "array([[ 0],\n",
              "       [ 1],\n",
              "       [ 2],\n",
              "       [ 3],\n",
              "       [ 4],\n",
              "       [ 5],\n",
              "       [ 6],\n",
              "       [ 7],\n",
              "       [ 8],\n",
              "       [ 9],\n",
              "       [10],\n",
              "       [11]])"
            ]
          },
          "metadata": {},
          "execution_count": 65
        }
      ]
    },
    {
      "cell_type": "code",
      "metadata": {
        "id": "V1rEBe5VVHje",
        "colab": {
          "base_uri": "https://localhost:8080/"
        },
        "outputId": "89d7e576-ef88-428d-bc70-4d32eae96cc9"
      },
      "source": [
        "data_expanded2.shape"
      ],
      "execution_count": 66,
      "outputs": [
        {
          "output_type": "execute_result",
          "data": {
            "text/plain": [
              "(12, 1)"
            ]
          },
          "metadata": {},
          "execution_count": 66
        }
      ]
    },
    {
      "cell_type": "code",
      "metadata": {
        "id": "CAM7vbmNVLHM",
        "colab": {
          "base_uri": "https://localhost:8080/"
        },
        "outputId": "8e6283bd-d092-4769-cfde-15b7adb60530"
      },
      "source": [
        "data_expanded3 = np.expand_dims(data_expanded1, 2)\n",
        "data_expanded3"
      ],
      "execution_count": 67,
      "outputs": [
        {
          "output_type": "execute_result",
          "data": {
            "text/plain": [
              "array([[[ 0],\n",
              "        [ 1],\n",
              "        [ 2],\n",
              "        [ 3],\n",
              "        [ 4],\n",
              "        [ 5],\n",
              "        [ 6],\n",
              "        [ 7],\n",
              "        [ 8],\n",
              "        [ 9],\n",
              "        [10],\n",
              "        [11]]])"
            ]
          },
          "metadata": {},
          "execution_count": 67
        }
      ]
    },
    {
      "cell_type": "code",
      "metadata": {
        "id": "xCuzgo84V_QG",
        "colab": {
          "base_uri": "https://localhost:8080/"
        },
        "outputId": "11638271-8230-479c-c712-7bafe8dea7dc"
      },
      "source": [
        "data_expanded3.shape"
      ],
      "execution_count": 68,
      "outputs": [
        {
          "output_type": "execute_result",
          "data": {
            "text/plain": [
              "(1, 12, 1)"
            ]
          },
          "metadata": {},
          "execution_count": 68
        }
      ]
    },
    {
      "cell_type": "code",
      "metadata": {
        "id": "s8fcV0ywV_lC",
        "colab": {
          "base_uri": "https://localhost:8080/"
        },
        "outputId": "cbaf21be-493d-40d1-9f4b-8e3ebf4ae416"
      },
      "source": [
        "data_squeezed = data_expanded3.squeeze()\n",
        "data_squeezed"
      ],
      "execution_count": 69,
      "outputs": [
        {
          "output_type": "execute_result",
          "data": {
            "text/plain": [
              "array([ 0,  1,  2,  3,  4,  5,  6,  7,  8,  9, 10, 11])"
            ]
          },
          "metadata": {},
          "execution_count": 69
        }
      ]
    },
    {
      "cell_type": "code",
      "metadata": {
        "id": "uykmKsMFWFPJ",
        "colab": {
          "base_uri": "https://localhost:8080/"
        },
        "outputId": "b569b82a-9d05-431b-b1f8-fd16a211dec4"
      },
      "source": [
        "data_squeezed.shape"
      ],
      "execution_count": 70,
      "outputs": [
        {
          "output_type": "execute_result",
          "data": {
            "text/plain": [
              "(12,)"
            ]
          },
          "metadata": {},
          "execution_count": 70
        }
      ]
    },
    {
      "cell_type": "markdown",
      "metadata": {
        "id": "LpAE74RVWIZ6"
      },
      "source": [
        "#### Transposing\n",
        "\n",
        "For 2D arrays it behaves just as expected (performs matrix transpose)."
      ]
    },
    {
      "cell_type": "code",
      "metadata": {
        "id": "TlDkSdFbWr3S",
        "colab": {
          "base_uri": "https://localhost:8080/"
        },
        "outputId": "80011c89-ea10-4fa7-b628-01736955a9c3"
      },
      "source": [
        "data = np.arange(0, 4, 1).reshape(2, 2)\n",
        "data"
      ],
      "execution_count": 71,
      "outputs": [
        {
          "output_type": "execute_result",
          "data": {
            "text/plain": [
              "array([[0, 1],\n",
              "       [2, 3]])"
            ]
          },
          "metadata": {},
          "execution_count": 71
        }
      ]
    },
    {
      "cell_type": "code",
      "metadata": {
        "id": "LuTAWIIIWztK",
        "colab": {
          "base_uri": "https://localhost:8080/"
        },
        "outputId": "e1e8b60a-1c17-4fe2-cda3-15e435dc6b4d"
      },
      "source": [
        "data.transpose()"
      ],
      "execution_count": 72,
      "outputs": [
        {
          "output_type": "execute_result",
          "data": {
            "text/plain": [
              "array([[0, 2],\n",
              "       [1, 3]])"
            ]
          },
          "metadata": {},
          "execution_count": 72
        }
      ]
    },
    {
      "cell_type": "markdown",
      "metadata": {
        "id": "a1CUvf_SXETi"
      },
      "source": [
        "For higher dimensional arrays its best visualized via observing how the shape changes."
      ]
    },
    {
      "cell_type": "code",
      "metadata": {
        "id": "MoB0Bm2xWdoK",
        "colab": {
          "base_uri": "https://localhost:8080/"
        },
        "outputId": "f50c0a83-24f5-4357-d3dc-3549fdee11f6"
      },
      "source": [
        "shape = (1, 2, 3, 4)\n",
        "data = np.ones(shape)\n",
        "data.shape"
      ],
      "execution_count": 73,
      "outputs": [
        {
          "output_type": "execute_result",
          "data": {
            "text/plain": [
              "(1, 2, 3, 4)"
            ]
          },
          "metadata": {},
          "execution_count": 73
        }
      ]
    },
    {
      "cell_type": "markdown",
      "metadata": {
        "id": "KhiAsVjqXjHP"
      },
      "source": [
        "The default behavior is to flip dimensions."
      ]
    },
    {
      "cell_type": "code",
      "metadata": {
        "id": "FRtIar69XoTk",
        "colab": {
          "base_uri": "https://localhost:8080/"
        },
        "outputId": "9649b9d7-4120-448f-9eae-8ce855f4f873"
      },
      "source": [
        "data.transpose().shape"
      ],
      "execution_count": 74,
      "outputs": [
        {
          "output_type": "execute_result",
          "data": {
            "text/plain": [
              "(4, 3, 2, 1)"
            ]
          },
          "metadata": {},
          "execution_count": 74
        }
      ]
    },
    {
      "cell_type": "markdown",
      "metadata": {
        "id": "CmLxe99uXsHc"
      },
      "source": [
        "However other permutations of dimensions might be specified."
      ]
    },
    {
      "cell_type": "code",
      "metadata": {
        "id": "rCQvZCdvWiyz",
        "colab": {
          "base_uri": "https://localhost:8080/"
        },
        "outputId": "3724dabf-f802-4148-c318-2af1d8241d3d"
      },
      "source": [
        "dimensions_permutation = [1, 0, 3, 2]\n",
        "data.transpose(dimensions_permutation).shape"
      ],
      "execution_count": 75,
      "outputs": [
        {
          "output_type": "execute_result",
          "data": {
            "text/plain": [
              "(2, 1, 4, 3)"
            ]
          },
          "metadata": {},
          "execution_count": 75
        }
      ]
    },
    {
      "cell_type": "markdown",
      "metadata": {
        "id": "-wTUj5N4Wj1c"
      },
      "source": [
        "`.T` is a shortand for `.transpose()`"
      ]
    },
    {
      "cell_type": "code",
      "metadata": {
        "id": "jJ0zxRMXYw5H",
        "colab": {
          "base_uri": "https://localhost:8080/"
        },
        "outputId": "3030624e-ad92-465a-8e9a-1147134be804"
      },
      "source": [
        "data.T.shape"
      ],
      "execution_count": 76,
      "outputs": [
        {
          "output_type": "execute_result",
          "data": {
            "text/plain": [
              "(4, 3, 2, 1)"
            ]
          },
          "metadata": {},
          "execution_count": 76
        }
      ]
    },
    {
      "cell_type": "markdown",
      "metadata": {
        "id": "L9ypvo97uHpM"
      },
      "source": [
        "## Concatenation & stacking\n",
        "The following methods are used to merge multiple arrays (with compatible shapes) into one array."
      ]
    },
    {
      "cell_type": "markdown",
      "metadata": {
        "id": "PnRyiUEWvmKc"
      },
      "source": [
        "### concatenate\n",
        "used to join a sequence of arrays along an **existing** axis."
      ]
    },
    {
      "cell_type": "code",
      "metadata": {
        "colab": {
          "base_uri": "https://localhost:8080/"
        },
        "id": "_AMMldjRuLDk",
        "outputId": "d014f929-2969-4ecf-a4c2-3dd38259da68"
      },
      "source": [
        "shape = (4,)\n",
        "array_1 = np.full(shape, 1)\n",
        "array_2 = np.full(shape, 2)\n",
        "\n",
        "array_1, array_2"
      ],
      "execution_count": 77,
      "outputs": [
        {
          "output_type": "execute_result",
          "data": {
            "text/plain": [
              "(array([1, 1, 1, 1]), array([2, 2, 2, 2]))"
            ]
          },
          "metadata": {},
          "execution_count": 77
        }
      ]
    },
    {
      "cell_type": "code",
      "metadata": {
        "colab": {
          "base_uri": "https://localhost:8080/"
        },
        "id": "6tmV5Xdxulyk",
        "outputId": "2e37a55d-c875-40bb-8e5a-3912aa779c01"
      },
      "source": [
        "np.concatenate([array_1, array_2, array_1])"
      ],
      "execution_count": 78,
      "outputs": [
        {
          "output_type": "execute_result",
          "data": {
            "text/plain": [
              "array([1, 1, 1, 1, 2, 2, 2, 2, 1, 1, 1, 1])"
            ]
          },
          "metadata": {},
          "execution_count": 78
        }
      ]
    },
    {
      "cell_type": "code",
      "metadata": {
        "colab": {
          "base_uri": "https://localhost:8080/"
        },
        "id": "qLX4ZlU0u98d",
        "outputId": "989b6607-56c9-43b9-896d-bff5a411ccbd"
      },
      "source": [
        "array_1 = array_1.reshape(1, -1)\n",
        "array_2 = array_2.reshape(1, -1)\n",
        "\n",
        "array_1, array_2"
      ],
      "execution_count": 79,
      "outputs": [
        {
          "output_type": "execute_result",
          "data": {
            "text/plain": [
              "(array([[1, 1, 1, 1]]), array([[2, 2, 2, 2]]))"
            ]
          },
          "metadata": {},
          "execution_count": 79
        }
      ]
    },
    {
      "cell_type": "markdown",
      "metadata": {
        "id": "BHsemg62vKqO"
      },
      "source": [
        "The default axis to join on is 0"
      ]
    },
    {
      "cell_type": "code",
      "metadata": {
        "colab": {
          "base_uri": "https://localhost:8080/"
        },
        "id": "Z6gb6VjvvVjX",
        "outputId": "c19cd6d7-d53d-492e-dafd-64fbc18b6acb"
      },
      "source": [
        "np.concatenate([array_1, array_2, array_1])"
      ],
      "execution_count": 80,
      "outputs": [
        {
          "output_type": "execute_result",
          "data": {
            "text/plain": [
              "array([[1, 1, 1, 1],\n",
              "       [2, 2, 2, 2],\n",
              "       [1, 1, 1, 1]])"
            ]
          },
          "metadata": {},
          "execution_count": 80
        }
      ]
    },
    {
      "cell_type": "markdown",
      "metadata": {
        "id": "0laiWLYsvW3m"
      },
      "source": [
        "But it can be changed"
      ]
    },
    {
      "cell_type": "code",
      "metadata": {
        "colab": {
          "base_uri": "https://localhost:8080/"
        },
        "id": "A0jUTxCsva4u",
        "outputId": "ce259fae-3cd8-4f96-9b99-87d85a67c3c9"
      },
      "source": [
        "np.concatenate([array_1, array_2, array_1], axis=1)"
      ],
      "execution_count": 81,
      "outputs": [
        {
          "output_type": "execute_result",
          "data": {
            "text/plain": [
              "array([[1, 1, 1, 1, 2, 2, 2, 2, 1, 1, 1, 1]])"
            ]
          },
          "metadata": {},
          "execution_count": 81
        }
      ]
    },
    {
      "cell_type": "markdown",
      "metadata": {
        "id": "--40g1HAvqZE"
      },
      "source": [
        "### stack\n",
        "\n",
        "used to stack a sequence of arrays along a **new** axis."
      ]
    },
    {
      "cell_type": "code",
      "metadata": {
        "colab": {
          "base_uri": "https://localhost:8080/"
        },
        "id": "IQmFfIiZv1n4",
        "outputId": "1b90e71d-f8d0-4785-ea8a-f5f0d925f703"
      },
      "source": [
        "shape = (4,)\n",
        "array_1 = np.full(shape, 1)\n",
        "array_2 = np.full(shape, 2)\n",
        "\n",
        "array_1, array_2"
      ],
      "execution_count": 82,
      "outputs": [
        {
          "output_type": "execute_result",
          "data": {
            "text/plain": [
              "(array([1, 1, 1, 1]), array([2, 2, 2, 2]))"
            ]
          },
          "metadata": {},
          "execution_count": 82
        }
      ]
    },
    {
      "cell_type": "code",
      "metadata": {
        "colab": {
          "base_uri": "https://localhost:8080/"
        },
        "id": "k4CJsJmLw3nV",
        "outputId": "b257c02d-29b9-4451-bc8c-c34c2948a611"
      },
      "source": [
        "np.stack([array_1, array_2, array_1])"
      ],
      "execution_count": 83,
      "outputs": [
        {
          "output_type": "execute_result",
          "data": {
            "text/plain": [
              "array([[1, 1, 1, 1],\n",
              "       [2, 2, 2, 2],\n",
              "       [1, 1, 1, 1]])"
            ]
          },
          "metadata": {},
          "execution_count": 83
        }
      ]
    },
    {
      "cell_type": "code",
      "metadata": {
        "colab": {
          "base_uri": "https://localhost:8080/"
        },
        "id": "UPWMHBRLw7YN",
        "outputId": "ad766fcd-a666-42d1-a325-4d4ecdb5dd5b"
      },
      "source": [
        "np.stack([array_1, array_2, array_1], axis=1)"
      ],
      "execution_count": 84,
      "outputs": [
        {
          "output_type": "execute_result",
          "data": {
            "text/plain": [
              "array([[1, 2, 1],\n",
              "       [1, 2, 1],\n",
              "       [1, 2, 1],\n",
              "       [1, 2, 1]])"
            ]
          },
          "metadata": {},
          "execution_count": 84
        }
      ]
    },
    {
      "cell_type": "markdown",
      "metadata": {
        "id": "29tgPR7jxE0n"
      },
      "source": [
        "\n",
        "### hstack, vstack and dstack \n",
        "stand for horizontal, vertical and depthwise stacking"
      ]
    },
    {
      "cell_type": "code",
      "metadata": {
        "colab": {
          "base_uri": "https://localhost:8080/"
        },
        "id": "UvYSgl-YxVBf",
        "outputId": "0d66f30d-9ea3-4992-ac6f-3fb50e85b006"
      },
      "source": [
        "np.hstack([array_1, array_2, array_1])"
      ],
      "execution_count": 85,
      "outputs": [
        {
          "output_type": "execute_result",
          "data": {
            "text/plain": [
              "array([1, 1, 1, 1, 2, 2, 2, 2, 1, 1, 1, 1])"
            ]
          },
          "metadata": {},
          "execution_count": 85
        }
      ]
    },
    {
      "cell_type": "code",
      "metadata": {
        "colab": {
          "base_uri": "https://localhost:8080/"
        },
        "id": "3bgtiAgtxbFo",
        "outputId": "df3f4cfc-f619-4ef3-81fc-0f655a9a0111"
      },
      "source": [
        "np.vstack([array_1, array_2, array_1])"
      ],
      "execution_count": 86,
      "outputs": [
        {
          "output_type": "execute_result",
          "data": {
            "text/plain": [
              "array([[1, 1, 1, 1],\n",
              "       [2, 2, 2, 2],\n",
              "       [1, 1, 1, 1]])"
            ]
          },
          "metadata": {},
          "execution_count": 86
        }
      ]
    },
    {
      "cell_type": "code",
      "metadata": {
        "colab": {
          "base_uri": "https://localhost:8080/"
        },
        "id": "v8sLDA9Mxrg7",
        "outputId": "f09627f6-f4e9-413e-f7ac-a7b8f09320f1"
      },
      "source": [
        "np.dstack([array_1, array_2, array_1])"
      ],
      "execution_count": 87,
      "outputs": [
        {
          "output_type": "execute_result",
          "data": {
            "text/plain": [
              "array([[[1, 2, 1],\n",
              "        [1, 2, 1],\n",
              "        [1, 2, 1],\n",
              "        [1, 2, 1]]])"
            ]
          },
          "metadata": {},
          "execution_count": 87
        }
      ]
    },
    {
      "cell_type": "markdown",
      "metadata": {
        "id": "hVLsd4dRynKs"
      },
      "source": [
        "## Mathematical operations\n",
        "As stated before \n",
        "\n",
        "> NumPy arrays facilitate advanced mathematical and other types of operations on large numbers of data. Typically, such operations are executed more efficiently and with less code than is possible using Python’s built-in sequences.\n",
        "\n",
        "Let us observe some examples.\n",
        "\n"
      ]
    },
    {
      "cell_type": "code",
      "metadata": {
        "colab": {
          "base_uri": "https://localhost:8080/"
        },
        "id": "YEZXVI031blS",
        "outputId": "5f2f391a-4eed-4fb0-8e71-481f871af613"
      },
      "source": [
        "x = np.arange(0, 3, 1)\n",
        "y = np.arange(3, 6, 1)\n",
        "\n",
        "x, y"
      ],
      "execution_count": 88,
      "outputs": [
        {
          "output_type": "execute_result",
          "data": {
            "text/plain": [
              "(array([0, 1, 2]), array([3, 4, 5]))"
            ]
          },
          "metadata": {},
          "execution_count": 88
        }
      ]
    },
    {
      "cell_type": "markdown",
      "metadata": {
        "id": "-ueTCTNM10NF"
      },
      "source": [
        "#### Elementwise\n",
        "\n",
        "Basic mathematical operations will be applied to the arrays elementwise."
      ]
    },
    {
      "cell_type": "code",
      "metadata": {
        "colab": {
          "base_uri": "https://localhost:8080/"
        },
        "id": "MEg62Rxz2H9j",
        "outputId": "3643b8cd-ffb6-4f80-deec-1e1d33385bb9"
      },
      "source": [
        "2 * x"
      ],
      "execution_count": 89,
      "outputs": [
        {
          "output_type": "execute_result",
          "data": {
            "text/plain": [
              "array([0, 2, 4])"
            ]
          },
          "metadata": {},
          "execution_count": 89
        }
      ]
    },
    {
      "cell_type": "code",
      "metadata": {
        "colab": {
          "base_uri": "https://localhost:8080/"
        },
        "id": "_EWYjqsF2J5L",
        "outputId": "05210171-c9eb-42de-a516-c13e396b1e33"
      },
      "source": [
        "x * 2"
      ],
      "execution_count": 90,
      "outputs": [
        {
          "output_type": "execute_result",
          "data": {
            "text/plain": [
              "array([0, 2, 4])"
            ]
          },
          "metadata": {},
          "execution_count": 90
        }
      ]
    },
    {
      "cell_type": "code",
      "metadata": {
        "colab": {
          "base_uri": "https://localhost:8080/"
        },
        "id": "-ngJGA2P2OGr",
        "outputId": "df07e715-ca66-4049-ac85-3ecedc3ab7d6"
      },
      "source": [
        "np.sin(x)"
      ],
      "execution_count": 91,
      "outputs": [
        {
          "output_type": "execute_result",
          "data": {
            "text/plain": [
              "array([0.        , 0.84147098, 0.90929743])"
            ]
          },
          "metadata": {},
          "execution_count": 91
        }
      ]
    },
    {
      "cell_type": "code",
      "metadata": {
        "colab": {
          "base_uri": "https://localhost:8080/"
        },
        "id": "mhqcwPqr2SSL",
        "outputId": "6545abb7-85ef-4fd1-9a7e-cd083e6fac49"
      },
      "source": [
        "x**2"
      ],
      "execution_count": 92,
      "outputs": [
        {
          "output_type": "execute_result",
          "data": {
            "text/plain": [
              "array([0, 1, 4])"
            ]
          },
          "metadata": {},
          "execution_count": 92
        }
      ]
    },
    {
      "cell_type": "markdown",
      "metadata": {
        "id": "k4eTsdsA2to6"
      },
      "source": [
        "The same applies to the binary (taking two arguments) operators and arrays of the same shape."
      ]
    },
    {
      "cell_type": "code",
      "metadata": {
        "colab": {
          "base_uri": "https://localhost:8080/"
        },
        "id": "k8j2TfWS2zy5",
        "outputId": "5f2687c4-0c3c-48e8-bc8d-2d616f67d4e1"
      },
      "source": [
        "x + y"
      ],
      "execution_count": 93,
      "outputs": [
        {
          "output_type": "execute_result",
          "data": {
            "text/plain": [
              "array([3, 5, 7])"
            ]
          },
          "metadata": {},
          "execution_count": 93
        }
      ]
    },
    {
      "cell_type": "code",
      "metadata": {
        "colab": {
          "base_uri": "https://localhost:8080/"
        },
        "id": "ApB4OBh720_h",
        "outputId": "466e922d-0df9-4488-87f1-f60bab4aeb42"
      },
      "source": [
        "x * y"
      ],
      "execution_count": 94,
      "outputs": [
        {
          "output_type": "execute_result",
          "data": {
            "text/plain": [
              "array([ 0,  4, 10])"
            ]
          },
          "metadata": {},
          "execution_count": 94
        }
      ]
    },
    {
      "cell_type": "code",
      "metadata": {
        "colab": {
          "base_uri": "https://localhost:8080/"
        },
        "id": "jnuLk9XV3AmH",
        "outputId": "81185fd9-ff0e-47a5-b1fe-a4955994a4bb"
      },
      "source": [
        "x / y"
      ],
      "execution_count": 95,
      "outputs": [
        {
          "output_type": "execute_result",
          "data": {
            "text/plain": [
              "array([0.  , 0.25, 0.4 ])"
            ]
          },
          "metadata": {},
          "execution_count": 95
        }
      ]
    },
    {
      "cell_type": "code",
      "metadata": {
        "colab": {
          "base_uri": "https://localhost:8080/"
        },
        "id": "2oE-l0QP229x",
        "outputId": "278a01ea-cae8-4524-9366-866a570a6561"
      },
      "source": [
        "y ** x"
      ],
      "execution_count": 96,
      "outputs": [
        {
          "output_type": "execute_result",
          "data": {
            "text/plain": [
              "array([ 1,  4, 25])"
            ]
          },
          "metadata": {},
          "execution_count": 96
        }
      ]
    },
    {
      "cell_type": "markdown",
      "metadata": {
        "id": "MstU73vw3GR5"
      },
      "source": [
        "#### Broadcasting\n",
        "\n",
        "When arrays have different shapes the broadcasting mechanism comes into play.\n",
        "\n",
        "The term broadcasting describes how NumPy treats arrays with different shapes during arithmetic operations. Subject to certain constraints, the smaller array is “broadcast” across the larger array so that they have compatible shapes. Broadcasting provides a means of vectorizing array operations so that looping occurs in C instead of Python. It does this without making needless copies of data and usually leads to efficient algorithm implementations.\n",
        "\n",
        "When operating on two arrays, NumPy compares their shapes element-wise. It starts with the trailing (i.e. rightmost) dimensions and works its way left. Two dimensions are compatible when\n",
        "\n",
        "- they are equal, or\n",
        "- one of them is 1\n",
        "\n",
        "If these conditions are not met, a `ValueError: operands could not be broadcast together` exception is thrown, indicating that the arrays have incompatible shapes. The size of the resulting array is the size that is not 1 along each axis of the inputs.\n",
        "\n",
        "from: https://numpy.org/devdocs/user/basics.broadcasting.html"
      ]
    },
    {
      "cell_type": "code",
      "metadata": {
        "colab": {
          "base_uri": "https://localhost:8080/"
        },
        "id": "FTn0D-662Roj",
        "outputId": "66a6d8bf-e72d-4451-80df-9066e0e45b94"
      },
      "source": [
        "x_shape = (2, 4)\n",
        "y_shape = (2, 1)\n",
        "\n",
        "x = np.ones(x_shape)\n",
        "y = np.ones(y_shape)\n",
        "\n",
        "(x + y).shape"
      ],
      "execution_count": 97,
      "outputs": [
        {
          "output_type": "execute_result",
          "data": {
            "text/plain": [
              "(2, 4)"
            ]
          },
          "metadata": {},
          "execution_count": 97
        }
      ]
    },
    {
      "cell_type": "code",
      "metadata": {
        "colab": {
          "base_uri": "https://localhost:8080/"
        },
        "id": "fEAXWJg54gC6",
        "outputId": "2cc714da-a422-4470-fa0f-aca9d12ca6af"
      },
      "source": [
        "x_shape =    (2, 4)\n",
        "y_shape = (3, 1, 1)\n",
        "\n",
        "x = np.ones(x_shape)\n",
        "y = np.ones(y_shape)\n",
        "\n",
        "(x + y).shape"
      ],
      "execution_count": 101,
      "outputs": [
        {
          "output_type": "execute_result",
          "data": {
            "text/plain": [
              "(3, 2, 4)"
            ]
          },
          "metadata": {},
          "execution_count": 101
        }
      ]
    },
    {
      "cell_type": "code",
      "metadata": {
        "colab": {
          "base_uri": "https://localhost:8080/"
        },
        "id": "innvq0dI4lCr",
        "outputId": "84db6df9-2fee-492c-91f0-350dfcdf43da"
      },
      "source": [
        "x_shape = (   1, 4)\n",
        "y_shape = (3, 2, 1)\n",
        "\n",
        "x = np.ones(x_shape)\n",
        "y = np.ones(y_shape)\n",
        "\n",
        "(x + y).shape"
      ],
      "execution_count": 105,
      "outputs": [
        {
          "output_type": "execute_result",
          "data": {
            "text/plain": [
              "(3, 2, 4)"
            ]
          },
          "metadata": {},
          "execution_count": 105
        }
      ]
    },
    {
      "cell_type": "markdown",
      "metadata": {
        "id": "ownJQme57_Ho"
      },
      "source": [
        "### Matrix / tensor operations\n",
        "NumPy package wouldn't be complete without means to manipulate arrays other than elementwise operations, such as most common linear algebra functionalities. See the examples below."
      ]
    },
    {
      "cell_type": "markdown",
      "metadata": {
        "id": "1sIxcKax8cg5"
      },
      "source": [
        "#### Matrix multiplication\n",
        "\n",
        "can be performed with `matmul` method"
      ]
    },
    {
      "cell_type": "code",
      "metadata": {
        "colab": {
          "base_uri": "https://localhost:8080/"
        },
        "id": "YFUeAbZj8hU5",
        "outputId": "7d6225a7-d4f4-4662-f11e-84ce4f0aa924"
      },
      "source": [
        "a = np.eye(3)\n",
        "a[2,2] = 2\n",
        "b = np.arange(0, 3, 1).reshape(3, 1)\n",
        "\n",
        "a"
      ],
      "execution_count": 106,
      "outputs": [
        {
          "output_type": "execute_result",
          "data": {
            "text/plain": [
              "array([[1., 0., 0.],\n",
              "       [0., 1., 0.],\n",
              "       [0., 0., 2.]])"
            ]
          },
          "metadata": {},
          "execution_count": 106
        }
      ]
    },
    {
      "cell_type": "code",
      "metadata": {
        "colab": {
          "base_uri": "https://localhost:8080/"
        },
        "id": "fd41AACC_bbF",
        "outputId": "8f3dd39e-394a-43da-8742-a914e144f19b"
      },
      "source": [
        "b"
      ],
      "execution_count": 107,
      "outputs": [
        {
          "output_type": "execute_result",
          "data": {
            "text/plain": [
              "array([[0],\n",
              "       [1],\n",
              "       [2]])"
            ]
          },
          "metadata": {},
          "execution_count": 107
        }
      ]
    },
    {
      "cell_type": "code",
      "metadata": {
        "colab": {
          "base_uri": "https://localhost:8080/"
        },
        "id": "Y-18NpJX_cgc",
        "outputId": "cc3f265c-6462-4851-dedd-4cdc5b9acb6b"
      },
      "source": [
        "np.matmul(a, b)"
      ],
      "execution_count": 108,
      "outputs": [
        {
          "output_type": "execute_result",
          "data": {
            "text/plain": [
              "array([[0.],\n",
              "       [1.],\n",
              "       [4.]])"
            ]
          },
          "metadata": {},
          "execution_count": 108
        }
      ]
    },
    {
      "cell_type": "markdown",
      "metadata": {
        "id": "l20RXVxg_8nU"
      },
      "source": [
        "or `@` operand"
      ]
    },
    {
      "cell_type": "code",
      "metadata": {
        "colab": {
          "base_uri": "https://localhost:8080/"
        },
        "id": "h3AHDETg_2_E",
        "outputId": "efb2fa32-86a5-4d4d-e2a1-120ced7fcc64"
      },
      "source": [
        "a @ b"
      ],
      "execution_count": 109,
      "outputs": [
        {
          "output_type": "execute_result",
          "data": {
            "text/plain": [
              "array([[0.],\n",
              "       [1.],\n",
              "       [4.]])"
            ]
          },
          "metadata": {},
          "execution_count": 109
        }
      ]
    },
    {
      "cell_type": "markdown",
      "metadata": {
        "id": "FYCic63TAcKU"
      },
      "source": [
        "Be mindfull of its varying behaviour for different input shapes\n",
        "\n",
        "- If both arguments are 2-D they are multiplied like conventional matrices.\n",
        "- If either argument is N-D, N > 2, it is treated as a stack of matrices residing in the last two indexes and broadcast accordingly.\n",
        "- If the first argument is 1-D, it is promoted to a matrix by prepending a 1 to its dimensions. After matrix multiplication the prepended 1 is removed.\n",
        "- If the second argument is 1-D, it is promoted to a matrix by appending a 1 to its dimensions. After matrix multiplication the appended 1 is removed.\n",
        "\n",
        "from: https://numpy.org/doc/stable/reference/generated/numpy.matmul.html"
      ]
    },
    {
      "cell_type": "markdown",
      "metadata": {
        "id": "0EP2MLmCBEyu"
      },
      "source": [
        "#### Dot product\n",
        "\n",
        "can be performed using `dot` method."
      ]
    },
    {
      "cell_type": "code",
      "metadata": {
        "colab": {
          "base_uri": "https://localhost:8080/"
        },
        "id": "eciZI6N9BKLm",
        "outputId": "3063ace9-2767-4f21-99cc-2aca0ef1cb06"
      },
      "source": [
        "x = np.arange(0, 3, 1)\n",
        "y = np.arange(3, 6, 1)\n",
        "\n",
        "x, y"
      ],
      "execution_count": 110,
      "outputs": [
        {
          "output_type": "execute_result",
          "data": {
            "text/plain": [
              "(array([0, 1, 2]), array([3, 4, 5]))"
            ]
          },
          "metadata": {},
          "execution_count": 110
        }
      ]
    },
    {
      "cell_type": "code",
      "metadata": {
        "colab": {
          "base_uri": "https://localhost:8080/"
        },
        "id": "Y-M79hhnBXVv",
        "outputId": "6cf9dac5-6bc9-4803-fc3d-6a37c89a3588"
      },
      "source": [
        "np.dot(x, y)"
      ],
      "execution_count": 111,
      "outputs": [
        {
          "output_type": "execute_result",
          "data": {
            "text/plain": [
              "14"
            ]
          },
          "metadata": {},
          "execution_count": 111
        }
      ]
    },
    {
      "cell_type": "markdown",
      "metadata": {
        "id": "QzQDjBUbBgyJ"
      },
      "source": [
        "Be mindfull of its varying behaviour for different input shapes\n",
        "\n",
        "- If both a and b are 1-D arrays, it is inner product of vectors (without complex conjugation).\n",
        "\n",
        "- If both a and b are 2-D arrays, it is matrix multiplication, but using matmul or a @ b is preferred.\n",
        "\n",
        "- If either a or b is 0-D (scalar), it is equivalent to multiply and using numpy.multiply(a, b) or a * b is preferred.\n",
        "\n",
        "- If a is an N-D array and b is a 1-D array, it is a sum product over the last axis of a and b.\n",
        "\n",
        "- If a is an N-D array and b is an M-D array (where M>=2), it is a sum product over the last axis of a and the second-to-last axis of b:\n",
        "\n",
        "  ```\n",
        "  dot(a, b)[i,j,k,m] = sum(a[i,j,:] * b[k,:,m])\n",
        "  ```\n",
        "\n",
        "from: https://numpy.org/doc/stable/reference/generated/numpy.dot.html\n"
      ]
    },
    {
      "cell_type": "markdown",
      "metadata": {
        "id": "JbHGtGv5EiRE"
      },
      "source": [
        "#### Einstein summation convention\n",
        "Einstein summation convention provide a concise way of expressing multilinear operations. You can look it up here https://mathworld.wolfram.com/EinsteinSummation.html and its NumPy specification here https://numpy.org/doc/stable/reference/generated/numpy.einsum.html.\n",
        "\n",
        "Take a look a the following ilustrative examples.\n"
      ]
    },
    {
      "cell_type": "code",
      "metadata": {
        "colab": {
          "base_uri": "https://localhost:8080/"
        },
        "id": "9ceniNXgg6e2",
        "outputId": "c75b8849-cc9c-4a66-b1a6-171077f95970"
      },
      "source": [
        "data = np.tri(3)\n",
        "data"
      ],
      "execution_count": 112,
      "outputs": [
        {
          "output_type": "execute_result",
          "data": {
            "text/plain": [
              "array([[1., 0., 0.],\n",
              "       [1., 1., 0.],\n",
              "       [1., 1., 1.]])"
            ]
          },
          "metadata": {},
          "execution_count": 112
        }
      ]
    },
    {
      "cell_type": "code",
      "metadata": {
        "colab": {
          "base_uri": "https://localhost:8080/"
        },
        "id": "fFpsXkJbhuwJ",
        "outputId": "66f1f507-7f46-46cc-9a0d-906dfad2b3cb"
      },
      "source": [
        "np.einsum('ij->ji', data)  # transpose"
      ],
      "execution_count": 113,
      "outputs": [
        {
          "output_type": "execute_result",
          "data": {
            "text/plain": [
              "array([[1., 1., 1.],\n",
              "       [0., 1., 1.],\n",
              "       [0., 0., 1.]])"
            ]
          },
          "metadata": {},
          "execution_count": 113
        }
      ]
    },
    {
      "cell_type": "code",
      "metadata": {
        "colab": {
          "base_uri": "https://localhost:8080/"
        },
        "id": "UZ-VcjHthZq-",
        "outputId": "530416ed-5824-4210-e341-9b1f87596deb"
      },
      "source": [
        "np.einsum('ij->i', data)  # row sum"
      ],
      "execution_count": 114,
      "outputs": [
        {
          "output_type": "execute_result",
          "data": {
            "text/plain": [
              "array([1., 2., 3.])"
            ]
          },
          "metadata": {},
          "execution_count": 114
        }
      ]
    },
    {
      "cell_type": "code",
      "metadata": {
        "colab": {
          "base_uri": "https://localhost:8080/"
        },
        "id": "jg14G-s1hm_n",
        "outputId": "c19eff17-7047-44b5-da0d-9082b31653fc"
      },
      "source": [
        "np.einsum('ij->j', data)  # column sum"
      ],
      "execution_count": 115,
      "outputs": [
        {
          "output_type": "execute_result",
          "data": {
            "text/plain": [
              "array([3., 2., 1.])"
            ]
          },
          "metadata": {},
          "execution_count": 115
        }
      ]
    },
    {
      "cell_type": "code",
      "metadata": {
        "colab": {
          "base_uri": "https://localhost:8080/"
        },
        "id": "UfIfVmdohHuG",
        "outputId": "30f86e21-3038-4280-f13a-ff48bd0b3c1b"
      },
      "source": [
        "np.einsum('ii->i', data)  # diagonal"
      ],
      "execution_count": 116,
      "outputs": [
        {
          "output_type": "execute_result",
          "data": {
            "text/plain": [
              "array([1., 1., 1.])"
            ]
          },
          "metadata": {},
          "execution_count": 116
        }
      ]
    },
    {
      "cell_type": "code",
      "metadata": {
        "colab": {
          "base_uri": "https://localhost:8080/"
        },
        "id": "hNCFExvziiT7",
        "outputId": "d60d5609-8aeb-458b-80ad-b4e055c39512"
      },
      "source": [
        "vector = np.ones(3)\n",
        "vector"
      ],
      "execution_count": 117,
      "outputs": [
        {
          "output_type": "execute_result",
          "data": {
            "text/plain": [
              "array([1., 1., 1.])"
            ]
          },
          "metadata": {},
          "execution_count": 117
        }
      ]
    },
    {
      "cell_type": "code",
      "metadata": {
        "colab": {
          "base_uri": "https://localhost:8080/"
        },
        "id": "xpNMIWG2imKK",
        "outputId": "1da9adb8-d05c-41ea-f9cb-aad16a9f944c"
      },
      "source": [
        "np.einsum('ij,j->i', data, vector)  # matrix multiplication (matrix x vector)"
      ],
      "execution_count": 118,
      "outputs": [
        {
          "output_type": "execute_result",
          "data": {
            "text/plain": [
              "array([1., 2., 3.])"
            ]
          },
          "metadata": {},
          "execution_count": 118
        }
      ]
    },
    {
      "cell_type": "code",
      "metadata": {
        "colab": {
          "base_uri": "https://localhost:8080/"
        },
        "id": "ikx6mTuWi9TF",
        "outputId": "82d8b113-4973-4530-be89-dc2316a7d0c5"
      },
      "source": [
        "np.einsum('ij,jk->ik', data, vector.reshape(3, 1))  # matrix multiplication (matrix x matrix)"
      ],
      "execution_count": 119,
      "outputs": [
        {
          "output_type": "execute_result",
          "data": {
            "text/plain": [
              "array([[1.],\n",
              "       [2.],\n",
              "       [3.]])"
            ]
          },
          "metadata": {},
          "execution_count": 119
        }
      ]
    },
    {
      "cell_type": "markdown",
      "metadata": {
        "id": "pVUdwYH3GW05"
      },
      "source": [
        "## Other operations"
      ]
    },
    {
      "cell_type": "markdown",
      "metadata": {
        "id": "eiRGlH_vGmaI"
      },
      "source": [
        "### Aggregations: mean / var\n",
        "Very often we are required to calculate some aggregations with respoect to speciic dimensions of an array, such as mean or variance."
      ]
    },
    {
      "cell_type": "code",
      "metadata": {
        "colab": {
          "base_uri": "https://localhost:8080/"
        },
        "id": "hhyoPd_DG39a",
        "outputId": "29b2dc74-a318-4ebe-8d8f-8679c0b79215"
      },
      "source": [
        "data = np.arange(0, 20, 1).reshape(4, 5)\n",
        "data"
      ],
      "execution_count": 120,
      "outputs": [
        {
          "output_type": "execute_result",
          "data": {
            "text/plain": [
              "array([[ 0,  1,  2,  3,  4],\n",
              "       [ 5,  6,  7,  8,  9],\n",
              "       [10, 11, 12, 13, 14],\n",
              "       [15, 16, 17, 18, 19]])"
            ]
          },
          "metadata": {},
          "execution_count": 120
        }
      ]
    },
    {
      "cell_type": "markdown",
      "metadata": {
        "id": "bAwNyq96HEMi"
      },
      "source": [
        "By default the whole array is aggregated"
      ]
    },
    {
      "cell_type": "code",
      "metadata": {
        "id": "qfO9vYRFGw1k",
        "colab": {
          "base_uri": "https://localhost:8080/"
        },
        "outputId": "c10dec15-c536-413a-d147-00bb9c3cb547"
      },
      "source": [
        "data.mean()"
      ],
      "execution_count": 121,
      "outputs": [
        {
          "output_type": "execute_result",
          "data": {
            "text/plain": [
              "9.5"
            ]
          },
          "metadata": {},
          "execution_count": 121
        }
      ]
    },
    {
      "cell_type": "markdown",
      "metadata": {
        "id": "LEWqRMUZHBXM"
      },
      "source": [
        "But aggregations can also be applied axiswise"
      ]
    },
    {
      "cell_type": "code",
      "metadata": {
        "colab": {
          "base_uri": "https://localhost:8080/"
        },
        "id": "aFGA-TSDHJVd",
        "outputId": "d5c15a07-376d-433d-a5c6-d0b069f34f78"
      },
      "source": [
        "data.mean(axis=0)"
      ],
      "execution_count": 122,
      "outputs": [
        {
          "output_type": "execute_result",
          "data": {
            "text/plain": [
              "array([ 7.5,  8.5,  9.5, 10.5, 11.5])"
            ]
          },
          "metadata": {},
          "execution_count": 122
        }
      ]
    },
    {
      "cell_type": "code",
      "metadata": {
        "colab": {
          "base_uri": "https://localhost:8080/"
        },
        "id": "nvqcg3nlHKkc",
        "outputId": "fc9d0814-b259-46f1-eb52-b21f3f6972d1"
      },
      "source": [
        "data.mean(axis=1)"
      ],
      "execution_count": 123,
      "outputs": [
        {
          "output_type": "execute_result",
          "data": {
            "text/plain": [
              "array([ 2.,  7., 12., 17.])"
            ]
          },
          "metadata": {},
          "execution_count": 123
        }
      ]
    },
    {
      "cell_type": "code",
      "metadata": {
        "colab": {
          "base_uri": "https://localhost:8080/"
        },
        "id": "5Z0DPbNqHMIN",
        "outputId": "e2b18439-b8aa-4ee9-da40-1ac78dc09608"
      },
      "source": [
        "data.var(axis=0)"
      ],
      "execution_count": 124,
      "outputs": [
        {
          "output_type": "execute_result",
          "data": {
            "text/plain": [
              "array([31.25, 31.25, 31.25, 31.25, 31.25])"
            ]
          },
          "metadata": {},
          "execution_count": 124
        }
      ]
    },
    {
      "cell_type": "code",
      "metadata": {
        "colab": {
          "base_uri": "https://localhost:8080/"
        },
        "id": "3hASONdoHYJL",
        "outputId": "69293ec6-c467-4106-cf50-0057e3a9b3ab"
      },
      "source": [
        "data.var(axis=1)"
      ],
      "execution_count": 125,
      "outputs": [
        {
          "output_type": "execute_result",
          "data": {
            "text/plain": [
              "array([2., 2., 2., 2.])"
            ]
          },
          "metadata": {},
          "execution_count": 125
        }
      ]
    },
    {
      "cell_type": "markdown",
      "metadata": {
        "id": "iFvzhMRxNMfz"
      },
      "source": [
        "### Aggregation: quantiles\n",
        "\n",
        "Many more aggregations are possible, e.g. determining data quantiles."
      ]
    },
    {
      "cell_type": "code",
      "metadata": {
        "colab": {
          "base_uri": "https://localhost:8080/"
        },
        "id": "l-psF7MTNQn1",
        "outputId": "22a6d2b8-38e5-436d-eca4-f7d1c463cd72"
      },
      "source": [
        "data = np.linspace(1, 2, 101)\n",
        "\n",
        "np.quantile(data, 0.3)"
      ],
      "execution_count": 126,
      "outputs": [
        {
          "output_type": "execute_result",
          "data": {
            "text/plain": [
              "1.3"
            ]
          },
          "metadata": {},
          "execution_count": 126
        }
      ]
    },
    {
      "cell_type": "code",
      "metadata": {
        "colab": {
          "base_uri": "https://localhost:8080/"
        },
        "id": "k6AJnvgXNWpX",
        "outputId": "4e36693f-006e-44f6-9920-ea8e303da79b"
      },
      "source": [
        "np.quantile(data, [0.3, 0.6])"
      ],
      "execution_count": 127,
      "outputs": [
        {
          "output_type": "execute_result",
          "data": {
            "text/plain": [
              "array([1.3, 1.6])"
            ]
          },
          "metadata": {},
          "execution_count": 127
        }
      ]
    },
    {
      "cell_type": "markdown",
      "metadata": {
        "id": "4kthnaqxNdpl"
      },
      "source": [
        "### Sorting\n",
        "\n",
        "Arrays can be sorted. By default sorting is performed with respoect to the last dimension"
      ]
    },
    {
      "cell_type": "code",
      "metadata": {
        "colab": {
          "base_uri": "https://localhost:8080/"
        },
        "id": "ScuZ5wvHNnzP",
        "outputId": "6c8422bc-1967-4db2-808d-f1f95a109468"
      },
      "source": [
        "data = np.array([\n",
        "  [1, 4, 2, 8, 5],\n",
        "  [2, 3, 1, 9, 6],\n",
        "  [8, 2, 3, 7, 4],  \n",
        "])\n",
        "\n",
        "np.sort(data)"
      ],
      "execution_count": 128,
      "outputs": [
        {
          "output_type": "execute_result",
          "data": {
            "text/plain": [
              "array([[1, 2, 4, 5, 8],\n",
              "       [1, 2, 3, 6, 9],\n",
              "       [2, 3, 4, 7, 8]])"
            ]
          },
          "metadata": {},
          "execution_count": 128
        }
      ]
    },
    {
      "cell_type": "markdown",
      "metadata": {
        "id": "T5MVQ6L-ONtN"
      },
      "source": [
        "but sorting dimension can be explicitly specified."
      ]
    },
    {
      "cell_type": "code",
      "metadata": {
        "colab": {
          "base_uri": "https://localhost:8080/"
        },
        "id": "V-uLaC9dN4z2",
        "outputId": "f90d46b6-0fcc-408d-9022-45acdd332ba1"
      },
      "source": [
        "np.sort(data, axis=0)"
      ],
      "execution_count": 129,
      "outputs": [
        {
          "output_type": "execute_result",
          "data": {
            "text/plain": [
              "array([[1, 2, 1, 7, 4],\n",
              "       [2, 3, 2, 8, 5],\n",
              "       [8, 4, 3, 9, 6]])"
            ]
          },
          "metadata": {},
          "execution_count": 129
        }
      ]
    },
    {
      "cell_type": "code",
      "metadata": {
        "colab": {
          "base_uri": "https://localhost:8080/"
        },
        "id": "gPM7rRJIN5zu",
        "outputId": "c5cd5c03-9e68-4795-8135-71a6529abe06"
      },
      "source": [
        "np.sort(data, axis=1)"
      ],
      "execution_count": 130,
      "outputs": [
        {
          "output_type": "execute_result",
          "data": {
            "text/plain": [
              "array([[1, 2, 4, 5, 8],\n",
              "       [1, 2, 3, 6, 9],\n",
              "       [2, 3, 4, 7, 8]])"
            ]
          },
          "metadata": {},
          "execution_count": 130
        }
      ]
    },
    {
      "cell_type": "markdown",
      "metadata": {
        "id": "xI3eftldOBd-"
      },
      "source": [
        "You can also get the \"sorting permutations\" that can be used in conjunction with advanced indexing (introduced below)."
      ]
    },
    {
      "cell_type": "code",
      "metadata": {
        "colab": {
          "base_uri": "https://localhost:8080/"
        },
        "id": "kz1t6vBDOcW_",
        "outputId": "4833c33e-14d5-4cda-9a34-3cfa795ef428"
      },
      "source": [
        "np.argsort(data, axis=0)"
      ],
      "execution_count": 131,
      "outputs": [
        {
          "output_type": "execute_result",
          "data": {
            "text/plain": [
              "array([[0, 2, 1, 2, 2],\n",
              "       [1, 1, 0, 0, 0],\n",
              "       [2, 0, 2, 1, 1]])"
            ]
          },
          "metadata": {},
          "execution_count": 131
        }
      ]
    },
    {
      "cell_type": "code",
      "metadata": {
        "colab": {
          "base_uri": "https://localhost:8080/"
        },
        "id": "HzIurHBROfbo",
        "outputId": "c593b46d-b414-4072-cf79-63fca5f07bd0"
      },
      "source": [
        "np.argsort(data, axis=1)"
      ],
      "execution_count": 132,
      "outputs": [
        {
          "output_type": "execute_result",
          "data": {
            "text/plain": [
              "array([[0, 2, 1, 4, 3],\n",
              "       [2, 0, 1, 4, 3],\n",
              "       [1, 2, 4, 3, 0]])"
            ]
          },
          "metadata": {},
          "execution_count": 132
        }
      ]
    },
    {
      "cell_type": "markdown",
      "metadata": {
        "id": "P5H09Te1GiEb"
      },
      "source": [
        "## Indexing\n",
        "\n",
        "Allows selecting items and subarrays. It can be also used to modify fragments of an array."
      ]
    },
    {
      "cell_type": "markdown",
      "metadata": {
        "id": "MvDoRtmTPmDg"
      },
      "source": [
        "### Basic indexing"
      ]
    },
    {
      "cell_type": "code",
      "metadata": {
        "colab": {
          "base_uri": "https://localhost:8080/"
        },
        "id": "6wNkceZBGiEc",
        "outputId": "5a337e72-db05-4ab8-a07e-70d6bbb40b33"
      },
      "source": [
        "data = np.arange(0, 16, 1)\n",
        "data"
      ],
      "execution_count": 133,
      "outputs": [
        {
          "output_type": "execute_result",
          "data": {
            "text/plain": [
              "array([ 0,  1,  2,  3,  4,  5,  6,  7,  8,  9, 10, 11, 12, 13, 14, 15])"
            ]
          },
          "metadata": {},
          "execution_count": 133
        }
      ]
    },
    {
      "cell_type": "code",
      "metadata": {
        "colab": {
          "base_uri": "https://localhost:8080/"
        },
        "id": "GlNnE9I3GiEc",
        "outputId": "fa0e0635-9bd5-4d07-a5d0-ca403f007d60"
      },
      "source": [
        "data[10]"
      ],
      "execution_count": 134,
      "outputs": [
        {
          "output_type": "execute_result",
          "data": {
            "text/plain": [
              "10"
            ]
          },
          "metadata": {},
          "execution_count": 134
        }
      ]
    },
    {
      "cell_type": "code",
      "metadata": {
        "colab": {
          "base_uri": "https://localhost:8080/"
        },
        "id": "dyPC5QgnGiEd",
        "outputId": "316c571f-8956-40cd-82a9-e95f7f14397f"
      },
      "source": [
        "data[-2]"
      ],
      "execution_count": 135,
      "outputs": [
        {
          "output_type": "execute_result",
          "data": {
            "text/plain": [
              "14"
            ]
          },
          "metadata": {},
          "execution_count": 135
        }
      ]
    },
    {
      "cell_type": "code",
      "metadata": {
        "colab": {
          "base_uri": "https://localhost:8080/"
        },
        "id": "4fD0i1vPGiEd",
        "outputId": "3c25986a-9f98-4d1a-bac8-6c43bda7531e"
      },
      "source": [
        "data[:5]"
      ],
      "execution_count": 136,
      "outputs": [
        {
          "output_type": "execute_result",
          "data": {
            "text/plain": [
              "array([0, 1, 2, 3, 4])"
            ]
          },
          "metadata": {},
          "execution_count": 136
        }
      ]
    },
    {
      "cell_type": "code",
      "metadata": {
        "colab": {
          "base_uri": "https://localhost:8080/"
        },
        "id": "ylT1TzN8GiEd",
        "outputId": "732ede18-e532-4689-8712-91442d382f34"
      },
      "source": [
        "data[::2]"
      ],
      "execution_count": 137,
      "outputs": [
        {
          "output_type": "execute_result",
          "data": {
            "text/plain": [
              "array([ 0,  2,  4,  6,  8, 10, 12, 14])"
            ]
          },
          "metadata": {},
          "execution_count": 137
        }
      ]
    },
    {
      "cell_type": "code",
      "metadata": {
        "colab": {
          "base_uri": "https://localhost:8080/"
        },
        "id": "xDYxi7KZGiEd",
        "outputId": "10ce9edc-02e8-4166-d72f-95fd91da603b"
      },
      "source": [
        "data[-3:]"
      ],
      "execution_count": 138,
      "outputs": [
        {
          "output_type": "execute_result",
          "data": {
            "text/plain": [
              "array([13, 14, 15])"
            ]
          },
          "metadata": {},
          "execution_count": 138
        }
      ]
    },
    {
      "cell_type": "markdown",
      "metadata": {
        "id": "XC5lLdv5GiEe"
      },
      "source": [
        "It is also possible in higher dimensional setting\n"
      ]
    },
    {
      "cell_type": "code",
      "metadata": {
        "colab": {
          "base_uri": "https://localhost:8080/"
        },
        "id": "GQmHyjgnGiEe",
        "outputId": "25017fd0-7a5c-4fa1-ccac-d1c73bbccb6d"
      },
      "source": [
        "data = data.reshape(4, 4)\n",
        "data"
      ],
      "execution_count": 139,
      "outputs": [
        {
          "output_type": "execute_result",
          "data": {
            "text/plain": [
              "array([[ 0,  1,  2,  3],\n",
              "       [ 4,  5,  6,  7],\n",
              "       [ 8,  9, 10, 11],\n",
              "       [12, 13, 14, 15]])"
            ]
          },
          "metadata": {},
          "execution_count": 139
        }
      ]
    },
    {
      "cell_type": "code",
      "metadata": {
        "colab": {
          "base_uri": "https://localhost:8080/"
        },
        "id": "inyJ51zXGiEe",
        "outputId": "205596ae-b3ad-4b05-d73a-e45582510227"
      },
      "source": [
        "data[1, 1]"
      ],
      "execution_count": 140,
      "outputs": [
        {
          "output_type": "execute_result",
          "data": {
            "text/plain": [
              "5"
            ]
          },
          "metadata": {},
          "execution_count": 140
        }
      ]
    },
    {
      "cell_type": "code",
      "metadata": {
        "colab": {
          "base_uri": "https://localhost:8080/"
        },
        "id": "7ThXkYJHGiEe",
        "outputId": "9c06c0e4-76ed-4a65-ca45-510370ec807d"
      },
      "source": [
        "data[1, :]"
      ],
      "execution_count": 141,
      "outputs": [
        {
          "output_type": "execute_result",
          "data": {
            "text/plain": [
              "array([4, 5, 6, 7])"
            ]
          },
          "metadata": {},
          "execution_count": 141
        }
      ]
    },
    {
      "cell_type": "markdown",
      "metadata": {
        "id": "pCCalPUaGiEf"
      },
      "source": [
        "One does not need to specify trailing colons `:`"
      ]
    },
    {
      "cell_type": "code",
      "metadata": {
        "colab": {
          "base_uri": "https://localhost:8080/"
        },
        "id": "jkDtPEmzGiEf",
        "outputId": "7bc7a614-59c6-459f-d5c9-05bb6cd21caf"
      },
      "source": [
        "data[:-2]"
      ],
      "execution_count": 142,
      "outputs": [
        {
          "output_type": "execute_result",
          "data": {
            "text/plain": [
              "array([[0, 1, 2, 3],\n",
              "       [4, 5, 6, 7]])"
            ]
          },
          "metadata": {},
          "execution_count": 142
        }
      ]
    },
    {
      "cell_type": "markdown",
      "metadata": {
        "id": "2pEgZ0mXGiEf"
      },
      "source": [
        "Note how the column selection is achiveved. In this case `:` can't be ommited."
      ]
    },
    {
      "cell_type": "code",
      "metadata": {
        "colab": {
          "base_uri": "https://localhost:8080/"
        },
        "id": "f8SRcQZtGiEf",
        "outputId": "91a32325-9f24-4ad0-c301-53a7c14c9dee"
      },
      "source": [
        "data[:, -2:]"
      ],
      "execution_count": 143,
      "outputs": [
        {
          "output_type": "execute_result",
          "data": {
            "text/plain": [
              "array([[ 2,  3],\n",
              "       [ 6,  7],\n",
              "       [10, 11],\n",
              "       [14, 15]])"
            ]
          },
          "metadata": {},
          "execution_count": 143
        }
      ]
    },
    {
      "cell_type": "markdown",
      "metadata": {
        "id": "jNCnnDAvGiEf"
      },
      "source": [
        "One group of subsequent colons `:` can be replaced with `...`"
      ]
    },
    {
      "cell_type": "code",
      "metadata": {
        "colab": {
          "base_uri": "https://localhost:8080/"
        },
        "id": "BTWokDfAGiEg",
        "outputId": "ccb24d0b-589f-4ee7-cfbd-37c0a1fa5922"
      },
      "source": [
        "data_reshaped = data.reshape(4, 2, 2)\n",
        "data_reshaped"
      ],
      "execution_count": 144,
      "outputs": [
        {
          "output_type": "execute_result",
          "data": {
            "text/plain": [
              "array([[[ 0,  1],\n",
              "        [ 2,  3]],\n",
              "\n",
              "       [[ 4,  5],\n",
              "        [ 6,  7]],\n",
              "\n",
              "       [[ 8,  9],\n",
              "        [10, 11]],\n",
              "\n",
              "       [[12, 13],\n",
              "        [14, 15]]])"
            ]
          },
          "metadata": {},
          "execution_count": 144
        }
      ]
    },
    {
      "cell_type": "code",
      "metadata": {
        "colab": {
          "base_uri": "https://localhost:8080/"
        },
        "id": "ckI7EDwNGiEg",
        "outputId": "ef087ad6-740f-45d9-b46e-074dc523384a"
      },
      "source": [
        "data_reshaped[..., 0]"
      ],
      "execution_count": 145,
      "outputs": [
        {
          "output_type": "execute_result",
          "data": {
            "text/plain": [
              "array([[ 0,  2],\n",
              "       [ 4,  6],\n",
              "       [ 8, 10],\n",
              "       [12, 14]])"
            ]
          },
          "metadata": {},
          "execution_count": 145
        }
      ]
    },
    {
      "cell_type": "markdown",
      "metadata": {
        "id": "Y28i1ixMGiEg"
      },
      "source": [
        "Note the difference"
      ]
    },
    {
      "cell_type": "code",
      "metadata": {
        "colab": {
          "base_uri": "https://localhost:8080/"
        },
        "id": "-vSdeG8iGiEg",
        "outputId": "63f3f9eb-eb00-4028-9474-aa5cb575b63e"
      },
      "source": [
        "data_reshaped[:, 0]"
      ],
      "execution_count": 146,
      "outputs": [
        {
          "output_type": "execute_result",
          "data": {
            "text/plain": [
              "array([[ 0,  1],\n",
              "       [ 4,  5],\n",
              "       [ 8,  9],\n",
              "       [12, 13]])"
            ]
          },
          "metadata": {},
          "execution_count": 146
        }
      ]
    },
    {
      "cell_type": "markdown",
      "metadata": {
        "id": "y8Fbg4skPhZI"
      },
      "source": [
        "### View & copies\n",
        "\n",
        "Basic indexing routines presented above return views of the data in the underlying arrays. When the underlying array is modified the changes are reflected in the view."
      ]
    },
    {
      "cell_type": "code",
      "metadata": {
        "colab": {
          "base_uri": "https://localhost:8080/"
        },
        "id": "4DnGEbkeQInP",
        "outputId": "2e4b1c77-6455-4c4d-cc1b-aeb4e94b46e7"
      },
      "source": [
        "data = np.arange(0, 16, 1).reshape(4, 4)\n",
        "data"
      ],
      "execution_count": 147,
      "outputs": [
        {
          "output_type": "execute_result",
          "data": {
            "text/plain": [
              "array([[ 0,  1,  2,  3],\n",
              "       [ 4,  5,  6,  7],\n",
              "       [ 8,  9, 10, 11],\n",
              "       [12, 13, 14, 15]])"
            ]
          },
          "metadata": {},
          "execution_count": 147
        }
      ]
    },
    {
      "cell_type": "code",
      "metadata": {
        "colab": {
          "base_uri": "https://localhost:8080/"
        },
        "id": "BduCu6bPQKS2",
        "outputId": "a084807c-f36e-420f-8ef3-53e2443ba2f6"
      },
      "source": [
        "view = data[:, 3]\n",
        "view"
      ],
      "execution_count": 148,
      "outputs": [
        {
          "output_type": "execute_result",
          "data": {
            "text/plain": [
              "array([ 3,  7, 11, 15])"
            ]
          },
          "metadata": {},
          "execution_count": 148
        }
      ]
    },
    {
      "cell_type": "code",
      "metadata": {
        "colab": {
          "base_uri": "https://localhost:8080/"
        },
        "id": "KRNJxUnvQTIM",
        "outputId": "a4e8a7eb-477b-4b65-a8f4-ec7b120b7130"
      },
      "source": [
        "data *= 2\n",
        "data"
      ],
      "execution_count": 149,
      "outputs": [
        {
          "output_type": "execute_result",
          "data": {
            "text/plain": [
              "array([[ 0,  2,  4,  6],\n",
              "       [ 8, 10, 12, 14],\n",
              "       [16, 18, 20, 22],\n",
              "       [24, 26, 28, 30]])"
            ]
          },
          "metadata": {},
          "execution_count": 149
        }
      ]
    },
    {
      "cell_type": "code",
      "metadata": {
        "colab": {
          "base_uri": "https://localhost:8080/"
        },
        "id": "DnPAbJujQVic",
        "outputId": "6a34a567-3a76-4d7e-8ffe-0ab50f20cbb5"
      },
      "source": [
        "view"
      ],
      "execution_count": 150,
      "outputs": [
        {
          "output_type": "execute_result",
          "data": {
            "text/plain": [
              "array([ 6, 14, 22, 30])"
            ]
          },
          "metadata": {},
          "execution_count": 150
        }
      ]
    },
    {
      "cell_type": "markdown",
      "metadata": {
        "id": "Yxv8dzR_RFml"
      },
      "source": [
        "To \"detach\" view from the underlying array use `copy` method"
      ]
    },
    {
      "cell_type": "code",
      "metadata": {
        "colab": {
          "base_uri": "https://localhost:8080/"
        },
        "id": "87ttHjjmRMgO",
        "outputId": "399a6073-0709-4f6b-da72-b97d6e65415b"
      },
      "source": [
        "view_copy = view.copy()\n",
        "data *= 2\n",
        "view, view_copy"
      ],
      "execution_count": 151,
      "outputs": [
        {
          "output_type": "execute_result",
          "data": {
            "text/plain": [
              "(array([12, 28, 44, 60]), array([ 6, 14, 22, 30]))"
            ]
          },
          "metadata": {},
          "execution_count": 151
        }
      ]
    },
    {
      "cell_type": "markdown",
      "metadata": {
        "id": "YEUyRMzOROEG"
      },
      "source": [
        "Views are only possible when selecting with slices, then it's a matter of rememebering offset and stride only.\n",
        "\n",
        "You can read more about this here: https://scipy-cookbook.readthedocs.io/items/ViewsVsCopies.html"
      ]
    },
    {
      "cell_type": "markdown",
      "metadata": {
        "id": "a9gLMTtZSgCY"
      },
      "source": [
        "### Advanced indexing\n",
        "\n",
        "it is also possible to index with integer or boolean arrays"
      ]
    },
    {
      "cell_type": "code",
      "metadata": {
        "id": "Ts1DkP6sSfNg",
        "colab": {
          "base_uri": "https://localhost:8080/"
        },
        "outputId": "025d7d25-fcac-4205-860e-2d8da5d31fa2"
      },
      "source": [
        "data = np.arange(0, 16, 1).reshape(4, 4)\n",
        "data"
      ],
      "execution_count": 152,
      "outputs": [
        {
          "output_type": "execute_result",
          "data": {
            "text/plain": [
              "array([[ 0,  1,  2,  3],\n",
              "       [ 4,  5,  6,  7],\n",
              "       [ 8,  9, 10, 11],\n",
              "       [12, 13, 14, 15]])"
            ]
          },
          "metadata": {},
          "execution_count": 152
        }
      ]
    },
    {
      "cell_type": "markdown",
      "metadata": {
        "id": "CgrvZDQSTZRj"
      },
      "source": [
        "We can select specific rows"
      ]
    },
    {
      "cell_type": "code",
      "metadata": {
        "colab": {
          "base_uri": "https://localhost:8080/"
        },
        "id": "isgJivWfTUg0",
        "outputId": "88fc95e7-5caa-4cf3-a293-7f4af2b661ab"
      },
      "source": [
        "data[[0, 3]]"
      ],
      "execution_count": 153,
      "outputs": [
        {
          "output_type": "execute_result",
          "data": {
            "text/plain": [
              "array([[ 0,  1,  2,  3],\n",
              "       [12, 13, 14, 15]])"
            ]
          },
          "metadata": {},
          "execution_count": 153
        }
      ]
    },
    {
      "cell_type": "markdown",
      "metadata": {
        "id": "aDuYknJ4TdnS"
      },
      "source": [
        "and columns."
      ]
    },
    {
      "cell_type": "code",
      "metadata": {
        "colab": {
          "base_uri": "https://localhost:8080/"
        },
        "id": "FIqWs6WfTfMs",
        "outputId": "d92aac8e-d57b-46bf-9f16-d7958e86cfb6"
      },
      "source": [
        "data[:, [0, 3]]"
      ],
      "execution_count": 154,
      "outputs": [
        {
          "output_type": "execute_result",
          "data": {
            "text/plain": [
              "array([[ 0,  3],\n",
              "       [ 4,  7],\n",
              "       [ 8, 11],\n",
              "       [12, 15]])"
            ]
          },
          "metadata": {},
          "execution_count": 154
        }
      ]
    },
    {
      "cell_type": "markdown",
      "metadata": {
        "id": "0cdJAq02TgUV"
      },
      "source": [
        "Seleceting both together is a little more complicated"
      ]
    },
    {
      "cell_type": "code",
      "metadata": {
        "colab": {
          "base_uri": "https://localhost:8080/"
        },
        "id": "4iO4znPzTode",
        "outputId": "2c5b4a95-a4a3-495d-efa3-f8484df78273"
      },
      "source": [
        "rows = [\n",
        " [0, 0],\n",
        " [3, 3]\n",
        "]\n",
        "columns = [\n",
        " [0, 3],\n",
        " [0, 3]\n",
        "]\n",
        "data[rows, columns]"
      ],
      "execution_count": 155,
      "outputs": [
        {
          "output_type": "execute_result",
          "data": {
            "text/plain": [
              "array([[ 0,  3],\n",
              "       [12, 15]])"
            ]
          },
          "metadata": {},
          "execution_count": 155
        }
      ]
    },
    {
      "cell_type": "markdown",
      "metadata": {
        "id": "nIk5ZE8kUaUa"
      },
      "source": [
        "Use indices shape to control the output shape."
      ]
    },
    {
      "cell_type": "code",
      "metadata": {
        "colab": {
          "base_uri": "https://localhost:8080/"
        },
        "id": "ljHFVBpiTmpt",
        "outputId": "b208c2b7-cec7-43f5-97c6-cbaabf4cddd3"
      },
      "source": [
        "rows = [0, 0, 3, 3]\n",
        "columns = [0, 3, 0, 3]\n",
        "data[rows, columns]"
      ],
      "execution_count": 156,
      "outputs": [
        {
          "output_type": "execute_result",
          "data": {
            "text/plain": [
              "array([ 0,  3, 12, 15])"
            ]
          },
          "metadata": {},
          "execution_count": 156
        }
      ]
    },
    {
      "cell_type": "markdown",
      "metadata": {
        "id": "H7MGpzdaUlmY"
      },
      "source": [
        "Bboolean arrays can be used as well, though they work somewhat differently."
      ]
    },
    {
      "cell_type": "code",
      "metadata": {
        "colab": {
          "base_uri": "https://localhost:8080/"
        },
        "id": "4Rc8BIDYUtvY",
        "outputId": "a02cceb8-766e-4b26-c1ba-39f65acad2d0"
      },
      "source": [
        "index = (data % 3 == 0)\n",
        "index"
      ],
      "execution_count": 157,
      "outputs": [
        {
          "output_type": "execute_result",
          "data": {
            "text/plain": [
              "array([[ True, False, False,  True],\n",
              "       [False, False,  True, False],\n",
              "       [False,  True, False, False],\n",
              "       [ True, False, False,  True]])"
            ]
          },
          "metadata": {},
          "execution_count": 157
        }
      ]
    },
    {
      "cell_type": "code",
      "metadata": {
        "colab": {
          "base_uri": "https://localhost:8080/"
        },
        "id": "E8tVnHZcUvyQ",
        "outputId": "9e60e30e-d8e9-4842-dcd7-139fcf9db06d"
      },
      "source": [
        "data[index]"
      ],
      "execution_count": 158,
      "outputs": [
        {
          "output_type": "execute_result",
          "data": {
            "text/plain": [
              "array([ 0,  3,  6,  9, 12, 15])"
            ]
          },
          "metadata": {},
          "execution_count": 158
        }
      ]
    },
    {
      "cell_type": "markdown",
      "metadata": {
        "id": "6E13UcvQ9OGM"
      },
      "source": [
        "Its most common use case is to update array entries based on some condition."
      ]
    },
    {
      "cell_type": "code",
      "metadata": {
        "colab": {
          "base_uri": "https://localhost:8080/"
        },
        "id": "ErmtBkjfuBsa",
        "outputId": "e710dd6c-7a12-4469-fad0-a76de3e5282c"
      },
      "source": [
        "data[index] = -1\n",
        "data"
      ],
      "execution_count": 159,
      "outputs": [
        {
          "output_type": "execute_result",
          "data": {
            "text/plain": [
              "array([[-1,  1,  2, -1],\n",
              "       [ 4,  5, -1,  7],\n",
              "       [ 8, -1, 10, 11],\n",
              "       [-1, 13, 14, -1]])"
            ]
          },
          "metadata": {},
          "execution_count": 159
        }
      ]
    },
    {
      "cell_type": "markdown",
      "metadata": {
        "id": "GQxk8eUwU59O"
      },
      "source": [
        "Detailed bahavior of indexing with boolean arrays is described here: https://numpy.org/doc/stable/reference/arrays.indexing.html#advanced-indexing"
      ]
    },
    {
      "cell_type": "markdown",
      "metadata": {
        "id": "KWErlaLBV3X8"
      },
      "source": [
        "# NumPy Exercises"
      ]
    },
    {
      "cell_type": "markdown",
      "metadata": {
        "id": "WUJrN7ZfSwud"
      },
      "source": [
        "### Exercise: multiplication table\n",
        "Create \"{0, ..., 10} x {0, ..., 10} multiplication table\" using only \n",
        "- `meshgrid` method,\n",
        "- multiplication of 1D arrays, dummy dimensions and broadcasting mechanism."
      ]
    },
    {
      "cell_type": "code",
      "metadata": {
        "id": "KyAr-VUITkWf",
        "colab": {
          "base_uri": "https://localhost:8080/"
        },
        "outputId": "1a2bce37-31c3-4016-a145-39fa9e0b4e17"
      },
      "source": [
        "### YOUR CODE BEGINS HERE ###\n",
        "x = np.arange(1, 11, 1)\n",
        "x_grid, y_grid = np.meshgrid(x, x, indexing='ij')\n",
        "x_grid * y_grid\n",
        "### YOUR CODE ENDS HERE ###"
      ],
      "execution_count": 170,
      "outputs": [
        {
          "output_type": "execute_result",
          "data": {
            "text/plain": [
              "array([[  1,   2,   3,   4,   5,   6,   7,   8,   9,  10],\n",
              "       [  2,   4,   6,   8,  10,  12,  14,  16,  18,  20],\n",
              "       [  3,   6,   9,  12,  15,  18,  21,  24,  27,  30],\n",
              "       [  4,   8,  12,  16,  20,  24,  28,  32,  36,  40],\n",
              "       [  5,  10,  15,  20,  25,  30,  35,  40,  45,  50],\n",
              "       [  6,  12,  18,  24,  30,  36,  42,  48,  54,  60],\n",
              "       [  7,  14,  21,  28,  35,  42,  49,  56,  63,  70],\n",
              "       [  8,  16,  24,  32,  40,  48,  56,  64,  72,  80],\n",
              "       [  9,  18,  27,  36,  45,  54,  63,  72,  81,  90],\n",
              "       [ 10,  20,  30,  40,  50,  60,  70,  80,  90, 100]])"
            ]
          },
          "metadata": {},
          "execution_count": 170
        }
      ]
    },
    {
      "cell_type": "code",
      "metadata": {
        "id": "yPRnWtcpS60f",
        "colab": {
          "base_uri": "https://localhost:8080/"
        },
        "outputId": "76a4f9cf-034b-47eb-86b2-7ea2637880ed"
      },
      "source": [
        "### YOUR CODE BEGINS HERE ###\n",
        "x = np.arange(1, 11, 1)\n",
        "x_exp = np.expand_dims(x, 1)\n",
        "x_exp * x_exp.T\n",
        "### YOUR CODE ENDS HERE ###"
      ],
      "execution_count": 7,
      "outputs": [
        {
          "output_type": "execute_result",
          "data": {
            "text/plain": [
              "array([[  1,   2,   3,   4,   5,   6,   7,   8,   9,  10],\n",
              "       [  2,   4,   6,   8,  10,  12,  14,  16,  18,  20],\n",
              "       [  3,   6,   9,  12,  15,  18,  21,  24,  27,  30],\n",
              "       [  4,   8,  12,  16,  20,  24,  28,  32,  36,  40],\n",
              "       [  5,  10,  15,  20,  25,  30,  35,  40,  45,  50],\n",
              "       [  6,  12,  18,  24,  30,  36,  42,  48,  54,  60],\n",
              "       [  7,  14,  21,  28,  35,  42,  49,  56,  63,  70],\n",
              "       [  8,  16,  24,  32,  40,  48,  56,  64,  72,  80],\n",
              "       [  9,  18,  27,  36,  45,  54,  63,  72,  81,  90],\n",
              "       [ 10,  20,  30,  40,  50,  60,  70,  80,  90, 100]])"
            ]
          },
          "metadata": {},
          "execution_count": 7
        }
      ]
    },
    {
      "cell_type": "markdown",
      "metadata": {
        "id": "u_QMGc9V9dtx"
      },
      "source": [
        "### Exercise: speed comparison \n",
        "\n",
        "In this exercise we will measure the speed imporovemnts due to NumPy implementation."
      ]
    },
    {
      "cell_type": "code",
      "metadata": {
        "id": "AubmFjCf9jL3"
      },
      "source": [
        "length = 10000\n",
        "a = b = np.arange(length)"
      ],
      "execution_count": 172,
      "outputs": []
    },
    {
      "cell_type": "markdown",
      "metadata": {
        "id": "doxhHjb-veJ1"
      },
      "source": [
        "Write the code to calculate dotproduct of arrays `a` and `b` using only native Python funcions. Use `timeit` magic to time the execution."
      ]
    },
    {
      "cell_type": "code",
      "metadata": {
        "id": "-JgNkfE0vGdd",
        "colab": {
          "base_uri": "https://localhost:8080/"
        },
        "outputId": "4d6f026d-5944-4c8b-f3bb-c31450e88b32"
      },
      "source": [
        "%%timeit\n",
        "### YOUR CODE BEGINS HERE ###\n",
        "sum = 0\n",
        "for i in range(len(a)):\n",
        "  sum += a[i]*b[i]\n",
        "### YOUR CODE ENDS HERE ###"
      ],
      "execution_count": 174,
      "outputs": [
        {
          "output_type": "stream",
          "name": "stdout",
          "text": [
            "100 loops, best of 5: 5.14 ms per loop\n"
          ]
        }
      ]
    },
    {
      "cell_type": "markdown",
      "metadata": {
        "id": "j1UXCSG2vRfd"
      },
      "source": [
        "Now compare the execution time with `np.dot`."
      ]
    },
    {
      "cell_type": "code",
      "metadata": {
        "id": "tmXlftPyvIEN",
        "colab": {
          "base_uri": "https://localhost:8080/"
        },
        "outputId": "e589d17b-120b-4c43-c3d3-cfc473be08d2"
      },
      "source": [
        "%%timeit\n",
        "### YOUR CODE BEGINS HERE ###\n",
        "np.dot(a,b)\n",
        "### YOUR CODE ENDS HERE ###"
      ],
      "execution_count": 173,
      "outputs": [
        {
          "output_type": "stream",
          "name": "stdout",
          "text": [
            "The slowest run took 7.24 times longer than the fastest. This could mean that an intermediate result is being cached.\n",
            "100000 loops, best of 5: 11 µs per loop\n"
          ]
        }
      ]
    },
    {
      "cell_type": "markdown",
      "metadata": {
        "id": "qYQJ01iRUBFP"
      },
      "source": [
        "### Exercise: vector operations\n",
        "Calculate \n",
        "$$ \\int_0^1 \\sin(a\\cdot2\\pi x)\\sin(b\\cdot 2\\pi x)dx $$ \n",
        "for \n",
        "- $a=b=1$,\n",
        "- $a=1$ and $b=2$,\n",
        "\n",
        "using discrete approximation of an integral and following NumPy functions: `linspace, sin, mean`\n"
      ]
    },
    {
      "cell_type": "code",
      "metadata": {
        "id": "YmRqKz0aZDgK",
        "colab": {
          "base_uri": "https://localhost:8080/"
        },
        "outputId": "f3c7907d-c2cb-4155-df6d-e0f581770054"
      },
      "source": [
        "# Case a = b = 1\n",
        "### YOUR CODE BEGINS HERE ###\n",
        "x = np.linspace(0,1,1000000)\n",
        "a = 1\n",
        "b = 1\n",
        "answer = np.mean(np.sin(a * 2 * np.pi * x) * np.sin(b * 2 * np.pi * x))\n",
        "### YOUR CODE ENDS HERE ###\n",
        "\n",
        "print(answer.round(4))\n",
        "assert np.isclose(answer, 0.5)"
      ],
      "execution_count": 197,
      "outputs": [
        {
          "output_type": "stream",
          "name": "stdout",
          "text": [
            "0.5\n"
          ]
        }
      ]
    },
    {
      "cell_type": "code",
      "metadata": {
        "id": "Kb19r8aEdxd_",
        "colab": {
          "base_uri": "https://localhost:8080/"
        },
        "outputId": "25829aae-ff00-46fb-ed34-d0aa2572605f"
      },
      "source": [
        "# Case a = 1, b = 2\n",
        "### YOUR CODE BEGINS HERE ###\n",
        "x = np.linspace(0,1,1000000)\n",
        "a = 1\n",
        "b = 2\n",
        "answer = np.mean(np.sin(a * 2 * np.pi * x) * np.sin(b * 2 * np.pi * x))\n",
        "### YOUR CODE ENDS HERE ###\n",
        "print(answer.round(4))\n",
        "assert np.isclose(answer, 0)"
      ],
      "execution_count": 196,
      "outputs": [
        {
          "output_type": "stream",
          "name": "stdout",
          "text": [
            "0.0\n"
          ]
        }
      ]
    },
    {
      "cell_type": "markdown",
      "metadata": {
        "id": "giw7r-G8V_eM"
      },
      "source": [
        "### Exercise: vector operations ctd.\n",
        "\n",
        "Let $a_j = j$. Calculate in a similar fashion matrix $(b_{ij})_{i,j=0, ..., 4}$, where\n",
        "$$ b_{ij} = \\int_0^1 \\sin(a_i\\cdot2\\pi x)\\sin(a_j\\cdot 2\\pi x)dx. $$ \n",
        "\n",
        "Try to structure your code in such a way that it would accept an arbitrary array `a`."
      ]
    },
    {
      "cell_type": "code",
      "metadata": {
        "id": "uNflOF0lfcSm",
        "colab": {
          "base_uri": "https://localhost:8080/"
        },
        "outputId": "c0844c19-dd76-4d36-dd66-f2aa7a246395"
      },
      "source": [
        "a = np.arange(5)\n",
        "\n",
        "### YOUR CODE BEGINS HERE ###\n",
        "x = np.linspace(0,1,1000000)\n",
        "b = np.reshape(a, (-1, 1, 1))\n",
        "a = np.reshape(a, (1, -1, 1))\n",
        "\n",
        "answer = np.mean(np.sin(a*2*np.pi*x) * np.sin(b*2*np.pi*x), axis=2) \n",
        "### YOUR CODE ENDS HERE ###\n",
        "\n",
        "print(answer.round(2))\n",
        "assert np.isclose(answer, np.diag([0, 0.5, 0.5, 0.5, 0.5])).all()"
      ],
      "execution_count": 8,
      "outputs": [
        {
          "output_type": "stream",
          "name": "stdout",
          "text": [
            "[[ 0.   0.   0.   0.   0. ]\n",
            " [ 0.   0.5  0.  -0.   0. ]\n",
            " [ 0.   0.   0.5 -0.  -0. ]\n",
            " [ 0.  -0.  -0.   0.5 -0. ]\n",
            " [ 0.   0.  -0.  -0.   0.5]]\n"
          ]
        }
      ]
    },
    {
      "cell_type": "markdown",
      "metadata": {
        "id": "s_L1zNkbjME2"
      },
      "source": [
        "### Exercise: subarrays\n",
        "\n",
        "Let us sample $n=100 000$ standard normal random variables. Calculate mean of values greater than zero."
      ]
    },
    {
      "cell_type": "code",
      "metadata": {
        "id": "05Ei2vVujnT7"
      },
      "source": [
        "np.random.seed(0)\n",
        "\n",
        "n = 100000\n",
        "sample = np.random.randn(n)\n",
        "\n",
        "### YOUR CODE BEGINS HERE ###\n",
        "answer = np.mean(sample[sample>0])\n",
        "### YOUR CODE ENDS HERE ###\n",
        "\n",
        "assert np.isclose(answer, np.sqrt(2/np.pi), rtol=0.01)"
      ],
      "execution_count": 9,
      "outputs": []
    },
    {
      "cell_type": "markdown",
      "metadata": {
        "id": "_5EssMSuymmz"
      },
      "source": [
        "### Exercise: subarrays ctd.\n",
        "Let us sample an array of random integers.\n",
        "1. Select columns for which sum of its values gives remainder = 1 when divided by 3.\n",
        "2. Change entries in that columns to ones.\n",
        "3. Calculate sum of all entries."
      ]
    },
    {
      "cell_type": "code",
      "metadata": {
        "id": "gdtGB0SUyqcT"
      },
      "source": [
        "np.random.seed(0)\n",
        "sample = np.random.randint(0, 3, size=(10, 10))\n",
        "\n",
        "### YOUR CODE BEGINS HERE ###\n",
        "sample = sample.T\n",
        "sample[np.mod(np.sum(sample, axis = 1), 3) == 1] = np.ones(sample.shape[1])\n",
        "answer = np.sum(sample)\n",
        "### YOUR CODE ENDS HERE ###\n",
        "\n",
        "assert answer == 88"
      ],
      "execution_count": 10,
      "outputs": []
    },
    {
      "cell_type": "markdown",
      "metadata": {
        "id": "dylMl_qMmsGN"
      },
      "source": [
        "\n",
        "### Exercise: matrix multiplication & merging arrays\n",
        "\n",
        "In this exercies we will approximate operator norm of some matrices.\n",
        "\n",
        "1. Create an an array of $n=1000$ vectors $v\\in\\mathbb{R}^2$ \"evenly spaced\" on the unit circle. \n",
        "2. Combine given three matrices into one array.\n",
        "3. Use **one** matrix multiplication operation with these arrays to obtain matrix products of all the vectors with all the matrices.\n",
        "4. For each vector calculate its (euclidean) length.\n",
        "5. Take maximum with respect to each matrix.\n",
        "6. You should obtain three values representing approximations of operator norm of provided matrices.\n"
      ]
    },
    {
      "cell_type": "code",
      "metadata": {
        "id": "6-aovP6NoEKt",
        "colab": {
          "base_uri": "https://localhost:8080/"
        },
        "outputId": "809eebd4-69eb-4cce-e5fd-4c9545393773"
      },
      "source": [
        "matrix_1 = np.array([\n",
        "  [1, 0],\n",
        "  [0, 1]\n",
        "])\n",
        "\n",
        "matrix_2 = np.array([\n",
        "  [1, 1],\n",
        "  [1, 1]\n",
        "])\n",
        "\n",
        "matrix_3 = np.array([\n",
        "  [1, 1],\n",
        "  [0, 1]\n",
        "])\n",
        "\n",
        "### YOUR CODE BEGINS HERE ###\n",
        "n = 1000\n",
        "lin = np.linspace(0, 1, n)\n",
        "\n",
        "combined_matrix = np.stack((matrix_1, matrix_2, matrix_3))\n",
        "\n",
        "x = np.sin(2*np.pi*lin)\n",
        "y = np.cos(2*np.pi*lin)\n",
        "points = np.stack((x, y))\n",
        "\n",
        "multiplied = np.matmul(combined_matrix, points)\n",
        "answer = np.max(np.sqrt(multiplied[:, 0]**2 + multiplied[:, -1]**2), axis=1)\n",
        "### YOUR CODE ENDS HERE ###\n",
        "\n",
        "print(answer.round(4))\n",
        "assert np.isclose(answer, [1, 2, (1+np.sqrt(5))/2]).all()"
      ],
      "execution_count": 11,
      "outputs": [
        {
          "output_type": "stream",
          "name": "stdout",
          "text": [
            "[1.    2.    1.618]\n"
          ]
        }
      ]
    },
    {
      "cell_type": "markdown",
      "metadata": {
        "id": "eq-L2oL9A5Hz"
      },
      "source": [
        "## Other NumPy functionalities\n",
        "NumPy package impelemnts plethora of mathematical functionalities, not covered in this tutorial. NumPy User guide and API Reference are great starting point to discover those functionalities:\n",
        "- https://numpy.org/doc/stable/user/\n",
        "- https://numpy.org/doc/stable/reference/"
      ]
    },
    {
      "cell_type": "markdown",
      "metadata": {
        "id": "wfF_VgCsYXL-"
      },
      "source": [
        "\n",
        "# What is pandas?\n",
        "\n",
        "Pandas is a fast, powerful, flexible and easy to use open source data analysis and manipulation tool,\n",
        "built on top of the Python programming language.\n",
        "\n",
        "It is meant for manipulating datasets in tabular format, that is 2D arrays with rows representing observations and columns representing variables, the so called **DataFrames**.\n",
        "\n",
        "from: https://pandas.pydata.org/"
      ]
    },
    {
      "cell_type": "markdown",
      "metadata": {
        "id": "YEsU_HbrTbU9"
      },
      "source": [
        "### Creating dataframes"
      ]
    },
    {
      "cell_type": "markdown",
      "metadata": {
        "id": "KSZnWr_OT5SO"
      },
      "source": [
        "In the most basic form you just specify 2D array of values"
      ]
    },
    {
      "cell_type": "code",
      "metadata": {
        "colab": {
          "base_uri": "https://localhost:8080/",
          "height": 174
        },
        "id": "rhQ20UgCRSCw",
        "outputId": "71f633e7-9b60-4792-96ca-df1c2c705d61"
      },
      "source": [
        "import pandas as pd\n",
        "\n",
        "df = pd.DataFrame(\n",
        "    np.arange(0, 16, 1).reshape(4, 4)\n",
        ")\n",
        "\n",
        "df"
      ],
      "execution_count": 5,
      "outputs": [
        {
          "output_type": "execute_result",
          "data": {
            "text/html": [
              "<div>\n",
              "<style scoped>\n",
              "    .dataframe tbody tr th:only-of-type {\n",
              "        vertical-align: middle;\n",
              "    }\n",
              "\n",
              "    .dataframe tbody tr th {\n",
              "        vertical-align: top;\n",
              "    }\n",
              "\n",
              "    .dataframe thead th {\n",
              "        text-align: right;\n",
              "    }\n",
              "</style>\n",
              "<table border=\"1\" class=\"dataframe\">\n",
              "  <thead>\n",
              "    <tr style=\"text-align: right;\">\n",
              "      <th></th>\n",
              "      <th>0</th>\n",
              "      <th>1</th>\n",
              "      <th>2</th>\n",
              "      <th>3</th>\n",
              "    </tr>\n",
              "  </thead>\n",
              "  <tbody>\n",
              "    <tr>\n",
              "      <th>0</th>\n",
              "      <td>0</td>\n",
              "      <td>1</td>\n",
              "      <td>2</td>\n",
              "      <td>3</td>\n",
              "    </tr>\n",
              "    <tr>\n",
              "      <th>1</th>\n",
              "      <td>4</td>\n",
              "      <td>5</td>\n",
              "      <td>6</td>\n",
              "      <td>7</td>\n",
              "    </tr>\n",
              "    <tr>\n",
              "      <th>2</th>\n",
              "      <td>8</td>\n",
              "      <td>9</td>\n",
              "      <td>10</td>\n",
              "      <td>11</td>\n",
              "    </tr>\n",
              "    <tr>\n",
              "      <th>3</th>\n",
              "      <td>12</td>\n",
              "      <td>13</td>\n",
              "      <td>14</td>\n",
              "      <td>15</td>\n",
              "    </tr>\n",
              "  </tbody>\n",
              "</table>\n",
              "</div>"
            ],
            "text/plain": [
              "    0   1   2   3\n",
              "0   0   1   2   3\n",
              "1   4   5   6   7\n",
              "2   8   9  10  11\n",
              "3  12  13  14  15"
            ]
          },
          "metadata": {},
          "execution_count": 5
        }
      ]
    },
    {
      "cell_type": "markdown",
      "metadata": {
        "id": "VCsvnayJUTWg"
      },
      "source": [
        "It is possible to additionally specify columns and index labels"
      ]
    },
    {
      "cell_type": "code",
      "metadata": {
        "colab": {
          "base_uri": "https://localhost:8080/",
          "height": 174
        },
        "id": "xD4KZXGAUCgO",
        "outputId": "36576276-709d-4095-e099-e5d11ef3b214"
      },
      "source": [
        "df = pd.DataFrame(\n",
        "    np.arange(0, 16, 1).reshape(4, 4),\n",
        "    columns = ['column_1', 'column_2', 'column_3', 'column_4'],\n",
        "    index   = ['a', 'b', 'c', 'd']\n",
        ")\n",
        "\n",
        "df"
      ],
      "execution_count": 6,
      "outputs": [
        {
          "output_type": "execute_result",
          "data": {
            "text/html": [
              "<div>\n",
              "<style scoped>\n",
              "    .dataframe tbody tr th:only-of-type {\n",
              "        vertical-align: middle;\n",
              "    }\n",
              "\n",
              "    .dataframe tbody tr th {\n",
              "        vertical-align: top;\n",
              "    }\n",
              "\n",
              "    .dataframe thead th {\n",
              "        text-align: right;\n",
              "    }\n",
              "</style>\n",
              "<table border=\"1\" class=\"dataframe\">\n",
              "  <thead>\n",
              "    <tr style=\"text-align: right;\">\n",
              "      <th></th>\n",
              "      <th>column_1</th>\n",
              "      <th>column_2</th>\n",
              "      <th>column_3</th>\n",
              "      <th>column_4</th>\n",
              "    </tr>\n",
              "  </thead>\n",
              "  <tbody>\n",
              "    <tr>\n",
              "      <th>a</th>\n",
              "      <td>0</td>\n",
              "      <td>1</td>\n",
              "      <td>2</td>\n",
              "      <td>3</td>\n",
              "    </tr>\n",
              "    <tr>\n",
              "      <th>b</th>\n",
              "      <td>4</td>\n",
              "      <td>5</td>\n",
              "      <td>6</td>\n",
              "      <td>7</td>\n",
              "    </tr>\n",
              "    <tr>\n",
              "      <th>c</th>\n",
              "      <td>8</td>\n",
              "      <td>9</td>\n",
              "      <td>10</td>\n",
              "      <td>11</td>\n",
              "    </tr>\n",
              "    <tr>\n",
              "      <th>d</th>\n",
              "      <td>12</td>\n",
              "      <td>13</td>\n",
              "      <td>14</td>\n",
              "      <td>15</td>\n",
              "    </tr>\n",
              "  </tbody>\n",
              "</table>\n",
              "</div>"
            ],
            "text/plain": [
              "   column_1  column_2  column_3  column_4\n",
              "a         0         1         2         3\n",
              "b         4         5         6         7\n",
              "c         8         9        10        11\n",
              "d        12        13        14        15"
            ]
          },
          "metadata": {},
          "execution_count": 6
        }
      ]
    },
    {
      "cell_type": "markdown",
      "metadata": {
        "id": "ZycNpPSvDMUy"
      },
      "source": [
        "as well as type of entries"
      ]
    },
    {
      "cell_type": "code",
      "metadata": {
        "colab": {
          "base_uri": "https://localhost:8080/",
          "height": 174
        },
        "id": "5-4MyYLQDS2s",
        "outputId": "c3227b4d-a23f-4f9d-c6ff-58b49574c6f2"
      },
      "source": [
        "df = pd.DataFrame(\n",
        "    np.arange(0, 16, 1).reshape(4, 4),\n",
        "    columns = ['column_1', 'column_2', 'column_3', 'column_4'],\n",
        "    index   = ['a', 'b', 'c', 'd'],\n",
        "    dtype   = np.float\n",
        ")\n",
        "\n",
        "df"
      ],
      "execution_count": 7,
      "outputs": [
        {
          "output_type": "execute_result",
          "data": {
            "text/html": [
              "<div>\n",
              "<style scoped>\n",
              "    .dataframe tbody tr th:only-of-type {\n",
              "        vertical-align: middle;\n",
              "    }\n",
              "\n",
              "    .dataframe tbody tr th {\n",
              "        vertical-align: top;\n",
              "    }\n",
              "\n",
              "    .dataframe thead th {\n",
              "        text-align: right;\n",
              "    }\n",
              "</style>\n",
              "<table border=\"1\" class=\"dataframe\">\n",
              "  <thead>\n",
              "    <tr style=\"text-align: right;\">\n",
              "      <th></th>\n",
              "      <th>column_1</th>\n",
              "      <th>column_2</th>\n",
              "      <th>column_3</th>\n",
              "      <th>column_4</th>\n",
              "    </tr>\n",
              "  </thead>\n",
              "  <tbody>\n",
              "    <tr>\n",
              "      <th>a</th>\n",
              "      <td>0.0</td>\n",
              "      <td>1.0</td>\n",
              "      <td>2.0</td>\n",
              "      <td>3.0</td>\n",
              "    </tr>\n",
              "    <tr>\n",
              "      <th>b</th>\n",
              "      <td>4.0</td>\n",
              "      <td>5.0</td>\n",
              "      <td>6.0</td>\n",
              "      <td>7.0</td>\n",
              "    </tr>\n",
              "    <tr>\n",
              "      <th>c</th>\n",
              "      <td>8.0</td>\n",
              "      <td>9.0</td>\n",
              "      <td>10.0</td>\n",
              "      <td>11.0</td>\n",
              "    </tr>\n",
              "    <tr>\n",
              "      <th>d</th>\n",
              "      <td>12.0</td>\n",
              "      <td>13.0</td>\n",
              "      <td>14.0</td>\n",
              "      <td>15.0</td>\n",
              "    </tr>\n",
              "  </tbody>\n",
              "</table>\n",
              "</div>"
            ],
            "text/plain": [
              "   column_1  column_2  column_3  column_4\n",
              "a       0.0       1.0       2.0       3.0\n",
              "b       4.0       5.0       6.0       7.0\n",
              "c       8.0       9.0      10.0      11.0\n",
              "d      12.0      13.0      14.0      15.0"
            ]
          },
          "metadata": {},
          "execution_count": 7
        }
      ]
    },
    {
      "cell_type": "code",
      "metadata": {
        "colab": {
          "base_uri": "https://localhost:8080/",
          "height": 174
        },
        "id": "s4UWEfYWDtLI",
        "outputId": "e046b175-a4f1-415d-f449-8676480caf00"
      },
      "source": [
        "df.astype(np.int)"
      ],
      "execution_count": 8,
      "outputs": [
        {
          "output_type": "execute_result",
          "data": {
            "text/html": [
              "<div>\n",
              "<style scoped>\n",
              "    .dataframe tbody tr th:only-of-type {\n",
              "        vertical-align: middle;\n",
              "    }\n",
              "\n",
              "    .dataframe tbody tr th {\n",
              "        vertical-align: top;\n",
              "    }\n",
              "\n",
              "    .dataframe thead th {\n",
              "        text-align: right;\n",
              "    }\n",
              "</style>\n",
              "<table border=\"1\" class=\"dataframe\">\n",
              "  <thead>\n",
              "    <tr style=\"text-align: right;\">\n",
              "      <th></th>\n",
              "      <th>column_1</th>\n",
              "      <th>column_2</th>\n",
              "      <th>column_3</th>\n",
              "      <th>column_4</th>\n",
              "    </tr>\n",
              "  </thead>\n",
              "  <tbody>\n",
              "    <tr>\n",
              "      <th>a</th>\n",
              "      <td>0</td>\n",
              "      <td>1</td>\n",
              "      <td>2</td>\n",
              "      <td>3</td>\n",
              "    </tr>\n",
              "    <tr>\n",
              "      <th>b</th>\n",
              "      <td>4</td>\n",
              "      <td>5</td>\n",
              "      <td>6</td>\n",
              "      <td>7</td>\n",
              "    </tr>\n",
              "    <tr>\n",
              "      <th>c</th>\n",
              "      <td>8</td>\n",
              "      <td>9</td>\n",
              "      <td>10</td>\n",
              "      <td>11</td>\n",
              "    </tr>\n",
              "    <tr>\n",
              "      <th>d</th>\n",
              "      <td>12</td>\n",
              "      <td>13</td>\n",
              "      <td>14</td>\n",
              "      <td>15</td>\n",
              "    </tr>\n",
              "  </tbody>\n",
              "</table>\n",
              "</div>"
            ],
            "text/plain": [
              "   column_1  column_2  column_3  column_4\n",
              "a         0         1         2         3\n",
              "b         4         5         6         7\n",
              "c         8         9        10        11\n",
              "d        12        13        14        15"
            ]
          },
          "metadata": {},
          "execution_count": 8
        }
      ]
    },
    {
      "cell_type": "markdown",
      "metadata": {
        "id": "w45iqHKfUoLh"
      },
      "source": [
        "It can be done in an alternative manner"
      ]
    },
    {
      "cell_type": "code",
      "metadata": {
        "colab": {
          "base_uri": "https://localhost:8080/",
          "height": 174
        },
        "id": "bn_YerWOUsn4",
        "outputId": "6d4069b2-64ab-47cf-e647-734f89375e37"
      },
      "source": [
        "df = pd.DataFrame(\n",
        "    {\n",
        "      'column_1': [0,  4,  8, 12],\n",
        "      'column_2': [1,  5,  9, 13],\n",
        "      'column_3': [2,  6, 10, 14],\n",
        "      'column_4': [3,  7, 11, 15]\n",
        "    },\n",
        "    index   = ['a', 'b', 'c', 'd']\n",
        ")\n",
        "\n",
        "df"
      ],
      "execution_count": 9,
      "outputs": [
        {
          "output_type": "execute_result",
          "data": {
            "text/html": [
              "<div>\n",
              "<style scoped>\n",
              "    .dataframe tbody tr th:only-of-type {\n",
              "        vertical-align: middle;\n",
              "    }\n",
              "\n",
              "    .dataframe tbody tr th {\n",
              "        vertical-align: top;\n",
              "    }\n",
              "\n",
              "    .dataframe thead th {\n",
              "        text-align: right;\n",
              "    }\n",
              "</style>\n",
              "<table border=\"1\" class=\"dataframe\">\n",
              "  <thead>\n",
              "    <tr style=\"text-align: right;\">\n",
              "      <th></th>\n",
              "      <th>column_1</th>\n",
              "      <th>column_2</th>\n",
              "      <th>column_3</th>\n",
              "      <th>column_4</th>\n",
              "    </tr>\n",
              "  </thead>\n",
              "  <tbody>\n",
              "    <tr>\n",
              "      <th>a</th>\n",
              "      <td>0</td>\n",
              "      <td>1</td>\n",
              "      <td>2</td>\n",
              "      <td>3</td>\n",
              "    </tr>\n",
              "    <tr>\n",
              "      <th>b</th>\n",
              "      <td>4</td>\n",
              "      <td>5</td>\n",
              "      <td>6</td>\n",
              "      <td>7</td>\n",
              "    </tr>\n",
              "    <tr>\n",
              "      <th>c</th>\n",
              "      <td>8</td>\n",
              "      <td>9</td>\n",
              "      <td>10</td>\n",
              "      <td>11</td>\n",
              "    </tr>\n",
              "    <tr>\n",
              "      <th>d</th>\n",
              "      <td>12</td>\n",
              "      <td>13</td>\n",
              "      <td>14</td>\n",
              "      <td>15</td>\n",
              "    </tr>\n",
              "  </tbody>\n",
              "</table>\n",
              "</div>"
            ],
            "text/plain": [
              "   column_1  column_2  column_3  column_4\n",
              "a         0         1         2         3\n",
              "b         4         5         6         7\n",
              "c         8         9        10        11\n",
              "d        12        13        14        15"
            ]
          },
          "metadata": {},
          "execution_count": 9
        }
      ]
    },
    {
      "cell_type": "markdown",
      "metadata": {
        "id": "GrgbIQZIbeht"
      },
      "source": [
        "It is worth mentioning that the unerlying data can be accesed under `values` attribute"
      ]
    },
    {
      "cell_type": "code",
      "metadata": {
        "colab": {
          "base_uri": "https://localhost:8080/"
        },
        "id": "M8MRnPwKblIu",
        "outputId": "90f7ea50-a171-4285-a69f-5af2e132b443"
      },
      "source": [
        "df.values"
      ],
      "execution_count": 10,
      "outputs": [
        {
          "output_type": "execute_result",
          "data": {
            "text/plain": [
              "array([[ 0,  1,  2,  3],\n",
              "       [ 4,  5,  6,  7],\n",
              "       [ 8,  9, 10, 11],\n",
              "       [12, 13, 14, 15]])"
            ]
          },
          "metadata": {},
          "execution_count": 10
        }
      ]
    },
    {
      "cell_type": "markdown",
      "metadata": {
        "id": "vuKTe85p1lmN"
      },
      "source": [
        "What's important Pandas DataFrames can handle entires of different type. In the most common situation different columns will have different types."
      ]
    },
    {
      "cell_type": "code",
      "metadata": {
        "colab": {
          "base_uri": "https://localhost:8080/",
          "height": 174
        },
        "id": "wD02VmqJ2ADh",
        "outputId": "9a001968-0c74-44f9-e414-c3d9f313b6de"
      },
      "source": [
        "df = pd.DataFrame(\n",
        "    {\n",
        "      'integers': [0,   1,   2,  3],\n",
        "      'floats':   [1.0, 2.0, 3,  4],\n",
        "      'booleans': [True, False, True, False],\n",
        "      'arbitrary objects':  [0, 1.0, 'abc', False]\n",
        "    }\n",
        ")\n",
        "\n",
        "df"
      ],
      "execution_count": 11,
      "outputs": [
        {
          "output_type": "execute_result",
          "data": {
            "text/html": [
              "<div>\n",
              "<style scoped>\n",
              "    .dataframe tbody tr th:only-of-type {\n",
              "        vertical-align: middle;\n",
              "    }\n",
              "\n",
              "    .dataframe tbody tr th {\n",
              "        vertical-align: top;\n",
              "    }\n",
              "\n",
              "    .dataframe thead th {\n",
              "        text-align: right;\n",
              "    }\n",
              "</style>\n",
              "<table border=\"1\" class=\"dataframe\">\n",
              "  <thead>\n",
              "    <tr style=\"text-align: right;\">\n",
              "      <th></th>\n",
              "      <th>integers</th>\n",
              "      <th>floats</th>\n",
              "      <th>booleans</th>\n",
              "      <th>arbitrary objects</th>\n",
              "    </tr>\n",
              "  </thead>\n",
              "  <tbody>\n",
              "    <tr>\n",
              "      <th>0</th>\n",
              "      <td>0</td>\n",
              "      <td>1.0</td>\n",
              "      <td>True</td>\n",
              "      <td>0</td>\n",
              "    </tr>\n",
              "    <tr>\n",
              "      <th>1</th>\n",
              "      <td>1</td>\n",
              "      <td>2.0</td>\n",
              "      <td>False</td>\n",
              "      <td>1</td>\n",
              "    </tr>\n",
              "    <tr>\n",
              "      <th>2</th>\n",
              "      <td>2</td>\n",
              "      <td>3.0</td>\n",
              "      <td>True</td>\n",
              "      <td>abc</td>\n",
              "    </tr>\n",
              "    <tr>\n",
              "      <th>3</th>\n",
              "      <td>3</td>\n",
              "      <td>4.0</td>\n",
              "      <td>False</td>\n",
              "      <td>False</td>\n",
              "    </tr>\n",
              "  </tbody>\n",
              "</table>\n",
              "</div>"
            ],
            "text/plain": [
              "   integers  floats  booleans arbitrary objects\n",
              "0         0     1.0      True                 0\n",
              "1         1     2.0     False                 1\n",
              "2         2     3.0      True               abc\n",
              "3         3     4.0     False             False"
            ]
          },
          "metadata": {},
          "execution_count": 11
        }
      ]
    },
    {
      "cell_type": "code",
      "metadata": {
        "colab": {
          "base_uri": "https://localhost:8080/"
        },
        "id": "jL1NvTVo2rQ5",
        "outputId": "2e1a18a5-8d06-4f77-aee3-4f8d30a55577"
      },
      "source": [
        "df.dtypes"
      ],
      "execution_count": 12,
      "outputs": [
        {
          "output_type": "execute_result",
          "data": {
            "text/plain": [
              "integers               int64\n",
              "floats               float64\n",
              "booleans                bool\n",
              "arbitrary objects     object\n",
              "dtype: object"
            ]
          },
          "metadata": {},
          "execution_count": 12
        }
      ]
    },
    {
      "cell_type": "markdown",
      "metadata": {
        "id": "cfjchzQODghh"
      },
      "source": [
        "Another available creation methods are listed below\n",
        "- `pd.DataFrame.from_dict`\n",
        "- `pd.DataFrame.from_records`\n",
        "\n",
        "You can read about them here: https://pandas.pydata.org/docs/reference/api/pandas.DataFrame.html"
      ]
    },
    {
      "cell_type": "markdown",
      "metadata": {
        "id": "OvYgdfx_SB9B"
      },
      "source": [
        "### Loading data\n",
        "Let us peek into the CSV file conveniently provided in the Google Colab runtime"
      ]
    },
    {
      "cell_type": "code",
      "metadata": {
        "colab": {
          "base_uri": "https://localhost:8080/"
        },
        "id": "rA5uPiERSD3Q",
        "outputId": "9611800b-cece-4dca-f811-43da668078df"
      },
      "source": [
        "!head './sample_data/california_housing_train.csv'"
      ],
      "execution_count": 13,
      "outputs": [
        {
          "output_type": "stream",
          "name": "stdout",
          "text": [
            "\"longitude\",\"latitude\",\"housing_median_age\",\"total_rooms\",\"total_bedrooms\",\"population\",\"households\",\"median_income\",\"median_house_value\"\n",
            "-114.310000,34.190000,15.000000,5612.000000,1283.000000,1015.000000,472.000000,1.493600,66900.000000\n",
            "-114.470000,34.400000,19.000000,7650.000000,1901.000000,1129.000000,463.000000,1.820000,80100.000000\n",
            "-114.560000,33.690000,17.000000,720.000000,174.000000,333.000000,117.000000,1.650900,85700.000000\n",
            "-114.570000,33.640000,14.000000,1501.000000,337.000000,515.000000,226.000000,3.191700,73400.000000\n",
            "-114.570000,33.570000,20.000000,1454.000000,326.000000,624.000000,262.000000,1.925000,65500.000000\n",
            "-114.580000,33.630000,29.000000,1387.000000,236.000000,671.000000,239.000000,3.343800,74000.000000\n",
            "-114.580000,33.610000,25.000000,2907.000000,680.000000,1841.000000,633.000000,2.676800,82400.000000\n",
            "-114.590000,34.830000,41.000000,812.000000,168.000000,375.000000,158.000000,1.708300,48500.000000\n",
            "-114.590000,33.610000,34.000000,4789.000000,1175.000000,3134.000000,1056.000000,2.178200,58400.000000\n"
          ]
        }
      ]
    },
    {
      "cell_type": "markdown",
      "metadata": {
        "id": "-zGbvmsh5Icl"
      },
      "source": [
        "and load it using `pd._read_csv` method."
      ]
    },
    {
      "cell_type": "code",
      "metadata": {
        "colab": {
          "base_uri": "https://localhost:8080/",
          "height": 423
        },
        "id": "xJJm3_N4VnOv",
        "outputId": "2ae8a1c4-9593-43fd-c318-cff8bf346a15"
      },
      "source": [
        "pd.read_csv('./sample_data/california_housing_train.csv')"
      ],
      "execution_count": 14,
      "outputs": [
        {
          "output_type": "execute_result",
          "data": {
            "text/html": [
              "<div>\n",
              "<style scoped>\n",
              "    .dataframe tbody tr th:only-of-type {\n",
              "        vertical-align: middle;\n",
              "    }\n",
              "\n",
              "    .dataframe tbody tr th {\n",
              "        vertical-align: top;\n",
              "    }\n",
              "\n",
              "    .dataframe thead th {\n",
              "        text-align: right;\n",
              "    }\n",
              "</style>\n",
              "<table border=\"1\" class=\"dataframe\">\n",
              "  <thead>\n",
              "    <tr style=\"text-align: right;\">\n",
              "      <th></th>\n",
              "      <th>longitude</th>\n",
              "      <th>latitude</th>\n",
              "      <th>housing_median_age</th>\n",
              "      <th>total_rooms</th>\n",
              "      <th>total_bedrooms</th>\n",
              "      <th>population</th>\n",
              "      <th>households</th>\n",
              "      <th>median_income</th>\n",
              "      <th>median_house_value</th>\n",
              "    </tr>\n",
              "  </thead>\n",
              "  <tbody>\n",
              "    <tr>\n",
              "      <th>0</th>\n",
              "      <td>-114.31</td>\n",
              "      <td>34.19</td>\n",
              "      <td>15.0</td>\n",
              "      <td>5612.0</td>\n",
              "      <td>1283.0</td>\n",
              "      <td>1015.0</td>\n",
              "      <td>472.0</td>\n",
              "      <td>1.4936</td>\n",
              "      <td>66900.0</td>\n",
              "    </tr>\n",
              "    <tr>\n",
              "      <th>1</th>\n",
              "      <td>-114.47</td>\n",
              "      <td>34.40</td>\n",
              "      <td>19.0</td>\n",
              "      <td>7650.0</td>\n",
              "      <td>1901.0</td>\n",
              "      <td>1129.0</td>\n",
              "      <td>463.0</td>\n",
              "      <td>1.8200</td>\n",
              "      <td>80100.0</td>\n",
              "    </tr>\n",
              "    <tr>\n",
              "      <th>2</th>\n",
              "      <td>-114.56</td>\n",
              "      <td>33.69</td>\n",
              "      <td>17.0</td>\n",
              "      <td>720.0</td>\n",
              "      <td>174.0</td>\n",
              "      <td>333.0</td>\n",
              "      <td>117.0</td>\n",
              "      <td>1.6509</td>\n",
              "      <td>85700.0</td>\n",
              "    </tr>\n",
              "    <tr>\n",
              "      <th>3</th>\n",
              "      <td>-114.57</td>\n",
              "      <td>33.64</td>\n",
              "      <td>14.0</td>\n",
              "      <td>1501.0</td>\n",
              "      <td>337.0</td>\n",
              "      <td>515.0</td>\n",
              "      <td>226.0</td>\n",
              "      <td>3.1917</td>\n",
              "      <td>73400.0</td>\n",
              "    </tr>\n",
              "    <tr>\n",
              "      <th>4</th>\n",
              "      <td>-114.57</td>\n",
              "      <td>33.57</td>\n",
              "      <td>20.0</td>\n",
              "      <td>1454.0</td>\n",
              "      <td>326.0</td>\n",
              "      <td>624.0</td>\n",
              "      <td>262.0</td>\n",
              "      <td>1.9250</td>\n",
              "      <td>65500.0</td>\n",
              "    </tr>\n",
              "    <tr>\n",
              "      <th>...</th>\n",
              "      <td>...</td>\n",
              "      <td>...</td>\n",
              "      <td>...</td>\n",
              "      <td>...</td>\n",
              "      <td>...</td>\n",
              "      <td>...</td>\n",
              "      <td>...</td>\n",
              "      <td>...</td>\n",
              "      <td>...</td>\n",
              "    </tr>\n",
              "    <tr>\n",
              "      <th>16995</th>\n",
              "      <td>-124.26</td>\n",
              "      <td>40.58</td>\n",
              "      <td>52.0</td>\n",
              "      <td>2217.0</td>\n",
              "      <td>394.0</td>\n",
              "      <td>907.0</td>\n",
              "      <td>369.0</td>\n",
              "      <td>2.3571</td>\n",
              "      <td>111400.0</td>\n",
              "    </tr>\n",
              "    <tr>\n",
              "      <th>16996</th>\n",
              "      <td>-124.27</td>\n",
              "      <td>40.69</td>\n",
              "      <td>36.0</td>\n",
              "      <td>2349.0</td>\n",
              "      <td>528.0</td>\n",
              "      <td>1194.0</td>\n",
              "      <td>465.0</td>\n",
              "      <td>2.5179</td>\n",
              "      <td>79000.0</td>\n",
              "    </tr>\n",
              "    <tr>\n",
              "      <th>16997</th>\n",
              "      <td>-124.30</td>\n",
              "      <td>41.84</td>\n",
              "      <td>17.0</td>\n",
              "      <td>2677.0</td>\n",
              "      <td>531.0</td>\n",
              "      <td>1244.0</td>\n",
              "      <td>456.0</td>\n",
              "      <td>3.0313</td>\n",
              "      <td>103600.0</td>\n",
              "    </tr>\n",
              "    <tr>\n",
              "      <th>16998</th>\n",
              "      <td>-124.30</td>\n",
              "      <td>41.80</td>\n",
              "      <td>19.0</td>\n",
              "      <td>2672.0</td>\n",
              "      <td>552.0</td>\n",
              "      <td>1298.0</td>\n",
              "      <td>478.0</td>\n",
              "      <td>1.9797</td>\n",
              "      <td>85800.0</td>\n",
              "    </tr>\n",
              "    <tr>\n",
              "      <th>16999</th>\n",
              "      <td>-124.35</td>\n",
              "      <td>40.54</td>\n",
              "      <td>52.0</td>\n",
              "      <td>1820.0</td>\n",
              "      <td>300.0</td>\n",
              "      <td>806.0</td>\n",
              "      <td>270.0</td>\n",
              "      <td>3.0147</td>\n",
              "      <td>94600.0</td>\n",
              "    </tr>\n",
              "  </tbody>\n",
              "</table>\n",
              "<p>17000 rows × 9 columns</p>\n",
              "</div>"
            ],
            "text/plain": [
              "       longitude  latitude  ...  median_income  median_house_value\n",
              "0        -114.31     34.19  ...         1.4936             66900.0\n",
              "1        -114.47     34.40  ...         1.8200             80100.0\n",
              "2        -114.56     33.69  ...         1.6509             85700.0\n",
              "3        -114.57     33.64  ...         3.1917             73400.0\n",
              "4        -114.57     33.57  ...         1.9250             65500.0\n",
              "...          ...       ...  ...            ...                 ...\n",
              "16995    -124.26     40.58  ...         2.3571            111400.0\n",
              "16996    -124.27     40.69  ...         2.5179             79000.0\n",
              "16997    -124.30     41.84  ...         3.0313            103600.0\n",
              "16998    -124.30     41.80  ...         1.9797             85800.0\n",
              "16999    -124.35     40.54  ...         3.0147             94600.0\n",
              "\n",
              "[17000 rows x 9 columns]"
            ]
          },
          "metadata": {},
          "execution_count": 14
        }
      ]
    },
    {
      "cell_type": "markdown",
      "metadata": {
        "id": "-D51DYmy5QdA"
      },
      "source": [
        "In Pandas it is also possible to load JSON files."
      ]
    },
    {
      "cell_type": "code",
      "metadata": {
        "colab": {
          "base_uri": "https://localhost:8080/"
        },
        "id": "jSdvfe-4VYXr",
        "outputId": "ae535a48-13a5-4467-f930-4f8010bd8b3b"
      },
      "source": [
        "!head './sample_data/anscombe.json'"
      ],
      "execution_count": 15,
      "outputs": [
        {
          "output_type": "stream",
          "name": "stdout",
          "text": [
            "[\n",
            "  {\"Series\":\"I\", \"X\":10.0, \"Y\":8.04},\n",
            "  {\"Series\":\"I\", \"X\":8.0, \"Y\":6.95},\n",
            "  {\"Series\":\"I\", \"X\":13.0, \"Y\":7.58},\n",
            "  {\"Series\":\"I\", \"X\":9.0, \"Y\":8.81},\n",
            "  {\"Series\":\"I\", \"X\":11.0, \"Y\":8.33},\n",
            "  {\"Series\":\"I\", \"X\":14.0, \"Y\":9.96},\n",
            "  {\"Series\":\"I\", \"X\":6.0, \"Y\":7.24},\n",
            "  {\"Series\":\"I\", \"X\":4.0, \"Y\":4.26},\n",
            "  {\"Series\":\"I\", \"X\":12.0, \"Y\":10.84},\n"
          ]
        }
      ]
    },
    {
      "cell_type": "code",
      "metadata": {
        "colab": {
          "base_uri": "https://localhost:8080/",
          "height": 1000
        },
        "id": "N0rG07WBVkvz",
        "outputId": "b51b0795-d08d-4c21-eb12-a69659987dfb"
      },
      "source": [
        "pd.read_json('./sample_data/anscombe.json')"
      ],
      "execution_count": 16,
      "outputs": [
        {
          "output_type": "execute_result",
          "data": {
            "text/html": [
              "<div>\n",
              "<style scoped>\n",
              "    .dataframe tbody tr th:only-of-type {\n",
              "        vertical-align: middle;\n",
              "    }\n",
              "\n",
              "    .dataframe tbody tr th {\n",
              "        vertical-align: top;\n",
              "    }\n",
              "\n",
              "    .dataframe thead th {\n",
              "        text-align: right;\n",
              "    }\n",
              "</style>\n",
              "<table border=\"1\" class=\"dataframe\">\n",
              "  <thead>\n",
              "    <tr style=\"text-align: right;\">\n",
              "      <th></th>\n",
              "      <th>Series</th>\n",
              "      <th>X</th>\n",
              "      <th>Y</th>\n",
              "    </tr>\n",
              "  </thead>\n",
              "  <tbody>\n",
              "    <tr>\n",
              "      <th>0</th>\n",
              "      <td>I</td>\n",
              "      <td>10</td>\n",
              "      <td>8.04</td>\n",
              "    </tr>\n",
              "    <tr>\n",
              "      <th>1</th>\n",
              "      <td>I</td>\n",
              "      <td>8</td>\n",
              "      <td>6.95</td>\n",
              "    </tr>\n",
              "    <tr>\n",
              "      <th>2</th>\n",
              "      <td>I</td>\n",
              "      <td>13</td>\n",
              "      <td>7.58</td>\n",
              "    </tr>\n",
              "    <tr>\n",
              "      <th>3</th>\n",
              "      <td>I</td>\n",
              "      <td>9</td>\n",
              "      <td>8.81</td>\n",
              "    </tr>\n",
              "    <tr>\n",
              "      <th>4</th>\n",
              "      <td>I</td>\n",
              "      <td>11</td>\n",
              "      <td>8.33</td>\n",
              "    </tr>\n",
              "    <tr>\n",
              "      <th>5</th>\n",
              "      <td>I</td>\n",
              "      <td>14</td>\n",
              "      <td>9.96</td>\n",
              "    </tr>\n",
              "    <tr>\n",
              "      <th>6</th>\n",
              "      <td>I</td>\n",
              "      <td>6</td>\n",
              "      <td>7.24</td>\n",
              "    </tr>\n",
              "    <tr>\n",
              "      <th>7</th>\n",
              "      <td>I</td>\n",
              "      <td>4</td>\n",
              "      <td>4.26</td>\n",
              "    </tr>\n",
              "    <tr>\n",
              "      <th>8</th>\n",
              "      <td>I</td>\n",
              "      <td>12</td>\n",
              "      <td>10.84</td>\n",
              "    </tr>\n",
              "    <tr>\n",
              "      <th>9</th>\n",
              "      <td>I</td>\n",
              "      <td>7</td>\n",
              "      <td>4.81</td>\n",
              "    </tr>\n",
              "    <tr>\n",
              "      <th>10</th>\n",
              "      <td>I</td>\n",
              "      <td>5</td>\n",
              "      <td>5.68</td>\n",
              "    </tr>\n",
              "    <tr>\n",
              "      <th>11</th>\n",
              "      <td>II</td>\n",
              "      <td>10</td>\n",
              "      <td>9.14</td>\n",
              "    </tr>\n",
              "    <tr>\n",
              "      <th>12</th>\n",
              "      <td>II</td>\n",
              "      <td>8</td>\n",
              "      <td>8.14</td>\n",
              "    </tr>\n",
              "    <tr>\n",
              "      <th>13</th>\n",
              "      <td>II</td>\n",
              "      <td>13</td>\n",
              "      <td>8.74</td>\n",
              "    </tr>\n",
              "    <tr>\n",
              "      <th>14</th>\n",
              "      <td>II</td>\n",
              "      <td>9</td>\n",
              "      <td>8.77</td>\n",
              "    </tr>\n",
              "    <tr>\n",
              "      <th>15</th>\n",
              "      <td>II</td>\n",
              "      <td>11</td>\n",
              "      <td>9.26</td>\n",
              "    </tr>\n",
              "    <tr>\n",
              "      <th>16</th>\n",
              "      <td>II</td>\n",
              "      <td>14</td>\n",
              "      <td>8.10</td>\n",
              "    </tr>\n",
              "    <tr>\n",
              "      <th>17</th>\n",
              "      <td>II</td>\n",
              "      <td>6</td>\n",
              "      <td>6.13</td>\n",
              "    </tr>\n",
              "    <tr>\n",
              "      <th>18</th>\n",
              "      <td>II</td>\n",
              "      <td>4</td>\n",
              "      <td>3.10</td>\n",
              "    </tr>\n",
              "    <tr>\n",
              "      <th>19</th>\n",
              "      <td>II</td>\n",
              "      <td>12</td>\n",
              "      <td>9.13</td>\n",
              "    </tr>\n",
              "    <tr>\n",
              "      <th>20</th>\n",
              "      <td>II</td>\n",
              "      <td>7</td>\n",
              "      <td>7.26</td>\n",
              "    </tr>\n",
              "    <tr>\n",
              "      <th>21</th>\n",
              "      <td>II</td>\n",
              "      <td>5</td>\n",
              "      <td>4.74</td>\n",
              "    </tr>\n",
              "    <tr>\n",
              "      <th>22</th>\n",
              "      <td>III</td>\n",
              "      <td>10</td>\n",
              "      <td>7.46</td>\n",
              "    </tr>\n",
              "    <tr>\n",
              "      <th>23</th>\n",
              "      <td>III</td>\n",
              "      <td>8</td>\n",
              "      <td>6.77</td>\n",
              "    </tr>\n",
              "    <tr>\n",
              "      <th>24</th>\n",
              "      <td>III</td>\n",
              "      <td>13</td>\n",
              "      <td>12.74</td>\n",
              "    </tr>\n",
              "    <tr>\n",
              "      <th>25</th>\n",
              "      <td>III</td>\n",
              "      <td>9</td>\n",
              "      <td>7.11</td>\n",
              "    </tr>\n",
              "    <tr>\n",
              "      <th>26</th>\n",
              "      <td>III</td>\n",
              "      <td>11</td>\n",
              "      <td>7.81</td>\n",
              "    </tr>\n",
              "    <tr>\n",
              "      <th>27</th>\n",
              "      <td>III</td>\n",
              "      <td>14</td>\n",
              "      <td>8.84</td>\n",
              "    </tr>\n",
              "    <tr>\n",
              "      <th>28</th>\n",
              "      <td>III</td>\n",
              "      <td>6</td>\n",
              "      <td>6.08</td>\n",
              "    </tr>\n",
              "    <tr>\n",
              "      <th>29</th>\n",
              "      <td>III</td>\n",
              "      <td>4</td>\n",
              "      <td>5.39</td>\n",
              "    </tr>\n",
              "    <tr>\n",
              "      <th>30</th>\n",
              "      <td>III</td>\n",
              "      <td>12</td>\n",
              "      <td>8.15</td>\n",
              "    </tr>\n",
              "    <tr>\n",
              "      <th>31</th>\n",
              "      <td>III</td>\n",
              "      <td>7</td>\n",
              "      <td>6.42</td>\n",
              "    </tr>\n",
              "    <tr>\n",
              "      <th>32</th>\n",
              "      <td>III</td>\n",
              "      <td>5</td>\n",
              "      <td>5.73</td>\n",
              "    </tr>\n",
              "    <tr>\n",
              "      <th>33</th>\n",
              "      <td>IV</td>\n",
              "      <td>8</td>\n",
              "      <td>6.58</td>\n",
              "    </tr>\n",
              "    <tr>\n",
              "      <th>34</th>\n",
              "      <td>IV</td>\n",
              "      <td>8</td>\n",
              "      <td>5.76</td>\n",
              "    </tr>\n",
              "    <tr>\n",
              "      <th>35</th>\n",
              "      <td>IV</td>\n",
              "      <td>8</td>\n",
              "      <td>7.71</td>\n",
              "    </tr>\n",
              "    <tr>\n",
              "      <th>36</th>\n",
              "      <td>IV</td>\n",
              "      <td>8</td>\n",
              "      <td>8.84</td>\n",
              "    </tr>\n",
              "    <tr>\n",
              "      <th>37</th>\n",
              "      <td>IV</td>\n",
              "      <td>8</td>\n",
              "      <td>8.47</td>\n",
              "    </tr>\n",
              "    <tr>\n",
              "      <th>38</th>\n",
              "      <td>IV</td>\n",
              "      <td>8</td>\n",
              "      <td>7.04</td>\n",
              "    </tr>\n",
              "    <tr>\n",
              "      <th>39</th>\n",
              "      <td>IV</td>\n",
              "      <td>8</td>\n",
              "      <td>5.25</td>\n",
              "    </tr>\n",
              "    <tr>\n",
              "      <th>40</th>\n",
              "      <td>IV</td>\n",
              "      <td>19</td>\n",
              "      <td>12.50</td>\n",
              "    </tr>\n",
              "    <tr>\n",
              "      <th>41</th>\n",
              "      <td>IV</td>\n",
              "      <td>8</td>\n",
              "      <td>5.56</td>\n",
              "    </tr>\n",
              "    <tr>\n",
              "      <th>42</th>\n",
              "      <td>IV</td>\n",
              "      <td>8</td>\n",
              "      <td>7.91</td>\n",
              "    </tr>\n",
              "    <tr>\n",
              "      <th>43</th>\n",
              "      <td>IV</td>\n",
              "      <td>8</td>\n",
              "      <td>6.89</td>\n",
              "    </tr>\n",
              "  </tbody>\n",
              "</table>\n",
              "</div>"
            ],
            "text/plain": [
              "   Series   X      Y\n",
              "0       I  10   8.04\n",
              "1       I   8   6.95\n",
              "2       I  13   7.58\n",
              "3       I   9   8.81\n",
              "4       I  11   8.33\n",
              "5       I  14   9.96\n",
              "6       I   6   7.24\n",
              "7       I   4   4.26\n",
              "8       I  12  10.84\n",
              "9       I   7   4.81\n",
              "10      I   5   5.68\n",
              "11     II  10   9.14\n",
              "12     II   8   8.14\n",
              "13     II  13   8.74\n",
              "14     II   9   8.77\n",
              "15     II  11   9.26\n",
              "16     II  14   8.10\n",
              "17     II   6   6.13\n",
              "18     II   4   3.10\n",
              "19     II  12   9.13\n",
              "20     II   7   7.26\n",
              "21     II   5   4.74\n",
              "22    III  10   7.46\n",
              "23    III   8   6.77\n",
              "24    III  13  12.74\n",
              "25    III   9   7.11\n",
              "26    III  11   7.81\n",
              "27    III  14   8.84\n",
              "28    III   6   6.08\n",
              "29    III   4   5.39\n",
              "30    III  12   8.15\n",
              "31    III   7   6.42\n",
              "32    III   5   5.73\n",
              "33     IV   8   6.58\n",
              "34     IV   8   5.76\n",
              "35     IV   8   7.71\n",
              "36     IV   8   8.84\n",
              "37     IV   8   8.47\n",
              "38     IV   8   7.04\n",
              "39     IV   8   5.25\n",
              "40     IV  19  12.50\n",
              "41     IV   8   5.56\n",
              "42     IV   8   7.91\n",
              "43     IV   8   6.89"
            ]
          },
          "metadata": {},
          "execution_count": 16
        }
      ]
    },
    {
      "cell_type": "markdown",
      "metadata": {
        "id": "ugMRMTAi5iV5"
      },
      "source": [
        "## Other I/O functionalities\n",
        "They are listed here https://pandas.pydata.org/pandas-docs/stable/user_guide/io.html and are suitable for: XML, HDF, Feather, Parquet files as well as for interaction with various databases and much more."
      ]
    },
    {
      "cell_type": "markdown",
      "metadata": {
        "id": "5ECXIMVASJ57"
      },
      "source": [
        "## Handling missing data and duplicates\n",
        "\n",
        "In the real world it's often the case that there are missing or duplicate values in the dataset. They can be easily delt with in Pandas."
      ]
    },
    {
      "cell_type": "code",
      "metadata": {
        "colab": {
          "base_uri": "https://localhost:8080/",
          "height": 174
        },
        "id": "azd0OHckW_P5",
        "outputId": "f2bfd74c-4d72-477f-b25f-2f32e83f28ce"
      },
      "source": [
        "df = pd.DataFrame([\n",
        "  [0,       1     ],\n",
        "  [2,       0     ],\n",
        "  [2,       np.nan],\n",
        "  [np.nan,  np.nan]\n",
        "])\n",
        "\n",
        "df"
      ],
      "execution_count": 17,
      "outputs": [
        {
          "output_type": "execute_result",
          "data": {
            "text/html": [
              "<div>\n",
              "<style scoped>\n",
              "    .dataframe tbody tr th:only-of-type {\n",
              "        vertical-align: middle;\n",
              "    }\n",
              "\n",
              "    .dataframe tbody tr th {\n",
              "        vertical-align: top;\n",
              "    }\n",
              "\n",
              "    .dataframe thead th {\n",
              "        text-align: right;\n",
              "    }\n",
              "</style>\n",
              "<table border=\"1\" class=\"dataframe\">\n",
              "  <thead>\n",
              "    <tr style=\"text-align: right;\">\n",
              "      <th></th>\n",
              "      <th>0</th>\n",
              "      <th>1</th>\n",
              "    </tr>\n",
              "  </thead>\n",
              "  <tbody>\n",
              "    <tr>\n",
              "      <th>0</th>\n",
              "      <td>0.0</td>\n",
              "      <td>1.0</td>\n",
              "    </tr>\n",
              "    <tr>\n",
              "      <th>1</th>\n",
              "      <td>2.0</td>\n",
              "      <td>0.0</td>\n",
              "    </tr>\n",
              "    <tr>\n",
              "      <th>2</th>\n",
              "      <td>2.0</td>\n",
              "      <td>NaN</td>\n",
              "    </tr>\n",
              "    <tr>\n",
              "      <th>3</th>\n",
              "      <td>NaN</td>\n",
              "      <td>NaN</td>\n",
              "    </tr>\n",
              "  </tbody>\n",
              "</table>\n",
              "</div>"
            ],
            "text/plain": [
              "     0    1\n",
              "0  0.0  1.0\n",
              "1  2.0  0.0\n",
              "2  2.0  NaN\n",
              "3  NaN  NaN"
            ]
          },
          "metadata": {},
          "execution_count": 17
        }
      ]
    },
    {
      "cell_type": "markdown",
      "metadata": {
        "id": "S9gRcGqm6ShT"
      },
      "source": [
        "Incomplete observations can be filtered out."
      ]
    },
    {
      "cell_type": "code",
      "metadata": {
        "colab": {
          "base_uri": "https://localhost:8080/",
          "height": 112
        },
        "id": "ylwDhz21XX-w",
        "outputId": "52cabf17-4587-4ba6-b666-376d0a83f8be"
      },
      "source": [
        "df.dropna()"
      ],
      "execution_count": 18,
      "outputs": [
        {
          "output_type": "execute_result",
          "data": {
            "text/html": [
              "<div>\n",
              "<style scoped>\n",
              "    .dataframe tbody tr th:only-of-type {\n",
              "        vertical-align: middle;\n",
              "    }\n",
              "\n",
              "    .dataframe tbody tr th {\n",
              "        vertical-align: top;\n",
              "    }\n",
              "\n",
              "    .dataframe thead th {\n",
              "        text-align: right;\n",
              "    }\n",
              "</style>\n",
              "<table border=\"1\" class=\"dataframe\">\n",
              "  <thead>\n",
              "    <tr style=\"text-align: right;\">\n",
              "      <th></th>\n",
              "      <th>0</th>\n",
              "      <th>1</th>\n",
              "    </tr>\n",
              "  </thead>\n",
              "  <tbody>\n",
              "    <tr>\n",
              "      <th>0</th>\n",
              "      <td>0.0</td>\n",
              "      <td>1.0</td>\n",
              "    </tr>\n",
              "    <tr>\n",
              "      <th>1</th>\n",
              "      <td>2.0</td>\n",
              "      <td>0.0</td>\n",
              "    </tr>\n",
              "  </tbody>\n",
              "</table>\n",
              "</div>"
            ],
            "text/plain": [
              "     0    1\n",
              "0  0.0  1.0\n",
              "1  2.0  0.0"
            ]
          },
          "metadata": {},
          "execution_count": 18
        }
      ]
    },
    {
      "cell_type": "code",
      "metadata": {
        "colab": {
          "base_uri": "https://localhost:8080/",
          "height": 143
        },
        "id": "XDHte120XZfS",
        "outputId": "32fa537c-1433-4adf-b7b3-7ce6df04f94b"
      },
      "source": [
        "df.dropna(how='all')"
      ],
      "execution_count": 19,
      "outputs": [
        {
          "output_type": "execute_result",
          "data": {
            "text/html": [
              "<div>\n",
              "<style scoped>\n",
              "    .dataframe tbody tr th:only-of-type {\n",
              "        vertical-align: middle;\n",
              "    }\n",
              "\n",
              "    .dataframe tbody tr th {\n",
              "        vertical-align: top;\n",
              "    }\n",
              "\n",
              "    .dataframe thead th {\n",
              "        text-align: right;\n",
              "    }\n",
              "</style>\n",
              "<table border=\"1\" class=\"dataframe\">\n",
              "  <thead>\n",
              "    <tr style=\"text-align: right;\">\n",
              "      <th></th>\n",
              "      <th>0</th>\n",
              "      <th>1</th>\n",
              "    </tr>\n",
              "  </thead>\n",
              "  <tbody>\n",
              "    <tr>\n",
              "      <th>0</th>\n",
              "      <td>0.0</td>\n",
              "      <td>1.0</td>\n",
              "    </tr>\n",
              "    <tr>\n",
              "      <th>1</th>\n",
              "      <td>2.0</td>\n",
              "      <td>0.0</td>\n",
              "    </tr>\n",
              "    <tr>\n",
              "      <th>2</th>\n",
              "      <td>2.0</td>\n",
              "      <td>NaN</td>\n",
              "    </tr>\n",
              "  </tbody>\n",
              "</table>\n",
              "</div>"
            ],
            "text/plain": [
              "     0    1\n",
              "0  0.0  1.0\n",
              "1  2.0  0.0\n",
              "2  2.0  NaN"
            ]
          },
          "metadata": {},
          "execution_count": 19
        }
      ]
    },
    {
      "cell_type": "markdown",
      "metadata": {
        "id": "rNO5nXsc6XX8"
      },
      "source": [
        "It is also possible to \"fill the gaps\"."
      ]
    },
    {
      "cell_type": "code",
      "metadata": {
        "colab": {
          "base_uri": "https://localhost:8080/",
          "height": 174
        },
        "id": "XocA7HizXnpw",
        "outputId": "b4244147-2a3d-498f-9a53-699f593bb0b0"
      },
      "source": [
        "df.fillna(0)"
      ],
      "execution_count": 20,
      "outputs": [
        {
          "output_type": "execute_result",
          "data": {
            "text/html": [
              "<div>\n",
              "<style scoped>\n",
              "    .dataframe tbody tr th:only-of-type {\n",
              "        vertical-align: middle;\n",
              "    }\n",
              "\n",
              "    .dataframe tbody tr th {\n",
              "        vertical-align: top;\n",
              "    }\n",
              "\n",
              "    .dataframe thead th {\n",
              "        text-align: right;\n",
              "    }\n",
              "</style>\n",
              "<table border=\"1\" class=\"dataframe\">\n",
              "  <thead>\n",
              "    <tr style=\"text-align: right;\">\n",
              "      <th></th>\n",
              "      <th>0</th>\n",
              "      <th>1</th>\n",
              "    </tr>\n",
              "  </thead>\n",
              "  <tbody>\n",
              "    <tr>\n",
              "      <th>0</th>\n",
              "      <td>0.0</td>\n",
              "      <td>1.0</td>\n",
              "    </tr>\n",
              "    <tr>\n",
              "      <th>1</th>\n",
              "      <td>2.0</td>\n",
              "      <td>0.0</td>\n",
              "    </tr>\n",
              "    <tr>\n",
              "      <th>2</th>\n",
              "      <td>2.0</td>\n",
              "      <td>0.0</td>\n",
              "    </tr>\n",
              "    <tr>\n",
              "      <th>3</th>\n",
              "      <td>0.0</td>\n",
              "      <td>0.0</td>\n",
              "    </tr>\n",
              "  </tbody>\n",
              "</table>\n",
              "</div>"
            ],
            "text/plain": [
              "     0    1\n",
              "0  0.0  1.0\n",
              "1  2.0  0.0\n",
              "2  2.0  0.0\n",
              "3  0.0  0.0"
            ]
          },
          "metadata": {},
          "execution_count": 20
        }
      ]
    },
    {
      "cell_type": "code",
      "metadata": {
        "colab": {
          "base_uri": "https://localhost:8080/",
          "height": 143
        },
        "id": "bmrjskmCCdzQ",
        "outputId": "cdcfa364-2117-46cd-d651-d689ef624899"
      },
      "source": [
        "df.fillna(0).drop_duplicates()"
      ],
      "execution_count": 21,
      "outputs": [
        {
          "output_type": "execute_result",
          "data": {
            "text/html": [
              "<div>\n",
              "<style scoped>\n",
              "    .dataframe tbody tr th:only-of-type {\n",
              "        vertical-align: middle;\n",
              "    }\n",
              "\n",
              "    .dataframe tbody tr th {\n",
              "        vertical-align: top;\n",
              "    }\n",
              "\n",
              "    .dataframe thead th {\n",
              "        text-align: right;\n",
              "    }\n",
              "</style>\n",
              "<table border=\"1\" class=\"dataframe\">\n",
              "  <thead>\n",
              "    <tr style=\"text-align: right;\">\n",
              "      <th></th>\n",
              "      <th>0</th>\n",
              "      <th>1</th>\n",
              "    </tr>\n",
              "  </thead>\n",
              "  <tbody>\n",
              "    <tr>\n",
              "      <th>0</th>\n",
              "      <td>0.0</td>\n",
              "      <td>1.0</td>\n",
              "    </tr>\n",
              "    <tr>\n",
              "      <th>1</th>\n",
              "      <td>2.0</td>\n",
              "      <td>0.0</td>\n",
              "    </tr>\n",
              "    <tr>\n",
              "      <th>3</th>\n",
              "      <td>0.0</td>\n",
              "      <td>0.0</td>\n",
              "    </tr>\n",
              "  </tbody>\n",
              "</table>\n",
              "</div>"
            ],
            "text/plain": [
              "     0    1\n",
              "0  0.0  1.0\n",
              "1  2.0  0.0\n",
              "3  0.0  0.0"
            ]
          },
          "metadata": {},
          "execution_count": 21
        }
      ]
    },
    {
      "cell_type": "code",
      "metadata": {
        "colab": {
          "base_uri": "https://localhost:8080/",
          "height": 174
        },
        "id": "aT9oJBDvXqQJ",
        "outputId": "259d2218-96fb-4858-e885-1bfb19e9ba71"
      },
      "source": [
        "df.fillna({0: 0, 1: 1})"
      ],
      "execution_count": 22,
      "outputs": [
        {
          "output_type": "execute_result",
          "data": {
            "text/html": [
              "<div>\n",
              "<style scoped>\n",
              "    .dataframe tbody tr th:only-of-type {\n",
              "        vertical-align: middle;\n",
              "    }\n",
              "\n",
              "    .dataframe tbody tr th {\n",
              "        vertical-align: top;\n",
              "    }\n",
              "\n",
              "    .dataframe thead th {\n",
              "        text-align: right;\n",
              "    }\n",
              "</style>\n",
              "<table border=\"1\" class=\"dataframe\">\n",
              "  <thead>\n",
              "    <tr style=\"text-align: right;\">\n",
              "      <th></th>\n",
              "      <th>0</th>\n",
              "      <th>1</th>\n",
              "    </tr>\n",
              "  </thead>\n",
              "  <tbody>\n",
              "    <tr>\n",
              "      <th>0</th>\n",
              "      <td>0.0</td>\n",
              "      <td>1.0</td>\n",
              "    </tr>\n",
              "    <tr>\n",
              "      <th>1</th>\n",
              "      <td>2.0</td>\n",
              "      <td>0.0</td>\n",
              "    </tr>\n",
              "    <tr>\n",
              "      <th>2</th>\n",
              "      <td>2.0</td>\n",
              "      <td>1.0</td>\n",
              "    </tr>\n",
              "    <tr>\n",
              "      <th>3</th>\n",
              "      <td>0.0</td>\n",
              "      <td>1.0</td>\n",
              "    </tr>\n",
              "  </tbody>\n",
              "</table>\n",
              "</div>"
            ],
            "text/plain": [
              "     0    1\n",
              "0  0.0  1.0\n",
              "1  2.0  0.0\n",
              "2  2.0  1.0\n",
              "3  0.0  1.0"
            ]
          },
          "metadata": {},
          "execution_count": 22
        }
      ]
    },
    {
      "cell_type": "markdown",
      "metadata": {
        "id": "VA7EHyHjsSpc"
      },
      "source": [
        "## Data access\n",
        "\n",
        "Let us observe how we can access and manipulate DataFrame structure."
      ]
    },
    {
      "cell_type": "code",
      "metadata": {
        "colab": {
          "base_uri": "https://localhost:8080/",
          "height": 423
        },
        "id": "tVLuKfmLX0y5",
        "outputId": "e2c24ece-6067-41e8-98e8-028719e90c36"
      },
      "source": [
        "df = pd.read_csv('./sample_data/california_housing_train.csv')\n",
        "df"
      ],
      "execution_count": 23,
      "outputs": [
        {
          "output_type": "execute_result",
          "data": {
            "text/html": [
              "<div>\n",
              "<style scoped>\n",
              "    .dataframe tbody tr th:only-of-type {\n",
              "        vertical-align: middle;\n",
              "    }\n",
              "\n",
              "    .dataframe tbody tr th {\n",
              "        vertical-align: top;\n",
              "    }\n",
              "\n",
              "    .dataframe thead th {\n",
              "        text-align: right;\n",
              "    }\n",
              "</style>\n",
              "<table border=\"1\" class=\"dataframe\">\n",
              "  <thead>\n",
              "    <tr style=\"text-align: right;\">\n",
              "      <th></th>\n",
              "      <th>longitude</th>\n",
              "      <th>latitude</th>\n",
              "      <th>housing_median_age</th>\n",
              "      <th>total_rooms</th>\n",
              "      <th>total_bedrooms</th>\n",
              "      <th>population</th>\n",
              "      <th>households</th>\n",
              "      <th>median_income</th>\n",
              "      <th>median_house_value</th>\n",
              "    </tr>\n",
              "  </thead>\n",
              "  <tbody>\n",
              "    <tr>\n",
              "      <th>0</th>\n",
              "      <td>-114.31</td>\n",
              "      <td>34.19</td>\n",
              "      <td>15.0</td>\n",
              "      <td>5612.0</td>\n",
              "      <td>1283.0</td>\n",
              "      <td>1015.0</td>\n",
              "      <td>472.0</td>\n",
              "      <td>1.4936</td>\n",
              "      <td>66900.0</td>\n",
              "    </tr>\n",
              "    <tr>\n",
              "      <th>1</th>\n",
              "      <td>-114.47</td>\n",
              "      <td>34.40</td>\n",
              "      <td>19.0</td>\n",
              "      <td>7650.0</td>\n",
              "      <td>1901.0</td>\n",
              "      <td>1129.0</td>\n",
              "      <td>463.0</td>\n",
              "      <td>1.8200</td>\n",
              "      <td>80100.0</td>\n",
              "    </tr>\n",
              "    <tr>\n",
              "      <th>2</th>\n",
              "      <td>-114.56</td>\n",
              "      <td>33.69</td>\n",
              "      <td>17.0</td>\n",
              "      <td>720.0</td>\n",
              "      <td>174.0</td>\n",
              "      <td>333.0</td>\n",
              "      <td>117.0</td>\n",
              "      <td>1.6509</td>\n",
              "      <td>85700.0</td>\n",
              "    </tr>\n",
              "    <tr>\n",
              "      <th>3</th>\n",
              "      <td>-114.57</td>\n",
              "      <td>33.64</td>\n",
              "      <td>14.0</td>\n",
              "      <td>1501.0</td>\n",
              "      <td>337.0</td>\n",
              "      <td>515.0</td>\n",
              "      <td>226.0</td>\n",
              "      <td>3.1917</td>\n",
              "      <td>73400.0</td>\n",
              "    </tr>\n",
              "    <tr>\n",
              "      <th>4</th>\n",
              "      <td>-114.57</td>\n",
              "      <td>33.57</td>\n",
              "      <td>20.0</td>\n",
              "      <td>1454.0</td>\n",
              "      <td>326.0</td>\n",
              "      <td>624.0</td>\n",
              "      <td>262.0</td>\n",
              "      <td>1.9250</td>\n",
              "      <td>65500.0</td>\n",
              "    </tr>\n",
              "    <tr>\n",
              "      <th>...</th>\n",
              "      <td>...</td>\n",
              "      <td>...</td>\n",
              "      <td>...</td>\n",
              "      <td>...</td>\n",
              "      <td>...</td>\n",
              "      <td>...</td>\n",
              "      <td>...</td>\n",
              "      <td>...</td>\n",
              "      <td>...</td>\n",
              "    </tr>\n",
              "    <tr>\n",
              "      <th>16995</th>\n",
              "      <td>-124.26</td>\n",
              "      <td>40.58</td>\n",
              "      <td>52.0</td>\n",
              "      <td>2217.0</td>\n",
              "      <td>394.0</td>\n",
              "      <td>907.0</td>\n",
              "      <td>369.0</td>\n",
              "      <td>2.3571</td>\n",
              "      <td>111400.0</td>\n",
              "    </tr>\n",
              "    <tr>\n",
              "      <th>16996</th>\n",
              "      <td>-124.27</td>\n",
              "      <td>40.69</td>\n",
              "      <td>36.0</td>\n",
              "      <td>2349.0</td>\n",
              "      <td>528.0</td>\n",
              "      <td>1194.0</td>\n",
              "      <td>465.0</td>\n",
              "      <td>2.5179</td>\n",
              "      <td>79000.0</td>\n",
              "    </tr>\n",
              "    <tr>\n",
              "      <th>16997</th>\n",
              "      <td>-124.30</td>\n",
              "      <td>41.84</td>\n",
              "      <td>17.0</td>\n",
              "      <td>2677.0</td>\n",
              "      <td>531.0</td>\n",
              "      <td>1244.0</td>\n",
              "      <td>456.0</td>\n",
              "      <td>3.0313</td>\n",
              "      <td>103600.0</td>\n",
              "    </tr>\n",
              "    <tr>\n",
              "      <th>16998</th>\n",
              "      <td>-124.30</td>\n",
              "      <td>41.80</td>\n",
              "      <td>19.0</td>\n",
              "      <td>2672.0</td>\n",
              "      <td>552.0</td>\n",
              "      <td>1298.0</td>\n",
              "      <td>478.0</td>\n",
              "      <td>1.9797</td>\n",
              "      <td>85800.0</td>\n",
              "    </tr>\n",
              "    <tr>\n",
              "      <th>16999</th>\n",
              "      <td>-124.35</td>\n",
              "      <td>40.54</td>\n",
              "      <td>52.0</td>\n",
              "      <td>1820.0</td>\n",
              "      <td>300.0</td>\n",
              "      <td>806.0</td>\n",
              "      <td>270.0</td>\n",
              "      <td>3.0147</td>\n",
              "      <td>94600.0</td>\n",
              "    </tr>\n",
              "  </tbody>\n",
              "</table>\n",
              "<p>17000 rows × 9 columns</p>\n",
              "</div>"
            ],
            "text/plain": [
              "       longitude  latitude  ...  median_income  median_house_value\n",
              "0        -114.31     34.19  ...         1.4936             66900.0\n",
              "1        -114.47     34.40  ...         1.8200             80100.0\n",
              "2        -114.56     33.69  ...         1.6509             85700.0\n",
              "3        -114.57     33.64  ...         3.1917             73400.0\n",
              "4        -114.57     33.57  ...         1.9250             65500.0\n",
              "...          ...       ...  ...            ...                 ...\n",
              "16995    -124.26     40.58  ...         2.3571            111400.0\n",
              "16996    -124.27     40.69  ...         2.5179             79000.0\n",
              "16997    -124.30     41.84  ...         3.0313            103600.0\n",
              "16998    -124.30     41.80  ...         1.9797             85800.0\n",
              "16999    -124.35     40.54  ...         3.0147             94600.0\n",
              "\n",
              "[17000 rows x 9 columns]"
            ]
          },
          "metadata": {},
          "execution_count": 23
        }
      ]
    },
    {
      "cell_type": "markdown",
      "metadata": {
        "id": "CASPRMoexl7a"
      },
      "source": [
        "### describe & info\n",
        "Once the dataframe is loaded `describe` and `info`methods provide an easy way to obtain a high level view of the underlying data."
      ]
    },
    {
      "cell_type": "code",
      "metadata": {
        "colab": {
          "base_uri": "https://localhost:8080/",
          "height": 300
        },
        "id": "HMwnatJGxzfC",
        "outputId": "90be689a-71c8-4a00-bafa-6f70a0239ce7"
      },
      "source": [
        "df.describe()"
      ],
      "execution_count": 24,
      "outputs": [
        {
          "output_type": "execute_result",
          "data": {
            "text/html": [
              "<div>\n",
              "<style scoped>\n",
              "    .dataframe tbody tr th:only-of-type {\n",
              "        vertical-align: middle;\n",
              "    }\n",
              "\n",
              "    .dataframe tbody tr th {\n",
              "        vertical-align: top;\n",
              "    }\n",
              "\n",
              "    .dataframe thead th {\n",
              "        text-align: right;\n",
              "    }\n",
              "</style>\n",
              "<table border=\"1\" class=\"dataframe\">\n",
              "  <thead>\n",
              "    <tr style=\"text-align: right;\">\n",
              "      <th></th>\n",
              "      <th>longitude</th>\n",
              "      <th>latitude</th>\n",
              "      <th>housing_median_age</th>\n",
              "      <th>total_rooms</th>\n",
              "      <th>total_bedrooms</th>\n",
              "      <th>population</th>\n",
              "      <th>households</th>\n",
              "      <th>median_income</th>\n",
              "      <th>median_house_value</th>\n",
              "    </tr>\n",
              "  </thead>\n",
              "  <tbody>\n",
              "    <tr>\n",
              "      <th>count</th>\n",
              "      <td>17000.000000</td>\n",
              "      <td>17000.000000</td>\n",
              "      <td>17000.000000</td>\n",
              "      <td>17000.000000</td>\n",
              "      <td>17000.000000</td>\n",
              "      <td>17000.000000</td>\n",
              "      <td>17000.000000</td>\n",
              "      <td>17000.000000</td>\n",
              "      <td>17000.000000</td>\n",
              "    </tr>\n",
              "    <tr>\n",
              "      <th>mean</th>\n",
              "      <td>-119.562108</td>\n",
              "      <td>35.625225</td>\n",
              "      <td>28.589353</td>\n",
              "      <td>2643.664412</td>\n",
              "      <td>539.410824</td>\n",
              "      <td>1429.573941</td>\n",
              "      <td>501.221941</td>\n",
              "      <td>3.883578</td>\n",
              "      <td>207300.912353</td>\n",
              "    </tr>\n",
              "    <tr>\n",
              "      <th>std</th>\n",
              "      <td>2.005166</td>\n",
              "      <td>2.137340</td>\n",
              "      <td>12.586937</td>\n",
              "      <td>2179.947071</td>\n",
              "      <td>421.499452</td>\n",
              "      <td>1147.852959</td>\n",
              "      <td>384.520841</td>\n",
              "      <td>1.908157</td>\n",
              "      <td>115983.764387</td>\n",
              "    </tr>\n",
              "    <tr>\n",
              "      <th>min</th>\n",
              "      <td>-124.350000</td>\n",
              "      <td>32.540000</td>\n",
              "      <td>1.000000</td>\n",
              "      <td>2.000000</td>\n",
              "      <td>1.000000</td>\n",
              "      <td>3.000000</td>\n",
              "      <td>1.000000</td>\n",
              "      <td>0.499900</td>\n",
              "      <td>14999.000000</td>\n",
              "    </tr>\n",
              "    <tr>\n",
              "      <th>25%</th>\n",
              "      <td>-121.790000</td>\n",
              "      <td>33.930000</td>\n",
              "      <td>18.000000</td>\n",
              "      <td>1462.000000</td>\n",
              "      <td>297.000000</td>\n",
              "      <td>790.000000</td>\n",
              "      <td>282.000000</td>\n",
              "      <td>2.566375</td>\n",
              "      <td>119400.000000</td>\n",
              "    </tr>\n",
              "    <tr>\n",
              "      <th>50%</th>\n",
              "      <td>-118.490000</td>\n",
              "      <td>34.250000</td>\n",
              "      <td>29.000000</td>\n",
              "      <td>2127.000000</td>\n",
              "      <td>434.000000</td>\n",
              "      <td>1167.000000</td>\n",
              "      <td>409.000000</td>\n",
              "      <td>3.544600</td>\n",
              "      <td>180400.000000</td>\n",
              "    </tr>\n",
              "    <tr>\n",
              "      <th>75%</th>\n",
              "      <td>-118.000000</td>\n",
              "      <td>37.720000</td>\n",
              "      <td>37.000000</td>\n",
              "      <td>3151.250000</td>\n",
              "      <td>648.250000</td>\n",
              "      <td>1721.000000</td>\n",
              "      <td>605.250000</td>\n",
              "      <td>4.767000</td>\n",
              "      <td>265000.000000</td>\n",
              "    </tr>\n",
              "    <tr>\n",
              "      <th>max</th>\n",
              "      <td>-114.310000</td>\n",
              "      <td>41.950000</td>\n",
              "      <td>52.000000</td>\n",
              "      <td>37937.000000</td>\n",
              "      <td>6445.000000</td>\n",
              "      <td>35682.000000</td>\n",
              "      <td>6082.000000</td>\n",
              "      <td>15.000100</td>\n",
              "      <td>500001.000000</td>\n",
              "    </tr>\n",
              "  </tbody>\n",
              "</table>\n",
              "</div>"
            ],
            "text/plain": [
              "          longitude      latitude  ...  median_income  median_house_value\n",
              "count  17000.000000  17000.000000  ...   17000.000000        17000.000000\n",
              "mean    -119.562108     35.625225  ...       3.883578       207300.912353\n",
              "std        2.005166      2.137340  ...       1.908157       115983.764387\n",
              "min     -124.350000     32.540000  ...       0.499900        14999.000000\n",
              "25%     -121.790000     33.930000  ...       2.566375       119400.000000\n",
              "50%     -118.490000     34.250000  ...       3.544600       180400.000000\n",
              "75%     -118.000000     37.720000  ...       4.767000       265000.000000\n",
              "max     -114.310000     41.950000  ...      15.000100       500001.000000\n",
              "\n",
              "[8 rows x 9 columns]"
            ]
          },
          "metadata": {},
          "execution_count": 24
        }
      ]
    },
    {
      "cell_type": "code",
      "metadata": {
        "colab": {
          "base_uri": "https://localhost:8080/"
        },
        "id": "_Q2N98_Ex0mC",
        "outputId": "c07609fe-f2c5-48f4-f16c-bc1841cd41a9"
      },
      "source": [
        "df.info()"
      ],
      "execution_count": 25,
      "outputs": [
        {
          "output_type": "stream",
          "name": "stdout",
          "text": [
            "<class 'pandas.core.frame.DataFrame'>\n",
            "RangeIndex: 17000 entries, 0 to 16999\n",
            "Data columns (total 9 columns):\n",
            " #   Column              Non-Null Count  Dtype  \n",
            "---  ------              --------------  -----  \n",
            " 0   longitude           17000 non-null  float64\n",
            " 1   latitude            17000 non-null  float64\n",
            " 2   housing_median_age  17000 non-null  float64\n",
            " 3   total_rooms         17000 non-null  float64\n",
            " 4   total_bedrooms      17000 non-null  float64\n",
            " 5   population          17000 non-null  float64\n",
            " 6   households          17000 non-null  float64\n",
            " 7   median_income       17000 non-null  float64\n",
            " 8   median_house_value  17000 non-null  float64\n",
            "dtypes: float64(9)\n",
            "memory usage: 1.2 MB\n"
          ]
        }
      ]
    },
    {
      "cell_type": "markdown",
      "metadata": {
        "id": "qSPgCTze7xev"
      },
      "source": [
        "### head & tail\n",
        "we can use these methods to look at the first and last entries"
      ]
    },
    {
      "cell_type": "code",
      "metadata": {
        "colab": {
          "base_uri": "https://localhost:8080/",
          "height": 206
        },
        "id": "XO5Etmdc75s0",
        "outputId": "7f92fefc-6900-4bfc-bfa1-553978d687da"
      },
      "source": [
        "df.head()"
      ],
      "execution_count": 26,
      "outputs": [
        {
          "output_type": "execute_result",
          "data": {
            "text/html": [
              "<div>\n",
              "<style scoped>\n",
              "    .dataframe tbody tr th:only-of-type {\n",
              "        vertical-align: middle;\n",
              "    }\n",
              "\n",
              "    .dataframe tbody tr th {\n",
              "        vertical-align: top;\n",
              "    }\n",
              "\n",
              "    .dataframe thead th {\n",
              "        text-align: right;\n",
              "    }\n",
              "</style>\n",
              "<table border=\"1\" class=\"dataframe\">\n",
              "  <thead>\n",
              "    <tr style=\"text-align: right;\">\n",
              "      <th></th>\n",
              "      <th>longitude</th>\n",
              "      <th>latitude</th>\n",
              "      <th>housing_median_age</th>\n",
              "      <th>total_rooms</th>\n",
              "      <th>total_bedrooms</th>\n",
              "      <th>population</th>\n",
              "      <th>households</th>\n",
              "      <th>median_income</th>\n",
              "      <th>median_house_value</th>\n",
              "    </tr>\n",
              "  </thead>\n",
              "  <tbody>\n",
              "    <tr>\n",
              "      <th>0</th>\n",
              "      <td>-114.31</td>\n",
              "      <td>34.19</td>\n",
              "      <td>15.0</td>\n",
              "      <td>5612.0</td>\n",
              "      <td>1283.0</td>\n",
              "      <td>1015.0</td>\n",
              "      <td>472.0</td>\n",
              "      <td>1.4936</td>\n",
              "      <td>66900.0</td>\n",
              "    </tr>\n",
              "    <tr>\n",
              "      <th>1</th>\n",
              "      <td>-114.47</td>\n",
              "      <td>34.40</td>\n",
              "      <td>19.0</td>\n",
              "      <td>7650.0</td>\n",
              "      <td>1901.0</td>\n",
              "      <td>1129.0</td>\n",
              "      <td>463.0</td>\n",
              "      <td>1.8200</td>\n",
              "      <td>80100.0</td>\n",
              "    </tr>\n",
              "    <tr>\n",
              "      <th>2</th>\n",
              "      <td>-114.56</td>\n",
              "      <td>33.69</td>\n",
              "      <td>17.0</td>\n",
              "      <td>720.0</td>\n",
              "      <td>174.0</td>\n",
              "      <td>333.0</td>\n",
              "      <td>117.0</td>\n",
              "      <td>1.6509</td>\n",
              "      <td>85700.0</td>\n",
              "    </tr>\n",
              "    <tr>\n",
              "      <th>3</th>\n",
              "      <td>-114.57</td>\n",
              "      <td>33.64</td>\n",
              "      <td>14.0</td>\n",
              "      <td>1501.0</td>\n",
              "      <td>337.0</td>\n",
              "      <td>515.0</td>\n",
              "      <td>226.0</td>\n",
              "      <td>3.1917</td>\n",
              "      <td>73400.0</td>\n",
              "    </tr>\n",
              "    <tr>\n",
              "      <th>4</th>\n",
              "      <td>-114.57</td>\n",
              "      <td>33.57</td>\n",
              "      <td>20.0</td>\n",
              "      <td>1454.0</td>\n",
              "      <td>326.0</td>\n",
              "      <td>624.0</td>\n",
              "      <td>262.0</td>\n",
              "      <td>1.9250</td>\n",
              "      <td>65500.0</td>\n",
              "    </tr>\n",
              "  </tbody>\n",
              "</table>\n",
              "</div>"
            ],
            "text/plain": [
              "   longitude  latitude  ...  median_income  median_house_value\n",
              "0    -114.31     34.19  ...         1.4936             66900.0\n",
              "1    -114.47     34.40  ...         1.8200             80100.0\n",
              "2    -114.56     33.69  ...         1.6509             85700.0\n",
              "3    -114.57     33.64  ...         3.1917             73400.0\n",
              "4    -114.57     33.57  ...         1.9250             65500.0\n",
              "\n",
              "[5 rows x 9 columns]"
            ]
          },
          "metadata": {},
          "execution_count": 26
        }
      ]
    },
    {
      "cell_type": "code",
      "metadata": {
        "colab": {
          "base_uri": "https://localhost:8080/",
          "height": 206
        },
        "id": "_2KrT5a877XP",
        "outputId": "009a5cfc-72c5-4089-9e06-5f9b481e75e4"
      },
      "source": [
        "df.tail()"
      ],
      "execution_count": 27,
      "outputs": [
        {
          "output_type": "execute_result",
          "data": {
            "text/html": [
              "<div>\n",
              "<style scoped>\n",
              "    .dataframe tbody tr th:only-of-type {\n",
              "        vertical-align: middle;\n",
              "    }\n",
              "\n",
              "    .dataframe tbody tr th {\n",
              "        vertical-align: top;\n",
              "    }\n",
              "\n",
              "    .dataframe thead th {\n",
              "        text-align: right;\n",
              "    }\n",
              "</style>\n",
              "<table border=\"1\" class=\"dataframe\">\n",
              "  <thead>\n",
              "    <tr style=\"text-align: right;\">\n",
              "      <th></th>\n",
              "      <th>longitude</th>\n",
              "      <th>latitude</th>\n",
              "      <th>housing_median_age</th>\n",
              "      <th>total_rooms</th>\n",
              "      <th>total_bedrooms</th>\n",
              "      <th>population</th>\n",
              "      <th>households</th>\n",
              "      <th>median_income</th>\n",
              "      <th>median_house_value</th>\n",
              "    </tr>\n",
              "  </thead>\n",
              "  <tbody>\n",
              "    <tr>\n",
              "      <th>16995</th>\n",
              "      <td>-124.26</td>\n",
              "      <td>40.58</td>\n",
              "      <td>52.0</td>\n",
              "      <td>2217.0</td>\n",
              "      <td>394.0</td>\n",
              "      <td>907.0</td>\n",
              "      <td>369.0</td>\n",
              "      <td>2.3571</td>\n",
              "      <td>111400.0</td>\n",
              "    </tr>\n",
              "    <tr>\n",
              "      <th>16996</th>\n",
              "      <td>-124.27</td>\n",
              "      <td>40.69</td>\n",
              "      <td>36.0</td>\n",
              "      <td>2349.0</td>\n",
              "      <td>528.0</td>\n",
              "      <td>1194.0</td>\n",
              "      <td>465.0</td>\n",
              "      <td>2.5179</td>\n",
              "      <td>79000.0</td>\n",
              "    </tr>\n",
              "    <tr>\n",
              "      <th>16997</th>\n",
              "      <td>-124.30</td>\n",
              "      <td>41.84</td>\n",
              "      <td>17.0</td>\n",
              "      <td>2677.0</td>\n",
              "      <td>531.0</td>\n",
              "      <td>1244.0</td>\n",
              "      <td>456.0</td>\n",
              "      <td>3.0313</td>\n",
              "      <td>103600.0</td>\n",
              "    </tr>\n",
              "    <tr>\n",
              "      <th>16998</th>\n",
              "      <td>-124.30</td>\n",
              "      <td>41.80</td>\n",
              "      <td>19.0</td>\n",
              "      <td>2672.0</td>\n",
              "      <td>552.0</td>\n",
              "      <td>1298.0</td>\n",
              "      <td>478.0</td>\n",
              "      <td>1.9797</td>\n",
              "      <td>85800.0</td>\n",
              "    </tr>\n",
              "    <tr>\n",
              "      <th>16999</th>\n",
              "      <td>-124.35</td>\n",
              "      <td>40.54</td>\n",
              "      <td>52.0</td>\n",
              "      <td>1820.0</td>\n",
              "      <td>300.0</td>\n",
              "      <td>806.0</td>\n",
              "      <td>270.0</td>\n",
              "      <td>3.0147</td>\n",
              "      <td>94600.0</td>\n",
              "    </tr>\n",
              "  </tbody>\n",
              "</table>\n",
              "</div>"
            ],
            "text/plain": [
              "       longitude  latitude  ...  median_income  median_house_value\n",
              "16995    -124.26     40.58  ...         2.3571            111400.0\n",
              "16996    -124.27     40.69  ...         2.5179             79000.0\n",
              "16997    -124.30     41.84  ...         3.0313            103600.0\n",
              "16998    -124.30     41.80  ...         1.9797             85800.0\n",
              "16999    -124.35     40.54  ...         3.0147             94600.0\n",
              "\n",
              "[5 rows x 9 columns]"
            ]
          },
          "metadata": {},
          "execution_count": 27
        }
      ]
    },
    {
      "cell_type": "code",
      "metadata": {
        "colab": {
          "base_uri": "https://localhost:8080/",
          "height": 300
        },
        "id": "wpXzcAu578ek",
        "outputId": "7309df07-af8c-4cea-ca7c-5596e179e6ba"
      },
      "source": [
        "df.head(8)"
      ],
      "execution_count": 28,
      "outputs": [
        {
          "output_type": "execute_result",
          "data": {
            "text/html": [
              "<div>\n",
              "<style scoped>\n",
              "    .dataframe tbody tr th:only-of-type {\n",
              "        vertical-align: middle;\n",
              "    }\n",
              "\n",
              "    .dataframe tbody tr th {\n",
              "        vertical-align: top;\n",
              "    }\n",
              "\n",
              "    .dataframe thead th {\n",
              "        text-align: right;\n",
              "    }\n",
              "</style>\n",
              "<table border=\"1\" class=\"dataframe\">\n",
              "  <thead>\n",
              "    <tr style=\"text-align: right;\">\n",
              "      <th></th>\n",
              "      <th>longitude</th>\n",
              "      <th>latitude</th>\n",
              "      <th>housing_median_age</th>\n",
              "      <th>total_rooms</th>\n",
              "      <th>total_bedrooms</th>\n",
              "      <th>population</th>\n",
              "      <th>households</th>\n",
              "      <th>median_income</th>\n",
              "      <th>median_house_value</th>\n",
              "    </tr>\n",
              "  </thead>\n",
              "  <tbody>\n",
              "    <tr>\n",
              "      <th>0</th>\n",
              "      <td>-114.31</td>\n",
              "      <td>34.19</td>\n",
              "      <td>15.0</td>\n",
              "      <td>5612.0</td>\n",
              "      <td>1283.0</td>\n",
              "      <td>1015.0</td>\n",
              "      <td>472.0</td>\n",
              "      <td>1.4936</td>\n",
              "      <td>66900.0</td>\n",
              "    </tr>\n",
              "    <tr>\n",
              "      <th>1</th>\n",
              "      <td>-114.47</td>\n",
              "      <td>34.40</td>\n",
              "      <td>19.0</td>\n",
              "      <td>7650.0</td>\n",
              "      <td>1901.0</td>\n",
              "      <td>1129.0</td>\n",
              "      <td>463.0</td>\n",
              "      <td>1.8200</td>\n",
              "      <td>80100.0</td>\n",
              "    </tr>\n",
              "    <tr>\n",
              "      <th>2</th>\n",
              "      <td>-114.56</td>\n",
              "      <td>33.69</td>\n",
              "      <td>17.0</td>\n",
              "      <td>720.0</td>\n",
              "      <td>174.0</td>\n",
              "      <td>333.0</td>\n",
              "      <td>117.0</td>\n",
              "      <td>1.6509</td>\n",
              "      <td>85700.0</td>\n",
              "    </tr>\n",
              "    <tr>\n",
              "      <th>3</th>\n",
              "      <td>-114.57</td>\n",
              "      <td>33.64</td>\n",
              "      <td>14.0</td>\n",
              "      <td>1501.0</td>\n",
              "      <td>337.0</td>\n",
              "      <td>515.0</td>\n",
              "      <td>226.0</td>\n",
              "      <td>3.1917</td>\n",
              "      <td>73400.0</td>\n",
              "    </tr>\n",
              "    <tr>\n",
              "      <th>4</th>\n",
              "      <td>-114.57</td>\n",
              "      <td>33.57</td>\n",
              "      <td>20.0</td>\n",
              "      <td>1454.0</td>\n",
              "      <td>326.0</td>\n",
              "      <td>624.0</td>\n",
              "      <td>262.0</td>\n",
              "      <td>1.9250</td>\n",
              "      <td>65500.0</td>\n",
              "    </tr>\n",
              "    <tr>\n",
              "      <th>5</th>\n",
              "      <td>-114.58</td>\n",
              "      <td>33.63</td>\n",
              "      <td>29.0</td>\n",
              "      <td>1387.0</td>\n",
              "      <td>236.0</td>\n",
              "      <td>671.0</td>\n",
              "      <td>239.0</td>\n",
              "      <td>3.3438</td>\n",
              "      <td>74000.0</td>\n",
              "    </tr>\n",
              "    <tr>\n",
              "      <th>6</th>\n",
              "      <td>-114.58</td>\n",
              "      <td>33.61</td>\n",
              "      <td>25.0</td>\n",
              "      <td>2907.0</td>\n",
              "      <td>680.0</td>\n",
              "      <td>1841.0</td>\n",
              "      <td>633.0</td>\n",
              "      <td>2.6768</td>\n",
              "      <td>82400.0</td>\n",
              "    </tr>\n",
              "    <tr>\n",
              "      <th>7</th>\n",
              "      <td>-114.59</td>\n",
              "      <td>34.83</td>\n",
              "      <td>41.0</td>\n",
              "      <td>812.0</td>\n",
              "      <td>168.0</td>\n",
              "      <td>375.0</td>\n",
              "      <td>158.0</td>\n",
              "      <td>1.7083</td>\n",
              "      <td>48500.0</td>\n",
              "    </tr>\n",
              "  </tbody>\n",
              "</table>\n",
              "</div>"
            ],
            "text/plain": [
              "   longitude  latitude  ...  median_income  median_house_value\n",
              "0    -114.31     34.19  ...         1.4936             66900.0\n",
              "1    -114.47     34.40  ...         1.8200             80100.0\n",
              "2    -114.56     33.69  ...         1.6509             85700.0\n",
              "3    -114.57     33.64  ...         3.1917             73400.0\n",
              "4    -114.57     33.57  ...         1.9250             65500.0\n",
              "5    -114.58     33.63  ...         3.3438             74000.0\n",
              "6    -114.58     33.61  ...         2.6768             82400.0\n",
              "7    -114.59     34.83  ...         1.7083             48500.0\n",
              "\n",
              "[8 rows x 9 columns]"
            ]
          },
          "metadata": {},
          "execution_count": 28
        }
      ]
    },
    {
      "cell_type": "markdown",
      "metadata": {
        "id": "GJEDUNSz8EG4"
      },
      "source": [
        "### rename\n",
        "can be used to rename column labels."
      ]
    },
    {
      "cell_type": "code",
      "metadata": {
        "colab": {
          "base_uri": "https://localhost:8080/",
          "height": 423
        },
        "id": "f5S_0fIPsmIs",
        "outputId": "a086f4b8-c2e7-4074-d804-cc0271f634cb"
      },
      "source": [
        "df.rename(columns={'longitude': 'lon', 'latitude': 'lat'})"
      ],
      "execution_count": 29,
      "outputs": [
        {
          "output_type": "execute_result",
          "data": {
            "text/html": [
              "<div>\n",
              "<style scoped>\n",
              "    .dataframe tbody tr th:only-of-type {\n",
              "        vertical-align: middle;\n",
              "    }\n",
              "\n",
              "    .dataframe tbody tr th {\n",
              "        vertical-align: top;\n",
              "    }\n",
              "\n",
              "    .dataframe thead th {\n",
              "        text-align: right;\n",
              "    }\n",
              "</style>\n",
              "<table border=\"1\" class=\"dataframe\">\n",
              "  <thead>\n",
              "    <tr style=\"text-align: right;\">\n",
              "      <th></th>\n",
              "      <th>lon</th>\n",
              "      <th>lat</th>\n",
              "      <th>housing_median_age</th>\n",
              "      <th>total_rooms</th>\n",
              "      <th>total_bedrooms</th>\n",
              "      <th>population</th>\n",
              "      <th>households</th>\n",
              "      <th>median_income</th>\n",
              "      <th>median_house_value</th>\n",
              "    </tr>\n",
              "  </thead>\n",
              "  <tbody>\n",
              "    <tr>\n",
              "      <th>0</th>\n",
              "      <td>-114.31</td>\n",
              "      <td>34.19</td>\n",
              "      <td>15.0</td>\n",
              "      <td>5612.0</td>\n",
              "      <td>1283.0</td>\n",
              "      <td>1015.0</td>\n",
              "      <td>472.0</td>\n",
              "      <td>1.4936</td>\n",
              "      <td>66900.0</td>\n",
              "    </tr>\n",
              "    <tr>\n",
              "      <th>1</th>\n",
              "      <td>-114.47</td>\n",
              "      <td>34.40</td>\n",
              "      <td>19.0</td>\n",
              "      <td>7650.0</td>\n",
              "      <td>1901.0</td>\n",
              "      <td>1129.0</td>\n",
              "      <td>463.0</td>\n",
              "      <td>1.8200</td>\n",
              "      <td>80100.0</td>\n",
              "    </tr>\n",
              "    <tr>\n",
              "      <th>2</th>\n",
              "      <td>-114.56</td>\n",
              "      <td>33.69</td>\n",
              "      <td>17.0</td>\n",
              "      <td>720.0</td>\n",
              "      <td>174.0</td>\n",
              "      <td>333.0</td>\n",
              "      <td>117.0</td>\n",
              "      <td>1.6509</td>\n",
              "      <td>85700.0</td>\n",
              "    </tr>\n",
              "    <tr>\n",
              "      <th>3</th>\n",
              "      <td>-114.57</td>\n",
              "      <td>33.64</td>\n",
              "      <td>14.0</td>\n",
              "      <td>1501.0</td>\n",
              "      <td>337.0</td>\n",
              "      <td>515.0</td>\n",
              "      <td>226.0</td>\n",
              "      <td>3.1917</td>\n",
              "      <td>73400.0</td>\n",
              "    </tr>\n",
              "    <tr>\n",
              "      <th>4</th>\n",
              "      <td>-114.57</td>\n",
              "      <td>33.57</td>\n",
              "      <td>20.0</td>\n",
              "      <td>1454.0</td>\n",
              "      <td>326.0</td>\n",
              "      <td>624.0</td>\n",
              "      <td>262.0</td>\n",
              "      <td>1.9250</td>\n",
              "      <td>65500.0</td>\n",
              "    </tr>\n",
              "    <tr>\n",
              "      <th>...</th>\n",
              "      <td>...</td>\n",
              "      <td>...</td>\n",
              "      <td>...</td>\n",
              "      <td>...</td>\n",
              "      <td>...</td>\n",
              "      <td>...</td>\n",
              "      <td>...</td>\n",
              "      <td>...</td>\n",
              "      <td>...</td>\n",
              "    </tr>\n",
              "    <tr>\n",
              "      <th>16995</th>\n",
              "      <td>-124.26</td>\n",
              "      <td>40.58</td>\n",
              "      <td>52.0</td>\n",
              "      <td>2217.0</td>\n",
              "      <td>394.0</td>\n",
              "      <td>907.0</td>\n",
              "      <td>369.0</td>\n",
              "      <td>2.3571</td>\n",
              "      <td>111400.0</td>\n",
              "    </tr>\n",
              "    <tr>\n",
              "      <th>16996</th>\n",
              "      <td>-124.27</td>\n",
              "      <td>40.69</td>\n",
              "      <td>36.0</td>\n",
              "      <td>2349.0</td>\n",
              "      <td>528.0</td>\n",
              "      <td>1194.0</td>\n",
              "      <td>465.0</td>\n",
              "      <td>2.5179</td>\n",
              "      <td>79000.0</td>\n",
              "    </tr>\n",
              "    <tr>\n",
              "      <th>16997</th>\n",
              "      <td>-124.30</td>\n",
              "      <td>41.84</td>\n",
              "      <td>17.0</td>\n",
              "      <td>2677.0</td>\n",
              "      <td>531.0</td>\n",
              "      <td>1244.0</td>\n",
              "      <td>456.0</td>\n",
              "      <td>3.0313</td>\n",
              "      <td>103600.0</td>\n",
              "    </tr>\n",
              "    <tr>\n",
              "      <th>16998</th>\n",
              "      <td>-124.30</td>\n",
              "      <td>41.80</td>\n",
              "      <td>19.0</td>\n",
              "      <td>2672.0</td>\n",
              "      <td>552.0</td>\n",
              "      <td>1298.0</td>\n",
              "      <td>478.0</td>\n",
              "      <td>1.9797</td>\n",
              "      <td>85800.0</td>\n",
              "    </tr>\n",
              "    <tr>\n",
              "      <th>16999</th>\n",
              "      <td>-124.35</td>\n",
              "      <td>40.54</td>\n",
              "      <td>52.0</td>\n",
              "      <td>1820.0</td>\n",
              "      <td>300.0</td>\n",
              "      <td>806.0</td>\n",
              "      <td>270.0</td>\n",
              "      <td>3.0147</td>\n",
              "      <td>94600.0</td>\n",
              "    </tr>\n",
              "  </tbody>\n",
              "</table>\n",
              "<p>17000 rows × 9 columns</p>\n",
              "</div>"
            ],
            "text/plain": [
              "          lon    lat  ...  median_income  median_house_value\n",
              "0     -114.31  34.19  ...         1.4936             66900.0\n",
              "1     -114.47  34.40  ...         1.8200             80100.0\n",
              "2     -114.56  33.69  ...         1.6509             85700.0\n",
              "3     -114.57  33.64  ...         3.1917             73400.0\n",
              "4     -114.57  33.57  ...         1.9250             65500.0\n",
              "...       ...    ...  ...            ...                 ...\n",
              "16995 -124.26  40.58  ...         2.3571            111400.0\n",
              "16996 -124.27  40.69  ...         2.5179             79000.0\n",
              "16997 -124.30  41.84  ...         3.0313            103600.0\n",
              "16998 -124.30  41.80  ...         1.9797             85800.0\n",
              "16999 -124.35  40.54  ...         3.0147             94600.0\n",
              "\n",
              "[17000 rows x 9 columns]"
            ]
          },
          "metadata": {},
          "execution_count": 29
        }
      ]
    },
    {
      "cell_type": "markdown",
      "metadata": {
        "id": "O9Pfc03O8N2B"
      },
      "source": [
        "### Accessing a subset of data"
      ]
    },
    {
      "cell_type": "markdown",
      "metadata": {
        "id": "r2Jxjtny8WyB"
      },
      "source": [
        "To select multiple columns specify list of labels within square brackets."
      ]
    },
    {
      "cell_type": "code",
      "metadata": {
        "id": "sXb7ShyGsaVI",
        "colab": {
          "base_uri": "https://localhost:8080/",
          "height": 423
        },
        "outputId": "c0f66ac2-ed10-4f1e-ce92-861c32fe45c4"
      },
      "source": [
        "df[['longitude', 'latitude']]"
      ],
      "execution_count": 30,
      "outputs": [
        {
          "output_type": "execute_result",
          "data": {
            "text/html": [
              "<div>\n",
              "<style scoped>\n",
              "    .dataframe tbody tr th:only-of-type {\n",
              "        vertical-align: middle;\n",
              "    }\n",
              "\n",
              "    .dataframe tbody tr th {\n",
              "        vertical-align: top;\n",
              "    }\n",
              "\n",
              "    .dataframe thead th {\n",
              "        text-align: right;\n",
              "    }\n",
              "</style>\n",
              "<table border=\"1\" class=\"dataframe\">\n",
              "  <thead>\n",
              "    <tr style=\"text-align: right;\">\n",
              "      <th></th>\n",
              "      <th>longitude</th>\n",
              "      <th>latitude</th>\n",
              "    </tr>\n",
              "  </thead>\n",
              "  <tbody>\n",
              "    <tr>\n",
              "      <th>0</th>\n",
              "      <td>-114.31</td>\n",
              "      <td>34.19</td>\n",
              "    </tr>\n",
              "    <tr>\n",
              "      <th>1</th>\n",
              "      <td>-114.47</td>\n",
              "      <td>34.40</td>\n",
              "    </tr>\n",
              "    <tr>\n",
              "      <th>2</th>\n",
              "      <td>-114.56</td>\n",
              "      <td>33.69</td>\n",
              "    </tr>\n",
              "    <tr>\n",
              "      <th>3</th>\n",
              "      <td>-114.57</td>\n",
              "      <td>33.64</td>\n",
              "    </tr>\n",
              "    <tr>\n",
              "      <th>4</th>\n",
              "      <td>-114.57</td>\n",
              "      <td>33.57</td>\n",
              "    </tr>\n",
              "    <tr>\n",
              "      <th>...</th>\n",
              "      <td>...</td>\n",
              "      <td>...</td>\n",
              "    </tr>\n",
              "    <tr>\n",
              "      <th>16995</th>\n",
              "      <td>-124.26</td>\n",
              "      <td>40.58</td>\n",
              "    </tr>\n",
              "    <tr>\n",
              "      <th>16996</th>\n",
              "      <td>-124.27</td>\n",
              "      <td>40.69</td>\n",
              "    </tr>\n",
              "    <tr>\n",
              "      <th>16997</th>\n",
              "      <td>-124.30</td>\n",
              "      <td>41.84</td>\n",
              "    </tr>\n",
              "    <tr>\n",
              "      <th>16998</th>\n",
              "      <td>-124.30</td>\n",
              "      <td>41.80</td>\n",
              "    </tr>\n",
              "    <tr>\n",
              "      <th>16999</th>\n",
              "      <td>-124.35</td>\n",
              "      <td>40.54</td>\n",
              "    </tr>\n",
              "  </tbody>\n",
              "</table>\n",
              "<p>17000 rows × 2 columns</p>\n",
              "</div>"
            ],
            "text/plain": [
              "       longitude  latitude\n",
              "0        -114.31     34.19\n",
              "1        -114.47     34.40\n",
              "2        -114.56     33.69\n",
              "3        -114.57     33.64\n",
              "4        -114.57     33.57\n",
              "...          ...       ...\n",
              "16995    -124.26     40.58\n",
              "16996    -124.27     40.69\n",
              "16997    -124.30     41.84\n",
              "16998    -124.30     41.80\n",
              "16999    -124.35     40.54\n",
              "\n",
              "[17000 rows x 2 columns]"
            ]
          },
          "metadata": {},
          "execution_count": 30
        }
      ]
    },
    {
      "cell_type": "markdown",
      "metadata": {
        "id": "pkX70vjk8pJC"
      },
      "source": [
        "Single column can be retrieved by specifying its name within square brackets. Note that this will yield a `Series` object which behaves a little different than DataFrames, but in general is a representation of single varaible values."
      ]
    },
    {
      "cell_type": "code",
      "metadata": {
        "colab": {
          "base_uri": "https://localhost:8080/"
        },
        "id": "L4TKWFRysdgU",
        "outputId": "ed23e07e-ecea-4202-9808-e91e1688347f"
      },
      "source": [
        "df['longitude']"
      ],
      "execution_count": 31,
      "outputs": [
        {
          "output_type": "execute_result",
          "data": {
            "text/plain": [
              "0       -114.31\n",
              "1       -114.47\n",
              "2       -114.56\n",
              "3       -114.57\n",
              "4       -114.57\n",
              "          ...  \n",
              "16995   -124.26\n",
              "16996   -124.27\n",
              "16997   -124.30\n",
              "16998   -124.30\n",
              "16999   -124.35\n",
              "Name: longitude, Length: 17000, dtype: float64"
            ]
          },
          "metadata": {},
          "execution_count": 31
        }
      ]
    },
    {
      "cell_type": "markdown",
      "metadata": {
        "id": "fmkR75Bo9CCy"
      },
      "source": [
        "If column name does not contain spaces and other special character it can accesed as an attribute."
      ]
    },
    {
      "cell_type": "code",
      "metadata": {
        "colab": {
          "base_uri": "https://localhost:8080/"
        },
        "id": "XY9e9ZGS9LLs",
        "outputId": "b83c0b1e-d7b1-484e-ed2a-b54740291339"
      },
      "source": [
        "df.longitude"
      ],
      "execution_count": 32,
      "outputs": [
        {
          "output_type": "execute_result",
          "data": {
            "text/plain": [
              "0       -114.31\n",
              "1       -114.47\n",
              "2       -114.56\n",
              "3       -114.57\n",
              "4       -114.57\n",
              "          ...  \n",
              "16995   -124.26\n",
              "16996   -124.27\n",
              "16997   -124.30\n",
              "16998   -124.30\n",
              "16999   -124.35\n",
              "Name: longitude, Length: 17000, dtype: float64"
            ]
          },
          "metadata": {},
          "execution_count": 32
        }
      ]
    },
    {
      "cell_type": "markdown",
      "metadata": {
        "id": "m2gC4xbr9P_F"
      },
      "source": [
        "Subset of a DataFrame can be selected using `loc` attribute. You need to specify index and column labels. Note that it supports slicing with respoect to column names."
      ]
    },
    {
      "cell_type": "code",
      "metadata": {
        "colab": {
          "base_uri": "https://localhost:8080/",
          "height": 238
        },
        "id": "vKOv3ZxqwkBO",
        "outputId": "c8e482e6-816a-45b4-81c9-40fc309046c3"
      },
      "source": [
        "df.loc[5:10, 'population': 'median_house_value']"
      ],
      "execution_count": 33,
      "outputs": [
        {
          "output_type": "execute_result",
          "data": {
            "text/html": [
              "<div>\n",
              "<style scoped>\n",
              "    .dataframe tbody tr th:only-of-type {\n",
              "        vertical-align: middle;\n",
              "    }\n",
              "\n",
              "    .dataframe tbody tr th {\n",
              "        vertical-align: top;\n",
              "    }\n",
              "\n",
              "    .dataframe thead th {\n",
              "        text-align: right;\n",
              "    }\n",
              "</style>\n",
              "<table border=\"1\" class=\"dataframe\">\n",
              "  <thead>\n",
              "    <tr style=\"text-align: right;\">\n",
              "      <th></th>\n",
              "      <th>population</th>\n",
              "      <th>households</th>\n",
              "      <th>median_income</th>\n",
              "      <th>median_house_value</th>\n",
              "    </tr>\n",
              "  </thead>\n",
              "  <tbody>\n",
              "    <tr>\n",
              "      <th>5</th>\n",
              "      <td>671.0</td>\n",
              "      <td>239.0</td>\n",
              "      <td>3.3438</td>\n",
              "      <td>74000.0</td>\n",
              "    </tr>\n",
              "    <tr>\n",
              "      <th>6</th>\n",
              "      <td>1841.0</td>\n",
              "      <td>633.0</td>\n",
              "      <td>2.6768</td>\n",
              "      <td>82400.0</td>\n",
              "    </tr>\n",
              "    <tr>\n",
              "      <th>7</th>\n",
              "      <td>375.0</td>\n",
              "      <td>158.0</td>\n",
              "      <td>1.7083</td>\n",
              "      <td>48500.0</td>\n",
              "    </tr>\n",
              "    <tr>\n",
              "      <th>8</th>\n",
              "      <td>3134.0</td>\n",
              "      <td>1056.0</td>\n",
              "      <td>2.1782</td>\n",
              "      <td>58400.0</td>\n",
              "    </tr>\n",
              "    <tr>\n",
              "      <th>9</th>\n",
              "      <td>787.0</td>\n",
              "      <td>271.0</td>\n",
              "      <td>2.1908</td>\n",
              "      <td>48100.0</td>\n",
              "    </tr>\n",
              "    <tr>\n",
              "      <th>10</th>\n",
              "      <td>2434.0</td>\n",
              "      <td>824.0</td>\n",
              "      <td>2.6797</td>\n",
              "      <td>86500.0</td>\n",
              "    </tr>\n",
              "  </tbody>\n",
              "</table>\n",
              "</div>"
            ],
            "text/plain": [
              "    population  households  median_income  median_house_value\n",
              "5        671.0       239.0         3.3438             74000.0\n",
              "6       1841.0       633.0         2.6768             82400.0\n",
              "7        375.0       158.0         1.7083             48500.0\n",
              "8       3134.0      1056.0         2.1782             58400.0\n",
              "9        787.0       271.0         2.1908             48100.0\n",
              "10      2434.0       824.0         2.6797             86500.0"
            ]
          },
          "metadata": {},
          "execution_count": 33
        }
      ]
    },
    {
      "cell_type": "markdown",
      "metadata": {
        "id": "Hm0rnWF_SL3a"
      },
      "source": [
        "It also possible to select data with slices correspong to indices and columns **positions** (as in NumPy)."
      ]
    },
    {
      "cell_type": "code",
      "metadata": {
        "colab": {
          "base_uri": "https://localhost:8080/",
          "height": 206
        },
        "id": "E2i7VKPuw5HR",
        "outputId": "f9081112-481c-44fa-97e6-bd7b0d763af9"
      },
      "source": [
        "df.iloc[5:10, -4:]"
      ],
      "execution_count": 34,
      "outputs": [
        {
          "output_type": "execute_result",
          "data": {
            "text/html": [
              "<div>\n",
              "<style scoped>\n",
              "    .dataframe tbody tr th:only-of-type {\n",
              "        vertical-align: middle;\n",
              "    }\n",
              "\n",
              "    .dataframe tbody tr th {\n",
              "        vertical-align: top;\n",
              "    }\n",
              "\n",
              "    .dataframe thead th {\n",
              "        text-align: right;\n",
              "    }\n",
              "</style>\n",
              "<table border=\"1\" class=\"dataframe\">\n",
              "  <thead>\n",
              "    <tr style=\"text-align: right;\">\n",
              "      <th></th>\n",
              "      <th>population</th>\n",
              "      <th>households</th>\n",
              "      <th>median_income</th>\n",
              "      <th>median_house_value</th>\n",
              "    </tr>\n",
              "  </thead>\n",
              "  <tbody>\n",
              "    <tr>\n",
              "      <th>5</th>\n",
              "      <td>671.0</td>\n",
              "      <td>239.0</td>\n",
              "      <td>3.3438</td>\n",
              "      <td>74000.0</td>\n",
              "    </tr>\n",
              "    <tr>\n",
              "      <th>6</th>\n",
              "      <td>1841.0</td>\n",
              "      <td>633.0</td>\n",
              "      <td>2.6768</td>\n",
              "      <td>82400.0</td>\n",
              "    </tr>\n",
              "    <tr>\n",
              "      <th>7</th>\n",
              "      <td>375.0</td>\n",
              "      <td>158.0</td>\n",
              "      <td>1.7083</td>\n",
              "      <td>48500.0</td>\n",
              "    </tr>\n",
              "    <tr>\n",
              "      <th>8</th>\n",
              "      <td>3134.0</td>\n",
              "      <td>1056.0</td>\n",
              "      <td>2.1782</td>\n",
              "      <td>58400.0</td>\n",
              "    </tr>\n",
              "    <tr>\n",
              "      <th>9</th>\n",
              "      <td>787.0</td>\n",
              "      <td>271.0</td>\n",
              "      <td>2.1908</td>\n",
              "      <td>48100.0</td>\n",
              "    </tr>\n",
              "  </tbody>\n",
              "</table>\n",
              "</div>"
            ],
            "text/plain": [
              "   population  households  median_income  median_house_value\n",
              "5       671.0       239.0         3.3438             74000.0\n",
              "6      1841.0       633.0         2.6768             82400.0\n",
              "7       375.0       158.0         1.7083             48500.0\n",
              "8      3134.0      1056.0         2.1782             58400.0\n",
              "9       787.0       271.0         2.1908             48100.0"
            ]
          },
          "metadata": {},
          "execution_count": 34
        }
      ]
    },
    {
      "cell_type": "markdown",
      "metadata": {
        "id": "KbAv19uE9s9F"
      },
      "source": [
        "Boolean arrays (including boolean `Series` object) can be used as well."
      ]
    },
    {
      "cell_type": "code",
      "metadata": {
        "colab": {
          "base_uri": "https://localhost:8080/"
        },
        "id": "4n57Qr-1xEX-",
        "outputId": "5a3f1709-e0a6-493f-f11b-0e4cba28ce03"
      },
      "source": [
        "index = df.median_house_value < 25000\n",
        "index"
      ],
      "execution_count": 35,
      "outputs": [
        {
          "output_type": "execute_result",
          "data": {
            "text/plain": [
              "0        False\n",
              "1        False\n",
              "2        False\n",
              "3        False\n",
              "4        False\n",
              "         ...  \n",
              "16995    False\n",
              "16996    False\n",
              "16997    False\n",
              "16998    False\n",
              "16999    False\n",
              "Name: median_house_value, Length: 17000, dtype: bool"
            ]
          },
          "metadata": {},
          "execution_count": 35
        }
      ]
    },
    {
      "cell_type": "code",
      "metadata": {
        "colab": {
          "base_uri": "https://localhost:8080/"
        },
        "id": "oXaFM6W2xXPP",
        "outputId": "278bbf2a-8c05-4e6e-89a0-1e859ce16a65"
      },
      "source": [
        "df.loc[index, 'median_house_value']"
      ],
      "execution_count": 36,
      "outputs": [
        {
          "output_type": "execute_result",
          "data": {
            "text/plain": [
              "264      22500.0\n",
              "568      14999.0\n",
              "3226     14999.0\n",
              "7182     17500.0\n",
              "11653    22500.0\n",
              "15499    22500.0\n",
              "16643    14999.0\n",
              "16801    14999.0\n",
              "Name: median_house_value, dtype: float64"
            ]
          },
          "metadata": {},
          "execution_count": 36
        }
      ]
    },
    {
      "cell_type": "markdown",
      "metadata": {
        "id": "m05c1SiSxkCS"
      },
      "source": [
        "It is also possible to do"
      ]
    },
    {
      "cell_type": "code",
      "metadata": {
        "colab": {
          "base_uri": "https://localhost:8080/",
          "height": 300
        },
        "id": "SzFqHh3q-Kc2",
        "outputId": "8790b569-ea68-48ba-ec3c-893c65e2a4ab"
      },
      "source": [
        "df[index]"
      ],
      "execution_count": 38,
      "outputs": [
        {
          "output_type": "execute_result",
          "data": {
            "text/html": [
              "<div>\n",
              "<style scoped>\n",
              "    .dataframe tbody tr th:only-of-type {\n",
              "        vertical-align: middle;\n",
              "    }\n",
              "\n",
              "    .dataframe tbody tr th {\n",
              "        vertical-align: top;\n",
              "    }\n",
              "\n",
              "    .dataframe thead th {\n",
              "        text-align: right;\n",
              "    }\n",
              "</style>\n",
              "<table border=\"1\" class=\"dataframe\">\n",
              "  <thead>\n",
              "    <tr style=\"text-align: right;\">\n",
              "      <th></th>\n",
              "      <th>longitude</th>\n",
              "      <th>latitude</th>\n",
              "      <th>housing_median_age</th>\n",
              "      <th>total_rooms</th>\n",
              "      <th>total_bedrooms</th>\n",
              "      <th>population</th>\n",
              "      <th>households</th>\n",
              "      <th>median_income</th>\n",
              "      <th>median_house_value</th>\n",
              "    </tr>\n",
              "  </thead>\n",
              "  <tbody>\n",
              "    <tr>\n",
              "      <th>264</th>\n",
              "      <td>-116.57</td>\n",
              "      <td>35.43</td>\n",
              "      <td>8.0</td>\n",
              "      <td>9975.0</td>\n",
              "      <td>1743.0</td>\n",
              "      <td>6835.0</td>\n",
              "      <td>1439.0</td>\n",
              "      <td>2.7138</td>\n",
              "      <td>22500.0</td>\n",
              "    </tr>\n",
              "    <tr>\n",
              "      <th>568</th>\n",
              "      <td>-117.02</td>\n",
              "      <td>36.40</td>\n",
              "      <td>19.0</td>\n",
              "      <td>619.0</td>\n",
              "      <td>239.0</td>\n",
              "      <td>490.0</td>\n",
              "      <td>164.0</td>\n",
              "      <td>2.1000</td>\n",
              "      <td>14999.0</td>\n",
              "    </tr>\n",
              "    <tr>\n",
              "      <th>3226</th>\n",
              "      <td>-117.86</td>\n",
              "      <td>34.24</td>\n",
              "      <td>52.0</td>\n",
              "      <td>803.0</td>\n",
              "      <td>267.0</td>\n",
              "      <td>628.0</td>\n",
              "      <td>225.0</td>\n",
              "      <td>4.1932</td>\n",
              "      <td>14999.0</td>\n",
              "    </tr>\n",
              "    <tr>\n",
              "      <th>7182</th>\n",
              "      <td>-118.33</td>\n",
              "      <td>34.15</td>\n",
              "      <td>39.0</td>\n",
              "      <td>493.0</td>\n",
              "      <td>168.0</td>\n",
              "      <td>259.0</td>\n",
              "      <td>138.0</td>\n",
              "      <td>2.3667</td>\n",
              "      <td>17500.0</td>\n",
              "    </tr>\n",
              "    <tr>\n",
              "      <th>11653</th>\n",
              "      <td>-121.29</td>\n",
              "      <td>37.95</td>\n",
              "      <td>52.0</td>\n",
              "      <td>107.0</td>\n",
              "      <td>79.0</td>\n",
              "      <td>167.0</td>\n",
              "      <td>53.0</td>\n",
              "      <td>0.7917</td>\n",
              "      <td>22500.0</td>\n",
              "    </tr>\n",
              "    <tr>\n",
              "      <th>15499</th>\n",
              "      <td>-122.32</td>\n",
              "      <td>37.93</td>\n",
              "      <td>33.0</td>\n",
              "      <td>296.0</td>\n",
              "      <td>73.0</td>\n",
              "      <td>216.0</td>\n",
              "      <td>63.0</td>\n",
              "      <td>2.6750</td>\n",
              "      <td>22500.0</td>\n",
              "    </tr>\n",
              "    <tr>\n",
              "      <th>16643</th>\n",
              "      <td>-122.74</td>\n",
              "      <td>39.71</td>\n",
              "      <td>16.0</td>\n",
              "      <td>255.0</td>\n",
              "      <td>73.0</td>\n",
              "      <td>85.0</td>\n",
              "      <td>38.0</td>\n",
              "      <td>1.6607</td>\n",
              "      <td>14999.0</td>\n",
              "    </tr>\n",
              "    <tr>\n",
              "      <th>16801</th>\n",
              "      <td>-123.17</td>\n",
              "      <td>40.31</td>\n",
              "      <td>36.0</td>\n",
              "      <td>98.0</td>\n",
              "      <td>28.0</td>\n",
              "      <td>18.0</td>\n",
              "      <td>8.0</td>\n",
              "      <td>0.5360</td>\n",
              "      <td>14999.0</td>\n",
              "    </tr>\n",
              "  </tbody>\n",
              "</table>\n",
              "</div>"
            ],
            "text/plain": [
              "       longitude  latitude  ...  median_income  median_house_value\n",
              "264      -116.57     35.43  ...         2.7138             22500.0\n",
              "568      -117.02     36.40  ...         2.1000             14999.0\n",
              "3226     -117.86     34.24  ...         4.1932             14999.0\n",
              "7182     -118.33     34.15  ...         2.3667             17500.0\n",
              "11653    -121.29     37.95  ...         0.7917             22500.0\n",
              "15499    -122.32     37.93  ...         2.6750             22500.0\n",
              "16643    -122.74     39.71  ...         1.6607             14999.0\n",
              "16801    -123.17     40.31  ...         0.5360             14999.0\n",
              "\n",
              "[8 rows x 9 columns]"
            ]
          },
          "metadata": {},
          "execution_count": 38
        }
      ]
    },
    {
      "cell_type": "markdown",
      "metadata": {
        "id": "ab4hdqAs-64J"
      },
      "source": [
        "## Merging dataframes\n",
        "can be used to merge multiple arrays into one.\n"
      ]
    },
    {
      "cell_type": "code",
      "metadata": {
        "id": "Ehwv1RhsJNTG"
      },
      "source": [
        "df_1 = pd.DataFrame(np.arange(9).reshape(3, 3), columns=['a', 'b', 'c'], index=[0, 1, 2])\n",
        "df_2 = pd.DataFrame(np.arange(9).reshape(3, 3), columns=['b', 'c', 'd'], index=[1, 2, 3])"
      ],
      "execution_count": 39,
      "outputs": []
    },
    {
      "cell_type": "code",
      "metadata": {
        "colab": {
          "base_uri": "https://localhost:8080/",
          "height": 143
        },
        "id": "4FWYHpzJJjbR",
        "outputId": "5fe47d39-122f-4516-9f20-15e9a2f96cff"
      },
      "source": [
        "df_1"
      ],
      "execution_count": 40,
      "outputs": [
        {
          "output_type": "execute_result",
          "data": {
            "text/html": [
              "<div>\n",
              "<style scoped>\n",
              "    .dataframe tbody tr th:only-of-type {\n",
              "        vertical-align: middle;\n",
              "    }\n",
              "\n",
              "    .dataframe tbody tr th {\n",
              "        vertical-align: top;\n",
              "    }\n",
              "\n",
              "    .dataframe thead th {\n",
              "        text-align: right;\n",
              "    }\n",
              "</style>\n",
              "<table border=\"1\" class=\"dataframe\">\n",
              "  <thead>\n",
              "    <tr style=\"text-align: right;\">\n",
              "      <th></th>\n",
              "      <th>a</th>\n",
              "      <th>b</th>\n",
              "      <th>c</th>\n",
              "    </tr>\n",
              "  </thead>\n",
              "  <tbody>\n",
              "    <tr>\n",
              "      <th>0</th>\n",
              "      <td>0</td>\n",
              "      <td>1</td>\n",
              "      <td>2</td>\n",
              "    </tr>\n",
              "    <tr>\n",
              "      <th>1</th>\n",
              "      <td>3</td>\n",
              "      <td>4</td>\n",
              "      <td>5</td>\n",
              "    </tr>\n",
              "    <tr>\n",
              "      <th>2</th>\n",
              "      <td>6</td>\n",
              "      <td>7</td>\n",
              "      <td>8</td>\n",
              "    </tr>\n",
              "  </tbody>\n",
              "</table>\n",
              "</div>"
            ],
            "text/plain": [
              "   a  b  c\n",
              "0  0  1  2\n",
              "1  3  4  5\n",
              "2  6  7  8"
            ]
          },
          "metadata": {},
          "execution_count": 40
        }
      ]
    },
    {
      "cell_type": "code",
      "metadata": {
        "colab": {
          "base_uri": "https://localhost:8080/",
          "height": 143
        },
        "id": "mR2ylFkxJkYZ",
        "outputId": "1168bdb8-b5de-4ded-f8a3-dc8df28dae6c"
      },
      "source": [
        "df_2"
      ],
      "execution_count": 41,
      "outputs": [
        {
          "output_type": "execute_result",
          "data": {
            "text/html": [
              "<div>\n",
              "<style scoped>\n",
              "    .dataframe tbody tr th:only-of-type {\n",
              "        vertical-align: middle;\n",
              "    }\n",
              "\n",
              "    .dataframe tbody tr th {\n",
              "        vertical-align: top;\n",
              "    }\n",
              "\n",
              "    .dataframe thead th {\n",
              "        text-align: right;\n",
              "    }\n",
              "</style>\n",
              "<table border=\"1\" class=\"dataframe\">\n",
              "  <thead>\n",
              "    <tr style=\"text-align: right;\">\n",
              "      <th></th>\n",
              "      <th>b</th>\n",
              "      <th>c</th>\n",
              "      <th>d</th>\n",
              "    </tr>\n",
              "  </thead>\n",
              "  <tbody>\n",
              "    <tr>\n",
              "      <th>1</th>\n",
              "      <td>0</td>\n",
              "      <td>1</td>\n",
              "      <td>2</td>\n",
              "    </tr>\n",
              "    <tr>\n",
              "      <th>2</th>\n",
              "      <td>3</td>\n",
              "      <td>4</td>\n",
              "      <td>5</td>\n",
              "    </tr>\n",
              "    <tr>\n",
              "      <th>3</th>\n",
              "      <td>6</td>\n",
              "      <td>7</td>\n",
              "      <td>8</td>\n",
              "    </tr>\n",
              "  </tbody>\n",
              "</table>\n",
              "</div>"
            ],
            "text/plain": [
              "   b  c  d\n",
              "1  0  1  2\n",
              "2  3  4  5\n",
              "3  6  7  8"
            ]
          },
          "metadata": {},
          "execution_count": 41
        }
      ]
    },
    {
      "cell_type": "markdown",
      "metadata": {
        "id": "fNnkUNbsMBBR"
      },
      "source": [
        "There are to basic methods for merging dataframes. The first one is `append` that concatenates dataframes along the index."
      ]
    },
    {
      "cell_type": "code",
      "metadata": {
        "colab": {
          "base_uri": "https://localhost:8080/",
          "height": 238
        },
        "id": "CbrEz7PsKCh6",
        "outputId": "570b81ee-2494-4d71-fcfd-19391fdbe54d"
      },
      "source": [
        "df_1.append(df_2)"
      ],
      "execution_count": 42,
      "outputs": [
        {
          "output_type": "execute_result",
          "data": {
            "text/html": [
              "<div>\n",
              "<style scoped>\n",
              "    .dataframe tbody tr th:only-of-type {\n",
              "        vertical-align: middle;\n",
              "    }\n",
              "\n",
              "    .dataframe tbody tr th {\n",
              "        vertical-align: top;\n",
              "    }\n",
              "\n",
              "    .dataframe thead th {\n",
              "        text-align: right;\n",
              "    }\n",
              "</style>\n",
              "<table border=\"1\" class=\"dataframe\">\n",
              "  <thead>\n",
              "    <tr style=\"text-align: right;\">\n",
              "      <th></th>\n",
              "      <th>a</th>\n",
              "      <th>b</th>\n",
              "      <th>c</th>\n",
              "      <th>d</th>\n",
              "    </tr>\n",
              "  </thead>\n",
              "  <tbody>\n",
              "    <tr>\n",
              "      <th>0</th>\n",
              "      <td>0.0</td>\n",
              "      <td>1</td>\n",
              "      <td>2</td>\n",
              "      <td>NaN</td>\n",
              "    </tr>\n",
              "    <tr>\n",
              "      <th>1</th>\n",
              "      <td>3.0</td>\n",
              "      <td>4</td>\n",
              "      <td>5</td>\n",
              "      <td>NaN</td>\n",
              "    </tr>\n",
              "    <tr>\n",
              "      <th>2</th>\n",
              "      <td>6.0</td>\n",
              "      <td>7</td>\n",
              "      <td>8</td>\n",
              "      <td>NaN</td>\n",
              "    </tr>\n",
              "    <tr>\n",
              "      <th>1</th>\n",
              "      <td>NaN</td>\n",
              "      <td>0</td>\n",
              "      <td>1</td>\n",
              "      <td>2.0</td>\n",
              "    </tr>\n",
              "    <tr>\n",
              "      <th>2</th>\n",
              "      <td>NaN</td>\n",
              "      <td>3</td>\n",
              "      <td>4</td>\n",
              "      <td>5.0</td>\n",
              "    </tr>\n",
              "    <tr>\n",
              "      <th>3</th>\n",
              "      <td>NaN</td>\n",
              "      <td>6</td>\n",
              "      <td>7</td>\n",
              "      <td>8.0</td>\n",
              "    </tr>\n",
              "  </tbody>\n",
              "</table>\n",
              "</div>"
            ],
            "text/plain": [
              "     a  b  c    d\n",
              "0  0.0  1  2  NaN\n",
              "1  3.0  4  5  NaN\n",
              "2  6.0  7  8  NaN\n",
              "1  NaN  0  1  2.0\n",
              "2  NaN  3  4  5.0\n",
              "3  NaN  6  7  8.0"
            ]
          },
          "metadata": {},
          "execution_count": 42
        }
      ]
    },
    {
      "cell_type": "markdown",
      "metadata": {
        "id": "6D3UJTGjMcDK"
      },
      "source": [
        "The second one is join that concatenates dataframes along the columns."
      ]
    },
    {
      "cell_type": "code",
      "metadata": {
        "colab": {
          "base_uri": "https://localhost:8080/",
          "height": 174
        },
        "id": "3myHk6j0LRWw",
        "outputId": "f92f2798-d225-4daf-b55b-fc8a6e0692f9"
      },
      "source": [
        "df_1.join(df_2, how='outer', lsuffix='_left', rsuffix='_right')"
      ],
      "execution_count": 43,
      "outputs": [
        {
          "output_type": "execute_result",
          "data": {
            "text/html": [
              "<div>\n",
              "<style scoped>\n",
              "    .dataframe tbody tr th:only-of-type {\n",
              "        vertical-align: middle;\n",
              "    }\n",
              "\n",
              "    .dataframe tbody tr th {\n",
              "        vertical-align: top;\n",
              "    }\n",
              "\n",
              "    .dataframe thead th {\n",
              "        text-align: right;\n",
              "    }\n",
              "</style>\n",
              "<table border=\"1\" class=\"dataframe\">\n",
              "  <thead>\n",
              "    <tr style=\"text-align: right;\">\n",
              "      <th></th>\n",
              "      <th>a</th>\n",
              "      <th>b_left</th>\n",
              "      <th>c_left</th>\n",
              "      <th>b_right</th>\n",
              "      <th>c_right</th>\n",
              "      <th>d</th>\n",
              "    </tr>\n",
              "  </thead>\n",
              "  <tbody>\n",
              "    <tr>\n",
              "      <th>0</th>\n",
              "      <td>0.0</td>\n",
              "      <td>1.0</td>\n",
              "      <td>2.0</td>\n",
              "      <td>NaN</td>\n",
              "      <td>NaN</td>\n",
              "      <td>NaN</td>\n",
              "    </tr>\n",
              "    <tr>\n",
              "      <th>1</th>\n",
              "      <td>3.0</td>\n",
              "      <td>4.0</td>\n",
              "      <td>5.0</td>\n",
              "      <td>0.0</td>\n",
              "      <td>1.0</td>\n",
              "      <td>2.0</td>\n",
              "    </tr>\n",
              "    <tr>\n",
              "      <th>2</th>\n",
              "      <td>6.0</td>\n",
              "      <td>7.0</td>\n",
              "      <td>8.0</td>\n",
              "      <td>3.0</td>\n",
              "      <td>4.0</td>\n",
              "      <td>5.0</td>\n",
              "    </tr>\n",
              "    <tr>\n",
              "      <th>3</th>\n",
              "      <td>NaN</td>\n",
              "      <td>NaN</td>\n",
              "      <td>NaN</td>\n",
              "      <td>6.0</td>\n",
              "      <td>7.0</td>\n",
              "      <td>8.0</td>\n",
              "    </tr>\n",
              "  </tbody>\n",
              "</table>\n",
              "</div>"
            ],
            "text/plain": [
              "     a  b_left  c_left  b_right  c_right    d\n",
              "0  0.0     1.0     2.0      NaN      NaN  NaN\n",
              "1  3.0     4.0     5.0      0.0      1.0  2.0\n",
              "2  6.0     7.0     8.0      3.0      4.0  5.0\n",
              "3  NaN     NaN     NaN      6.0      7.0  8.0"
            ]
          },
          "metadata": {},
          "execution_count": 43
        }
      ]
    },
    {
      "cell_type": "markdown",
      "metadata": {
        "id": "x9T6GnbdLGdm"
      },
      "source": [
        "These two methods are special cases of more general function `concat` that allows more advanced oprations. There is also `merge` method which makes use of database-like joins.\n",
        "\n",
        "All of these methods are described and explained here: https://pandas.pydata.org/pandas-docs/stable/user_guide/merging.html"
      ]
    },
    {
      "cell_type": "markdown",
      "metadata": {
        "id": "uDCPw8QxBW_-"
      },
      "source": [
        "## Operations on dataframes\n",
        "Pandas can be used to perfrom mathematical and other operations on the underlying data."
      ]
    },
    {
      "cell_type": "markdown",
      "metadata": {
        "id": "CGsOofdMBok3"
      },
      "source": [
        "### Elementwise operations\n",
        "The most common use case is to create a new column being a result of some operation on existing columns."
      ]
    },
    {
      "cell_type": "code",
      "metadata": {
        "colab": {
          "base_uri": "https://localhost:8080/"
        },
        "id": "EFcS4WvcD6J6",
        "outputId": "6e566f07-d342-4f87-ad2b-e14858425c5f"
      },
      "source": [
        "people_per_household = df.population / df.households\n",
        "people_per_household"
      ],
      "execution_count": 44,
      "outputs": [
        {
          "output_type": "execute_result",
          "data": {
            "text/plain": [
              "0        2.150424\n",
              "1        2.438445\n",
              "2        2.846154\n",
              "3        2.278761\n",
              "4        2.381679\n",
              "           ...   \n",
              "16995    2.457995\n",
              "16996    2.567742\n",
              "16997    2.728070\n",
              "16998    2.715481\n",
              "16999    2.985185\n",
              "Length: 17000, dtype: float64"
            ]
          },
          "metadata": {},
          "execution_count": 44
        }
      ]
    },
    {
      "cell_type": "code",
      "metadata": {
        "colab": {
          "base_uri": "https://localhost:8080/",
          "height": 443
        },
        "id": "t6IYIl8iFHOS",
        "outputId": "017a404e-6024-4a4c-975c-cd7cdf190d45"
      },
      "source": [
        "df['people_per_household'] = people_per_household\n",
        "df"
      ],
      "execution_count": 45,
      "outputs": [
        {
          "output_type": "execute_result",
          "data": {
            "text/html": [
              "<div>\n",
              "<style scoped>\n",
              "    .dataframe tbody tr th:only-of-type {\n",
              "        vertical-align: middle;\n",
              "    }\n",
              "\n",
              "    .dataframe tbody tr th {\n",
              "        vertical-align: top;\n",
              "    }\n",
              "\n",
              "    .dataframe thead th {\n",
              "        text-align: right;\n",
              "    }\n",
              "</style>\n",
              "<table border=\"1\" class=\"dataframe\">\n",
              "  <thead>\n",
              "    <tr style=\"text-align: right;\">\n",
              "      <th></th>\n",
              "      <th>longitude</th>\n",
              "      <th>latitude</th>\n",
              "      <th>housing_median_age</th>\n",
              "      <th>total_rooms</th>\n",
              "      <th>total_bedrooms</th>\n",
              "      <th>population</th>\n",
              "      <th>households</th>\n",
              "      <th>median_income</th>\n",
              "      <th>median_house_value</th>\n",
              "      <th>people_per_household</th>\n",
              "    </tr>\n",
              "  </thead>\n",
              "  <tbody>\n",
              "    <tr>\n",
              "      <th>0</th>\n",
              "      <td>-114.31</td>\n",
              "      <td>34.19</td>\n",
              "      <td>15.0</td>\n",
              "      <td>5612.0</td>\n",
              "      <td>1283.0</td>\n",
              "      <td>1015.0</td>\n",
              "      <td>472.0</td>\n",
              "      <td>1.4936</td>\n",
              "      <td>66900.0</td>\n",
              "      <td>2.150424</td>\n",
              "    </tr>\n",
              "    <tr>\n",
              "      <th>1</th>\n",
              "      <td>-114.47</td>\n",
              "      <td>34.40</td>\n",
              "      <td>19.0</td>\n",
              "      <td>7650.0</td>\n",
              "      <td>1901.0</td>\n",
              "      <td>1129.0</td>\n",
              "      <td>463.0</td>\n",
              "      <td>1.8200</td>\n",
              "      <td>80100.0</td>\n",
              "      <td>2.438445</td>\n",
              "    </tr>\n",
              "    <tr>\n",
              "      <th>2</th>\n",
              "      <td>-114.56</td>\n",
              "      <td>33.69</td>\n",
              "      <td>17.0</td>\n",
              "      <td>720.0</td>\n",
              "      <td>174.0</td>\n",
              "      <td>333.0</td>\n",
              "      <td>117.0</td>\n",
              "      <td>1.6509</td>\n",
              "      <td>85700.0</td>\n",
              "      <td>2.846154</td>\n",
              "    </tr>\n",
              "    <tr>\n",
              "      <th>3</th>\n",
              "      <td>-114.57</td>\n",
              "      <td>33.64</td>\n",
              "      <td>14.0</td>\n",
              "      <td>1501.0</td>\n",
              "      <td>337.0</td>\n",
              "      <td>515.0</td>\n",
              "      <td>226.0</td>\n",
              "      <td>3.1917</td>\n",
              "      <td>73400.0</td>\n",
              "      <td>2.278761</td>\n",
              "    </tr>\n",
              "    <tr>\n",
              "      <th>4</th>\n",
              "      <td>-114.57</td>\n",
              "      <td>33.57</td>\n",
              "      <td>20.0</td>\n",
              "      <td>1454.0</td>\n",
              "      <td>326.0</td>\n",
              "      <td>624.0</td>\n",
              "      <td>262.0</td>\n",
              "      <td>1.9250</td>\n",
              "      <td>65500.0</td>\n",
              "      <td>2.381679</td>\n",
              "    </tr>\n",
              "    <tr>\n",
              "      <th>...</th>\n",
              "      <td>...</td>\n",
              "      <td>...</td>\n",
              "      <td>...</td>\n",
              "      <td>...</td>\n",
              "      <td>...</td>\n",
              "      <td>...</td>\n",
              "      <td>...</td>\n",
              "      <td>...</td>\n",
              "      <td>...</td>\n",
              "      <td>...</td>\n",
              "    </tr>\n",
              "    <tr>\n",
              "      <th>16995</th>\n",
              "      <td>-124.26</td>\n",
              "      <td>40.58</td>\n",
              "      <td>52.0</td>\n",
              "      <td>2217.0</td>\n",
              "      <td>394.0</td>\n",
              "      <td>907.0</td>\n",
              "      <td>369.0</td>\n",
              "      <td>2.3571</td>\n",
              "      <td>111400.0</td>\n",
              "      <td>2.457995</td>\n",
              "    </tr>\n",
              "    <tr>\n",
              "      <th>16996</th>\n",
              "      <td>-124.27</td>\n",
              "      <td>40.69</td>\n",
              "      <td>36.0</td>\n",
              "      <td>2349.0</td>\n",
              "      <td>528.0</td>\n",
              "      <td>1194.0</td>\n",
              "      <td>465.0</td>\n",
              "      <td>2.5179</td>\n",
              "      <td>79000.0</td>\n",
              "      <td>2.567742</td>\n",
              "    </tr>\n",
              "    <tr>\n",
              "      <th>16997</th>\n",
              "      <td>-124.30</td>\n",
              "      <td>41.84</td>\n",
              "      <td>17.0</td>\n",
              "      <td>2677.0</td>\n",
              "      <td>531.0</td>\n",
              "      <td>1244.0</td>\n",
              "      <td>456.0</td>\n",
              "      <td>3.0313</td>\n",
              "      <td>103600.0</td>\n",
              "      <td>2.728070</td>\n",
              "    </tr>\n",
              "    <tr>\n",
              "      <th>16998</th>\n",
              "      <td>-124.30</td>\n",
              "      <td>41.80</td>\n",
              "      <td>19.0</td>\n",
              "      <td>2672.0</td>\n",
              "      <td>552.0</td>\n",
              "      <td>1298.0</td>\n",
              "      <td>478.0</td>\n",
              "      <td>1.9797</td>\n",
              "      <td>85800.0</td>\n",
              "      <td>2.715481</td>\n",
              "    </tr>\n",
              "    <tr>\n",
              "      <th>16999</th>\n",
              "      <td>-124.35</td>\n",
              "      <td>40.54</td>\n",
              "      <td>52.0</td>\n",
              "      <td>1820.0</td>\n",
              "      <td>300.0</td>\n",
              "      <td>806.0</td>\n",
              "      <td>270.0</td>\n",
              "      <td>3.0147</td>\n",
              "      <td>94600.0</td>\n",
              "      <td>2.985185</td>\n",
              "    </tr>\n",
              "  </tbody>\n",
              "</table>\n",
              "<p>17000 rows × 10 columns</p>\n",
              "</div>"
            ],
            "text/plain": [
              "       longitude  latitude  ...  median_house_value  people_per_household\n",
              "0        -114.31     34.19  ...             66900.0              2.150424\n",
              "1        -114.47     34.40  ...             80100.0              2.438445\n",
              "2        -114.56     33.69  ...             85700.0              2.846154\n",
              "3        -114.57     33.64  ...             73400.0              2.278761\n",
              "4        -114.57     33.57  ...             65500.0              2.381679\n",
              "...          ...       ...  ...                 ...                   ...\n",
              "16995    -124.26     40.58  ...            111400.0              2.457995\n",
              "16996    -124.27     40.69  ...             79000.0              2.567742\n",
              "16997    -124.30     41.84  ...            103600.0              2.728070\n",
              "16998    -124.30     41.80  ...             85800.0              2.715481\n",
              "16999    -124.35     40.54  ...             94600.0              2.985185\n",
              "\n",
              "[17000 rows x 10 columns]"
            ]
          },
          "metadata": {},
          "execution_count": 45
        }
      ]
    },
    {
      "cell_type": "markdown",
      "metadata": {
        "id": "OIMlorKU_qWL"
      },
      "source": [
        "More general function can be applied with use of `apply` method"
      ]
    },
    {
      "cell_type": "code",
      "metadata": {
        "colab": {
          "base_uri": "https://localhost:8080/"
        },
        "id": "_a6iv70F_vGH",
        "outputId": "3818d329-4841-4a61-a9a2-76a49ff7e4af"
      },
      "source": [
        "def func(row):\n",
        "  if row.latitude > 0:\n",
        "    ns_hemisphere = 'N'\n",
        "  else:\n",
        "    ns_hemisphere = 'S'\n",
        "  \n",
        "  if row.longitude > 0:\n",
        "    ew_hemisphere = 'E'\n",
        "  else:\n",
        "    ew_hemisphere = 'W'\n",
        "\n",
        "  gps_label = f\"{abs(row.latitude)} {ns_hemisphere}, {abs(row.longitude)} {ew_hemisphere}\"\n",
        "\n",
        "  return gps_label\n",
        "  \n",
        "df.apply(func, axis=1).head()"
      ],
      "execution_count": 46,
      "outputs": [
        {
          "output_type": "execute_result",
          "data": {
            "text/plain": [
              "0    34.19 N, 114.31 W\n",
              "1     34.4 N, 114.47 W\n",
              "2    33.69 N, 114.56 W\n",
              "3    33.64 N, 114.57 W\n",
              "4    33.57 N, 114.57 W\n",
              "dtype: object"
            ]
          },
          "metadata": {},
          "execution_count": 46
        }
      ]
    },
    {
      "cell_type": "markdown",
      "metadata": {
        "id": "nM5MtJy2x4GS"
      },
      "source": [
        "### GroupBy\n",
        "can be used to split a dataframe into multiple based on some condition/values"
      ]
    },
    {
      "cell_type": "code",
      "metadata": {
        "colab": {
          "base_uri": "https://localhost:8080/"
        },
        "id": "dzecEgp-yPLS",
        "outputId": "09fb80c8-02db-494c-ab13-fb24d778495d"
      },
      "source": [
        "values = df.median_house_value.round(-4)\n",
        "values"
      ],
      "execution_count": 47,
      "outputs": [
        {
          "output_type": "execute_result",
          "data": {
            "text/plain": [
              "0         70000.0\n",
              "1         80000.0\n",
              "2         90000.0\n",
              "3         70000.0\n",
              "4         70000.0\n",
              "           ...   \n",
              "16995    110000.0\n",
              "16996     80000.0\n",
              "16997    100000.0\n",
              "16998     90000.0\n",
              "16999     90000.0\n",
              "Name: median_house_value, Length: 17000, dtype: float64"
            ]
          },
          "metadata": {},
          "execution_count": 47
        }
      ]
    },
    {
      "cell_type": "code",
      "metadata": {
        "colab": {
          "base_uri": "https://localhost:8080/"
        },
        "id": "wQjdhDwY0qhC",
        "outputId": "e4109a72-56ca-47d3-967a-c4dcd47757f1"
      },
      "source": [
        "gb = df.groupby(values)\n",
        "gb"
      ],
      "execution_count": 48,
      "outputs": [
        {
          "output_type": "execute_result",
          "data": {
            "text/plain": [
              "<pandas.core.groupby.generic.DataFrameGroupBy object at 0x7ff125b48e90>"
            ]
          },
          "metadata": {},
          "execution_count": 48
        }
      ]
    },
    {
      "cell_type": "markdown",
      "metadata": {
        "id": "R1OLOz_PEAJJ"
      },
      "source": [
        "Groups labels and indices can be accessed under `groups` attribute and themselves with the use of `get_group` method."
      ]
    },
    {
      "cell_type": "code",
      "metadata": {
        "colab": {
          "base_uri": "https://localhost:8080/"
        },
        "id": "IDpJ8A-Ryi6p",
        "outputId": "522a5703-82df-4811-f6e9-46b362a88a8b"
      },
      "source": [
        "gb.groups"
      ],
      "execution_count": 49,
      "outputs": [
        {
          "output_type": "execute_result",
          "data": {
            "text/plain": [
              "{10000.0: [568, 3226, 16643, 16801], 20000.0: [17, 264, 7182, 11653, 15499], 30000.0: [19, 110, 116, 157, 9636, 9637, 9641, 10026, 10692, 10935, 11902, 12341, 12671], 40000.0: [14, 18, 20, 36, 46, 50, 59, 115, 126, 158, 288, 427, 497, 1902, 2151, 2591, 3513, 6592, 9043, 9065, 9071, 9086, 9094, 9095, 9122, 9255, 9289, 9390, 9392, 9468, 9486, 9494, 9624, 9647, 9685, 9689, 9743, 9948, 9975, 10050, 10053, 10055, 10125, 10186, 10359, 10470, 10648, 10791, 11306, 11652, 11752, 11796, 12364, 12382, 12478, 13341, 15653, 16823, 16887], 50000.0: [7, 9, 12, 22, 24, 47, 51, 74, 109, 113, 121, 122, 123, 124, 125, 138, 144, 170, 182, 242, 266, 317, 1104, 1863, 2674, 2709, 3054, 4765, 4766, 4767, 8009, 8892, 8897, 8912, 8955, 8966, 9010, 9027, 9028, 9029, 9036, 9040, 9042, 9045, 9046, 9051, 9055, 9056, 9057, 9058, 9059, 9060, 9061, 9062, 9064, 9075, 9077, 9080, 9081, 9082, 9083, 9084, 9090, 9096, 9097, 9099, 9100, 9104, 9105, 9106, 9110, 9114, 9117, 9121, 9130, 9137, 9138, 9157, 9159, 9161, 9162, 9181, 9183, 9191, 9210, 9211, 9250, 9254, 9260, 9262, 9264, 9266, 9280, 9293, 9353, 9374, 9388, 9391, 9403, 9413, ...], 60000.0: [8, 11, 21, 40, 48, 52, 53, 57, 60, 62, 63, 66, 68, 72, 73, 77, 78, 80, 81, 86, 87, 88, 97, 104, 105, 107, 117, 120, 128, 142, 145, 149, 151, 161, 178, 185, 189, 195, 241, 243, 245, 292, 305, 309, 326, 340, 535, 569, 681, 740, 984, 1162, 1281, 1785, 1829, 1864, 1938, 1951, 1982, 1983, 2025, 2032, 2060, 2218, 2240, 2640, 2675, 2834, 3867, 4846, 4847, 5320, 5343, 6083, 7817, 8893, 8965, 8974, 8983, 8996, 8997, 8998, 9008, 9009, 9039, 9041, 9044, 9063, 9070, 9076, 9078, 9079, 9085, 9087, 9093, 9098, 9103, 9109, 9113, 9115, ...], 70000.0: [0, 3, 4, 5, 13, 15, 23, 26, 28, 29, 30, 31, 42, 49, 54, 55, 58, 61, 64, 67, 71, 79, 82, 89, 91, 94, 102, 114, 118, 119, 127, 130, 132, 133, 135, 141, 143, 147, 148, 152, 153, 159, 160, 163, 169, 174, 200, 201, 217, 226, 234, 237, 244, 251, 261, 273, 279, 316, 331, 344, 404, 447, 448, 469, 470, 488, 489, 494, 518, 536, 537, 570, 637, 680, 856, 986, 1054, 1068, 1069, 1072, 1107, 1152, 1223, 1271, 1280, 1315, 1391, 1393, 1423, 1436, 1437, 1598, 1600, 1650, 1651, 1713, 1714, 1715, 1784, 1828, ...], 80000.0: [1, 6, 27, 41, 45, 56, 70, 75, 84, 103, 131, 134, 136, 139, 154, 164, 173, 183, 191, 204, 213, 225, 231, 265, 280, 299, 332, 334, 341, 388, 428, 429, 430, 450, 495, 549, 602, 861, 959, 1031, 1094, 1095, 1096, 1103, 1150, 1153, 1154, 1172, 1215, 1217, 1218, 1219, 1220, 1221, 1222, 1272, 1278, 1279, 1396, 1398, 1435, 1445, 1487, 1552, 1553, 1554, 1599, 1601, 1602, 1609, 1610, 1711, 1717, 1824, 1827, 1831, 1874, 1875, 1910, 1912, 1913, 1918, 1965, 1966, 1988, 2026, 2027, 2028, 2029, 2031, 2056, 2077, 2106, 2108, 2140, 2141, 2142, 2166, 2226, 2227, ...], 90000.0: [2, 10, 16, 37, 38, 44, 83, 90, 93, 96, 99, 101, 108, 111, 112, 129, 165, 167, 171, 179, 180, 218, 227, 229, 238, 239, 246, 294, 300, 310, 346, 407, 408, 409, 410, 426, 431, 432, 446, 449, 468, 473, 519, 520, 639, 666, 679, 708, 741, 744, 785, 836, 859, 905, 929, 930, 932, 963, 969, 1006, 1014, 1015, 1018, 1019, 1020, 1021, 1024, 1025, 1026, 1028, 1032, 1033, 1035, 1038, 1041, 1082, 1088, 1092, 1093, 1097, 1098, 1099, 1100, 1101, 1105, 1106, 1128, 1155, 1156, 1157, 1216, 1269, 1274, 1275, 1276, 1277, 1301, 1311, 1313, 1318, ...], 100000.0: [25, 34, 39, 65, 92, 95, 137, 150, 155, 156, 166, 168, 181, 184, 194, 205, 212, 216, 219, 221, 224, 297, 343, 376, 403, 405, 419, 496, 601, 603, 626, 627, 638, 640, 641, 683, 691, 734, 791, 844, 857, 899, 906, 907, 913, 931, 960, 961, 962, 965, 967, 973, 974, 998, 1016, 1017, 1022, 1027, 1029, 1030, 1034, 1053, 1070, 1083, 1084, 1085, 1086, 1089, 1090, 1145, 1163, 1227, 1268, 1392, 1397, 1433, 1438, 1473, 1486, 1518, 1550, 1607, 1616, 1648, 1658, 1709, 1779, 1821, 1822, 1823, 1865, 1871, 1887, 1906, 1907, 1908, 1909, 1941, 1943, 1957, ...], 110000.0: [33, 35, 76, 98, 140, 190, 230, 247, 253, 270, 287, 378, 399, 406, 417, 445, 452, 453, 454, 455, 472, 493, 515, 572, 573, 575, 605, 628, 664, 682, 684, 738, 774, 784, 786, 788, 796, 798, 837, 845, 870, 872, 904, 908, 910, 966, 968, 970, 971, 976, 990, 996, 997, 1036, 1037, 1039, 1049, 1078, 1081, 1113, 1127, 1142, 1144, 1151, 1188, 1199, 1244, 1270, 1288, 1343, 1355, 1380, 1395, 1481, 1485, 1549, 1551, 1560, 1562, 1604, 1647, 1656, 1669, 1685, 1710, 1719, 1819, 1885, 1904, 1922, 1927, 1942, 1944, 2017, 2018, 2044, 2049, 2051, 2064, 2110, ...], 120000.0: [106, 162, 192, 196, 214, 233, 256, 269, 281, 303, 355, 377, 382, 391, 392, 402, 412, 420, 439, 440, 442, 466, 487, 529, 531, 539, 544, 560, 564, 574, 592, 595, 617, 621, 625, 667, 685, 717, 720, 743, 752, 768, 776, 777, 790, 794, 797, 829, 831, 833, 838, 840, 863, 864, 873, 874, 896, 897, 901, 902, 903, 909, 911, 912, 914, 925, 935, 957, 958, 964, 972, 975, 989, 1044, 1079, 1087, 1102, 1112, 1114, 1132, 1138, 1139, 1141, 1143, 1212, 1213, 1260, 1357, 1369, 1381, 1401, 1406, 1439, 1441, 1471, 1517, 1548, 1556, 1558, 1563, ...], 130000.0: [198, 202, 222, 223, 248, 252, 318, 319, 325, 345, 358, 385, 414, 438, 441, 444, 465, 477, 499, 532, 561, 562, 563, 576, 594, 596, 619, 620, 624, 642, 661, 677, 713, 718, 719, 724, 732, 733, 735, 739, 742, 765, 766, 767, 769, 775, 783, 806, 849, 855, 858, 875, 898, 900, 927, 928, 934, 947, 978, 987, 988, 1040, 1043, 1045, 1047, 1060, 1071, 1073, 1080, 1091, 1108, 1136, 1159, 1194, 1197, 1214, 1245, 1258, 1261, 1283, 1284, 1370, 1434, 1440, 1480, 1526, 1555, 1557, 1561, 1597, 1611, 1646, 1655, 1725, 1732, 1735, 1780, 1817, 1835, 1866, ...], 140000.0: [43, 69, 85, 177, 211, 228, 284, 327, 335, 359, 367, 368, 386, 387, 390, 398, 416, 421, 443, 456, 457, 471, 512, 523, 530, 538, 543, 559, 591, 593, 622, 656, 657, 658, 660, 662, 663, 668, 675, 689, 714, 715, 716, 722, 723, 727, 730, 731, 736, 737, 748, 789, 792, 795, 802, 803, 807, 808, 828, 832, 835, 839, 842, 843, 854, 860, 879, 881, 895, 917, 918, 933, 977, 982, 991, 992, 993, 995, 1013, 1023, 1042, 1046, 1051, 1110, 1111, 1129, 1135, 1158, 1164, 1191, 1193, 1200, 1208, 1209, 1211, 1257, 1264, 1266, 1273, 1309, ...], 150000.0: [32, 232, 235, 236, 249, 263, 308, 333, 350, 351, 357, 381, 389, 396, 418, 437, 464, 474, 475, 476, 492, 500, 510, 513, 516, 522, 524, 542, 553, 557, 579, 585, 589, 623, 643, 654, 659, 674, 676, 678, 711, 725, 728, 745, 747, 763, 770, 773, 787, 804, 813, 830, 834, 841, 847, 850, 851, 865, 868, 871, 915, 916, 920, 921, 923, 924, 926, 979, 980, 981, 983, 985, 1012, 1048, 1050, 1109, 1115, 1137, 1140, 1165, 1171, 1181, 1198, 1255, 1299, 1319, 1322, 1332, 1348, 1356, 1371, 1402, 1442, 1483, 1504, 1516, 1519, 1535, 1617, 1664, ...], 160000.0: [100, 146, 186, 254, 277, 278, 283, 306, 312, 337, 360, 371, 373, 374, 383, 397, 425, 434, 435, 478, 484, 490, 548, 550, 551, 554, 578, 580, 586, 587, 616, 631, 665, 673, 709, 710, 712, 729, 761, 762, 764, 771, 772, 780, 793, 799, 801, 852, 853, 867, 869, 882, 894, 919, 922, 956, 994, 1002, 1003, 1052, 1064, 1119, 1122, 1146, 1147, 1149, 1166, 1177, 1192, 1201, 1225, 1228, 1247, 1250, 1254, 1256, 1259, 1267, 1285, 1291, 1292, 1314, 1328, 1329, 1346, 1353, 1368, 1372, 1373, 1405, 1411, 1413, 1422, 1466, 1479, 1484, 1497, 1515, 1522, 1524, ...], 170000.0: [176, 207, 271, 274, 289, 301, 311, 313, 328, 329, 348, 361, 362, 370, 384, 395, 411, 415, 436, 482, 483, 504, 505, 511, 514, 526, 534, 547, 583, 613, 615, 636, 690, 692, 700, 701, 721, 726, 746, 781, 815, 819, 825, 848, 936, 946, 948, 949, 950, 951, 1000, 1007, 1066, 1076, 1120, 1130, 1131, 1148, 1160, 1169, 1170, 1178, 1184, 1186, 1189, 1190, 1195, 1196, 1204, 1236, 1237, 1241, 1242, 1243, 1251, 1262, 1265, 1282, 1289, 1294, 1295, 1296, 1298, 1307, 1351, 1352, 1374, 1403, 1410, 1454, 1456, 1461, 1477, 1482, 1498, 1505, 1525, 1538, 1575, 1594, ...], 180000.0: [188, 208, 258, 322, 369, 372, 375, 394, 462, 485, 498, 558, 581, 582, 584, 610, 629, 630, 649, 651, 672, 702, 707, 755, 800, 820, 824, 827, 876, 890, 893, 937, 1001, 1008, 1009, 1067, 1118, 1133, 1175, 1183, 1185, 1187, 1246, 1248, 1249, 1253, 1263, 1297, 1303, 1304, 1327, 1331, 1333, 1360, 1366, 1367, 1409, 1412, 1415, 1496, 1537, 1541, 1571, 1574, 1578, 1582, 1586, 1612, 1628, 1661, 1841, 1888, 1891, 1929, 1958, 1959, 2087, 2100, 2149, 2201, 2219, 2371, 2386, 2403, 2404, 2409, 2489, 2507, 2508, 2538, 2543, 2556, 2660, 2663, 2664, 2666, 2768, 2810, 2819, 2876, ...], 190000.0: [197, 250, 276, 290, 315, 338, 342, 349, 354, 356, 400, 433, 461, 479, 509, 517, 528, 545, 546, 556, 571, 588, 606, 618, 648, 699, 756, 779, 782, 805, 826, 1057, 1058, 1077, 1121, 1134, 1168, 1179, 1180, 1202, 1252, 1321, 1325, 1326, 1330, 1359, 1361, 1365, 1385, 1390, 1447, 1457, 1500, 1566, 1579, 1621, 1626, 1634, 1644, 1689, 1897, 2004, 2041, 2066, 2099, 2122, 2129, 2143, 2148, 2175, 2178, 2273, 2355, 2365, 2374, 2407, 2430, 2476, 2483, 2492, 2617, 2634, 2642, 2650, 2687, 2688, 2755, 2765, 2799, 2821, 2852, 2903, 2951, 2994, 3055, 3079, 3156, 3161, 3195, 3206, ...], 200000.0: [175, 257, 272, 302, 304, 307, 330, 491, 501, 503, 703, 821, 846, 939, 954, 1059, 1176, 1182, 1203, 1210, 1226, 1229, 1234, 1235, 1239, 1306, 1335, 1337, 1344, 1364, 1384, 1414, 1416, 1420, 1455, 1458, 1492, 1499, 1503, 1514, 1523, 1540, 1568, 1580, 1665, 1730, 1838, 1839, 1919, 2118, 2127, 2128, 2203, 2319, 2382, 2396, 2400, 2428, 2440, 2490, 2511, 2520, 2539, 2618, 2620, 2654, 2762, 2911, 2981, 3037, 3068, 3083, 3127, 3142, 3146, 3160, 3172, 3188, 3215, 3232, 3243, 3304, 3370, 3381, 3422, 3436, 3439, 3441, 3442, 3456, 3459, 3482, 3483, 3497, 3562, 3567, 3572, 3628, 3632, 3634, ...], 210000.0: [282, 291, 296, 336, 364, 380, 481, 608, 611, 634, 697, 754, 810, 1116, 1205, 1232, 1300, 1305, 1324, 1362, 1363, 1419, 1450, 1459, 1460, 1569, 1573, 1619, 1622, 1627, 1654, 1684, 1686, 1736, 1741, 1757, 1767, 1768, 1849, 2089, 2090, 2130, 2176, 2390, 2413, 2619, 2633, 2677, 2680, 2705, 2780, 2820, 2850, 2858, 2950, 2964, 3019, 3026, 3069, 3093, 3100, 3129, 3147, 3176, 3214, 3217, 3229, 3257, 3284, 3293, 3371, 3396, 3419, 3424, 3494, 3507, 3510, 3564, 3569, 3603, 3629, 3661, 3664, 3682, 3706, 3707, 3711, 3768, 3808, 3814, 3823, 3829, 3874, 3878, 3879, 3882, 4043, 4045, 4047, 4101, ...], 220000.0: [255, 285, 293, 324, 413, 486, 506, 508, 555, 567, 590, 604, 612, 614, 693, 758, 823, 891, 892, 938, 952, 955, 1056, 1124, 1126, 1206, 1231, 1287, 1320, 1338, 1345, 1382, 1417, 1513, 1570, 1590, 1653, 1662, 1694, 1766, 1845, 1850, 1851, 2001, 2003, 2095, 2096, 2168, 2171, 2181, 2238, 2372, 2375, 2388, 2429, 2451, 2455, 2473, 2474, 2623, 2661, 2725, 2764, 2788, 2992, 2993, 3043, 3047, 3074, 3114, 3115, 3143, 3144, 3164, 3168, 3178, 3179, 3187, 3194, 3213, 3219, 3234, 3244, 3254, 3290, 3353, 3362, 3367, 3368, 3372, 3373, 3376, 3404, 3418, 3420, 3443, 3481, 3501, 3503, 3560, ...], 230000.0: [267, 295, 323, 347, 363, 393, 401, 458, 459, 463, 527, 635, 671, 704, 757, 778, 880, 1062, 1117, 1358, 1475, 1635, 1659, 1683, 1692, 1695, 1791, 1793, 1801, 1812, 1836, 1856, 2392, 2420, 2457, 2496, 2501, 2557, 2575, 2655, 2707, 2723, 2729, 2761, 2789, 2797, 2801, 2836, 2874, 2877, 2947, 2983, 3009, 3023, 3027, 3029, 3063, 3067, 3072, 3075, 3128, 3135, 3137, 3140, 3141, 3162, 3167, 3173, 3177, 3185, 3186, 3192, 3199, 3209, 3210, 3218, 3248, 3313, 3375, 3394, 3397, 3426, 3433, 3458, 3490, 3498, 3500, 3539, 3571, 3598, 3649, 3676, 3747, 3772, 3810, 3811, 3890, 3892, 3898, 3899, ...], 240000.0: [203, 259, 275, 379, 525, 552, 607, 653, 816, 883, 1065, 1123, 1167, 1174, 1207, 1240, 1286, 1342, 1377, 1462, 1463, 1502, 1581, 1614, 1632, 1633, 1641, 1642, 1690, 1796, 2088, 2098, 2117, 2144, 2439, 2458, 2497, 2510, 2540, 2554, 2555, 2588, 2621, 2653, 2656, 2722, 2728, 2742, 2759, 2779, 2793, 2794, 2818, 2829, 2875, 2880, 2955, 2984, 2987, 2988, 3007, 3012, 3031, 3044, 3064, 3084, 3095, 3099, 3103, 3112, 3136, 3170, 3171, 3201, 3203, 3216, 3227, 3256, 3315, 3377, 3380, 3392, 3393, 3434, 3650, 3679, 3689, 3719, 3724, 3725, 3793, 3801, 3812, 3813, 3881, 3901, 3972, 3976, 4075, 4127, ...], 250000.0: [240, 320, 502, 598, 609, 652, 670, 705, 877, 884, 887, 1173, 1310, 1336, 1376, 1521, 1532, 1687, 1693, 1728, 1771, 1820, 1893, 1900, 2239, 2423, 2424, 2447, 2448, 2462, 2495, 2544, 2577, 2585, 2589, 2599, 2622, 2667, 2693, 2756, 2773, 2830, 2870, 2969, 2996, 3008, 3022, 3036, 3040, 3073, 3076, 3134, 3157, 3169, 3174, 3175, 3207, 3211, 3230, 3245, 3314, 3316, 3465, 3495, 3529, 3534, 3542, 3599, 3680, 3903, 4060, 4137, 4183, 4199, 4272, 4342, 4389, 4446, 4469, 4515, 4531, 4578, 4579, 4585, 4636, 4802, 4839, 4841, 4842, 4929, 4931, 4934, 4936, 5055, 5057, 5064, 5065, 5066, 5078, 5112, ...], 260000.0: [199, 206, 321, 533, 688, 696, 749, 753, 878, 888, 941, 943, 944, 1005, 1061, 1125, 1161, 1238, 1308, 1341, 1383, 1408, 1432, 1469, 1527, 1533, 1545, 1565, 1640, 1663, 1737, 1756, 1769, 1931, 2045, 2159, 2405, 2443, 2513, 2553, 2624, 2625, 2679, 2692, 2726, 2770, 2835, 2904, 2923, 2963, 3166, 3196, 3202, 3204, 3236, 3237, 3294, 3332, 3430, 3463, 3528, 3541, 3760, 3761, 3858, 3902, 4025, 4056, 4063, 4094, 4097, 4130, 4140, 4148, 4179, 4200, 4212, 4220, 4322, 4330, 4454, 4508, 4514, 4543, 4580, 4582, 4583, 4586, 4587, 4619, 4635, 4641, 4697, 4699, 4777, 4872, 4943, 4967, 4976, 4977, ...], 270000.0: [298, 424, 460, 565, 597, 599, 632, 687, 751, 812, 822, 866, 889, 940, 1011, 1230, 1427, 1451, 1452, 1495, 1576, 1636, 1798, 1892, 1899, 2092, 2097, 2179, 2199, 2456, 2548, 2626, 2657, 2694, 2702, 2736, 2899, 2942, 2971, 2975, 3013, 3042, 3049, 3086, 3106, 3110, 3130, 3133, 3138, 3155, 3208, 3239, 3242, 3283, 3292, 3299, 3333, 3359, 3364, 3374, 3460, 3464, 3486, 3487, 3496, 3535, 3573, 3607, 3642, 3677, 3685, 3831, 3834, 3853, 3857, 3893, 3910, 3971, 4066, 4211, 4216, 4218, 4242, 4276, 4295, 4344, 4392, 4395, 4451, 4455, 4457, 4467, 4511, 4529, 4530, 4554, 4564, 4584, 4637, 4640, ...], 280000.0: [209, 600, 694, 750, 817, 942, 1004, 1010, 1233, 1407, 1426, 1536, 1542, 1623, 1682, 1688, 1696, 1760, 1797, 1961, 2073, 2101, 2442, 2460, 2469, 2472, 2478, 2549, 2550, 2579, 2580, 2627, 2628, 2659, 2669, 2678, 2727, 2730, 2737, 2739, 2771, 2907, 2945, 2998, 3006, 3024, 3059, 3071, 3082, 3096, 3098, 3117, 3121, 3153, 3191, 3228, 3298, 3301, 3317, 3334, 3361, 3489, 3536, 3540, 3741, 3767, 3792, 3824, 3865, 3891, 3900, 4068, 4132, 4138, 4269, 4281, 4438, 4462, 4482, 4504, 4507, 4561, 4581, 4638, 4671, 4691, 4859, 4868, 4885, 4921, 4983, 4995, 5051, 5085, 5247, 5276, 5280, 5580, 6089, 6170, ...], 290000.0: [314, 339, 352, 451, 566, 633, 814, 945, 953, 1290, 1375, 1379, 1489, 1491, 1544, 1587, 1593, 1678, 1762, 1770, 1811, 1853, 1935, 2494, 2509, 2541, 2546, 2576, 2629, 2632, 2637, 2676, 2704, 2708, 2760, 2809, 2897, 2920, 2924, 3004, 3030, 3034, 3035, 3111, 3145, 3205, 3241, 3379, 3431, 3485, 3568, 3574, 3726, 3740, 3895, 3897, 3984, 3991, 4021, 4061, 4062, 4141, 4238, 4270, 4294, 4439, 4505, 4516, 4557, 4572, 4612, 4700, 4750, 4752, 4834, 4935, 4953, 5040, 5083, 5277, 5377, 5512, 5790, 5812, 6160, 6272, 6433, 6657, 6692, 6893, 6914, 6932, 7043, 7084, 7142, 7151, 7152, 7166, 7169, 7234, ...], 300000.0: [366, 422, 423, 507, 645, 669, 1055, 1074, 1302, 1448, 1501, 1543, 1546, 1583, 1697, 1699, 1740, 1758, 1794, 1934, 1962, 2290, 2641, 2670, 2695, 2741, 2769, 2854, 2927, 2973, 2985, 3045, 3060, 3081, 3148, 3154, 3165, 3190, 3240, 3297, 3308, 3398, 3644, 3758, 3794, 3937, 3957, 3983, 3996, 4020, 4059, 4125, 4297, 4331, 4332, 4333, 4503, 4673, 4851, 4857, 4860, 4981, 5081, 5128, 5131, 5278, 5279, 5502, 6165, 6243, 6685, 6691, 6775, 6811, 6891, 7163, 7242, 7300, 7331, 7500, 7553, 7560, 7563, 7608, 7618, 7630, 7669, 7736, 7739, 7896, 7978, 8066, 8137, 8166, 8167, 8216, 8228, 8248, 8298, 8372, ...], 310000.0: [286, 353, 647, 655, 885, 999, 1063, 1449, 1490, 1754, 1755, 2074, 2205, 2461, 2481, 2498, 2514, 2597, 2600, 2636, 2652, 2658, 2697, 2743, 2775, 2792, 2872, 2922, 3005, 3011, 3015, 3092, 3132, 3238, 3322, 3360, 3530, 3543, 3606, 3609, 3695, 3797, 3896, 3936, 4219, 4341, 4361, 4553, 4556, 5052, 5068, 5134, 5195, 5198, 5312, 5345, 5364, 5503, 6094, 6456, 6763, 6937, 7026, 7146, 7233, 7237, 7241, 7298, 7299, 7301, 7337, 7484, 7486, 7518, 7564, 7617, 7704, 7720, 7795, 7811, 7818, 7825, 7866, 7972, 7973, 8162, 8164, 8283, 8424, 8502, 8579, 8615, 8668, 8788, 8877, 8946, 8961, 9194, 9402, 9490, ...], 320000.0: [193, 262, 365, 467, 1347, 1431, 1629, 1698, 1742, 1761, 1795, 2581, 2598, 2631, 2699, 2701, 2734, 2738, 2777, 2803, 2831, 2986, 2995, 3107, 3108, 3311, 3321, 3533, 3651, 3688, 3759, 3852, 3981, 3985, 4032, 4092, 4267, 4275, 4506, 4510, 4676, 4681, 4696, 4776, 4784, 4863, 4917, 4946, 5042, 5084, 5126, 5351, 5446, 5672, 5675, 5694, 6093, 6349, 6365, 6446, 6479, 6550, 6562, 6663, 6684, 6816, 6919, 6941, 7020, 7036, 7145, 7154, 7263, 7264, 7280, 7341, 7371, 7413, 7475, 7499, 7592, 7664, 7672, 7705, 7706, 7748, 7751, 7819, 7893, 7974, 7976, 8163, 8165, 8168, 8230, 8245, 8246, 8284, 8299, 8312, ...], 330000.0: [706, 760, 811, 886, 1075, 1389, 1520, 1534, 1547, 1677, 1681, 1810, 1963, 2303, 2583, 2731, 2733, 2982, 3014, 3038, 3039, 3041, 3046, 3070, 3097, 3119, 3488, 3605, 3608, 3851, 3854, 3906, 3946, 3990, 4067, 4093, 4360, 4393, 4630, 4631, 4633, 4945, 5171, 6008, 6343, 6347, 6554, 6760, 6773, 6781, 6940, 7015, 7042, 7073, 7082, 7181, 7186, 7277, 7338, 7340, 7346, 7403, 7459, 7548, 7561, 7562, 7565, 7636, 7645, 7665, 7724, 7753, 7901, 7902, 7903, 7911, 7969, 7977, 7981, 8071, 8132, 8215, 8234, 8287, 8306, 8308, 8345, 8359, 8366, 8369, 8371, 8385, 8416, 8468, 8520, 8613, 8729, 8765, 8769, 8770, ...], 340000.0: [210, 577, 644, 646, 1673, 1676, 1691, 1739, 1759, 1846, 1933, 1960, 2410, 2582, 2700, 2774, 2804, 2934, 2976, 3010, 3085, 3296, 3544, 3611, 3645, 3762, 3907, 3947, 3982, 3993, 4070, 4071, 4268, 4391, 4442, 4517, 4611, 4616, 4669, 4761, 4768, 4782, 4844, 5262, 5302, 5304, 5413, 6007, 6239, 6341, 6344, 6780, 6797, 7023, 7044, 7081, 7376, 7458, 7497, 7551, 7566, 7570, 7571, 7572, 7614, 7666, 7667, 7670, 7673, 7676, 7713, 7727, 7747, 7749, 7810, 7822, 7824, 7829, 7840, 7899, 7900, 7992, 7996, 8037, 8044, 8061, 8065, 8067, 8070, 8081, 8127, 8128, 8131, 8155, 8236, 8300, 8309, 8311, 8351, 8356, ...], 350000.0: [187, 268, 686, 1591, 1592, 1763, 1775, 1932, 2046, 2475, 2477, 2512, 2545, 2552, 2578, 2712, 2724, 2732, 2776, 2778, 2807, 2941, 3025, 3032, 3058, 3120, 3126, 3312, 3323, 3401, 3469, 3511, 3575, 3806, 3864, 3945, 3980, 3992, 4049, 4136, 4167, 4214, 4215, 4400, 4458, 4555, 4562, 4867, 4952, 5024, 5039, 5143, 5350, 5354, 5516, 5565, 6120, 6157, 6161, 6190, 6274, 6350, 6364, 6443, 6654, 6694, 6892, 6912, 6918, 6923, 6931, 6947, 7033, 7034, 7035, 7047, 7149, 7271, 7339, 7343, 7350, 7381, 7404, 7455, 7456, 7457, 7515, 7568, 7569, 7631, 7678, 7680, 7725, 7746, 7752, 7827, 7845, 7897, 7914, 8064, ...], 360000.0: [540, 1378, 1577, 1584, 1585, 1729, 1765, 1894, 1901, 2102, 2433, 2446, 2516, 2547, 2595, 2630, 2758, 2900, 2909, 2933, 3109, 3118, 3123, 3346, 3640, 3994, 4147, 4158, 4573, 4622, 4760, 4843, 4949, 5050, 5218, 5220, 5353, 5415, 5604, 6088, 6551, 6557, 6901, 6913, 6943, 7022, 7024, 7031, 7074, 7150, 7365, 7483, 7495, 7496, 7567, 7573, 7663, 7668, 7721, 7745, 7798, 7821, 7826, 7828, 7870, 7872, 7877, 7898, 7910, 7913, 7959, 7985, 7988, 7991, 7993, 7994, 8040, 8046, 8080, 8084, 8136, 8181, 8218, 8235, 8243, 8244, 8310, 8354, 8373, 8484, 8735, 8756, 8866, 8888, 8905, 8909, 9457, 9472, 9479, 9781, ...], 370000.0: [1675, 1748, 1772, 1799, 1847, 2006, 2590, 2808, 2871, 2929, 2931, 2957, 2997, 3033, 3061, 3131, 3200, 3776, 3800, 3825, 3826, 3904, 4139, 4232, 4279, 4345, 4759, 4780, 5022, 5674, 6086, 6098, 6168, 6244, 6442, 6552, 7037, 7054, 7369, 7476, 7493, 7604, 7681, 7707, 7791, 7842, 7844, 7873, 7875, 7954, 7970, 7986, 8042, 8045, 8047, 8062, 8078, 8079, 8154, 8156, 8365, 8476, 8519, 8582, 8746, 8779, 8809, 8813, 8920, 10332, 11662, 12333, 12813, 12983, 13087, 13335, 13344, 13394, 13518, 13526, 13580, 13583, 13732, 13745, 13777, 13778, 13857, 13928, 13998, 14015, 14237, 14239, 14248, 14296, 14316, 14357, 14413, 14416, 14444, 14566, ...], 380000.0: [172, 480, 541, 1443, 1773, 1855, 1895, 2379, 2445, 2735, 2905, 2938, 2946, 2948, 2959, 2978, 3016, 3087, 3235, 3502, 3856, 3909, 3944, 3989, 4145, 4157, 4459, 4525, 4542, 4848, 4942, 5219, 5313, 5501, 5519, 5705, 6158, 6167, 6659, 6946, 7029, 7072, 7144, 7147, 7148, 7388, 7462, 7489, 7574, 7609, 7677, 7682, 7717, 7754, 7755, 7756, 7759, 7801, 7871, 7874, 7906, 7912, 7930, 8036, 8041, 8082, 8133, 8217, 8425, 8466, 8469, 8471, 8474, 8545, 8585, 8632, 8633, 8758, 8768, 8868, 8941, 8950, 9295, 9427, 9492, 9859, 9937, 10108, 10325, 10764, 11845, 12446, 12636, 12737, 12878, 13366, 13854, 14105, 14112, 14117, ...], 390000.0: [759, 1680, 1700, 1764, 1800, 1854, 2047, 2515, 2519, 2601, 2932, 2937, 3122, 3197, 3400, 4065, 4135, 4524, 4559, 4563, 4576, 5023, 6791, 7058, 7364, 7615, 7679, 7708, 7793, 7839, 7841, 7987, 8043, 8069, 8238, 8297, 8352, 8398, 8479, 8796, 8799, 8817, 8895, 9222, 9474, 9824, 9919, 10327, 10357, 11313, 11338, 12408, 12473, 12591, 12595, 12608, 12627, 12922, 13054, 13089, 13130, 13197, 13382, 13533, 13534, 13779, 13819, 13904, 14006, 14063, 14141, 14478, 14480, 14649, 14657, 14699, 14711, 14859, 14969, 15083, 15119, 15380, 15381, 15433, 15473, 15514, 15577, 15709, 15860, 15935, 15942, 16016, 16023, 16114, 16116, 16126, 16214, 16257, 16370, 16372, ...], 400000.0: [220, 695, 1323, 1701, 1743, 1774, 2479, 2587, 2596, 2806, 3647, 4233, 4335, 4346, 4419, 4456, 4522, 4632, 4679, 4682, 4693, 4758, 4937, 4979, 5217, 5315, 5318, 6010, 6085, 6556, 6579, 7032, 7039, 7077, 7167, 7276, 7378, 7387, 7492, 7603, 7613, 7643, 7675, 7740, 7843, 7876, 8240, 8473, 8880, 8881, 8884, 8908, 9421, 9444, 9510, 9955, 10228, 10380, 12980, 13086, 13270, 13283, 13318, 13374, 13475, 13496, 13497, 13531, 13607, 13636, 13750, 13934, 14002, 14048, 14264, 14415, 14464, 14555, 14565, 14600, 14612, 14664, 14947, 14973, 15085, 15095, 15155, 15319, 15321, 15344, 15474, 15512, 15768, 15867, 15869, 15932, 15941, 16112, 16113, 16183, ...], 410000.0: [1386, 1424, 1468, 1494, 1631, 1746, 1859, 1861, 2459, 2551, 2926, 2977, 3090, 3610, 3646, 3763, 4348, 4394, 4571, 4783, 5316, 5789, 6009, 6166, 6457, 6942, 6944, 7030, 7038, 7238, 7480, 7494, 7622, 7674, 7766, 7788, 7909, 8059, 8161, 8305, 8350, 8422, 8426, 8427, 8661, 8748, 8790, 8804, 8932, 8948, 9393, 9920, 12314, 12565, 12585, 13083, 13472, 13473, 13476, 13734, 13927, 13935, 14008, 14061, 14062, 14092, 14263, 14412, 14596, 14597, 14601, 14882, 14917, 15154, 15513, 15552, 15586, 15608, 15725, 15930, 15999, 16011, 16021, 16127, 16147, 16157, 16165, 16373, 16377, 16390, 16393], 420000.0: [521, 1339, 1387, 1453, 1630, 2536, 2853, 2943, 2972, 4402, 4849, 5314, 5355, 5600, 5671, 5919, 6095, 6896, 7198, 7235, 7474, 7616, 7709, 7723, 7760, 7792, 7797, 7833, 7957, 8068, 8171, 8176, 8241, 8242, 8302, 8313, 8357, 8420, 8576, 8589, 8650, 8700, 8814, 8921, 8930, 9480, 9838, 12703, 12811, 12876, 13150, 13151, 13221, 13357, 13478, 13698, 13743, 14064, 14065, 14066, 14184, 14374, 14396, 14595, 14598, 14611, 15078, 15121, 15158, 15189, 15247, 15431, 15509, 15750, 15843, 15927, 16015, 16053, 16056, 16120, 16158, 16160, 16255, 16360, 16392, 16439], 430000.0: [698, 1429, 1747, 1837, 2772, 2898, 2935, 3051, 3066, 3295, 3681, 4337, 4460, 4950, 5215, 5317, 5676, 6087, 6097, 6922, 7059, 7279, 7757, 7758, 7800, 7904, 7907, 7931, 7958, 8060, 8153, 8485, 8658, 8759, 8899, 9102, 9356, 9455, 12494, 12721, 13293, 13314, 13345, 13498, 13528, 13553, 13996, 13997, 13999, 14005, 14376, 14393, 14414, 14435, 14466, 14564, 15002, 15077, 15192, 15322, 15382, 15581, 15640, 15758, 15934, 16058, 16122, 16123, 16289, 16335, 16560], 440000.0: [650, 809, 1745, 2542, 3000, 3089, 3832, 4022, 4271, 4403, 4574, 4613, 4685, 5037, 5221, 5439, 5788, 5808, 6670, 7060, 7080, 7184, 7192, 7386, 7628, 7644, 7743, 7789, 7832, 8088, 8304, 8414, 8516, 8517, 8649, 8709, 8757, 9822, 9860, 10301, 10347, 11123, 13202, 13399, 13688, 13839, 13840, 13944, 14067, 14298, 14375, 14468, 14613, 14792, 15087, 15088, 15246, 15318, 15320, 15754, 15919, 16006, 16108, 16159, 16259, 16287, 16306, 16383, 16388, 16389], 450000.0: [1293, 1430, 1813, 2402, 2802, 2879, 2960, 2999, 3018, 3048, 3078, 3101, 3125, 3275, 3545, 4336, 4464, 4858, 4899, 4978, 5811, 5915, 6096, 6553, 6911, 7066, 7161, 7162, 7236, 7258, 7273, 7342, 7624, 7625, 7712, 7744, 8063, 8077, 8138, 8159, 8478, 8518, 8522, 8583, 8660, 8672, 8730, 8797, 9411, 10032, 11968, 11996, 12505, 12626, 13299, 13338, 13441, 13582, 13931, 14000, 14058, 14114, 14373, 14394, 14465, 14907, 15040, 15167, 15613, 15675, 15714, 15771, 15837, 15857, 15918, 16068, 16161, 16256, 16344, 16409], 460000.0: [1425, 3062, 3104, 3548, 3691, 3799, 4031, 4567, 4940, 5118, 6439, 6774, 7683, 7742, 7809, 7813, 7834, 7905, 7908, 7971, 8072, 8361, 8399, 8419, 8421, 8691, 9777, 9861, 12810, 13183, 13346, 14177, 14242, 14372, 14469, 14698, 14747, 14971, 15038, 15323, 15585, 15682, 15685, 15838, 15917, 16014, 16210, 16340, 16408, 16422], 470000.0: [1340, 1530, 1702, 3432, 3690, 3995, 4690, 5352, 5918, 7621, 7806, 7835, 7836, 7837, 7920, 7928, 7955, 7997, 8135, 8237, 8360, 8375, 8417, 8523, 8584, 8590, 12662, 12964, 13339, 13340, 13477, 14004, 14106, 14176, 14750, 14914, 14948, 14970, 15827, 15906, 15985, 15994, 16307, 16354, 16368], 480000.0: [818, 1224, 1470, 2383, 2493, 2703, 2979, 3341, 3399, 3774, 4528, 4568, 4684, 4941, 5212, 5248, 5405, 5522, 5606, 5703, 6817, 7377, 7685, 7714, 7765, 7915, 7917, 7926, 8150, 8286, 8418, 8521, 8560, 8561, 8747, 13084, 13098, 13529, 14553, 14556, 14666, 15245, 15515, 15910, 15995, 16008, 16156, 16180], 490000.0: [1564, 1744, 1857, 2007, 2805, 3001, 3050, 3356, 3687, 4399, 5045, 5893, 7406, 7619, 7620, 7762, 7823, 7847, 7916, 8152, 8288, 8301, 12849, 13905, 14249, 15041, 15477, 15861, 16009, 16057, 16064, 16336, 16391, 16482], 500000.0: [215, 260, 862, 1388, 1404, 1428, 1465, 1467, 1528, 1529, 1559, 1624, 1625, 1643, 1679, 1703, 1749, 1750, 1751, 1752, 1753, 1776, 1792, 1802, 1803, 1804, 1805, 1806, 1807, 1808, 1809, 1858, 1860, 1862, 1896, 1898, 1936, 1937, 1964, 2005, 2008, 2009, 2039, 2150, 2204, 2401, 2431, 2432, 2471, 2499, 2517, 2584, 2586, 2635, 2668, 2671, 2696, 2698, 2757, 2832, 2833, 2855, 2856, 2878, 2925, 2928, 2936, 2944, 2956, 2958, 2961, 2970, 2980, 2989, 3002, 3003, 3017, 3028, 3052, 3053, 3065, 3080, 3088, 3091, 3102, 3124, 3189, 3198, 3224, 3225, 3276, 3277, 3278, 3279, 3280, 3281, 3335, 3336, 3337, 3338, ...]}"
            ]
          },
          "metadata": {},
          "execution_count": 49
        }
      ]
    },
    {
      "cell_type": "code",
      "metadata": {
        "colab": {
          "base_uri": "https://localhost:8080/",
          "height": 194
        },
        "id": "-80ppr-Ey2P9",
        "outputId": "8de88f45-c074-479d-cf7c-4d3a659a95e5"
      },
      "source": [
        "gb.get_group(10000)"
      ],
      "execution_count": 50,
      "outputs": [
        {
          "output_type": "execute_result",
          "data": {
            "text/html": [
              "<div>\n",
              "<style scoped>\n",
              "    .dataframe tbody tr th:only-of-type {\n",
              "        vertical-align: middle;\n",
              "    }\n",
              "\n",
              "    .dataframe tbody tr th {\n",
              "        vertical-align: top;\n",
              "    }\n",
              "\n",
              "    .dataframe thead th {\n",
              "        text-align: right;\n",
              "    }\n",
              "</style>\n",
              "<table border=\"1\" class=\"dataframe\">\n",
              "  <thead>\n",
              "    <tr style=\"text-align: right;\">\n",
              "      <th></th>\n",
              "      <th>longitude</th>\n",
              "      <th>latitude</th>\n",
              "      <th>housing_median_age</th>\n",
              "      <th>total_rooms</th>\n",
              "      <th>total_bedrooms</th>\n",
              "      <th>population</th>\n",
              "      <th>households</th>\n",
              "      <th>median_income</th>\n",
              "      <th>median_house_value</th>\n",
              "      <th>people_per_household</th>\n",
              "    </tr>\n",
              "  </thead>\n",
              "  <tbody>\n",
              "    <tr>\n",
              "      <th>568</th>\n",
              "      <td>-117.02</td>\n",
              "      <td>36.40</td>\n",
              "      <td>19.0</td>\n",
              "      <td>619.0</td>\n",
              "      <td>239.0</td>\n",
              "      <td>490.0</td>\n",
              "      <td>164.0</td>\n",
              "      <td>2.1000</td>\n",
              "      <td>14999.0</td>\n",
              "      <td>2.987805</td>\n",
              "    </tr>\n",
              "    <tr>\n",
              "      <th>3226</th>\n",
              "      <td>-117.86</td>\n",
              "      <td>34.24</td>\n",
              "      <td>52.0</td>\n",
              "      <td>803.0</td>\n",
              "      <td>267.0</td>\n",
              "      <td>628.0</td>\n",
              "      <td>225.0</td>\n",
              "      <td>4.1932</td>\n",
              "      <td>14999.0</td>\n",
              "      <td>2.791111</td>\n",
              "    </tr>\n",
              "    <tr>\n",
              "      <th>16643</th>\n",
              "      <td>-122.74</td>\n",
              "      <td>39.71</td>\n",
              "      <td>16.0</td>\n",
              "      <td>255.0</td>\n",
              "      <td>73.0</td>\n",
              "      <td>85.0</td>\n",
              "      <td>38.0</td>\n",
              "      <td>1.6607</td>\n",
              "      <td>14999.0</td>\n",
              "      <td>2.236842</td>\n",
              "    </tr>\n",
              "    <tr>\n",
              "      <th>16801</th>\n",
              "      <td>-123.17</td>\n",
              "      <td>40.31</td>\n",
              "      <td>36.0</td>\n",
              "      <td>98.0</td>\n",
              "      <td>28.0</td>\n",
              "      <td>18.0</td>\n",
              "      <td>8.0</td>\n",
              "      <td>0.5360</td>\n",
              "      <td>14999.0</td>\n",
              "      <td>2.250000</td>\n",
              "    </tr>\n",
              "  </tbody>\n",
              "</table>\n",
              "</div>"
            ],
            "text/plain": [
              "       longitude  latitude  ...  median_house_value  people_per_household\n",
              "568      -117.02     36.40  ...             14999.0              2.987805\n",
              "3226     -117.86     34.24  ...             14999.0              2.791111\n",
              "16643    -122.74     39.71  ...             14999.0              2.236842\n",
              "16801    -123.17     40.31  ...             14999.0              2.250000\n",
              "\n",
              "[4 rows x 10 columns]"
            ]
          },
          "metadata": {},
          "execution_count": 50
        }
      ]
    },
    {
      "cell_type": "markdown",
      "metadata": {
        "id": "6Gb9ybMCESgX"
      },
      "source": [
        "The main use case of the `groupby` functionality is to split dataframe based on some condition, perform some aggregation within groups and then join the results. An example of such an operation is calcualtin mean within each group."
      ]
    },
    {
      "cell_type": "code",
      "metadata": {
        "colab": {
          "base_uri": "https://localhost:8080/",
          "height": 258
        },
        "id": "JsZIkZLtyVki",
        "outputId": "2398ada2-8655-47cc-f410-ed6d8e3405dc"
      },
      "source": [
        "gb.mean().head()"
      ],
      "execution_count": 51,
      "outputs": [
        {
          "output_type": "execute_result",
          "data": {
            "text/html": [
              "<div>\n",
              "<style scoped>\n",
              "    .dataframe tbody tr th:only-of-type {\n",
              "        vertical-align: middle;\n",
              "    }\n",
              "\n",
              "    .dataframe tbody tr th {\n",
              "        vertical-align: top;\n",
              "    }\n",
              "\n",
              "    .dataframe thead th {\n",
              "        text-align: right;\n",
              "    }\n",
              "</style>\n",
              "<table border=\"1\" class=\"dataframe\">\n",
              "  <thead>\n",
              "    <tr style=\"text-align: right;\">\n",
              "      <th></th>\n",
              "      <th>longitude</th>\n",
              "      <th>latitude</th>\n",
              "      <th>housing_median_age</th>\n",
              "      <th>total_rooms</th>\n",
              "      <th>total_bedrooms</th>\n",
              "      <th>population</th>\n",
              "      <th>households</th>\n",
              "      <th>median_income</th>\n",
              "      <th>median_house_value</th>\n",
              "      <th>people_per_household</th>\n",
              "    </tr>\n",
              "    <tr>\n",
              "      <th>median_house_value</th>\n",
              "      <th></th>\n",
              "      <th></th>\n",
              "      <th></th>\n",
              "      <th></th>\n",
              "      <th></th>\n",
              "      <th></th>\n",
              "      <th></th>\n",
              "      <th></th>\n",
              "      <th></th>\n",
              "      <th></th>\n",
              "    </tr>\n",
              "  </thead>\n",
              "  <tbody>\n",
              "    <tr>\n",
              "      <th>10000.0</th>\n",
              "      <td>-120.197500</td>\n",
              "      <td>37.665000</td>\n",
              "      <td>30.750000</td>\n",
              "      <td>443.750000</td>\n",
              "      <td>151.750000</td>\n",
              "      <td>305.250000</td>\n",
              "      <td>108.750000</td>\n",
              "      <td>2.122475</td>\n",
              "      <td>14999.000000</td>\n",
              "      <td>2.566440</td>\n",
              "    </tr>\n",
              "    <tr>\n",
              "      <th>20000.0</th>\n",
              "      <td>-118.632000</td>\n",
              "      <td>35.650000</td>\n",
              "      <td>30.600000</td>\n",
              "      <td>2183.000000</td>\n",
              "      <td>419.200000</td>\n",
              "      <td>1508.200000</td>\n",
              "      <td>344.000000</td>\n",
              "      <td>1.880860</td>\n",
              "      <td>22000.000000</td>\n",
              "      <td>3.115305</td>\n",
              "    </tr>\n",
              "    <tr>\n",
              "      <th>30000.0</th>\n",
              "      <td>-118.980000</td>\n",
              "      <td>36.394615</td>\n",
              "      <td>26.230769</td>\n",
              "      <td>2336.615385</td>\n",
              "      <td>472.692308</td>\n",
              "      <td>1422.230769</td>\n",
              "      <td>392.307692</td>\n",
              "      <td>2.033500</td>\n",
              "      <td>30992.307692</td>\n",
              "      <td>2.779726</td>\n",
              "    </tr>\n",
              "    <tr>\n",
              "      <th>40000.0</th>\n",
              "      <td>-118.979661</td>\n",
              "      <td>36.169831</td>\n",
              "      <td>31.610169</td>\n",
              "      <td>1583.355932</td>\n",
              "      <td>379.338983</td>\n",
              "      <td>1094.084746</td>\n",
              "      <td>306.389831</td>\n",
              "      <td>1.695885</td>\n",
              "      <td>41915.254237</td>\n",
              "      <td>3.709225</td>\n",
              "    </tr>\n",
              "    <tr>\n",
              "      <th>50000.0</th>\n",
              "      <td>-119.536537</td>\n",
              "      <td>36.579339</td>\n",
              "      <td>29.821012</td>\n",
              "      <td>1671.498054</td>\n",
              "      <td>398.186770</td>\n",
              "      <td>1200.852140</td>\n",
              "      <td>357.003891</td>\n",
              "      <td>1.750918</td>\n",
              "      <td>51044.747082</td>\n",
              "      <td>3.466028</td>\n",
              "    </tr>\n",
              "  </tbody>\n",
              "</table>\n",
              "</div>"
            ],
            "text/plain": [
              "                     longitude  ...  people_per_household\n",
              "median_house_value              ...                      \n",
              "10000.0            -120.197500  ...              2.566440\n",
              "20000.0            -118.632000  ...              3.115305\n",
              "30000.0            -118.980000  ...              2.779726\n",
              "40000.0            -118.979661  ...              3.709225\n",
              "50000.0            -119.536537  ...              3.466028\n",
              "\n",
              "[5 rows x 10 columns]"
            ]
          },
          "metadata": {},
          "execution_count": 51
        }
      ]
    },
    {
      "cell_type": "markdown",
      "metadata": {
        "id": "x5pKMYQQEssJ"
      },
      "source": [
        "You can read more about `groupby` funcionality in teh pandas user guide: https://pandas.pydata.org/pandas-docs/stable/user_guide/groupby.html"
      ]
    },
    {
      "cell_type": "markdown",
      "metadata": {
        "id": "Zh6YSV42SsEc"
      },
      "source": [
        "## Pandas Exercises"
      ]
    },
    {
      "cell_type": "markdown",
      "metadata": {
        "id": "7Eps67iM_R4P"
      },
      "source": [
        "### Pandas exercise: IMDB movies\n",
        "\n",
        "In this exercise we will look into IMDB Top 1000 movies dataset. We will first load it into a dataframe.\n"
      ]
    },
    {
      "cell_type": "code",
      "metadata": {
        "colab": {
          "base_uri": "https://localhost:8080/",
          "height": 1000
        },
        "id": "-fB20DPoN6U3",
        "outputId": "c58636e7-35a4-4cab-ae73-3a0bbea59941"
      },
      "source": [
        "url = \"https://raw.githubusercontent.com/peetck/IMDB-Top1000-Movies/master/IMDB-Movie-Data.csv\"\n",
        "df = pd.read_csv(url)\n",
        "df"
      ],
      "execution_count": 52,
      "outputs": [
        {
          "output_type": "execute_result",
          "data": {
            "text/html": [
              "<div>\n",
              "<style scoped>\n",
              "    .dataframe tbody tr th:only-of-type {\n",
              "        vertical-align: middle;\n",
              "    }\n",
              "\n",
              "    .dataframe tbody tr th {\n",
              "        vertical-align: top;\n",
              "    }\n",
              "\n",
              "    .dataframe thead th {\n",
              "        text-align: right;\n",
              "    }\n",
              "</style>\n",
              "<table border=\"1\" class=\"dataframe\">\n",
              "  <thead>\n",
              "    <tr style=\"text-align: right;\">\n",
              "      <th></th>\n",
              "      <th>Rank</th>\n",
              "      <th>Title</th>\n",
              "      <th>Genre</th>\n",
              "      <th>Description</th>\n",
              "      <th>Director</th>\n",
              "      <th>Actors</th>\n",
              "      <th>Year</th>\n",
              "      <th>Runtime (Minutes)</th>\n",
              "      <th>Rating</th>\n",
              "      <th>Votes</th>\n",
              "      <th>Revenue (Millions)</th>\n",
              "      <th>Metascore</th>\n",
              "    </tr>\n",
              "  </thead>\n",
              "  <tbody>\n",
              "    <tr>\n",
              "      <th>0</th>\n",
              "      <td>1</td>\n",
              "      <td>Guardians of the Galaxy</td>\n",
              "      <td>Action,Adventure,Sci-Fi</td>\n",
              "      <td>A group of intergalactic criminals are forced ...</td>\n",
              "      <td>James Gunn</td>\n",
              "      <td>Chris Pratt, Vin Diesel, Bradley Cooper, Zoe S...</td>\n",
              "      <td>2014</td>\n",
              "      <td>121</td>\n",
              "      <td>8.1</td>\n",
              "      <td>757074</td>\n",
              "      <td>333.13</td>\n",
              "      <td>76</td>\n",
              "    </tr>\n",
              "    <tr>\n",
              "      <th>1</th>\n",
              "      <td>2</td>\n",
              "      <td>Prometheus</td>\n",
              "      <td>Adventure,Mystery,Sci-Fi</td>\n",
              "      <td>Following clues to the origin of mankind, a te...</td>\n",
              "      <td>Ridley Scott</td>\n",
              "      <td>Noomi Rapace, Logan Marshall-Green, Michael Fa...</td>\n",
              "      <td>2012</td>\n",
              "      <td>124</td>\n",
              "      <td>7.0</td>\n",
              "      <td>485820</td>\n",
              "      <td>126.46</td>\n",
              "      <td>65</td>\n",
              "    </tr>\n",
              "    <tr>\n",
              "      <th>2</th>\n",
              "      <td>3</td>\n",
              "      <td>Split</td>\n",
              "      <td>Horror,Thriller</td>\n",
              "      <td>Three girls are kidnapped by a man with a diag...</td>\n",
              "      <td>M. Night Shyamalan</td>\n",
              "      <td>James McAvoy, Anya Taylor-Joy, Haley Lu Richar...</td>\n",
              "      <td>2016</td>\n",
              "      <td>117</td>\n",
              "      <td>7.3</td>\n",
              "      <td>157606</td>\n",
              "      <td>138.12</td>\n",
              "      <td>62</td>\n",
              "    </tr>\n",
              "    <tr>\n",
              "      <th>3</th>\n",
              "      <td>4</td>\n",
              "      <td>Sing</td>\n",
              "      <td>Animation,Comedy,Family</td>\n",
              "      <td>In a city of humanoid animals, a hustling thea...</td>\n",
              "      <td>Christophe Lourdelet</td>\n",
              "      <td>Matthew McConaughey,Reese Witherspoon, Seth Ma...</td>\n",
              "      <td>2016</td>\n",
              "      <td>108</td>\n",
              "      <td>7.2</td>\n",
              "      <td>60545</td>\n",
              "      <td>270.32</td>\n",
              "      <td>59</td>\n",
              "    </tr>\n",
              "    <tr>\n",
              "      <th>4</th>\n",
              "      <td>5</td>\n",
              "      <td>Suicide Squad</td>\n",
              "      <td>Action,Adventure,Fantasy</td>\n",
              "      <td>A secret government agency recruits some of th...</td>\n",
              "      <td>David Ayer</td>\n",
              "      <td>Will Smith, Jared Leto, Margot Robbie, Viola D...</td>\n",
              "      <td>2016</td>\n",
              "      <td>123</td>\n",
              "      <td>6.2</td>\n",
              "      <td>393727</td>\n",
              "      <td>325.02</td>\n",
              "      <td>40</td>\n",
              "    </tr>\n",
              "    <tr>\n",
              "      <th>...</th>\n",
              "      <td>...</td>\n",
              "      <td>...</td>\n",
              "      <td>...</td>\n",
              "      <td>...</td>\n",
              "      <td>...</td>\n",
              "      <td>...</td>\n",
              "      <td>...</td>\n",
              "      <td>...</td>\n",
              "      <td>...</td>\n",
              "      <td>...</td>\n",
              "      <td>...</td>\n",
              "      <td>...</td>\n",
              "    </tr>\n",
              "    <tr>\n",
              "      <th>995</th>\n",
              "      <td>996</td>\n",
              "      <td>Secret in Their Eyes</td>\n",
              "      <td>Crime,Drama,Mystery</td>\n",
              "      <td>A tight-knit team of rising investigators, alo...</td>\n",
              "      <td>Billy Ray</td>\n",
              "      <td>Chiwetel Ejiofor, Nicole Kidman, Julia Roberts...</td>\n",
              "      <td>2015</td>\n",
              "      <td>111</td>\n",
              "      <td>6.2</td>\n",
              "      <td>27585</td>\n",
              "      <td>0.00</td>\n",
              "      <td>45</td>\n",
              "    </tr>\n",
              "    <tr>\n",
              "      <th>996</th>\n",
              "      <td>997</td>\n",
              "      <td>Hostel: Part II</td>\n",
              "      <td>Horror</td>\n",
              "      <td>Three American college students studying abroa...</td>\n",
              "      <td>Eli Roth</td>\n",
              "      <td>Lauren German, Heather Matarazzo, Bijou Philli...</td>\n",
              "      <td>2007</td>\n",
              "      <td>94</td>\n",
              "      <td>5.5</td>\n",
              "      <td>73152</td>\n",
              "      <td>17.54</td>\n",
              "      <td>46</td>\n",
              "    </tr>\n",
              "    <tr>\n",
              "      <th>997</th>\n",
              "      <td>998</td>\n",
              "      <td>Step Up 2: The Streets</td>\n",
              "      <td>Drama,Music,Romance</td>\n",
              "      <td>Romantic sparks occur between two dance studen...</td>\n",
              "      <td>Jon M. Chu</td>\n",
              "      <td>Robert Hoffman, Briana Evigan, Cassie Ventura,...</td>\n",
              "      <td>2008</td>\n",
              "      <td>98</td>\n",
              "      <td>6.2</td>\n",
              "      <td>70699</td>\n",
              "      <td>58.01</td>\n",
              "      <td>50</td>\n",
              "    </tr>\n",
              "    <tr>\n",
              "      <th>998</th>\n",
              "      <td>999</td>\n",
              "      <td>Search Party</td>\n",
              "      <td>Adventure,Comedy</td>\n",
              "      <td>A pair of friends embark on a mission to reuni...</td>\n",
              "      <td>Scot Armstrong</td>\n",
              "      <td>Adam Pally, T.J. Miller, Thomas Middleditch,Sh...</td>\n",
              "      <td>2014</td>\n",
              "      <td>93</td>\n",
              "      <td>5.6</td>\n",
              "      <td>4881</td>\n",
              "      <td>0.00</td>\n",
              "      <td>22</td>\n",
              "    </tr>\n",
              "    <tr>\n",
              "      <th>999</th>\n",
              "      <td>1000</td>\n",
              "      <td>Nine Lives</td>\n",
              "      <td>Comedy,Family,Fantasy</td>\n",
              "      <td>A stuffy businessman finds himself trapped ins...</td>\n",
              "      <td>Barry Sonnenfeld</td>\n",
              "      <td>Kevin Spacey, Jennifer Garner, Robbie Amell,Ch...</td>\n",
              "      <td>2016</td>\n",
              "      <td>87</td>\n",
              "      <td>5.3</td>\n",
              "      <td>12435</td>\n",
              "      <td>19.64</td>\n",
              "      <td>11</td>\n",
              "    </tr>\n",
              "  </tbody>\n",
              "</table>\n",
              "<p>1000 rows × 12 columns</p>\n",
              "</div>"
            ],
            "text/plain": [
              "     Rank                    Title  ... Revenue (Millions) Metascore\n",
              "0       1  Guardians of the Galaxy  ...             333.13        76\n",
              "1       2               Prometheus  ...             126.46        65\n",
              "2       3                    Split  ...             138.12        62\n",
              "3       4                     Sing  ...             270.32        59\n",
              "4       5            Suicide Squad  ...             325.02        40\n",
              "..    ...                      ...  ...                ...       ...\n",
              "995   996     Secret in Their Eyes  ...               0.00        45\n",
              "996   997          Hostel: Part II  ...              17.54        46\n",
              "997   998   Step Up 2: The Streets  ...              58.01        50\n",
              "998   999             Search Party  ...               0.00        22\n",
              "999  1000               Nine Lives  ...              19.64        11\n",
              "\n",
              "[1000 rows x 12 columns]"
            ]
          },
          "metadata": {},
          "execution_count": 52
        }
      ]
    },
    {
      "cell_type": "markdown",
      "metadata": {
        "id": "mf18PKraGQU3"
      },
      "source": [
        "Part 1.\n",
        "\n",
        "1. How much should movie earn to be among 2% best earning movies?\n",
        "2. Select movies that earned more than this value.\n",
        "3. Calculate their mean rating."
      ]
    },
    {
      "cell_type": "code",
      "metadata": {
        "id": "PVyAopqS6_Ad"
      },
      "source": [
        "### YOUR CODE BEGINS HERE ###\n",
        "answer = np.mean(df.nlargest(n=int(df.shape[0]*0.02), columns=['Revenue (Millions)'])['Rating'])\n",
        "### YOUR CODE ENDS HERE ###"
      ],
      "execution_count": 60,
      "outputs": []
    },
    {
      "cell_type": "code",
      "metadata": {
        "id": "zwsu3e9FPlgO"
      },
      "source": [
        "# Your code in cell(s) above\n",
        "assert np.isclose(answer, 7.615)"
      ],
      "execution_count": 61,
      "outputs": []
    },
    {
      "cell_type": "markdown",
      "metadata": {
        "id": "lth4Je_2CsM0"
      },
      "source": [
        "Part 2.\n",
        "1. Calculate mean metascore and mean revenue per director. (use groupby)\n",
        "2. Restrict results to the directors that directed more than four movies. (look up `value_counts` method)\n",
        "3. Sort the results with respect to the metascore and display the rating as a dataframe.\n",
        "4. Who is the 3rd director it this rating and what is his/her mean revenue?"
      ]
    },
    {
      "cell_type": "code",
      "metadata": {
        "id": "O3t5id1rdKXM",
        "outputId": "e23b8102-5b02-4475-99e8-0eaadb00214f",
        "colab": {
          "base_uri": "https://localhost:8080/",
          "height": 582
        }
      },
      "source": [
        "df_temp = df.groupby('Director').agg({'Director': 'count', 'Metascore': 'mean', 'Revenue (Millions)': 'mean'})\n",
        "df_temp = df_temp[df_temp['Director'] > 4]\n",
        "df_temp = df_temp.drop(columns='Director', axis=1)\n",
        "df_sorted = df_temp.sort_values('Metascore', ascending=False)\n",
        "director = df_sorted.iloc[[2]]['Revenue (Millions)'].index[0]\n",
        "revenue = df_sorted.iloc[[2]]['Revenue (Millions)'][0]\n",
        "df_sorted"
      ],
      "execution_count": 139,
      "outputs": [
        {
          "output_type": "execute_result",
          "data": {
            "text/html": [
              "<div>\n",
              "<style scoped>\n",
              "    .dataframe tbody tr th:only-of-type {\n",
              "        vertical-align: middle;\n",
              "    }\n",
              "\n",
              "    .dataframe tbody tr th {\n",
              "        vertical-align: top;\n",
              "    }\n",
              "\n",
              "    .dataframe thead th {\n",
              "        text-align: right;\n",
              "    }\n",
              "</style>\n",
              "<table border=\"1\" class=\"dataframe\">\n",
              "  <thead>\n",
              "    <tr style=\"text-align: right;\">\n",
              "      <th></th>\n",
              "      <th>Metascore</th>\n",
              "      <th>Revenue (Millions)</th>\n",
              "    </tr>\n",
              "    <tr>\n",
              "      <th>Director</th>\n",
              "      <th></th>\n",
              "      <th></th>\n",
              "    </tr>\n",
              "  </thead>\n",
              "  <tbody>\n",
              "    <tr>\n",
              "      <th>David Fincher</th>\n",
              "      <td>78.600000</td>\n",
              "      <td>105.544000</td>\n",
              "    </tr>\n",
              "    <tr>\n",
              "      <th>Martin Scorsese</th>\n",
              "      <td>77.000000</td>\n",
              "      <td>91.622000</td>\n",
              "    </tr>\n",
              "    <tr>\n",
              "      <th>Denis Villeneuve</th>\n",
              "      <td>75.600000</td>\n",
              "      <td>43.242000</td>\n",
              "    </tr>\n",
              "    <tr>\n",
              "      <th>Danny Boyle</th>\n",
              "      <td>75.000000</td>\n",
              "      <td>36.680000</td>\n",
              "    </tr>\n",
              "    <tr>\n",
              "      <th>Christopher Nolan</th>\n",
              "      <td>74.800000</td>\n",
              "      <td>303.018000</td>\n",
              "    </tr>\n",
              "    <tr>\n",
              "      <th>J.J. Abrams</th>\n",
              "      <td>74.600000</td>\n",
              "      <td>336.690000</td>\n",
              "    </tr>\n",
              "    <tr>\n",
              "      <th>Woody Allen</th>\n",
              "      <td>69.400000</td>\n",
              "      <td>28.238000</td>\n",
              "    </tr>\n",
              "    <tr>\n",
              "      <th>David Yates</th>\n",
              "      <td>68.500000</td>\n",
              "      <td>271.751667</td>\n",
              "    </tr>\n",
              "    <tr>\n",
              "      <th>Ridley Scott</th>\n",
              "      <td>59.750000</td>\n",
              "      <td>89.882500</td>\n",
              "    </tr>\n",
              "    <tr>\n",
              "      <th>Peter Berg</th>\n",
              "      <td>57.400000</td>\n",
              "      <td>102.266000</td>\n",
              "    </tr>\n",
              "    <tr>\n",
              "      <th>Justin Lin</th>\n",
              "      <td>57.200000</td>\n",
              "      <td>164.958000</td>\n",
              "    </tr>\n",
              "    <tr>\n",
              "      <th>Antoine Fuqua</th>\n",
              "      <td>52.400000</td>\n",
              "      <td>78.642000</td>\n",
              "    </tr>\n",
              "    <tr>\n",
              "      <th>Zack Snyder</th>\n",
              "      <td>48.000000</td>\n",
              "      <td>195.148000</td>\n",
              "    </tr>\n",
              "    <tr>\n",
              "      <th>Michael Bay</th>\n",
              "      <td>43.833333</td>\n",
              "      <td>236.886667</td>\n",
              "    </tr>\n",
              "    <tr>\n",
              "      <th>Paul W.S. Anderson</th>\n",
              "      <td>40.333333</td>\n",
              "      <td>34.820000</td>\n",
              "    </tr>\n",
              "    <tr>\n",
              "      <th>M. Night Shyamalan</th>\n",
              "      <td>40.000000</td>\n",
              "      <td>61.748333</td>\n",
              "    </tr>\n",
              "  </tbody>\n",
              "</table>\n",
              "</div>"
            ],
            "text/plain": [
              "                    Metascore  Revenue (Millions)\n",
              "Director                                         \n",
              "David Fincher       78.600000          105.544000\n",
              "Martin Scorsese     77.000000           91.622000\n",
              "Denis Villeneuve    75.600000           43.242000\n",
              "Danny Boyle         75.000000           36.680000\n",
              "Christopher Nolan   74.800000          303.018000\n",
              "J.J. Abrams         74.600000          336.690000\n",
              "Woody Allen         69.400000           28.238000\n",
              "David Yates         68.500000          271.751667\n",
              "Ridley Scott        59.750000           89.882500\n",
              "Peter Berg          57.400000          102.266000\n",
              "Justin Lin          57.200000          164.958000\n",
              "Antoine Fuqua       52.400000           78.642000\n",
              "Zack Snyder         48.000000          195.148000\n",
              "Michael Bay         43.833333          236.886667\n",
              "Paul W.S. Anderson  40.333333           34.820000\n",
              "M. Night Shyamalan  40.000000           61.748333"
            ]
          },
          "metadata": {},
          "execution_count": 139
        }
      ]
    },
    {
      "cell_type": "code",
      "metadata": {
        "id": "EkeQqmiTRhuP",
        "colab": {
          "base_uri": "https://localhost:8080/"
        },
        "outputId": "3ed2fec8-4846-4e4e-8f94-79d4d4ad3925"
      },
      "source": [
        "print(f\"Mean revenue of {director} is {revenue:.3f}.\")\n",
        "assert np.isclose(revenue, 43.242)"
      ],
      "execution_count": 140,
      "outputs": [
        {
          "output_type": "stream",
          "name": "stdout",
          "text": [
            "Mean revenue of Denis Villeneuve is 43.242.\n"
          ]
        }
      ]
    },
    {
      "cell_type": "markdown",
      "metadata": {
        "id": "1w5sYaTOBQ6o"
      },
      "source": [
        "### Pandas exercises: Anscombe's quartet\n",
        "\n",
        "In this exercise we will look into so called Anscombe's quartet that visualizes pitfalls of some statistics used to describe datasets\n",
        "\n",
        "![image](https://upload.wikimedia.org/wikipedia/commons/e/ec/Anscombe%27s_quartet_3.svg)"
      ]
    },
    {
      "cell_type": "markdown",
      "metadata": {
        "id": "_5hDco-JUysb"
      },
      "source": [
        "Firstly, let us load the data."
      ]
    },
    {
      "cell_type": "code",
      "metadata": {
        "colab": {
          "base_uri": "https://localhost:8080/",
          "height": 1000
        },
        "id": "lrL22-ROS9K-",
        "outputId": "f69d7853-c376-4448-b8c9-48874dd8b1ff"
      },
      "source": [
        "df = pd.read_json(\"./sample_data/anscombe.json\")\n",
        "df"
      ],
      "execution_count": 141,
      "outputs": [
        {
          "output_type": "execute_result",
          "data": {
            "text/html": [
              "<div>\n",
              "<style scoped>\n",
              "    .dataframe tbody tr th:only-of-type {\n",
              "        vertical-align: middle;\n",
              "    }\n",
              "\n",
              "    .dataframe tbody tr th {\n",
              "        vertical-align: top;\n",
              "    }\n",
              "\n",
              "    .dataframe thead th {\n",
              "        text-align: right;\n",
              "    }\n",
              "</style>\n",
              "<table border=\"1\" class=\"dataframe\">\n",
              "  <thead>\n",
              "    <tr style=\"text-align: right;\">\n",
              "      <th></th>\n",
              "      <th>Series</th>\n",
              "      <th>X</th>\n",
              "      <th>Y</th>\n",
              "    </tr>\n",
              "  </thead>\n",
              "  <tbody>\n",
              "    <tr>\n",
              "      <th>0</th>\n",
              "      <td>I</td>\n",
              "      <td>10</td>\n",
              "      <td>8.04</td>\n",
              "    </tr>\n",
              "    <tr>\n",
              "      <th>1</th>\n",
              "      <td>I</td>\n",
              "      <td>8</td>\n",
              "      <td>6.95</td>\n",
              "    </tr>\n",
              "    <tr>\n",
              "      <th>2</th>\n",
              "      <td>I</td>\n",
              "      <td>13</td>\n",
              "      <td>7.58</td>\n",
              "    </tr>\n",
              "    <tr>\n",
              "      <th>3</th>\n",
              "      <td>I</td>\n",
              "      <td>9</td>\n",
              "      <td>8.81</td>\n",
              "    </tr>\n",
              "    <tr>\n",
              "      <th>4</th>\n",
              "      <td>I</td>\n",
              "      <td>11</td>\n",
              "      <td>8.33</td>\n",
              "    </tr>\n",
              "    <tr>\n",
              "      <th>5</th>\n",
              "      <td>I</td>\n",
              "      <td>14</td>\n",
              "      <td>9.96</td>\n",
              "    </tr>\n",
              "    <tr>\n",
              "      <th>6</th>\n",
              "      <td>I</td>\n",
              "      <td>6</td>\n",
              "      <td>7.24</td>\n",
              "    </tr>\n",
              "    <tr>\n",
              "      <th>7</th>\n",
              "      <td>I</td>\n",
              "      <td>4</td>\n",
              "      <td>4.26</td>\n",
              "    </tr>\n",
              "    <tr>\n",
              "      <th>8</th>\n",
              "      <td>I</td>\n",
              "      <td>12</td>\n",
              "      <td>10.84</td>\n",
              "    </tr>\n",
              "    <tr>\n",
              "      <th>9</th>\n",
              "      <td>I</td>\n",
              "      <td>7</td>\n",
              "      <td>4.81</td>\n",
              "    </tr>\n",
              "    <tr>\n",
              "      <th>10</th>\n",
              "      <td>I</td>\n",
              "      <td>5</td>\n",
              "      <td>5.68</td>\n",
              "    </tr>\n",
              "    <tr>\n",
              "      <th>11</th>\n",
              "      <td>II</td>\n",
              "      <td>10</td>\n",
              "      <td>9.14</td>\n",
              "    </tr>\n",
              "    <tr>\n",
              "      <th>12</th>\n",
              "      <td>II</td>\n",
              "      <td>8</td>\n",
              "      <td>8.14</td>\n",
              "    </tr>\n",
              "    <tr>\n",
              "      <th>13</th>\n",
              "      <td>II</td>\n",
              "      <td>13</td>\n",
              "      <td>8.74</td>\n",
              "    </tr>\n",
              "    <tr>\n",
              "      <th>14</th>\n",
              "      <td>II</td>\n",
              "      <td>9</td>\n",
              "      <td>8.77</td>\n",
              "    </tr>\n",
              "    <tr>\n",
              "      <th>15</th>\n",
              "      <td>II</td>\n",
              "      <td>11</td>\n",
              "      <td>9.26</td>\n",
              "    </tr>\n",
              "    <tr>\n",
              "      <th>16</th>\n",
              "      <td>II</td>\n",
              "      <td>14</td>\n",
              "      <td>8.10</td>\n",
              "    </tr>\n",
              "    <tr>\n",
              "      <th>17</th>\n",
              "      <td>II</td>\n",
              "      <td>6</td>\n",
              "      <td>6.13</td>\n",
              "    </tr>\n",
              "    <tr>\n",
              "      <th>18</th>\n",
              "      <td>II</td>\n",
              "      <td>4</td>\n",
              "      <td>3.10</td>\n",
              "    </tr>\n",
              "    <tr>\n",
              "      <th>19</th>\n",
              "      <td>II</td>\n",
              "      <td>12</td>\n",
              "      <td>9.13</td>\n",
              "    </tr>\n",
              "    <tr>\n",
              "      <th>20</th>\n",
              "      <td>II</td>\n",
              "      <td>7</td>\n",
              "      <td>7.26</td>\n",
              "    </tr>\n",
              "    <tr>\n",
              "      <th>21</th>\n",
              "      <td>II</td>\n",
              "      <td>5</td>\n",
              "      <td>4.74</td>\n",
              "    </tr>\n",
              "    <tr>\n",
              "      <th>22</th>\n",
              "      <td>III</td>\n",
              "      <td>10</td>\n",
              "      <td>7.46</td>\n",
              "    </tr>\n",
              "    <tr>\n",
              "      <th>23</th>\n",
              "      <td>III</td>\n",
              "      <td>8</td>\n",
              "      <td>6.77</td>\n",
              "    </tr>\n",
              "    <tr>\n",
              "      <th>24</th>\n",
              "      <td>III</td>\n",
              "      <td>13</td>\n",
              "      <td>12.74</td>\n",
              "    </tr>\n",
              "    <tr>\n",
              "      <th>25</th>\n",
              "      <td>III</td>\n",
              "      <td>9</td>\n",
              "      <td>7.11</td>\n",
              "    </tr>\n",
              "    <tr>\n",
              "      <th>26</th>\n",
              "      <td>III</td>\n",
              "      <td>11</td>\n",
              "      <td>7.81</td>\n",
              "    </tr>\n",
              "    <tr>\n",
              "      <th>27</th>\n",
              "      <td>III</td>\n",
              "      <td>14</td>\n",
              "      <td>8.84</td>\n",
              "    </tr>\n",
              "    <tr>\n",
              "      <th>28</th>\n",
              "      <td>III</td>\n",
              "      <td>6</td>\n",
              "      <td>6.08</td>\n",
              "    </tr>\n",
              "    <tr>\n",
              "      <th>29</th>\n",
              "      <td>III</td>\n",
              "      <td>4</td>\n",
              "      <td>5.39</td>\n",
              "    </tr>\n",
              "    <tr>\n",
              "      <th>30</th>\n",
              "      <td>III</td>\n",
              "      <td>12</td>\n",
              "      <td>8.15</td>\n",
              "    </tr>\n",
              "    <tr>\n",
              "      <th>31</th>\n",
              "      <td>III</td>\n",
              "      <td>7</td>\n",
              "      <td>6.42</td>\n",
              "    </tr>\n",
              "    <tr>\n",
              "      <th>32</th>\n",
              "      <td>III</td>\n",
              "      <td>5</td>\n",
              "      <td>5.73</td>\n",
              "    </tr>\n",
              "    <tr>\n",
              "      <th>33</th>\n",
              "      <td>IV</td>\n",
              "      <td>8</td>\n",
              "      <td>6.58</td>\n",
              "    </tr>\n",
              "    <tr>\n",
              "      <th>34</th>\n",
              "      <td>IV</td>\n",
              "      <td>8</td>\n",
              "      <td>5.76</td>\n",
              "    </tr>\n",
              "    <tr>\n",
              "      <th>35</th>\n",
              "      <td>IV</td>\n",
              "      <td>8</td>\n",
              "      <td>7.71</td>\n",
              "    </tr>\n",
              "    <tr>\n",
              "      <th>36</th>\n",
              "      <td>IV</td>\n",
              "      <td>8</td>\n",
              "      <td>8.84</td>\n",
              "    </tr>\n",
              "    <tr>\n",
              "      <th>37</th>\n",
              "      <td>IV</td>\n",
              "      <td>8</td>\n",
              "      <td>8.47</td>\n",
              "    </tr>\n",
              "    <tr>\n",
              "      <th>38</th>\n",
              "      <td>IV</td>\n",
              "      <td>8</td>\n",
              "      <td>7.04</td>\n",
              "    </tr>\n",
              "    <tr>\n",
              "      <th>39</th>\n",
              "      <td>IV</td>\n",
              "      <td>8</td>\n",
              "      <td>5.25</td>\n",
              "    </tr>\n",
              "    <tr>\n",
              "      <th>40</th>\n",
              "      <td>IV</td>\n",
              "      <td>19</td>\n",
              "      <td>12.50</td>\n",
              "    </tr>\n",
              "    <tr>\n",
              "      <th>41</th>\n",
              "      <td>IV</td>\n",
              "      <td>8</td>\n",
              "      <td>5.56</td>\n",
              "    </tr>\n",
              "    <tr>\n",
              "      <th>42</th>\n",
              "      <td>IV</td>\n",
              "      <td>8</td>\n",
              "      <td>7.91</td>\n",
              "    </tr>\n",
              "    <tr>\n",
              "      <th>43</th>\n",
              "      <td>IV</td>\n",
              "      <td>8</td>\n",
              "      <td>6.89</td>\n",
              "    </tr>\n",
              "  </tbody>\n",
              "</table>\n",
              "</div>"
            ],
            "text/plain": [
              "   Series   X      Y\n",
              "0       I  10   8.04\n",
              "1       I   8   6.95\n",
              "2       I  13   7.58\n",
              "3       I   9   8.81\n",
              "4       I  11   8.33\n",
              "5       I  14   9.96\n",
              "6       I   6   7.24\n",
              "7       I   4   4.26\n",
              "8       I  12  10.84\n",
              "9       I   7   4.81\n",
              "10      I   5   5.68\n",
              "11     II  10   9.14\n",
              "12     II   8   8.14\n",
              "13     II  13   8.74\n",
              "14     II   9   8.77\n",
              "15     II  11   9.26\n",
              "16     II  14   8.10\n",
              "17     II   6   6.13\n",
              "18     II   4   3.10\n",
              "19     II  12   9.13\n",
              "20     II   7   7.26\n",
              "21     II   5   4.74\n",
              "22    III  10   7.46\n",
              "23    III   8   6.77\n",
              "24    III  13  12.74\n",
              "25    III   9   7.11\n",
              "26    III  11   7.81\n",
              "27    III  14   8.84\n",
              "28    III   6   6.08\n",
              "29    III   4   5.39\n",
              "30    III  12   8.15\n",
              "31    III   7   6.42\n",
              "32    III   5   5.73\n",
              "33     IV   8   6.58\n",
              "34     IV   8   5.76\n",
              "35     IV   8   7.71\n",
              "36     IV   8   8.84\n",
              "37     IV   8   8.47\n",
              "38     IV   8   7.04\n",
              "39     IV   8   5.25\n",
              "40     IV  19  12.50\n",
              "41     IV   8   5.56\n",
              "42     IV   8   7.91\n",
              "43     IV   8   6.89"
            ]
          },
          "metadata": {},
          "execution_count": 141
        }
      ]
    },
    {
      "cell_type": "markdown",
      "metadata": {
        "id": "B_2Eosy0WSZk"
      },
      "source": [
        "For each series calculate its \n",
        "- mean value of $X$\n",
        "- mean value of $Y$\n",
        "- sample variance of $X$\n",
        "- sample variance of $Y$\n",
        "- covariance beetwen $X$ and $Y$\n",
        "\n",
        "and verify whether for each series you get\n",
        "- mean of $X$ = 9,\n",
        "- var of $X$ = 11,\n",
        "- mean of $Y$ = 7.5 +- 0.01,\n",
        "- var of $Y$ = 4.12 +- 0.01,\n",
        "- cov of $X$ and $Y$ = 5.50 +- 0.01,\n",
        "\n",
        "(you can try to make use of `aggregate` function of a `GroupBy` object)"
      ]
    },
    {
      "cell_type": "code",
      "metadata": {
        "id": "qHdlplc5ZmdQ",
        "colab": {
          "base_uri": "https://localhost:8080/",
          "height": 238
        },
        "outputId": "fc116d7a-88af-4553-e6de-168b1f44e915"
      },
      "source": [
        "### YOUR CODE BEGINS HERE ###\n",
        "df.groupby('Series').agg({'X': ['mean', 'var'], 'Y': ['mean', 'var']})\n",
        "\n",
        "### YOUR CODE ENDS HERE ###"
      ],
      "execution_count": 149,
      "outputs": [
        {
          "output_type": "execute_result",
          "data": {
            "text/html": [
              "<div>\n",
              "<style scoped>\n",
              "    .dataframe tbody tr th:only-of-type {\n",
              "        vertical-align: middle;\n",
              "    }\n",
              "\n",
              "    .dataframe tbody tr th {\n",
              "        vertical-align: top;\n",
              "    }\n",
              "\n",
              "    .dataframe thead tr th {\n",
              "        text-align: left;\n",
              "    }\n",
              "\n",
              "    .dataframe thead tr:last-of-type th {\n",
              "        text-align: right;\n",
              "    }\n",
              "</style>\n",
              "<table border=\"1\" class=\"dataframe\">\n",
              "  <thead>\n",
              "    <tr>\n",
              "      <th></th>\n",
              "      <th colspan=\"2\" halign=\"left\">X</th>\n",
              "      <th colspan=\"2\" halign=\"left\">Y</th>\n",
              "    </tr>\n",
              "    <tr>\n",
              "      <th></th>\n",
              "      <th>mean</th>\n",
              "      <th>var</th>\n",
              "      <th>mean</th>\n",
              "      <th>var</th>\n",
              "    </tr>\n",
              "    <tr>\n",
              "      <th>Series</th>\n",
              "      <th></th>\n",
              "      <th></th>\n",
              "      <th></th>\n",
              "      <th></th>\n",
              "    </tr>\n",
              "  </thead>\n",
              "  <tbody>\n",
              "    <tr>\n",
              "      <th>I</th>\n",
              "      <td>9</td>\n",
              "      <td>11.0</td>\n",
              "      <td>7.500000</td>\n",
              "      <td>4.132640</td>\n",
              "    </tr>\n",
              "    <tr>\n",
              "      <th>II</th>\n",
              "      <td>9</td>\n",
              "      <td>11.0</td>\n",
              "      <td>7.500909</td>\n",
              "      <td>4.127629</td>\n",
              "    </tr>\n",
              "    <tr>\n",
              "      <th>III</th>\n",
              "      <td>9</td>\n",
              "      <td>11.0</td>\n",
              "      <td>7.500000</td>\n",
              "      <td>4.122620</td>\n",
              "    </tr>\n",
              "    <tr>\n",
              "      <th>IV</th>\n",
              "      <td>9</td>\n",
              "      <td>11.0</td>\n",
              "      <td>7.500909</td>\n",
              "      <td>4.123249</td>\n",
              "    </tr>\n",
              "  </tbody>\n",
              "</table>\n",
              "</div>"
            ],
            "text/plain": [
              "          X               Y          \n",
              "       mean   var      mean       var\n",
              "Series                               \n",
              "I         9  11.0  7.500000  4.132640\n",
              "II        9  11.0  7.500909  4.127629\n",
              "III       9  11.0  7.500000  4.122620\n",
              "IV        9  11.0  7.500909  4.123249"
            ]
          },
          "metadata": {},
          "execution_count": 149
        }
      ]
    },
    {
      "cell_type": "code",
      "metadata": {
        "id": "UkNfUAIygUs8",
        "outputId": "3b088e2d-05c4-4526-fcc4-b0b31d9e7d5f",
        "colab": {
          "base_uri": "https://localhost:8080/"
        }
      },
      "source": [
        "df.groupby('Series').apply(lambda x: x['X'].cov(x['Y']))"
      ],
      "execution_count": 148,
      "outputs": [
        {
          "output_type": "execute_result",
          "data": {
            "text/plain": [
              "Series\n",
              "I      5.503\n",
              "II     5.500\n",
              "III    5.497\n",
              "IV     5.499\n",
              "dtype: float64"
            ]
          },
          "metadata": {},
          "execution_count": 148
        }
      ]
    },
    {
      "cell_type": "markdown",
      "metadata": {
        "id": "ksT9dLxgl9je"
      },
      "source": [
        "<center><img src='https://drive.google.com/uc?id=1PioHCAlQTt8LWChoMysPErSOrxOfAW0R'></center>"
      ]
    }
  ]
}