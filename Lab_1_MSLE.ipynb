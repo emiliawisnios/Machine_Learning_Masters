{
  "nbformat": 4,
  "nbformat_minor": 0,
  "metadata": {
    "kernelspec": {
      "name": "python3",
      "display_name": "Python 3"
    },
    "colab": {
      "name": "Lab 1: MSLE.ipynb",
      "provenance": [],
      "include_colab_link": true
    }
  },
  "cells": [
    {
      "cell_type": "markdown",
      "metadata": {
        "id": "view-in-github",
        "colab_type": "text"
      },
      "source": [
        "<a href=\"https://colab.research.google.com/github/emiliawisnios/Machine_Learning_Masters/blob/main/Lab_1_MSLE.ipynb\" target=\"_parent\"><img src=\"https://colab.research.google.com/assets/colab-badge.svg\" alt=\"Open In Colab\"/></a>"
      ]
    },
    {
      "cell_type": "markdown",
      "metadata": {
        "id": "VqdiMxZx-EoD"
      },
      "source": [
        "# Linear regression \n",
        "\n",
        "In this exercise you will use linear regression to predict flat prices. Training will be handled via gradient descent and we will:\n",
        "* have multiple features (i.e. variables used to make the prediction),\n",
        "* employ some basic feature engineering,\n",
        "* work with a non-standard loss function.\n",
        "\n",
        "Let's start with getting the data."
      ]
    },
    {
      "cell_type": "code",
      "metadata": {
        "id": "heeKjQ2r-EoH",
        "colab": {
          "base_uri": "https://localhost:8080/"
        },
        "outputId": "e7c1a05d-63a5-4efc-fca4-ac134b4b5318"
      },
      "source": [
        "%matplotlib inline\n",
        "\n",
        "!wget -O mieszkania.csv https://www.dropbox.com/s/zey0gx91pna8irj/mieszkania.csv?dl=1\n",
        "!wget -O mieszkania_test.csv https://www.dropbox.com/s/dbrj6sbxb4ayqjz/mieszkania_test.csv?dl=1"
      ],
      "execution_count": 1,
      "outputs": [
        {
          "output_type": "stream",
          "name": "stdout",
          "text": [
            "--2021-10-26 22:45:04--  https://www.dropbox.com/s/zey0gx91pna8irj/mieszkania.csv?dl=1\n",
            "Resolving www.dropbox.com (www.dropbox.com)... 162.125.80.18, 2620:100:6035:18::a27d:5512\n",
            "Connecting to www.dropbox.com (www.dropbox.com)|162.125.80.18|:443... connected.\n",
            "HTTP request sent, awaiting response... 301 Moved Permanently\n",
            "Location: /s/dl/zey0gx91pna8irj/mieszkania.csv [following]\n",
            "--2021-10-26 22:45:05--  https://www.dropbox.com/s/dl/zey0gx91pna8irj/mieszkania.csv\n",
            "Reusing existing connection to www.dropbox.com:443.\n",
            "HTTP request sent, awaiting response... 302 Found\n",
            "Location: https://uc80968df50fe54649e5e88269dc.dl.dropboxusercontent.com/cd/0/get/BYxlHWBfrrqKeaA_TJVGCKyjNaUKCo16WAow3fmEd0zUxHld8GidPuRfrpUp1l8MZNIvCflPnKQtuyWuZm96fAUjBffCnbDJwGbmRww58ucZ33_71EJ1BQNuZuxGLgwqU2UGlo-2RORudwTap_trW7H6/file?dl=1# [following]\n",
            "--2021-10-26 22:45:05--  https://uc80968df50fe54649e5e88269dc.dl.dropboxusercontent.com/cd/0/get/BYxlHWBfrrqKeaA_TJVGCKyjNaUKCo16WAow3fmEd0zUxHld8GidPuRfrpUp1l8MZNIvCflPnKQtuyWuZm96fAUjBffCnbDJwGbmRww58ucZ33_71EJ1BQNuZuxGLgwqU2UGlo-2RORudwTap_trW7H6/file?dl=1\n",
            "Resolving uc80968df50fe54649e5e88269dc.dl.dropboxusercontent.com (uc80968df50fe54649e5e88269dc.dl.dropboxusercontent.com)... 162.125.81.15, 2620:100:6035:15::a27d:550f\n",
            "Connecting to uc80968df50fe54649e5e88269dc.dl.dropboxusercontent.com (uc80968df50fe54649e5e88269dc.dl.dropboxusercontent.com)|162.125.81.15|:443... connected.\n",
            "HTTP request sent, awaiting response... 200 OK\n",
            "Length: 6211 (6.1K) [application/binary]\n",
            "Saving to: ‘mieszkania.csv’\n",
            "\n",
            "mieszkania.csv      100%[===================>]   6.07K  --.-KB/s    in 0s      \n",
            "\n",
            "2021-10-26 22:45:06 (586 MB/s) - ‘mieszkania.csv’ saved [6211/6211]\n",
            "\n",
            "--2021-10-26 22:45:06--  https://www.dropbox.com/s/dbrj6sbxb4ayqjz/mieszkania_test.csv?dl=1\n",
            "Resolving www.dropbox.com (www.dropbox.com)... 162.125.80.18, 2620:100:6035:18::a27d:5512\n",
            "Connecting to www.dropbox.com (www.dropbox.com)|162.125.80.18|:443... connected.\n",
            "HTTP request sent, awaiting response... 301 Moved Permanently\n",
            "Location: /s/dl/dbrj6sbxb4ayqjz/mieszkania_test.csv [following]\n",
            "--2021-10-26 22:45:06--  https://www.dropbox.com/s/dl/dbrj6sbxb4ayqjz/mieszkania_test.csv\n",
            "Reusing existing connection to www.dropbox.com:443.\n",
            "HTTP request sent, awaiting response... 302 Found\n",
            "Location: https://uc940ed7955aef8c826c8e12161e.dl.dropboxusercontent.com/cd/0/get/BYymm2VRn8TEoJ9KoFJKY96Vkc8ukOwDMg8o7vUpfsqJvMZGKEv6GnSPAJlxQVImk5PNfmVXZIvDZpYKJ0r1MvvWXa3aAIdKvOogDOR8eJGwoDJcR7YhX3jwIuvFLGxoHrocIXWE3_KYEWcX1YeRLdFU/file?dl=1# [following]\n",
            "--2021-10-26 22:45:06--  https://uc940ed7955aef8c826c8e12161e.dl.dropboxusercontent.com/cd/0/get/BYymm2VRn8TEoJ9KoFJKY96Vkc8ukOwDMg8o7vUpfsqJvMZGKEv6GnSPAJlxQVImk5PNfmVXZIvDZpYKJ0r1MvvWXa3aAIdKvOogDOR8eJGwoDJcR7YhX3jwIuvFLGxoHrocIXWE3_KYEWcX1YeRLdFU/file?dl=1\n",
            "Resolving uc940ed7955aef8c826c8e12161e.dl.dropboxusercontent.com (uc940ed7955aef8c826c8e12161e.dl.dropboxusercontent.com)... 162.125.81.15, 2620:100:6035:15::a27d:550f\n",
            "Connecting to uc940ed7955aef8c826c8e12161e.dl.dropboxusercontent.com (uc940ed7955aef8c826c8e12161e.dl.dropboxusercontent.com)|162.125.81.15|:443... connected.\n",
            "HTTP request sent, awaiting response... 200 OK\n",
            "Length: 6247 (6.1K) [application/binary]\n",
            "Saving to: ‘mieszkania_test.csv’\n",
            "\n",
            "mieszkania_test.csv 100%[===================>]   6.10K  --.-KB/s    in 0s      \n",
            "\n",
            "2021-10-26 22:45:07 (559 MB/s) - ‘mieszkania_test.csv’ saved [6247/6247]\n",
            "\n"
          ]
        }
      ]
    },
    {
      "cell_type": "code",
      "metadata": {
        "id": "yI9wFXv5-EoP",
        "colab": {
          "base_uri": "https://localhost:8080/"
        },
        "outputId": "c830e1ab-56c5-40ba-c63e-6717051ad3e6"
      },
      "source": [
        "!head mieszkania.csv mieszkania_test.csv"
      ],
      "execution_count": 2,
      "outputs": [
        {
          "output_type": "stream",
          "name": "stdout",
          "text": [
            "==> mieszkania.csv <==\n",
            "m2,dzielnica,ilość_sypialni,ilość_łazienek,rok_budowy,parking_podziemny,cena\n",
            "104,mokotowo,2,2,1940,1,780094\n",
            "43,ochotowo,1,1,1970,1,346912\n",
            "128,grodziskowo,3,2,1916,1,523466\n",
            "112,mokotowo,3,2,1920,1,830965\n",
            "149,mokotowo,3,3,1977,0,1090479\n",
            "80,ochotowo,2,2,1937,0,599060\n",
            "58,ochotowo,2,1,1922,0,463639\n",
            "23,ochotowo,1,1,1929,0,166785\n",
            "40,mokotowo,1,1,1973,0,318849\n",
            "\n",
            "==> mieszkania_test.csv <==\n",
            "m2,dzielnica,ilość_sypialni,ilość_łazienek,rok_budowy,parking_podziemny,cena\n",
            "71,wolowo,2,2,1912,1,322227\n",
            "45,mokotowo,1,1,1938,0,295878\n",
            "38,mokotowo,1,1,1999,1,306530\n",
            "70,ochotowo,2,2,1980,1,553641\n",
            "136,mokotowo,3,2,1939,1,985348\n",
            "128,wolowo,3,2,1983,1,695726\n",
            "23,grodziskowo,1,1,1975,0,99751\n",
            "117,mokotowo,3,2,1942,0,891261\n",
            "65,ochotowo,2,1,2002,1,536499\n"
          ]
        }
      ]
    },
    {
      "cell_type": "markdown",
      "metadata": {
        "id": "iH8Ut02G-EoU"
      },
      "source": [
        "Each row in the data represents a separate property. Our goal is to use the data from `mieszkania.csv` to create a model that can predict a property's price (i.e. `cena`) given its features (i.e. `m2,dzielnica,ilosc_sypialni,ilosc_lazienek,rok_budowy,parking_podziemny`). \n",
        "\n",
        "From now on, we should interfere only with `mieszkania.csv` (dubbed the training dataset) to make our decisions and create the model. The (only) purpose of `mieszkania_test.csv` is to test our model on **unseen** data.\n",
        "\n",
        "Our predictions should minimize the so-called mean squared logarithmic error:\n",
        "$$\n",
        "MSLE = \\frac{1}{n} \\sum_{i=1}^n (\\log(1+y_i) - \\log(1+p_i))^2,\n",
        "$$\n",
        "where $y_i$ is the ground truth, and $p_i$ is our prediction."
      ]
    },
    {
      "cell_type": "markdown",
      "metadata": {
        "id": "y8QX6Ncr-EoW"
      },
      "source": [
        "Let's start with implementing the loss function."
      ]
    },
    {
      "cell_type": "code",
      "metadata": {
        "id": "8joblAeq7pji"
      },
      "source": [
        "import pandas as pd\n",
        "import numpy as np"
      ],
      "execution_count": 3,
      "outputs": []
    },
    {
      "cell_type": "code",
      "metadata": {
        "id": "RTX3bF4p8LFz"
      },
      "source": [
        "train = pd.read_csv('mieszkania.csv')\n",
        "test = pd.read_csv('mieszkania_test.csv')\n",
        "\n",
        "total = pd.concat([train,test])\n",
        "\n",
        "total = pd.get_dummies(total, prefix='dzielnica')\n",
        "\n",
        "train = total[:len(train)]\n",
        "test = total[len(train):]"
      ],
      "execution_count": 4,
      "outputs": []
    },
    {
      "cell_type": "code",
      "metadata": {
        "id": "B-v0hl8PyO9q",
        "colab": {
          "base_uri": "https://localhost:8080/",
          "height": 417
        },
        "outputId": "4fe19820-00f7-489d-c9ef-b8fa5cc4fa35"
      },
      "source": [
        "total"
      ],
      "execution_count": 5,
      "outputs": [
        {
          "output_type": "execute_result",
          "data": {
            "text/html": [
              "<div>\n",
              "<style scoped>\n",
              "    .dataframe tbody tr th:only-of-type {\n",
              "        vertical-align: middle;\n",
              "    }\n",
              "\n",
              "    .dataframe tbody tr th {\n",
              "        vertical-align: top;\n",
              "    }\n",
              "\n",
              "    .dataframe thead th {\n",
              "        text-align: right;\n",
              "    }\n",
              "</style>\n",
              "<table border=\"1\" class=\"dataframe\">\n",
              "  <thead>\n",
              "    <tr style=\"text-align: right;\">\n",
              "      <th></th>\n",
              "      <th>m2</th>\n",
              "      <th>ilość_sypialni</th>\n",
              "      <th>ilość_łazienek</th>\n",
              "      <th>rok_budowy</th>\n",
              "      <th>parking_podziemny</th>\n",
              "      <th>cena</th>\n",
              "      <th>dzielnica_grodziskowo</th>\n",
              "      <th>dzielnica_mokotowo</th>\n",
              "      <th>dzielnica_ochotowo</th>\n",
              "      <th>dzielnica_wolowo</th>\n",
              "    </tr>\n",
              "  </thead>\n",
              "  <tbody>\n",
              "    <tr>\n",
              "      <th>0</th>\n",
              "      <td>104</td>\n",
              "      <td>2</td>\n",
              "      <td>2</td>\n",
              "      <td>1940</td>\n",
              "      <td>1</td>\n",
              "      <td>780094</td>\n",
              "      <td>0</td>\n",
              "      <td>1</td>\n",
              "      <td>0</td>\n",
              "      <td>0</td>\n",
              "    </tr>\n",
              "    <tr>\n",
              "      <th>1</th>\n",
              "      <td>43</td>\n",
              "      <td>1</td>\n",
              "      <td>1</td>\n",
              "      <td>1970</td>\n",
              "      <td>1</td>\n",
              "      <td>346912</td>\n",
              "      <td>0</td>\n",
              "      <td>0</td>\n",
              "      <td>1</td>\n",
              "      <td>0</td>\n",
              "    </tr>\n",
              "    <tr>\n",
              "      <th>2</th>\n",
              "      <td>128</td>\n",
              "      <td>3</td>\n",
              "      <td>2</td>\n",
              "      <td>1916</td>\n",
              "      <td>1</td>\n",
              "      <td>523466</td>\n",
              "      <td>1</td>\n",
              "      <td>0</td>\n",
              "      <td>0</td>\n",
              "      <td>0</td>\n",
              "    </tr>\n",
              "    <tr>\n",
              "      <th>3</th>\n",
              "      <td>112</td>\n",
              "      <td>3</td>\n",
              "      <td>2</td>\n",
              "      <td>1920</td>\n",
              "      <td>1</td>\n",
              "      <td>830965</td>\n",
              "      <td>0</td>\n",
              "      <td>1</td>\n",
              "      <td>0</td>\n",
              "      <td>0</td>\n",
              "    </tr>\n",
              "    <tr>\n",
              "      <th>4</th>\n",
              "      <td>149</td>\n",
              "      <td>3</td>\n",
              "      <td>3</td>\n",
              "      <td>1977</td>\n",
              "      <td>0</td>\n",
              "      <td>1090479</td>\n",
              "      <td>0</td>\n",
              "      <td>1</td>\n",
              "      <td>0</td>\n",
              "      <td>0</td>\n",
              "    </tr>\n",
              "    <tr>\n",
              "      <th>...</th>\n",
              "      <td>...</td>\n",
              "      <td>...</td>\n",
              "      <td>...</td>\n",
              "      <td>...</td>\n",
              "      <td>...</td>\n",
              "      <td>...</td>\n",
              "      <td>...</td>\n",
              "      <td>...</td>\n",
              "      <td>...</td>\n",
              "      <td>...</td>\n",
              "    </tr>\n",
              "    <tr>\n",
              "      <th>195</th>\n",
              "      <td>22</td>\n",
              "      <td>1</td>\n",
              "      <td>1</td>\n",
              "      <td>1985</td>\n",
              "      <td>1</td>\n",
              "      <td>146077</td>\n",
              "      <td>0</td>\n",
              "      <td>1</td>\n",
              "      <td>0</td>\n",
              "      <td>0</td>\n",
              "    </tr>\n",
              "    <tr>\n",
              "      <th>196</th>\n",
              "      <td>123</td>\n",
              "      <td>3</td>\n",
              "      <td>2</td>\n",
              "      <td>1986</td>\n",
              "      <td>1</td>\n",
              "      <td>857546</td>\n",
              "      <td>0</td>\n",
              "      <td>1</td>\n",
              "      <td>0</td>\n",
              "      <td>0</td>\n",
              "    </tr>\n",
              "    <tr>\n",
              "      <th>197</th>\n",
              "      <td>89</td>\n",
              "      <td>2</td>\n",
              "      <td>2</td>\n",
              "      <td>1922</td>\n",
              "      <td>1</td>\n",
              "      <td>508225</td>\n",
              "      <td>0</td>\n",
              "      <td>0</td>\n",
              "      <td>0</td>\n",
              "      <td>1</td>\n",
              "    </tr>\n",
              "    <tr>\n",
              "      <th>198</th>\n",
              "      <td>40</td>\n",
              "      <td>1</td>\n",
              "      <td>1</td>\n",
              "      <td>1959</td>\n",
              "      <td>0</td>\n",
              "      <td>208683</td>\n",
              "      <td>0</td>\n",
              "      <td>0</td>\n",
              "      <td>0</td>\n",
              "      <td>1</td>\n",
              "    </tr>\n",
              "    <tr>\n",
              "      <th>199</th>\n",
              "      <td>68</td>\n",
              "      <td>2</td>\n",
              "      <td>1</td>\n",
              "      <td>1927</td>\n",
              "      <td>0</td>\n",
              "      <td>279891</td>\n",
              "      <td>1</td>\n",
              "      <td>0</td>\n",
              "      <td>0</td>\n",
              "      <td>0</td>\n",
              "    </tr>\n",
              "  </tbody>\n",
              "</table>\n",
              "<p>400 rows × 10 columns</p>\n",
              "</div>"
            ],
            "text/plain": [
              "      m2  ilość_sypialni  ...  dzielnica_ochotowo  dzielnica_wolowo\n",
              "0    104               2  ...                   0                 0\n",
              "1     43               1  ...                   1                 0\n",
              "2    128               3  ...                   0                 0\n",
              "3    112               3  ...                   0                 0\n",
              "4    149               3  ...                   0                 0\n",
              "..   ...             ...  ...                 ...               ...\n",
              "195   22               1  ...                   0                 0\n",
              "196  123               3  ...                   0                 0\n",
              "197   89               2  ...                   0                 1\n",
              "198   40               1  ...                   0                 1\n",
              "199   68               2  ...                   0                 0\n",
              "\n",
              "[400 rows x 10 columns]"
            ]
          },
          "metadata": {},
          "execution_count": 5
        }
      ]
    },
    {
      "cell_type": "code",
      "metadata": {
        "id": "JAiB8S9A-EoX"
      },
      "source": [
        "def msle(ys, ps):\n",
        "    assert len(ys) == len(ps)\n",
        "    #################################\n",
        "    # TODO: Implement this function #\n",
        "    #################################\n",
        "    sum = 0\n",
        "    for i in range(len(ys)):\n",
        "        sum += (np.log(1 + ys[i]) - np.log(1 + ps[i])) ** 2\n",
        "    return sum/len(ys)"
      ],
      "execution_count": 6,
      "outputs": []
    },
    {
      "cell_type": "markdown",
      "metadata": {
        "id": "zAmd2qLR-Eob"
      },
      "source": [
        "The simplest model is predicting the same constant for each instance. Test your implementation of msle against outputing the mean price."
      ]
    },
    {
      "cell_type": "code",
      "metadata": {
        "id": "b0RT7VW7-Eoc",
        "colab": {
          "base_uri": "https://localhost:8080/"
        },
        "outputId": "948f8676-e0e8-4884-c69d-fbbbee1c714e"
      },
      "source": [
        "###################################################\n",
        "# TODO: Compute msle for outputing the mean price #\n",
        "###################################################\n",
        "len_train = len(train)\n",
        "len_test = len(test)\n",
        "\n",
        "train_mean = np.mean(train['cena'])\n",
        "msle_train = msle(train['cena'], np.full(len_train, fill_value=train_mean))\n",
        "msle_test = msle(test['cena'], np.full(len_test, fill_value=train_mean))\n",
        "\n",
        "print(f'Training set mean: {train_mean}')\n",
        "print(f'MSLE for training set: {msle_train}')\n",
        "print(f'MSLE for test set: {msle_test}')"
      ],
      "execution_count": 7,
      "outputs": [
        {
          "output_type": "stream",
          "name": "stdout",
          "text": [
            "Training set mean: 507919.49\n",
            "MSLE for training set: 0.3915253538257009\n",
            "MSLE for test set: 0.4284115392580848\n"
          ]
        }
      ]
    },
    {
      "cell_type": "markdown",
      "metadata": {
        "id": "a0zMmTiv-Eof"
      },
      "source": [
        "Recall that outputing the mean minimzes $MSE$. However, we're now dealing with $MSLE$.\n",
        "\n",
        "Think of a constant that should result in the lowest $MSLE$."
      ]
    },
    {
      "cell_type": "code",
      "metadata": {
        "id": "Q0Z4drNd-Eog",
        "colab": {
          "base_uri": "https://localhost:8080/"
        },
        "outputId": "fd99e932-ecba-498c-a354-5b5a483a6931"
      },
      "source": [
        "#############################################\n",
        "# TODO: Find this constant and compute msle #\n",
        "#############################################\n",
        "\n",
        "# log(1 + c) = (log(1+y1) + ... + log(1+yn))/n\n",
        "\n",
        "c = np.exp(np.mean(np.log(1+ train['cena']))) -1\n",
        "msle_train_best = msle(train['cena'], np.full(len_train,c))\n",
        "msle_test_best = msle(test['cena'], np.full(len_test, c))\n",
        "print(f'MSLE for best constant (training set): {msle_train_best}')\n",
        "print(f'MSLE for best constant (test set): {msle_test_best}')"
      ],
      "execution_count": 8,
      "outputs": [
        {
          "output_type": "stream",
          "name": "stdout",
          "text": [
            "MSLE for best constant (training set): 0.3648896122133587\n",
            "MSLE for best constant (test set): 0.42757520337601745\n"
          ]
        }
      ]
    },
    {
      "cell_type": "markdown",
      "metadata": {
        "id": "2RdHlBw8-Eoi"
      },
      "source": [
        "Now, let's implement a standard linear regression model. "
      ]
    },
    {
      "cell_type": "code",
      "metadata": {
        "id": "cfVnA5537h1T"
      },
      "source": [
        "def generate_sets(train, test):\n",
        "\n",
        "  train_y = train['cena'].to_numpy()\n",
        "  test_y = test['cena'].to_numpy()\n",
        "\n",
        "  train_x = train.drop('cena', axis=1)\n",
        "  test_x = test.drop('cena', axis=1)\n",
        "\n",
        "  mean = train_x.mean().to_numpy()\n",
        "  std = train_x.std().to_numpy()\n",
        "\n",
        "  # scaling and centralizing \n",
        "  train_x = (train_x - mean) / std\n",
        "  # adding bias\n",
        "  train_x = np.hstack((np.ones_like(train_x), train_x))\n",
        "\n",
        "\n",
        "  # scaling and centralizing \n",
        "  test_x = (test_x - mean) / std\n",
        "  # adding bias\n",
        "  test_x = np.hstack((np.ones_like(test_x), test_x))\n",
        "\n",
        "  return train_x, train_y, test_x, test_y\n",
        "\n",
        "  \n",
        "train_x, train_y, test_x, test_y = generate_sets(train, test)"
      ],
      "execution_count": 9,
      "outputs": []
    },
    {
      "cell_type": "code",
      "metadata": {
        "id": "Vn97D3vd-Eoj"
      },
      "source": [
        "##########################################################\n",
        "# TODO: Implement linear regression and compute its msle #\n",
        "##########################################################\n",
        "\n",
        "class Linear_Regression:\n",
        "  def __init__(self, lr, n_epoch, n):\n",
        "    self.lr = lr\n",
        "    self.n_epoch = n_epoch\n",
        "    self.n = n\n",
        "\n",
        "  def evaluate(self, weights, x, y):\n",
        "    predictions = np.dot(x, weights)\n",
        "    return np.mean((y - predictions)**2)\n",
        "\n",
        "  def fit(self, x, y):\n",
        "    # better initialization with weights from normal distributions\n",
        "    weights = np.random.normal(size=x.shape[1])\n",
        "\n",
        "    for i in range(self.n_epoch):\n",
        "      preds = np.dot(x, weights)\n",
        "      gradient = (2/self.n) * np.dot(x.T, preds - y)\n",
        "      weights -= self.lr * gradient\n",
        "\n",
        "      if i % 10000 == 0:\n",
        "        loss = self.evaluate(weights, x, y)\n",
        "        print(f'Iter: {i}      Loss:{round(loss, 4)}')\n",
        "    \n",
        "    return weights"
      ],
      "execution_count": 10,
      "outputs": []
    },
    {
      "cell_type": "code",
      "metadata": {
        "id": "N1BY4PZTBXWe",
        "colab": {
          "base_uri": "https://localhost:8080/"
        },
        "outputId": "7c68a882-b5d6-491f-fad5-8065f8997d5e"
      },
      "source": [
        "lin_reg = Linear_Regression(0.001, 100000, len(train_y))\n",
        "lin_reg_weights = lin_reg.fit(train_x, train_y)\n",
        "preds_lin_reg = np.dot(test_x, lin_reg_weights)\n",
        "print(f'MSLE for regression: {msle(test_y, preds_lin_reg)}')"
      ],
      "execution_count": 11,
      "outputs": [
        {
          "output_type": "stream",
          "name": "stdout",
          "text": [
            "Iter: 0      Loss:321878222932.3198\n",
            "Iter: 10000      Loss:4158726525.2437\n",
            "Iter: 20000      Loss:3910095338.4214\n",
            "Iter: 30000      Loss:3874334405.6763\n",
            "Iter: 40000      Loss:3869190073.4119\n",
            "Iter: 50000      Loss:3868450043.566\n",
            "Iter: 60000      Loss:3868343587.7337\n",
            "Iter: 70000      Loss:3868328273.6969\n",
            "Iter: 80000      Loss:3868326070.7202\n",
            "Iter: 90000      Loss:3868325753.8144\n",
            "MSLE for regression: 0.18097954587280274\n"
          ]
        }
      ]
    },
    {
      "cell_type": "markdown",
      "metadata": {
        "id": "nzrrOte5-Eol"
      },
      "source": [
        "Note that the loss function that the algorithms optimizes (i.e $MSE$) differs from $MSLE$. We've already seen that this may result in a suboptimal solution.\n",
        "\n",
        "How can you change the setting so that we optimze $MSLE$ instead?"
      ]
    },
    {
      "cell_type": "markdown",
      "metadata": {
        "id": "qVD8kWEJ-Eom"
      },
      "source": [
        "Hint: \n",
        "<sub><sup><sub><sup><sub><sup>\n",
        "Be lazy. We don't want to change the algorithm.\n",
        "</sup></sub></sup></sub></sup></sub>"
      ]
    },
    {
      "cell_type": "code",
      "metadata": {
        "id": "MniIPMg8-Eom",
        "colab": {
          "base_uri": "https://localhost:8080/"
        },
        "outputId": "5a13f701-a74e-449e-fadf-037397a7baa2"
      },
      "source": [
        "#############################################\n",
        "# TODO: Optimize msle and compare the error #\n",
        "#############################################\n",
        "lin_reg_weights_log = lin_reg.fit(train_x, np.log(train_y + 1))\n",
        "preds_lin_reg_log = np.expm1(np.dot(test_x, lin_reg_weights_log))\n",
        "print(f'MSLE for regression: {msle(test_y, preds_lin_reg_log)}')"
      ],
      "execution_count": 12,
      "outputs": [
        {
          "output_type": "stream",
          "name": "stdout",
          "text": [
            "Iter: 0      Loss:211.2113\n",
            "Iter: 10000      Loss:0.0351\n",
            "Iter: 20000      Loss:0.0309\n",
            "Iter: 30000      Loss:0.0303\n",
            "Iter: 40000      Loss:0.0303\n",
            "Iter: 50000      Loss:0.0302\n",
            "Iter: 60000      Loss:0.0302\n",
            "Iter: 70000      Loss:0.0302\n",
            "Iter: 80000      Loss:0.0302\n",
            "Iter: 90000      Loss:0.0302\n",
            "MSLE for regression: 0.036568941492113705\n"
          ]
        }
      ]
    },
    {
      "cell_type": "markdown",
      "metadata": {
        "id": "OvWrBkLu-Eoo"
      },
      "source": [
        "Without any feature engineering our model approximates the price as a linear combination of original features:\n",
        "$$\n",
        "\\text{price} \\approx w_1 \\cdot \\text{area} + w_2 \\cdot \\text{district} + \\dots.\n",
        "$$\n",
        "Let's now introduce some interactions between the variables. For instance, let's consider a following formula:\n",
        "$$\n",
        "\\text{price} \\approx w_1 \\cdot \\text{area} \\cdot \\text{avg. price in the district per sq. meter} + w_2 \\cdot \\dots + \\dots.\n",
        "$$\n",
        "Here, we model the price with far greater granularity, and we may expect to see more acurate results."
      ]
    },
    {
      "cell_type": "markdown",
      "metadata": {
        "id": "zBM60E7t-Eop"
      },
      "source": [
        "Add some feature engineering to your model. Be sure to play with the data and not with the algorithm's code. \n",
        "\n",
        "Think how to make sure that your model is capable of capturing the $w_1 \\cdot \\text{area} \\cdot \\text{avg. price...}$ part, without actually computing the averages."
      ]
    },
    {
      "cell_type": "markdown",
      "metadata": {
        "id": "XT5DziNC-Eoq"
      },
      "source": [
        "Hint: \n",
        "<sub><sup><sub><sup><sub><sup>\n",
        "Is having a binary encoding for each district and multiplying it by area enough?\n",
        "</sup></sub></sup></sub></sup></sub>"
      ]
    },
    {
      "cell_type": "markdown",
      "metadata": {
        "id": "PKOVCHNz-Eor"
      },
      "source": [
        "Hint 2: \n",
        "<sub><sup><sub><sup><sub><sup>\n",
        "Why not multiply everything together? I.e. (A,B,C) -> (AB,AC,BC).\n",
        "</sup></sub></sup></sub></sup></sub>"
      ]
    },
    {
      "cell_type": "code",
      "metadata": {
        "id": "DPviz09O-Eor"
      },
      "source": [
        "###############################################\n",
        "# TODO: Implement the feature engineering part #\n",
        "###############################################\n",
        "from itertools import permutations\n",
        "\n",
        "def multiply_columns(df):\n",
        "  for a,b in permutations(df.keys(), 2):\n",
        "    df[a + '_' + b] = df[a] * df[b]\n",
        "  return df"
      ],
      "execution_count": 13,
      "outputs": []
    },
    {
      "cell_type": "code",
      "metadata": {
        "id": "v2Lj1TPr-Eot"
      },
      "source": [
        "##############################################################\n",
        "# TODO: Test your solution on the training and test datasets #\n",
        "##############################################################\n",
        "cols = list(train.columns)\n",
        "cols.remove('cena')\n",
        "\n",
        "train_to_multiply = train[cols]\n",
        "test_to_multiply = test[cols]"
      ],
      "execution_count": 14,
      "outputs": []
    },
    {
      "cell_type": "code",
      "metadata": {
        "id": "c2wzAREwR6mW"
      },
      "source": [
        "mean = train_to_multiply.mean()\n",
        "std = train_to_multiply.std()\n",
        "\n",
        "# scaling and centralizing \n",
        "train_to_multiply = (train_to_multiply - mean) / std\n"
      ],
      "execution_count": 15,
      "outputs": []
    },
    {
      "cell_type": "code",
      "metadata": {
        "id": "y9vaKkFdUqUO"
      },
      "source": [
        "multi_train = multiply_columns(train_to_multiply)\n",
        "multi_train_x = multi_train.to_numpy()\n",
        "multi_train_x = np.hstack((np.ones_like(multi_train_x), multi_train_x))"
      ],
      "execution_count": 16,
      "outputs": []
    },
    {
      "cell_type": "code",
      "metadata": {
        "id": "LgVvTgUZlaoU"
      },
      "source": [
        "# scaling and centralizing \n",
        "test_to_multiply = (test_to_multiply - mean) / std\n",
        "\n",
        "\n",
        "multi_test = multiply_columns(test_to_multiply)\n",
        "multi_test_x = multi_test.to_numpy()\n",
        "multi_test_x = np.hstack((np.ones_like(multi_test_x), multi_test_x))"
      ],
      "execution_count": 17,
      "outputs": []
    },
    {
      "cell_type": "code",
      "metadata": {
        "colab": {
          "base_uri": "https://localhost:8080/"
        },
        "id": "JR1GM5kniJ4P",
        "outputId": "d98e3cdf-52cc-4837-a1d1-cdfa92000e61"
      },
      "source": [
        "weights_multi = lin_reg.fit(multi_train_x, np.log(train_y + 1))"
      ],
      "execution_count": 18,
      "outputs": [
        {
          "output_type": "stream",
          "name": "stdout",
          "text": [
            "Iter: 0      Loss:227.2403\n",
            "Iter: 10000      Loss:0.0203\n",
            "Iter: 20000      Loss:0.0079\n",
            "Iter: 30000      Loss:0.0071\n",
            "Iter: 40000      Loss:0.0069\n",
            "Iter: 50000      Loss:0.0069\n",
            "Iter: 60000      Loss:0.0069\n",
            "Iter: 70000      Loss:0.0069\n",
            "Iter: 80000      Loss:0.0069\n",
            "Iter: 90000      Loss:0.0069\n"
          ]
        }
      ]
    },
    {
      "cell_type": "code",
      "metadata": {
        "colab": {
          "base_uri": "https://localhost:8080/"
        },
        "id": "xaLOcDWwl5R4",
        "outputId": "3fa22580-11a4-47d5-9834-e1dd64f7f286"
      },
      "source": [
        "multi_preds = np.expm1(np.dot(multi_test_x, weights_multi))\n",
        "\n",
        "print(f'MSLE with multiplication: {msle(test_y, multi_preds)}')"
      ],
      "execution_count": 19,
      "outputs": [
        {
          "output_type": "stream",
          "name": "stdout",
          "text": [
            "MSLE with multiplication: 0.019056074041513972\n"
          ]
        }
      ]
    },
    {
      "cell_type": "markdown",
      "metadata": {
        "id": "Xbu_54WWSntR"
      },
      "source": [
        "# Validation and cross-validation \n",
        "\n",
        "In this exercise you will implement a validation pipeline. \n",
        "\n",
        "At the end of the MSLE exercise you tested your model against the training and test datasets. As you should observe, there's a gap between the results. By validating your model, not only should you be able to anticipate the test time performance, but also have a method to compare different models.\n",
        "\n",
        "Implement the basic validation method, i.e. a random split. Test it with your model from Exercise MSLE."
      ]
    },
    {
      "cell_type": "code",
      "metadata": {
        "id": "9yvZsQ0ZSrMa"
      },
      "source": [
        "#######################################################\n",
        "# TODO: Implement the basic validation method,        # \n",
        "# compare MSLE on training, validation, and test sets #\n",
        "#######################################################\n",
        "from sklearn.utils import shuffle\n",
        "\n",
        "def random_split(x, y, percent_of_validation):\n",
        "  assert len(x) == len(y)\n",
        "  assert percent_of_validation >= 0 and percent_of_validation <= 1\n",
        "\n",
        "  x, y = shuffle(x,y)\n",
        "  tear = int(len(x) * percent_of_validation)\n",
        "  return x[:tear], y[:tear], x[(tear - len(x)):], y[(tear - len(x)):]"
      ],
      "execution_count": 20,
      "outputs": []
    },
    {
      "cell_type": "code",
      "metadata": {
        "colab": {
          "base_uri": "https://localhost:8080/"
        },
        "id": "GGjMBF75rh0j",
        "outputId": "cd071c59-1cb1-4c66-cf54-e0a9290dcbb8"
      },
      "source": [
        "for i in range(5):\n",
        "  train_x_split, train_y_split, valid_x_split, valid_y_split = random_split(train_x, train_y, 0.2)\n",
        "  W_log = lin_reg.fit(train_x_split, np.log(1 + train_y_split))\n",
        "  print(f'MSLE on validation: {msle(valid_y_split, np.expm1(np.dot(valid_x_split,W_log)))}')\n",
        "  print(f'MSLE on test: {msle(test_y, np.expm1(test_x @ W_log))}')"
      ],
      "execution_count": 21,
      "outputs": [
        {
          "output_type": "stream",
          "name": "stdout",
          "text": [
            "Iter: 0      Loss:177.0769\n",
            "Iter: 10000      Loss:0.0902\n",
            "Iter: 20000      Loss:0.061\n",
            "Iter: 30000      Loss:0.051\n",
            "Iter: 40000      Loss:0.0452\n",
            "Iter: 50000      Loss:0.0411\n",
            "Iter: 60000      Loss:0.038\n",
            "Iter: 70000      Loss:0.0356\n",
            "Iter: 80000      Loss:0.0338\n",
            "Iter: 90000      Loss:0.0323\n",
            "MSLE on validation: 0.042290688524348904\n",
            "MSLE on test: 0.046315312508360656\n",
            "Iter: 0      Loss:123.1356\n",
            "Iter: 10000      Loss:0.0346\n",
            "Iter: 20000      Loss:0.0331\n",
            "Iter: 30000      Loss:0.0321\n",
            "Iter: 40000      Loss:0.0313\n",
            "Iter: 50000      Loss:0.0307\n",
            "Iter: 60000      Loss:0.0302\n",
            "Iter: 70000      Loss:0.0299\n",
            "Iter: 80000      Loss:0.0297\n",
            "Iter: 90000      Loss:0.0295\n",
            "MSLE on validation: 0.03295356846071555\n",
            "MSLE on test: 0.03432851683522023\n",
            "Iter: 0      Loss:66.6381\n",
            "Iter: 10000      Loss:0.4326\n",
            "Iter: 20000      Loss:0.268\n",
            "Iter: 30000      Loss:0.195\n",
            "Iter: 40000      Loss:0.1526\n",
            "Iter: 50000      Loss:0.1236\n",
            "Iter: 60000      Loss:0.1023\n",
            "Iter: 70000      Loss:0.0863\n",
            "Iter: 80000      Loss:0.0742\n",
            "Iter: 90000      Loss:0.065\n",
            "MSLE on validation: 0.06972900902682716\n",
            "MSLE on test: 0.06505694603879918\n",
            "Iter: 0      Loss:101.3113\n",
            "Iter: 10000      Loss:0.0996\n",
            "Iter: 20000      Loss:0.0549\n",
            "Iter: 30000      Loss:0.0389\n",
            "Iter: 40000      Loss:0.0316\n",
            "Iter: 50000      Loss:0.0276\n",
            "Iter: 60000      Loss:0.0249\n",
            "Iter: 70000      Loss:0.023\n",
            "Iter: 80000      Loss:0.0216\n",
            "Iter: 90000      Loss:0.0205\n",
            "MSLE on validation: 0.048126041440278856\n",
            "MSLE on test: 0.05925895281087026\n",
            "Iter: 0      Loss:187.0393\n",
            "Iter: 10000      Loss:0.0542\n",
            "Iter: 20000      Loss:0.0265\n",
            "Iter: 30000      Loss:0.0228\n",
            "Iter: 40000      Loss:0.0221\n",
            "Iter: 50000      Loss:0.0219\n",
            "Iter: 60000      Loss:0.0218\n",
            "Iter: 70000      Loss:0.0218\n",
            "Iter: 80000      Loss:0.0218\n",
            "Iter: 90000      Loss:0.0218\n",
            "MSLE on validation: 0.04221808371370981\n",
            "MSLE on test: 0.040846728544706855\n"
          ]
        }
      ]
    },
    {
      "cell_type": "markdown",
      "metadata": {
        "id": "Y2BBCJjsSsAu"
      },
      "source": [
        "To make the random split validation reliable, a huge chunk of training data may be needed. To get over this problem, one may apply cross-validaiton.\n",
        "\n",
        "![alt-text](https://chrisjmccormick.files.wordpress.com/2013/07/10_fold_cv.png)"
      ]
    },
    {
      "cell_type": "markdown",
      "metadata": {
        "id": "AkXAEHf8SxFk"
      },
      "source": [
        "Let's now implement the method. Make sure that:\n",
        "* number of partitions is a parameter,\n",
        "* the method is not limited to `mieszkania.csv`,\n",
        "* the method is not limited to one specific model."
      ]
    },
    {
      "cell_type": "code",
      "metadata": {
        "id": "9_djEwm0SyRv"
      },
      "source": [
        "####################################\n",
        "# TODO: Implement cross-validation # \n",
        "####################################\n",
        "def cross_validation(x, y, k):\n",
        "  indexes = np.random.permutation(len(x))\n",
        "\n",
        "  size_of_chunk = int(len(x) / k)\n",
        "\n",
        "  losses = []\n",
        "\n",
        "  x = x[indexes]\n",
        "  y = y[indexes]\n",
        "  for i in range(k):\n",
        "    chunk_x = x[size_of_chunk * i : size_of_chunk * (i + 1)]\n",
        "    chunk_y = y[size_of_chunk * i : size_of_chunk * (i + 1)]\n",
        "    rest_x = np.concatenate([x[: size_of_chunk * i], x[size_of_chunk * (i + 1):]])\n",
        "    rest_y = np.concatenate([y[: size_of_chunk * i], y[size_of_chunk * (i + 1):]])\n",
        "\n",
        "    weights = lin_reg.fit(rest_x, np.log(1 + rest_y))\n",
        "    losses.append(msle(chunk_y, np.expm1(np.dot(chunk_x, weights))))\n",
        "\n",
        "  loss = np.mean(losses)\n",
        "  return loss\n",
        "  "
      ],
      "execution_count": 28,
      "outputs": []
    },
    {
      "cell_type": "code",
      "metadata": {
        "colab": {
          "base_uri": "https://localhost:8080/"
        },
        "id": "p3TmE2cpxita",
        "outputId": "16f8344c-b08f-497e-90b1-92a8c8fbccd8"
      },
      "source": [
        "print(cross_validation(train_x, train_y, 5))"
      ],
      "execution_count": 29,
      "outputs": [
        {
          "output_type": "stream",
          "name": "stdout",
          "text": [
            "Iter: 0      Loss:197.68\n",
            "Iter: 10000      Loss:0.0308\n",
            "Iter: 20000      Loss:0.0302\n",
            "Iter: 30000      Loss:0.0302\n",
            "Iter: 40000      Loss:0.0301\n",
            "Iter: 50000      Loss:0.0301\n",
            "Iter: 60000      Loss:0.0301\n",
            "Iter: 70000      Loss:0.0301\n",
            "Iter: 80000      Loss:0.0301\n",
            "Iter: 90000      Loss:0.0301\n",
            "Iter: 0      Loss:175.1944\n",
            "Iter: 10000      Loss:0.0469\n",
            "Iter: 20000      Loss:0.0338\n",
            "Iter: 30000      Loss:0.0309\n",
            "Iter: 40000      Loss:0.0303\n",
            "Iter: 50000      Loss:0.0301\n",
            "Iter: 60000      Loss:0.0301\n",
            "Iter: 70000      Loss:0.0301\n",
            "Iter: 80000      Loss:0.0301\n",
            "Iter: 90000      Loss:0.0301\n",
            "Iter: 0      Loss:147.0709\n",
            "Iter: 10000      Loss:0.0341\n",
            "Iter: 20000      Loss:0.0295\n",
            "Iter: 30000      Loss:0.0285\n",
            "Iter: 40000      Loss:0.0284\n",
            "Iter: 50000      Loss:0.0283\n",
            "Iter: 60000      Loss:0.0283\n",
            "Iter: 70000      Loss:0.0283\n",
            "Iter: 80000      Loss:0.0283\n",
            "Iter: 90000      Loss:0.0283\n",
            "Iter: 0      Loss:176.4192\n",
            "Iter: 10000      Loss:0.0445\n",
            "Iter: 20000      Loss:0.0342\n",
            "Iter: 30000      Loss:0.0319\n",
            "Iter: 40000      Loss:0.0313\n",
            "Iter: 50000      Loss:0.0312\n",
            "Iter: 60000      Loss:0.0312\n",
            "Iter: 70000      Loss:0.0312\n",
            "Iter: 80000      Loss:0.0312\n",
            "Iter: 90000      Loss:0.0312\n",
            "Iter: 0      Loss:277.1016\n",
            "Iter: 10000      Loss:0.0308\n",
            "Iter: 20000      Loss:0.03\n",
            "Iter: 30000      Loss:0.03\n",
            "Iter: 40000      Loss:0.03\n",
            "Iter: 50000      Loss:0.03\n",
            "Iter: 60000      Loss:0.03\n",
            "Iter: 70000      Loss:0.03\n",
            "Iter: 80000      Loss:0.03\n",
            "Iter: 90000      Loss:0.03\n",
            "0.033015562223606076\n"
          ]
        }
      ]
    },
    {
      "cell_type": "markdown",
      "metadata": {
        "id": "BGDNHt4fS1Mc"
      },
      "source": [
        "Recall that sometimes validation may be tricky, e.g. significant class imbalance, having a small number of subjects, geographically clustered instances...\n",
        "\n",
        "What could in theory go wrong here with random, unstratified partitions? Think about potential solutions and investigate the data in order to check whether these problems arise here."
      ]
    },
    {
      "cell_type": "code",
      "metadata": {
        "id": "s7EVFkcYS3D3",
        "colab": {
          "base_uri": "https://localhost:8080/",
          "height": 697
        },
        "outputId": "b5404167-4986-4896-f3da-7d0f7ae1c613"
      },
      "source": [
        "##############################\n",
        "# TODO: Investigate the data #\n",
        "##############################\n",
        "\n",
        "import matplotlib.pyplot as plt\n",
        "\n",
        "plt.figure(figsize = (12, 15))\n",
        "\n",
        "plt.subplot(4, 2, 1)\n",
        "plt.hist(total['m2'])\n",
        "plt.title('m2')\n",
        "\n",
        "plt.subplot(4, 2, 2)\n",
        "plt.hist(total['ilość_łazienek'])\n",
        "plt.title('Łazienki')\n",
        "\n",
        "plt.subplot(4, 2, 3)\n",
        "plt.hist(total['ilość_sypialni'])\n",
        "plt.title('sypialnie')\n",
        "\n",
        "plt.subplot(4,2,4)\n",
        "plt.hist(total['parking_podziemny'])\n",
        "plt.title('parking')\n",
        "\n",
        "plt.subplot(4, 2, 5)\n",
        "plt.hist(total['rok_budowy'])\n",
        "plt.title('rok budowy')\n",
        "\n",
        "plt.subplot(4, 2, 6)\n",
        "plt.hist(total['cena'])\n",
        "plt.title('cena')"
      ],
      "execution_count": 30,
      "outputs": [
        {
          "output_type": "execute_result",
          "data": {
            "text/plain": [
              "Text(0.5, 1.0, 'cena')"
            ]
          },
          "metadata": {},
          "execution_count": 30
        },
        {
          "output_type": "display_data",
          "data": {
            "image/png": "[encoded data removed]",
            "text/plain": [
              "<Figure size 864x1080 with 6 Axes>"
            ]
          },
          "metadata": {
            "needs_background": "light"
          }
        }
      ]
    },
    {
      "cell_type": "code",
      "metadata": {
        "colab": {
          "base_uri": "https://localhost:8080/",
          "height": 754
        },
        "id": "VrWoH7fpy4Jc",
        "outputId": "7be2e146-d5d7-43e6-8153-d6c6d2c0b74d"
      },
      "source": [
        "_ = plt.figure(figsize = (10, 10))\n",
        "\n",
        "plt.subplot(2, 2, 1)\n",
        "_ = plt.boxplot([train['cena'].loc[train['ilość_łazienek'] == 1],\n",
        "             train['cena'].loc[train['ilość_łazienek'] == 2],\n",
        "             train['cena'].loc[train['ilość_łazienek'] == 3]])\n",
        "plt.xlabel('ilość łazienek')\n",
        "plt.ylabel('cena')\n",
        "\n",
        "plt.subplot(2, 2, 2)\n",
        "_ = plt.boxplot([train['cena'].loc[train['ilość_sypialni'] == 1],\n",
        "             train['cena'].loc[train['ilość_sypialni'] == 2],\n",
        "             train['cena'].loc[train['ilość_sypialni'] == 3]])\n",
        "plt.xlabel('ilość sypialni')\n",
        "plt.ylabel('cena')\n",
        "\n",
        "plt.subplot(2, 2, 3)\n",
        "_ = plt.boxplot([train['cena'].loc[train['parking_podziemny'] == 0],\n",
        "             train['cena'].loc[train['parking_podziemny'] == 1]])\n",
        "plt.xlabel('parking')\n",
        "plt.ylabel('cena')"
      ],
      "execution_count": 31,
      "outputs": [
        {
          "output_type": "stream",
          "name": "stderr",
          "text": [
            "/usr/local/lib/python3.7/dist-packages/numpy/core/_asarray.py:83: VisibleDeprecationWarning: Creating an ndarray from ragged nested sequences (which is a list-or-tuple of lists-or-tuples-or ndarrays with different lengths or shapes) is deprecated. If you meant to do this, you must specify 'dtype=object' when creating the ndarray\n",
            "  return array(a, dtype, copy=False, order=order)\n",
            "/usr/local/lib/python3.7/dist-packages/numpy/core/_asarray.py:83: VisibleDeprecationWarning: Creating an ndarray from ragged nested sequences (which is a list-or-tuple of lists-or-tuples-or ndarrays with different lengths or shapes) is deprecated. If you meant to do this, you must specify 'dtype=object' when creating the ndarray\n",
            "  return array(a, dtype, copy=False, order=order)\n",
            "/usr/local/lib/python3.7/dist-packages/numpy/core/_asarray.py:83: VisibleDeprecationWarning: Creating an ndarray from ragged nested sequences (which is a list-or-tuple of lists-or-tuples-or ndarrays with different lengths or shapes) is deprecated. If you meant to do this, you must specify 'dtype=object' when creating the ndarray\n",
            "  return array(a, dtype, copy=False, order=order)\n"
          ]
        },
        {
          "output_type": "execute_result",
          "data": {
            "text/plain": [
              "Text(0, 0.5, 'cena')"
            ]
          },
          "metadata": {},
          "execution_count": 31
        },
        {
          "output_type": "display_data",
          "data": {
            "image/png": "[encoded data removed]",
            "text/plain": [
              "<Figure size 720x720 with 3 Axes>"
            ]
          },
          "metadata": {
            "needs_background": "light"
          }
        }
      ]
    }
  ]
}